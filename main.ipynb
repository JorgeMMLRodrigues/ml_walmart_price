{
 "cells": [
  {
   "cell_type": "code",
   "execution_count": 1,
   "id": "6701bea9",
   "metadata": {},
   "outputs": [],
   "source": [
    "import pandas as pd\n",
    "import numpy as np\n",
    "import requests\n",
    "from dotenv import load_dotenv\n",
    "import os\n",
    "import json\n",
    "import time\n",
    "from datetime import date, datetime, timedelta\n",
    "from dateutil.easter import easter\n",
    "\n",
    "import matplotlib as plt\n",
    "import seaborn as sns\n",
    "\n",
    "#! pip install yfinance\n",
    "import yfinance as yf\n",
    "\n",
    "#!pip install akshare\n",
    "import akshare as ak\n",
    "\n",
    "#!pip install pandas pandas-datareader\n",
    "from pandas_datareader.data import DataReader\n",
    "from pandas_datareader import wb\n",
    "\n"
   ]
  },
  {
   "cell_type": "code",
   "execution_count": 2,
   "id": "e83caba5",
   "metadata": {},
   "outputs": [],
   "source": [
    "# skip cells:\n",
    "from IPython.core.magic import register_cell_magic\n",
    "\n",
    "@register_cell_magic\n",
    "def skip(line, cell):\n",
    "\n",
    "    return"
   ]
  },
  {
   "cell_type": "markdown",
   "id": "b6ecb136",
   "metadata": {},
   "source": [
    "# Data"
   ]
  },
  {
   "cell_type": "markdown",
   "id": "73590342",
   "metadata": {},
   "source": [
    "## Data Exploration"
   ]
  },
  {
   "cell_type": "code",
   "execution_count": 3,
   "id": "aca79ac9",
   "metadata": {},
   "outputs": [],
   "source": [
    "df_walmart_train = pd.read_csv('csv_files/walmart_data/train.csv')\n",
    "df_walmart_test = pd.read_csv('csv_files/walmart_data/test.csv')\n",
    "df_walmart_features = pd.read_csv('csv_files/walmart_data/features.csv')\n",
    "df_walmart_stores = pd.read_csv('csv_files/walmart_data/stores.csv')\n",
    "\n",
    "df_walmart_train[\"Date\"] = pd.to_datetime(df_walmart_train[\"Date\"], errors=\"raise\")\n",
    "df_walmart_test[\"Date\"] = pd.to_datetime(df_walmart_test[\"Date\"], errors=\"raise\")\n",
    "df_walmart_features[\"Date\"] = pd.to_datetime(df_walmart_features[\"Date\"], errors=\"raise\")"
   ]
  },
  {
   "cell_type": "code",
   "execution_count": 4,
   "id": "5231e068",
   "metadata": {},
   "outputs": [
    {
     "data": {
      "application/vnd.microsoft.datawrangler.viewer.v0+json": {
       "columns": [
        {
         "name": "index",
         "rawType": "int64",
         "type": "integer"
        },
        {
         "name": "Store",
         "rawType": "int64",
         "type": "integer"
        },
        {
         "name": "Dept",
         "rawType": "int64",
         "type": "integer"
        },
        {
         "name": "Date",
         "rawType": "datetime64[ns]",
         "type": "datetime"
        },
        {
         "name": "Weekly_Sales",
         "rawType": "float64",
         "type": "float"
        },
        {
         "name": "IsHoliday",
         "rawType": "bool",
         "type": "boolean"
        }
       ],
       "ref": "83c9d63c-47ba-4661-91b5-b7480dccd4fa",
       "rows": [
        [
         "0",
         "1",
         "1",
         "2010-02-05 00:00:00",
         "24924.5",
         "False"
        ],
        [
         "1",
         "1",
         "1",
         "2010-02-12 00:00:00",
         "46039.49",
         "True"
        ],
        [
         "2",
         "1",
         "1",
         "2010-02-19 00:00:00",
         "41595.55",
         "False"
        ],
        [
         "3",
         "1",
         "1",
         "2010-02-26 00:00:00",
         "19403.54",
         "False"
        ],
        [
         "4",
         "1",
         "1",
         "2010-03-05 00:00:00",
         "21827.9",
         "False"
        ],
        [
         "5",
         "1",
         "1",
         "2010-03-12 00:00:00",
         "21043.39",
         "False"
        ],
        [
         "6",
         "1",
         "1",
         "2010-03-19 00:00:00",
         "22136.64",
         "False"
        ],
        [
         "7",
         "1",
         "1",
         "2010-03-26 00:00:00",
         "26229.21",
         "False"
        ],
        [
         "8",
         "1",
         "1",
         "2010-04-02 00:00:00",
         "57258.43",
         "False"
        ],
        [
         "9",
         "1",
         "1",
         "2010-04-09 00:00:00",
         "42960.91",
         "False"
        ],
        [
         "10",
         "1",
         "1",
         "2010-04-16 00:00:00",
         "17596.96",
         "False"
        ],
        [
         "11",
         "1",
         "1",
         "2010-04-23 00:00:00",
         "16145.35",
         "False"
        ],
        [
         "12",
         "1",
         "1",
         "2010-04-30 00:00:00",
         "16555.11",
         "False"
        ],
        [
         "13",
         "1",
         "1",
         "2010-05-07 00:00:00",
         "17413.94",
         "False"
        ],
        [
         "14",
         "1",
         "1",
         "2010-05-14 00:00:00",
         "18926.74",
         "False"
        ],
        [
         "15",
         "1",
         "1",
         "2010-05-21 00:00:00",
         "14773.04",
         "False"
        ],
        [
         "16",
         "1",
         "1",
         "2010-05-28 00:00:00",
         "15580.43",
         "False"
        ],
        [
         "17",
         "1",
         "1",
         "2010-06-04 00:00:00",
         "17558.09",
         "False"
        ],
        [
         "18",
         "1",
         "1",
         "2010-06-11 00:00:00",
         "16637.62",
         "False"
        ],
        [
         "19",
         "1",
         "1",
         "2010-06-18 00:00:00",
         "16216.27",
         "False"
        ],
        [
         "20",
         "1",
         "1",
         "2010-06-25 00:00:00",
         "16328.72",
         "False"
        ],
        [
         "21",
         "1",
         "1",
         "2010-07-02 00:00:00",
         "16333.14",
         "False"
        ],
        [
         "22",
         "1",
         "1",
         "2010-07-09 00:00:00",
         "17688.76",
         "False"
        ],
        [
         "23",
         "1",
         "1",
         "2010-07-16 00:00:00",
         "17150.84",
         "False"
        ],
        [
         "24",
         "1",
         "1",
         "2010-07-23 00:00:00",
         "15360.45",
         "False"
        ],
        [
         "25",
         "1",
         "1",
         "2010-07-30 00:00:00",
         "15381.82",
         "False"
        ],
        [
         "26",
         "1",
         "1",
         "2010-08-06 00:00:00",
         "17508.41",
         "False"
        ],
        [
         "27",
         "1",
         "1",
         "2010-08-13 00:00:00",
         "15536.4",
         "False"
        ],
        [
         "28",
         "1",
         "1",
         "2010-08-20 00:00:00",
         "15740.13",
         "False"
        ],
        [
         "29",
         "1",
         "1",
         "2010-08-27 00:00:00",
         "15793.87",
         "False"
        ],
        [
         "30",
         "1",
         "1",
         "2010-09-03 00:00:00",
         "16241.78",
         "False"
        ],
        [
         "31",
         "1",
         "1",
         "2010-09-10 00:00:00",
         "18194.74",
         "True"
        ],
        [
         "32",
         "1",
         "1",
         "2010-09-17 00:00:00",
         "19354.23",
         "False"
        ],
        [
         "33",
         "1",
         "1",
         "2010-09-24 00:00:00",
         "18122.52",
         "False"
        ],
        [
         "34",
         "1",
         "1",
         "2010-10-01 00:00:00",
         "20094.19",
         "False"
        ],
        [
         "35",
         "1",
         "1",
         "2010-10-08 00:00:00",
         "23388.03",
         "False"
        ],
        [
         "36",
         "1",
         "1",
         "2010-10-15 00:00:00",
         "26978.34",
         "False"
        ],
        [
         "37",
         "1",
         "1",
         "2010-10-22 00:00:00",
         "25543.04",
         "False"
        ],
        [
         "38",
         "1",
         "1",
         "2010-10-29 00:00:00",
         "38640.93",
         "False"
        ],
        [
         "39",
         "1",
         "1",
         "2010-11-05 00:00:00",
         "34238.88",
         "False"
        ],
        [
         "40",
         "1",
         "1",
         "2010-11-12 00:00:00",
         "19549.39",
         "False"
        ],
        [
         "41",
         "1",
         "1",
         "2010-11-19 00:00:00",
         "19552.84",
         "False"
        ],
        [
         "42",
         "1",
         "1",
         "2010-11-26 00:00:00",
         "18820.29",
         "True"
        ],
        [
         "43",
         "1",
         "1",
         "2010-12-03 00:00:00",
         "22517.56",
         "False"
        ],
        [
         "44",
         "1",
         "1",
         "2010-12-10 00:00:00",
         "31497.65",
         "False"
        ],
        [
         "45",
         "1",
         "1",
         "2010-12-17 00:00:00",
         "44912.86",
         "False"
        ],
        [
         "46",
         "1",
         "1",
         "2010-12-24 00:00:00",
         "55931.23",
         "False"
        ],
        [
         "47",
         "1",
         "1",
         "2010-12-31 00:00:00",
         "19124.58",
         "True"
        ],
        [
         "48",
         "1",
         "1",
         "2011-01-07 00:00:00",
         "15984.24",
         "False"
        ],
        [
         "49",
         "1",
         "1",
         "2011-01-14 00:00:00",
         "17359.7",
         "False"
        ]
       ],
       "shape": {
        "columns": 5,
        "rows": 421570
       }
      },
      "text/html": [
       "<div>\n",
       "<style scoped>\n",
       "    .dataframe tbody tr th:only-of-type {\n",
       "        vertical-align: middle;\n",
       "    }\n",
       "\n",
       "    .dataframe tbody tr th {\n",
       "        vertical-align: top;\n",
       "    }\n",
       "\n",
       "    .dataframe thead th {\n",
       "        text-align: right;\n",
       "    }\n",
       "</style>\n",
       "<table border=\"1\" class=\"dataframe\">\n",
       "  <thead>\n",
       "    <tr style=\"text-align: right;\">\n",
       "      <th></th>\n",
       "      <th>Store</th>\n",
       "      <th>Dept</th>\n",
       "      <th>Date</th>\n",
       "      <th>Weekly_Sales</th>\n",
       "      <th>IsHoliday</th>\n",
       "    </tr>\n",
       "  </thead>\n",
       "  <tbody>\n",
       "    <tr>\n",
       "      <th>0</th>\n",
       "      <td>1</td>\n",
       "      <td>1</td>\n",
       "      <td>2010-02-05</td>\n",
       "      <td>24924.50</td>\n",
       "      <td>False</td>\n",
       "    </tr>\n",
       "    <tr>\n",
       "      <th>1</th>\n",
       "      <td>1</td>\n",
       "      <td>1</td>\n",
       "      <td>2010-02-12</td>\n",
       "      <td>46039.49</td>\n",
       "      <td>True</td>\n",
       "    </tr>\n",
       "    <tr>\n",
       "      <th>2</th>\n",
       "      <td>1</td>\n",
       "      <td>1</td>\n",
       "      <td>2010-02-19</td>\n",
       "      <td>41595.55</td>\n",
       "      <td>False</td>\n",
       "    </tr>\n",
       "    <tr>\n",
       "      <th>3</th>\n",
       "      <td>1</td>\n",
       "      <td>1</td>\n",
       "      <td>2010-02-26</td>\n",
       "      <td>19403.54</td>\n",
       "      <td>False</td>\n",
       "    </tr>\n",
       "    <tr>\n",
       "      <th>4</th>\n",
       "      <td>1</td>\n",
       "      <td>1</td>\n",
       "      <td>2010-03-05</td>\n",
       "      <td>21827.90</td>\n",
       "      <td>False</td>\n",
       "    </tr>\n",
       "    <tr>\n",
       "      <th>...</th>\n",
       "      <td>...</td>\n",
       "      <td>...</td>\n",
       "      <td>...</td>\n",
       "      <td>...</td>\n",
       "      <td>...</td>\n",
       "    </tr>\n",
       "    <tr>\n",
       "      <th>421565</th>\n",
       "      <td>45</td>\n",
       "      <td>98</td>\n",
       "      <td>2012-09-28</td>\n",
       "      <td>508.37</td>\n",
       "      <td>False</td>\n",
       "    </tr>\n",
       "    <tr>\n",
       "      <th>421566</th>\n",
       "      <td>45</td>\n",
       "      <td>98</td>\n",
       "      <td>2012-10-05</td>\n",
       "      <td>628.10</td>\n",
       "      <td>False</td>\n",
       "    </tr>\n",
       "    <tr>\n",
       "      <th>421567</th>\n",
       "      <td>45</td>\n",
       "      <td>98</td>\n",
       "      <td>2012-10-12</td>\n",
       "      <td>1061.02</td>\n",
       "      <td>False</td>\n",
       "    </tr>\n",
       "    <tr>\n",
       "      <th>421568</th>\n",
       "      <td>45</td>\n",
       "      <td>98</td>\n",
       "      <td>2012-10-19</td>\n",
       "      <td>760.01</td>\n",
       "      <td>False</td>\n",
       "    </tr>\n",
       "    <tr>\n",
       "      <th>421569</th>\n",
       "      <td>45</td>\n",
       "      <td>98</td>\n",
       "      <td>2012-10-26</td>\n",
       "      <td>1076.80</td>\n",
       "      <td>False</td>\n",
       "    </tr>\n",
       "  </tbody>\n",
       "</table>\n",
       "<p>421570 rows × 5 columns</p>\n",
       "</div>"
      ],
      "text/plain": [
       "        Store  Dept       Date  Weekly_Sales  IsHoliday\n",
       "0           1     1 2010-02-05      24924.50      False\n",
       "1           1     1 2010-02-12      46039.49       True\n",
       "2           1     1 2010-02-19      41595.55      False\n",
       "3           1     1 2010-02-26      19403.54      False\n",
       "4           1     1 2010-03-05      21827.90      False\n",
       "...       ...   ...        ...           ...        ...\n",
       "421565     45    98 2012-09-28        508.37      False\n",
       "421566     45    98 2012-10-05        628.10      False\n",
       "421567     45    98 2012-10-12       1061.02      False\n",
       "421568     45    98 2012-10-19        760.01      False\n",
       "421569     45    98 2012-10-26       1076.80      False\n",
       "\n",
       "[421570 rows x 5 columns]"
      ]
     },
     "execution_count": 4,
     "metadata": {},
     "output_type": "execute_result"
    }
   ],
   "source": [
    "df_walmart_train"
   ]
  },
  {
   "cell_type": "code",
   "execution_count": 5,
   "id": "a576dec3",
   "metadata": {},
   "outputs": [
    {
     "data": {
      "application/vnd.microsoft.datawrangler.viewer.v0+json": {
       "columns": [
        {
         "name": "index",
         "rawType": "int64",
         "type": "integer"
        },
        {
         "name": "Store",
         "rawType": "int64",
         "type": "integer"
        },
        {
         "name": "Dept",
         "rawType": "int64",
         "type": "integer"
        },
        {
         "name": "Date",
         "rawType": "datetime64[ns]",
         "type": "datetime"
        },
        {
         "name": "IsHoliday",
         "rawType": "bool",
         "type": "boolean"
        }
       ],
       "ref": "d1d8e6ad-1b41-4a26-ad61-f5481f8b0db8",
       "rows": [
        [
         "0",
         "1",
         "1",
         "2012-11-02 00:00:00",
         "False"
        ],
        [
         "1",
         "1",
         "1",
         "2012-11-09 00:00:00",
         "False"
        ],
        [
         "2",
         "1",
         "1",
         "2012-11-16 00:00:00",
         "False"
        ],
        [
         "3",
         "1",
         "1",
         "2012-11-23 00:00:00",
         "True"
        ],
        [
         "4",
         "1",
         "1",
         "2012-11-30 00:00:00",
         "False"
        ],
        [
         "5",
         "1",
         "1",
         "2012-12-07 00:00:00",
         "False"
        ],
        [
         "6",
         "1",
         "1",
         "2012-12-14 00:00:00",
         "False"
        ],
        [
         "7",
         "1",
         "1",
         "2012-12-21 00:00:00",
         "False"
        ],
        [
         "8",
         "1",
         "1",
         "2012-12-28 00:00:00",
         "True"
        ],
        [
         "9",
         "1",
         "1",
         "2013-01-04 00:00:00",
         "False"
        ],
        [
         "10",
         "1",
         "1",
         "2013-01-11 00:00:00",
         "False"
        ],
        [
         "11",
         "1",
         "1",
         "2013-01-18 00:00:00",
         "False"
        ],
        [
         "12",
         "1",
         "1",
         "2013-01-25 00:00:00",
         "False"
        ],
        [
         "13",
         "1",
         "1",
         "2013-02-01 00:00:00",
         "False"
        ],
        [
         "14",
         "1",
         "1",
         "2013-02-08 00:00:00",
         "True"
        ],
        [
         "15",
         "1",
         "1",
         "2013-02-15 00:00:00",
         "False"
        ],
        [
         "16",
         "1",
         "1",
         "2013-02-22 00:00:00",
         "False"
        ],
        [
         "17",
         "1",
         "1",
         "2013-03-01 00:00:00",
         "False"
        ],
        [
         "18",
         "1",
         "1",
         "2013-03-08 00:00:00",
         "False"
        ],
        [
         "19",
         "1",
         "1",
         "2013-03-15 00:00:00",
         "False"
        ],
        [
         "20",
         "1",
         "1",
         "2013-03-22 00:00:00",
         "False"
        ],
        [
         "21",
         "1",
         "1",
         "2013-03-29 00:00:00",
         "False"
        ],
        [
         "22",
         "1",
         "1",
         "2013-04-05 00:00:00",
         "False"
        ],
        [
         "23",
         "1",
         "1",
         "2013-04-12 00:00:00",
         "False"
        ],
        [
         "24",
         "1",
         "1",
         "2013-04-19 00:00:00",
         "False"
        ],
        [
         "25",
         "1",
         "1",
         "2013-04-26 00:00:00",
         "False"
        ],
        [
         "26",
         "1",
         "1",
         "2013-05-03 00:00:00",
         "False"
        ],
        [
         "27",
         "1",
         "1",
         "2013-05-10 00:00:00",
         "False"
        ],
        [
         "28",
         "1",
         "1",
         "2013-05-17 00:00:00",
         "False"
        ],
        [
         "29",
         "1",
         "1",
         "2013-05-24 00:00:00",
         "False"
        ],
        [
         "30",
         "1",
         "1",
         "2013-05-31 00:00:00",
         "False"
        ],
        [
         "31",
         "1",
         "1",
         "2013-06-07 00:00:00",
         "False"
        ],
        [
         "32",
         "1",
         "1",
         "2013-06-14 00:00:00",
         "False"
        ],
        [
         "33",
         "1",
         "1",
         "2013-06-21 00:00:00",
         "False"
        ],
        [
         "34",
         "1",
         "1",
         "2013-06-28 00:00:00",
         "False"
        ],
        [
         "35",
         "1",
         "1",
         "2013-07-05 00:00:00",
         "False"
        ],
        [
         "36",
         "1",
         "1",
         "2013-07-12 00:00:00",
         "False"
        ],
        [
         "37",
         "1",
         "1",
         "2013-07-19 00:00:00",
         "False"
        ],
        [
         "38",
         "1",
         "1",
         "2013-07-26 00:00:00",
         "False"
        ],
        [
         "39",
         "1",
         "2",
         "2012-11-02 00:00:00",
         "False"
        ],
        [
         "40",
         "1",
         "2",
         "2012-11-09 00:00:00",
         "False"
        ],
        [
         "41",
         "1",
         "2",
         "2012-11-16 00:00:00",
         "False"
        ],
        [
         "42",
         "1",
         "2",
         "2012-11-23 00:00:00",
         "True"
        ],
        [
         "43",
         "1",
         "2",
         "2012-11-30 00:00:00",
         "False"
        ],
        [
         "44",
         "1",
         "2",
         "2012-12-07 00:00:00",
         "False"
        ],
        [
         "45",
         "1",
         "2",
         "2012-12-14 00:00:00",
         "False"
        ],
        [
         "46",
         "1",
         "2",
         "2012-12-21 00:00:00",
         "False"
        ],
        [
         "47",
         "1",
         "2",
         "2012-12-28 00:00:00",
         "True"
        ],
        [
         "48",
         "1",
         "2",
         "2013-01-04 00:00:00",
         "False"
        ],
        [
         "49",
         "1",
         "2",
         "2013-01-11 00:00:00",
         "False"
        ]
       ],
       "shape": {
        "columns": 4,
        "rows": 115064
       }
      },
      "text/html": [
       "<div>\n",
       "<style scoped>\n",
       "    .dataframe tbody tr th:only-of-type {\n",
       "        vertical-align: middle;\n",
       "    }\n",
       "\n",
       "    .dataframe tbody tr th {\n",
       "        vertical-align: top;\n",
       "    }\n",
       "\n",
       "    .dataframe thead th {\n",
       "        text-align: right;\n",
       "    }\n",
       "</style>\n",
       "<table border=\"1\" class=\"dataframe\">\n",
       "  <thead>\n",
       "    <tr style=\"text-align: right;\">\n",
       "      <th></th>\n",
       "      <th>Store</th>\n",
       "      <th>Dept</th>\n",
       "      <th>Date</th>\n",
       "      <th>IsHoliday</th>\n",
       "    </tr>\n",
       "  </thead>\n",
       "  <tbody>\n",
       "    <tr>\n",
       "      <th>0</th>\n",
       "      <td>1</td>\n",
       "      <td>1</td>\n",
       "      <td>2012-11-02</td>\n",
       "      <td>False</td>\n",
       "    </tr>\n",
       "    <tr>\n",
       "      <th>1</th>\n",
       "      <td>1</td>\n",
       "      <td>1</td>\n",
       "      <td>2012-11-09</td>\n",
       "      <td>False</td>\n",
       "    </tr>\n",
       "    <tr>\n",
       "      <th>2</th>\n",
       "      <td>1</td>\n",
       "      <td>1</td>\n",
       "      <td>2012-11-16</td>\n",
       "      <td>False</td>\n",
       "    </tr>\n",
       "    <tr>\n",
       "      <th>3</th>\n",
       "      <td>1</td>\n",
       "      <td>1</td>\n",
       "      <td>2012-11-23</td>\n",
       "      <td>True</td>\n",
       "    </tr>\n",
       "    <tr>\n",
       "      <th>4</th>\n",
       "      <td>1</td>\n",
       "      <td>1</td>\n",
       "      <td>2012-11-30</td>\n",
       "      <td>False</td>\n",
       "    </tr>\n",
       "    <tr>\n",
       "      <th>...</th>\n",
       "      <td>...</td>\n",
       "      <td>...</td>\n",
       "      <td>...</td>\n",
       "      <td>...</td>\n",
       "    </tr>\n",
       "    <tr>\n",
       "      <th>115059</th>\n",
       "      <td>45</td>\n",
       "      <td>98</td>\n",
       "      <td>2013-06-28</td>\n",
       "      <td>False</td>\n",
       "    </tr>\n",
       "    <tr>\n",
       "      <th>115060</th>\n",
       "      <td>45</td>\n",
       "      <td>98</td>\n",
       "      <td>2013-07-05</td>\n",
       "      <td>False</td>\n",
       "    </tr>\n",
       "    <tr>\n",
       "      <th>115061</th>\n",
       "      <td>45</td>\n",
       "      <td>98</td>\n",
       "      <td>2013-07-12</td>\n",
       "      <td>False</td>\n",
       "    </tr>\n",
       "    <tr>\n",
       "      <th>115062</th>\n",
       "      <td>45</td>\n",
       "      <td>98</td>\n",
       "      <td>2013-07-19</td>\n",
       "      <td>False</td>\n",
       "    </tr>\n",
       "    <tr>\n",
       "      <th>115063</th>\n",
       "      <td>45</td>\n",
       "      <td>98</td>\n",
       "      <td>2013-07-26</td>\n",
       "      <td>False</td>\n",
       "    </tr>\n",
       "  </tbody>\n",
       "</table>\n",
       "<p>115064 rows × 4 columns</p>\n",
       "</div>"
      ],
      "text/plain": [
       "        Store  Dept       Date  IsHoliday\n",
       "0           1     1 2012-11-02      False\n",
       "1           1     1 2012-11-09      False\n",
       "2           1     1 2012-11-16      False\n",
       "3           1     1 2012-11-23       True\n",
       "4           1     1 2012-11-30      False\n",
       "...       ...   ...        ...        ...\n",
       "115059     45    98 2013-06-28      False\n",
       "115060     45    98 2013-07-05      False\n",
       "115061     45    98 2013-07-12      False\n",
       "115062     45    98 2013-07-19      False\n",
       "115063     45    98 2013-07-26      False\n",
       "\n",
       "[115064 rows x 4 columns]"
      ]
     },
     "execution_count": 5,
     "metadata": {},
     "output_type": "execute_result"
    }
   ],
   "source": [
    "df_walmart_test"
   ]
  },
  {
   "cell_type": "code",
   "execution_count": 6,
   "id": "9fd3115b",
   "metadata": {},
   "outputs": [
    {
     "data": {
      "application/vnd.microsoft.datawrangler.viewer.v0+json": {
       "columns": [
        {
         "name": "index",
         "rawType": "int64",
         "type": "integer"
        },
        {
         "name": "Store",
         "rawType": "int64",
         "type": "integer"
        },
        {
         "name": "Date",
         "rawType": "datetime64[ns]",
         "type": "datetime"
        },
        {
         "name": "Temperature",
         "rawType": "float64",
         "type": "float"
        },
        {
         "name": "Fuel_Price",
         "rawType": "float64",
         "type": "float"
        },
        {
         "name": "MarkDown1",
         "rawType": "float64",
         "type": "float"
        },
        {
         "name": "MarkDown2",
         "rawType": "float64",
         "type": "float"
        },
        {
         "name": "MarkDown3",
         "rawType": "float64",
         "type": "float"
        },
        {
         "name": "MarkDown4",
         "rawType": "float64",
         "type": "float"
        },
        {
         "name": "MarkDown5",
         "rawType": "float64",
         "type": "float"
        },
        {
         "name": "CPI",
         "rawType": "float64",
         "type": "float"
        },
        {
         "name": "Unemployment",
         "rawType": "float64",
         "type": "float"
        },
        {
         "name": "IsHoliday",
         "rawType": "bool",
         "type": "boolean"
        }
       ],
       "ref": "ddf01a1b-9f4a-4f20-abc6-50ed7458b8d2",
       "rows": [
        [
         "0",
         "1",
         "2010-02-05 00:00:00",
         "42.31",
         "2.572",
         null,
         null,
         null,
         null,
         null,
         "211.0963582",
         "8.106",
         "False"
        ],
        [
         "1",
         "1",
         "2010-02-12 00:00:00",
         "38.51",
         "2.548",
         null,
         null,
         null,
         null,
         null,
         "211.2421698",
         "8.106",
         "True"
        ],
        [
         "2",
         "1",
         "2010-02-19 00:00:00",
         "39.93",
         "2.514",
         null,
         null,
         null,
         null,
         null,
         "211.2891429",
         "8.106",
         "False"
        ],
        [
         "3",
         "1",
         "2010-02-26 00:00:00",
         "46.63",
         "2.561",
         null,
         null,
         null,
         null,
         null,
         "211.3196429",
         "8.106",
         "False"
        ],
        [
         "4",
         "1",
         "2010-03-05 00:00:00",
         "46.5",
         "2.625",
         null,
         null,
         null,
         null,
         null,
         "211.3501429",
         "8.106",
         "False"
        ],
        [
         "5",
         "1",
         "2010-03-12 00:00:00",
         "57.79",
         "2.667",
         null,
         null,
         null,
         null,
         null,
         "211.3806429",
         "8.106",
         "False"
        ],
        [
         "6",
         "1",
         "2010-03-19 00:00:00",
         "54.58",
         "2.72",
         null,
         null,
         null,
         null,
         null,
         "211.215635",
         "8.106",
         "False"
        ],
        [
         "7",
         "1",
         "2010-03-26 00:00:00",
         "51.45",
         "2.732",
         null,
         null,
         null,
         null,
         null,
         "211.0180424",
         "8.106",
         "False"
        ],
        [
         "8",
         "1",
         "2010-04-02 00:00:00",
         "62.27",
         "2.719",
         null,
         null,
         null,
         null,
         null,
         "210.8204499",
         "7.808",
         "False"
        ],
        [
         "9",
         "1",
         "2010-04-09 00:00:00",
         "65.86",
         "2.77",
         null,
         null,
         null,
         null,
         null,
         "210.6228574",
         "7.808",
         "False"
        ],
        [
         "10",
         "1",
         "2010-04-16 00:00:00",
         "66.32",
         "2.808",
         null,
         null,
         null,
         null,
         null,
         "210.4887",
         "7.808",
         "False"
        ],
        [
         "11",
         "1",
         "2010-04-23 00:00:00",
         "64.84",
         "2.795",
         null,
         null,
         null,
         null,
         null,
         "210.4391228",
         "7.808",
         "False"
        ],
        [
         "12",
         "1",
         "2010-04-30 00:00:00",
         "67.41",
         "2.78",
         null,
         null,
         null,
         null,
         null,
         "210.3895456",
         "7.808",
         "False"
        ],
        [
         "13",
         "1",
         "2010-05-07 00:00:00",
         "72.55",
         "2.835",
         null,
         null,
         null,
         null,
         null,
         "210.3399684",
         "7.808",
         "False"
        ],
        [
         "14",
         "1",
         "2010-05-14 00:00:00",
         "74.78",
         "2.854",
         null,
         null,
         null,
         null,
         null,
         "210.3374261",
         "7.808",
         "False"
        ],
        [
         "15",
         "1",
         "2010-05-21 00:00:00",
         "76.44",
         "2.826",
         null,
         null,
         null,
         null,
         null,
         "210.6170934",
         "7.808",
         "False"
        ],
        [
         "16",
         "1",
         "2010-05-28 00:00:00",
         "80.44",
         "2.759",
         null,
         null,
         null,
         null,
         null,
         "210.8967606",
         "7.808",
         "False"
        ],
        [
         "17",
         "1",
         "2010-06-04 00:00:00",
         "80.69",
         "2.705",
         null,
         null,
         null,
         null,
         null,
         "211.1764278",
         "7.808",
         "False"
        ],
        [
         "18",
         "1",
         "2010-06-11 00:00:00",
         "80.43",
         "2.668",
         null,
         null,
         null,
         null,
         null,
         "211.4560951",
         "7.808",
         "False"
        ],
        [
         "19",
         "1",
         "2010-06-18 00:00:00",
         "84.11",
         "2.637",
         null,
         null,
         null,
         null,
         null,
         "211.4537719",
         "7.808",
         "False"
        ],
        [
         "20",
         "1",
         "2010-06-25 00:00:00",
         "84.34",
         "2.653",
         null,
         null,
         null,
         null,
         null,
         "211.3386526",
         "7.808",
         "False"
        ],
        [
         "21",
         "1",
         "2010-07-02 00:00:00",
         "80.91",
         "2.669",
         null,
         null,
         null,
         null,
         null,
         "211.2235333",
         "7.787",
         "False"
        ],
        [
         "22",
         "1",
         "2010-07-09 00:00:00",
         "80.48",
         "2.642",
         null,
         null,
         null,
         null,
         null,
         "211.108414",
         "7.787",
         "False"
        ],
        [
         "23",
         "1",
         "2010-07-16 00:00:00",
         "83.15",
         "2.623",
         null,
         null,
         null,
         null,
         null,
         "211.1003854",
         "7.787",
         "False"
        ],
        [
         "24",
         "1",
         "2010-07-23 00:00:00",
         "83.36",
         "2.608",
         null,
         null,
         null,
         null,
         null,
         "211.2351443",
         "7.787",
         "False"
        ],
        [
         "25",
         "1",
         "2010-07-30 00:00:00",
         "81.84",
         "2.64",
         null,
         null,
         null,
         null,
         null,
         "211.3699032",
         "7.787",
         "False"
        ],
        [
         "26",
         "1",
         "2010-08-06 00:00:00",
         "87.16",
         "2.627",
         null,
         null,
         null,
         null,
         null,
         "211.5046621",
         "7.787",
         "False"
        ],
        [
         "27",
         "1",
         "2010-08-13 00:00:00",
         "87.0",
         "2.692",
         null,
         null,
         null,
         null,
         null,
         "211.6394211",
         "7.787",
         "False"
        ],
        [
         "28",
         "1",
         "2010-08-20 00:00:00",
         "86.65",
         "2.664",
         null,
         null,
         null,
         null,
         null,
         "211.6033633",
         "7.787",
         "False"
        ],
        [
         "29",
         "1",
         "2010-08-27 00:00:00",
         "85.22",
         "2.619",
         null,
         null,
         null,
         null,
         null,
         "211.5673056",
         "7.787",
         "False"
        ],
        [
         "30",
         "1",
         "2010-09-03 00:00:00",
         "81.21",
         "2.577",
         null,
         null,
         null,
         null,
         null,
         "211.5312479",
         "7.787",
         "False"
        ],
        [
         "31",
         "1",
         "2010-09-10 00:00:00",
         "78.69",
         "2.565",
         null,
         null,
         null,
         null,
         null,
         "211.4951902",
         "7.787",
         "True"
        ],
        [
         "32",
         "1",
         "2010-09-17 00:00:00",
         "82.11",
         "2.582",
         null,
         null,
         null,
         null,
         null,
         "211.5224596",
         "7.787",
         "False"
        ],
        [
         "33",
         "1",
         "2010-09-24 00:00:00",
         "80.94",
         "2.624",
         null,
         null,
         null,
         null,
         null,
         "211.5972246",
         "7.787",
         "False"
        ],
        [
         "34",
         "1",
         "2010-10-01 00:00:00",
         "71.89",
         "2.603",
         null,
         null,
         null,
         null,
         null,
         "211.6719895",
         "7.838",
         "False"
        ],
        [
         "35",
         "1",
         "2010-10-08 00:00:00",
         "63.93",
         "2.633",
         null,
         null,
         null,
         null,
         null,
         "211.7467544",
         "7.838",
         "False"
        ],
        [
         "36",
         "1",
         "2010-10-15 00:00:00",
         "67.18",
         "2.72",
         null,
         null,
         null,
         null,
         null,
         "211.8137436",
         "7.838",
         "False"
        ],
        [
         "37",
         "1",
         "2010-10-22 00:00:00",
         "69.86",
         "2.725",
         null,
         null,
         null,
         null,
         null,
         "211.8612937",
         "7.838",
         "False"
        ],
        [
         "38",
         "1",
         "2010-10-29 00:00:00",
         "69.64",
         "2.716",
         null,
         null,
         null,
         null,
         null,
         "211.9088438",
         "7.838",
         "False"
        ],
        [
         "39",
         "1",
         "2010-11-05 00:00:00",
         "58.74",
         "2.689",
         null,
         null,
         null,
         null,
         null,
         "211.9563939",
         "7.838",
         "False"
        ],
        [
         "40",
         "1",
         "2010-11-12 00:00:00",
         "59.61",
         "2.728",
         null,
         null,
         null,
         null,
         null,
         "212.003944",
         "7.838",
         "False"
        ],
        [
         "41",
         "1",
         "2010-11-19 00:00:00",
         "51.41",
         "2.771",
         null,
         null,
         null,
         null,
         null,
         "211.8896737",
         "7.838",
         "False"
        ],
        [
         "42",
         "1",
         "2010-11-26 00:00:00",
         "64.52",
         "2.735",
         null,
         null,
         null,
         null,
         null,
         "211.7484333",
         "7.838",
         "True"
        ],
        [
         "43",
         "1",
         "2010-12-03 00:00:00",
         "49.27",
         "2.708",
         null,
         null,
         null,
         null,
         null,
         "211.607193",
         "7.838",
         "False"
        ],
        [
         "44",
         "1",
         "2010-12-10 00:00:00",
         "46.33",
         "2.843",
         null,
         null,
         null,
         null,
         null,
         "211.4659526",
         "7.838",
         "False"
        ],
        [
         "45",
         "1",
         "2010-12-17 00:00:00",
         "49.84",
         "2.869",
         null,
         null,
         null,
         null,
         null,
         "211.4053124",
         "7.838",
         "False"
        ],
        [
         "46",
         "1",
         "2010-12-24 00:00:00",
         "52.33",
         "2.886",
         null,
         null,
         null,
         null,
         null,
         "211.4051222",
         "7.838",
         "False"
        ],
        [
         "47",
         "1",
         "2010-12-31 00:00:00",
         "48.43",
         "2.943",
         null,
         null,
         null,
         null,
         null,
         "211.4049321",
         "7.838",
         "True"
        ],
        [
         "48",
         "1",
         "2011-01-07 00:00:00",
         "48.27",
         "2.976",
         null,
         null,
         null,
         null,
         null,
         "211.4047419",
         "7.742",
         "False"
        ],
        [
         "49",
         "1",
         "2011-01-14 00:00:00",
         "35.4",
         "2.983",
         null,
         null,
         null,
         null,
         null,
         "211.4574109",
         "7.742",
         "False"
        ]
       ],
       "shape": {
        "columns": 12,
        "rows": 8190
       }
      },
      "text/html": [
       "<div>\n",
       "<style scoped>\n",
       "    .dataframe tbody tr th:only-of-type {\n",
       "        vertical-align: middle;\n",
       "    }\n",
       "\n",
       "    .dataframe tbody tr th {\n",
       "        vertical-align: top;\n",
       "    }\n",
       "\n",
       "    .dataframe thead th {\n",
       "        text-align: right;\n",
       "    }\n",
       "</style>\n",
       "<table border=\"1\" class=\"dataframe\">\n",
       "  <thead>\n",
       "    <tr style=\"text-align: right;\">\n",
       "      <th></th>\n",
       "      <th>Store</th>\n",
       "      <th>Date</th>\n",
       "      <th>Temperature</th>\n",
       "      <th>Fuel_Price</th>\n",
       "      <th>MarkDown1</th>\n",
       "      <th>MarkDown2</th>\n",
       "      <th>MarkDown3</th>\n",
       "      <th>MarkDown4</th>\n",
       "      <th>MarkDown5</th>\n",
       "      <th>CPI</th>\n",
       "      <th>Unemployment</th>\n",
       "      <th>IsHoliday</th>\n",
       "    </tr>\n",
       "  </thead>\n",
       "  <tbody>\n",
       "    <tr>\n",
       "      <th>0</th>\n",
       "      <td>1</td>\n",
       "      <td>2010-02-05</td>\n",
       "      <td>42.31</td>\n",
       "      <td>2.572</td>\n",
       "      <td>NaN</td>\n",
       "      <td>NaN</td>\n",
       "      <td>NaN</td>\n",
       "      <td>NaN</td>\n",
       "      <td>NaN</td>\n",
       "      <td>211.096358</td>\n",
       "      <td>8.106</td>\n",
       "      <td>False</td>\n",
       "    </tr>\n",
       "    <tr>\n",
       "      <th>1</th>\n",
       "      <td>1</td>\n",
       "      <td>2010-02-12</td>\n",
       "      <td>38.51</td>\n",
       "      <td>2.548</td>\n",
       "      <td>NaN</td>\n",
       "      <td>NaN</td>\n",
       "      <td>NaN</td>\n",
       "      <td>NaN</td>\n",
       "      <td>NaN</td>\n",
       "      <td>211.242170</td>\n",
       "      <td>8.106</td>\n",
       "      <td>True</td>\n",
       "    </tr>\n",
       "    <tr>\n",
       "      <th>2</th>\n",
       "      <td>1</td>\n",
       "      <td>2010-02-19</td>\n",
       "      <td>39.93</td>\n",
       "      <td>2.514</td>\n",
       "      <td>NaN</td>\n",
       "      <td>NaN</td>\n",
       "      <td>NaN</td>\n",
       "      <td>NaN</td>\n",
       "      <td>NaN</td>\n",
       "      <td>211.289143</td>\n",
       "      <td>8.106</td>\n",
       "      <td>False</td>\n",
       "    </tr>\n",
       "    <tr>\n",
       "      <th>3</th>\n",
       "      <td>1</td>\n",
       "      <td>2010-02-26</td>\n",
       "      <td>46.63</td>\n",
       "      <td>2.561</td>\n",
       "      <td>NaN</td>\n",
       "      <td>NaN</td>\n",
       "      <td>NaN</td>\n",
       "      <td>NaN</td>\n",
       "      <td>NaN</td>\n",
       "      <td>211.319643</td>\n",
       "      <td>8.106</td>\n",
       "      <td>False</td>\n",
       "    </tr>\n",
       "    <tr>\n",
       "      <th>4</th>\n",
       "      <td>1</td>\n",
       "      <td>2010-03-05</td>\n",
       "      <td>46.50</td>\n",
       "      <td>2.625</td>\n",
       "      <td>NaN</td>\n",
       "      <td>NaN</td>\n",
       "      <td>NaN</td>\n",
       "      <td>NaN</td>\n",
       "      <td>NaN</td>\n",
       "      <td>211.350143</td>\n",
       "      <td>8.106</td>\n",
       "      <td>False</td>\n",
       "    </tr>\n",
       "    <tr>\n",
       "      <th>...</th>\n",
       "      <td>...</td>\n",
       "      <td>...</td>\n",
       "      <td>...</td>\n",
       "      <td>...</td>\n",
       "      <td>...</td>\n",
       "      <td>...</td>\n",
       "      <td>...</td>\n",
       "      <td>...</td>\n",
       "      <td>...</td>\n",
       "      <td>...</td>\n",
       "      <td>...</td>\n",
       "      <td>...</td>\n",
       "    </tr>\n",
       "    <tr>\n",
       "      <th>8185</th>\n",
       "      <td>45</td>\n",
       "      <td>2013-06-28</td>\n",
       "      <td>76.05</td>\n",
       "      <td>3.639</td>\n",
       "      <td>4842.29</td>\n",
       "      <td>975.03</td>\n",
       "      <td>3.00</td>\n",
       "      <td>2449.97</td>\n",
       "      <td>3169.69</td>\n",
       "      <td>NaN</td>\n",
       "      <td>NaN</td>\n",
       "      <td>False</td>\n",
       "    </tr>\n",
       "    <tr>\n",
       "      <th>8186</th>\n",
       "      <td>45</td>\n",
       "      <td>2013-07-05</td>\n",
       "      <td>77.50</td>\n",
       "      <td>3.614</td>\n",
       "      <td>9090.48</td>\n",
       "      <td>2268.58</td>\n",
       "      <td>582.74</td>\n",
       "      <td>5797.47</td>\n",
       "      <td>1514.93</td>\n",
       "      <td>NaN</td>\n",
       "      <td>NaN</td>\n",
       "      <td>False</td>\n",
       "    </tr>\n",
       "    <tr>\n",
       "      <th>8187</th>\n",
       "      <td>45</td>\n",
       "      <td>2013-07-12</td>\n",
       "      <td>79.37</td>\n",
       "      <td>3.614</td>\n",
       "      <td>3789.94</td>\n",
       "      <td>1827.31</td>\n",
       "      <td>85.72</td>\n",
       "      <td>744.84</td>\n",
       "      <td>2150.36</td>\n",
       "      <td>NaN</td>\n",
       "      <td>NaN</td>\n",
       "      <td>False</td>\n",
       "    </tr>\n",
       "    <tr>\n",
       "      <th>8188</th>\n",
       "      <td>45</td>\n",
       "      <td>2013-07-19</td>\n",
       "      <td>82.84</td>\n",
       "      <td>3.737</td>\n",
       "      <td>2961.49</td>\n",
       "      <td>1047.07</td>\n",
       "      <td>204.19</td>\n",
       "      <td>363.00</td>\n",
       "      <td>1059.46</td>\n",
       "      <td>NaN</td>\n",
       "      <td>NaN</td>\n",
       "      <td>False</td>\n",
       "    </tr>\n",
       "    <tr>\n",
       "      <th>8189</th>\n",
       "      <td>45</td>\n",
       "      <td>2013-07-26</td>\n",
       "      <td>76.06</td>\n",
       "      <td>3.804</td>\n",
       "      <td>212.02</td>\n",
       "      <td>851.73</td>\n",
       "      <td>2.06</td>\n",
       "      <td>10.88</td>\n",
       "      <td>1864.57</td>\n",
       "      <td>NaN</td>\n",
       "      <td>NaN</td>\n",
       "      <td>False</td>\n",
       "    </tr>\n",
       "  </tbody>\n",
       "</table>\n",
       "<p>8190 rows × 12 columns</p>\n",
       "</div>"
      ],
      "text/plain": [
       "      Store       Date  Temperature  Fuel_Price  MarkDown1  MarkDown2  \\\n",
       "0         1 2010-02-05        42.31       2.572        NaN        NaN   \n",
       "1         1 2010-02-12        38.51       2.548        NaN        NaN   \n",
       "2         1 2010-02-19        39.93       2.514        NaN        NaN   \n",
       "3         1 2010-02-26        46.63       2.561        NaN        NaN   \n",
       "4         1 2010-03-05        46.50       2.625        NaN        NaN   \n",
       "...     ...        ...          ...         ...        ...        ...   \n",
       "8185     45 2013-06-28        76.05       3.639    4842.29     975.03   \n",
       "8186     45 2013-07-05        77.50       3.614    9090.48    2268.58   \n",
       "8187     45 2013-07-12        79.37       3.614    3789.94    1827.31   \n",
       "8188     45 2013-07-19        82.84       3.737    2961.49    1047.07   \n",
       "8189     45 2013-07-26        76.06       3.804     212.02     851.73   \n",
       "\n",
       "      MarkDown3  MarkDown4  MarkDown5         CPI  Unemployment  IsHoliday  \n",
       "0           NaN        NaN        NaN  211.096358         8.106      False  \n",
       "1           NaN        NaN        NaN  211.242170         8.106       True  \n",
       "2           NaN        NaN        NaN  211.289143         8.106      False  \n",
       "3           NaN        NaN        NaN  211.319643         8.106      False  \n",
       "4           NaN        NaN        NaN  211.350143         8.106      False  \n",
       "...         ...        ...        ...         ...           ...        ...  \n",
       "8185       3.00    2449.97    3169.69         NaN           NaN      False  \n",
       "8186     582.74    5797.47    1514.93         NaN           NaN      False  \n",
       "8187      85.72     744.84    2150.36         NaN           NaN      False  \n",
       "8188     204.19     363.00    1059.46         NaN           NaN      False  \n",
       "8189       2.06      10.88    1864.57         NaN           NaN      False  \n",
       "\n",
       "[8190 rows x 12 columns]"
      ]
     },
     "execution_count": 6,
     "metadata": {},
     "output_type": "execute_result"
    }
   ],
   "source": [
    "df_walmart_features\n"
   ]
  },
  {
   "cell_type": "markdown",
   "id": "ea6bce62",
   "metadata": {},
   "source": [
    "## Data Gathering"
   ]
  },
  {
   "cell_type": "markdown",
   "id": "d4045cd2",
   "metadata": {},
   "source": [
    "##### Sp500"
   ]
  },
  {
   "cell_type": "code",
   "execution_count": 7,
   "id": "a568aad2",
   "metadata": {},
   "outputs": [],
   "source": [
    "%%skip\n",
    "# SP500 Index\n",
    "START_DATE = \"2000-01-01\"\n",
    "END_DATE   = date.today().isoformat()\n",
    "\n",
    "\n",
    "daily = yf.download(\n",
    "    \"^GSPC\",           # S&P 500 index ticker\n",
    "    start=START_DATE,\n",
    "    end=END_DATE,\n",
    "    interval=\"1d\",\n",
    "    auto_adjust=True,\n",
    "    progress=False,\n",
    ")\n",
    "\n",
    "if isinstance(daily.columns, pd.MultiIndex):\n",
    "    lvl0 = daily.columns.get_level_values(0)\n",
    "    if \"Close\" in lvl0:\n",
    "        close_prices = daily.xs(\"Close\", axis=1, level=0)\n",
    "    elif \"Adj Close\" in lvl0:\n",
    "        close_prices = daily.xs(\"Adj Close\", axis=1, level=0)\n",
    "    else:\n",
    "        raise KeyError(\"Neither 'Close' nor 'Adj Close' found in data\")\n",
    "else:\n",
    "    if \"Close\" in daily.columns:\n",
    "        close_prices = daily[\"Close\"]\n",
    "    else:\n",
    "        close_prices = daily[\"Adj Close\"]\n",
    "\n",
    "\n",
    "weekly_mean_close = close_prices.resample(\"W-FRI\").mean()\n",
    "\n",
    "if isinstance(weekly_mean_close, pd.Series):\n",
    "    df_sp500 = weekly_mean_close.to_frame(name=\"SPX_Weekly_Mean_Close\")\n",
    "else:\n",
    "    df_sp500 = weekly_mean_close.copy()\n",
    "    df_sp500.columns = [\"SPX_Weekly_Mean_Close\"]\n",
    "\n",
    "\n",
    "OUTFILE = \"csv_files/idea_csv/sp500_weekly_mean_close.csv\"\n",
    "df_sp500.to_csv(OUTFILE)\n",
    "\n"
   ]
  },
  {
   "cell_type": "code",
   "execution_count": 8,
   "id": "6cf15d9d",
   "metadata": {},
   "outputs": [
    {
     "data": {
      "application/vnd.microsoft.datawrangler.viewer.v0+json": {
       "columns": [
        {
         "name": "index",
         "rawType": "int64",
         "type": "integer"
        },
        {
         "name": "Date",
         "rawType": "object",
         "type": "string"
        },
        {
         "name": "SPX_Weekly_Mean_Close",
         "rawType": "float64",
         "type": "float"
        }
       ],
       "ref": "35f4af4f-30b1-4bcc-9c21-1b9bcc373618",
       "rows": [
        [
         "0",
         "2000-01-07",
         "1420.333984375"
        ],
        [
         "1",
         "2000-01-14",
         "1448.6480224609377"
        ],
        [
         "2",
         "2000-01-21",
         "1449.4924926757812"
        ],
        [
         "3",
         "2000-01-28",
         "1394.8740234375"
        ],
        [
         "4",
         "2000-02-04",
         "1412.439990234375"
        ],
        [
         "5",
         "2000-02-11",
         "1416.323974609375"
        ],
        [
         "6",
         "2000-02-18",
         "1382.802001953125"
        ],
        [
         "7",
         "2000-02-25",
         "1349.9125061035156"
        ],
        [
         "8",
         "2000-03-03",
         "1376.918017578125"
        ],
        [
         "9",
         "2000-03-10",
         "1382.07197265625"
        ],
        [
         "10",
         "2000-03-17",
         "1411.5699951171875"
        ],
        [
         "11",
         "2000-03-24",
         "1501.189990234375"
        ],
        [
         "12",
         "2000-03-31",
         "1505.3219970703126"
        ],
        [
         "13",
         "2000-04-07",
         "1501.1519775390625"
        ],
        [
         "14",
         "2000-04-14",
         "1453.8580078125"
        ],
        [
         "15",
         "2000-04-21",
         "1426.2649841308594"
        ],
        [
         "16",
         "2000-04-28",
         "1457.1280029296877"
        ],
        [
         "17",
         "2000-05-05",
         "1434.3679931640625"
        ],
        [
         "18",
         "2000-05-12",
         "1409.626025390625"
        ],
        [
         "19",
         "2000-05-19",
         "1442.0719970703126"
        ],
        [
         "20",
         "2000-05-26",
         "1386.6340087890626"
        ],
        [
         "21",
         "2000-06-02",
         "1442.2799987792969"
        ],
        [
         "22",
         "2000-06-09",
         "1463.089990234375"
        ],
        [
         "23",
         "2000-06-16",
         "1465.833984375"
        ],
        [
         "24",
         "2000-06-23",
         "1466.947998046875"
        ],
        [
         "25",
         "2000-06-30",
         "1451.5340087890625"
        ],
        [
         "26",
         "2000-07-07",
         "1462.8350219726562"
        ],
        [
         "27",
         "2000-07-14",
         "1491.047998046875"
        ],
        [
         "28",
         "2000-07-21",
         "1492.3899658203125"
        ],
        [
         "29",
         "2000-07-28",
         "1452.1380126953125"
        ],
        [
         "30",
         "2000-08-04",
         "1444.6239990234376"
        ],
        [
         "31",
         "2000-08-11",
         "1473.4159912109376"
        ],
        [
         "32",
         "2000-08-18",
         "1488.7260009765623"
        ],
        [
         "33",
         "2000-08-25",
         "1503.6679931640624"
        ],
        [
         "34",
         "2000-09-01",
         "1512.993994140625"
        ],
        [
         "35",
         "2000-09-08",
         "1499.084991455078"
        ],
        [
         "36",
         "2000-09-15",
         "1480.568017578125"
        ],
        [
         "37",
         "2000-09-22",
         "1450.70400390625"
        ],
        [
         "38",
         "2000-09-29",
         "1437.5219970703124"
        ],
        [
         "39",
         "2000-10-06",
         "1428.4559814453123"
        ],
        [
         "40",
         "2000-10-13",
         "1371.518017578125"
        ],
        [
         "41",
         "2000-10-20",
         "1370.4820068359377"
        ],
        [
         "42",
         "2000-10-27",
         "1380.5659912109377"
        ],
        [
         "43",
         "2000-11-03",
         "1420.8579833984377"
        ],
        [
         "44",
         "2000-11-10",
         "1407.8919921875"
        ],
        [
         "45",
         "2000-11-17",
         "1372.8119873046876"
        ],
        [
         "46",
         "2000-11-24",
         "1338.5249938964844"
        ],
        [
         "47",
         "2000-12-01",
         "1331.433984375"
        ],
        [
         "48",
         "2000-12-08",
         "1353.2820068359374"
        ],
        [
         "49",
         "2000-12-15",
         "1352.8900146484375"
        ]
       ],
       "shape": {
        "columns": 2,
        "rows": 1329
       }
      },
      "text/html": [
       "<div>\n",
       "<style scoped>\n",
       "    .dataframe tbody tr th:only-of-type {\n",
       "        vertical-align: middle;\n",
       "    }\n",
       "\n",
       "    .dataframe tbody tr th {\n",
       "        vertical-align: top;\n",
       "    }\n",
       "\n",
       "    .dataframe thead th {\n",
       "        text-align: right;\n",
       "    }\n",
       "</style>\n",
       "<table border=\"1\" class=\"dataframe\">\n",
       "  <thead>\n",
       "    <tr style=\"text-align: right;\">\n",
       "      <th></th>\n",
       "      <th>Date</th>\n",
       "      <th>SPX_Weekly_Mean_Close</th>\n",
       "    </tr>\n",
       "  </thead>\n",
       "  <tbody>\n",
       "    <tr>\n",
       "      <th>0</th>\n",
       "      <td>2000-01-07</td>\n",
       "      <td>1420.333984</td>\n",
       "    </tr>\n",
       "    <tr>\n",
       "      <th>1</th>\n",
       "      <td>2000-01-14</td>\n",
       "      <td>1448.648022</td>\n",
       "    </tr>\n",
       "    <tr>\n",
       "      <th>2</th>\n",
       "      <td>2000-01-21</td>\n",
       "      <td>1449.492493</td>\n",
       "    </tr>\n",
       "    <tr>\n",
       "      <th>3</th>\n",
       "      <td>2000-01-28</td>\n",
       "      <td>1394.874023</td>\n",
       "    </tr>\n",
       "    <tr>\n",
       "      <th>4</th>\n",
       "      <td>2000-02-04</td>\n",
       "      <td>1412.439990</td>\n",
       "    </tr>\n",
       "    <tr>\n",
       "      <th>...</th>\n",
       "      <td>...</td>\n",
       "      <td>...</td>\n",
       "    </tr>\n",
       "    <tr>\n",
       "      <th>1324</th>\n",
       "      <td>2025-05-23</td>\n",
       "      <td>5878.699902</td>\n",
       "    </tr>\n",
       "    <tr>\n",
       "      <th>1325</th>\n",
       "      <td>2025-05-30</td>\n",
       "      <td>5908.487427</td>\n",
       "    </tr>\n",
       "    <tr>\n",
       "      <th>1326</th>\n",
       "      <td>2025-06-06</td>\n",
       "      <td>5963.355957</td>\n",
       "    </tr>\n",
       "    <tr>\n",
       "      <th>1327</th>\n",
       "      <td>2025-06-13</td>\n",
       "      <td>6017.832031</td>\n",
       "    </tr>\n",
       "    <tr>\n",
       "      <th>1328</th>\n",
       "      <td>2025-06-20</td>\n",
       "      <td>6033.109863</td>\n",
       "    </tr>\n",
       "  </tbody>\n",
       "</table>\n",
       "<p>1329 rows × 2 columns</p>\n",
       "</div>"
      ],
      "text/plain": [
       "            Date  SPX_Weekly_Mean_Close\n",
       "0     2000-01-07            1420.333984\n",
       "1     2000-01-14            1448.648022\n",
       "2     2000-01-21            1449.492493\n",
       "3     2000-01-28            1394.874023\n",
       "4     2000-02-04            1412.439990\n",
       "...          ...                    ...\n",
       "1324  2025-05-23            5878.699902\n",
       "1325  2025-05-30            5908.487427\n",
       "1326  2025-06-06            5963.355957\n",
       "1327  2025-06-13            6017.832031\n",
       "1328  2025-06-20            6033.109863\n",
       "\n",
       "[1329 rows x 2 columns]"
      ]
     },
     "execution_count": 8,
     "metadata": {},
     "output_type": "execute_result"
    }
   ],
   "source": [
    "df_sp500 = pd.read_csv(\"csv_files/idea_csv/sp500_weekly_mean_close.csv\")\n",
    "df_sp500"
   ]
  },
  {
   "cell_type": "markdown",
   "id": "adb5f51d",
   "metadata": {},
   "source": [
    "#### Walmart Stock Price"
   ]
  },
  {
   "cell_type": "code",
   "execution_count": 9,
   "id": "f2f4ab5a",
   "metadata": {},
   "outputs": [],
   "source": [
    "%%skip\n",
    "START_DATE = \"2000-01-01\"\n",
    "END_DATE   = date.today().isoformat()\n",
    "\n",
    "\n",
    "daily = yf.download(\n",
    "    \"WMT\",           \n",
    "    start=START_DATE,\n",
    "    end=END_DATE,\n",
    "    interval=\"1d\",\n",
    "    auto_adjust=True, \n",
    "    progress=False,\n",
    ")\n",
    "\n",
    "\n",
    "if isinstance(daily.columns, pd.MultiIndex):\n",
    "    lvl0 = daily.columns.get_level_values(0)\n",
    "    if \"Close\" in lvl0:\n",
    "        close_prices = daily.xs(\"Close\", axis=1, level=0)\n",
    "    elif \"Adj Close\" in lvl0:\n",
    "        close_prices = daily.xs(\"Adj Close\", axis=1, level=0)\n",
    "    else:\n",
    "        raise KeyError(\"Neither 'Close' nor 'Adj Close' found in data\")\n",
    "else:\n",
    "    if \"Close\" in daily.columns:\n",
    "        close_prices = daily[\"Close\"]\n",
    "    else:\n",
    "        close_prices = daily[\"Adj Close\"]\n",
    "\n",
    "\n",
    "weekly_mean_close = close_prices.resample(\"W-FRI\").mean()\n",
    "\n",
    "\n",
    "if isinstance(weekly_mean_close, pd.Series):\n",
    "    df_walmart_stock = weekly_mean_close.to_frame(name=\"WMT_Weekly_Mean_Close\")\n",
    "else:\n",
    "    df_walmart_stock = weekly_mean_close.copy()\n",
    "    df_walmart_stock.columns = [\"WMT_Weekly_Mean_Close\"]\n",
    "\n",
    "\n",
    "OUTFILE = \"csv_files/idea_csv/wmt_weekly_mean_close.csv\"\n",
    "df_walmart_stock.to_csv(OUTFILE)\n",
    "\n"
   ]
  },
  {
   "cell_type": "code",
   "execution_count": 10,
   "id": "00c9a073",
   "metadata": {},
   "outputs": [
    {
     "data": {
      "application/vnd.microsoft.datawrangler.viewer.v0+json": {
       "columns": [
        {
         "name": "index",
         "rawType": "int64",
         "type": "integer"
        },
        {
         "name": "Date",
         "rawType": "object",
         "type": "string"
        },
        {
         "name": "WMT_Weekly_Mean_Close",
         "rawType": "float64",
         "type": "float"
        }
       ],
       "ref": "cded919d-2ca7-48ce-b640-8ac9d7c5ba85",
       "rows": [
        [
         "0",
         "2000-01-07",
         "13.94176368713379"
        ],
        [
         "1",
         "2000-01-14",
         "14.02186985015869"
        ],
        [
         "2",
         "2000-01-21",
         "13.642019987106323"
        ],
        [
         "3",
         "2000-01-28",
         "12.676026916503906"
        ],
        [
         "4",
         "2000-02-04",
         "12.240765380859376"
        ],
        [
         "5",
         "2000-02-11",
         "12.224746131896971"
        ],
        [
         "6",
         "2000-02-18",
         "11.354220199584962"
        ],
        [
         "7",
         "2000-02-25",
         "10.013715744018556"
        ],
        [
         "8",
         "2000-03-03",
         "10.558463668823242"
        ],
        [
         "9",
         "2000-03-10",
         "10.392900466918944"
        ],
        [
         "10",
         "2000-03-17",
         "11.002425384521484"
        ],
        [
         "11",
         "2000-03-24",
         "11.833722686767578"
        ],
        [
         "12",
         "2000-03-31",
         "12.157240867614746"
        ],
        [
         "13",
         "2000-04-07",
         "12.921914100646973"
        ],
        [
         "14",
         "2000-04-14",
         "13.023511695861815"
        ],
        [
         "15",
         "2000-04-21",
         "11.790943145751951"
        ],
        [
         "16",
         "2000-04-28",
         "12.421935081481934"
        ],
        [
         "17",
         "2000-05-05",
         "11.606459426879884"
        ],
        [
         "18",
         "2000-05-12",
         "11.758860969543456"
        ],
        [
         "19",
         "2000-05-19",
         "12.250819206237791"
        ],
        [
         "20",
         "2000-05-26",
         "11.996819114685058"
        ],
        [
         "21",
         "2000-06-02",
         "12.141867399215698"
        ],
        [
         "22",
         "2000-06-09",
         "12.24814453125"
        ],
        [
         "23",
         "2000-06-16",
         "11.654248237609863"
        ],
        [
         "24",
         "2000-06-23",
         "11.52277603149414"
        ],
        [
         "25",
         "2000-06-30",
         "11.9182466506958"
        ],
        [
         "26",
         "2000-07-07",
         "12.469626188278198"
        ],
        [
         "27",
         "2000-07-14",
         "12.970820426940918"
        ],
        [
         "28",
         "2000-07-21",
         "12.867769050598143"
        ],
        [
         "29",
         "2000-07-28",
         "12.596093559265135"
        ],
        [
         "30",
         "2000-08-04",
         "11.589694404602051"
        ],
        [
         "31",
         "2000-08-11",
         "11.54151496887207"
        ],
        [
         "32",
         "2000-08-18",
         "10.93124942779541"
        ],
        [
         "33",
         "2000-08-25",
         "10.585966110229492"
        ],
        [
         "34",
         "2000-09-01",
         "10.438753700256347"
        ],
        [
         "35",
         "2000-09-08",
         "10.860318422317505"
        ],
        [
         "36",
         "2000-09-15",
         "11.431287956237792"
        ],
        [
         "37",
         "2000-09-22",
         "10.71832275390625"
        ],
        [
         "38",
         "2000-09-29",
         "10.34050350189209"
        ],
        [
         "39",
         "2000-10-06",
         "9.850139999389649"
        ],
        [
         "40",
         "2000-10-13",
         "9.686683082580569"
        ],
        [
         "41",
         "2000-10-20",
         "10.05110912322998"
        ],
        [
         "42",
         "2000-10-27",
         "9.788508224487304"
        ],
        [
         "43",
         "2000-11-03",
         "9.930525970458984"
        ],
        [
         "44",
         "2000-11-10",
         "10.1824068069458"
        ],
        [
         "45",
         "2000-11-17",
         "10.203843116760254"
        ],
        [
         "46",
         "2000-11-24",
         "9.971389055252075"
        ],
        [
         "47",
         "2000-12-01",
         "10.871059799194336"
        ],
        [
         "48",
         "2000-12-08",
         "11.717806625366212"
        ],
        [
         "49",
         "2000-12-15",
         "10.911254501342771"
        ]
       ],
       "shape": {
        "columns": 2,
        "rows": 1329
       }
      },
      "text/html": [
       "<div>\n",
       "<style scoped>\n",
       "    .dataframe tbody tr th:only-of-type {\n",
       "        vertical-align: middle;\n",
       "    }\n",
       "\n",
       "    .dataframe tbody tr th {\n",
       "        vertical-align: top;\n",
       "    }\n",
       "\n",
       "    .dataframe thead th {\n",
       "        text-align: right;\n",
       "    }\n",
       "</style>\n",
       "<table border=\"1\" class=\"dataframe\">\n",
       "  <thead>\n",
       "    <tr style=\"text-align: right;\">\n",
       "      <th></th>\n",
       "      <th>Date</th>\n",
       "      <th>WMT_Weekly_Mean_Close</th>\n",
       "    </tr>\n",
       "  </thead>\n",
       "  <tbody>\n",
       "    <tr>\n",
       "      <th>0</th>\n",
       "      <td>2000-01-07</td>\n",
       "      <td>13.941764</td>\n",
       "    </tr>\n",
       "    <tr>\n",
       "      <th>1</th>\n",
       "      <td>2000-01-14</td>\n",
       "      <td>14.021870</td>\n",
       "    </tr>\n",
       "    <tr>\n",
       "      <th>2</th>\n",
       "      <td>2000-01-21</td>\n",
       "      <td>13.642020</td>\n",
       "    </tr>\n",
       "    <tr>\n",
       "      <th>3</th>\n",
       "      <td>2000-01-28</td>\n",
       "      <td>12.676027</td>\n",
       "    </tr>\n",
       "    <tr>\n",
       "      <th>4</th>\n",
       "      <td>2000-02-04</td>\n",
       "      <td>12.240765</td>\n",
       "    </tr>\n",
       "    <tr>\n",
       "      <th>...</th>\n",
       "      <td>...</td>\n",
       "      <td>...</td>\n",
       "    </tr>\n",
       "    <tr>\n",
       "      <th>1324</th>\n",
       "      <td>2025-05-23</td>\n",
       "      <td>96.924001</td>\n",
       "    </tr>\n",
       "    <tr>\n",
       "      <th>1325</th>\n",
       "      <td>2025-05-30</td>\n",
       "      <td>97.660000</td>\n",
       "    </tr>\n",
       "    <tr>\n",
       "      <th>1326</th>\n",
       "      <td>2025-06-06</td>\n",
       "      <td>98.906000</td>\n",
       "    </tr>\n",
       "    <tr>\n",
       "      <th>1327</th>\n",
       "      <td>2025-06-13</td>\n",
       "      <td>95.968001</td>\n",
       "    </tr>\n",
       "    <tr>\n",
       "      <th>1328</th>\n",
       "      <td>2025-06-20</td>\n",
       "      <td>94.290001</td>\n",
       "    </tr>\n",
       "  </tbody>\n",
       "</table>\n",
       "<p>1329 rows × 2 columns</p>\n",
       "</div>"
      ],
      "text/plain": [
       "            Date  WMT_Weekly_Mean_Close\n",
       "0     2000-01-07              13.941764\n",
       "1     2000-01-14              14.021870\n",
       "2     2000-01-21              13.642020\n",
       "3     2000-01-28              12.676027\n",
       "4     2000-02-04              12.240765\n",
       "...          ...                    ...\n",
       "1324  2025-05-23              96.924001\n",
       "1325  2025-05-30              97.660000\n",
       "1326  2025-06-06              98.906000\n",
       "1327  2025-06-13              95.968001\n",
       "1328  2025-06-20              94.290001\n",
       "\n",
       "[1329 rows x 2 columns]"
      ]
     },
     "execution_count": 10,
     "metadata": {},
     "output_type": "execute_result"
    }
   ],
   "source": [
    "df_walmart_stock = pd.read_csv(\"csv_files/idea_csv/wmt_weekly_mean_close.csv\")\n",
    "df_walmart_stock"
   ]
  },
  {
   "cell_type": "markdown",
   "id": "26393546",
   "metadata": {},
   "source": [
    "#### External Logistic companies Walmart"
   ]
  },
  {
   "cell_type": "code",
   "execution_count": 11,
   "id": "813a9bff",
   "metadata": {},
   "outputs": [],
   "source": [
    "%%skip\n",
    "#   - ARCB: ArcBest Corporation (ABF Logistics / ArcBest Freight)\n",
    "#   - AIT: AIT Worldwide Logistics\n",
    "#   - CEVA: CEVA Logistics\n",
    "#   - DPW.DE: Deutsche Post (DHL Freight / DHL Supply Chain) on XETRA\n",
    "#   - FDX: FedEx Corporation (FedEx Freight)\n",
    "#   - SAIA: Saia, Inc. (Saia Motor Freight Line)\n",
    "#   - TFII.TO: TFI International (TForce Freight) on TSX\n",
    "#   - XPO: XPO Logistics, Inc.\n",
    "#   - ODFL: Old Dominion Freight Line, Inc.\n",
    "#   - UPS: United Parcel Service, Inc.\n",
    "#   - JBHT: J.B. Hunt Transport Services, Inc.\n",
    "# Note: Some private carriers (Estes Express, R+L Carriers) are not publicly traded.\n",
    "\n",
    "TICKERS = [\n",
    "    \"ARCB\", \"AIT\", \"CEVA\", \"DPW.DE\", \"FDX\",\n",
    "    \"SAIA\", \"TFII.TO\", \"XPO\", \"ODFL\", \"UPS\", \"JBHT\"\n",
    "]\n",
    "\n",
    "START_DATE = \"2000-01-01\"\n",
    "END_DATE   = date.today().isoformat()\n",
    "\n",
    "daily = yf.download(\n",
    "    TICKERS,\n",
    "    start=START_DATE,\n",
    "    end=END_DATE,\n",
    "    interval=\"1d\",\n",
    "    auto_adjust=True,\n",
    "    group_by=\"ticker\",\n",
    "    threads=True,\n",
    "    progress=True,\n",
    ")\n",
    "\n",
    "close = pd.DataFrame()\n",
    "for sym in TICKERS:\n",
    "    try:\n",
    "        series = daily[sym][\"Close\"]\n",
    "        close[sym] = series\n",
    "    except Exception:\n",
    "        print(f\"Skipping {sym!r}: no data available or ticker invalid\")\n",
    "\n",
    "\n",
    "before = close.shape[1]\n",
    "close = close.dropna(axis=1, how=\"all\")\n",
    "after = close.shape[1]\n",
    "print(f\"Dropped {before-after} tickers; {after} tickers remain for analysis\")\n",
    "\n",
    "df_logistics = close.resample(\"W-FRI\").mean().round(4)\n",
    "\n",
    "df_logistics.columns = [f\"{sym}_df_logistics_Close\" for sym in df_logistics.columns]\n",
    "\n",
    "OUTFILE = \"csv_files/idea_csv/logistics_df_logistics_close.csv\"\n",
    "df_logistics.to_csv(OUTFILE)\n"
   ]
  },
  {
   "cell_type": "code",
   "execution_count": 12,
   "id": "d1238b66",
   "metadata": {},
   "outputs": [
    {
     "data": {
      "application/vnd.microsoft.datawrangler.viewer.v0+json": {
       "columns": [
        {
         "name": "index",
         "rawType": "int64",
         "type": "integer"
        },
        {
         "name": "Date",
         "rawType": "object",
         "type": "string"
        },
        {
         "name": "ARCB_df_logistics_Close",
         "rawType": "float64",
         "type": "float"
        },
        {
         "name": "AIT_df_logistics_Close",
         "rawType": "float64",
         "type": "float"
        },
        {
         "name": "CEVA_df_logistics_Close",
         "rawType": "float64",
         "type": "float"
        },
        {
         "name": "FDX_df_logistics_Close",
         "rawType": "float64",
         "type": "float"
        },
        {
         "name": "SAIA_df_logistics_Close",
         "rawType": "float64",
         "type": "float"
        },
        {
         "name": "TFII.TO_df_logistics_Close",
         "rawType": "float64",
         "type": "float"
        },
        {
         "name": "XPO_df_logistics_Close",
         "rawType": "float64",
         "type": "float"
        },
        {
         "name": "ODFL_df_logistics_Close",
         "rawType": "float64",
         "type": "float"
        },
        {
         "name": "UPS_df_logistics_Close",
         "rawType": "float64",
         "type": "float"
        },
        {
         "name": "JBHT_df_logistics_Close",
         "rawType": "float64",
         "type": "float"
        }
       ],
       "ref": "94cc4f52-c4b6-46ba-94e3-90e704523670",
       "rows": [
        [
         "0",
         "2000-01-07",
         "10.2456",
         "4.2252",
         null,
         "36.133",
         null,
         null,
         null,
         "0.484",
         "33.4329",
         "2.6094"
        ],
        [
         "1",
         "2000-01-14",
         "10.2209",
         "4.05",
         null,
         "37.6513",
         null,
         null,
         null,
         "0.4914",
         "33.7016",
         "2.5821"
        ],
        [
         "2",
         "2000-01-21",
         "10.6344",
         "4.3393",
         null,
         "35.193",
         null,
         null,
         null,
         "0.5243",
         "34.1281",
         "2.5124"
        ],
        [
         "3",
         "2000-01-28",
         "9.9543",
         "4.288",
         null,
         "33.1066",
         null,
         null,
         null,
         "0.5354",
         "32.7017",
         "2.4714"
        ],
        [
         "4",
         "2000-02-04",
         "9.3568",
         "4.2649",
         null,
         "31.9144",
         null,
         null,
         null,
         "0.519",
         "29.3584",
         "2.5079"
        ],
        [
         "5",
         "2000-02-11",
         "8.8976",
         "4.307",
         null,
         "31.5883",
         null,
         null,
         null,
         "0.5311",
         "28.5273",
         "2.4425"
        ],
        [
         "6",
         "2000-02-18",
         "8.9272",
         "4.2289",
         null,
         "29.53",
         null,
         null,
         null,
         "0.519",
         "28.0211",
         "2.2851"
        ],
        [
         "7",
         "2000-02-25",
         "8.3076",
         "4.3205",
         null,
         "28.3404",
         null,
         null,
         null,
         "0.5236",
         "27.4762",
         "2.2211"
        ],
        [
         "8",
         "2000-03-03",
         "7.5546",
         "4.6052",
         null,
         "28.1646",
         null,
         null,
         null,
         "0.5195",
         "26.892",
         "2.2751"
        ],
        [
         "9",
         "2000-03-10",
         "7.8113",
         "4.6119",
         null,
         "26.7074",
         null,
         null,
         null,
         "0.5105",
         "26.4908",
         "2.3725"
        ],
        [
         "10",
         "2000-03-17",
         "8.6409",
         "4.502",
         null,
         "27.5226",
         null,
         null,
         null,
         "0.5116",
         "27.2806",
         "2.9457"
        ],
        [
         "11",
         "2000-03-24",
         "8.9717",
         "4.2456",
         null,
         "30.763",
         null,
         null,
         null,
         "0.5227",
         "29.5875",
         "3.0943"
        ],
        [
         "12",
         "2000-03-31",
         "8.9075",
         "4.179",
         null,
         "31.41",
         null,
         null,
         null,
         "0.5206",
         "30.4948",
         "2.9594"
        ],
        [
         "13",
         "2000-04-07",
         "9.4753",
         "4.2955",
         null,
         "31.6597",
         null,
         null,
         null,
         "0.4724",
         "29.7003",
         "2.8595"
        ],
        [
         "14",
         "2000-04-14",
         "10.1024",
         "4.0225",
         null,
         "32.7194",
         null,
         null,
         null,
         "0.4544",
         "30.4839",
         "2.8021"
        ],
        [
         "15",
         "2000-04-21",
         "10.7023",
         "4.0458",
         null,
         "30.5694",
         null,
         null,
         null,
         "0.4462",
         "30.2457",
         "3.1904"
        ],
        [
         "16",
         "2000-04-28",
         "10.2505",
         "4.482",
         null,
         "31.1196",
         null,
         null,
         null,
         "0.4491",
         "32.8659",
         "3.2991"
        ],
        [
         "17",
         "2000-05-05",
         "10.3196",
         "4.6019",
         null,
         "30.4369",
         null,
         null,
         null,
         "0.4597",
         "31.2173",
         "3.306"
        ],
        [
         "18",
         "2000-05-12",
         "9.6975",
         "4.5119",
         null,
         "32.0876",
         null,
         null,
         null,
         "0.4311",
         "30.8098",
         "3.2766"
        ],
        [
         "19",
         "2000-05-19",
         "9.1346",
         "4.5882",
         null,
         "29.6828",
         null,
         null,
         null,
         "0.4348",
         "31.2549",
         "3.2017"
        ],
        [
         "20",
         "2000-05-26",
         "9.1396",
         "4.7358",
         null,
         "28.9186",
         null,
         null,
         null,
         "0.4281",
         "30.0219",
         "3.1093"
        ],
        [
         "21",
         "2000-06-02",
         "9.0729",
         "4.6327",
         null,
         "29.2192",
         null,
         null,
         null,
         "0.4011",
         "30.3557",
         "3.2185"
        ],
        [
         "22",
         "2000-06-09",
         "9.3963",
         "4.5446",
         null,
         "29.9172",
         null,
         null,
         null,
         "0.4125",
         "30.6716",
         "3.1942"
        ],
        [
         "23",
         "2000-06-16",
         "9.7765",
         "4.6285",
         null,
         "29.6574",
         null,
         null,
         null,
         "0.3982",
         "30.7816",
         "3.1792"
        ],
        [
         "24",
         "2000-06-23",
         "9.7173",
         "4.6151",
         null,
         "28.3072",
         null,
         null,
         null,
         "0.4056",
         "31.1494",
         "3.1018"
        ],
        [
         "25",
         "2000-06-30",
         "9.3815",
         "4.5715",
         null,
         "30.4878",
         null,
         null,
         null,
         "0.4152",
         "30.1404",
         "2.922"
        ],
        [
         "26",
         "2000-07-07",
         "8.6285",
         "4.6327",
         null,
         "32.5946",
         null,
         null,
         null,
         "0.4038",
         "30.4814",
         "3.0031"
        ],
        [
         "27",
         "2000-07-14",
         "8.6902",
         "4.6486",
         null,
         "33.504",
         null,
         null,
         null,
         "0.3892",
         "30.5459",
         "3.0718"
        ],
        [
         "28",
         "2000-07-21",
         "8.9964",
         "4.4642",
         null,
         "32.8825",
         null,
         null,
         null,
         "0.385",
         "30.3259",
         "3.0843"
        ],
        [
         "29",
         "2000-07-28",
         "10.2999",
         "4.2931",
         null,
         "31.9756",
         null,
         null,
         null,
         "0.4056",
         "29.3012",
         "2.9694"
        ],
        [
         "30",
         "2000-08-04",
         "11.2726",
         "4.5614",
         null,
         "32.4035",
         null,
         null,
         null,
         "0.4242",
         "29.2572",
         "3.0269"
        ],
        [
         "31",
         "2000-08-11",
         "12.1071",
         "4.6884",
         null,
         "32.5258",
         null,
         null,
         null,
         "0.4628",
         "28.9177",
         "2.9345"
        ],
        [
         "32",
         "2000-08-18",
         "12.4971",
         "4.7302",
         null,
         "33.1576",
         null,
         null,
         null,
         "0.4517",
         "28.8423",
         "2.9151"
        ],
        [
         "33",
         "2000-08-25",
         "11.8997",
         "4.5074",
         null,
         "32.7805",
         null,
         null,
         null,
         "0.4305",
         "28.387",
         "2.8396"
        ],
        [
         "34",
         "2000-09-01",
         "11.8997",
         "4.5445",
         null,
         "32.7345",
         null,
         null,
         null,
         "0.4072",
         "28.1927",
         "2.7397"
        ],
        [
         "35",
         "2000-09-08",
         "11.73",
         "4.5749",
         null,
         "32.3628",
         null,
         null,
         null,
         "0.3992",
         "27.6504",
         "2.5911"
        ],
        [
         "36",
         "2000-09-15",
         "11.08",
         "4.7539",
         null,
         "32.3399",
         null,
         null,
         null,
         "0.3908",
         "27.4171",
         "2.5854"
        ],
        [
         "37",
         "2000-09-22",
         "11.0405",
         "4.71",
         null,
         "32.247",
         null,
         null,
         null,
         "0.4025",
         "27.3162",
         "2.5374"
        ],
        [
         "38",
         "2000-09-29",
         "11.5442",
         "4.629",
         null,
         "35.0757",
         null,
         null,
         null,
         "0.4215",
         "28.653",
         "2.4649"
        ],
        [
         "39",
         "2000-10-06",
         "11.6824",
         "4.5716",
         null,
         "35.7702",
         null,
         null,
         null,
         "0.4124",
         "29.1196",
         "2.4949"
        ],
        [
         "40",
         "2000-10-13",
         "11.1985",
         "4.3994",
         null,
         "34.0518",
         null,
         null,
         null,
         "0.3797",
         "28.7161",
         "2.2552"
        ],
        [
         "41",
         "2000-10-20",
         "11.7911",
         "4.3757",
         null,
         "33.5317",
         null,
         null,
         null,
         "0.3874",
         "28.8674",
         "2.5873"
        ],
        [
         "42",
         "2000-10-27",
         "12.5218",
         "4.6323",
         null,
         "34.4203",
         null,
         null,
         null,
         "0.3916",
         "30.1916",
         "2.5873"
        ],
        [
         "43",
         "2000-11-03",
         "12.8971",
         "4.5918",
         null,
         "38.0854",
         null,
         null,
         null,
         "0.3908",
         "30.6141",
         "2.6273"
        ],
        [
         "44",
         "2000-11-10",
         "13.3316",
         "4.656",
         null,
         "37.5653",
         null,
         null,
         null,
         "0.4199",
         "29.9268",
         "2.5199"
        ],
        [
         "45",
         "2000-11-17",
         "14.2673",
         "4.6653",
         null,
         "38.0299",
         null,
         null,
         null,
         "0.4279",
         "29.8069",
         "2.5823"
        ],
        [
         "46",
         "2000-11-24",
         "13.9612",
         "4.6797",
         null,
         "39.84",
         null,
         null,
         null,
         "0.4342",
         "30.3971",
         "2.6285"
        ],
        [
         "47",
         "2000-12-01",
         "13.7365",
         "4.8251",
         null,
         "39.5087",
         null,
         null,
         null,
         "0.4316",
         "30.7702",
         "2.6473"
        ],
        [
         "48",
         "2000-12-08",
         "14.6549",
         "4.9849",
         null,
         "38.356",
         null,
         null,
         null,
         "0.4242",
         "31.2634",
         "2.8171"
        ],
        [
         "49",
         "2000-12-15",
         "14.9511",
         "5.3555",
         null,
         "36.2121",
         null,
         null,
         null,
         "0.4364",
         "30.9915",
         "3.1667"
        ]
       ],
       "shape": {
        "columns": 11,
        "rows": 1329
       }
      },
      "text/html": [
       "<div>\n",
       "<style scoped>\n",
       "    .dataframe tbody tr th:only-of-type {\n",
       "        vertical-align: middle;\n",
       "    }\n",
       "\n",
       "    .dataframe tbody tr th {\n",
       "        vertical-align: top;\n",
       "    }\n",
       "\n",
       "    .dataframe thead th {\n",
       "        text-align: right;\n",
       "    }\n",
       "</style>\n",
       "<table border=\"1\" class=\"dataframe\">\n",
       "  <thead>\n",
       "    <tr style=\"text-align: right;\">\n",
       "      <th></th>\n",
       "      <th>Date</th>\n",
       "      <th>ARCB_df_logistics_Close</th>\n",
       "      <th>AIT_df_logistics_Close</th>\n",
       "      <th>CEVA_df_logistics_Close</th>\n",
       "      <th>FDX_df_logistics_Close</th>\n",
       "      <th>SAIA_df_logistics_Close</th>\n",
       "      <th>TFII.TO_df_logistics_Close</th>\n",
       "      <th>XPO_df_logistics_Close</th>\n",
       "      <th>ODFL_df_logistics_Close</th>\n",
       "      <th>UPS_df_logistics_Close</th>\n",
       "      <th>JBHT_df_logistics_Close</th>\n",
       "    </tr>\n",
       "  </thead>\n",
       "  <tbody>\n",
       "    <tr>\n",
       "      <th>0</th>\n",
       "      <td>2000-01-07</td>\n",
       "      <td>10.2456</td>\n",
       "      <td>4.2252</td>\n",
       "      <td>NaN</td>\n",
       "      <td>36.1330</td>\n",
       "      <td>NaN</td>\n",
       "      <td>NaN</td>\n",
       "      <td>NaN</td>\n",
       "      <td>0.4840</td>\n",
       "      <td>33.4329</td>\n",
       "      <td>2.6094</td>\n",
       "    </tr>\n",
       "    <tr>\n",
       "      <th>1</th>\n",
       "      <td>2000-01-14</td>\n",
       "      <td>10.2209</td>\n",
       "      <td>4.0500</td>\n",
       "      <td>NaN</td>\n",
       "      <td>37.6513</td>\n",
       "      <td>NaN</td>\n",
       "      <td>NaN</td>\n",
       "      <td>NaN</td>\n",
       "      <td>0.4914</td>\n",
       "      <td>33.7016</td>\n",
       "      <td>2.5821</td>\n",
       "    </tr>\n",
       "    <tr>\n",
       "      <th>2</th>\n",
       "      <td>2000-01-21</td>\n",
       "      <td>10.6344</td>\n",
       "      <td>4.3393</td>\n",
       "      <td>NaN</td>\n",
       "      <td>35.1930</td>\n",
       "      <td>NaN</td>\n",
       "      <td>NaN</td>\n",
       "      <td>NaN</td>\n",
       "      <td>0.5243</td>\n",
       "      <td>34.1281</td>\n",
       "      <td>2.5124</td>\n",
       "    </tr>\n",
       "    <tr>\n",
       "      <th>3</th>\n",
       "      <td>2000-01-28</td>\n",
       "      <td>9.9543</td>\n",
       "      <td>4.2880</td>\n",
       "      <td>NaN</td>\n",
       "      <td>33.1066</td>\n",
       "      <td>NaN</td>\n",
       "      <td>NaN</td>\n",
       "      <td>NaN</td>\n",
       "      <td>0.5354</td>\n",
       "      <td>32.7017</td>\n",
       "      <td>2.4714</td>\n",
       "    </tr>\n",
       "    <tr>\n",
       "      <th>4</th>\n",
       "      <td>2000-02-04</td>\n",
       "      <td>9.3568</td>\n",
       "      <td>4.2649</td>\n",
       "      <td>NaN</td>\n",
       "      <td>31.9144</td>\n",
       "      <td>NaN</td>\n",
       "      <td>NaN</td>\n",
       "      <td>NaN</td>\n",
       "      <td>0.5190</td>\n",
       "      <td>29.3584</td>\n",
       "      <td>2.5079</td>\n",
       "    </tr>\n",
       "    <tr>\n",
       "      <th>...</th>\n",
       "      <td>...</td>\n",
       "      <td>...</td>\n",
       "      <td>...</td>\n",
       "      <td>...</td>\n",
       "      <td>...</td>\n",
       "      <td>...</td>\n",
       "      <td>...</td>\n",
       "      <td>...</td>\n",
       "      <td>...</td>\n",
       "      <td>...</td>\n",
       "      <td>...</td>\n",
       "    </tr>\n",
       "    <tr>\n",
       "      <th>1324</th>\n",
       "      <td>2025-05-23</td>\n",
       "      <td>63.7080</td>\n",
       "      <td>226.5780</td>\n",
       "      <td>20.1420</td>\n",
       "      <td>219.8980</td>\n",
       "      <td>272.0360</td>\n",
       "      <td>121.3875</td>\n",
       "      <td>121.308</td>\n",
       "      <td>165.8267</td>\n",
       "      <td>96.9700</td>\n",
       "      <td>141.4160</td>\n",
       "    </tr>\n",
       "    <tr>\n",
       "      <th>1325</th>\n",
       "      <td>2025-05-30</td>\n",
       "      <td>63.9625</td>\n",
       "      <td>227.6050</td>\n",
       "      <td>19.1925</td>\n",
       "      <td>218.8175</td>\n",
       "      <td>269.3875</td>\n",
       "      <td>119.2300</td>\n",
       "      <td>117.125</td>\n",
       "      <td>161.9264</td>\n",
       "      <td>97.4825</td>\n",
       "      <td>139.3725</td>\n",
       "    </tr>\n",
       "    <tr>\n",
       "      <th>1326</th>\n",
       "      <td>2025-06-06</td>\n",
       "      <td>63.4820</td>\n",
       "      <td>228.9500</td>\n",
       "      <td>19.8700</td>\n",
       "      <td>218.5800</td>\n",
       "      <td>260.4360</td>\n",
       "      <td>118.7120</td>\n",
       "      <td>115.588</td>\n",
       "      <td>160.7950</td>\n",
       "      <td>97.8220</td>\n",
       "      <td>139.3440</td>\n",
       "    </tr>\n",
       "    <tr>\n",
       "      <th>1327</th>\n",
       "      <td>2025-06-13</td>\n",
       "      <td>69.1700</td>\n",
       "      <td>230.5940</td>\n",
       "      <td>21.0920</td>\n",
       "      <td>224.7040</td>\n",
       "      <td>259.1800</td>\n",
       "      <td>123.1960</td>\n",
       "      <td>121.270</td>\n",
       "      <td>162.9600</td>\n",
       "      <td>100.7700</td>\n",
       "      <td>141.6980</td>\n",
       "    </tr>\n",
       "    <tr>\n",
       "      <th>1328</th>\n",
       "      <td>2025-06-20</td>\n",
       "      <td>69.2600</td>\n",
       "      <td>230.0600</td>\n",
       "      <td>20.4700</td>\n",
       "      <td>226.7700</td>\n",
       "      <td>265.6100</td>\n",
       "      <td>123.8700</td>\n",
       "      <td>122.560</td>\n",
       "      <td>159.4500</td>\n",
       "      <td>101.0900</td>\n",
       "      <td>142.4900</td>\n",
       "    </tr>\n",
       "  </tbody>\n",
       "</table>\n",
       "<p>1329 rows × 11 columns</p>\n",
       "</div>"
      ],
      "text/plain": [
       "            Date  ARCB_df_logistics_Close  AIT_df_logistics_Close  \\\n",
       "0     2000-01-07                  10.2456                  4.2252   \n",
       "1     2000-01-14                  10.2209                  4.0500   \n",
       "2     2000-01-21                  10.6344                  4.3393   \n",
       "3     2000-01-28                   9.9543                  4.2880   \n",
       "4     2000-02-04                   9.3568                  4.2649   \n",
       "...          ...                      ...                     ...   \n",
       "1324  2025-05-23                  63.7080                226.5780   \n",
       "1325  2025-05-30                  63.9625                227.6050   \n",
       "1326  2025-06-06                  63.4820                228.9500   \n",
       "1327  2025-06-13                  69.1700                230.5940   \n",
       "1328  2025-06-20                  69.2600                230.0600   \n",
       "\n",
       "      CEVA_df_logistics_Close  FDX_df_logistics_Close  \\\n",
       "0                         NaN                 36.1330   \n",
       "1                         NaN                 37.6513   \n",
       "2                         NaN                 35.1930   \n",
       "3                         NaN                 33.1066   \n",
       "4                         NaN                 31.9144   \n",
       "...                       ...                     ...   \n",
       "1324                  20.1420                219.8980   \n",
       "1325                  19.1925                218.8175   \n",
       "1326                  19.8700                218.5800   \n",
       "1327                  21.0920                224.7040   \n",
       "1328                  20.4700                226.7700   \n",
       "\n",
       "      SAIA_df_logistics_Close  TFII.TO_df_logistics_Close  \\\n",
       "0                         NaN                         NaN   \n",
       "1                         NaN                         NaN   \n",
       "2                         NaN                         NaN   \n",
       "3                         NaN                         NaN   \n",
       "4                         NaN                         NaN   \n",
       "...                       ...                         ...   \n",
       "1324                 272.0360                    121.3875   \n",
       "1325                 269.3875                    119.2300   \n",
       "1326                 260.4360                    118.7120   \n",
       "1327                 259.1800                    123.1960   \n",
       "1328                 265.6100                    123.8700   \n",
       "\n",
       "      XPO_df_logistics_Close  ODFL_df_logistics_Close  UPS_df_logistics_Close  \\\n",
       "0                        NaN                   0.4840                 33.4329   \n",
       "1                        NaN                   0.4914                 33.7016   \n",
       "2                        NaN                   0.5243                 34.1281   \n",
       "3                        NaN                   0.5354                 32.7017   \n",
       "4                        NaN                   0.5190                 29.3584   \n",
       "...                      ...                      ...                     ...   \n",
       "1324                 121.308                 165.8267                 96.9700   \n",
       "1325                 117.125                 161.9264                 97.4825   \n",
       "1326                 115.588                 160.7950                 97.8220   \n",
       "1327                 121.270                 162.9600                100.7700   \n",
       "1328                 122.560                 159.4500                101.0900   \n",
       "\n",
       "      JBHT_df_logistics_Close  \n",
       "0                      2.6094  \n",
       "1                      2.5821  \n",
       "2                      2.5124  \n",
       "3                      2.4714  \n",
       "4                      2.5079  \n",
       "...                       ...  \n",
       "1324                 141.4160  \n",
       "1325                 139.3725  \n",
       "1326                 139.3440  \n",
       "1327                 141.6980  \n",
       "1328                 142.4900  \n",
       "\n",
       "[1329 rows x 11 columns]"
      ]
     },
     "execution_count": 12,
     "metadata": {},
     "output_type": "execute_result"
    }
   ],
   "source": [
    "df_logistics = pd.read_csv(\"csv_files/idea_csv/logistics_df_logistics_close.csv\")\n",
    "df_logistics"
   ]
  },
  {
   "cell_type": "markdown",
   "id": "876333ca",
   "metadata": {},
   "source": [
    "#### Official China PMI (Caixin PMI only starts in 2014)\n"
   ]
  },
  {
   "cell_type": "code",
   "execution_count": 13,
   "id": "4c9f73f2",
   "metadata": {},
   "outputs": [],
   "source": [
    "%%skip\n",
    "# All AkShare functions containing \"pmi\"\n",
    "\n",
    "df_official = ak.macro_china_pmi()\n",
    "\n",
    "print(\"Columns in df_official:\", df_official.columns.tolist())\n"
   ]
  },
  {
   "cell_type": "code",
   "execution_count": 14,
   "id": "3d78a461",
   "metadata": {},
   "outputs": [],
   "source": [
    "%%skip\n",
    "# 1) Fetch the official China PMI data\n",
    "df_official = ak.macro_china_pmi()\n",
    "\n",
    "# 2) Rename Chinese column names to English\n",
    "df_official = df_official.rename(columns={\n",
    "    \"月份\": \"Date\",\n",
    "    \"制造业-指数\": \"Official_Manufacturing_PMI\",\n",
    "    \"制造业-同比增长\": \"Official_Manufacturing_PMI_YoY\",\n",
    "    \"非制造业-指数\": \"Official_Services_PMI\",\n",
    "    \"非制造业-同比增长\": \"Official_Services_PMI_YoY\",\n",
    "})\n",
    "\n",
    "# 3) Clean and parse the 'Date' column (\"YYYY年MM月份\" → \"YYYY-MM\")\n",
    "df_official[\"Date\"] = (\n",
    "    df_official[\"Date\"]\n",
    "      .str.replace(\"年\", \"-\", regex=False)\n",
    "      .str.replace(\"月份\", \"\", regex=False)\n",
    ")\n",
    "df_official[\"Date\"] = pd.to_datetime(df_official[\"Date\"], format=\"%Y-%m\")\n",
    "\n",
    "# 4) Set Date as the index and sort\n",
    "df_official = df_official.set_index(\"Date\").sort_index()\n",
    "\n",
    "# 5) Subset to the period 2009-01-01 through 2014-12-31\n",
    "df_pmi_china = df_official.loc[\"2009-01-01\":\"2014-12-31\"]\n",
    "df_pmi_china.to_csv(\"csv_files/idea_csv/df_pmi_china.csv\")"
   ]
  },
  {
   "cell_type": "code",
   "execution_count": 15,
   "id": "352ea0e7",
   "metadata": {},
   "outputs": [
    {
     "data": {
      "application/vnd.microsoft.datawrangler.viewer.v0+json": {
       "columns": [
        {
         "name": "index",
         "rawType": "int64",
         "type": "integer"
        },
        {
         "name": "Date",
         "rawType": "object",
         "type": "string"
        },
        {
         "name": "Official_Manufacturing_PMI",
         "rawType": "float64",
         "type": "float"
        },
        {
         "name": "Official_Manufacturing_PMI_YoY",
         "rawType": "float64",
         "type": "float"
        },
        {
         "name": "Official_Services_PMI",
         "rawType": "float64",
         "type": "float"
        },
        {
         "name": "Official_Services_PMI_YoY",
         "rawType": "float64",
         "type": "float"
        }
       ],
       "ref": "72207e63-12ec-4c31-898c-8619280cfa0e",
       "rows": [
        [
         "0",
         "2009-01-01",
         "45.3",
         "-14.52830189",
         "53.7",
         "-10.79734219"
        ],
        [
         "1",
         "2009-02-01",
         "49.0",
         "-8.23970037",
         "55.1",
         "-7.08263069"
        ],
        [
         "2",
         "2009-03-01",
         "52.4",
         "-10.2739726",
         "54.4",
         "-7.64006791"
        ],
        [
         "3",
         "2009-04-01",
         "53.5",
         "-9.62837838",
         "53.5",
         "-8.39041096"
        ],
        [
         "4",
         "2009-05-01",
         "53.1",
         "-0.37523452",
         "54.9",
         "-4.3554007"
        ],
        [
         "5",
         "2009-06-01",
         "53.2",
         "2.30769231",
         "55.4",
         "-3.48432056"
        ],
        [
         "6",
         "2009-07-01",
         "53.3",
         "10.12396694",
         "57.3",
         "2.87253142"
        ],
        [
         "7",
         "2009-08-01",
         "54.0",
         "11.57024793",
         "57.3",
         "8.31758034"
        ],
        [
         "8",
         "2009-09-01",
         "54.3",
         "6.0546875",
         "57.9",
         "5.27272727"
        ],
        [
         "9",
         "2009-10-01",
         "55.2",
         "23.76681614",
         "59.5",
         "12.0527307"
        ],
        [
         "10",
         "2009-11-01",
         "55.2",
         "42.26804124",
         "58.4",
         "14.0625"
        ],
        [
         "11",
         "2009-12-01",
         "56.6",
         "37.37864078",
         "58.8",
         "15.7480315"
        ],
        [
         "12",
         "2010-01-01",
         "55.8",
         "23.17880795",
         "58.1",
         "8.19366853"
        ],
        [
         "13",
         "2010-02-01",
         "52.0",
         "6.12244898",
         "57.0",
         "3.44827586"
        ],
        [
         "14",
         "2010-03-01",
         "55.1",
         "5.15267176",
         "57.3",
         "5.33088235"
        ],
        [
         "15",
         "2010-04-01",
         "55.7",
         "4.11214953",
         "57.8",
         "8.03738318"
        ],
        [
         "16",
         "2010-05-01",
         "53.9",
         "1.50659134",
         "58.1",
         "5.8287796"
        ],
        [
         "17",
         "2010-06-01",
         "52.1",
         "-2.06766917",
         "58.8",
         "6.13718412"
        ],
        [
         "18",
         "2010-07-01",
         "51.2",
         "-3.93996248",
         "57.1",
         "-0.34904014"
        ],
        [
         "19",
         "2010-08-01",
         "51.7",
         "-4.25925926",
         "58.0",
         "1.22164049"
        ],
        [
         "20",
         "2010-09-01",
         "53.8",
         "-0.92081031",
         "57.9",
         "0.0"
        ],
        [
         "21",
         "2010-10-01",
         "54.7",
         "-0.9057971",
         "57.4",
         "-3.52941176"
        ],
        [
         "22",
         "2010-11-01",
         "55.2",
         "0.0",
         "58.9",
         "0.85616438"
        ],
        [
         "23",
         "2010-12-01",
         "53.9",
         "-4.77031802",
         "58.8",
         "0.0"
        ],
        [
         "24",
         "2011-01-01",
         "52.9",
         "-5.19713262",
         "57.2",
         "-1.54905336"
        ],
        [
         "25",
         "2011-02-01",
         "52.2",
         "0.38461538",
         "57.0",
         "0.0"
        ],
        [
         "26",
         "2011-03-01",
         "53.4",
         "-3.08529946",
         "59.2",
         "3.31588133"
        ],
        [
         "27",
         "2011-04-01",
         "52.9",
         "-5.02692998",
         "58.2",
         "0.69204152"
        ],
        [
         "28",
         "2011-05-01",
         "52.0",
         "-3.52504638",
         "58.7",
         "1.03270224"
        ],
        [
         "29",
         "2011-06-01",
         "50.9",
         "-2.30326296",
         "56.6",
         "-3.7414966"
        ],
        [
         "30",
         "2011-07-01",
         "50.7",
         "-0.9765625",
         "57.3",
         "0.3502627"
        ],
        [
         "31",
         "2011-08-01",
         "50.9",
         "-1.54738878",
         "57.1",
         "-1.55172414"
        ],
        [
         "32",
         "2011-09-01",
         "51.2",
         "-4.83271375",
         "55.8",
         "-3.62694301"
        ],
        [
         "33",
         "2011-10-01",
         "50.4",
         "-7.86106033",
         "55.5",
         "-3.31010453"
        ],
        [
         "34",
         "2011-11-01",
         "49.0",
         "-11.23188406",
         "55.9",
         "-5.09337861"
        ],
        [
         "35",
         "2011-12-01",
         "50.3",
         "-6.67903525",
         "56.3",
         "-4.25170068"
        ],
        [
         "36",
         "2012-01-01",
         "50.5",
         "-4.536862",
         "55.7",
         "-2.62237762"
        ],
        [
         "37",
         "2012-02-01",
         "51.0",
         "-2.29885057",
         "57.3",
         "0.52631579"
        ],
        [
         "38",
         "2012-03-01",
         "53.1",
         "-0.56179775",
         "58.0",
         "-2.02702703"
        ],
        [
         "39",
         "2012-04-01",
         "53.3",
         "0.75614367",
         "56.1",
         "-3.60824742"
        ],
        [
         "40",
         "2012-05-01",
         "50.4",
         "-3.07692308",
         "55.2",
         "-5.96252129"
        ],
        [
         "41",
         "2012-06-01",
         "50.2",
         "-1.37524558",
         "56.7",
         "0.17667845"
        ],
        [
         "42",
         "2012-07-01",
         "50.1",
         "-1.18343195",
         "55.6",
         "-2.96684119"
        ],
        [
         "43",
         "2012-08-01",
         "49.2",
         "-3.33988212",
         "56.3",
         "-1.40105079"
        ],
        [
         "44",
         "2012-09-01",
         "49.8",
         "-2.734375",
         "53.7",
         "-3.76344086"
        ],
        [
         "45",
         "2012-10-01",
         "50.2",
         "-0.3968254",
         "55.5",
         "0.0"
        ],
        [
         "46",
         "2012-11-01",
         "50.6",
         "3.26530612",
         "55.6",
         "-0.53667263"
        ],
        [
         "47",
         "2012-12-01",
         "50.6",
         "0.59642147",
         "56.1",
         "-0.35523979"
        ],
        [
         "48",
         "2013-01-01",
         "50.4",
         "-0.1980198",
         "56.2",
         "0.89766607"
        ],
        [
         "49",
         "2013-02-01",
         "50.1",
         "-1.76470588",
         "54.5",
         "-4.88656195"
        ]
       ],
       "shape": {
        "columns": 5,
        "rows": 72
       }
      },
      "text/html": [
       "<div>\n",
       "<style scoped>\n",
       "    .dataframe tbody tr th:only-of-type {\n",
       "        vertical-align: middle;\n",
       "    }\n",
       "\n",
       "    .dataframe tbody tr th {\n",
       "        vertical-align: top;\n",
       "    }\n",
       "\n",
       "    .dataframe thead th {\n",
       "        text-align: right;\n",
       "    }\n",
       "</style>\n",
       "<table border=\"1\" class=\"dataframe\">\n",
       "  <thead>\n",
       "    <tr style=\"text-align: right;\">\n",
       "      <th></th>\n",
       "      <th>Date</th>\n",
       "      <th>Official_Manufacturing_PMI</th>\n",
       "      <th>Official_Manufacturing_PMI_YoY</th>\n",
       "      <th>Official_Services_PMI</th>\n",
       "      <th>Official_Services_PMI_YoY</th>\n",
       "    </tr>\n",
       "  </thead>\n",
       "  <tbody>\n",
       "    <tr>\n",
       "      <th>0</th>\n",
       "      <td>2009-01-01</td>\n",
       "      <td>45.3</td>\n",
       "      <td>-14.528302</td>\n",
       "      <td>53.7</td>\n",
       "      <td>-10.797342</td>\n",
       "    </tr>\n",
       "    <tr>\n",
       "      <th>1</th>\n",
       "      <td>2009-02-01</td>\n",
       "      <td>49.0</td>\n",
       "      <td>-8.239700</td>\n",
       "      <td>55.1</td>\n",
       "      <td>-7.082631</td>\n",
       "    </tr>\n",
       "    <tr>\n",
       "      <th>2</th>\n",
       "      <td>2009-03-01</td>\n",
       "      <td>52.4</td>\n",
       "      <td>-10.273973</td>\n",
       "      <td>54.4</td>\n",
       "      <td>-7.640068</td>\n",
       "    </tr>\n",
       "    <tr>\n",
       "      <th>3</th>\n",
       "      <td>2009-04-01</td>\n",
       "      <td>53.5</td>\n",
       "      <td>-9.628378</td>\n",
       "      <td>53.5</td>\n",
       "      <td>-8.390411</td>\n",
       "    </tr>\n",
       "    <tr>\n",
       "      <th>4</th>\n",
       "      <td>2009-05-01</td>\n",
       "      <td>53.1</td>\n",
       "      <td>-0.375235</td>\n",
       "      <td>54.9</td>\n",
       "      <td>-4.355401</td>\n",
       "    </tr>\n",
       "    <tr>\n",
       "      <th>...</th>\n",
       "      <td>...</td>\n",
       "      <td>...</td>\n",
       "      <td>...</td>\n",
       "      <td>...</td>\n",
       "      <td>...</td>\n",
       "    </tr>\n",
       "    <tr>\n",
       "      <th>67</th>\n",
       "      <td>2014-08-01</td>\n",
       "      <td>51.1</td>\n",
       "      <td>0.196078</td>\n",
       "      <td>54.4</td>\n",
       "      <td>0.927644</td>\n",
       "    </tr>\n",
       "    <tr>\n",
       "      <th>68</th>\n",
       "      <td>2014-09-01</td>\n",
       "      <td>51.1</td>\n",
       "      <td>0.000000</td>\n",
       "      <td>54.0</td>\n",
       "      <td>-2.527076</td>\n",
       "    </tr>\n",
       "    <tr>\n",
       "      <th>69</th>\n",
       "      <td>2014-10-01</td>\n",
       "      <td>50.8</td>\n",
       "      <td>-1.167315</td>\n",
       "      <td>53.8</td>\n",
       "      <td>-4.440497</td>\n",
       "    </tr>\n",
       "    <tr>\n",
       "      <th>70</th>\n",
       "      <td>2014-11-01</td>\n",
       "      <td>50.3</td>\n",
       "      <td>-2.140078</td>\n",
       "      <td>53.9</td>\n",
       "      <td>-3.750000</td>\n",
       "    </tr>\n",
       "    <tr>\n",
       "      <th>71</th>\n",
       "      <td>2014-12-01</td>\n",
       "      <td>50.1</td>\n",
       "      <td>-1.764706</td>\n",
       "      <td>54.1</td>\n",
       "      <td>-0.915751</td>\n",
       "    </tr>\n",
       "  </tbody>\n",
       "</table>\n",
       "<p>72 rows × 5 columns</p>\n",
       "</div>"
      ],
      "text/plain": [
       "          Date  Official_Manufacturing_PMI  Official_Manufacturing_PMI_YoY  \\\n",
       "0   2009-01-01                        45.3                      -14.528302   \n",
       "1   2009-02-01                        49.0                       -8.239700   \n",
       "2   2009-03-01                        52.4                      -10.273973   \n",
       "3   2009-04-01                        53.5                       -9.628378   \n",
       "4   2009-05-01                        53.1                       -0.375235   \n",
       "..         ...                         ...                             ...   \n",
       "67  2014-08-01                        51.1                        0.196078   \n",
       "68  2014-09-01                        51.1                        0.000000   \n",
       "69  2014-10-01                        50.8                       -1.167315   \n",
       "70  2014-11-01                        50.3                       -2.140078   \n",
       "71  2014-12-01                        50.1                       -1.764706   \n",
       "\n",
       "    Official_Services_PMI  Official_Services_PMI_YoY  \n",
       "0                    53.7                 -10.797342  \n",
       "1                    55.1                  -7.082631  \n",
       "2                    54.4                  -7.640068  \n",
       "3                    53.5                  -8.390411  \n",
       "4                    54.9                  -4.355401  \n",
       "..                    ...                        ...  \n",
       "67                   54.4                   0.927644  \n",
       "68                   54.0                  -2.527076  \n",
       "69                   53.8                  -4.440497  \n",
       "70                   53.9                  -3.750000  \n",
       "71                   54.1                  -0.915751  \n",
       "\n",
       "[72 rows x 5 columns]"
      ]
     },
     "execution_count": 15,
     "metadata": {},
     "output_type": "execute_result"
    }
   ],
   "source": [
    "df_pmi_china = pd.read_csv(\"csv_files/idea_csv/df_pmi_china.csv\")\n",
    "df_pmi_china"
   ]
  },
  {
   "cell_type": "markdown",
   "id": "1824d1ce",
   "metadata": {},
   "source": [
    "#### PCE USA (Personal Consumption Expenditures)\n"
   ]
  },
  {
   "cell_type": "code",
   "execution_count": 16,
   "id": "b5091fcc",
   "metadata": {},
   "outputs": [],
   "source": [
    "%%skip\n",
    "START_DATE = \"2000-01-01\"\n",
    "END_DATE   = date.today().isoformat()\n",
    "\n",
    "df_pce = DataReader(\"PCE\", \"fred\", start=START_DATE, end=END_DATE)\n",
    "\n",
    "df_pce.columns = [\"Personal_Consumption_Expenditures\"]\n",
    "\n",
    "# 4) Save and quick sanity-check\n",
    "OUTFILE = \"csv_files/idea_csv/personal_consumption_expenditures.csv\"\n",
    "df_pce.to_csv(OUTFILE)\n"
   ]
  },
  {
   "cell_type": "code",
   "execution_count": 17,
   "id": "f5374042",
   "metadata": {},
   "outputs": [
    {
     "data": {
      "application/vnd.microsoft.datawrangler.viewer.v0+json": {
       "columns": [
        {
         "name": "index",
         "rawType": "int64",
         "type": "integer"
        },
        {
         "name": "DATE",
         "rawType": "object",
         "type": "string"
        },
        {
         "name": "Personal_Consumption_Expenditures",
         "rawType": "float64",
         "type": "float"
        }
       ],
       "ref": "80020db0-2591-4daa-8e89-a4dc125cccd5",
       "rows": [
        [
         "0",
         "2000-01-01",
         "6542.9"
        ],
        [
         "1",
         "2000-02-01",
         "6625.3"
        ],
        [
         "2",
         "2000-03-01",
         "6686.5"
        ],
        [
         "3",
         "2000-04-01",
         "6679.1"
        ],
        [
         "4",
         "2000-05-01",
         "6709.7"
        ],
        [
         "5",
         "2000-06-01",
         "6746.9"
        ],
        [
         "6",
         "2000-07-01",
         "6768.5"
        ],
        [
         "7",
         "2000-08-01",
         "6802.8"
        ],
        [
         "8",
         "2000-09-01",
         "6888.6"
        ],
        [
         "9",
         "2000-10-01",
         "6893.8"
        ],
        [
         "10",
         "2000-11-01",
         "6909.8"
        ],
        [
         "11",
         "2000-12-01",
         "6952.2"
        ],
        [
         "12",
         "2001-01-01",
         "6987.4"
        ],
        [
         "13",
         "2001-02-01",
         "7001.8"
        ],
        [
         "14",
         "2001-03-01",
         "6996.7"
        ],
        [
         "15",
         "2001-04-01",
         "7004.2"
        ],
        [
         "16",
         "2001-05-01",
         "7052.8"
        ],
        [
         "17",
         "2001-06-01",
         "7069.7"
        ],
        [
         "18",
         "2001-07-01",
         "7082.3"
        ],
        [
         "19",
         "2001-08-01",
         "7121.7"
        ],
        [
         "20",
         "2001-09-01",
         "7007.0"
        ],
        [
         "21",
         "2001-10-01",
         "7212.9"
        ],
        [
         "22",
         "2001-11-01",
         "7182.3"
        ],
        [
         "23",
         "2001-12-01",
         "7166.7"
        ],
        [
         "24",
         "2002-01-01",
         "7184.6"
        ],
        [
         "25",
         "2002-02-01",
         "7225.2"
        ],
        [
         "26",
         "2002-03-01",
         "7243.4"
        ],
        [
         "27",
         "2002-04-01",
         "7312.5"
        ],
        [
         "28",
         "2002-05-01",
         "7288.9"
        ],
        [
         "29",
         "2002-06-01",
         "7322.5"
        ],
        [
         "30",
         "2002-07-01",
         "7387.3"
        ],
        [
         "31",
         "2002-08-01",
         "7412.6"
        ],
        [
         "32",
         "2002-09-01",
         "7391.5"
        ],
        [
         "33",
         "2002-10-01",
         "7435.2"
        ],
        [
         "34",
         "2002-11-01",
         "7463.8"
        ],
        [
         "35",
         "2002-12-01",
         "7519.9"
        ],
        [
         "36",
         "2003-01-01",
         "7541.3"
        ],
        [
         "37",
         "2003-02-01",
         "7548.6"
        ],
        [
         "38",
         "2003-03-01",
         "7611.5"
        ],
        [
         "39",
         "2003-04-01",
         "7634.5"
        ],
        [
         "40",
         "2003-05-01",
         "7650.3"
        ],
        [
         "41",
         "2003-06-01",
         "7699.6"
        ],
        [
         "42",
         "2003-07-01",
         "7757.0"
        ],
        [
         "43",
         "2003-08-01",
         "7852.1"
        ],
        [
         "44",
         "2003-09-01",
         "7853.7"
        ],
        [
         "45",
         "2003-10-01",
         "7867.4"
        ],
        [
         "46",
         "2003-11-01",
         "7922.6"
        ],
        [
         "47",
         "2003-12-01",
         "7950.4"
        ],
        [
         "48",
         "2004-01-01",
         "8007.1"
        ],
        [
         "49",
         "2004-02-01",
         "8040.4"
        ]
       ],
       "shape": {
        "columns": 2,
        "rows": 304
       }
      },
      "text/html": [
       "<div>\n",
       "<style scoped>\n",
       "    .dataframe tbody tr th:only-of-type {\n",
       "        vertical-align: middle;\n",
       "    }\n",
       "\n",
       "    .dataframe tbody tr th {\n",
       "        vertical-align: top;\n",
       "    }\n",
       "\n",
       "    .dataframe thead th {\n",
       "        text-align: right;\n",
       "    }\n",
       "</style>\n",
       "<table border=\"1\" class=\"dataframe\">\n",
       "  <thead>\n",
       "    <tr style=\"text-align: right;\">\n",
       "      <th></th>\n",
       "      <th>DATE</th>\n",
       "      <th>Personal_Consumption_Expenditures</th>\n",
       "    </tr>\n",
       "  </thead>\n",
       "  <tbody>\n",
       "    <tr>\n",
       "      <th>0</th>\n",
       "      <td>2000-01-01</td>\n",
       "      <td>6542.9</td>\n",
       "    </tr>\n",
       "    <tr>\n",
       "      <th>1</th>\n",
       "      <td>2000-02-01</td>\n",
       "      <td>6625.3</td>\n",
       "    </tr>\n",
       "    <tr>\n",
       "      <th>2</th>\n",
       "      <td>2000-03-01</td>\n",
       "      <td>6686.5</td>\n",
       "    </tr>\n",
       "    <tr>\n",
       "      <th>3</th>\n",
       "      <td>2000-04-01</td>\n",
       "      <td>6679.1</td>\n",
       "    </tr>\n",
       "    <tr>\n",
       "      <th>4</th>\n",
       "      <td>2000-05-01</td>\n",
       "      <td>6709.7</td>\n",
       "    </tr>\n",
       "    <tr>\n",
       "      <th>...</th>\n",
       "      <td>...</td>\n",
       "      <td>...</td>\n",
       "    </tr>\n",
       "    <tr>\n",
       "      <th>299</th>\n",
       "      <td>2024-12-01</td>\n",
       "      <td>20408.1</td>\n",
       "    </tr>\n",
       "    <tr>\n",
       "      <th>300</th>\n",
       "      <td>2025-01-01</td>\n",
       "      <td>20389.0</td>\n",
       "    </tr>\n",
       "    <tr>\n",
       "      <th>301</th>\n",
       "      <td>2025-02-01</td>\n",
       "      <td>20469.3</td>\n",
       "    </tr>\n",
       "    <tr>\n",
       "      <th>302</th>\n",
       "      <td>2025-03-01</td>\n",
       "      <td>20621.8</td>\n",
       "    </tr>\n",
       "    <tr>\n",
       "      <th>303</th>\n",
       "      <td>2025-04-01</td>\n",
       "      <td>20669.5</td>\n",
       "    </tr>\n",
       "  </tbody>\n",
       "</table>\n",
       "<p>304 rows × 2 columns</p>\n",
       "</div>"
      ],
      "text/plain": [
       "           DATE  Personal_Consumption_Expenditures\n",
       "0    2000-01-01                             6542.9\n",
       "1    2000-02-01                             6625.3\n",
       "2    2000-03-01                             6686.5\n",
       "3    2000-04-01                             6679.1\n",
       "4    2000-05-01                             6709.7\n",
       "..          ...                                ...\n",
       "299  2024-12-01                            20408.1\n",
       "300  2025-01-01                            20389.0\n",
       "301  2025-02-01                            20469.3\n",
       "302  2025-03-01                            20621.8\n",
       "303  2025-04-01                            20669.5\n",
       "\n",
       "[304 rows x 2 columns]"
      ]
     },
     "execution_count": 17,
     "metadata": {},
     "output_type": "execute_result"
    }
   ],
   "source": [
    "df_pce = pd.read_csv(\"csv_files/idea_csv/personal_consumption_expenditures.csv\")\n",
    "df_pce"
   ]
  },
  {
   "cell_type": "markdown",
   "id": "c091ad03",
   "metadata": {},
   "source": [
    "#### Interest Rates USA (Fed Funds Rate & Tbill 3 Months Yield)"
   ]
  },
  {
   "cell_type": "code",
   "execution_count": 18,
   "id": "06d04fe0",
   "metadata": {},
   "outputs": [],
   "source": [
    "%%skip\n",
    "START = \"2001-06-01\"               \n",
    "END   = date.today().isoformat()\n",
    "\n",
    "\n",
    "fed  = DataReader(\"FEDFUNDS\", \"fred\", START, END)\n",
    "tbill = DataReader(\"DGS3MO\",  \"fred\", START, END)\n",
    "\n",
    "df_interest_rates = pd.concat([fed, tbill], axis=1).rename(columns={\n",
    "    \"FEDFUNDS\": \"Fed_Funds_Rate\",\n",
    "    \"DGS3MO\":   \"TBill_3mo_Yield\",\n",
    "})\n",
    "df_interest_rates = df_interest_rates.resample(\"W-FRI\").mean()\n",
    "\n",
    "OUTFILE = \"csv_files/idea_csv/df_interest_rates.csv\"\n",
    "df_interest_rates.to_csv(OUTFILE)"
   ]
  },
  {
   "cell_type": "code",
   "execution_count": 19,
   "id": "41da9b40",
   "metadata": {},
   "outputs": [
    {
     "data": {
      "application/vnd.microsoft.datawrangler.viewer.v0+json": {
       "columns": [
        {
         "name": "index",
         "rawType": "int64",
         "type": "integer"
        },
        {
         "name": "DATE",
         "rawType": "object",
         "type": "string"
        },
        {
         "name": "Fed_Funds_Rate",
         "rawType": "float64",
         "type": "float"
        },
        {
         "name": "TBill_3mo_Yield",
         "rawType": "float64",
         "type": "float"
        }
       ],
       "ref": "a0629de5-694c-4067-b666-5915cce436f1",
       "rows": [
        [
         "0",
         "2001-06-01",
         "3.97",
         "3.67"
        ],
        [
         "1",
         "2001-06-08",
         null,
         "3.64"
        ],
        [
         "2",
         "2001-06-15",
         null,
         "3.558"
        ],
        [
         "3",
         "2001-06-22",
         null,
         "3.496"
        ],
        [
         "4",
         "2001-06-29",
         null,
         "3.5460000000000003"
        ],
        [
         "5",
         "2001-07-06",
         "3.77",
         "3.6525"
        ],
        [
         "6",
         "2001-07-13",
         null,
         "3.616"
        ],
        [
         "7",
         "2001-07-20",
         null,
         "3.5740000000000003"
        ],
        [
         "8",
         "2001-07-27",
         null,
         "3.558"
        ],
        [
         "9",
         "2001-08-03",
         "3.65",
         "3.538"
        ],
        [
         "10",
         "2001-08-10",
         null,
         "3.482"
        ],
        [
         "11",
         "2001-08-17",
         null,
         "3.4120000000000004"
        ],
        [
         "12",
         "2001-08-24",
         null,
         "3.402"
        ],
        [
         "13",
         "2001-08-31",
         null,
         "3.402"
        ],
        [
         "14",
         "2001-09-07",
         "3.07",
         "3.365"
        ],
        [
         "15",
         "2001-09-14",
         null,
         "2.8800000000000003"
        ],
        [
         "16",
         "2001-09-21",
         null,
         "2.346"
        ],
        [
         "17",
         "2001-09-28",
         null,
         "2.388"
        ],
        [
         "18",
         "2001-10-05",
         "2.49",
         "2.252"
        ],
        [
         "19",
         "2001-10-12",
         null,
         "2.24"
        ],
        [
         "20",
         "2001-10-19",
         null,
         "2.214"
        ],
        [
         "21",
         "2001-10-26",
         null,
         "2.1740000000000004"
        ],
        [
         "22",
         "2001-11-02",
         "2.09",
         "2.052"
        ],
        [
         "23",
         "2001-11-09",
         null,
         "1.866"
        ],
        [
         "24",
         "2001-11-16",
         null,
         "1.895"
        ],
        [
         "25",
         "2001-11-23",
         null,
         "1.95"
        ],
        [
         "26",
         "2001-11-30",
         null,
         "1.87"
        ],
        [
         "27",
         "2001-12-07",
         "1.82",
         "1.746"
        ],
        [
         "28",
         "2001-12-14",
         null,
         "1.6919999999999995"
        ],
        [
         "29",
         "2001-12-21",
         null,
         "1.7079999999999995"
        ],
        [
         "30",
         "2001-12-28",
         null,
         "1.7325"
        ],
        [
         "31",
         "2002-01-04",
         "1.73",
         "1.7325"
        ],
        [
         "32",
         "2002-01-11",
         null,
         "1.66"
        ],
        [
         "33",
         "2002-01-18",
         null,
         "1.61"
        ],
        [
         "34",
         "2002-01-25",
         null,
         "1.7125"
        ],
        [
         "35",
         "2002-02-01",
         "1.74",
         "1.75"
        ],
        [
         "36",
         "2002-02-08",
         null,
         "1.746"
        ],
        [
         "37",
         "2002-02-15",
         null,
         "1.75"
        ],
        [
         "38",
         "2002-02-22",
         null,
         "1.76"
        ],
        [
         "39",
         "2002-03-01",
         "1.73",
         "1.7740000000000002"
        ],
        [
         "40",
         "2002-03-08",
         null,
         "1.796"
        ],
        [
         "41",
         "2002-03-15",
         null,
         "1.848"
        ],
        [
         "42",
         "2002-03-22",
         null,
         "1.85"
        ],
        [
         "43",
         "2002-03-29",
         null,
         "1.815"
        ],
        [
         "44",
         "2002-04-05",
         "1.75",
         "1.784"
        ],
        [
         "45",
         "2002-04-12",
         null,
         "1.7239999999999998"
        ],
        [
         "46",
         "2002-04-19",
         null,
         "1.7280000000000002"
        ],
        [
         "47",
         "2002-04-26",
         null,
         "1.732"
        ],
        [
         "48",
         "2002-05-03",
         "1.75",
         "1.77"
        ],
        [
         "49",
         "2002-05-10",
         null,
         "1.768"
        ]
       ],
       "shape": {
        "columns": 3,
        "rows": 1255
       }
      },
      "text/html": [
       "<div>\n",
       "<style scoped>\n",
       "    .dataframe tbody tr th:only-of-type {\n",
       "        vertical-align: middle;\n",
       "    }\n",
       "\n",
       "    .dataframe tbody tr th {\n",
       "        vertical-align: top;\n",
       "    }\n",
       "\n",
       "    .dataframe thead th {\n",
       "        text-align: right;\n",
       "    }\n",
       "</style>\n",
       "<table border=\"1\" class=\"dataframe\">\n",
       "  <thead>\n",
       "    <tr style=\"text-align: right;\">\n",
       "      <th></th>\n",
       "      <th>DATE</th>\n",
       "      <th>Fed_Funds_Rate</th>\n",
       "      <th>TBill_3mo_Yield</th>\n",
       "    </tr>\n",
       "  </thead>\n",
       "  <tbody>\n",
       "    <tr>\n",
       "      <th>0</th>\n",
       "      <td>2001-06-01</td>\n",
       "      <td>3.97</td>\n",
       "      <td>3.670</td>\n",
       "    </tr>\n",
       "    <tr>\n",
       "      <th>1</th>\n",
       "      <td>2001-06-08</td>\n",
       "      <td>NaN</td>\n",
       "      <td>3.640</td>\n",
       "    </tr>\n",
       "    <tr>\n",
       "      <th>2</th>\n",
       "      <td>2001-06-15</td>\n",
       "      <td>NaN</td>\n",
       "      <td>3.558</td>\n",
       "    </tr>\n",
       "    <tr>\n",
       "      <th>3</th>\n",
       "      <td>2001-06-22</td>\n",
       "      <td>NaN</td>\n",
       "      <td>3.496</td>\n",
       "    </tr>\n",
       "    <tr>\n",
       "      <th>4</th>\n",
       "      <td>2001-06-29</td>\n",
       "      <td>NaN</td>\n",
       "      <td>3.546</td>\n",
       "    </tr>\n",
       "    <tr>\n",
       "      <th>...</th>\n",
       "      <td>...</td>\n",
       "      <td>...</td>\n",
       "      <td>...</td>\n",
       "    </tr>\n",
       "    <tr>\n",
       "      <th>1250</th>\n",
       "      <td>2025-05-16</td>\n",
       "      <td>NaN</td>\n",
       "      <td>4.398</td>\n",
       "    </tr>\n",
       "    <tr>\n",
       "      <th>1251</th>\n",
       "      <td>2025-05-23</td>\n",
       "      <td>NaN</td>\n",
       "      <td>4.372</td>\n",
       "    </tr>\n",
       "    <tr>\n",
       "      <th>1252</th>\n",
       "      <td>2025-05-30</td>\n",
       "      <td>NaN</td>\n",
       "      <td>4.355</td>\n",
       "    </tr>\n",
       "    <tr>\n",
       "      <th>1253</th>\n",
       "      <td>2025-06-06</td>\n",
       "      <td>NaN</td>\n",
       "      <td>4.436</td>\n",
       "    </tr>\n",
       "    <tr>\n",
       "      <th>1254</th>\n",
       "      <td>2025-06-13</td>\n",
       "      <td>NaN</td>\n",
       "      <td>4.450</td>\n",
       "    </tr>\n",
       "  </tbody>\n",
       "</table>\n",
       "<p>1255 rows × 3 columns</p>\n",
       "</div>"
      ],
      "text/plain": [
       "            DATE  Fed_Funds_Rate  TBill_3mo_Yield\n",
       "0     2001-06-01            3.97            3.670\n",
       "1     2001-06-08             NaN            3.640\n",
       "2     2001-06-15             NaN            3.558\n",
       "3     2001-06-22             NaN            3.496\n",
       "4     2001-06-29             NaN            3.546\n",
       "...          ...             ...              ...\n",
       "1250  2025-05-16             NaN            4.398\n",
       "1251  2025-05-23             NaN            4.372\n",
       "1252  2025-05-30             NaN            4.355\n",
       "1253  2025-06-06             NaN            4.436\n",
       "1254  2025-06-13             NaN            4.450\n",
       "\n",
       "[1255 rows x 3 columns]"
      ]
     },
     "execution_count": 19,
     "metadata": {},
     "output_type": "execute_result"
    }
   ],
   "source": [
    "df_interest_rates = pd.read_csv(\"csv_files/idea_csv/df_interest_rates.csv\")\n",
    "df_interest_rates"
   ]
  },
  {
   "cell_type": "markdown",
   "id": "8907aa88",
   "metadata": {},
   "source": [
    "#### CCI USA (Consumer Confidence Index) from University of Michigan"
   ]
  },
  {
   "cell_type": "code",
   "execution_count": 20,
   "id": "d8eff796",
   "metadata": {},
   "outputs": [],
   "source": [
    "%%skip\n",
    "START_DATE = \"2001-06-17\"\n",
    "END_DATE   = date.today().isoformat()\n",
    "\n",
    "df_us_cci = DataReader(\"UMCSENT\", \"fred\", START_DATE, END_DATE)\n",
    "df_us_cci.columns = [\"Consumer_Sentiment_UMich\"]\n",
    "\n",
    "OUTFILE = \"csv_files/idea_csv/consumer_confidence_index.csv\"\n",
    "df_us_cci.to_csv(OUTFILE)"
   ]
  },
  {
   "cell_type": "code",
   "execution_count": 21,
   "id": "51523471",
   "metadata": {},
   "outputs": [
    {
     "data": {
      "application/vnd.microsoft.datawrangler.viewer.v0+json": {
       "columns": [
        {
         "name": "index",
         "rawType": "int64",
         "type": "integer"
        },
        {
         "name": "DATE",
         "rawType": "object",
         "type": "string"
        },
        {
         "name": "Consumer_Sentiment_UMich",
         "rawType": "float64",
         "type": "float"
        }
       ],
       "ref": "1cf6878e-9906-44e1-885f-80d2bca4537b",
       "rows": [
        [
         "0",
         "2001-07-01",
         "92.4"
        ],
        [
         "1",
         "2001-08-01",
         "91.5"
        ],
        [
         "2",
         "2001-09-01",
         "81.8"
        ],
        [
         "3",
         "2001-10-01",
         "82.7"
        ],
        [
         "4",
         "2001-11-01",
         "83.9"
        ],
        [
         "5",
         "2001-12-01",
         "88.8"
        ],
        [
         "6",
         "2002-01-01",
         "93.0"
        ],
        [
         "7",
         "2002-02-01",
         "90.7"
        ],
        [
         "8",
         "2002-03-01",
         "95.7"
        ],
        [
         "9",
         "2002-04-01",
         "93.0"
        ],
        [
         "10",
         "2002-05-01",
         "96.9"
        ],
        [
         "11",
         "2002-06-01",
         "92.4"
        ],
        [
         "12",
         "2002-07-01",
         "88.1"
        ],
        [
         "13",
         "2002-08-01",
         "87.6"
        ],
        [
         "14",
         "2002-09-01",
         "86.1"
        ],
        [
         "15",
         "2002-10-01",
         "80.6"
        ],
        [
         "16",
         "2002-11-01",
         "84.2"
        ],
        [
         "17",
         "2002-12-01",
         "86.7"
        ],
        [
         "18",
         "2003-01-01",
         "82.4"
        ],
        [
         "19",
         "2003-02-01",
         "79.9"
        ],
        [
         "20",
         "2003-03-01",
         "77.6"
        ],
        [
         "21",
         "2003-04-01",
         "86.0"
        ],
        [
         "22",
         "2003-05-01",
         "92.1"
        ],
        [
         "23",
         "2003-06-01",
         "89.7"
        ],
        [
         "24",
         "2003-07-01",
         "90.9"
        ],
        [
         "25",
         "2003-08-01",
         "89.3"
        ],
        [
         "26",
         "2003-09-01",
         "87.7"
        ],
        [
         "27",
         "2003-10-01",
         "89.6"
        ],
        [
         "28",
         "2003-11-01",
         "93.7"
        ],
        [
         "29",
         "2003-12-01",
         "92.6"
        ],
        [
         "30",
         "2004-01-01",
         "103.8"
        ],
        [
         "31",
         "2004-02-01",
         "94.4"
        ],
        [
         "32",
         "2004-03-01",
         "95.8"
        ],
        [
         "33",
         "2004-04-01",
         "94.2"
        ],
        [
         "34",
         "2004-05-01",
         "90.2"
        ],
        [
         "35",
         "2004-06-01",
         "95.6"
        ],
        [
         "36",
         "2004-07-01",
         "96.7"
        ],
        [
         "37",
         "2004-08-01",
         "95.9"
        ],
        [
         "38",
         "2004-09-01",
         "94.2"
        ],
        [
         "39",
         "2004-10-01",
         "91.7"
        ],
        [
         "40",
         "2004-11-01",
         "92.8"
        ],
        [
         "41",
         "2004-12-01",
         "97.1"
        ],
        [
         "42",
         "2005-01-01",
         "95.5"
        ],
        [
         "43",
         "2005-02-01",
         "94.1"
        ],
        [
         "44",
         "2005-03-01",
         "92.6"
        ],
        [
         "45",
         "2005-04-01",
         "87.7"
        ],
        [
         "46",
         "2005-05-01",
         "86.9"
        ],
        [
         "47",
         "2005-06-01",
         "96.0"
        ],
        [
         "48",
         "2005-07-01",
         "96.5"
        ],
        [
         "49",
         "2005-08-01",
         "89.1"
        ]
       ],
       "shape": {
        "columns": 2,
        "rows": 286
       }
      },
      "text/html": [
       "<div>\n",
       "<style scoped>\n",
       "    .dataframe tbody tr th:only-of-type {\n",
       "        vertical-align: middle;\n",
       "    }\n",
       "\n",
       "    .dataframe tbody tr th {\n",
       "        vertical-align: top;\n",
       "    }\n",
       "\n",
       "    .dataframe thead th {\n",
       "        text-align: right;\n",
       "    }\n",
       "</style>\n",
       "<table border=\"1\" class=\"dataframe\">\n",
       "  <thead>\n",
       "    <tr style=\"text-align: right;\">\n",
       "      <th></th>\n",
       "      <th>DATE</th>\n",
       "      <th>Consumer_Sentiment_UMich</th>\n",
       "    </tr>\n",
       "  </thead>\n",
       "  <tbody>\n",
       "    <tr>\n",
       "      <th>0</th>\n",
       "      <td>2001-07-01</td>\n",
       "      <td>92.4</td>\n",
       "    </tr>\n",
       "    <tr>\n",
       "      <th>1</th>\n",
       "      <td>2001-08-01</td>\n",
       "      <td>91.5</td>\n",
       "    </tr>\n",
       "    <tr>\n",
       "      <th>2</th>\n",
       "      <td>2001-09-01</td>\n",
       "      <td>81.8</td>\n",
       "    </tr>\n",
       "    <tr>\n",
       "      <th>3</th>\n",
       "      <td>2001-10-01</td>\n",
       "      <td>82.7</td>\n",
       "    </tr>\n",
       "    <tr>\n",
       "      <th>4</th>\n",
       "      <td>2001-11-01</td>\n",
       "      <td>83.9</td>\n",
       "    </tr>\n",
       "    <tr>\n",
       "      <th>...</th>\n",
       "      <td>...</td>\n",
       "      <td>...</td>\n",
       "    </tr>\n",
       "    <tr>\n",
       "      <th>281</th>\n",
       "      <td>2024-12-01</td>\n",
       "      <td>74.0</td>\n",
       "    </tr>\n",
       "    <tr>\n",
       "      <th>282</th>\n",
       "      <td>2025-01-01</td>\n",
       "      <td>71.7</td>\n",
       "    </tr>\n",
       "    <tr>\n",
       "      <th>283</th>\n",
       "      <td>2025-02-01</td>\n",
       "      <td>64.7</td>\n",
       "    </tr>\n",
       "    <tr>\n",
       "      <th>284</th>\n",
       "      <td>2025-03-01</td>\n",
       "      <td>57.0</td>\n",
       "    </tr>\n",
       "    <tr>\n",
       "      <th>285</th>\n",
       "      <td>2025-04-01</td>\n",
       "      <td>52.2</td>\n",
       "    </tr>\n",
       "  </tbody>\n",
       "</table>\n",
       "<p>286 rows × 2 columns</p>\n",
       "</div>"
      ],
      "text/plain": [
       "           DATE  Consumer_Sentiment_UMich\n",
       "0    2001-07-01                      92.4\n",
       "1    2001-08-01                      91.5\n",
       "2    2001-09-01                      81.8\n",
       "3    2001-10-01                      82.7\n",
       "4    2001-11-01                      83.9\n",
       "..          ...                       ...\n",
       "281  2024-12-01                      74.0\n",
       "282  2025-01-01                      71.7\n",
       "283  2025-02-01                      64.7\n",
       "284  2025-03-01                      57.0\n",
       "285  2025-04-01                      52.2\n",
       "\n",
       "[286 rows x 2 columns]"
      ]
     },
     "execution_count": 21,
     "metadata": {},
     "output_type": "execute_result"
    }
   ],
   "source": [
    "df_us_cci = pd.read_csv(\"csv_files/idea_csv/consumer_confidence_index.csv\")\n",
    "df_us_cci"
   ]
  },
  {
   "cell_type": "markdown",
   "id": "9939e092",
   "metadata": {},
   "source": [
    "#### U.S.A Advance Retail Sales: Retail Trade and Food Services"
   ]
  },
  {
   "cell_type": "code",
   "execution_count": 22,
   "id": "f03ba7e2",
   "metadata": {},
   "outputs": [],
   "source": [
    "%%skip\n",
    "START_DATE = \"2000-01-01\"\n",
    "END_DATE   = date.today().isoformat()\n",
    "\n",
    "# RSAFS = Advance Retail Sales: Retail Trade and Food Services (Millions of Dollars, SA)\n",
    "df_us_retail = DataReader(\"RSAFS\", \"fred\", START_DATE, END_DATE)\n",
    "\n",
    "df_us_retail.columns = [\"Retail_Sales_Retail_and_Food_Services_USA\"]\n",
    "\n",
    "OUTFILE = \"csv_files/idea_csv/usa_retail_sales.csv\"\n",
    "df_us_retail.to_csv(OUTFILE)"
   ]
  },
  {
   "cell_type": "code",
   "execution_count": 23,
   "id": "a51ef437",
   "metadata": {},
   "outputs": [
    {
     "data": {
      "application/vnd.microsoft.datawrangler.viewer.v0+json": {
       "columns": [
        {
         "name": "index",
         "rawType": "int64",
         "type": "integer"
        },
        {
         "name": "DATE",
         "rawType": "object",
         "type": "string"
        },
        {
         "name": "Retail_Sales_Retail_and_Food_Services_USA",
         "rawType": "int64",
         "type": "integer"
        }
       ],
       "ref": "8c14186a-4af9-4821-aacb-3b17fef77796",
       "rows": [
        [
         "0",
         "2000-01-01",
         "261545"
        ],
        [
         "1",
         "2000-02-01",
         "265686"
        ],
        [
         "2",
         "2000-03-01",
         "269019"
        ],
        [
         "3",
         "2000-04-01",
         "264067"
        ],
        [
         "4",
         "2000-05-01",
         "265992"
        ],
        [
         "5",
         "2000-06-01",
         "267750"
        ],
        [
         "6",
         "2000-07-01",
         "265683"
        ],
        [
         "7",
         "2000-08-01",
         "266885"
        ],
        [
         "8",
         "2000-09-01",
         "270523"
        ],
        [
         "9",
         "2000-10-01",
         "270339"
        ],
        [
         "10",
         "2000-11-01",
         "268850"
        ],
        [
         "11",
         "2000-12-01",
         "268338"
        ],
        [
         "12",
         "2001-01-01",
         "272881"
        ],
        [
         "13",
         "2001-02-01",
         "272627"
        ],
        [
         "14",
         "2001-03-01",
         "269820"
        ],
        [
         "15",
         "2001-04-01",
         "274410"
        ],
        [
         "16",
         "2001-05-01",
         "275769"
        ],
        [
         "17",
         "2001-06-01",
         "274474"
        ],
        [
         "18",
         "2001-07-01",
         "273098"
        ],
        [
         "19",
         "2001-08-01",
         "275659"
        ],
        [
         "20",
         "2001-09-01",
         "268652"
        ],
        [
         "21",
         "2001-10-01",
         "288632"
        ],
        [
         "22",
         "2001-11-01",
         "280033"
        ],
        [
         "23",
         "2001-12-01",
         "276302"
        ],
        [
         "24",
         "2002-01-01",
         "277135"
        ],
        [
         "25",
         "2002-02-01",
         "278869"
        ],
        [
         "26",
         "2002-03-01",
         "278079"
        ],
        [
         "27",
         "2002-04-01",
         "281147"
        ],
        [
         "28",
         "2002-05-01",
         "278966"
        ],
        [
         "29",
         "2002-06-01",
         "280426"
        ],
        [
         "30",
         "2002-07-01",
         "284161"
        ],
        [
         "31",
         "2002-08-01",
         "285884"
        ],
        [
         "32",
         "2002-09-01",
         "281064"
        ],
        [
         "33",
         "2002-10-01",
         "282940"
        ],
        [
         "34",
         "2002-11-01",
         "283408"
        ],
        [
         "35",
         "2002-12-01",
         "286646"
        ],
        [
         "36",
         "2003-01-01",
         "288657"
        ],
        [
         "37",
         "2003-02-01",
         "284696"
        ],
        [
         "38",
         "2003-03-01",
         "288177"
        ],
        [
         "39",
         "2003-04-01",
         "289053"
        ],
        [
         "40",
         "2003-05-01",
         "289619"
        ],
        [
         "41",
         "2003-06-01",
         "293671"
        ],
        [
         "42",
         "2003-07-01",
         "296207"
        ],
        [
         "43",
         "2003-08-01",
         "299592"
        ],
        [
         "44",
         "2003-09-01",
         "298921"
        ],
        [
         "45",
         "2003-10-01",
         "298205"
        ],
        [
         "46",
         "2003-11-01",
         "299433"
        ],
        [
         "47",
         "2003-12-01",
         "300702"
        ],
        [
         "48",
         "2004-01-01",
         "301993"
        ],
        [
         "49",
         "2004-02-01",
         "303915"
        ]
       ],
       "shape": {
        "columns": 2,
        "rows": 305
       }
      },
      "text/html": [
       "<div>\n",
       "<style scoped>\n",
       "    .dataframe tbody tr th:only-of-type {\n",
       "        vertical-align: middle;\n",
       "    }\n",
       "\n",
       "    .dataframe tbody tr th {\n",
       "        vertical-align: top;\n",
       "    }\n",
       "\n",
       "    .dataframe thead th {\n",
       "        text-align: right;\n",
       "    }\n",
       "</style>\n",
       "<table border=\"1\" class=\"dataframe\">\n",
       "  <thead>\n",
       "    <tr style=\"text-align: right;\">\n",
       "      <th></th>\n",
       "      <th>DATE</th>\n",
       "      <th>Retail_Sales_Retail_and_Food_Services_USA</th>\n",
       "    </tr>\n",
       "  </thead>\n",
       "  <tbody>\n",
       "    <tr>\n",
       "      <th>0</th>\n",
       "      <td>2000-01-01</td>\n",
       "      <td>261545</td>\n",
       "    </tr>\n",
       "    <tr>\n",
       "      <th>1</th>\n",
       "      <td>2000-02-01</td>\n",
       "      <td>265686</td>\n",
       "    </tr>\n",
       "    <tr>\n",
       "      <th>2</th>\n",
       "      <td>2000-03-01</td>\n",
       "      <td>269019</td>\n",
       "    </tr>\n",
       "    <tr>\n",
       "      <th>3</th>\n",
       "      <td>2000-04-01</td>\n",
       "      <td>264067</td>\n",
       "    </tr>\n",
       "    <tr>\n",
       "      <th>4</th>\n",
       "      <td>2000-05-01</td>\n",
       "      <td>265992</td>\n",
       "    </tr>\n",
       "    <tr>\n",
       "      <th>...</th>\n",
       "      <td>...</td>\n",
       "      <td>...</td>\n",
       "    </tr>\n",
       "    <tr>\n",
       "      <th>300</th>\n",
       "      <td>2025-01-01</td>\n",
       "      <td>711461</td>\n",
       "    </tr>\n",
       "    <tr>\n",
       "      <th>301</th>\n",
       "      <td>2025-02-01</td>\n",
       "      <td>711757</td>\n",
       "    </tr>\n",
       "    <tr>\n",
       "      <th>302</th>\n",
       "      <td>2025-03-01</td>\n",
       "      <td>722572</td>\n",
       "    </tr>\n",
       "    <tr>\n",
       "      <th>303</th>\n",
       "      <td>2025-04-01</td>\n",
       "      <td>721983</td>\n",
       "    </tr>\n",
       "    <tr>\n",
       "      <th>304</th>\n",
       "      <td>2025-05-01</td>\n",
       "      <td>715417</td>\n",
       "    </tr>\n",
       "  </tbody>\n",
       "</table>\n",
       "<p>305 rows × 2 columns</p>\n",
       "</div>"
      ],
      "text/plain": [
       "           DATE  Retail_Sales_Retail_and_Food_Services_USA\n",
       "0    2000-01-01                                     261545\n",
       "1    2000-02-01                                     265686\n",
       "2    2000-03-01                                     269019\n",
       "3    2000-04-01                                     264067\n",
       "4    2000-05-01                                     265992\n",
       "..          ...                                        ...\n",
       "300  2025-01-01                                     711461\n",
       "301  2025-02-01                                     711757\n",
       "302  2025-03-01                                     722572\n",
       "303  2025-04-01                                     721983\n",
       "304  2025-05-01                                     715417\n",
       "\n",
       "[305 rows x 2 columns]"
      ]
     },
     "execution_count": 23,
     "metadata": {},
     "output_type": "execute_result"
    }
   ],
   "source": [
    "df_us_retail = pd.read_csv(\"csv_files/idea_csv/usa_retail_sales.csv\")\n",
    "df_us_retail"
   ]
  },
  {
   "cell_type": "markdown",
   "id": "556249e1",
   "metadata": {},
   "source": [
    "#### Exchange Rates (China, Mexico, Canada, India, Vietnam)\n"
   ]
  },
  {
   "cell_type": "code",
   "execution_count": 24,
   "id": "eac1803e",
   "metadata": {},
   "outputs": [],
   "source": [
    "%%skip\n",
    "START = \"2001-06-17\"                 \n",
    "END   = date.today().isoformat()\n",
    "\n",
    "#    China (CNY per USD): DEXCHUS  \n",
    "#    Mexico (MXN per USD): DEXMXUS  \n",
    "#    Canada (CAD per USD): DEXCAUS  \n",
    "#    India (INR per USD): DEXINUS  \n",
    "cny = DataReader(\"DEXCHUS\", \"fred\", START, END)\n",
    "mxn = DataReader(\"DEXMXUS\", \"fred\", START, END)\n",
    "cad = DataReader(\"DEXCAUS\", \"fred\", START, END)\n",
    "inr = DataReader(\"DEXINUS\", \"fred\", START, END)\n",
    "\n",
    "# Vietnam via yfinance\n",
    "vn_df = yf.download(\n",
    "    \"USDVND=X\",\n",
    "    start=START,\n",
    "    end=END,\n",
    "    progress=False\n",
    ")\n",
    "vn = vn_df[[\"Close\"]].rename(columns={\"Close\": \"VND_per_USD\"})\n",
    "\n",
    "\n",
    "fx = pd.concat([cny, mxn, cad, inr, vn], axis=1).rename(columns={\n",
    "    \"DEXCHUS\": \"CNY_per_USD\",\n",
    "    \"DEXMXUS\": \"MXN_per_USD\",\n",
    "    \"DEXCAUS\": \"CAD_per_USD\",\n",
    "    \"DEXINUS\": \"INR_per_USD\"\n",
    "})\n",
    "\n",
    "df_fx = fx.resample(\"W-FRI\").mean().dropna(how=\"all\").round(4)\n",
    "\n",
    "\n",
    "OUTFILE = \"csv_files/idea_csv/foreign_exchange.csv\"\n",
    "df_fx.to_csv(OUTFILE)"
   ]
  },
  {
   "cell_type": "code",
   "execution_count": 25,
   "id": "08e87636",
   "metadata": {},
   "outputs": [
    {
     "data": {
      "application/vnd.microsoft.datawrangler.viewer.v0+json": {
       "columns": [
        {
         "name": "index",
         "rawType": "int64",
         "type": "integer"
        },
        {
         "name": "Unnamed: 0",
         "rawType": "object",
         "type": "string"
        },
        {
         "name": "CNY_per_USD",
         "rawType": "float64",
         "type": "float"
        },
        {
         "name": "MXN_per_USD",
         "rawType": "float64",
         "type": "float"
        },
        {
         "name": "CAD_per_USD",
         "rawType": "float64",
         "type": "float"
        },
        {
         "name": "INR_per_USD",
         "rawType": "float64",
         "type": "float"
        },
        {
         "name": "('VND_per_USD', 'USDVND=X')",
         "rawType": "float64",
         "type": "float"
        }
       ],
       "ref": "922248e0-4097-49b8-a1b5-1489ffae2dc1",
       "rows": [
        [
         "0",
         "2001-06-22",
         "8.2771",
         "9.0712",
         "1.5308",
         "47.028",
         null
        ],
        [
         "1",
         "2001-06-29",
         "8.2768",
         "9.0695",
         "1.5184",
         "47.064",
         null
        ],
        [
         "2",
         "2001-07-06",
         "8.2768",
         "9.0672",
         "1.5146",
         "47.175",
         null
        ],
        [
         "3",
         "2001-07-13",
         "8.2768",
         "9.252",
         "1.527",
         "47.2",
         null
        ],
        [
         "4",
         "2001-07-20",
         "8.2768",
         "9.1962",
         "1.5404",
         "47.162",
         null
        ],
        [
         "5",
         "2001-07-27",
         "8.2771",
         "9.1434",
         "1.538",
         "47.172",
         null
        ],
        [
         "6",
         "2001-08-03",
         "8.2768",
         "9.1715",
         "1.5349",
         "47.162",
         null
        ],
        [
         "7",
         "2001-08-10",
         "8.2771",
         "9.1108",
         "1.535",
         "47.162",
         null
        ],
        [
         "8",
         "2001-08-17",
         "8.2771",
         "9.1019",
         "1.5367",
         "47.162",
         null
        ],
        [
         "9",
         "2001-08-24",
         "8.2769",
         "9.1289",
         "1.5445",
         "47.176",
         null
        ],
        [
         "10",
         "2001-08-31",
         "8.2769",
         "9.1608",
         "1.5445",
         "47.178",
         null
        ],
        [
         "11",
         "2001-09-07",
         "8.2768",
         "9.2665",
         "1.5602",
         "47.2275",
         null
        ],
        [
         "12",
         "2001-09-14",
         "8.2768",
         "9.4395",
         "1.5647",
         "47.5025",
         null
        ],
        [
         "13",
         "2001-09-21",
         "8.2767",
         "9.455",
         "1.5704",
         "47.978",
         null
        ],
        [
         "14",
         "2001-09-28",
         "8.277",
         "9.5112",
         "1.5743",
         "48.142",
         null
        ],
        [
         "15",
         "2001-10-05",
         "8.2768",
         "9.5372",
         "1.5697",
         "48.022",
         null
        ],
        [
         "16",
         "2001-10-12",
         "8.2767",
         "9.4089",
         "1.5664",
         "48.105",
         null
        ],
        [
         "17",
         "2001-10-19",
         "8.2768",
         "9.2404",
         "1.5682",
         "48.066",
         null
        ],
        [
         "18",
         "2001-10-26",
         "8.2769",
         "9.2341",
         "1.5756",
         "48.036",
         null
        ],
        [
         "19",
         "2001-11-02",
         "8.2769",
         "9.2656",
         "1.5856",
         "48.036",
         null
        ],
        [
         "20",
         "2001-11-09",
         "8.2767",
         "9.2196",
         "1.5967",
         "48.044",
         null
        ],
        [
         "21",
         "2001-11-16",
         "8.2768",
         "9.2272",
         "1.5911",
         "48.07",
         null
        ],
        [
         "22",
         "2001-11-23",
         "8.2769",
         "9.1664",
         "1.5945",
         "48.04",
         null
        ],
        [
         "23",
         "2001-11-30",
         "8.2772",
         "9.2529",
         "1.587",
         "48.022",
         null
        ],
        [
         "24",
         "2001-12-07",
         "8.2772",
         "9.2219",
         "1.574",
         "47.912",
         null
        ],
        [
         "25",
         "2001-12-14",
         "8.2768",
         "9.142",
         "1.5706",
         "47.852",
         null
        ],
        [
         "26",
         "2001-12-21",
         "8.2767",
         "9.1296",
         "1.575",
         "47.84",
         null
        ],
        [
         "27",
         "2001-12-28",
         "8.2744",
         "9.131",
         "1.5961",
         "48.1",
         null
        ],
        [
         "28",
         "2002-01-04",
         "8.2766",
         "9.127",
         "1.5962",
         "48.28",
         null
        ],
        [
         "29",
         "2002-01-11",
         "8.2767",
         "9.2079",
         "1.5976",
         "48.35",
         null
        ],
        [
         "30",
         "2002-01-18",
         "8.2787",
         "9.1599",
         "1.6011",
         "48.31",
         null
        ],
        [
         "31",
         "2002-01-25",
         "8.2766",
         "9.1425",
         "1.6057",
         "48.345",
         null
        ],
        [
         "32",
         "2002-02-01",
         "8.2766",
         "9.1665",
         "1.5952",
         "48.488",
         null
        ],
        [
         "33",
         "2002-02-08",
         "8.2766",
         "9.1426",
         "1.5991",
         "48.686",
         null
        ],
        [
         "34",
         "2002-02-15",
         "8.2768",
         "9.0752",
         "1.591",
         "48.752",
         null
        ],
        [
         "35",
         "2002-02-22",
         "8.2767",
         "9.0881",
         "1.5912",
         "48.6975",
         null
        ],
        [
         "36",
         "2002-03-01",
         "8.2766",
         "9.0981",
         "1.6042",
         "48.77",
         null
        ],
        [
         "37",
         "2002-03-08",
         "8.2769",
         "9.0784",
         "1.5864",
         "48.734",
         null
        ],
        [
         "38",
         "2002-03-15",
         "8.2778",
         "9.0918",
         "1.5888",
         "48.752",
         null
        ],
        [
         "39",
         "2002-03-22",
         "8.2773",
         "9.0635",
         "1.5818",
         "48.768",
         null
        ],
        [
         "40",
         "2002-03-29",
         "8.2772",
         "9.0162",
         "1.5924",
         "48.814",
         null
        ],
        [
         "41",
         "2002-04-05",
         "8.2773",
         "9.0265",
         "1.593",
         "48.874",
         null
        ],
        [
         "42",
         "2002-04-12",
         "8.2771",
         "9.053",
         "1.5919",
         "48.922",
         null
        ],
        [
         "43",
         "2002-04-19",
         "8.2772",
         "9.203",
         "1.5781",
         "48.946",
         null
        ],
        [
         "44",
         "2002-04-26",
         "8.2773",
         "9.2978",
         "1.5687",
         "48.99",
         null
        ],
        [
         "45",
         "2002-05-03",
         "8.2772",
         "9.4181",
         "1.5639",
         "48.99",
         null
        ],
        [
         "46",
         "2002-05-10",
         "8.2773",
         "9.4506",
         "1.5672",
         "48.988",
         null
        ],
        [
         "47",
         "2002-05-17",
         "8.2769",
         "9.4874",
         "1.5542",
         "49.036",
         null
        ],
        [
         "48",
         "2002-05-24",
         "8.277",
         "9.5255",
         "1.537",
         "49.034",
         null
        ],
        [
         "49",
         "2002-05-31",
         "8.2766",
         "9.634",
         "1.5316",
         "49.03",
         null
        ]
       ],
       "shape": {
        "columns": 6,
        "rows": 1253
       }
      },
      "text/html": [
       "<div>\n",
       "<style scoped>\n",
       "    .dataframe tbody tr th:only-of-type {\n",
       "        vertical-align: middle;\n",
       "    }\n",
       "\n",
       "    .dataframe tbody tr th {\n",
       "        vertical-align: top;\n",
       "    }\n",
       "\n",
       "    .dataframe thead th {\n",
       "        text-align: right;\n",
       "    }\n",
       "</style>\n",
       "<table border=\"1\" class=\"dataframe\">\n",
       "  <thead>\n",
       "    <tr style=\"text-align: right;\">\n",
       "      <th></th>\n",
       "      <th>Unnamed: 0</th>\n",
       "      <th>CNY_per_USD</th>\n",
       "      <th>MXN_per_USD</th>\n",
       "      <th>CAD_per_USD</th>\n",
       "      <th>INR_per_USD</th>\n",
       "      <th>('VND_per_USD', 'USDVND=X')</th>\n",
       "    </tr>\n",
       "  </thead>\n",
       "  <tbody>\n",
       "    <tr>\n",
       "      <th>0</th>\n",
       "      <td>2001-06-22</td>\n",
       "      <td>8.2771</td>\n",
       "      <td>9.0712</td>\n",
       "      <td>1.5308</td>\n",
       "      <td>47.028</td>\n",
       "      <td>NaN</td>\n",
       "    </tr>\n",
       "    <tr>\n",
       "      <th>1</th>\n",
       "      <td>2001-06-29</td>\n",
       "      <td>8.2768</td>\n",
       "      <td>9.0695</td>\n",
       "      <td>1.5184</td>\n",
       "      <td>47.064</td>\n",
       "      <td>NaN</td>\n",
       "    </tr>\n",
       "    <tr>\n",
       "      <th>2</th>\n",
       "      <td>2001-07-06</td>\n",
       "      <td>8.2768</td>\n",
       "      <td>9.0672</td>\n",
       "      <td>1.5146</td>\n",
       "      <td>47.175</td>\n",
       "      <td>NaN</td>\n",
       "    </tr>\n",
       "    <tr>\n",
       "      <th>3</th>\n",
       "      <td>2001-07-13</td>\n",
       "      <td>8.2768</td>\n",
       "      <td>9.2520</td>\n",
       "      <td>1.5270</td>\n",
       "      <td>47.200</td>\n",
       "      <td>NaN</td>\n",
       "    </tr>\n",
       "    <tr>\n",
       "      <th>4</th>\n",
       "      <td>2001-07-20</td>\n",
       "      <td>8.2768</td>\n",
       "      <td>9.1962</td>\n",
       "      <td>1.5404</td>\n",
       "      <td>47.162</td>\n",
       "      <td>NaN</td>\n",
       "    </tr>\n",
       "    <tr>\n",
       "      <th>...</th>\n",
       "      <td>...</td>\n",
       "      <td>...</td>\n",
       "      <td>...</td>\n",
       "      <td>...</td>\n",
       "      <td>...</td>\n",
       "      <td>...</td>\n",
       "    </tr>\n",
       "    <tr>\n",
       "      <th>1248</th>\n",
       "      <td>2025-05-23</td>\n",
       "      <td>7.2038</td>\n",
       "      <td>19.3119</td>\n",
       "      <td>1.3864</td>\n",
       "      <td>85.558</td>\n",
       "      <td>25944.4</td>\n",
       "    </tr>\n",
       "    <tr>\n",
       "      <th>1249</th>\n",
       "      <td>2025-05-30</td>\n",
       "      <td>7.1934</td>\n",
       "      <td>19.3442</td>\n",
       "      <td>1.3788</td>\n",
       "      <td>85.420</td>\n",
       "      <td>25938.4</td>\n",
       "    </tr>\n",
       "    <tr>\n",
       "      <th>1250</th>\n",
       "      <td>2025-06-06</td>\n",
       "      <td>7.1865</td>\n",
       "      <td>19.2013</td>\n",
       "      <td>1.3688</td>\n",
       "      <td>85.646</td>\n",
       "      <td>26041.2</td>\n",
       "    </tr>\n",
       "    <tr>\n",
       "      <th>1251</th>\n",
       "      <td>2025-06-13</td>\n",
       "      <td>7.1827</td>\n",
       "      <td>18.9487</td>\n",
       "      <td>1.3642</td>\n",
       "      <td>85.670</td>\n",
       "      <td>26018.4</td>\n",
       "    </tr>\n",
       "    <tr>\n",
       "      <th>1252</th>\n",
       "      <td>2025-06-20</td>\n",
       "      <td>NaN</td>\n",
       "      <td>NaN</td>\n",
       "      <td>NaN</td>\n",
       "      <td>NaN</td>\n",
       "      <td>26050.0</td>\n",
       "    </tr>\n",
       "  </tbody>\n",
       "</table>\n",
       "<p>1253 rows × 6 columns</p>\n",
       "</div>"
      ],
      "text/plain": [
       "      Unnamed: 0  CNY_per_USD  MXN_per_USD  CAD_per_USD  INR_per_USD  \\\n",
       "0     2001-06-22       8.2771       9.0712       1.5308       47.028   \n",
       "1     2001-06-29       8.2768       9.0695       1.5184       47.064   \n",
       "2     2001-07-06       8.2768       9.0672       1.5146       47.175   \n",
       "3     2001-07-13       8.2768       9.2520       1.5270       47.200   \n",
       "4     2001-07-20       8.2768       9.1962       1.5404       47.162   \n",
       "...          ...          ...          ...          ...          ...   \n",
       "1248  2025-05-23       7.2038      19.3119       1.3864       85.558   \n",
       "1249  2025-05-30       7.1934      19.3442       1.3788       85.420   \n",
       "1250  2025-06-06       7.1865      19.2013       1.3688       85.646   \n",
       "1251  2025-06-13       7.1827      18.9487       1.3642       85.670   \n",
       "1252  2025-06-20          NaN          NaN          NaN          NaN   \n",
       "\n",
       "      ('VND_per_USD', 'USDVND=X')  \n",
       "0                             NaN  \n",
       "1                             NaN  \n",
       "2                             NaN  \n",
       "3                             NaN  \n",
       "4                             NaN  \n",
       "...                           ...  \n",
       "1248                      25944.4  \n",
       "1249                      25938.4  \n",
       "1250                      26041.2  \n",
       "1251                      26018.4  \n",
       "1252                      26050.0  \n",
       "\n",
       "[1253 rows x 6 columns]"
      ]
     },
     "execution_count": 25,
     "metadata": {},
     "output_type": "execute_result"
    }
   ],
   "source": [
    "df_fx = pd.read_csv(\"csv_files/idea_csv/foreign_exchange.csv\")\n",
    "df_fx"
   ]
  },
  {
   "cell_type": "markdown",
   "id": "c96b6f4e",
   "metadata": {},
   "source": [
    "#### US External Tax Rate"
   ]
  },
  {
   "cell_type": "code",
   "execution_count": 26,
   "id": "3c1f4120",
   "metadata": {},
   "outputs": [],
   "source": [
    "%%skip\n",
    "INDICATOR   = \"TM.TAX.MRCH.WM.AR.ZS\"  # Tariff rate %\n",
    "COUNTRIES   = [\"CN\", \"IN\", \"MX\", \"CA\", \"VN\"]\n",
    "START_YEAR  = 2000\n",
    "END_YEAR    = date.today().year\n",
    "\n",
    "# from World Bank\n",
    "df_us_tariff = wb.download(\n",
    "    indicator=INDICATOR,\n",
    "    country=COUNTRIES,\n",
    "    start=START_YEAR,\n",
    "    end=END_YEAR\n",
    ")\n",
    "\n",
    "df_us_tariff = df_us_tariff.reset_index().pivot(index=\"year\", columns=\"country\", values=INDICATOR)\n",
    "\n",
    "df_us_tariff = df_us_tariff.rename(columns={\n",
    "    \"CN\": \"China_Applied_Tariff_%\", \n",
    "    \"IN\": \"India_Applied_Tariff_%\", \n",
    "    \"MX\": \"Mexico_Applied_Tariff_%\", \n",
    "    \"CA\": \"Canada_Applied_Tariff_%\", \n",
    "    \"VN\": \"Vietnam_Applied_Tariff_%\"\n",
    "})\n",
    "\n",
    "\n",
    "OUTFILE = \"csv_files/idea_csv/external_tax_rates.csv\"\n",
    "df_us_tariff.to_csv(OUTFILE, index_label=\"Year\")"
   ]
  },
  {
   "cell_type": "code",
   "execution_count": 27,
   "id": "7ffeee62",
   "metadata": {},
   "outputs": [
    {
     "data": {
      "application/vnd.microsoft.datawrangler.viewer.v0+json": {
       "columns": [
        {
         "name": "index",
         "rawType": "int64",
         "type": "integer"
        },
        {
         "name": "Year",
         "rawType": "int64",
         "type": "integer"
        },
        {
         "name": "Canada",
         "rawType": "float64",
         "type": "float"
        },
        {
         "name": "China",
         "rawType": "float64",
         "type": "float"
        },
        {
         "name": "India",
         "rawType": "float64",
         "type": "float"
        },
        {
         "name": "Mexico",
         "rawType": "float64",
         "type": "float"
        },
        {
         "name": "Viet Nam",
         "rawType": "float64",
         "type": "float"
        }
       ],
       "ref": "762a74c0-b397-4a8a-8139-652f59cf0f76",
       "rows": [
        [
         "0",
         "2000",
         "1.31",
         "14.67",
         "23.36",
         "15.15",
         null
        ],
        [
         "1",
         "2001",
         "1.6",
         "14.11",
         "26.51",
         "15.24",
         "15.29"
        ],
        [
         "2",
         "2002",
         "1.49",
         "7.72",
         "23.08",
         "5.03",
         "14.73"
        ],
        [
         "3",
         "2003",
         "2.46",
         "6.48",
         "21.45",
         "15.44",
         "11.79"
        ],
        [
         "4",
         "2004",
         "1.51",
         "5.96",
         "22.96",
         "3.0",
         "11.69"
        ],
        [
         "5",
         "2005",
         "1.46",
         "4.87",
         "13.9",
         "3.0",
         "11.35"
        ],
        [
         "6",
         "2006",
         "1.45",
         "4.25",
         "8.99",
         "2.39",
         "10.21"
        ],
        [
         "7",
         "2007",
         "1.54",
         "5.07",
         "11.99",
         "2.41",
         "9.13"
        ],
        [
         "8",
         "2008",
         "1.54",
         "4.47",
         "5.98",
         "1.87",
         "5.03"
        ],
        [
         "9",
         "2009",
         "1.7",
         "3.94",
         "6.84",
         "1.61",
         "6.76"
        ],
        [
         "10",
         "2010",
         "1.46",
         "4.65",
         "6.1",
         "5.37",
         "5.02"
        ],
        [
         "11",
         "2011",
         "1.38",
         "5.99",
         "7.33",
         "5.37",
         null
        ],
        [
         "12",
         "2012",
         "1.4",
         null,
         "6.32",
         "5.17",
         "3.65"
        ],
        [
         "13",
         "2013",
         "1.45",
         null,
         "6.34",
         "4.87",
         "3.54"
        ],
        [
         "14",
         "2014",
         "1.43",
         "4.74",
         null,
         "1.02",
         "3.43"
        ],
        [
         "15",
         "2015",
         "1.65",
         "4.52",
         "7.32",
         "4.45",
         "3.14"
        ],
        [
         "16",
         "2016",
         "1.56",
         "3.54",
         "6.35",
         "4.35",
         "2.86"
        ],
        [
         "17",
         "2017",
         "1.52",
         "3.83",
         "5.78",
         "1.24",
         "2.69"
        ],
        [
         "18",
         "2018",
         "1.47",
         "3.39",
         "4.88",
         "1.21",
         "4.39"
        ],
        [
         "19",
         "2019",
         "1.51",
         "2.53",
         "6.59",
         null,
         "1.66"
        ],
        [
         "20",
         "2020",
         "1.49",
         "2.47",
         "6.19",
         null,
         "1.34"
        ],
        [
         "21",
         "2021",
         "2.35",
         "2.31",
         "5.87",
         null,
         "1.17"
        ],
        [
         "22",
         "2022",
         "1.37",
         "2.18",
         "4.59",
         "1.62",
         "1.07"
        ],
        [
         "23",
         "2023",
         null,
         null,
         null,
         null,
         null
        ],
        [
         "24",
         "2024",
         null,
         null,
         null,
         null,
         null
        ]
       ],
       "shape": {
        "columns": 6,
        "rows": 25
       }
      },
      "text/html": [
       "<div>\n",
       "<style scoped>\n",
       "    .dataframe tbody tr th:only-of-type {\n",
       "        vertical-align: middle;\n",
       "    }\n",
       "\n",
       "    .dataframe tbody tr th {\n",
       "        vertical-align: top;\n",
       "    }\n",
       "\n",
       "    .dataframe thead th {\n",
       "        text-align: right;\n",
       "    }\n",
       "</style>\n",
       "<table border=\"1\" class=\"dataframe\">\n",
       "  <thead>\n",
       "    <tr style=\"text-align: right;\">\n",
       "      <th></th>\n",
       "      <th>Year</th>\n",
       "      <th>Canada</th>\n",
       "      <th>China</th>\n",
       "      <th>India</th>\n",
       "      <th>Mexico</th>\n",
       "      <th>Viet Nam</th>\n",
       "    </tr>\n",
       "  </thead>\n",
       "  <tbody>\n",
       "    <tr>\n",
       "      <th>0</th>\n",
       "      <td>2000</td>\n",
       "      <td>1.31</td>\n",
       "      <td>14.67</td>\n",
       "      <td>23.36</td>\n",
       "      <td>15.15</td>\n",
       "      <td>NaN</td>\n",
       "    </tr>\n",
       "    <tr>\n",
       "      <th>1</th>\n",
       "      <td>2001</td>\n",
       "      <td>1.60</td>\n",
       "      <td>14.11</td>\n",
       "      <td>26.51</td>\n",
       "      <td>15.24</td>\n",
       "      <td>15.29</td>\n",
       "    </tr>\n",
       "    <tr>\n",
       "      <th>2</th>\n",
       "      <td>2002</td>\n",
       "      <td>1.49</td>\n",
       "      <td>7.72</td>\n",
       "      <td>23.08</td>\n",
       "      <td>5.03</td>\n",
       "      <td>14.73</td>\n",
       "    </tr>\n",
       "    <tr>\n",
       "      <th>3</th>\n",
       "      <td>2003</td>\n",
       "      <td>2.46</td>\n",
       "      <td>6.48</td>\n",
       "      <td>21.45</td>\n",
       "      <td>15.44</td>\n",
       "      <td>11.79</td>\n",
       "    </tr>\n",
       "    <tr>\n",
       "      <th>4</th>\n",
       "      <td>2004</td>\n",
       "      <td>1.51</td>\n",
       "      <td>5.96</td>\n",
       "      <td>22.96</td>\n",
       "      <td>3.00</td>\n",
       "      <td>11.69</td>\n",
       "    </tr>\n",
       "    <tr>\n",
       "      <th>5</th>\n",
       "      <td>2005</td>\n",
       "      <td>1.46</td>\n",
       "      <td>4.87</td>\n",
       "      <td>13.90</td>\n",
       "      <td>3.00</td>\n",
       "      <td>11.35</td>\n",
       "    </tr>\n",
       "    <tr>\n",
       "      <th>6</th>\n",
       "      <td>2006</td>\n",
       "      <td>1.45</td>\n",
       "      <td>4.25</td>\n",
       "      <td>8.99</td>\n",
       "      <td>2.39</td>\n",
       "      <td>10.21</td>\n",
       "    </tr>\n",
       "    <tr>\n",
       "      <th>7</th>\n",
       "      <td>2007</td>\n",
       "      <td>1.54</td>\n",
       "      <td>5.07</td>\n",
       "      <td>11.99</td>\n",
       "      <td>2.41</td>\n",
       "      <td>9.13</td>\n",
       "    </tr>\n",
       "    <tr>\n",
       "      <th>8</th>\n",
       "      <td>2008</td>\n",
       "      <td>1.54</td>\n",
       "      <td>4.47</td>\n",
       "      <td>5.98</td>\n",
       "      <td>1.87</td>\n",
       "      <td>5.03</td>\n",
       "    </tr>\n",
       "    <tr>\n",
       "      <th>9</th>\n",
       "      <td>2009</td>\n",
       "      <td>1.70</td>\n",
       "      <td>3.94</td>\n",
       "      <td>6.84</td>\n",
       "      <td>1.61</td>\n",
       "      <td>6.76</td>\n",
       "    </tr>\n",
       "    <tr>\n",
       "      <th>10</th>\n",
       "      <td>2010</td>\n",
       "      <td>1.46</td>\n",
       "      <td>4.65</td>\n",
       "      <td>6.10</td>\n",
       "      <td>5.37</td>\n",
       "      <td>5.02</td>\n",
       "    </tr>\n",
       "    <tr>\n",
       "      <th>11</th>\n",
       "      <td>2011</td>\n",
       "      <td>1.38</td>\n",
       "      <td>5.99</td>\n",
       "      <td>7.33</td>\n",
       "      <td>5.37</td>\n",
       "      <td>NaN</td>\n",
       "    </tr>\n",
       "    <tr>\n",
       "      <th>12</th>\n",
       "      <td>2012</td>\n",
       "      <td>1.40</td>\n",
       "      <td>NaN</td>\n",
       "      <td>6.32</td>\n",
       "      <td>5.17</td>\n",
       "      <td>3.65</td>\n",
       "    </tr>\n",
       "    <tr>\n",
       "      <th>13</th>\n",
       "      <td>2013</td>\n",
       "      <td>1.45</td>\n",
       "      <td>NaN</td>\n",
       "      <td>6.34</td>\n",
       "      <td>4.87</td>\n",
       "      <td>3.54</td>\n",
       "    </tr>\n",
       "    <tr>\n",
       "      <th>14</th>\n",
       "      <td>2014</td>\n",
       "      <td>1.43</td>\n",
       "      <td>4.74</td>\n",
       "      <td>NaN</td>\n",
       "      <td>1.02</td>\n",
       "      <td>3.43</td>\n",
       "    </tr>\n",
       "    <tr>\n",
       "      <th>15</th>\n",
       "      <td>2015</td>\n",
       "      <td>1.65</td>\n",
       "      <td>4.52</td>\n",
       "      <td>7.32</td>\n",
       "      <td>4.45</td>\n",
       "      <td>3.14</td>\n",
       "    </tr>\n",
       "    <tr>\n",
       "      <th>16</th>\n",
       "      <td>2016</td>\n",
       "      <td>1.56</td>\n",
       "      <td>3.54</td>\n",
       "      <td>6.35</td>\n",
       "      <td>4.35</td>\n",
       "      <td>2.86</td>\n",
       "    </tr>\n",
       "    <tr>\n",
       "      <th>17</th>\n",
       "      <td>2017</td>\n",
       "      <td>1.52</td>\n",
       "      <td>3.83</td>\n",
       "      <td>5.78</td>\n",
       "      <td>1.24</td>\n",
       "      <td>2.69</td>\n",
       "    </tr>\n",
       "    <tr>\n",
       "      <th>18</th>\n",
       "      <td>2018</td>\n",
       "      <td>1.47</td>\n",
       "      <td>3.39</td>\n",
       "      <td>4.88</td>\n",
       "      <td>1.21</td>\n",
       "      <td>4.39</td>\n",
       "    </tr>\n",
       "    <tr>\n",
       "      <th>19</th>\n",
       "      <td>2019</td>\n",
       "      <td>1.51</td>\n",
       "      <td>2.53</td>\n",
       "      <td>6.59</td>\n",
       "      <td>NaN</td>\n",
       "      <td>1.66</td>\n",
       "    </tr>\n",
       "    <tr>\n",
       "      <th>20</th>\n",
       "      <td>2020</td>\n",
       "      <td>1.49</td>\n",
       "      <td>2.47</td>\n",
       "      <td>6.19</td>\n",
       "      <td>NaN</td>\n",
       "      <td>1.34</td>\n",
       "    </tr>\n",
       "    <tr>\n",
       "      <th>21</th>\n",
       "      <td>2021</td>\n",
       "      <td>2.35</td>\n",
       "      <td>2.31</td>\n",
       "      <td>5.87</td>\n",
       "      <td>NaN</td>\n",
       "      <td>1.17</td>\n",
       "    </tr>\n",
       "    <tr>\n",
       "      <th>22</th>\n",
       "      <td>2022</td>\n",
       "      <td>1.37</td>\n",
       "      <td>2.18</td>\n",
       "      <td>4.59</td>\n",
       "      <td>1.62</td>\n",
       "      <td>1.07</td>\n",
       "    </tr>\n",
       "    <tr>\n",
       "      <th>23</th>\n",
       "      <td>2023</td>\n",
       "      <td>NaN</td>\n",
       "      <td>NaN</td>\n",
       "      <td>NaN</td>\n",
       "      <td>NaN</td>\n",
       "      <td>NaN</td>\n",
       "    </tr>\n",
       "    <tr>\n",
       "      <th>24</th>\n",
       "      <td>2024</td>\n",
       "      <td>NaN</td>\n",
       "      <td>NaN</td>\n",
       "      <td>NaN</td>\n",
       "      <td>NaN</td>\n",
       "      <td>NaN</td>\n",
       "    </tr>\n",
       "  </tbody>\n",
       "</table>\n",
       "</div>"
      ],
      "text/plain": [
       "    Year  Canada  China  India  Mexico  Viet Nam\n",
       "0   2000    1.31  14.67  23.36   15.15       NaN\n",
       "1   2001    1.60  14.11  26.51   15.24     15.29\n",
       "2   2002    1.49   7.72  23.08    5.03     14.73\n",
       "3   2003    2.46   6.48  21.45   15.44     11.79\n",
       "4   2004    1.51   5.96  22.96    3.00     11.69\n",
       "5   2005    1.46   4.87  13.90    3.00     11.35\n",
       "6   2006    1.45   4.25   8.99    2.39     10.21\n",
       "7   2007    1.54   5.07  11.99    2.41      9.13\n",
       "8   2008    1.54   4.47   5.98    1.87      5.03\n",
       "9   2009    1.70   3.94   6.84    1.61      6.76\n",
       "10  2010    1.46   4.65   6.10    5.37      5.02\n",
       "11  2011    1.38   5.99   7.33    5.37       NaN\n",
       "12  2012    1.40    NaN   6.32    5.17      3.65\n",
       "13  2013    1.45    NaN   6.34    4.87      3.54\n",
       "14  2014    1.43   4.74    NaN    1.02      3.43\n",
       "15  2015    1.65   4.52   7.32    4.45      3.14\n",
       "16  2016    1.56   3.54   6.35    4.35      2.86\n",
       "17  2017    1.52   3.83   5.78    1.24      2.69\n",
       "18  2018    1.47   3.39   4.88    1.21      4.39\n",
       "19  2019    1.51   2.53   6.59     NaN      1.66\n",
       "20  2020    1.49   2.47   6.19     NaN      1.34\n",
       "21  2021    2.35   2.31   5.87     NaN      1.17\n",
       "22  2022    1.37   2.18   4.59    1.62      1.07\n",
       "23  2023     NaN    NaN    NaN     NaN       NaN\n",
       "24  2024     NaN    NaN    NaN     NaN       NaN"
      ]
     },
     "execution_count": 27,
     "metadata": {},
     "output_type": "execute_result"
    }
   ],
   "source": [
    "df_us_tariff = pd.read_csv(\"csv_files/idea_csv/external_tax_rates.csv\")\n",
    "df_us_tariff"
   ]
  },
  {
   "cell_type": "markdown",
   "id": "a5f8530b",
   "metadata": {},
   "source": [
    "##### Holidays"
   ]
  },
  {
   "cell_type": "code",
   "execution_count": 28,
   "id": "b56fb08e",
   "metadata": {},
   "outputs": [],
   "source": [
    "def nth_weekday(year, month, weekday, n):\n",
    "    \"\"\"\n",
    "    Return the date of the nth occurrence of the given weekday\n",
    "    in the specified month and year.\n",
    "    weekday: Monday=0, Sunday=6\n",
    "    \"\"\"\n",
    "    d = date(year, month, 1)\n",
    "    count = 0\n",
    "    while True:\n",
    "        if d.weekday() == weekday:\n",
    "            count += 1\n",
    "            if count == n:\n",
    "                return d\n",
    "        d += timedelta(days=1)\n",
    "\n",
    "years = range(2010, 2014)\n",
    "records = []\n",
    "\n",
    "for year in years:\n",
    "    # Fixed‐date holidays\n",
    "    records.append({\"Date\": pd.Timestamp(date(year, 2, 14)), \"Holiday\": \"Valentine's Day\"})\n",
    "    records.append({\"Date\": pd.Timestamp(date(year, 7, 4)),  \"Holiday\": \"Independence Day\"})\n",
    "    records.append({\"Date\": pd.Timestamp(date(year, 10, 31)),\"Holiday\": \"Halloween\"})\n",
    "    records.append({\"Date\": pd.Timestamp(date(year, 12, 24)),\"Holiday\": \"Christmas Eve\"})\n",
    "    records.append({\"Date\": pd.Timestamp(date(year, 12, 25)),\"Holiday\": \"Christmas Day\"})\n",
    "    records.append({\"Date\": pd.Timestamp(date(year, 12, 31)),\"Holiday\": \"New Year's Eve\"})\n",
    "    \n",
    "    # Mother's Day: 2nd Sunday in May\n",
    "    md = nth_weekday(year, 5, 6, 2)\n",
    "    records.append({\"Date\": pd.Timestamp(md), \"Holiday\": \"Mother's Day\"})\n",
    "    \n",
    "    # Father's Day: 3rd Sunday in June\n",
    "    fd = nth_weekday(year, 6, 6, 3)\n",
    "    records.append({\"Date\": pd.Timestamp(fd), \"Holiday\": \"Father's Day\"})\n",
    "    \n",
    "    # Memorial Day: last Monday in May\n",
    "    d_mem = date(year, 5, 31)\n",
    "    while d_mem.weekday() != 0:  # 0 = Monday\n",
    "        d_mem -= timedelta(days=1)\n",
    "    records.append({\"Date\": pd.Timestamp(d_mem), \"Holiday\": \"Memorial Day\"})\n",
    "    \n",
    "    # Labor Day: 1st Monday in September\n",
    "    ld = nth_weekday(year, 9, 0, 1)\n",
    "    records.append({\"Date\": pd.Timestamp(ld), \"Holiday\": \"Labor Day\"})\n",
    "    \n",
    "    # Easter Sunday\n",
    "    eas = easter(year)\n",
    "    records.append({\"Date\": pd.Timestamp(eas), \"Holiday\": \"Easter Sunday\"})\n",
    "    \n",
    "    # Thanksgiving: 4th Thursday in November\n",
    "    th = nth_weekday(year, 11, 3, 4)\n",
    "    records.append({\"Date\": pd.Timestamp(th), \"Holiday\": \"Thanksgiving\"})\n",
    "    \n",
    "    # Black Friday: day after Thanksgiving\n",
    "    bf = th + timedelta(days=1)\n",
    "    records.append({\"Date\": pd.Timestamp(bf), \"Holiday\": \"Black Friday\"})\n",
    "    \n",
    "    # Small Business Saturday: Saturday after Thanksgiving\n",
    "    sbs = th + timedelta(days=2)\n",
    "    records.append({\"Date\": pd.Timestamp(sbs), \"Holiday\": \"Small Business Saturday\"})\n",
    "    \n",
    "    # Cyber Monday: Monday after Thanksgiving\n",
    "    cm = th + timedelta(days=4)\n",
    "    records.append({\"Date\": pd.Timestamp(cm), \"Holiday\": \"Cyber Monday\"})\n",
    "    \n",
    "    # Super Saturday: _last Saturday before_ Christmas Eve\n",
    "    d2 = date(year, 12, 24) - timedelta(days=1)\n",
    "    while d2.weekday() != 5:  # 5 = Saturday\n",
    "        d2 -= timedelta(days=1)\n",
    "    records.append({\"Date\": pd.Timestamp(d2), \"Holiday\": \"Super Saturday\"})\n",
    "    \n",
    "    # Green Monday: 2nd Monday in December\n",
    "    gm = nth_weekday(year, 12, 0, 2)\n",
    "    records.append({\"Date\": pd.Timestamp(gm), \"Holiday\": \"Green Monday\"})\n",
    "\n",
    "# Build and save the DataFrame\n",
    "df_us_holidays = pd.DataFrame(records).sort_values(\"Date\").reset_index(drop=True)\n",
    "df_us_holidays.to_csv(\"csv_files/idea_csv/df_us_holidays.csv\", index=False)\n"
   ]
  },
  {
   "cell_type": "code",
   "execution_count": 29,
   "id": "3611fc71",
   "metadata": {},
   "outputs": [
    {
     "name": "stdout",
     "output_type": "stream",
     "text": [
      "          Date          Holiday\n",
      "0   2010-02-14  Valentine's Day\n",
      "1   2010-04-04    Easter Sunday\n",
      "2   2010-05-09     Mother's Day\n",
      "3   2010-05-31     Memorial Day\n",
      "4   2010-06-20     Father's Day\n",
      "..         ...              ...\n",
      "63  2013-12-09     Green Monday\n",
      "64  2013-12-21   Super Saturday\n",
      "65  2013-12-24    Christmas Eve\n",
      "66  2013-12-25    Christmas Day\n",
      "67  2013-12-31   New Year's Eve\n",
      "\n",
      "[68 rows x 2 columns]\n"
     ]
    }
   ],
   "source": [
    "df_us_holidays = pd.read_csv(\"csv_files/idea_csv/df_us_holidays.csv\")\n",
    "print(df_us_holidays)"
   ]
  },
  {
   "cell_type": "markdown",
   "id": "53a0ce63",
   "metadata": {},
   "source": [
    "#### Tax Return"
   ]
  },
  {
   "cell_type": "markdown",
   "id": "ec547b96",
   "metadata": {},
   "source": [
    "Train"
   ]
  },
  {
   "cell_type": "code",
   "execution_count": 30,
   "id": "1bf355ee",
   "metadata": {},
   "outputs": [
    {
     "data": {
      "application/vnd.microsoft.datawrangler.viewer.v0+json": {
       "columns": [
        {
         "name": "index",
         "rawType": "int64",
         "type": "integer"
        },
        {
         "name": "Date",
         "rawType": "datetime64[ns]",
         "type": "datetime"
        }
       ],
       "ref": "bd4ccd30-a8be-4071-b1dd-d768e60529cb",
       "rows": [
        [
         "0",
         "2010-02-05 00:00:00"
        ],
        [
         "1",
         "2010-02-12 00:00:00"
        ],
        [
         "2",
         "2010-02-19 00:00:00"
        ],
        [
         "3",
         "2010-02-26 00:00:00"
        ],
        [
         "4",
         "2010-03-05 00:00:00"
        ],
        [
         "5",
         "2010-03-12 00:00:00"
        ],
        [
         "6",
         "2010-03-19 00:00:00"
        ],
        [
         "7",
         "2010-03-26 00:00:00"
        ],
        [
         "8",
         "2010-04-02 00:00:00"
        ],
        [
         "9",
         "2010-04-09 00:00:00"
        ],
        [
         "10",
         "2010-04-16 00:00:00"
        ],
        [
         "11",
         "2010-04-23 00:00:00"
        ],
        [
         "12",
         "2010-04-30 00:00:00"
        ],
        [
         "13",
         "2010-05-07 00:00:00"
        ],
        [
         "14",
         "2010-05-14 00:00:00"
        ],
        [
         "15",
         "2010-05-21 00:00:00"
        ],
        [
         "16",
         "2010-05-28 00:00:00"
        ],
        [
         "17",
         "2010-06-04 00:00:00"
        ],
        [
         "18",
         "2010-06-11 00:00:00"
        ],
        [
         "19",
         "2010-06-18 00:00:00"
        ],
        [
         "20",
         "2010-06-25 00:00:00"
        ],
        [
         "21",
         "2010-07-02 00:00:00"
        ],
        [
         "22",
         "2010-07-09 00:00:00"
        ],
        [
         "23",
         "2010-07-16 00:00:00"
        ],
        [
         "24",
         "2010-07-23 00:00:00"
        ],
        [
         "25",
         "2010-07-30 00:00:00"
        ],
        [
         "26",
         "2010-08-06 00:00:00"
        ],
        [
         "27",
         "2010-08-13 00:00:00"
        ],
        [
         "28",
         "2010-08-20 00:00:00"
        ],
        [
         "29",
         "2010-08-27 00:00:00"
        ],
        [
         "30",
         "2010-09-03 00:00:00"
        ],
        [
         "31",
         "2010-09-10 00:00:00"
        ],
        [
         "32",
         "2010-09-17 00:00:00"
        ],
        [
         "33",
         "2010-09-24 00:00:00"
        ],
        [
         "34",
         "2010-10-01 00:00:00"
        ],
        [
         "35",
         "2010-10-08 00:00:00"
        ],
        [
         "36",
         "2010-10-15 00:00:00"
        ],
        [
         "37",
         "2010-10-22 00:00:00"
        ],
        [
         "38",
         "2010-10-29 00:00:00"
        ],
        [
         "39",
         "2010-11-05 00:00:00"
        ],
        [
         "40",
         "2010-11-12 00:00:00"
        ],
        [
         "41",
         "2010-11-19 00:00:00"
        ],
        [
         "42",
         "2010-11-26 00:00:00"
        ],
        [
         "43",
         "2010-12-03 00:00:00"
        ],
        [
         "44",
         "2010-12-10 00:00:00"
        ],
        [
         "45",
         "2010-12-17 00:00:00"
        ],
        [
         "46",
         "2010-12-24 00:00:00"
        ],
        [
         "47",
         "2010-12-31 00:00:00"
        ],
        [
         "48",
         "2011-01-07 00:00:00"
        ],
        [
         "49",
         "2011-01-14 00:00:00"
        ]
       ],
       "shape": {
        "columns": 1,
        "rows": 421570
       }
      },
      "text/html": [
       "<div>\n",
       "<style scoped>\n",
       "    .dataframe tbody tr th:only-of-type {\n",
       "        vertical-align: middle;\n",
       "    }\n",
       "\n",
       "    .dataframe tbody tr th {\n",
       "        vertical-align: top;\n",
       "    }\n",
       "\n",
       "    .dataframe thead th {\n",
       "        text-align: right;\n",
       "    }\n",
       "</style>\n",
       "<table border=\"1\" class=\"dataframe\">\n",
       "  <thead>\n",
       "    <tr style=\"text-align: right;\">\n",
       "      <th></th>\n",
       "      <th>Date</th>\n",
       "    </tr>\n",
       "  </thead>\n",
       "  <tbody>\n",
       "    <tr>\n",
       "      <th>0</th>\n",
       "      <td>2010-02-05</td>\n",
       "    </tr>\n",
       "    <tr>\n",
       "      <th>1</th>\n",
       "      <td>2010-02-12</td>\n",
       "    </tr>\n",
       "    <tr>\n",
       "      <th>2</th>\n",
       "      <td>2010-02-19</td>\n",
       "    </tr>\n",
       "    <tr>\n",
       "      <th>3</th>\n",
       "      <td>2010-02-26</td>\n",
       "    </tr>\n",
       "    <tr>\n",
       "      <th>4</th>\n",
       "      <td>2010-03-05</td>\n",
       "    </tr>\n",
       "    <tr>\n",
       "      <th>...</th>\n",
       "      <td>...</td>\n",
       "    </tr>\n",
       "    <tr>\n",
       "      <th>421565</th>\n",
       "      <td>2012-09-28</td>\n",
       "    </tr>\n",
       "    <tr>\n",
       "      <th>421566</th>\n",
       "      <td>2012-10-05</td>\n",
       "    </tr>\n",
       "    <tr>\n",
       "      <th>421567</th>\n",
       "      <td>2012-10-12</td>\n",
       "    </tr>\n",
       "    <tr>\n",
       "      <th>421568</th>\n",
       "      <td>2012-10-19</td>\n",
       "    </tr>\n",
       "    <tr>\n",
       "      <th>421569</th>\n",
       "      <td>2012-10-26</td>\n",
       "    </tr>\n",
       "  </tbody>\n",
       "</table>\n",
       "<p>421570 rows × 1 columns</p>\n",
       "</div>"
      ],
      "text/plain": [
       "             Date\n",
       "0      2010-02-05\n",
       "1      2010-02-12\n",
       "2      2010-02-19\n",
       "3      2010-02-26\n",
       "4      2010-03-05\n",
       "...           ...\n",
       "421565 2012-09-28\n",
       "421566 2012-10-05\n",
       "421567 2012-10-12\n",
       "421568 2012-10-19\n",
       "421569 2012-10-26\n",
       "\n",
       "[421570 rows x 1 columns]"
      ]
     },
     "execution_count": 30,
     "metadata": {},
     "output_type": "execute_result"
    }
   ],
   "source": [
    "df_tax_return_train = df_walmart_train[[\"Date\"]].copy()\n",
    "df_tax_return_train\n"
   ]
  },
  {
   "cell_type": "code",
   "execution_count": 31,
   "id": "a428b117",
   "metadata": {},
   "outputs": [],
   "source": [
    "%%skip\n",
    "def filing_deadline(year):\n",
    "    \"\"\"\n",
    "    IRS filing deadline April 15, bumped to Monday if on a weekend.\n",
    "    \"\"\"\n",
    "    d = date(year, 4, 15)\n",
    "    # Saturday or Sunday → next Monday\n",
    "    while d.weekday() >= 5:\n",
    "        d += timedelta(days=1)\n",
    "    return pd.Timestamp(d)\n",
    "\n",
    "# Tax-return weight function (7 days ramp-up, peak on deadline, 14 days ramp-down)\n",
    "def tax_return_weight(ts):\n",
    "    # ensure ts is a Timestamp\n",
    "    ts = pd.Timestamp(ts).normalize()\n",
    "    peak = filing_deadline(ts.year)\n",
    "    start = peak - timedelta(days=7)\n",
    "    end   = peak + timedelta(days=14)\n",
    "    if ts < start or ts > end:\n",
    "        return 0.0\n",
    "    if ts <= peak:\n",
    "        return (ts - start).days / 7.0\n",
    "    else:\n",
    "        return (end - ts).days / 14.0\n",
    "\n",
    "# Map this weight onto every row in your original df\n",
    "\n",
    "df_tax_return_train[\"TaxReturnImpact\"] = df_tax_return_train[\"Date\"].dt.normalize().map(tax_return_weight)\n",
    "\n",
    "df_tax_return_train.to_csv('csv_files/idea_csv/df_tax_return_train.csv')\n",
    "\n"
   ]
  },
  {
   "cell_type": "code",
   "execution_count": 32,
   "id": "1dfd1022",
   "metadata": {},
   "outputs": [],
   "source": [
    "df_tax_return_train = pd.read_csv('csv_files/idea_csv/df_tax_return_train.csv')"
   ]
  },
  {
   "cell_type": "markdown",
   "id": "24f4f2ca",
   "metadata": {},
   "source": [
    "Test"
   ]
  },
  {
   "cell_type": "code",
   "execution_count": 33,
   "id": "31cd2010",
   "metadata": {},
   "outputs": [],
   "source": [
    "%%skip\n",
    "df_tax_return_test = df_walmart_test[[\"Date\"]].copy()\n",
    "df_tax_return_test\n",
    "def filing_deadline(year):\n",
    "    \"\"\"\n",
    "    IRS filing deadline April 15, bumped to Monday if on a weekend.\n",
    "    \"\"\"\n",
    "    d = date(year, 4, 15)\n",
    "    # Saturday or Sunday → next Monday\n",
    "    while d.weekday() >= 5:\n",
    "        d += timedelta(days=1)\n",
    "    return pd.Timestamp(d)\n",
    "\n",
    "# Tax-return weight function (7 days ramp-up, peak on deadline, 14 days ramp-down)\n",
    "def tax_return_weight(ts):\n",
    "    # ensure ts is a Timestamp\n",
    "    ts = pd.Timestamp(ts).normalize()\n",
    "    peak = filing_deadline(ts.year)\n",
    "    start = peak - timedelta(days=7)\n",
    "    end   = peak + timedelta(days=14)\n",
    "    if ts < start or ts > end:\n",
    "        return 0.0\n",
    "    if ts <= peak:\n",
    "        return (ts - start).days / 7.0\n",
    "    else:\n",
    "        return (end - ts).days / 14.0\n",
    "\n",
    "# Map this weight onto every row in your original df\n",
    "\n",
    "df_tax_return_test[\"TaxReturnImpact\"] = df_tax_return_test[\"Date\"].dt.normalize().map(tax_return_weight)\n",
    "\n",
    "df_tax_return_test.to_csv('csv_files/idea_csv/df_tax_return_test.csv')"
   ]
  },
  {
   "cell_type": "code",
   "execution_count": 34,
   "id": "de2931b9",
   "metadata": {},
   "outputs": [],
   "source": [
    "df_tax_return_test = pd.read_csv('csv_files/idea_csv/df_tax_return_test.csv')"
   ]
  },
  {
   "cell_type": "markdown",
   "id": "d51bedab",
   "metadata": {},
   "source": [
    "#### Stores Types & Sizes"
   ]
  },
  {
   "cell_type": "code",
   "execution_count": 35,
   "id": "06cccb9d",
   "metadata": {},
   "outputs": [],
   "source": [
    "df_walmart_train['Store']  = df_walmart_train['Store'].astype(str)\n",
    "df_walmart_stores['Store'] = df_walmart_stores['Store'].astype(str)\n",
    "\n",
    "# Merge the store metadata into your training DataFrame\n",
    "df_store_types_sizes = df_walmart_train.merge(\n",
    "    df_walmart_stores,     \n",
    "    on='Store',             \n",
    "    how='left',       \n",
    "    validate='many_to_one'  \n",
    ")"
   ]
  },
  {
   "cell_type": "code",
   "execution_count": 36,
   "id": "797265fe",
   "metadata": {},
   "outputs": [],
   "source": [
    "df_store_types_sizes = df_store_types_sizes.loc[:, [\"Store\",\"Type\",\"Size\"]]"
   ]
  },
  {
   "cell_type": "code",
   "execution_count": 37,
   "id": "0aba53c8",
   "metadata": {},
   "outputs": [
    {
     "data": {
      "application/vnd.microsoft.datawrangler.viewer.v0+json": {
       "columns": [
        {
         "name": "index",
         "rawType": "int64",
         "type": "integer"
        },
        {
         "name": "Store",
         "rawType": "object",
         "type": "string"
        },
        {
         "name": "Type",
         "rawType": "object",
         "type": "string"
        },
        {
         "name": "Size",
         "rawType": "int64",
         "type": "integer"
        }
       ],
       "ref": "92607c8a-a163-4e7f-8088-8022bffbf7a1",
       "rows": [
        [
         "0",
         "1",
         "A",
         "151315"
        ],
        [
         "1",
         "1",
         "A",
         "151315"
        ],
        [
         "2",
         "1",
         "A",
         "151315"
        ],
        [
         "3",
         "1",
         "A",
         "151315"
        ],
        [
         "4",
         "1",
         "A",
         "151315"
        ],
        [
         "5",
         "1",
         "A",
         "151315"
        ],
        [
         "6",
         "1",
         "A",
         "151315"
        ],
        [
         "7",
         "1",
         "A",
         "151315"
        ],
        [
         "8",
         "1",
         "A",
         "151315"
        ],
        [
         "9",
         "1",
         "A",
         "151315"
        ],
        [
         "10",
         "1",
         "A",
         "151315"
        ],
        [
         "11",
         "1",
         "A",
         "151315"
        ],
        [
         "12",
         "1",
         "A",
         "151315"
        ],
        [
         "13",
         "1",
         "A",
         "151315"
        ],
        [
         "14",
         "1",
         "A",
         "151315"
        ],
        [
         "15",
         "1",
         "A",
         "151315"
        ],
        [
         "16",
         "1",
         "A",
         "151315"
        ],
        [
         "17",
         "1",
         "A",
         "151315"
        ],
        [
         "18",
         "1",
         "A",
         "151315"
        ],
        [
         "19",
         "1",
         "A",
         "151315"
        ],
        [
         "20",
         "1",
         "A",
         "151315"
        ],
        [
         "21",
         "1",
         "A",
         "151315"
        ],
        [
         "22",
         "1",
         "A",
         "151315"
        ],
        [
         "23",
         "1",
         "A",
         "151315"
        ],
        [
         "24",
         "1",
         "A",
         "151315"
        ],
        [
         "25",
         "1",
         "A",
         "151315"
        ],
        [
         "26",
         "1",
         "A",
         "151315"
        ],
        [
         "27",
         "1",
         "A",
         "151315"
        ],
        [
         "28",
         "1",
         "A",
         "151315"
        ],
        [
         "29",
         "1",
         "A",
         "151315"
        ],
        [
         "30",
         "1",
         "A",
         "151315"
        ],
        [
         "31",
         "1",
         "A",
         "151315"
        ],
        [
         "32",
         "1",
         "A",
         "151315"
        ],
        [
         "33",
         "1",
         "A",
         "151315"
        ],
        [
         "34",
         "1",
         "A",
         "151315"
        ],
        [
         "35",
         "1",
         "A",
         "151315"
        ],
        [
         "36",
         "1",
         "A",
         "151315"
        ],
        [
         "37",
         "1",
         "A",
         "151315"
        ],
        [
         "38",
         "1",
         "A",
         "151315"
        ],
        [
         "39",
         "1",
         "A",
         "151315"
        ],
        [
         "40",
         "1",
         "A",
         "151315"
        ],
        [
         "41",
         "1",
         "A",
         "151315"
        ],
        [
         "42",
         "1",
         "A",
         "151315"
        ],
        [
         "43",
         "1",
         "A",
         "151315"
        ],
        [
         "44",
         "1",
         "A",
         "151315"
        ],
        [
         "45",
         "1",
         "A",
         "151315"
        ],
        [
         "46",
         "1",
         "A",
         "151315"
        ],
        [
         "47",
         "1",
         "A",
         "151315"
        ],
        [
         "48",
         "1",
         "A",
         "151315"
        ],
        [
         "49",
         "1",
         "A",
         "151315"
        ]
       ],
       "shape": {
        "columns": 3,
        "rows": 421570
       }
      },
      "text/html": [
       "<div>\n",
       "<style scoped>\n",
       "    .dataframe tbody tr th:only-of-type {\n",
       "        vertical-align: middle;\n",
       "    }\n",
       "\n",
       "    .dataframe tbody tr th {\n",
       "        vertical-align: top;\n",
       "    }\n",
       "\n",
       "    .dataframe thead th {\n",
       "        text-align: right;\n",
       "    }\n",
       "</style>\n",
       "<table border=\"1\" class=\"dataframe\">\n",
       "  <thead>\n",
       "    <tr style=\"text-align: right;\">\n",
       "      <th></th>\n",
       "      <th>Store</th>\n",
       "      <th>Type</th>\n",
       "      <th>Size</th>\n",
       "    </tr>\n",
       "  </thead>\n",
       "  <tbody>\n",
       "    <tr>\n",
       "      <th>0</th>\n",
       "      <td>1</td>\n",
       "      <td>A</td>\n",
       "      <td>151315</td>\n",
       "    </tr>\n",
       "    <tr>\n",
       "      <th>1</th>\n",
       "      <td>1</td>\n",
       "      <td>A</td>\n",
       "      <td>151315</td>\n",
       "    </tr>\n",
       "    <tr>\n",
       "      <th>2</th>\n",
       "      <td>1</td>\n",
       "      <td>A</td>\n",
       "      <td>151315</td>\n",
       "    </tr>\n",
       "    <tr>\n",
       "      <th>3</th>\n",
       "      <td>1</td>\n",
       "      <td>A</td>\n",
       "      <td>151315</td>\n",
       "    </tr>\n",
       "    <tr>\n",
       "      <th>4</th>\n",
       "      <td>1</td>\n",
       "      <td>A</td>\n",
       "      <td>151315</td>\n",
       "    </tr>\n",
       "    <tr>\n",
       "      <th>...</th>\n",
       "      <td>...</td>\n",
       "      <td>...</td>\n",
       "      <td>...</td>\n",
       "    </tr>\n",
       "    <tr>\n",
       "      <th>421565</th>\n",
       "      <td>45</td>\n",
       "      <td>B</td>\n",
       "      <td>118221</td>\n",
       "    </tr>\n",
       "    <tr>\n",
       "      <th>421566</th>\n",
       "      <td>45</td>\n",
       "      <td>B</td>\n",
       "      <td>118221</td>\n",
       "    </tr>\n",
       "    <tr>\n",
       "      <th>421567</th>\n",
       "      <td>45</td>\n",
       "      <td>B</td>\n",
       "      <td>118221</td>\n",
       "    </tr>\n",
       "    <tr>\n",
       "      <th>421568</th>\n",
       "      <td>45</td>\n",
       "      <td>B</td>\n",
       "      <td>118221</td>\n",
       "    </tr>\n",
       "    <tr>\n",
       "      <th>421569</th>\n",
       "      <td>45</td>\n",
       "      <td>B</td>\n",
       "      <td>118221</td>\n",
       "    </tr>\n",
       "  </tbody>\n",
       "</table>\n",
       "<p>421570 rows × 3 columns</p>\n",
       "</div>"
      ],
      "text/plain": [
       "       Store Type    Size\n",
       "0          1    A  151315\n",
       "1          1    A  151315\n",
       "2          1    A  151315\n",
       "3          1    A  151315\n",
       "4          1    A  151315\n",
       "...      ...  ...     ...\n",
       "421565    45    B  118221\n",
       "421566    45    B  118221\n",
       "421567    45    B  118221\n",
       "421568    45    B  118221\n",
       "421569    45    B  118221\n",
       "\n",
       "[421570 rows x 3 columns]"
      ]
     },
     "execution_count": 37,
     "metadata": {},
     "output_type": "execute_result"
    }
   ],
   "source": [
    "df_store_types_sizes"
   ]
  },
  {
   "cell_type": "markdown",
   "id": "94ef73b4",
   "metadata": {},
   "source": [
    "#### Oil Price The U.S. domestic"
   ]
  },
  {
   "cell_type": "code",
   "execution_count": 38,
   "id": "e79e31d2",
   "metadata": {},
   "outputs": [],
   "source": [
    "%%skip\n",
    "start = \"2010-02-05\"\n",
    "end   = date.today().isoformat()\n",
    " \n",
    "df_us_oil_price = DataReader(\"DCOILWTICO\", \"fred\", start, end)\n",
    "\n",
    "wti_weekly = df_us_oil_price.resample(\"W-FRI\").mean().rename(\n",
    "    columns={\"DCOILWTICO\":\"WTI_Weekly_Mean_Price\"}\n",
    ")\n",
    "df_us_oil_price.to_csv('csv_files/idea_csv/df_us_oil_price')"
   ]
  },
  {
   "cell_type": "code",
   "execution_count": 39,
   "id": "6c47a64b",
   "metadata": {},
   "outputs": [],
   "source": [
    "df_us_oil_price = pd.read_csv('csv_files/idea_csv/df_us_oil_price')"
   ]
  },
  {
   "cell_type": "code",
   "execution_count": 40,
   "id": "27c10036",
   "metadata": {},
   "outputs": [
    {
     "data": {
      "application/vnd.microsoft.datawrangler.viewer.v0+json": {
       "columns": [
        {
         "name": "index",
         "rawType": "int64",
         "type": "integer"
        },
        {
         "name": "DATE",
         "rawType": "object",
         "type": "string"
        },
        {
         "name": "DCOILWTICO",
         "rawType": "float64",
         "type": "float"
        }
       ],
       "ref": "e612af01-6adc-45eb-b665-6e85857a5132",
       "rows": [
        [
         "0",
         "2010-02-05",
         "71.15"
        ],
        [
         "1",
         "2010-02-08",
         "71.87"
        ],
        [
         "2",
         "2010-02-09",
         "73.71"
        ],
        [
         "3",
         "2010-02-10",
         "74.48"
        ],
        [
         "4",
         "2010-02-11",
         "75.23"
        ],
        [
         "5",
         "2010-02-12",
         "74.11"
        ],
        [
         "6",
         "2010-02-15",
         null
        ],
        [
         "7",
         "2010-02-16",
         "76.98"
        ],
        [
         "8",
         "2010-02-17",
         "77.27"
        ],
        [
         "9",
         "2010-02-18",
         "78.97"
        ],
        [
         "10",
         "2010-02-19",
         "79.77"
        ],
        [
         "11",
         "2010-02-22",
         "80.04"
        ],
        [
         "12",
         "2010-02-23",
         "78.61"
        ],
        [
         "13",
         "2010-02-24",
         "79.75"
        ],
        [
         "14",
         "2010-02-25",
         "77.99"
        ],
        [
         "15",
         "2010-02-26",
         "79.72"
        ],
        [
         "16",
         "2010-03-01",
         "78.71"
        ],
        [
         "17",
         "2010-03-02",
         "79.62"
        ],
        [
         "18",
         "2010-03-03",
         "80.91"
        ],
        [
         "19",
         "2010-03-04",
         "80.21"
        ],
        [
         "20",
         "2010-03-05",
         "81.5"
        ],
        [
         "21",
         "2010-03-08",
         "81.85"
        ],
        [
         "22",
         "2010-03-09",
         "81.5"
        ],
        [
         "23",
         "2010-03-10",
         "82.07"
        ],
        [
         "24",
         "2010-03-11",
         "82.1"
        ],
        [
         "25",
         "2010-03-12",
         "81.26"
        ],
        [
         "26",
         "2010-03-15",
         "79.79"
        ],
        [
         "27",
         "2010-03-16",
         "81.75"
        ],
        [
         "28",
         "2010-03-17",
         "82.93"
        ],
        [
         "29",
         "2010-03-18",
         "82.16"
        ],
        [
         "30",
         "2010-03-19",
         "80.58"
        ],
        [
         "31",
         "2010-03-22",
         "81.26"
        ],
        [
         "32",
         "2010-03-23",
         "81.68"
        ],
        [
         "33",
         "2010-03-24",
         "80.29"
        ],
        [
         "34",
         "2010-03-25",
         "80.25"
        ],
        [
         "35",
         "2010-03-26",
         "79.75"
        ],
        [
         "36",
         "2010-03-29",
         "81.92"
        ],
        [
         "37",
         "2010-03-30",
         "82.14"
        ],
        [
         "38",
         "2010-03-31",
         "83.45"
        ],
        [
         "39",
         "2010-04-01",
         "84.53"
        ],
        [
         "40",
         "2010-04-02",
         null
        ],
        [
         "41",
         "2010-04-05",
         "86.36"
        ],
        [
         "42",
         "2010-04-06",
         "86.54"
        ],
        [
         "43",
         "2010-04-07",
         "85.64"
        ],
        [
         "44",
         "2010-04-08",
         "85.17"
        ],
        [
         "45",
         "2010-04-09",
         "84.6"
        ],
        [
         "46",
         "2010-04-12",
         "84.07"
        ],
        [
         "47",
         "2010-04-13",
         "83.8"
        ],
        [
         "48",
         "2010-04-14",
         "85.62"
        ],
        [
         "49",
         "2010-04-15",
         "85.25"
        ]
       ],
       "shape": {
        "columns": 2,
        "rows": 4002
       }
      },
      "text/html": [
       "<div>\n",
       "<style scoped>\n",
       "    .dataframe tbody tr th:only-of-type {\n",
       "        vertical-align: middle;\n",
       "    }\n",
       "\n",
       "    .dataframe tbody tr th {\n",
       "        vertical-align: top;\n",
       "    }\n",
       "\n",
       "    .dataframe thead th {\n",
       "        text-align: right;\n",
       "    }\n",
       "</style>\n",
       "<table border=\"1\" class=\"dataframe\">\n",
       "  <thead>\n",
       "    <tr style=\"text-align: right;\">\n",
       "      <th></th>\n",
       "      <th>DATE</th>\n",
       "      <th>DCOILWTICO</th>\n",
       "    </tr>\n",
       "  </thead>\n",
       "  <tbody>\n",
       "    <tr>\n",
       "      <th>0</th>\n",
       "      <td>2010-02-05</td>\n",
       "      <td>71.15</td>\n",
       "    </tr>\n",
       "    <tr>\n",
       "      <th>1</th>\n",
       "      <td>2010-02-08</td>\n",
       "      <td>71.87</td>\n",
       "    </tr>\n",
       "    <tr>\n",
       "      <th>2</th>\n",
       "      <td>2010-02-09</td>\n",
       "      <td>73.71</td>\n",
       "    </tr>\n",
       "    <tr>\n",
       "      <th>3</th>\n",
       "      <td>2010-02-10</td>\n",
       "      <td>74.48</td>\n",
       "    </tr>\n",
       "    <tr>\n",
       "      <th>4</th>\n",
       "      <td>2010-02-11</td>\n",
       "      <td>75.23</td>\n",
       "    </tr>\n",
       "    <tr>\n",
       "      <th>...</th>\n",
       "      <td>...</td>\n",
       "      <td>...</td>\n",
       "    </tr>\n",
       "    <tr>\n",
       "      <th>3997</th>\n",
       "      <td>2025-06-03</td>\n",
       "      <td>64.10</td>\n",
       "    </tr>\n",
       "    <tr>\n",
       "      <th>3998</th>\n",
       "      <td>2025-06-04</td>\n",
       "      <td>63.57</td>\n",
       "    </tr>\n",
       "    <tr>\n",
       "      <th>3999</th>\n",
       "      <td>2025-06-05</td>\n",
       "      <td>64.06</td>\n",
       "    </tr>\n",
       "    <tr>\n",
       "      <th>4000</th>\n",
       "      <td>2025-06-06</td>\n",
       "      <td>65.30</td>\n",
       "    </tr>\n",
       "    <tr>\n",
       "      <th>4001</th>\n",
       "      <td>2025-06-09</td>\n",
       "      <td>65.99</td>\n",
       "    </tr>\n",
       "  </tbody>\n",
       "</table>\n",
       "<p>4002 rows × 2 columns</p>\n",
       "</div>"
      ],
      "text/plain": [
       "            DATE  DCOILWTICO\n",
       "0     2010-02-05       71.15\n",
       "1     2010-02-08       71.87\n",
       "2     2010-02-09       73.71\n",
       "3     2010-02-10       74.48\n",
       "4     2010-02-11       75.23\n",
       "...          ...         ...\n",
       "3997  2025-06-03       64.10\n",
       "3998  2025-06-04       63.57\n",
       "3999  2025-06-05       64.06\n",
       "4000  2025-06-06       65.30\n",
       "4001  2025-06-09       65.99\n",
       "\n",
       "[4002 rows x 2 columns]"
      ]
     },
     "execution_count": 40,
     "metadata": {},
     "output_type": "execute_result"
    }
   ],
   "source": [
    "df_us_oil_price"
   ]
  },
  {
   "cell_type": "markdown",
   "id": "f48f0bab",
   "metadata": {},
   "source": [
    "## Data Cleaning"
   ]
  },
  {
   "cell_type": "code",
   "execution_count": 41,
   "id": "d19ee0d3",
   "metadata": {},
   "outputs": [],
   "source": [
    "df_wm_train = df_walmart_train"
   ]
  },
  {
   "cell_type": "markdown",
   "id": "750503ef",
   "metadata": {},
   "source": [
    "### Data Cleaning - Train"
   ]
  },
  {
   "cell_type": "markdown",
   "id": "654597fd",
   "metadata": {},
   "source": [
    "#### SP 500"
   ]
  },
  {
   "cell_type": "code",
   "execution_count": 42,
   "id": "ba4bbd22",
   "metadata": {},
   "outputs": [
    {
     "data": {
      "application/vnd.microsoft.datawrangler.viewer.v0+json": {
       "columns": [
        {
         "name": "index",
         "rawType": "object",
         "type": "string"
        },
        {
         "name": "0",
         "rawType": "object",
         "type": "unknown"
        }
       ],
       "ref": "2641e616-cbaf-4ff9-ba83-71f4c2f9dd47",
       "rows": [
        [
         "Date",
         "object"
        ],
        [
         "SPX_Weekly_Mean_Close",
         "float64"
        ]
       ],
       "shape": {
        "columns": 1,
        "rows": 2
       }
      },
      "text/plain": [
       "Date                      object\n",
       "SPX_Weekly_Mean_Close    float64\n",
       "dtype: object"
      ]
     },
     "execution_count": 42,
     "metadata": {},
     "output_type": "execute_result"
    }
   ],
   "source": [
    "df_sp500.dtypes"
   ]
  },
  {
   "cell_type": "code",
   "execution_count": 43,
   "id": "0a154839",
   "metadata": {},
   "outputs": [],
   "source": [
    "df_sp500['Date'] = pd.to_datetime(df_sp500[\"Date\"], errors=\"raise\")"
   ]
  },
  {
   "cell_type": "code",
   "execution_count": 44,
   "id": "b0bce750",
   "metadata": {},
   "outputs": [
    {
     "data": {
      "application/vnd.microsoft.datawrangler.viewer.v0+json": {
       "columns": [
        {
         "name": "index",
         "rawType": "int64",
         "type": "integer"
        },
        {
         "name": "Date",
         "rawType": "datetime64[ns]",
         "type": "datetime"
        },
        {
         "name": "SPX_Weekly_Mean_Close",
         "rawType": "float64",
         "type": "float"
        }
       ],
       "ref": "be6f7330-e490-452f-91e4-ef6e0a6268e2",
       "rows": [
        [
         "0",
         "2000-01-07 00:00:00",
         "1420.333984375"
        ],
        [
         "1",
         "2000-01-14 00:00:00",
         "1448.6480224609377"
        ],
        [
         "2",
         "2000-01-21 00:00:00",
         "1449.4924926757812"
        ],
        [
         "3",
         "2000-01-28 00:00:00",
         "1394.8740234375"
        ],
        [
         "4",
         "2000-02-04 00:00:00",
         "1412.439990234375"
        ],
        [
         "5",
         "2000-02-11 00:00:00",
         "1416.323974609375"
        ],
        [
         "6",
         "2000-02-18 00:00:00",
         "1382.802001953125"
        ],
        [
         "7",
         "2000-02-25 00:00:00",
         "1349.9125061035156"
        ],
        [
         "8",
         "2000-03-03 00:00:00",
         "1376.918017578125"
        ],
        [
         "9",
         "2000-03-10 00:00:00",
         "1382.07197265625"
        ],
        [
         "10",
         "2000-03-17 00:00:00",
         "1411.5699951171875"
        ],
        [
         "11",
         "2000-03-24 00:00:00",
         "1501.189990234375"
        ],
        [
         "12",
         "2000-03-31 00:00:00",
         "1505.3219970703126"
        ],
        [
         "13",
         "2000-04-07 00:00:00",
         "1501.1519775390625"
        ],
        [
         "14",
         "2000-04-14 00:00:00",
         "1453.8580078125"
        ],
        [
         "15",
         "2000-04-21 00:00:00",
         "1426.2649841308594"
        ],
        [
         "16",
         "2000-04-28 00:00:00",
         "1457.1280029296877"
        ],
        [
         "17",
         "2000-05-05 00:00:00",
         "1434.3679931640625"
        ],
        [
         "18",
         "2000-05-12 00:00:00",
         "1409.626025390625"
        ],
        [
         "19",
         "2000-05-19 00:00:00",
         "1442.0719970703126"
        ],
        [
         "20",
         "2000-05-26 00:00:00",
         "1386.6340087890626"
        ],
        [
         "21",
         "2000-06-02 00:00:00",
         "1442.2799987792969"
        ],
        [
         "22",
         "2000-06-09 00:00:00",
         "1463.089990234375"
        ],
        [
         "23",
         "2000-06-16 00:00:00",
         "1465.833984375"
        ],
        [
         "24",
         "2000-06-23 00:00:00",
         "1466.947998046875"
        ],
        [
         "25",
         "2000-06-30 00:00:00",
         "1451.5340087890625"
        ],
        [
         "26",
         "2000-07-07 00:00:00",
         "1462.8350219726562"
        ],
        [
         "27",
         "2000-07-14 00:00:00",
         "1491.047998046875"
        ],
        [
         "28",
         "2000-07-21 00:00:00",
         "1492.3899658203125"
        ],
        [
         "29",
         "2000-07-28 00:00:00",
         "1452.1380126953125"
        ],
        [
         "30",
         "2000-08-04 00:00:00",
         "1444.6239990234376"
        ],
        [
         "31",
         "2000-08-11 00:00:00",
         "1473.4159912109376"
        ],
        [
         "32",
         "2000-08-18 00:00:00",
         "1488.7260009765623"
        ],
        [
         "33",
         "2000-08-25 00:00:00",
         "1503.6679931640624"
        ],
        [
         "34",
         "2000-09-01 00:00:00",
         "1512.993994140625"
        ],
        [
         "35",
         "2000-09-08 00:00:00",
         "1499.084991455078"
        ],
        [
         "36",
         "2000-09-15 00:00:00",
         "1480.568017578125"
        ],
        [
         "37",
         "2000-09-22 00:00:00",
         "1450.70400390625"
        ],
        [
         "38",
         "2000-09-29 00:00:00",
         "1437.5219970703124"
        ],
        [
         "39",
         "2000-10-06 00:00:00",
         "1428.4559814453123"
        ],
        [
         "40",
         "2000-10-13 00:00:00",
         "1371.518017578125"
        ],
        [
         "41",
         "2000-10-20 00:00:00",
         "1370.4820068359377"
        ],
        [
         "42",
         "2000-10-27 00:00:00",
         "1380.5659912109377"
        ],
        [
         "43",
         "2000-11-03 00:00:00",
         "1420.8579833984377"
        ],
        [
         "44",
         "2000-11-10 00:00:00",
         "1407.8919921875"
        ],
        [
         "45",
         "2000-11-17 00:00:00",
         "1372.8119873046876"
        ],
        [
         "46",
         "2000-11-24 00:00:00",
         "1338.5249938964844"
        ],
        [
         "47",
         "2000-12-01 00:00:00",
         "1331.433984375"
        ],
        [
         "48",
         "2000-12-08 00:00:00",
         "1353.2820068359374"
        ],
        [
         "49",
         "2000-12-15 00:00:00",
         "1352.8900146484375"
        ]
       ],
       "shape": {
        "columns": 2,
        "rows": 1329
       }
      },
      "text/html": [
       "<div>\n",
       "<style scoped>\n",
       "    .dataframe tbody tr th:only-of-type {\n",
       "        vertical-align: middle;\n",
       "    }\n",
       "\n",
       "    .dataframe tbody tr th {\n",
       "        vertical-align: top;\n",
       "    }\n",
       "\n",
       "    .dataframe thead th {\n",
       "        text-align: right;\n",
       "    }\n",
       "</style>\n",
       "<table border=\"1\" class=\"dataframe\">\n",
       "  <thead>\n",
       "    <tr style=\"text-align: right;\">\n",
       "      <th></th>\n",
       "      <th>Date</th>\n",
       "      <th>SPX_Weekly_Mean_Close</th>\n",
       "    </tr>\n",
       "  </thead>\n",
       "  <tbody>\n",
       "    <tr>\n",
       "      <th>0</th>\n",
       "      <td>2000-01-07</td>\n",
       "      <td>1420.333984</td>\n",
       "    </tr>\n",
       "    <tr>\n",
       "      <th>1</th>\n",
       "      <td>2000-01-14</td>\n",
       "      <td>1448.648022</td>\n",
       "    </tr>\n",
       "    <tr>\n",
       "      <th>2</th>\n",
       "      <td>2000-01-21</td>\n",
       "      <td>1449.492493</td>\n",
       "    </tr>\n",
       "    <tr>\n",
       "      <th>3</th>\n",
       "      <td>2000-01-28</td>\n",
       "      <td>1394.874023</td>\n",
       "    </tr>\n",
       "    <tr>\n",
       "      <th>4</th>\n",
       "      <td>2000-02-04</td>\n",
       "      <td>1412.439990</td>\n",
       "    </tr>\n",
       "    <tr>\n",
       "      <th>...</th>\n",
       "      <td>...</td>\n",
       "      <td>...</td>\n",
       "    </tr>\n",
       "    <tr>\n",
       "      <th>1324</th>\n",
       "      <td>2025-05-23</td>\n",
       "      <td>5878.699902</td>\n",
       "    </tr>\n",
       "    <tr>\n",
       "      <th>1325</th>\n",
       "      <td>2025-05-30</td>\n",
       "      <td>5908.487427</td>\n",
       "    </tr>\n",
       "    <tr>\n",
       "      <th>1326</th>\n",
       "      <td>2025-06-06</td>\n",
       "      <td>5963.355957</td>\n",
       "    </tr>\n",
       "    <tr>\n",
       "      <th>1327</th>\n",
       "      <td>2025-06-13</td>\n",
       "      <td>6017.832031</td>\n",
       "    </tr>\n",
       "    <tr>\n",
       "      <th>1328</th>\n",
       "      <td>2025-06-20</td>\n",
       "      <td>6033.109863</td>\n",
       "    </tr>\n",
       "  </tbody>\n",
       "</table>\n",
       "<p>1329 rows × 2 columns</p>\n",
       "</div>"
      ],
      "text/plain": [
       "           Date  SPX_Weekly_Mean_Close\n",
       "0    2000-01-07            1420.333984\n",
       "1    2000-01-14            1448.648022\n",
       "2    2000-01-21            1449.492493\n",
       "3    2000-01-28            1394.874023\n",
       "4    2000-02-04            1412.439990\n",
       "...         ...                    ...\n",
       "1324 2025-05-23            5878.699902\n",
       "1325 2025-05-30            5908.487427\n",
       "1326 2025-06-06            5963.355957\n",
       "1327 2025-06-13            6017.832031\n",
       "1328 2025-06-20            6033.109863\n",
       "\n",
       "[1329 rows x 2 columns]"
      ]
     },
     "execution_count": 44,
     "metadata": {},
     "output_type": "execute_result"
    }
   ],
   "source": [
    "df_sp500"
   ]
  },
  {
   "cell_type": "code",
   "execution_count": 45,
   "id": "048a5345",
   "metadata": {},
   "outputs": [],
   "source": [
    "df_merged = df_wm_train.merge(\n",
    "    df_sp500,\n",
    "    on=\"Date\",\n",
    "    how=\"left\",\n",
    "    validate=\"many_to_one\"\n",
    ")"
   ]
  },
  {
   "cell_type": "code",
   "execution_count": 46,
   "id": "18cd6175",
   "metadata": {},
   "outputs": [
    {
     "data": {
      "application/vnd.microsoft.datawrangler.viewer.v0+json": {
       "columns": [
        {
         "name": "index",
         "rawType": "int64",
         "type": "integer"
        },
        {
         "name": "Store",
         "rawType": "object",
         "type": "string"
        },
        {
         "name": "Dept",
         "rawType": "int64",
         "type": "integer"
        },
        {
         "name": "Date",
         "rawType": "datetime64[ns]",
         "type": "datetime"
        },
        {
         "name": "Weekly_Sales",
         "rawType": "float64",
         "type": "float"
        },
        {
         "name": "IsHoliday",
         "rawType": "bool",
         "type": "boolean"
        },
        {
         "name": "SPX_Weekly_Mean_Close",
         "rawType": "float64",
         "type": "float"
        }
       ],
       "ref": "b12e7a9a-b5d3-45f5-87f3-361d220b1e42",
       "rows": [
        [
         "0",
         "1",
         "1",
         "2010-02-05 00:00:00",
         "24924.5",
         "False",
         "1083.81796875"
        ],
        [
         "1",
         "1",
         "1",
         "2010-02-12 00:00:00",
         "46039.49",
         "True",
         "1069.8739990234376"
        ],
        [
         "2",
         "1",
         "1",
         "2010-02-19 00:00:00",
         "41595.55",
         "False",
         "1102.5750122070312"
        ],
        [
         "3",
         "1",
         "1",
         "2010-02-26 00:00:00",
         "19403.54",
         "False",
         "1103.0559814453125"
        ],
        [
         "4",
         "1",
         "1",
         "2010-03-05 00:00:00",
         "21827.9",
         "False",
         "1122.89599609375"
        ],
        [
         "5",
         "1",
         "1",
         "2010-03-12 00:00:00",
         "21043.39",
         "False",
         "1144.9579833984376"
        ],
        [
         "6",
         "1",
         "1",
         "2010-03-19 00:00:00",
         "22136.64",
         "False",
         "1160.381982421875"
        ],
        [
         "7",
         "1",
         "1",
         "2010-03-26 00:00:00",
         "26229.21",
         "False",
         "1168.00400390625"
        ],
        [
         "8",
         "1",
         "1",
         "2010-04-02 00:00:00",
         "57258.43",
         "False",
         "1173.5050048828125"
        ],
        [
         "9",
         "1",
         "1",
         "2010-04-09 00:00:00",
         "42960.91",
         "False",
         "1188.0279541015625"
        ],
        [
         "10",
         "1",
         "1",
         "2010-04-16 00:00:00",
         "17596.96",
         "False",
         "1201.6460205078124"
        ],
        [
         "11",
         "1",
         "1",
         "2010-04-23 00:00:00",
         "16145.35",
         "False",
         "1207.316015625"
        ],
        [
         "12",
         "1",
         "1",
         "2010-04-30 00:00:00",
         "16555.11",
         "False",
         "1196.1179931640625"
        ],
        [
         "13",
         "1",
         "1",
         "2010-05-07 00:00:00",
         "17413.94",
         "False",
         "1156.152001953125"
        ],
        [
         "14",
         "1",
         "1",
         "2010-05-14 00:00:00",
         "18926.74",
         "False",
         "1156.06201171875"
        ],
        [
         "15",
         "1",
         "1",
         "2010-05-21 00:00:00",
         "14773.04",
         "False",
         "1106.4139892578123"
        ],
        [
         "16",
         "1",
         "1",
         "2010-05-28 00:00:00",
         "15580.43",
         "False",
         "1081.62001953125"
        ],
        [
         "17",
         "1",
         "1",
         "2010-06-04 00:00:00",
         "17558.09",
         "False",
         "1084.1999816894531"
        ],
        [
         "18",
         "1",
         "1",
         "2010-06-11 00:00:00",
         "16637.62",
         "False",
         "1069.319970703125"
        ],
        [
         "19",
         "1",
         "1",
         "2010-06-18 00:00:00",
         "16216.27",
         "False",
         "1110.60400390625"
        ],
        [
         "20",
         "1",
         "1",
         "2010-06-25 00:00:00",
         "16328.72",
         "False",
         "1090.2"
        ],
        [
         "21",
         "1",
         "1",
         "2010-07-02 00:00:00",
         "16333.14",
         "False",
         "1039.2939819335938"
        ],
        [
         "22",
         "1",
         "1",
         "2010-07-09 00:00:00",
         "17688.76",
         "False",
         "1059.135009765625"
        ],
        [
         "23",
         "1",
         "1",
         "2010-07-16 00:00:00",
         "17150.84",
         "False",
         "1086.1239990234376"
        ],
        [
         "24",
         "1",
         "1",
         "2010-07-23 00:00:00",
         "15360.45",
         "False",
         "1084.1300048828125"
        ],
        [
         "25",
         "1",
         "1",
         "2010-07-30 00:00:00",
         "15381.82",
         "False",
         "1107.6219970703123"
        ],
        [
         "26",
         "1",
         "1",
         "2010-08-06 00:00:00",
         "17508.41",
         "False",
         "1124.202001953125"
        ],
        [
         "27",
         "1",
         "1",
         "2010-08-13 00:00:00",
         "15536.4",
         "False",
         "1100.2360107421875"
        ],
        [
         "28",
         "1",
         "1",
         "2010-08-20 00:00:00",
         "15740.13",
         "False",
         "1082.6800048828125"
        ],
        [
         "29",
         "1",
         "1",
         "2010-08-27 00:00:00",
         "15793.87",
         "False",
         "1057.273974609375"
        ],
        [
         "30",
         "1",
         "1",
         "2010-09-03 00:00:00",
         "16241.78",
         "False",
         "1074.6300048828125"
        ],
        [
         "31",
         "1",
         "1",
         "2010-09-10 00:00:00",
         "18194.74",
         "True",
         "1101.1100158691406"
        ],
        [
         "32",
         "1",
         "1",
         "2010-09-17 00:00:00",
         "19354.23",
         "False",
         "1123.6639892578123"
        ],
        [
         "33",
         "1",
         "1",
         "2010-09-24 00:00:00",
         "18122.52",
         "False",
         "1138.05400390625"
        ],
        [
         "34",
         "1",
         "1",
         "2010-10-01 00:00:00",
         "20094.19",
         "False",
         "1144.4059814453126"
        ],
        [
         "35",
         "1",
         "1",
         "2010-10-08 00:00:00",
         "23388.03",
         "False",
         "1156.1920166015625"
        ],
        [
         "36",
         "1",
         "1",
         "2010-10-15 00:00:00",
         "26978.34",
         "False",
         "1172.63798828125"
        ],
        [
         "37",
         "1",
         "1",
         "2010-10-22 00:00:00",
         "25543.04",
         "False",
         "1178.4239990234375"
        ],
        [
         "38",
         "1",
         "1",
         "2010-10-29 00:00:00",
         "38640.93",
         "False",
         "1184.15"
        ],
        [
         "39",
         "1",
         "1",
         "2010-11-05 00:00:00",
         "34238.88",
         "False",
         "1204.5639892578124"
        ],
        [
         "40",
         "1",
         "1",
         "2010-11-12 00:00:00",
         "19549.39",
         "False",
         "1213.6219970703123"
        ],
        [
         "41",
         "1",
         "1",
         "2010-11-19 00:00:00",
         "19552.84",
         "False",
         "1190.219970703125"
        ],
        [
         "42",
         "1",
         "1",
         "2010-11-26 00:00:00",
         "18820.29",
         "True",
         "1191.5799865722656"
        ],
        [
         "43",
         "1",
         "1",
         "2010-12-03 00:00:00",
         "22517.56",
         "False",
         "1204.1239990234376"
        ],
        [
         "44",
         "1",
         "1",
         "2010-12-10 00:00:00",
         "31497.65",
         "False",
         "1229.710009765625"
        ],
        [
         "45",
         "1",
         "1",
         "2010-12-17 00:00:00",
         "44912.86",
         "False",
         "1240.8119873046876"
        ],
        [
         "46",
         "1",
         "1",
         "2010-12-24 00:00:00",
         "55931.23",
         "False",
         "1254.3224792480469"
        ],
        [
         "47",
         "1",
         "1",
         "2010-12-31 00:00:00",
         "19124.58",
         "True",
         "1258.27001953125"
        ],
        [
         "48",
         "1",
         "1",
         "2011-01-07 00:00:00",
         "15984.24",
         "False",
         "1272.79599609375"
        ],
        [
         "49",
         "1",
         "1",
         "2011-01-14 00:00:00",
         "17359.7",
         "False",
         "1281.43798828125"
        ]
       ],
       "shape": {
        "columns": 6,
        "rows": 421570
       }
      },
      "text/html": [
       "<div>\n",
       "<style scoped>\n",
       "    .dataframe tbody tr th:only-of-type {\n",
       "        vertical-align: middle;\n",
       "    }\n",
       "\n",
       "    .dataframe tbody tr th {\n",
       "        vertical-align: top;\n",
       "    }\n",
       "\n",
       "    .dataframe thead th {\n",
       "        text-align: right;\n",
       "    }\n",
       "</style>\n",
       "<table border=\"1\" class=\"dataframe\">\n",
       "  <thead>\n",
       "    <tr style=\"text-align: right;\">\n",
       "      <th></th>\n",
       "      <th>Store</th>\n",
       "      <th>Dept</th>\n",
       "      <th>Date</th>\n",
       "      <th>Weekly_Sales</th>\n",
       "      <th>IsHoliday</th>\n",
       "      <th>SPX_Weekly_Mean_Close</th>\n",
       "    </tr>\n",
       "  </thead>\n",
       "  <tbody>\n",
       "    <tr>\n",
       "      <th>0</th>\n",
       "      <td>1</td>\n",
       "      <td>1</td>\n",
       "      <td>2010-02-05</td>\n",
       "      <td>24924.50</td>\n",
       "      <td>False</td>\n",
       "      <td>1083.817969</td>\n",
       "    </tr>\n",
       "    <tr>\n",
       "      <th>1</th>\n",
       "      <td>1</td>\n",
       "      <td>1</td>\n",
       "      <td>2010-02-12</td>\n",
       "      <td>46039.49</td>\n",
       "      <td>True</td>\n",
       "      <td>1069.873999</td>\n",
       "    </tr>\n",
       "    <tr>\n",
       "      <th>2</th>\n",
       "      <td>1</td>\n",
       "      <td>1</td>\n",
       "      <td>2010-02-19</td>\n",
       "      <td>41595.55</td>\n",
       "      <td>False</td>\n",
       "      <td>1102.575012</td>\n",
       "    </tr>\n",
       "    <tr>\n",
       "      <th>3</th>\n",
       "      <td>1</td>\n",
       "      <td>1</td>\n",
       "      <td>2010-02-26</td>\n",
       "      <td>19403.54</td>\n",
       "      <td>False</td>\n",
       "      <td>1103.055981</td>\n",
       "    </tr>\n",
       "    <tr>\n",
       "      <th>4</th>\n",
       "      <td>1</td>\n",
       "      <td>1</td>\n",
       "      <td>2010-03-05</td>\n",
       "      <td>21827.90</td>\n",
       "      <td>False</td>\n",
       "      <td>1122.895996</td>\n",
       "    </tr>\n",
       "    <tr>\n",
       "      <th>...</th>\n",
       "      <td>...</td>\n",
       "      <td>...</td>\n",
       "      <td>...</td>\n",
       "      <td>...</td>\n",
       "      <td>...</td>\n",
       "      <td>...</td>\n",
       "    </tr>\n",
       "    <tr>\n",
       "      <th>421565</th>\n",
       "      <td>45</td>\n",
       "      <td>98</td>\n",
       "      <td>2012-09-28</td>\n",
       "      <td>508.37</td>\n",
       "      <td>False</td>\n",
       "      <td>1443.923999</td>\n",
       "    </tr>\n",
       "    <tr>\n",
       "      <th>421566</th>\n",
       "      <td>45</td>\n",
       "      <td>98</td>\n",
       "      <td>2012-10-05</td>\n",
       "      <td>628.10</td>\n",
       "      <td>False</td>\n",
       "      <td>1452.712012</td>\n",
       "    </tr>\n",
       "    <tr>\n",
       "      <th>421567</th>\n",
       "      <td>45</td>\n",
       "      <td>98</td>\n",
       "      <td>2012-10-12</td>\n",
       "      <td>1061.02</td>\n",
       "      <td>False</td>\n",
       "      <td>1438.269995</td>\n",
       "    </tr>\n",
       "    <tr>\n",
       "      <th>421568</th>\n",
       "      <td>45</td>\n",
       "      <td>98</td>\n",
       "      <td>2012-10-19</td>\n",
       "      <td>760.01</td>\n",
       "      <td>False</td>\n",
       "      <td>1449.297998</td>\n",
       "    </tr>\n",
       "    <tr>\n",
       "      <th>421569</th>\n",
       "      <td>45</td>\n",
       "      <td>98</td>\n",
       "      <td>2012-10-26</td>\n",
       "      <td>1076.80</td>\n",
       "      <td>False</td>\n",
       "      <td>1416.117969</td>\n",
       "    </tr>\n",
       "  </tbody>\n",
       "</table>\n",
       "<p>421570 rows × 6 columns</p>\n",
       "</div>"
      ],
      "text/plain": [
       "       Store  Dept       Date  Weekly_Sales  IsHoliday  SPX_Weekly_Mean_Close\n",
       "0          1     1 2010-02-05      24924.50      False            1083.817969\n",
       "1          1     1 2010-02-12      46039.49       True            1069.873999\n",
       "2          1     1 2010-02-19      41595.55      False            1102.575012\n",
       "3          1     1 2010-02-26      19403.54      False            1103.055981\n",
       "4          1     1 2010-03-05      21827.90      False            1122.895996\n",
       "...      ...   ...        ...           ...        ...                    ...\n",
       "421565    45    98 2012-09-28        508.37      False            1443.923999\n",
       "421566    45    98 2012-10-05        628.10      False            1452.712012\n",
       "421567    45    98 2012-10-12       1061.02      False            1438.269995\n",
       "421568    45    98 2012-10-19        760.01      False            1449.297998\n",
       "421569    45    98 2012-10-26       1076.80      False            1416.117969\n",
       "\n",
       "[421570 rows x 6 columns]"
      ]
     },
     "execution_count": 46,
     "metadata": {},
     "output_type": "execute_result"
    }
   ],
   "source": [
    "df_merged"
   ]
  },
  {
   "cell_type": "code",
   "execution_count": 47,
   "id": "2f21dc64",
   "metadata": {},
   "outputs": [],
   "source": [
    "df_wm_train = df_merged"
   ]
  },
  {
   "cell_type": "markdown",
   "id": "7fd6d60b",
   "metadata": {},
   "source": [
    "#### Walmart Stock Price"
   ]
  },
  {
   "cell_type": "code",
   "execution_count": 48,
   "id": "1cc30299",
   "metadata": {},
   "outputs": [
    {
     "data": {
      "application/vnd.microsoft.datawrangler.viewer.v0+json": {
       "columns": [
        {
         "name": "index",
         "rawType": "object",
         "type": "string"
        },
        {
         "name": "0",
         "rawType": "object",
         "type": "unknown"
        }
       ],
       "ref": "58d29459-182e-4632-8701-d7977995e4fc",
       "rows": [
        [
         "Date",
         "object"
        ],
        [
         "WMT_Weekly_Mean_Close",
         "float64"
        ]
       ],
       "shape": {
        "columns": 1,
        "rows": 2
       }
      },
      "text/plain": [
       "Date                      object\n",
       "WMT_Weekly_Mean_Close    float64\n",
       "dtype: object"
      ]
     },
     "execution_count": 48,
     "metadata": {},
     "output_type": "execute_result"
    }
   ],
   "source": [
    "df_walmart_stock.dtypes\n"
   ]
  },
  {
   "cell_type": "code",
   "execution_count": 49,
   "id": "f6f51118",
   "metadata": {},
   "outputs": [],
   "source": [
    "df_walmart_stock['Date'] = pd.to_datetime(df_walmart_stock[\"Date\"], errors=\"raise\")"
   ]
  },
  {
   "cell_type": "code",
   "execution_count": 50,
   "id": "e79b05d6",
   "metadata": {},
   "outputs": [],
   "source": [
    "df_merged = df_wm_train.merge(\n",
    "    df_walmart_stock,\n",
    "    on=\"Date\",\n",
    "    how=\"left\",\n",
    "    validate=\"many_to_one\"\n",
    ")"
   ]
  },
  {
   "cell_type": "code",
   "execution_count": 51,
   "id": "a8b85d47",
   "metadata": {},
   "outputs": [],
   "source": [
    "df_wm_train = df_merged"
   ]
  },
  {
   "cell_type": "markdown",
   "id": "7a8ce570",
   "metadata": {},
   "source": [
    "#### External Logistic companies Walmart"
   ]
  },
  {
   "cell_type": "code",
   "execution_count": 52,
   "id": "b8b6d042",
   "metadata": {},
   "outputs": [
    {
     "data": {
      "application/vnd.microsoft.datawrangler.viewer.v0+json": {
       "columns": [
        {
         "name": "index",
         "rawType": "int64",
         "type": "integer"
        },
        {
         "name": "Date",
         "rawType": "object",
         "type": "string"
        },
        {
         "name": "ARCB_df_logistics_Close",
         "rawType": "float64",
         "type": "float"
        },
        {
         "name": "AIT_df_logistics_Close",
         "rawType": "float64",
         "type": "float"
        },
        {
         "name": "CEVA_df_logistics_Close",
         "rawType": "float64",
         "type": "float"
        },
        {
         "name": "FDX_df_logistics_Close",
         "rawType": "float64",
         "type": "float"
        },
        {
         "name": "SAIA_df_logistics_Close",
         "rawType": "float64",
         "type": "float"
        },
        {
         "name": "TFII.TO_df_logistics_Close",
         "rawType": "float64",
         "type": "float"
        },
        {
         "name": "XPO_df_logistics_Close",
         "rawType": "float64",
         "type": "float"
        },
        {
         "name": "ODFL_df_logistics_Close",
         "rawType": "float64",
         "type": "float"
        },
        {
         "name": "UPS_df_logistics_Close",
         "rawType": "float64",
         "type": "float"
        },
        {
         "name": "JBHT_df_logistics_Close",
         "rawType": "float64",
         "type": "float"
        }
       ],
       "ref": "d1e615a4-f9dc-496e-b613-6e983723bac5",
       "rows": [
        [
         "0",
         "2000-01-07",
         "10.2456",
         "4.2252",
         null,
         "36.133",
         null,
         null,
         null,
         "0.484",
         "33.4329",
         "2.6094"
        ],
        [
         "1",
         "2000-01-14",
         "10.2209",
         "4.05",
         null,
         "37.6513",
         null,
         null,
         null,
         "0.4914",
         "33.7016",
         "2.5821"
        ],
        [
         "2",
         "2000-01-21",
         "10.6344",
         "4.3393",
         null,
         "35.193",
         null,
         null,
         null,
         "0.5243",
         "34.1281",
         "2.5124"
        ],
        [
         "3",
         "2000-01-28",
         "9.9543",
         "4.288",
         null,
         "33.1066",
         null,
         null,
         null,
         "0.5354",
         "32.7017",
         "2.4714"
        ],
        [
         "4",
         "2000-02-04",
         "9.3568",
         "4.2649",
         null,
         "31.9144",
         null,
         null,
         null,
         "0.519",
         "29.3584",
         "2.5079"
        ],
        [
         "5",
         "2000-02-11",
         "8.8976",
         "4.307",
         null,
         "31.5883",
         null,
         null,
         null,
         "0.5311",
         "28.5273",
         "2.4425"
        ],
        [
         "6",
         "2000-02-18",
         "8.9272",
         "4.2289",
         null,
         "29.53",
         null,
         null,
         null,
         "0.519",
         "28.0211",
         "2.2851"
        ],
        [
         "7",
         "2000-02-25",
         "8.3076",
         "4.3205",
         null,
         "28.3404",
         null,
         null,
         null,
         "0.5236",
         "27.4762",
         "2.2211"
        ],
        [
         "8",
         "2000-03-03",
         "7.5546",
         "4.6052",
         null,
         "28.1646",
         null,
         null,
         null,
         "0.5195",
         "26.892",
         "2.2751"
        ],
        [
         "9",
         "2000-03-10",
         "7.8113",
         "4.6119",
         null,
         "26.7074",
         null,
         null,
         null,
         "0.5105",
         "26.4908",
         "2.3725"
        ],
        [
         "10",
         "2000-03-17",
         "8.6409",
         "4.502",
         null,
         "27.5226",
         null,
         null,
         null,
         "0.5116",
         "27.2806",
         "2.9457"
        ],
        [
         "11",
         "2000-03-24",
         "8.9717",
         "4.2456",
         null,
         "30.763",
         null,
         null,
         null,
         "0.5227",
         "29.5875",
         "3.0943"
        ],
        [
         "12",
         "2000-03-31",
         "8.9075",
         "4.179",
         null,
         "31.41",
         null,
         null,
         null,
         "0.5206",
         "30.4948",
         "2.9594"
        ],
        [
         "13",
         "2000-04-07",
         "9.4753",
         "4.2955",
         null,
         "31.6597",
         null,
         null,
         null,
         "0.4724",
         "29.7003",
         "2.8595"
        ],
        [
         "14",
         "2000-04-14",
         "10.1024",
         "4.0225",
         null,
         "32.7194",
         null,
         null,
         null,
         "0.4544",
         "30.4839",
         "2.8021"
        ],
        [
         "15",
         "2000-04-21",
         "10.7023",
         "4.0458",
         null,
         "30.5694",
         null,
         null,
         null,
         "0.4462",
         "30.2457",
         "3.1904"
        ],
        [
         "16",
         "2000-04-28",
         "10.2505",
         "4.482",
         null,
         "31.1196",
         null,
         null,
         null,
         "0.4491",
         "32.8659",
         "3.2991"
        ],
        [
         "17",
         "2000-05-05",
         "10.3196",
         "4.6019",
         null,
         "30.4369",
         null,
         null,
         null,
         "0.4597",
         "31.2173",
         "3.306"
        ],
        [
         "18",
         "2000-05-12",
         "9.6975",
         "4.5119",
         null,
         "32.0876",
         null,
         null,
         null,
         "0.4311",
         "30.8098",
         "3.2766"
        ],
        [
         "19",
         "2000-05-19",
         "9.1346",
         "4.5882",
         null,
         "29.6828",
         null,
         null,
         null,
         "0.4348",
         "31.2549",
         "3.2017"
        ],
        [
         "20",
         "2000-05-26",
         "9.1396",
         "4.7358",
         null,
         "28.9186",
         null,
         null,
         null,
         "0.4281",
         "30.0219",
         "3.1093"
        ],
        [
         "21",
         "2000-06-02",
         "9.0729",
         "4.6327",
         null,
         "29.2192",
         null,
         null,
         null,
         "0.4011",
         "30.3557",
         "3.2185"
        ],
        [
         "22",
         "2000-06-09",
         "9.3963",
         "4.5446",
         null,
         "29.9172",
         null,
         null,
         null,
         "0.4125",
         "30.6716",
         "3.1942"
        ],
        [
         "23",
         "2000-06-16",
         "9.7765",
         "4.6285",
         null,
         "29.6574",
         null,
         null,
         null,
         "0.3982",
         "30.7816",
         "3.1792"
        ],
        [
         "24",
         "2000-06-23",
         "9.7173",
         "4.6151",
         null,
         "28.3072",
         null,
         null,
         null,
         "0.4056",
         "31.1494",
         "3.1018"
        ],
        [
         "25",
         "2000-06-30",
         "9.3815",
         "4.5715",
         null,
         "30.4878",
         null,
         null,
         null,
         "0.4152",
         "30.1404",
         "2.922"
        ],
        [
         "26",
         "2000-07-07",
         "8.6285",
         "4.6327",
         null,
         "32.5946",
         null,
         null,
         null,
         "0.4038",
         "30.4814",
         "3.0031"
        ],
        [
         "27",
         "2000-07-14",
         "8.6902",
         "4.6486",
         null,
         "33.504",
         null,
         null,
         null,
         "0.3892",
         "30.5459",
         "3.0718"
        ],
        [
         "28",
         "2000-07-21",
         "8.9964",
         "4.4642",
         null,
         "32.8825",
         null,
         null,
         null,
         "0.385",
         "30.3259",
         "3.0843"
        ],
        [
         "29",
         "2000-07-28",
         "10.2999",
         "4.2931",
         null,
         "31.9756",
         null,
         null,
         null,
         "0.4056",
         "29.3012",
         "2.9694"
        ],
        [
         "30",
         "2000-08-04",
         "11.2726",
         "4.5614",
         null,
         "32.4035",
         null,
         null,
         null,
         "0.4242",
         "29.2572",
         "3.0269"
        ],
        [
         "31",
         "2000-08-11",
         "12.1071",
         "4.6884",
         null,
         "32.5258",
         null,
         null,
         null,
         "0.4628",
         "28.9177",
         "2.9345"
        ],
        [
         "32",
         "2000-08-18",
         "12.4971",
         "4.7302",
         null,
         "33.1576",
         null,
         null,
         null,
         "0.4517",
         "28.8423",
         "2.9151"
        ],
        [
         "33",
         "2000-08-25",
         "11.8997",
         "4.5074",
         null,
         "32.7805",
         null,
         null,
         null,
         "0.4305",
         "28.387",
         "2.8396"
        ],
        [
         "34",
         "2000-09-01",
         "11.8997",
         "4.5445",
         null,
         "32.7345",
         null,
         null,
         null,
         "0.4072",
         "28.1927",
         "2.7397"
        ],
        [
         "35",
         "2000-09-08",
         "11.73",
         "4.5749",
         null,
         "32.3628",
         null,
         null,
         null,
         "0.3992",
         "27.6504",
         "2.5911"
        ],
        [
         "36",
         "2000-09-15",
         "11.08",
         "4.7539",
         null,
         "32.3399",
         null,
         null,
         null,
         "0.3908",
         "27.4171",
         "2.5854"
        ],
        [
         "37",
         "2000-09-22",
         "11.0405",
         "4.71",
         null,
         "32.247",
         null,
         null,
         null,
         "0.4025",
         "27.3162",
         "2.5374"
        ],
        [
         "38",
         "2000-09-29",
         "11.5442",
         "4.629",
         null,
         "35.0757",
         null,
         null,
         null,
         "0.4215",
         "28.653",
         "2.4649"
        ],
        [
         "39",
         "2000-10-06",
         "11.6824",
         "4.5716",
         null,
         "35.7702",
         null,
         null,
         null,
         "0.4124",
         "29.1196",
         "2.4949"
        ],
        [
         "40",
         "2000-10-13",
         "11.1985",
         "4.3994",
         null,
         "34.0518",
         null,
         null,
         null,
         "0.3797",
         "28.7161",
         "2.2552"
        ],
        [
         "41",
         "2000-10-20",
         "11.7911",
         "4.3757",
         null,
         "33.5317",
         null,
         null,
         null,
         "0.3874",
         "28.8674",
         "2.5873"
        ],
        [
         "42",
         "2000-10-27",
         "12.5218",
         "4.6323",
         null,
         "34.4203",
         null,
         null,
         null,
         "0.3916",
         "30.1916",
         "2.5873"
        ],
        [
         "43",
         "2000-11-03",
         "12.8971",
         "4.5918",
         null,
         "38.0854",
         null,
         null,
         null,
         "0.3908",
         "30.6141",
         "2.6273"
        ],
        [
         "44",
         "2000-11-10",
         "13.3316",
         "4.656",
         null,
         "37.5653",
         null,
         null,
         null,
         "0.4199",
         "29.9268",
         "2.5199"
        ],
        [
         "45",
         "2000-11-17",
         "14.2673",
         "4.6653",
         null,
         "38.0299",
         null,
         null,
         null,
         "0.4279",
         "29.8069",
         "2.5823"
        ],
        [
         "46",
         "2000-11-24",
         "13.9612",
         "4.6797",
         null,
         "39.84",
         null,
         null,
         null,
         "0.4342",
         "30.3971",
         "2.6285"
        ],
        [
         "47",
         "2000-12-01",
         "13.7365",
         "4.8251",
         null,
         "39.5087",
         null,
         null,
         null,
         "0.4316",
         "30.7702",
         "2.6473"
        ],
        [
         "48",
         "2000-12-08",
         "14.6549",
         "4.9849",
         null,
         "38.356",
         null,
         null,
         null,
         "0.4242",
         "31.2634",
         "2.8171"
        ],
        [
         "49",
         "2000-12-15",
         "14.9511",
         "5.3555",
         null,
         "36.2121",
         null,
         null,
         null,
         "0.4364",
         "30.9915",
         "3.1667"
        ]
       ],
       "shape": {
        "columns": 11,
        "rows": 1329
       }
      },
      "text/html": [
       "<div>\n",
       "<style scoped>\n",
       "    .dataframe tbody tr th:only-of-type {\n",
       "        vertical-align: middle;\n",
       "    }\n",
       "\n",
       "    .dataframe tbody tr th {\n",
       "        vertical-align: top;\n",
       "    }\n",
       "\n",
       "    .dataframe thead th {\n",
       "        text-align: right;\n",
       "    }\n",
       "</style>\n",
       "<table border=\"1\" class=\"dataframe\">\n",
       "  <thead>\n",
       "    <tr style=\"text-align: right;\">\n",
       "      <th></th>\n",
       "      <th>Date</th>\n",
       "      <th>ARCB_df_logistics_Close</th>\n",
       "      <th>AIT_df_logistics_Close</th>\n",
       "      <th>CEVA_df_logistics_Close</th>\n",
       "      <th>FDX_df_logistics_Close</th>\n",
       "      <th>SAIA_df_logistics_Close</th>\n",
       "      <th>TFII.TO_df_logistics_Close</th>\n",
       "      <th>XPO_df_logistics_Close</th>\n",
       "      <th>ODFL_df_logistics_Close</th>\n",
       "      <th>UPS_df_logistics_Close</th>\n",
       "      <th>JBHT_df_logistics_Close</th>\n",
       "    </tr>\n",
       "  </thead>\n",
       "  <tbody>\n",
       "    <tr>\n",
       "      <th>0</th>\n",
       "      <td>2000-01-07</td>\n",
       "      <td>10.2456</td>\n",
       "      <td>4.2252</td>\n",
       "      <td>NaN</td>\n",
       "      <td>36.1330</td>\n",
       "      <td>NaN</td>\n",
       "      <td>NaN</td>\n",
       "      <td>NaN</td>\n",
       "      <td>0.4840</td>\n",
       "      <td>33.4329</td>\n",
       "      <td>2.6094</td>\n",
       "    </tr>\n",
       "    <tr>\n",
       "      <th>1</th>\n",
       "      <td>2000-01-14</td>\n",
       "      <td>10.2209</td>\n",
       "      <td>4.0500</td>\n",
       "      <td>NaN</td>\n",
       "      <td>37.6513</td>\n",
       "      <td>NaN</td>\n",
       "      <td>NaN</td>\n",
       "      <td>NaN</td>\n",
       "      <td>0.4914</td>\n",
       "      <td>33.7016</td>\n",
       "      <td>2.5821</td>\n",
       "    </tr>\n",
       "    <tr>\n",
       "      <th>2</th>\n",
       "      <td>2000-01-21</td>\n",
       "      <td>10.6344</td>\n",
       "      <td>4.3393</td>\n",
       "      <td>NaN</td>\n",
       "      <td>35.1930</td>\n",
       "      <td>NaN</td>\n",
       "      <td>NaN</td>\n",
       "      <td>NaN</td>\n",
       "      <td>0.5243</td>\n",
       "      <td>34.1281</td>\n",
       "      <td>2.5124</td>\n",
       "    </tr>\n",
       "    <tr>\n",
       "      <th>3</th>\n",
       "      <td>2000-01-28</td>\n",
       "      <td>9.9543</td>\n",
       "      <td>4.2880</td>\n",
       "      <td>NaN</td>\n",
       "      <td>33.1066</td>\n",
       "      <td>NaN</td>\n",
       "      <td>NaN</td>\n",
       "      <td>NaN</td>\n",
       "      <td>0.5354</td>\n",
       "      <td>32.7017</td>\n",
       "      <td>2.4714</td>\n",
       "    </tr>\n",
       "    <tr>\n",
       "      <th>4</th>\n",
       "      <td>2000-02-04</td>\n",
       "      <td>9.3568</td>\n",
       "      <td>4.2649</td>\n",
       "      <td>NaN</td>\n",
       "      <td>31.9144</td>\n",
       "      <td>NaN</td>\n",
       "      <td>NaN</td>\n",
       "      <td>NaN</td>\n",
       "      <td>0.5190</td>\n",
       "      <td>29.3584</td>\n",
       "      <td>2.5079</td>\n",
       "    </tr>\n",
       "    <tr>\n",
       "      <th>...</th>\n",
       "      <td>...</td>\n",
       "      <td>...</td>\n",
       "      <td>...</td>\n",
       "      <td>...</td>\n",
       "      <td>...</td>\n",
       "      <td>...</td>\n",
       "      <td>...</td>\n",
       "      <td>...</td>\n",
       "      <td>...</td>\n",
       "      <td>...</td>\n",
       "      <td>...</td>\n",
       "    </tr>\n",
       "    <tr>\n",
       "      <th>1324</th>\n",
       "      <td>2025-05-23</td>\n",
       "      <td>63.7080</td>\n",
       "      <td>226.5780</td>\n",
       "      <td>20.1420</td>\n",
       "      <td>219.8980</td>\n",
       "      <td>272.0360</td>\n",
       "      <td>121.3875</td>\n",
       "      <td>121.308</td>\n",
       "      <td>165.8267</td>\n",
       "      <td>96.9700</td>\n",
       "      <td>141.4160</td>\n",
       "    </tr>\n",
       "    <tr>\n",
       "      <th>1325</th>\n",
       "      <td>2025-05-30</td>\n",
       "      <td>63.9625</td>\n",
       "      <td>227.6050</td>\n",
       "      <td>19.1925</td>\n",
       "      <td>218.8175</td>\n",
       "      <td>269.3875</td>\n",
       "      <td>119.2300</td>\n",
       "      <td>117.125</td>\n",
       "      <td>161.9264</td>\n",
       "      <td>97.4825</td>\n",
       "      <td>139.3725</td>\n",
       "    </tr>\n",
       "    <tr>\n",
       "      <th>1326</th>\n",
       "      <td>2025-06-06</td>\n",
       "      <td>63.4820</td>\n",
       "      <td>228.9500</td>\n",
       "      <td>19.8700</td>\n",
       "      <td>218.5800</td>\n",
       "      <td>260.4360</td>\n",
       "      <td>118.7120</td>\n",
       "      <td>115.588</td>\n",
       "      <td>160.7950</td>\n",
       "      <td>97.8220</td>\n",
       "      <td>139.3440</td>\n",
       "    </tr>\n",
       "    <tr>\n",
       "      <th>1327</th>\n",
       "      <td>2025-06-13</td>\n",
       "      <td>69.1700</td>\n",
       "      <td>230.5940</td>\n",
       "      <td>21.0920</td>\n",
       "      <td>224.7040</td>\n",
       "      <td>259.1800</td>\n",
       "      <td>123.1960</td>\n",
       "      <td>121.270</td>\n",
       "      <td>162.9600</td>\n",
       "      <td>100.7700</td>\n",
       "      <td>141.6980</td>\n",
       "    </tr>\n",
       "    <tr>\n",
       "      <th>1328</th>\n",
       "      <td>2025-06-20</td>\n",
       "      <td>69.2600</td>\n",
       "      <td>230.0600</td>\n",
       "      <td>20.4700</td>\n",
       "      <td>226.7700</td>\n",
       "      <td>265.6100</td>\n",
       "      <td>123.8700</td>\n",
       "      <td>122.560</td>\n",
       "      <td>159.4500</td>\n",
       "      <td>101.0900</td>\n",
       "      <td>142.4900</td>\n",
       "    </tr>\n",
       "  </tbody>\n",
       "</table>\n",
       "<p>1329 rows × 11 columns</p>\n",
       "</div>"
      ],
      "text/plain": [
       "            Date  ARCB_df_logistics_Close  AIT_df_logistics_Close  \\\n",
       "0     2000-01-07                  10.2456                  4.2252   \n",
       "1     2000-01-14                  10.2209                  4.0500   \n",
       "2     2000-01-21                  10.6344                  4.3393   \n",
       "3     2000-01-28                   9.9543                  4.2880   \n",
       "4     2000-02-04                   9.3568                  4.2649   \n",
       "...          ...                      ...                     ...   \n",
       "1324  2025-05-23                  63.7080                226.5780   \n",
       "1325  2025-05-30                  63.9625                227.6050   \n",
       "1326  2025-06-06                  63.4820                228.9500   \n",
       "1327  2025-06-13                  69.1700                230.5940   \n",
       "1328  2025-06-20                  69.2600                230.0600   \n",
       "\n",
       "      CEVA_df_logistics_Close  FDX_df_logistics_Close  \\\n",
       "0                         NaN                 36.1330   \n",
       "1                         NaN                 37.6513   \n",
       "2                         NaN                 35.1930   \n",
       "3                         NaN                 33.1066   \n",
       "4                         NaN                 31.9144   \n",
       "...                       ...                     ...   \n",
       "1324                  20.1420                219.8980   \n",
       "1325                  19.1925                218.8175   \n",
       "1326                  19.8700                218.5800   \n",
       "1327                  21.0920                224.7040   \n",
       "1328                  20.4700                226.7700   \n",
       "\n",
       "      SAIA_df_logistics_Close  TFII.TO_df_logistics_Close  \\\n",
       "0                         NaN                         NaN   \n",
       "1                         NaN                         NaN   \n",
       "2                         NaN                         NaN   \n",
       "3                         NaN                         NaN   \n",
       "4                         NaN                         NaN   \n",
       "...                       ...                         ...   \n",
       "1324                 272.0360                    121.3875   \n",
       "1325                 269.3875                    119.2300   \n",
       "1326                 260.4360                    118.7120   \n",
       "1327                 259.1800                    123.1960   \n",
       "1328                 265.6100                    123.8700   \n",
       "\n",
       "      XPO_df_logistics_Close  ODFL_df_logistics_Close  UPS_df_logistics_Close  \\\n",
       "0                        NaN                   0.4840                 33.4329   \n",
       "1                        NaN                   0.4914                 33.7016   \n",
       "2                        NaN                   0.5243                 34.1281   \n",
       "3                        NaN                   0.5354                 32.7017   \n",
       "4                        NaN                   0.5190                 29.3584   \n",
       "...                      ...                      ...                     ...   \n",
       "1324                 121.308                 165.8267                 96.9700   \n",
       "1325                 117.125                 161.9264                 97.4825   \n",
       "1326                 115.588                 160.7950                 97.8220   \n",
       "1327                 121.270                 162.9600                100.7700   \n",
       "1328                 122.560                 159.4500                101.0900   \n",
       "\n",
       "      JBHT_df_logistics_Close  \n",
       "0                      2.6094  \n",
       "1                      2.5821  \n",
       "2                      2.5124  \n",
       "3                      2.4714  \n",
       "4                      2.5079  \n",
       "...                       ...  \n",
       "1324                 141.4160  \n",
       "1325                 139.3725  \n",
       "1326                 139.3440  \n",
       "1327                 141.6980  \n",
       "1328                 142.4900  \n",
       "\n",
       "[1329 rows x 11 columns]"
      ]
     },
     "execution_count": 52,
     "metadata": {},
     "output_type": "execute_result"
    }
   ],
   "source": [
    "df_logistics"
   ]
  },
  {
   "cell_type": "code",
   "execution_count": 53,
   "id": "2b0fe864",
   "metadata": {},
   "outputs": [
    {
     "data": {
      "application/vnd.microsoft.datawrangler.viewer.v0+json": {
       "columns": [
        {
         "name": "index",
         "rawType": "object",
         "type": "string"
        },
        {
         "name": "0",
         "rawType": "object",
         "type": "unknown"
        }
       ],
       "ref": "2ad74c1e-24d1-4399-a535-16728b8b4d99",
       "rows": [
        [
         "Date",
         "object"
        ],
        [
         "ARCB_df_logistics_Close",
         "float64"
        ],
        [
         "AIT_df_logistics_Close",
         "float64"
        ],
        [
         "CEVA_df_logistics_Close",
         "float64"
        ],
        [
         "FDX_df_logistics_Close",
         "float64"
        ],
        [
         "SAIA_df_logistics_Close",
         "float64"
        ],
        [
         "TFII.TO_df_logistics_Close",
         "float64"
        ],
        [
         "XPO_df_logistics_Close",
         "float64"
        ],
        [
         "ODFL_df_logistics_Close",
         "float64"
        ],
        [
         "UPS_df_logistics_Close",
         "float64"
        ],
        [
         "JBHT_df_logistics_Close",
         "float64"
        ]
       ],
       "shape": {
        "columns": 1,
        "rows": 11
       }
      },
      "text/plain": [
       "Date                           object\n",
       "ARCB_df_logistics_Close       float64\n",
       "AIT_df_logistics_Close        float64\n",
       "CEVA_df_logistics_Close       float64\n",
       "FDX_df_logistics_Close        float64\n",
       "SAIA_df_logistics_Close       float64\n",
       "TFII.TO_df_logistics_Close    float64\n",
       "XPO_df_logistics_Close        float64\n",
       "ODFL_df_logistics_Close       float64\n",
       "UPS_df_logistics_Close        float64\n",
       "JBHT_df_logistics_Close       float64\n",
       "dtype: object"
      ]
     },
     "execution_count": 53,
     "metadata": {},
     "output_type": "execute_result"
    }
   ],
   "source": [
    "df_logistics.dtypes"
   ]
  },
  {
   "cell_type": "code",
   "execution_count": 54,
   "id": "09f2840c",
   "metadata": {},
   "outputs": [],
   "source": [
    "df_logistics['Date'] = pd.to_datetime(df_logistics[\"Date\"], errors=\"raise\")"
   ]
  },
  {
   "cell_type": "code",
   "execution_count": 55,
   "id": "8e79c62f",
   "metadata": {},
   "outputs": [],
   "source": [
    "df_merged = df_wm_train.merge(\n",
    "    df_logistics,\n",
    "    on=\"Date\",\n",
    "    how=\"left\",\n",
    "    validate=\"many_to_one\"\n",
    ")"
   ]
  },
  {
   "cell_type": "code",
   "execution_count": 56,
   "id": "43a70cb4",
   "metadata": {},
   "outputs": [],
   "source": [
    "df_wm_train = df_merged"
   ]
  },
  {
   "cell_type": "markdown",
   "id": "dc856701",
   "metadata": {},
   "source": [
    "#### Official China PMI (Caixin PMI only starts in 2014)"
   ]
  },
  {
   "cell_type": "code",
   "execution_count": 57,
   "id": "20a111a6",
   "metadata": {},
   "outputs": [
    {
     "data": {
      "application/vnd.microsoft.datawrangler.viewer.v0+json": {
       "columns": [
        {
         "name": "index",
         "rawType": "int64",
         "type": "integer"
        },
        {
         "name": "Date",
         "rawType": "object",
         "type": "string"
        },
        {
         "name": "Official_Manufacturing_PMI",
         "rawType": "float64",
         "type": "float"
        },
        {
         "name": "Official_Manufacturing_PMI_YoY",
         "rawType": "float64",
         "type": "float"
        },
        {
         "name": "Official_Services_PMI",
         "rawType": "float64",
         "type": "float"
        },
        {
         "name": "Official_Services_PMI_YoY",
         "rawType": "float64",
         "type": "float"
        }
       ],
       "ref": "dcb90e89-4514-43ed-b803-d8372b44f3be",
       "rows": [
        [
         "0",
         "2009-01-01",
         "45.3",
         "-14.52830189",
         "53.7",
         "-10.79734219"
        ],
        [
         "1",
         "2009-02-01",
         "49.0",
         "-8.23970037",
         "55.1",
         "-7.08263069"
        ],
        [
         "2",
         "2009-03-01",
         "52.4",
         "-10.2739726",
         "54.4",
         "-7.64006791"
        ],
        [
         "3",
         "2009-04-01",
         "53.5",
         "-9.62837838",
         "53.5",
         "-8.39041096"
        ],
        [
         "4",
         "2009-05-01",
         "53.1",
         "-0.37523452",
         "54.9",
         "-4.3554007"
        ],
        [
         "5",
         "2009-06-01",
         "53.2",
         "2.30769231",
         "55.4",
         "-3.48432056"
        ],
        [
         "6",
         "2009-07-01",
         "53.3",
         "10.12396694",
         "57.3",
         "2.87253142"
        ],
        [
         "7",
         "2009-08-01",
         "54.0",
         "11.57024793",
         "57.3",
         "8.31758034"
        ],
        [
         "8",
         "2009-09-01",
         "54.3",
         "6.0546875",
         "57.9",
         "5.27272727"
        ],
        [
         "9",
         "2009-10-01",
         "55.2",
         "23.76681614",
         "59.5",
         "12.0527307"
        ],
        [
         "10",
         "2009-11-01",
         "55.2",
         "42.26804124",
         "58.4",
         "14.0625"
        ],
        [
         "11",
         "2009-12-01",
         "56.6",
         "37.37864078",
         "58.8",
         "15.7480315"
        ],
        [
         "12",
         "2010-01-01",
         "55.8",
         "23.17880795",
         "58.1",
         "8.19366853"
        ],
        [
         "13",
         "2010-02-01",
         "52.0",
         "6.12244898",
         "57.0",
         "3.44827586"
        ],
        [
         "14",
         "2010-03-01",
         "55.1",
         "5.15267176",
         "57.3",
         "5.33088235"
        ],
        [
         "15",
         "2010-04-01",
         "55.7",
         "4.11214953",
         "57.8",
         "8.03738318"
        ],
        [
         "16",
         "2010-05-01",
         "53.9",
         "1.50659134",
         "58.1",
         "5.8287796"
        ],
        [
         "17",
         "2010-06-01",
         "52.1",
         "-2.06766917",
         "58.8",
         "6.13718412"
        ],
        [
         "18",
         "2010-07-01",
         "51.2",
         "-3.93996248",
         "57.1",
         "-0.34904014"
        ],
        [
         "19",
         "2010-08-01",
         "51.7",
         "-4.25925926",
         "58.0",
         "1.22164049"
        ],
        [
         "20",
         "2010-09-01",
         "53.8",
         "-0.92081031",
         "57.9",
         "0.0"
        ],
        [
         "21",
         "2010-10-01",
         "54.7",
         "-0.9057971",
         "57.4",
         "-3.52941176"
        ],
        [
         "22",
         "2010-11-01",
         "55.2",
         "0.0",
         "58.9",
         "0.85616438"
        ],
        [
         "23",
         "2010-12-01",
         "53.9",
         "-4.77031802",
         "58.8",
         "0.0"
        ],
        [
         "24",
         "2011-01-01",
         "52.9",
         "-5.19713262",
         "57.2",
         "-1.54905336"
        ],
        [
         "25",
         "2011-02-01",
         "52.2",
         "0.38461538",
         "57.0",
         "0.0"
        ],
        [
         "26",
         "2011-03-01",
         "53.4",
         "-3.08529946",
         "59.2",
         "3.31588133"
        ],
        [
         "27",
         "2011-04-01",
         "52.9",
         "-5.02692998",
         "58.2",
         "0.69204152"
        ],
        [
         "28",
         "2011-05-01",
         "52.0",
         "-3.52504638",
         "58.7",
         "1.03270224"
        ],
        [
         "29",
         "2011-06-01",
         "50.9",
         "-2.30326296",
         "56.6",
         "-3.7414966"
        ],
        [
         "30",
         "2011-07-01",
         "50.7",
         "-0.9765625",
         "57.3",
         "0.3502627"
        ],
        [
         "31",
         "2011-08-01",
         "50.9",
         "-1.54738878",
         "57.1",
         "-1.55172414"
        ],
        [
         "32",
         "2011-09-01",
         "51.2",
         "-4.83271375",
         "55.8",
         "-3.62694301"
        ],
        [
         "33",
         "2011-10-01",
         "50.4",
         "-7.86106033",
         "55.5",
         "-3.31010453"
        ],
        [
         "34",
         "2011-11-01",
         "49.0",
         "-11.23188406",
         "55.9",
         "-5.09337861"
        ],
        [
         "35",
         "2011-12-01",
         "50.3",
         "-6.67903525",
         "56.3",
         "-4.25170068"
        ],
        [
         "36",
         "2012-01-01",
         "50.5",
         "-4.536862",
         "55.7",
         "-2.62237762"
        ],
        [
         "37",
         "2012-02-01",
         "51.0",
         "-2.29885057",
         "57.3",
         "0.52631579"
        ],
        [
         "38",
         "2012-03-01",
         "53.1",
         "-0.56179775",
         "58.0",
         "-2.02702703"
        ],
        [
         "39",
         "2012-04-01",
         "53.3",
         "0.75614367",
         "56.1",
         "-3.60824742"
        ],
        [
         "40",
         "2012-05-01",
         "50.4",
         "-3.07692308",
         "55.2",
         "-5.96252129"
        ],
        [
         "41",
         "2012-06-01",
         "50.2",
         "-1.37524558",
         "56.7",
         "0.17667845"
        ],
        [
         "42",
         "2012-07-01",
         "50.1",
         "-1.18343195",
         "55.6",
         "-2.96684119"
        ],
        [
         "43",
         "2012-08-01",
         "49.2",
         "-3.33988212",
         "56.3",
         "-1.40105079"
        ],
        [
         "44",
         "2012-09-01",
         "49.8",
         "-2.734375",
         "53.7",
         "-3.76344086"
        ],
        [
         "45",
         "2012-10-01",
         "50.2",
         "-0.3968254",
         "55.5",
         "0.0"
        ],
        [
         "46",
         "2012-11-01",
         "50.6",
         "3.26530612",
         "55.6",
         "-0.53667263"
        ],
        [
         "47",
         "2012-12-01",
         "50.6",
         "0.59642147",
         "56.1",
         "-0.35523979"
        ],
        [
         "48",
         "2013-01-01",
         "50.4",
         "-0.1980198",
         "56.2",
         "0.89766607"
        ],
        [
         "49",
         "2013-02-01",
         "50.1",
         "-1.76470588",
         "54.5",
         "-4.88656195"
        ]
       ],
       "shape": {
        "columns": 5,
        "rows": 72
       }
      },
      "text/html": [
       "<div>\n",
       "<style scoped>\n",
       "    .dataframe tbody tr th:only-of-type {\n",
       "        vertical-align: middle;\n",
       "    }\n",
       "\n",
       "    .dataframe tbody tr th {\n",
       "        vertical-align: top;\n",
       "    }\n",
       "\n",
       "    .dataframe thead th {\n",
       "        text-align: right;\n",
       "    }\n",
       "</style>\n",
       "<table border=\"1\" class=\"dataframe\">\n",
       "  <thead>\n",
       "    <tr style=\"text-align: right;\">\n",
       "      <th></th>\n",
       "      <th>Date</th>\n",
       "      <th>Official_Manufacturing_PMI</th>\n",
       "      <th>Official_Manufacturing_PMI_YoY</th>\n",
       "      <th>Official_Services_PMI</th>\n",
       "      <th>Official_Services_PMI_YoY</th>\n",
       "    </tr>\n",
       "  </thead>\n",
       "  <tbody>\n",
       "    <tr>\n",
       "      <th>0</th>\n",
       "      <td>2009-01-01</td>\n",
       "      <td>45.3</td>\n",
       "      <td>-14.528302</td>\n",
       "      <td>53.7</td>\n",
       "      <td>-10.797342</td>\n",
       "    </tr>\n",
       "    <tr>\n",
       "      <th>1</th>\n",
       "      <td>2009-02-01</td>\n",
       "      <td>49.0</td>\n",
       "      <td>-8.239700</td>\n",
       "      <td>55.1</td>\n",
       "      <td>-7.082631</td>\n",
       "    </tr>\n",
       "    <tr>\n",
       "      <th>2</th>\n",
       "      <td>2009-03-01</td>\n",
       "      <td>52.4</td>\n",
       "      <td>-10.273973</td>\n",
       "      <td>54.4</td>\n",
       "      <td>-7.640068</td>\n",
       "    </tr>\n",
       "    <tr>\n",
       "      <th>3</th>\n",
       "      <td>2009-04-01</td>\n",
       "      <td>53.5</td>\n",
       "      <td>-9.628378</td>\n",
       "      <td>53.5</td>\n",
       "      <td>-8.390411</td>\n",
       "    </tr>\n",
       "    <tr>\n",
       "      <th>4</th>\n",
       "      <td>2009-05-01</td>\n",
       "      <td>53.1</td>\n",
       "      <td>-0.375235</td>\n",
       "      <td>54.9</td>\n",
       "      <td>-4.355401</td>\n",
       "    </tr>\n",
       "    <tr>\n",
       "      <th>...</th>\n",
       "      <td>...</td>\n",
       "      <td>...</td>\n",
       "      <td>...</td>\n",
       "      <td>...</td>\n",
       "      <td>...</td>\n",
       "    </tr>\n",
       "    <tr>\n",
       "      <th>67</th>\n",
       "      <td>2014-08-01</td>\n",
       "      <td>51.1</td>\n",
       "      <td>0.196078</td>\n",
       "      <td>54.4</td>\n",
       "      <td>0.927644</td>\n",
       "    </tr>\n",
       "    <tr>\n",
       "      <th>68</th>\n",
       "      <td>2014-09-01</td>\n",
       "      <td>51.1</td>\n",
       "      <td>0.000000</td>\n",
       "      <td>54.0</td>\n",
       "      <td>-2.527076</td>\n",
       "    </tr>\n",
       "    <tr>\n",
       "      <th>69</th>\n",
       "      <td>2014-10-01</td>\n",
       "      <td>50.8</td>\n",
       "      <td>-1.167315</td>\n",
       "      <td>53.8</td>\n",
       "      <td>-4.440497</td>\n",
       "    </tr>\n",
       "    <tr>\n",
       "      <th>70</th>\n",
       "      <td>2014-11-01</td>\n",
       "      <td>50.3</td>\n",
       "      <td>-2.140078</td>\n",
       "      <td>53.9</td>\n",
       "      <td>-3.750000</td>\n",
       "    </tr>\n",
       "    <tr>\n",
       "      <th>71</th>\n",
       "      <td>2014-12-01</td>\n",
       "      <td>50.1</td>\n",
       "      <td>-1.764706</td>\n",
       "      <td>54.1</td>\n",
       "      <td>-0.915751</td>\n",
       "    </tr>\n",
       "  </tbody>\n",
       "</table>\n",
       "<p>72 rows × 5 columns</p>\n",
       "</div>"
      ],
      "text/plain": [
       "          Date  Official_Manufacturing_PMI  Official_Manufacturing_PMI_YoY  \\\n",
       "0   2009-01-01                        45.3                      -14.528302   \n",
       "1   2009-02-01                        49.0                       -8.239700   \n",
       "2   2009-03-01                        52.4                      -10.273973   \n",
       "3   2009-04-01                        53.5                       -9.628378   \n",
       "4   2009-05-01                        53.1                       -0.375235   \n",
       "..         ...                         ...                             ...   \n",
       "67  2014-08-01                        51.1                        0.196078   \n",
       "68  2014-09-01                        51.1                        0.000000   \n",
       "69  2014-10-01                        50.8                       -1.167315   \n",
       "70  2014-11-01                        50.3                       -2.140078   \n",
       "71  2014-12-01                        50.1                       -1.764706   \n",
       "\n",
       "    Official_Services_PMI  Official_Services_PMI_YoY  \n",
       "0                    53.7                 -10.797342  \n",
       "1                    55.1                  -7.082631  \n",
       "2                    54.4                  -7.640068  \n",
       "3                    53.5                  -8.390411  \n",
       "4                    54.9                  -4.355401  \n",
       "..                    ...                        ...  \n",
       "67                   54.4                   0.927644  \n",
       "68                   54.0                  -2.527076  \n",
       "69                   53.8                  -4.440497  \n",
       "70                   53.9                  -3.750000  \n",
       "71                   54.1                  -0.915751  \n",
       "\n",
       "[72 rows x 5 columns]"
      ]
     },
     "execution_count": 57,
     "metadata": {},
     "output_type": "execute_result"
    }
   ],
   "source": [
    "df_pmi_china"
   ]
  },
  {
   "cell_type": "code",
   "execution_count": 58,
   "id": "0a0aa189",
   "metadata": {},
   "outputs": [],
   "source": [
    "df_pmi_china.drop(columns=['Official_Manufacturing_PMI_YoY', 'Official_Services_PMI_YoY'], inplace=True)"
   ]
  },
  {
   "cell_type": "code",
   "execution_count": 59,
   "id": "85bfa335",
   "metadata": {},
   "outputs": [],
   "source": [
    "df_pmi_china['Date'] = pd.to_datetime(df_pmi_china[\"Date\"], errors=\"raise\")"
   ]
  },
  {
   "cell_type": "code",
   "execution_count": null,
   "id": "9d829f1a",
   "metadata": {},
   "outputs": [],
   "source": [
    "# Add a Year–Month period column to your train & PMI\n",
    "df_wm_train[\"YearMonth\"] = df_wm_train[\"Date\"].dt.to_period(\"M\")\n",
    "df_pmi_china[\"YearMonth\"] = df_pmi_china.index.to_period(\"M\")\n",
    "\n",
    "# 2) Merge on YearMonth (many train rows → one PMI row per Month)\n",
    "df_merged = df_wm_train.merge(\n",
    "    df_pmi_china[[\"YearMonth\",\"Official_Manufacturing_PMI\",\"Official_Services_PMI\"]],\n",
    "    on=\"YearMonth\",\n",
    "    how=\"left\",\n",
    "    validate=\"many_to_one\"\n",
    ")\n",
    "\n",
    "# 3) Clean up\n",
    "df_merged.drop(columns=\"YearMonth\", inplace=True)"
   ]
  },
  {
   "cell_type": "code",
   "execution_count": 61,
   "id": "41b24b6b",
   "metadata": {},
   "outputs": [
    {
     "data": {
      "application/vnd.microsoft.datawrangler.viewer.v0+json": {
       "columns": [
        {
         "name": "index",
         "rawType": "int64",
         "type": "integer"
        },
        {
         "name": "Store",
         "rawType": "object",
         "type": "string"
        },
        {
         "name": "Dept",
         "rawType": "int64",
         "type": "integer"
        },
        {
         "name": "Date",
         "rawType": "datetime64[ns]",
         "type": "datetime"
        },
        {
         "name": "Weekly_Sales",
         "rawType": "float64",
         "type": "float"
        },
        {
         "name": "IsHoliday",
         "rawType": "bool",
         "type": "boolean"
        },
        {
         "name": "SPX_Weekly_Mean_Close",
         "rawType": "float64",
         "type": "float"
        },
        {
         "name": "WMT_Weekly_Mean_Close",
         "rawType": "float64",
         "type": "float"
        },
        {
         "name": "ARCB_df_logistics_Close",
         "rawType": "float64",
         "type": "float"
        },
        {
         "name": "AIT_df_logistics_Close",
         "rawType": "float64",
         "type": "float"
        },
        {
         "name": "CEVA_df_logistics_Close",
         "rawType": "float64",
         "type": "float"
        },
        {
         "name": "FDX_df_logistics_Close",
         "rawType": "float64",
         "type": "float"
        },
        {
         "name": "SAIA_df_logistics_Close",
         "rawType": "float64",
         "type": "float"
        },
        {
         "name": "TFII.TO_df_logistics_Close",
         "rawType": "float64",
         "type": "float"
        },
        {
         "name": "XPO_df_logistics_Close",
         "rawType": "float64",
         "type": "float"
        },
        {
         "name": "ODFL_df_logistics_Close",
         "rawType": "float64",
         "type": "float"
        },
        {
         "name": "UPS_df_logistics_Close",
         "rawType": "float64",
         "type": "float"
        },
        {
         "name": "JBHT_df_logistics_Close",
         "rawType": "float64",
         "type": "float"
        },
        {
         "name": "Official_Manufacturing_PMI",
         "rawType": "float64",
         "type": "float"
        },
        {
         "name": "Official_Services_PMI",
         "rawType": "float64",
         "type": "float"
        }
       ],
       "ref": "fd896012-3369-40df-97fd-b9f0defbd44c",
       "rows": [
        [
         "0",
         "1",
         "1",
         "2010-02-05 00:00:00",
         "24924.5",
         "False",
         "1083.81796875",
         "12.849576950073242",
         "19.7749",
         "16.3716",
         "11.386",
         "67.5286",
         "8.1133",
         "5.9522",
         "1.732",
         "4.0012",
         "35.1546",
         "26.3251",
         null,
         null
        ],
        [
         "1",
         "1",
         "1",
         "2010-02-12 00:00:00",
         "46039.49",
         "True",
         "1069.8739990234376",
         "12.74108009338379",
         "19.9706",
         "16.2364",
         "11.006",
         "66.1162",
         "8.14",
         "5.7845",
         "1.7154",
         "4.0306",
         "34.4932",
         "26.7885",
         null,
         null
        ],
        [
         "2",
         "1",
         "1",
         "2010-02-19 00:00:00",
         "41595.55",
         "False",
         "1102.5750122070312",
         "12.876699209213257",
         "21.8988",
         "16.8577",
         "11.7",
         "67.7903",
         "7.66",
         "5.8391",
         "1.8538",
         "4.1189",
         "35.0687",
         "27.9924",
         null,
         null
        ],
        [
         "3",
         "1",
         "1",
         "2010-02-26 00:00:00",
         "19403.54",
         "False",
         "1103.0559814453125",
         "12.942227554321288",
         "22.6758",
         "17.1335",
         "11.864",
         "69.9236",
         "8.0707",
         "6.2608",
         "1.9285",
         "4.3097",
         "35.6784",
         "29.4901",
         null,
         null
        ],
        [
         "4",
         "1",
         "1",
         "2010-03-05 00:00:00",
         "21827.9",
         "False",
         "1122.89599609375",
         "12.925909423828124",
         "23.9654",
         "17.7752",
         "12.288",
         "72.5866",
         "8.424",
         "6.8441",
         "1.9368",
         "4.3818",
         "36.1191",
         "29.9464",
         null,
         null
        ],
        [
         "5",
         "1",
         "1",
         "2010-03-12 00:00:00",
         "21043.39",
         "False",
         "1144.9579833984376",
         "12.991690254211424",
         "25.4786",
         "18.3684",
         "12.87",
         "73.1294",
         "9.3347",
         "7.0724",
         "1.9174",
         "4.7404",
         "37.3069",
         "30.6903",
         null,
         null
        ],
        [
         "6",
         "1",
         "1",
         "2010-03-19 00:00:00",
         "22136.64",
         "False",
         "1160.381982421875",
         "13.450643730163574",
         "26.1065",
         "18.5289",
         "12.802",
         "75.9375",
         "9.3733",
         "7.0217",
         "2.0281",
         "4.8316",
         "38.6741",
         "31.0829",
         null,
         null
        ],
        [
         "7",
         "1",
         "1",
         "2010-03-26 00:00:00",
         "26229.21",
         "False",
         "1168.00400390625",
         "13.431332397460938",
         "26.2467",
         "18.7317",
         "12.33",
         "76.5889",
         "9.392",
         "6.971",
         "2.1747",
         "4.7621",
         "39.0233",
         "31.0949",
         null,
         null
        ],
        [
         "8",
         "1",
         "1",
         "2010-04-02 00:00:00",
         "57258.43",
         "False",
         "1173.5050048828125",
         "13.441711187362673",
         "26.5553",
         "18.8913",
         "11.8775",
         "78.1812",
         "9.38",
         "7.0737",
         "2.1028",
         "4.7513",
         "39.2497",
         "30.7411",
         null,
         null
        ],
        [
         "9",
         "1",
         "1",
         "2010-04-09 00:00:00",
         "42960.91",
         "False",
         "1188.0279541015625",
         "13.36084804534912",
         "26.4684",
         "19.4354",
         "11.438",
         "77.2032",
         "9.6947",
         "7.2592",
         "2.0143",
         "4.932",
         "39.1588",
         "30.7712",
         null,
         null
        ],
        [
         "10",
         "1",
         "1",
         "2010-04-16 00:00:00",
         "17596.96",
         "False",
         "1201.6460205078124",
         "13.161457824707032",
         "26.7114",
         "19.9197",
         "11.52",
         "78.479",
         "10.0213",
         "7.2236",
         "2.0779",
         "5.1359",
         "40.5516",
         "31.6769",
         null,
         null
        ],
        [
         "11",
         "1",
         "1",
         "2010-04-23 00:00:00",
         "16145.35",
         "False",
         "1207.316015625",
         "13.150838661193848",
         "27.8769",
         "20.7279",
         "12.514",
         "77.7314",
         "10.0733",
         "7.2705",
         "2.053",
         "5.2534",
         "41.6991",
         "31.8061",
         null,
         null
        ],
        [
         "12",
         "1",
         "1",
         "2010-04-30 00:00:00",
         "16555.11",
         "False",
         "1196.1179931640625",
         "12.988143157958984",
         "27.6072",
         "22.8709",
         "12.59",
         "76.8944",
         "10.7627",
         "7.4357",
         "2.0751",
         "5.2623",
         "41.7357",
         "31.9214",
         null,
         null
        ],
        [
         "13",
         "1",
         "1",
         "2010-05-07 00:00:00",
         "17413.94",
         "False",
         "1156.152001953125",
         "12.946140480041503",
         "25.6541",
         "21.9174",
         "11.936",
         "74.174",
         "10.804",
         "7.5439",
         "2.0696",
         "5.1096",
         "40.9862",
         "30.8177",
         null,
         null
        ],
        [
         "14",
         "1",
         "1",
         "2010-05-14 00:00:00",
         "18926.74",
         "False",
         "1156.06201171875",
         "12.694713973999024",
         "25.7038",
         "22.5138",
         "12.346",
         "74.1656",
         "11.0307",
         "7.5012",
         "2.1139",
         "5.3312",
         "41.0362",
         "30.5857",
         null,
         null
        ],
        [
         "15",
         "1",
         "1",
         "2010-05-21 00:00:00",
         "14773.04",
         "False",
         "1106.4139892578123",
         "12.72951431274414",
         "24.2301",
         "21.403",
         "12.194",
         "70.5744",
         "10.3493",
         "7.0883",
         "2.0336",
         "5.2005",
         "39.5533",
         "29.9597",
         null,
         null
        ],
        [
         "16",
         "1",
         "1",
         "2010-05-28 00:00:00",
         "15580.43",
         "False",
         "1081.62001953125",
         "12.263841819763185",
         "20.7321",
         "20.7124",
         "11.408",
         "69.4387",
         "9.6947",
         "6.9029",
         "1.9285",
         "5.0235",
         "38.3401",
         "29.4293",
         null,
         null
        ],
        [
         "17",
         "1",
         "1",
         "2010-06-04 00:00:00",
         "17558.09",
         "False",
         "1084.1999816894531",
         "12.428454160690308",
         "20.1022",
         "20.7964",
         "11.4925",
         "69.1822",
         "9.695",
         "6.9915",
         "1.8918",
         "5.0776",
         "38.0024",
         "29.2885",
         null,
         null
        ],
        [
         "18",
         "1",
         "1",
         "2010-06-11 00:00:00",
         "16637.62",
         "False",
         "1069.319970703125",
         "12.36241569519043",
         "19.0222",
         "19.859",
         "11.31",
         "66.4297",
         "9.5533",
         "6.795",
         "1.8427",
         "4.8808",
         "36.6401",
         "28.4307",
         null,
         null
        ],
        [
         "19",
         "1",
         "1",
         "2010-06-18 00:00:00",
         "16216.27",
         "False",
         "1110.60400390625",
         "12.470700454711912",
         "19.3755",
         "20.8249",
         "11.986",
         "67.4742",
         "10.2787",
         "6.9573",
         "1.8759",
         "5.2643",
         "38.2098",
         "30.4175",
         null,
         null
        ],
        [
         "20",
         "1",
         "1",
         "2010-06-25 00:00:00",
         "16328.72",
         "False",
         "1090.2",
         "12.204601097106934",
         "18.1379",
         "20.1769",
         "12.068",
         "64.7785",
         "9.7493",
         "6.9645",
         "1.9063",
         "5.0246",
         "37.2928",
         "29.0336",
         null,
         null
        ],
        [
         "21",
         "1",
         "1",
         "2010-07-02 00:00:00",
         "16333.14",
         "False",
         "1039.2939819335938",
         "11.793799018859865",
         "18.1326",
         "19.3813",
         "12.472",
         "60.8694",
         "9.9267",
         "6.7502",
         "1.7514",
         "5.0198",
         "35.5018",
         "28.5412",
         null,
         null
        ],
        [
         "22",
         "1",
         "1",
         "2010-07-09 00:00:00",
         "17688.76",
         "False",
         "1059.135009765625",
         "11.902813196182253",
         "18.2134",
         "19.0642",
         "12.56",
         "61.5796",
         "10.2967",
         "6.3867",
         "1.7604",
         "5.019",
         "36.3675",
         "28.9645",
         null,
         null
        ],
        [
         "23",
         "1",
         "1",
         "2010-07-16 00:00:00",
         "17150.84",
         "False",
         "1086.1239990234376",
         "12.192463684082032",
         "19.3791",
         "19.5167",
         "12.61",
         "64.5622",
         "10.504",
         "6.7434",
         "1.9728",
         "5.1865",
         "37.3801",
         "30.1359",
         null,
         null
        ],
        [
         "24",
         "1",
         "1",
         "2010-07-23 00:00:00",
         "15360.45",
         "False",
         "1084.1300048828125",
         "12.298804473876952",
         "19.1216",
         "20.65",
         "12.356",
         "64.6315",
         "10.0853",
         "6.8182",
         "1.9257",
         "5.2239",
         "37.8804",
         "30.3726",
         null,
         null
        ],
        [
         "25",
         "1",
         "1",
         "2010-07-30 00:00:00",
         "15381.82",
         "False",
         "1107.6219970703123",
         "12.405147171020507",
         "20.3255",
         "21.4319",
         "12.924",
         "69.8369",
         "10.2107",
         "6.9835",
         "1.9589",
         "5.5977",
         "39.793",
         "30.8856",
         null,
         null
        ],
        [
         "26",
         "1",
         "1",
         "2010-08-06 00:00:00",
         "17508.41",
         "False",
         "1124.202001953125",
         "12.51391887664795",
         "19.9329",
         "21.9171",
         "12.672",
         "71.8717",
         "9.2907",
         "7.25",
         "1.8953",
         "5.4493",
         "41.1414",
         "31.0418",
         null,
         null
        ],
        [
         "27",
         "1",
         "1",
         "2010-08-13 00:00:00",
         "15536.4",
         "False",
         "1100.2360107421875",
         "12.480227851867676",
         "18.3809",
         "21.2284",
         "12.3",
         "71.0267",
         "8.2067",
         "7.1705",
         "1.9617",
         "5.2182",
         "40.5263",
         "29.6515",
         null,
         null
        ],
        [
         "28",
         "1",
         "1",
         "2010-08-20 00:00:00",
         "15740.13",
         "False",
         "1082.6800048828125",
         "12.3359037399292",
         "17.7266",
         "20.8296",
         "11.63",
         "69.5614",
         "8.1867",
         "7.0425",
         "1.9534",
         "5.3086",
         "40.5313",
         "29.2164",
         null,
         null
        ],
        [
         "29",
         "1",
         "1",
         "2010-08-27 00:00:00",
         "15793.87",
         "False",
         "1057.273974609375",
         "12.50147876739502",
         "18.036",
         "20.095",
         "11.842",
         "67.3491",
         "8.132",
         "7.0353",
         "1.8731",
         "5.2168",
         "39.6597",
         "28.6253",
         null,
         null
        ],
        [
         "30",
         "1",
         "1",
         "2010-09-03 00:00:00",
         "16241.78",
         "False",
         "1074.6300048828125",
         "12.488291358947754",
         "18.8468",
         "21.4204",
         "12.498",
         "68.0538",
         "8.1587",
         "7.1619",
         "1.9063",
         "5.252",
         "40.696",
         "29.2806",
         null,
         null
        ],
        [
         "31",
         "1",
         "1",
         "2010-09-10 00:00:00",
         "18194.74",
         "True",
         "1101.1100158691406",
         "12.672545433044434",
         "19.9758",
         "22.1456",
         "13.0025",
         "70.6869",
         "8.695",
         "7.3326",
         "2.1547",
         "5.3736",
         "41.7945",
         "29.6104",
         null,
         null
        ],
        [
         "32",
         "1",
         "1",
         "2010-09-17 00:00:00",
         "19354.23",
         "False",
         "1123.6639892578123",
         "12.88879108428955",
         "21.0568",
         "22.7781",
         "13.534",
         "71.1968",
         "9.0613",
         "7.1878",
         "2.1969",
         "5.4776",
         "41.606",
         "30.3293",
         null,
         null
        ],
        [
         "33",
         "1",
         "1",
         "2010-09-24 00:00:00",
         "18122.52",
         "False",
         "1138.05400390625",
         "13.121766471862792",
         "21.1013",
         "22.902",
         "13.596",
         "70.7026",
         "9.1547",
         "7.1604",
         "2.2218",
         "5.496",
         "41.4859",
         "30.6951",
         null,
         null
        ],
        [
         "34",
         "1",
         "1",
         "2010-10-01 00:00:00",
         "20094.19",
         "False",
         "1144.4059814453126",
         "13.06657600402832",
         "21.4409",
         "23.5235",
         "14.242",
         "72.1514",
         "9.7507",
         "7.4488",
         "2.5621",
         "5.4892",
         "41.3695",
         "30.3449",
         "54.7",
         "57.4"
        ],
        [
         "35",
         "1",
         "1",
         "2010-10-08 00:00:00",
         "23388.03",
         "False",
         "1156.1920166015625",
         "13.231171798706054",
         "21.3342",
         "23.8342",
         "15.004",
         "73.8067",
         "9.6693",
         "7.7422",
         "3.0767",
         "5.3892",
         "41.689",
         "30.4316",
         null,
         null
        ],
        [
         "36",
         "1",
         "1",
         "2010-10-15 00:00:00",
         "26978.34",
         "False",
         "1172.63798828125",
         "13.135930061340332",
         "21.8694",
         "24.3484",
         "15.908",
         "75.3418",
         "9.6813",
         "8.0582",
         "3.2483",
         "5.5033",
         "42.339",
         "31.0123",
         null,
         null
        ],
        [
         "37",
         "1",
         "1",
         "2010-10-22 00:00:00",
         "25543.04",
         "False",
         "1178.4239990234375",
         "13.120789909362792",
         "22.529",
         "24.8061",
         "16.028",
         "74.9729",
         "9.436",
         "8.1199",
         "3.3451",
         "5.5788",
         "43.0014",
         "31.3365",
         null,
         null
        ],
        [
         "38",
         "1",
         "1",
         "2010-10-29 00:00:00",
         "38640.93",
         "False",
         "1184.15",
         "13.217982864379882",
         "22.6286",
         "23.9352",
         "17.736",
         "75.1286",
         "9.3587",
         "8.5644",
         "3.4475",
         "5.8529",
         "42.3093",
         "31.4682",
         null,
         null
        ],
        [
         "39",
         "1",
         "1",
         "2010-11-05 00:00:00",
         "34238.88",
         "False",
         "1204.5639892578124",
         "13.410420227050782",
         "23.1423",
         "23.401",
         "19.204",
         "74.4194",
         "9.8413",
         "8.5557",
         "3.6384",
         "6.0408",
         "42.521",
         "31.7959",
         null,
         null
        ],
        [
         "40",
         "1",
         "1",
         "2010-11-12 00:00:00",
         "19549.39",
         "False",
         "1213.6219970703123",
         "13.330810356140136",
         "21.9286",
         "23.8797",
         "21.02",
         "74.8459",
         "9.8453",
         "8.3378",
         "3.5886",
         "5.9923",
         "42.634",
         "31.9911",
         null,
         null
        ],
        [
         "41",
         "1",
         "1",
         "2010-11-19 00:00:00",
         "19552.84",
         "False",
         "1190.219970703125",
         "13.204309272766114",
         "21.553",
         "23.6863",
         "21.988",
         "73.1202",
         "9.9093",
         "8.2216",
         "3.6937",
         "5.9829",
         "42.3975",
         "31.8264",
         null,
         null
        ],
        [
         "42",
         "1",
         "1",
         "2010-11-26 00:00:00",
         "18820.29",
         "True",
         "1191.5799865722656",
         "13.175003051757812",
         "21.9659",
         "23.7055",
         "22.4925",
         "74.0361",
         "10.1567",
         "8.2347",
         "3.2822",
         "6.2545",
         "42.9523",
         "32.2129",
         null,
         null
        ],
        [
         "43",
         "1",
         "1",
         "2010-12-03 00:00:00",
         "22517.56",
         "False",
         "1204.1239990234376",
         "13.285385704040529",
         "23.3081",
         "23.4477",
         "22.834",
         "79.1374",
         "10.228",
         "8.4584",
         "3.157",
         "6.3642",
         "44.2687",
         "32.7899",
         null,
         null
        ],
        [
         "44",
         "1",
         "1",
         "2010-12-10 00:00:00",
         "31497.65",
         "False",
         "1229.710009765625",
         "13.362656784057616",
         "25.1683",
         "23.8833",
         "23.39",
         "79.1238",
         "10.652",
         "8.8201",
         "3.0297",
         "6.6259",
         "45.0429",
         "34.8144",
         null,
         null
        ],
        [
         "45",
         "1",
         "1",
         "2010-12-17 00:00:00",
         "44912.86",
         "False",
         "1240.8119873046876",
         "13.354933547973634",
         "24.6823",
         "24.365",
         "21.102",
         "79.2069",
         "10.624",
         "9.1818",
         "3.0989",
         "6.5478",
         "45.4318",
         "34.5657",
         null,
         null
        ],
        [
         "46",
         "1",
         "1",
         "2010-12-24 00:00:00",
         "55931.23",
         "False",
         "1254.3224792480469",
         "13.15762734413147",
         "23.9307",
         "24.9387",
         "20.635",
         "79.159",
         "10.7883",
         "9.3779",
         "3.1853",
         "6.7376",
         "45.3785",
         "35.0674",
         null,
         null
        ],
        [
         "47",
         "1",
         "1",
         "2010-12-31 00:00:00",
         "19124.58",
         "True",
         "1258.27001953125",
         "13.230185317993165",
         "24.1768",
         "25.2438",
         "20.494",
         "78.7832",
         "10.9973",
         "9.2736",
         "3.2815",
         "6.8223",
         "45.3221",
         "35.3501",
         null,
         null
        ],
        [
         "48",
         "1",
         "1",
         "2011-01-07 00:00:00",
         "15984.24",
         "False",
         "1272.79599609375",
         "13.347564888000488",
         "24.1287",
         "24.9222",
         "22.176",
         "79.0561",
         "10.736",
         "9.5079",
         "3.619",
         "6.9819",
         "45.2872",
         "36.0927",
         null,
         null
        ],
        [
         "49",
         "1",
         "1",
         "2011-01-14 00:00:00",
         "17359.7",
         "False",
         "1281.43798828125",
         "13.381450271606443",
         "23.082",
         "25.3947",
         "24.512",
         "80.3103",
         "10.3867",
         "9.7509",
         "3.6854",
         "7.0355",
         "44.9494",
         "36.4788",
         null,
         null
        ]
       ],
       "shape": {
        "columns": 19,
        "rows": 421570
       }
      },
      "text/html": [
       "<div>\n",
       "<style scoped>\n",
       "    .dataframe tbody tr th:only-of-type {\n",
       "        vertical-align: middle;\n",
       "    }\n",
       "\n",
       "    .dataframe tbody tr th {\n",
       "        vertical-align: top;\n",
       "    }\n",
       "\n",
       "    .dataframe thead th {\n",
       "        text-align: right;\n",
       "    }\n",
       "</style>\n",
       "<table border=\"1\" class=\"dataframe\">\n",
       "  <thead>\n",
       "    <tr style=\"text-align: right;\">\n",
       "      <th></th>\n",
       "      <th>Store</th>\n",
       "      <th>Dept</th>\n",
       "      <th>Date</th>\n",
       "      <th>Weekly_Sales</th>\n",
       "      <th>IsHoliday</th>\n",
       "      <th>SPX_Weekly_Mean_Close</th>\n",
       "      <th>WMT_Weekly_Mean_Close</th>\n",
       "      <th>ARCB_df_logistics_Close</th>\n",
       "      <th>AIT_df_logistics_Close</th>\n",
       "      <th>CEVA_df_logistics_Close</th>\n",
       "      <th>FDX_df_logistics_Close</th>\n",
       "      <th>SAIA_df_logistics_Close</th>\n",
       "      <th>TFII.TO_df_logistics_Close</th>\n",
       "      <th>XPO_df_logistics_Close</th>\n",
       "      <th>ODFL_df_logistics_Close</th>\n",
       "      <th>UPS_df_logistics_Close</th>\n",
       "      <th>JBHT_df_logistics_Close</th>\n",
       "      <th>Official_Manufacturing_PMI</th>\n",
       "      <th>Official_Services_PMI</th>\n",
       "    </tr>\n",
       "  </thead>\n",
       "  <tbody>\n",
       "    <tr>\n",
       "      <th>0</th>\n",
       "      <td>1</td>\n",
       "      <td>1</td>\n",
       "      <td>2010-02-05</td>\n",
       "      <td>24924.50</td>\n",
       "      <td>False</td>\n",
       "      <td>1083.817969</td>\n",
       "      <td>12.849577</td>\n",
       "      <td>19.7749</td>\n",
       "      <td>16.3716</td>\n",
       "      <td>11.386</td>\n",
       "      <td>67.5286</td>\n",
       "      <td>8.1133</td>\n",
       "      <td>5.9522</td>\n",
       "      <td>1.7320</td>\n",
       "      <td>4.0012</td>\n",
       "      <td>35.1546</td>\n",
       "      <td>26.3251</td>\n",
       "      <td>NaN</td>\n",
       "      <td>NaN</td>\n",
       "    </tr>\n",
       "    <tr>\n",
       "      <th>1</th>\n",
       "      <td>1</td>\n",
       "      <td>1</td>\n",
       "      <td>2010-02-12</td>\n",
       "      <td>46039.49</td>\n",
       "      <td>True</td>\n",
       "      <td>1069.873999</td>\n",
       "      <td>12.741080</td>\n",
       "      <td>19.9706</td>\n",
       "      <td>16.2364</td>\n",
       "      <td>11.006</td>\n",
       "      <td>66.1162</td>\n",
       "      <td>8.1400</td>\n",
       "      <td>5.7845</td>\n",
       "      <td>1.7154</td>\n",
       "      <td>4.0306</td>\n",
       "      <td>34.4932</td>\n",
       "      <td>26.7885</td>\n",
       "      <td>NaN</td>\n",
       "      <td>NaN</td>\n",
       "    </tr>\n",
       "    <tr>\n",
       "      <th>2</th>\n",
       "      <td>1</td>\n",
       "      <td>1</td>\n",
       "      <td>2010-02-19</td>\n",
       "      <td>41595.55</td>\n",
       "      <td>False</td>\n",
       "      <td>1102.575012</td>\n",
       "      <td>12.876699</td>\n",
       "      <td>21.8988</td>\n",
       "      <td>16.8577</td>\n",
       "      <td>11.700</td>\n",
       "      <td>67.7903</td>\n",
       "      <td>7.6600</td>\n",
       "      <td>5.8391</td>\n",
       "      <td>1.8538</td>\n",
       "      <td>4.1189</td>\n",
       "      <td>35.0687</td>\n",
       "      <td>27.9924</td>\n",
       "      <td>NaN</td>\n",
       "      <td>NaN</td>\n",
       "    </tr>\n",
       "    <tr>\n",
       "      <th>3</th>\n",
       "      <td>1</td>\n",
       "      <td>1</td>\n",
       "      <td>2010-02-26</td>\n",
       "      <td>19403.54</td>\n",
       "      <td>False</td>\n",
       "      <td>1103.055981</td>\n",
       "      <td>12.942228</td>\n",
       "      <td>22.6758</td>\n",
       "      <td>17.1335</td>\n",
       "      <td>11.864</td>\n",
       "      <td>69.9236</td>\n",
       "      <td>8.0707</td>\n",
       "      <td>6.2608</td>\n",
       "      <td>1.9285</td>\n",
       "      <td>4.3097</td>\n",
       "      <td>35.6784</td>\n",
       "      <td>29.4901</td>\n",
       "      <td>NaN</td>\n",
       "      <td>NaN</td>\n",
       "    </tr>\n",
       "    <tr>\n",
       "      <th>4</th>\n",
       "      <td>1</td>\n",
       "      <td>1</td>\n",
       "      <td>2010-03-05</td>\n",
       "      <td>21827.90</td>\n",
       "      <td>False</td>\n",
       "      <td>1122.895996</td>\n",
       "      <td>12.925909</td>\n",
       "      <td>23.9654</td>\n",
       "      <td>17.7752</td>\n",
       "      <td>12.288</td>\n",
       "      <td>72.5866</td>\n",
       "      <td>8.4240</td>\n",
       "      <td>6.8441</td>\n",
       "      <td>1.9368</td>\n",
       "      <td>4.3818</td>\n",
       "      <td>36.1191</td>\n",
       "      <td>29.9464</td>\n",
       "      <td>NaN</td>\n",
       "      <td>NaN</td>\n",
       "    </tr>\n",
       "    <tr>\n",
       "      <th>...</th>\n",
       "      <td>...</td>\n",
       "      <td>...</td>\n",
       "      <td>...</td>\n",
       "      <td>...</td>\n",
       "      <td>...</td>\n",
       "      <td>...</td>\n",
       "      <td>...</td>\n",
       "      <td>...</td>\n",
       "      <td>...</td>\n",
       "      <td>...</td>\n",
       "      <td>...</td>\n",
       "      <td>...</td>\n",
       "      <td>...</td>\n",
       "      <td>...</td>\n",
       "      <td>...</td>\n",
       "      <td>...</td>\n",
       "      <td>...</td>\n",
       "      <td>...</td>\n",
       "      <td>...</td>\n",
       "    </tr>\n",
       "    <tr>\n",
       "      <th>421565</th>\n",
       "      <td>45</td>\n",
       "      <td>98</td>\n",
       "      <td>2012-09-28</td>\n",
       "      <td>508.37</td>\n",
       "      <td>False</td>\n",
       "      <td>1443.923999</td>\n",
       "      <td>19.073621</td>\n",
       "      <td>7.1706</td>\n",
       "      <td>33.7323</td>\n",
       "      <td>14.684</td>\n",
       "      <td>72.7305</td>\n",
       "      <td>13.5920</td>\n",
       "      <td>13.5184</td>\n",
       "      <td>4.2125</td>\n",
       "      <td>9.6705</td>\n",
       "      <td>47.1874</td>\n",
       "      <td>46.1906</td>\n",
       "      <td>NaN</td>\n",
       "      <td>NaN</td>\n",
       "    </tr>\n",
       "    <tr>\n",
       "      <th>421566</th>\n",
       "      <td>45</td>\n",
       "      <td>98</td>\n",
       "      <td>2012-10-05</td>\n",
       "      <td>628.10</td>\n",
       "      <td>False</td>\n",
       "      <td>1452.712012</td>\n",
       "      <td>19.118869</td>\n",
       "      <td>6.9492</td>\n",
       "      <td>33.4393</td>\n",
       "      <td>13.892</td>\n",
       "      <td>73.3577</td>\n",
       "      <td>13.8053</td>\n",
       "      <td>13.6795</td>\n",
       "      <td>4.2215</td>\n",
       "      <td>9.4961</td>\n",
       "      <td>47.7151</td>\n",
       "      <td>47.3806</td>\n",
       "      <td>NaN</td>\n",
       "      <td>NaN</td>\n",
       "    </tr>\n",
       "    <tr>\n",
       "      <th>421567</th>\n",
       "      <td>45</td>\n",
       "      <td>98</td>\n",
       "      <td>2012-10-12</td>\n",
       "      <td>1061.02</td>\n",
       "      <td>False</td>\n",
       "      <td>1438.269995</td>\n",
       "      <td>19.313219</td>\n",
       "      <td>7.3217</td>\n",
       "      <td>32.9701</td>\n",
       "      <td>13.610</td>\n",
       "      <td>75.7907</td>\n",
       "      <td>13.8760</td>\n",
       "      <td>13.5060</td>\n",
       "      <td>4.1440</td>\n",
       "      <td>9.4916</td>\n",
       "      <td>47.7099</td>\n",
       "      <td>49.2570</td>\n",
       "      <td>NaN</td>\n",
       "      <td>NaN</td>\n",
       "    </tr>\n",
       "    <tr>\n",
       "      <th>421568</th>\n",
       "      <td>45</td>\n",
       "      <td>98</td>\n",
       "      <td>2012-10-19</td>\n",
       "      <td>760.01</td>\n",
       "      <td>False</td>\n",
       "      <td>1449.297998</td>\n",
       "      <td>19.706032</td>\n",
       "      <td>7.2911</td>\n",
       "      <td>32.7124</td>\n",
       "      <td>14.746</td>\n",
       "      <td>79.0085</td>\n",
       "      <td>14.3053</td>\n",
       "      <td>13.6934</td>\n",
       "      <td>4.3412</td>\n",
       "      <td>9.8127</td>\n",
       "      <td>47.9002</td>\n",
       "      <td>51.6494</td>\n",
       "      <td>NaN</td>\n",
       "      <td>NaN</td>\n",
       "    </tr>\n",
       "    <tr>\n",
       "      <th>421569</th>\n",
       "      <td>45</td>\n",
       "      <td>98</td>\n",
       "      <td>2012-10-26</td>\n",
       "      <td>1076.80</td>\n",
       "      <td>False</td>\n",
       "      <td>1416.117969</td>\n",
       "      <td>19.314762</td>\n",
       "      <td>6.9204</td>\n",
       "      <td>31.1912</td>\n",
       "      <td>14.826</td>\n",
       "      <td>78.1158</td>\n",
       "      <td>14.3333</td>\n",
       "      <td>13.5230</td>\n",
       "      <td>4.3681</td>\n",
       "      <td>10.0276</td>\n",
       "      <td>47.8648</td>\n",
       "      <td>50.8053</td>\n",
       "      <td>NaN</td>\n",
       "      <td>NaN</td>\n",
       "    </tr>\n",
       "  </tbody>\n",
       "</table>\n",
       "<p>421570 rows × 19 columns</p>\n",
       "</div>"
      ],
      "text/plain": [
       "       Store  Dept       Date  Weekly_Sales  IsHoliday  SPX_Weekly_Mean_Close  \\\n",
       "0          1     1 2010-02-05      24924.50      False            1083.817969   \n",
       "1          1     1 2010-02-12      46039.49       True            1069.873999   \n",
       "2          1     1 2010-02-19      41595.55      False            1102.575012   \n",
       "3          1     1 2010-02-26      19403.54      False            1103.055981   \n",
       "4          1     1 2010-03-05      21827.90      False            1122.895996   \n",
       "...      ...   ...        ...           ...        ...                    ...   \n",
       "421565    45    98 2012-09-28        508.37      False            1443.923999   \n",
       "421566    45    98 2012-10-05        628.10      False            1452.712012   \n",
       "421567    45    98 2012-10-12       1061.02      False            1438.269995   \n",
       "421568    45    98 2012-10-19        760.01      False            1449.297998   \n",
       "421569    45    98 2012-10-26       1076.80      False            1416.117969   \n",
       "\n",
       "        WMT_Weekly_Mean_Close  ARCB_df_logistics_Close  \\\n",
       "0                   12.849577                  19.7749   \n",
       "1                   12.741080                  19.9706   \n",
       "2                   12.876699                  21.8988   \n",
       "3                   12.942228                  22.6758   \n",
       "4                   12.925909                  23.9654   \n",
       "...                       ...                      ...   \n",
       "421565              19.073621                   7.1706   \n",
       "421566              19.118869                   6.9492   \n",
       "421567              19.313219                   7.3217   \n",
       "421568              19.706032                   7.2911   \n",
       "421569              19.314762                   6.9204   \n",
       "\n",
       "        AIT_df_logistics_Close  CEVA_df_logistics_Close  \\\n",
       "0                      16.3716                   11.386   \n",
       "1                      16.2364                   11.006   \n",
       "2                      16.8577                   11.700   \n",
       "3                      17.1335                   11.864   \n",
       "4                      17.7752                   12.288   \n",
       "...                        ...                      ...   \n",
       "421565                 33.7323                   14.684   \n",
       "421566                 33.4393                   13.892   \n",
       "421567                 32.9701                   13.610   \n",
       "421568                 32.7124                   14.746   \n",
       "421569                 31.1912                   14.826   \n",
       "\n",
       "        FDX_df_logistics_Close  SAIA_df_logistics_Close  \\\n",
       "0                      67.5286                   8.1133   \n",
       "1                      66.1162                   8.1400   \n",
       "2                      67.7903                   7.6600   \n",
       "3                      69.9236                   8.0707   \n",
       "4                      72.5866                   8.4240   \n",
       "...                        ...                      ...   \n",
       "421565                 72.7305                  13.5920   \n",
       "421566                 73.3577                  13.8053   \n",
       "421567                 75.7907                  13.8760   \n",
       "421568                 79.0085                  14.3053   \n",
       "421569                 78.1158                  14.3333   \n",
       "\n",
       "        TFII.TO_df_logistics_Close  XPO_df_logistics_Close  \\\n",
       "0                           5.9522                  1.7320   \n",
       "1                           5.7845                  1.7154   \n",
       "2                           5.8391                  1.8538   \n",
       "3                           6.2608                  1.9285   \n",
       "4                           6.8441                  1.9368   \n",
       "...                            ...                     ...   \n",
       "421565                     13.5184                  4.2125   \n",
       "421566                     13.6795                  4.2215   \n",
       "421567                     13.5060                  4.1440   \n",
       "421568                     13.6934                  4.3412   \n",
       "421569                     13.5230                  4.3681   \n",
       "\n",
       "        ODFL_df_logistics_Close  UPS_df_logistics_Close  \\\n",
       "0                        4.0012                 35.1546   \n",
       "1                        4.0306                 34.4932   \n",
       "2                        4.1189                 35.0687   \n",
       "3                        4.3097                 35.6784   \n",
       "4                        4.3818                 36.1191   \n",
       "...                         ...                     ...   \n",
       "421565                   9.6705                 47.1874   \n",
       "421566                   9.4961                 47.7151   \n",
       "421567                   9.4916                 47.7099   \n",
       "421568                   9.8127                 47.9002   \n",
       "421569                  10.0276                 47.8648   \n",
       "\n",
       "        JBHT_df_logistics_Close  Official_Manufacturing_PMI  \\\n",
       "0                       26.3251                         NaN   \n",
       "1                       26.7885                         NaN   \n",
       "2                       27.9924                         NaN   \n",
       "3                       29.4901                         NaN   \n",
       "4                       29.9464                         NaN   \n",
       "...                         ...                         ...   \n",
       "421565                  46.1906                         NaN   \n",
       "421566                  47.3806                         NaN   \n",
       "421567                  49.2570                         NaN   \n",
       "421568                  51.6494                         NaN   \n",
       "421569                  50.8053                         NaN   \n",
       "\n",
       "        Official_Services_PMI  \n",
       "0                         NaN  \n",
       "1                         NaN  \n",
       "2                         NaN  \n",
       "3                         NaN  \n",
       "4                         NaN  \n",
       "...                       ...  \n",
       "421565                    NaN  \n",
       "421566                    NaN  \n",
       "421567                    NaN  \n",
       "421568                    NaN  \n",
       "421569                    NaN  \n",
       "\n",
       "[421570 rows x 19 columns]"
      ]
     },
     "execution_count": 61,
     "metadata": {},
     "output_type": "execute_result"
    }
   ],
   "source": [
    "df_merged"
   ]
  },
  {
   "cell_type": "code",
   "execution_count": 62,
   "id": "8fae7072",
   "metadata": {},
   "outputs": [
    {
     "data": {
      "application/vnd.microsoft.datawrangler.viewer.v0+json": {
       "columns": [
        {
         "name": "index",
         "rawType": "int64",
         "type": "integer"
        },
        {
         "name": "Store",
         "rawType": "object",
         "type": "string"
        },
        {
         "name": "Dept",
         "rawType": "int64",
         "type": "integer"
        },
        {
         "name": "Date",
         "rawType": "datetime64[ns]",
         "type": "datetime"
        },
        {
         "name": "Weekly_Sales",
         "rawType": "float64",
         "type": "float"
        },
        {
         "name": "IsHoliday",
         "rawType": "bool",
         "type": "boolean"
        },
        {
         "name": "SPX_Weekly_Mean_Close",
         "rawType": "float64",
         "type": "float"
        },
        {
         "name": "WMT_Weekly_Mean_Close",
         "rawType": "float64",
         "type": "float"
        },
        {
         "name": "ARCB_df_logistics_Close",
         "rawType": "float64",
         "type": "float"
        },
        {
         "name": "AIT_df_logistics_Close",
         "rawType": "float64",
         "type": "float"
        },
        {
         "name": "CEVA_df_logistics_Close",
         "rawType": "float64",
         "type": "float"
        },
        {
         "name": "FDX_df_logistics_Close",
         "rawType": "float64",
         "type": "float"
        },
        {
         "name": "SAIA_df_logistics_Close",
         "rawType": "float64",
         "type": "float"
        },
        {
         "name": "TFII.TO_df_logistics_Close",
         "rawType": "float64",
         "type": "float"
        },
        {
         "name": "XPO_df_logistics_Close",
         "rawType": "float64",
         "type": "float"
        },
        {
         "name": "ODFL_df_logistics_Close",
         "rawType": "float64",
         "type": "float"
        },
        {
         "name": "UPS_df_logistics_Close",
         "rawType": "float64",
         "type": "float"
        },
        {
         "name": "JBHT_df_logistics_Close",
         "rawType": "float64",
         "type": "float"
        }
       ],
       "ref": "b9c18582-7695-424a-ab31-850a60479382",
       "rows": [
        [
         "0",
         "1",
         "1",
         "2010-02-05 00:00:00",
         "24924.5",
         "False",
         "1083.81796875",
         "12.849576950073242",
         "19.7749",
         "16.3716",
         "11.386",
         "67.5286",
         "8.1133",
         "5.9522",
         "1.732",
         "4.0012",
         "35.1546",
         "26.3251"
        ],
        [
         "1",
         "1",
         "1",
         "2010-02-12 00:00:00",
         "46039.49",
         "True",
         "1069.8739990234376",
         "12.74108009338379",
         "19.9706",
         "16.2364",
         "11.006",
         "66.1162",
         "8.14",
         "5.7845",
         "1.7154",
         "4.0306",
         "34.4932",
         "26.7885"
        ],
        [
         "2",
         "1",
         "1",
         "2010-02-19 00:00:00",
         "41595.55",
         "False",
         "1102.5750122070312",
         "12.876699209213257",
         "21.8988",
         "16.8577",
         "11.7",
         "67.7903",
         "7.66",
         "5.8391",
         "1.8538",
         "4.1189",
         "35.0687",
         "27.9924"
        ],
        [
         "3",
         "1",
         "1",
         "2010-02-26 00:00:00",
         "19403.54",
         "False",
         "1103.0559814453125",
         "12.942227554321288",
         "22.6758",
         "17.1335",
         "11.864",
         "69.9236",
         "8.0707",
         "6.2608",
         "1.9285",
         "4.3097",
         "35.6784",
         "29.4901"
        ],
        [
         "4",
         "1",
         "1",
         "2010-03-05 00:00:00",
         "21827.9",
         "False",
         "1122.89599609375",
         "12.925909423828124",
         "23.9654",
         "17.7752",
         "12.288",
         "72.5866",
         "8.424",
         "6.8441",
         "1.9368",
         "4.3818",
         "36.1191",
         "29.9464"
        ],
        [
         "5",
         "1",
         "1",
         "2010-03-12 00:00:00",
         "21043.39",
         "False",
         "1144.9579833984376",
         "12.991690254211424",
         "25.4786",
         "18.3684",
         "12.87",
         "73.1294",
         "9.3347",
         "7.0724",
         "1.9174",
         "4.7404",
         "37.3069",
         "30.6903"
        ],
        [
         "6",
         "1",
         "1",
         "2010-03-19 00:00:00",
         "22136.64",
         "False",
         "1160.381982421875",
         "13.450643730163574",
         "26.1065",
         "18.5289",
         "12.802",
         "75.9375",
         "9.3733",
         "7.0217",
         "2.0281",
         "4.8316",
         "38.6741",
         "31.0829"
        ],
        [
         "7",
         "1",
         "1",
         "2010-03-26 00:00:00",
         "26229.21",
         "False",
         "1168.00400390625",
         "13.431332397460938",
         "26.2467",
         "18.7317",
         "12.33",
         "76.5889",
         "9.392",
         "6.971",
         "2.1747",
         "4.7621",
         "39.0233",
         "31.0949"
        ],
        [
         "8",
         "1",
         "1",
         "2010-04-02 00:00:00",
         "57258.43",
         "False",
         "1173.5050048828125",
         "13.441711187362673",
         "26.5553",
         "18.8913",
         "11.8775",
         "78.1812",
         "9.38",
         "7.0737",
         "2.1028",
         "4.7513",
         "39.2497",
         "30.7411"
        ],
        [
         "9",
         "1",
         "1",
         "2010-04-09 00:00:00",
         "42960.91",
         "False",
         "1188.0279541015625",
         "13.36084804534912",
         "26.4684",
         "19.4354",
         "11.438",
         "77.2032",
         "9.6947",
         "7.2592",
         "2.0143",
         "4.932",
         "39.1588",
         "30.7712"
        ],
        [
         "10",
         "1",
         "1",
         "2010-04-16 00:00:00",
         "17596.96",
         "False",
         "1201.6460205078124",
         "13.161457824707032",
         "26.7114",
         "19.9197",
         "11.52",
         "78.479",
         "10.0213",
         "7.2236",
         "2.0779",
         "5.1359",
         "40.5516",
         "31.6769"
        ],
        [
         "11",
         "1",
         "1",
         "2010-04-23 00:00:00",
         "16145.35",
         "False",
         "1207.316015625",
         "13.150838661193848",
         "27.8769",
         "20.7279",
         "12.514",
         "77.7314",
         "10.0733",
         "7.2705",
         "2.053",
         "5.2534",
         "41.6991",
         "31.8061"
        ],
        [
         "12",
         "1",
         "1",
         "2010-04-30 00:00:00",
         "16555.11",
         "False",
         "1196.1179931640625",
         "12.988143157958984",
         "27.6072",
         "22.8709",
         "12.59",
         "76.8944",
         "10.7627",
         "7.4357",
         "2.0751",
         "5.2623",
         "41.7357",
         "31.9214"
        ],
        [
         "13",
         "1",
         "1",
         "2010-05-07 00:00:00",
         "17413.94",
         "False",
         "1156.152001953125",
         "12.946140480041503",
         "25.6541",
         "21.9174",
         "11.936",
         "74.174",
         "10.804",
         "7.5439",
         "2.0696",
         "5.1096",
         "40.9862",
         "30.8177"
        ],
        [
         "14",
         "1",
         "1",
         "2010-05-14 00:00:00",
         "18926.74",
         "False",
         "1156.06201171875",
         "12.694713973999024",
         "25.7038",
         "22.5138",
         "12.346",
         "74.1656",
         "11.0307",
         "7.5012",
         "2.1139",
         "5.3312",
         "41.0362",
         "30.5857"
        ],
        [
         "15",
         "1",
         "1",
         "2010-05-21 00:00:00",
         "14773.04",
         "False",
         "1106.4139892578123",
         "12.72951431274414",
         "24.2301",
         "21.403",
         "12.194",
         "70.5744",
         "10.3493",
         "7.0883",
         "2.0336",
         "5.2005",
         "39.5533",
         "29.9597"
        ],
        [
         "16",
         "1",
         "1",
         "2010-05-28 00:00:00",
         "15580.43",
         "False",
         "1081.62001953125",
         "12.263841819763185",
         "20.7321",
         "20.7124",
         "11.408",
         "69.4387",
         "9.6947",
         "6.9029",
         "1.9285",
         "5.0235",
         "38.3401",
         "29.4293"
        ],
        [
         "17",
         "1",
         "1",
         "2010-06-04 00:00:00",
         "17558.09",
         "False",
         "1084.1999816894531",
         "12.428454160690308",
         "20.1022",
         "20.7964",
         "11.4925",
         "69.1822",
         "9.695",
         "6.9915",
         "1.8918",
         "5.0776",
         "38.0024",
         "29.2885"
        ],
        [
         "18",
         "1",
         "1",
         "2010-06-11 00:00:00",
         "16637.62",
         "False",
         "1069.319970703125",
         "12.36241569519043",
         "19.0222",
         "19.859",
         "11.31",
         "66.4297",
         "9.5533",
         "6.795",
         "1.8427",
         "4.8808",
         "36.6401",
         "28.4307"
        ],
        [
         "19",
         "1",
         "1",
         "2010-06-18 00:00:00",
         "16216.27",
         "False",
         "1110.60400390625",
         "12.470700454711912",
         "19.3755",
         "20.8249",
         "11.986",
         "67.4742",
         "10.2787",
         "6.9573",
         "1.8759",
         "5.2643",
         "38.2098",
         "30.4175"
        ],
        [
         "20",
         "1",
         "1",
         "2010-06-25 00:00:00",
         "16328.72",
         "False",
         "1090.2",
         "12.204601097106934",
         "18.1379",
         "20.1769",
         "12.068",
         "64.7785",
         "9.7493",
         "6.9645",
         "1.9063",
         "5.0246",
         "37.2928",
         "29.0336"
        ],
        [
         "21",
         "1",
         "1",
         "2010-07-02 00:00:00",
         "16333.14",
         "False",
         "1039.2939819335938",
         "11.793799018859865",
         "18.1326",
         "19.3813",
         "12.472",
         "60.8694",
         "9.9267",
         "6.7502",
         "1.7514",
         "5.0198",
         "35.5018",
         "28.5412"
        ],
        [
         "22",
         "1",
         "1",
         "2010-07-09 00:00:00",
         "17688.76",
         "False",
         "1059.135009765625",
         "11.902813196182253",
         "18.2134",
         "19.0642",
         "12.56",
         "61.5796",
         "10.2967",
         "6.3867",
         "1.7604",
         "5.019",
         "36.3675",
         "28.9645"
        ],
        [
         "23",
         "1",
         "1",
         "2010-07-16 00:00:00",
         "17150.84",
         "False",
         "1086.1239990234376",
         "12.192463684082032",
         "19.3791",
         "19.5167",
         "12.61",
         "64.5622",
         "10.504",
         "6.7434",
         "1.9728",
         "5.1865",
         "37.3801",
         "30.1359"
        ],
        [
         "24",
         "1",
         "1",
         "2010-07-23 00:00:00",
         "15360.45",
         "False",
         "1084.1300048828125",
         "12.298804473876952",
         "19.1216",
         "20.65",
         "12.356",
         "64.6315",
         "10.0853",
         "6.8182",
         "1.9257",
         "5.2239",
         "37.8804",
         "30.3726"
        ],
        [
         "25",
         "1",
         "1",
         "2010-07-30 00:00:00",
         "15381.82",
         "False",
         "1107.6219970703123",
         "12.405147171020507",
         "20.3255",
         "21.4319",
         "12.924",
         "69.8369",
         "10.2107",
         "6.9835",
         "1.9589",
         "5.5977",
         "39.793",
         "30.8856"
        ],
        [
         "26",
         "1",
         "1",
         "2010-08-06 00:00:00",
         "17508.41",
         "False",
         "1124.202001953125",
         "12.51391887664795",
         "19.9329",
         "21.9171",
         "12.672",
         "71.8717",
         "9.2907",
         "7.25",
         "1.8953",
         "5.4493",
         "41.1414",
         "31.0418"
        ],
        [
         "27",
         "1",
         "1",
         "2010-08-13 00:00:00",
         "15536.4",
         "False",
         "1100.2360107421875",
         "12.480227851867676",
         "18.3809",
         "21.2284",
         "12.3",
         "71.0267",
         "8.2067",
         "7.1705",
         "1.9617",
         "5.2182",
         "40.5263",
         "29.6515"
        ],
        [
         "28",
         "1",
         "1",
         "2010-08-20 00:00:00",
         "15740.13",
         "False",
         "1082.6800048828125",
         "12.3359037399292",
         "17.7266",
         "20.8296",
         "11.63",
         "69.5614",
         "8.1867",
         "7.0425",
         "1.9534",
         "5.3086",
         "40.5313",
         "29.2164"
        ],
        [
         "29",
         "1",
         "1",
         "2010-08-27 00:00:00",
         "15793.87",
         "False",
         "1057.273974609375",
         "12.50147876739502",
         "18.036",
         "20.095",
         "11.842",
         "67.3491",
         "8.132",
         "7.0353",
         "1.8731",
         "5.2168",
         "39.6597",
         "28.6253"
        ],
        [
         "30",
         "1",
         "1",
         "2010-09-03 00:00:00",
         "16241.78",
         "False",
         "1074.6300048828125",
         "12.488291358947754",
         "18.8468",
         "21.4204",
         "12.498",
         "68.0538",
         "8.1587",
         "7.1619",
         "1.9063",
         "5.252",
         "40.696",
         "29.2806"
        ],
        [
         "31",
         "1",
         "1",
         "2010-09-10 00:00:00",
         "18194.74",
         "True",
         "1101.1100158691406",
         "12.672545433044434",
         "19.9758",
         "22.1456",
         "13.0025",
         "70.6869",
         "8.695",
         "7.3326",
         "2.1547",
         "5.3736",
         "41.7945",
         "29.6104"
        ],
        [
         "32",
         "1",
         "1",
         "2010-09-17 00:00:00",
         "19354.23",
         "False",
         "1123.6639892578123",
         "12.88879108428955",
         "21.0568",
         "22.7781",
         "13.534",
         "71.1968",
         "9.0613",
         "7.1878",
         "2.1969",
         "5.4776",
         "41.606",
         "30.3293"
        ],
        [
         "33",
         "1",
         "1",
         "2010-09-24 00:00:00",
         "18122.52",
         "False",
         "1138.05400390625",
         "13.121766471862792",
         "21.1013",
         "22.902",
         "13.596",
         "70.7026",
         "9.1547",
         "7.1604",
         "2.2218",
         "5.496",
         "41.4859",
         "30.6951"
        ],
        [
         "34",
         "1",
         "1",
         "2010-10-01 00:00:00",
         "20094.19",
         "False",
         "1144.4059814453126",
         "13.06657600402832",
         "21.4409",
         "23.5235",
         "14.242",
         "72.1514",
         "9.7507",
         "7.4488",
         "2.5621",
         "5.4892",
         "41.3695",
         "30.3449"
        ],
        [
         "35",
         "1",
         "1",
         "2010-10-08 00:00:00",
         "23388.03",
         "False",
         "1156.1920166015625",
         "13.231171798706054",
         "21.3342",
         "23.8342",
         "15.004",
         "73.8067",
         "9.6693",
         "7.7422",
         "3.0767",
         "5.3892",
         "41.689",
         "30.4316"
        ],
        [
         "36",
         "1",
         "1",
         "2010-10-15 00:00:00",
         "26978.34",
         "False",
         "1172.63798828125",
         "13.135930061340332",
         "21.8694",
         "24.3484",
         "15.908",
         "75.3418",
         "9.6813",
         "8.0582",
         "3.2483",
         "5.5033",
         "42.339",
         "31.0123"
        ],
        [
         "37",
         "1",
         "1",
         "2010-10-22 00:00:00",
         "25543.04",
         "False",
         "1178.4239990234375",
         "13.120789909362792",
         "22.529",
         "24.8061",
         "16.028",
         "74.9729",
         "9.436",
         "8.1199",
         "3.3451",
         "5.5788",
         "43.0014",
         "31.3365"
        ],
        [
         "38",
         "1",
         "1",
         "2010-10-29 00:00:00",
         "38640.93",
         "False",
         "1184.15",
         "13.217982864379882",
         "22.6286",
         "23.9352",
         "17.736",
         "75.1286",
         "9.3587",
         "8.5644",
         "3.4475",
         "5.8529",
         "42.3093",
         "31.4682"
        ],
        [
         "39",
         "1",
         "1",
         "2010-11-05 00:00:00",
         "34238.88",
         "False",
         "1204.5639892578124",
         "13.410420227050782",
         "23.1423",
         "23.401",
         "19.204",
         "74.4194",
         "9.8413",
         "8.5557",
         "3.6384",
         "6.0408",
         "42.521",
         "31.7959"
        ],
        [
         "40",
         "1",
         "1",
         "2010-11-12 00:00:00",
         "19549.39",
         "False",
         "1213.6219970703123",
         "13.330810356140136",
         "21.9286",
         "23.8797",
         "21.02",
         "74.8459",
         "9.8453",
         "8.3378",
         "3.5886",
         "5.9923",
         "42.634",
         "31.9911"
        ],
        [
         "41",
         "1",
         "1",
         "2010-11-19 00:00:00",
         "19552.84",
         "False",
         "1190.219970703125",
         "13.204309272766114",
         "21.553",
         "23.6863",
         "21.988",
         "73.1202",
         "9.9093",
         "8.2216",
         "3.6937",
         "5.9829",
         "42.3975",
         "31.8264"
        ],
        [
         "42",
         "1",
         "1",
         "2010-11-26 00:00:00",
         "18820.29",
         "True",
         "1191.5799865722656",
         "13.175003051757812",
         "21.9659",
         "23.7055",
         "22.4925",
         "74.0361",
         "10.1567",
         "8.2347",
         "3.2822",
         "6.2545",
         "42.9523",
         "32.2129"
        ],
        [
         "43",
         "1",
         "1",
         "2010-12-03 00:00:00",
         "22517.56",
         "False",
         "1204.1239990234376",
         "13.285385704040529",
         "23.3081",
         "23.4477",
         "22.834",
         "79.1374",
         "10.228",
         "8.4584",
         "3.157",
         "6.3642",
         "44.2687",
         "32.7899"
        ],
        [
         "44",
         "1",
         "1",
         "2010-12-10 00:00:00",
         "31497.65",
         "False",
         "1229.710009765625",
         "13.362656784057616",
         "25.1683",
         "23.8833",
         "23.39",
         "79.1238",
         "10.652",
         "8.8201",
         "3.0297",
         "6.6259",
         "45.0429",
         "34.8144"
        ],
        [
         "45",
         "1",
         "1",
         "2010-12-17 00:00:00",
         "44912.86",
         "False",
         "1240.8119873046876",
         "13.354933547973634",
         "24.6823",
         "24.365",
         "21.102",
         "79.2069",
         "10.624",
         "9.1818",
         "3.0989",
         "6.5478",
         "45.4318",
         "34.5657"
        ],
        [
         "46",
         "1",
         "1",
         "2010-12-24 00:00:00",
         "55931.23",
         "False",
         "1254.3224792480469",
         "13.15762734413147",
         "23.9307",
         "24.9387",
         "20.635",
         "79.159",
         "10.7883",
         "9.3779",
         "3.1853",
         "6.7376",
         "45.3785",
         "35.0674"
        ],
        [
         "47",
         "1",
         "1",
         "2010-12-31 00:00:00",
         "19124.58",
         "True",
         "1258.27001953125",
         "13.230185317993165",
         "24.1768",
         "25.2438",
         "20.494",
         "78.7832",
         "10.9973",
         "9.2736",
         "3.2815",
         "6.8223",
         "45.3221",
         "35.3501"
        ],
        [
         "48",
         "1",
         "1",
         "2011-01-07 00:00:00",
         "15984.24",
         "False",
         "1272.79599609375",
         "13.347564888000488",
         "24.1287",
         "24.9222",
         "22.176",
         "79.0561",
         "10.736",
         "9.5079",
         "3.619",
         "6.9819",
         "45.2872",
         "36.0927"
        ],
        [
         "49",
         "1",
         "1",
         "2011-01-14 00:00:00",
         "17359.7",
         "False",
         "1281.43798828125",
         "13.381450271606443",
         "23.082",
         "25.3947",
         "24.512",
         "80.3103",
         "10.3867",
         "9.7509",
         "3.6854",
         "7.0355",
         "44.9494",
         "36.4788"
        ]
       ],
       "shape": {
        "columns": 17,
        "rows": 421570
       }
      },
      "text/html": [
       "<div>\n",
       "<style scoped>\n",
       "    .dataframe tbody tr th:only-of-type {\n",
       "        vertical-align: middle;\n",
       "    }\n",
       "\n",
       "    .dataframe tbody tr th {\n",
       "        vertical-align: top;\n",
       "    }\n",
       "\n",
       "    .dataframe thead th {\n",
       "        text-align: right;\n",
       "    }\n",
       "</style>\n",
       "<table border=\"1\" class=\"dataframe\">\n",
       "  <thead>\n",
       "    <tr style=\"text-align: right;\">\n",
       "      <th></th>\n",
       "      <th>Store</th>\n",
       "      <th>Dept</th>\n",
       "      <th>Date</th>\n",
       "      <th>Weekly_Sales</th>\n",
       "      <th>IsHoliday</th>\n",
       "      <th>SPX_Weekly_Mean_Close</th>\n",
       "      <th>WMT_Weekly_Mean_Close</th>\n",
       "      <th>ARCB_df_logistics_Close</th>\n",
       "      <th>AIT_df_logistics_Close</th>\n",
       "      <th>CEVA_df_logistics_Close</th>\n",
       "      <th>FDX_df_logistics_Close</th>\n",
       "      <th>SAIA_df_logistics_Close</th>\n",
       "      <th>TFII.TO_df_logistics_Close</th>\n",
       "      <th>XPO_df_logistics_Close</th>\n",
       "      <th>ODFL_df_logistics_Close</th>\n",
       "      <th>UPS_df_logistics_Close</th>\n",
       "      <th>JBHT_df_logistics_Close</th>\n",
       "    </tr>\n",
       "  </thead>\n",
       "  <tbody>\n",
       "    <tr>\n",
       "      <th>0</th>\n",
       "      <td>1</td>\n",
       "      <td>1</td>\n",
       "      <td>2010-02-05</td>\n",
       "      <td>24924.50</td>\n",
       "      <td>False</td>\n",
       "      <td>1083.817969</td>\n",
       "      <td>12.849577</td>\n",
       "      <td>19.7749</td>\n",
       "      <td>16.3716</td>\n",
       "      <td>11.386</td>\n",
       "      <td>67.5286</td>\n",
       "      <td>8.1133</td>\n",
       "      <td>5.9522</td>\n",
       "      <td>1.7320</td>\n",
       "      <td>4.0012</td>\n",
       "      <td>35.1546</td>\n",
       "      <td>26.3251</td>\n",
       "    </tr>\n",
       "    <tr>\n",
       "      <th>1</th>\n",
       "      <td>1</td>\n",
       "      <td>1</td>\n",
       "      <td>2010-02-12</td>\n",
       "      <td>46039.49</td>\n",
       "      <td>True</td>\n",
       "      <td>1069.873999</td>\n",
       "      <td>12.741080</td>\n",
       "      <td>19.9706</td>\n",
       "      <td>16.2364</td>\n",
       "      <td>11.006</td>\n",
       "      <td>66.1162</td>\n",
       "      <td>8.1400</td>\n",
       "      <td>5.7845</td>\n",
       "      <td>1.7154</td>\n",
       "      <td>4.0306</td>\n",
       "      <td>34.4932</td>\n",
       "      <td>26.7885</td>\n",
       "    </tr>\n",
       "    <tr>\n",
       "      <th>2</th>\n",
       "      <td>1</td>\n",
       "      <td>1</td>\n",
       "      <td>2010-02-19</td>\n",
       "      <td>41595.55</td>\n",
       "      <td>False</td>\n",
       "      <td>1102.575012</td>\n",
       "      <td>12.876699</td>\n",
       "      <td>21.8988</td>\n",
       "      <td>16.8577</td>\n",
       "      <td>11.700</td>\n",
       "      <td>67.7903</td>\n",
       "      <td>7.6600</td>\n",
       "      <td>5.8391</td>\n",
       "      <td>1.8538</td>\n",
       "      <td>4.1189</td>\n",
       "      <td>35.0687</td>\n",
       "      <td>27.9924</td>\n",
       "    </tr>\n",
       "    <tr>\n",
       "      <th>3</th>\n",
       "      <td>1</td>\n",
       "      <td>1</td>\n",
       "      <td>2010-02-26</td>\n",
       "      <td>19403.54</td>\n",
       "      <td>False</td>\n",
       "      <td>1103.055981</td>\n",
       "      <td>12.942228</td>\n",
       "      <td>22.6758</td>\n",
       "      <td>17.1335</td>\n",
       "      <td>11.864</td>\n",
       "      <td>69.9236</td>\n",
       "      <td>8.0707</td>\n",
       "      <td>6.2608</td>\n",
       "      <td>1.9285</td>\n",
       "      <td>4.3097</td>\n",
       "      <td>35.6784</td>\n",
       "      <td>29.4901</td>\n",
       "    </tr>\n",
       "    <tr>\n",
       "      <th>4</th>\n",
       "      <td>1</td>\n",
       "      <td>1</td>\n",
       "      <td>2010-03-05</td>\n",
       "      <td>21827.90</td>\n",
       "      <td>False</td>\n",
       "      <td>1122.895996</td>\n",
       "      <td>12.925909</td>\n",
       "      <td>23.9654</td>\n",
       "      <td>17.7752</td>\n",
       "      <td>12.288</td>\n",
       "      <td>72.5866</td>\n",
       "      <td>8.4240</td>\n",
       "      <td>6.8441</td>\n",
       "      <td>1.9368</td>\n",
       "      <td>4.3818</td>\n",
       "      <td>36.1191</td>\n",
       "      <td>29.9464</td>\n",
       "    </tr>\n",
       "    <tr>\n",
       "      <th>...</th>\n",
       "      <td>...</td>\n",
       "      <td>...</td>\n",
       "      <td>...</td>\n",
       "      <td>...</td>\n",
       "      <td>...</td>\n",
       "      <td>...</td>\n",
       "      <td>...</td>\n",
       "      <td>...</td>\n",
       "      <td>...</td>\n",
       "      <td>...</td>\n",
       "      <td>...</td>\n",
       "      <td>...</td>\n",
       "      <td>...</td>\n",
       "      <td>...</td>\n",
       "      <td>...</td>\n",
       "      <td>...</td>\n",
       "      <td>...</td>\n",
       "    </tr>\n",
       "    <tr>\n",
       "      <th>421565</th>\n",
       "      <td>45</td>\n",
       "      <td>98</td>\n",
       "      <td>2012-09-28</td>\n",
       "      <td>508.37</td>\n",
       "      <td>False</td>\n",
       "      <td>1443.923999</td>\n",
       "      <td>19.073621</td>\n",
       "      <td>7.1706</td>\n",
       "      <td>33.7323</td>\n",
       "      <td>14.684</td>\n",
       "      <td>72.7305</td>\n",
       "      <td>13.5920</td>\n",
       "      <td>13.5184</td>\n",
       "      <td>4.2125</td>\n",
       "      <td>9.6705</td>\n",
       "      <td>47.1874</td>\n",
       "      <td>46.1906</td>\n",
       "    </tr>\n",
       "    <tr>\n",
       "      <th>421566</th>\n",
       "      <td>45</td>\n",
       "      <td>98</td>\n",
       "      <td>2012-10-05</td>\n",
       "      <td>628.10</td>\n",
       "      <td>False</td>\n",
       "      <td>1452.712012</td>\n",
       "      <td>19.118869</td>\n",
       "      <td>6.9492</td>\n",
       "      <td>33.4393</td>\n",
       "      <td>13.892</td>\n",
       "      <td>73.3577</td>\n",
       "      <td>13.8053</td>\n",
       "      <td>13.6795</td>\n",
       "      <td>4.2215</td>\n",
       "      <td>9.4961</td>\n",
       "      <td>47.7151</td>\n",
       "      <td>47.3806</td>\n",
       "    </tr>\n",
       "    <tr>\n",
       "      <th>421567</th>\n",
       "      <td>45</td>\n",
       "      <td>98</td>\n",
       "      <td>2012-10-12</td>\n",
       "      <td>1061.02</td>\n",
       "      <td>False</td>\n",
       "      <td>1438.269995</td>\n",
       "      <td>19.313219</td>\n",
       "      <td>7.3217</td>\n",
       "      <td>32.9701</td>\n",
       "      <td>13.610</td>\n",
       "      <td>75.7907</td>\n",
       "      <td>13.8760</td>\n",
       "      <td>13.5060</td>\n",
       "      <td>4.1440</td>\n",
       "      <td>9.4916</td>\n",
       "      <td>47.7099</td>\n",
       "      <td>49.2570</td>\n",
       "    </tr>\n",
       "    <tr>\n",
       "      <th>421568</th>\n",
       "      <td>45</td>\n",
       "      <td>98</td>\n",
       "      <td>2012-10-19</td>\n",
       "      <td>760.01</td>\n",
       "      <td>False</td>\n",
       "      <td>1449.297998</td>\n",
       "      <td>19.706032</td>\n",
       "      <td>7.2911</td>\n",
       "      <td>32.7124</td>\n",
       "      <td>14.746</td>\n",
       "      <td>79.0085</td>\n",
       "      <td>14.3053</td>\n",
       "      <td>13.6934</td>\n",
       "      <td>4.3412</td>\n",
       "      <td>9.8127</td>\n",
       "      <td>47.9002</td>\n",
       "      <td>51.6494</td>\n",
       "    </tr>\n",
       "    <tr>\n",
       "      <th>421569</th>\n",
       "      <td>45</td>\n",
       "      <td>98</td>\n",
       "      <td>2012-10-26</td>\n",
       "      <td>1076.80</td>\n",
       "      <td>False</td>\n",
       "      <td>1416.117969</td>\n",
       "      <td>19.314762</td>\n",
       "      <td>6.9204</td>\n",
       "      <td>31.1912</td>\n",
       "      <td>14.826</td>\n",
       "      <td>78.1158</td>\n",
       "      <td>14.3333</td>\n",
       "      <td>13.5230</td>\n",
       "      <td>4.3681</td>\n",
       "      <td>10.0276</td>\n",
       "      <td>47.8648</td>\n",
       "      <td>50.8053</td>\n",
       "    </tr>\n",
       "  </tbody>\n",
       "</table>\n",
       "<p>421570 rows × 17 columns</p>\n",
       "</div>"
      ],
      "text/plain": [
       "       Store  Dept       Date  Weekly_Sales  IsHoliday  SPX_Weekly_Mean_Close  \\\n",
       "0          1     1 2010-02-05      24924.50      False            1083.817969   \n",
       "1          1     1 2010-02-12      46039.49       True            1069.873999   \n",
       "2          1     1 2010-02-19      41595.55      False            1102.575012   \n",
       "3          1     1 2010-02-26      19403.54      False            1103.055981   \n",
       "4          1     1 2010-03-05      21827.90      False            1122.895996   \n",
       "...      ...   ...        ...           ...        ...                    ...   \n",
       "421565    45    98 2012-09-28        508.37      False            1443.923999   \n",
       "421566    45    98 2012-10-05        628.10      False            1452.712012   \n",
       "421567    45    98 2012-10-12       1061.02      False            1438.269995   \n",
       "421568    45    98 2012-10-19        760.01      False            1449.297998   \n",
       "421569    45    98 2012-10-26       1076.80      False            1416.117969   \n",
       "\n",
       "        WMT_Weekly_Mean_Close  ARCB_df_logistics_Close  \\\n",
       "0                   12.849577                  19.7749   \n",
       "1                   12.741080                  19.9706   \n",
       "2                   12.876699                  21.8988   \n",
       "3                   12.942228                  22.6758   \n",
       "4                   12.925909                  23.9654   \n",
       "...                       ...                      ...   \n",
       "421565              19.073621                   7.1706   \n",
       "421566              19.118869                   6.9492   \n",
       "421567              19.313219                   7.3217   \n",
       "421568              19.706032                   7.2911   \n",
       "421569              19.314762                   6.9204   \n",
       "\n",
       "        AIT_df_logistics_Close  CEVA_df_logistics_Close  \\\n",
       "0                      16.3716                   11.386   \n",
       "1                      16.2364                   11.006   \n",
       "2                      16.8577                   11.700   \n",
       "3                      17.1335                   11.864   \n",
       "4                      17.7752                   12.288   \n",
       "...                        ...                      ...   \n",
       "421565                 33.7323                   14.684   \n",
       "421566                 33.4393                   13.892   \n",
       "421567                 32.9701                   13.610   \n",
       "421568                 32.7124                   14.746   \n",
       "421569                 31.1912                   14.826   \n",
       "\n",
       "        FDX_df_logistics_Close  SAIA_df_logistics_Close  \\\n",
       "0                      67.5286                   8.1133   \n",
       "1                      66.1162                   8.1400   \n",
       "2                      67.7903                   7.6600   \n",
       "3                      69.9236                   8.0707   \n",
       "4                      72.5866                   8.4240   \n",
       "...                        ...                      ...   \n",
       "421565                 72.7305                  13.5920   \n",
       "421566                 73.3577                  13.8053   \n",
       "421567                 75.7907                  13.8760   \n",
       "421568                 79.0085                  14.3053   \n",
       "421569                 78.1158                  14.3333   \n",
       "\n",
       "        TFII.TO_df_logistics_Close  XPO_df_logistics_Close  \\\n",
       "0                           5.9522                  1.7320   \n",
       "1                           5.7845                  1.7154   \n",
       "2                           5.8391                  1.8538   \n",
       "3                           6.2608                  1.9285   \n",
       "4                           6.8441                  1.9368   \n",
       "...                            ...                     ...   \n",
       "421565                     13.5184                  4.2125   \n",
       "421566                     13.6795                  4.2215   \n",
       "421567                     13.5060                  4.1440   \n",
       "421568                     13.6934                  4.3412   \n",
       "421569                     13.5230                  4.3681   \n",
       "\n",
       "        ODFL_df_logistics_Close  UPS_df_logistics_Close  \\\n",
       "0                        4.0012                 35.1546   \n",
       "1                        4.0306                 34.4932   \n",
       "2                        4.1189                 35.0687   \n",
       "3                        4.3097                 35.6784   \n",
       "4                        4.3818                 36.1191   \n",
       "...                         ...                     ...   \n",
       "421565                   9.6705                 47.1874   \n",
       "421566                   9.4961                 47.7151   \n",
       "421567                   9.4916                 47.7099   \n",
       "421568                   9.8127                 47.9002   \n",
       "421569                  10.0276                 47.8648   \n",
       "\n",
       "        JBHT_df_logistics_Close  \n",
       "0                       26.3251  \n",
       "1                       26.7885  \n",
       "2                       27.9924  \n",
       "3                       29.4901  \n",
       "4                       29.9464  \n",
       "...                         ...  \n",
       "421565                  46.1906  \n",
       "421566                  47.3806  \n",
       "421567                  49.2570  \n",
       "421568                  51.6494  \n",
       "421569                  50.8053  \n",
       "\n",
       "[421570 rows x 17 columns]"
      ]
     },
     "execution_count": 62,
     "metadata": {},
     "output_type": "execute_result"
    }
   ],
   "source": [
    "df_wm_train"
   ]
  },
  {
   "cell_type": "markdown",
   "id": "8d77e1d3",
   "metadata": {},
   "source": [
    "###"
   ]
  },
  {
   "cell_type": "markdown",
   "id": "9998a599",
   "metadata": {},
   "source": [
    "## Data Transformation"
   ]
  },
  {
   "cell_type": "markdown",
   "id": "d22e9305",
   "metadata": {},
   "source": []
  },
  {
   "cell_type": "code",
   "execution_count": null,
   "id": "5d33fc7e",
   "metadata": {},
   "outputs": [],
   "source": []
  }
 ],
 "metadata": {
  "kernelspec": {
   "display_name": "base",
   "language": "python",
   "name": "python3"
  },
  "language_info": {
   "codemirror_mode": {
    "name": "ipython",
    "version": 3
   },
   "file_extension": ".py",
   "mimetype": "text/x-python",
   "name": "python",
   "nbconvert_exporter": "python",
   "pygments_lexer": "ipython3",
   "version": "3.12.3"
  }
 },
 "nbformat": 4,
 "nbformat_minor": 5
}
