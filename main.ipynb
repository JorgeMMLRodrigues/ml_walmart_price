{
 "cells": [
  {
   "cell_type": "markdown",
   "id": "6100c02c",
   "metadata": {},
   "source": [
    "<a href=\"https://www.kaggle.com/code/jorgemmlrodrigues/walmart-price-pred?scriptVersionId=247661249\" target=\"_blank\"><img align=\"left\" alt=\"Kaggle\" title=\"Open in Kaggle\" src=\"https://kaggle.com/static/images/open-in-kaggle.svg\"></a>"
   ]
  },
  {
   "cell_type": "code",
   "execution_count": null,
   "id": "6701bea9",
   "metadata": {
    "execution": {
     "iopub.execute_input": "2025-06-27T02:01:35.466416Z",
     "iopub.status.busy": "2025-06-27T02:01:35.466122Z",
     "iopub.status.idle": "2025-06-27T02:01:44.183096Z",
     "shell.execute_reply": "2025-06-27T02:01:44.182411Z",
     "shell.execute_reply.started": "2025-06-27T02:01:35.466392Z"
    },
    "trusted": true
   },
   "outputs": [],
   "source": [
    "\n",
    "#Kaggle\n",
    "!git -C /kaggle/working clone --depth 1 https://github.com/JorgeMMLRodrigues/ml_walmart_price.git || \\\n",
    " git -C /kaggle/working/ml_walmart_price pull    \n",
    "!pip install -q -r /kaggle/working/ml_walmart_price/requirements.txt\n",
    "\n",
    "import sys, os\n",
    "os.chdir(\"/kaggle/working/ml_walmart_price\")\n",
    "sys.path.insert(0, os.getcwd())"
   ]
  },
  {
   "cell_type": "code",
   "execution_count": 2,
   "id": "295d466e-5ee6-4c6d-ba0e-e5007bdbc98d",
   "metadata": {
    "execution": {
     "iopub.execute_input": "2025-06-27T02:01:45.752693Z",
     "iopub.status.busy": "2025-06-27T02:01:45.751766Z",
     "iopub.status.idle": "2025-06-27T02:01:52.517537Z",
     "shell.execute_reply": "2025-06-27T02:01:52.516853Z",
     "shell.execute_reply.started": "2025-06-27T02:01:45.752644Z"
    },
    "trusted": true
   },
   "outputs": [
    {
     "name": "stderr",
     "output_type": "stream",
     "text": [
      "c:\\Users\\estif\\Desktop\\DataAnalyst\\_DataCourse_IronHack\\Quests\\ml_walmart_price\\venv\\lib\\site-packages\\tqdm\\auto.py:21: TqdmWarning: IProgress not found. Please update jupyter and ipywidgets. See https://ipywidgets.readthedocs.io/en/stable/user_install.html\n",
      "  from .autonotebook import tqdm as notebook_tqdm\n"
     ]
    }
   ],
   "source": [
    "import sys, os\n",
    "from utils.trainer import ModelTrainer\n",
    "\n",
    "import pandas as pd\n",
    "import numpy as np\n",
    "from dotenv import load_dotenv\n",
    "import random, time, inspect,time,json,os,requests,sys, math\n",
    "from pathlib import Path\n",
    "\n",
    "from datetime import date, datetime, timedelta\n",
    "from dateutil.easter import easter\n",
    "\n",
    "from tqdm.notebook import tqdm\n",
    "\n",
    "\n",
    "import matplotlib.pyplot as plt\n",
    "import matplotlib.dates as mdates\n",
    "import seaborn as sns\n",
    "\n",
    "import yfinance as yf\n",
    "\n",
    "import akshare as ak\n",
    "\n",
    "from pandas_datareader.data import DataReader\n",
    "from pandas_datareader import wb\n",
    "\n",
    "from statsmodels.stats.outliers_influence import variance_inflation_factor\n",
    "from sklearn.metrics import mean_absolute_error, mean_squared_error, r2_score, accuracy_score, f1_score, roc_auc_score\n",
    "\n",
    "from sklearn.pipeline import Pipeline\n",
    "from sklearn.preprocessing import StandardScaler,RobustScaler\n",
    "from sklearn.linear_model import RidgeCV, Lasso,ElasticNetCV\n",
    "from sklearn.model_selection import TimeSeriesSplit,ParameterGrid,GridSearchCV\n",
    "import lightgbm as lgb\n",
    "\n",
    "from sklearn.inspection import PartialDependenceDisplay,permutation_importance\n",
    "from sklearn.ensemble import RandomForestRegressor\n",
    "from xgboost import XGBRegressor\n",
    "from catboost import CatBoostRegressor\n"
   ]
  },
  {
   "cell_type": "code",
   "execution_count": 3,
   "id": "e83caba5",
   "metadata": {
    "execution": {
     "iopub.status.busy": "2025-06-26T22:10:14.064462Z",
     "iopub.status.idle": "2025-06-26T22:10:14.06474Z",
     "shell.execute_reply": "2025-06-26T22:10:14.06463Z",
     "shell.execute_reply.started": "2025-06-26T22:10:14.064618Z"
    },
    "trusted": true
   },
   "outputs": [],
   "source": [
    "# skip cells:\n",
    "from IPython.core.magic import register_cell_magic\n",
    "\n",
    "@register_cell_magic\n",
    "def skip(line, cell):\n",
    "\n",
    "    return"
   ]
  },
  {
   "cell_type": "markdown",
   "id": "b6ecb136",
   "metadata": {},
   "source": [
    "# Data"
   ]
  },
  {
   "cell_type": "markdown",
   "id": "73590342",
   "metadata": {},
   "source": [
    "## Data Exploration"
   ]
  },
  {
   "cell_type": "code",
   "execution_count": 4,
   "id": "aca79ac9",
   "metadata": {
    "execution": {
     "iopub.status.busy": "2025-06-26T22:10:14.066252Z",
     "iopub.status.idle": "2025-06-26T22:10:14.0666Z",
     "shell.execute_reply": "2025-06-26T22:10:14.066478Z",
     "shell.execute_reply.started": "2025-06-26T22:10:14.066461Z"
    },
    "trusted": true
   },
   "outputs": [],
   "source": [
    "%%skip\n",
    "df_walmart_train = pd.read_csv('csv_files/walmart_data/train.csv')\n",
    "df_walmart_test = pd.read_csv('csv_files/walmart_data/test.csv')\n",
    "df_walmart_features = pd.read_csv('csv_files/walmart_data/features.csv')\n",
    "df_walmart_stores = pd.read_csv('csv_files/walmart_data/stores.csv')\n",
    "\n",
    "df_walmart_train[\"Date\"] = pd.to_datetime(df_walmart_train[\"Date\"], errors=\"raise\")\n",
    "df_walmart_test[\"Date\"] = pd.to_datetime(df_walmart_test[\"Date\"], errors=\"raise\")\n",
    "df_walmart_features[\"Date\"] = pd.to_datetime(df_walmart_features[\"Date\"], errors=\"raise\")"
   ]
  },
  {
   "cell_type": "code",
   "execution_count": 5,
   "id": "5231e068",
   "metadata": {
    "execution": {
     "iopub.status.busy": "2025-06-26T22:10:14.068037Z",
     "iopub.status.idle": "2025-06-26T22:10:14.068349Z",
     "shell.execute_reply": "2025-06-26T22:10:14.068213Z",
     "shell.execute_reply.started": "2025-06-26T22:10:14.068195Z"
    },
    "trusted": true
   },
   "outputs": [],
   "source": [
    "%%skip\n",
    "df_walmart_train"
   ]
  },
  {
   "cell_type": "code",
   "execution_count": 6,
   "id": "a576dec3",
   "metadata": {
    "execution": {
     "iopub.status.busy": "2025-06-26T22:10:14.069739Z",
     "iopub.status.idle": "2025-06-26T22:10:14.070061Z",
     "shell.execute_reply": "2025-06-26T22:10:14.069932Z",
     "shell.execute_reply.started": "2025-06-26T22:10:14.069918Z"
    },
    "trusted": true
   },
   "outputs": [],
   "source": [
    "%%skip\n",
    "df_walmart_test"
   ]
  },
  {
   "cell_type": "code",
   "execution_count": 7,
   "id": "9fd3115b",
   "metadata": {
    "execution": {
     "iopub.status.busy": "2025-06-26T22:10:14.071027Z",
     "iopub.status.idle": "2025-06-26T22:10:14.071324Z",
     "shell.execute_reply": "2025-06-26T22:10:14.07119Z",
     "shell.execute_reply.started": "2025-06-26T22:10:14.071174Z"
    },
    "trusted": true
   },
   "outputs": [],
   "source": [
    "%%skip\n",
    "df_walmart_features\n"
   ]
  },
  {
   "cell_type": "markdown",
   "id": "ea6bce62",
   "metadata": {},
   "source": [
    "## Data Gathering"
   ]
  },
  {
   "cell_type": "markdown",
   "id": "d4045cd2",
   "metadata": {},
   "source": [
    "#### Sp500"
   ]
  },
  {
   "cell_type": "code",
   "execution_count": 8,
   "id": "a568aad2",
   "metadata": {
    "execution": {
     "iopub.status.busy": "2025-06-26T22:10:14.072069Z",
     "iopub.status.idle": "2025-06-26T22:10:14.072323Z",
     "shell.execute_reply": "2025-06-26T22:10:14.072214Z",
     "shell.execute_reply.started": "2025-06-26T22:10:14.072202Z"
    },
    "trusted": true
   },
   "outputs": [],
   "source": [
    "%%skip\n",
    "# SP500 Index\n",
    "START_DATE = \"2000-01-01\"\n",
    "END_DATE   = date.today().isoformat()\n",
    "\n",
    "\n",
    "daily = yf.download(\n",
    "    \"^GSPC\",           # S&P 500 index ticker\n",
    "    start=START_DATE,\n",
    "    end=END_DATE,\n",
    "    interval=\"1d\",\n",
    "    auto_adjust=True,\n",
    "    progress=False,\n",
    ")\n",
    "\n",
    "if isinstance(daily.columns, pd.MultiIndex):\n",
    "    lvl0 = daily.columns.get_level_values(0)\n",
    "    if \"Close\" in lvl0:\n",
    "        close_prices = daily.xs(\"Close\", axis=1, level=0)\n",
    "    elif \"Adj Close\" in lvl0:\n",
    "        close_prices = daily.xs(\"Adj Close\", axis=1, level=0)\n",
    "    else:\n",
    "        raise KeyError(\"Neither 'Close' nor 'Adj Close' found in data\")\n",
    "else:\n",
    "    if \"Close\" in daily.columns:\n",
    "        close_prices = daily[\"Close\"]\n",
    "    else:\n",
    "        close_prices = daily[\"Adj Close\"]\n",
    "\n",
    "\n",
    "weekly_mean_close = close_prices.resample(\"W-FRI\").mean()\n",
    "\n",
    "if isinstance(weekly_mean_close, pd.Series):\n",
    "    df_sp500 = weekly_mean_close.to_frame(name=\"SPX_Weekly_Mean_Close\")\n",
    "else:\n",
    "    df_sp500 = weekly_mean_close.copy()\n",
    "    df_sp500.columns = [\"SPX_Weekly_Mean_Close\"]\n",
    "\n",
    "\n",
    "OUTFILE = \"csv_files/idea_csv/sp500_weekly_mean_close.csv\"\n",
    "df_sp500.to_csv(OUTFILE)\n",
    "\n"
   ]
  },
  {
   "cell_type": "code",
   "execution_count": 9,
   "id": "6cf15d9d",
   "metadata": {
    "execution": {
     "iopub.status.busy": "2025-06-26T22:10:14.073094Z",
     "iopub.status.idle": "2025-06-26T22:10:14.073328Z",
     "shell.execute_reply": "2025-06-26T22:10:14.073231Z",
     "shell.execute_reply.started": "2025-06-26T22:10:14.073214Z"
    },
    "trusted": true
   },
   "outputs": [],
   "source": [
    "%%skip\n",
    "df_sp500 = pd.read_csv(\"csv_files/idea_csv/sp500_weekly_mean_close.csv\")\n",
    "df_sp500"
   ]
  },
  {
   "cell_type": "markdown",
   "id": "adb5f51d",
   "metadata": {},
   "source": [
    "#### Walmart Stock Price"
   ]
  },
  {
   "cell_type": "code",
   "execution_count": 10,
   "id": "f2f4ab5a",
   "metadata": {
    "execution": {
     "iopub.status.busy": "2025-06-26T22:10:14.074871Z",
     "iopub.status.idle": "2025-06-26T22:10:14.075144Z",
     "shell.execute_reply": "2025-06-26T22:10:14.075037Z",
     "shell.execute_reply.started": "2025-06-26T22:10:14.075024Z"
    },
    "trusted": true
   },
   "outputs": [],
   "source": [
    "%%skip\n",
    "START_DATE = \"2000-01-01\"\n",
    "END_DATE   = date.today().isoformat()\n",
    "\n",
    "\n",
    "daily = yf.download(\n",
    "    \"WMT\",           \n",
    "    start=START_DATE,\n",
    "    end=END_DATE,\n",
    "    interval=\"1d\",\n",
    "    auto_adjust=True, \n",
    "    progress=False,\n",
    ")\n",
    "\n",
    "\n",
    "if isinstance(daily.columns, pd.MultiIndex):\n",
    "    lvl0 = daily.columns.get_level_values(0)\n",
    "    if \"Close\" in lvl0:\n",
    "        close_prices = daily.xs(\"Close\", axis=1, level=0)\n",
    "    elif \"Adj Close\" in lvl0:\n",
    "        close_prices = daily.xs(\"Adj Close\", axis=1, level=0)\n",
    "    else:\n",
    "        raise KeyError(\"Neither 'Close' nor 'Adj Close' found in data\")\n",
    "else:\n",
    "    if \"Close\" in daily.columns:\n",
    "        close_prices = daily[\"Close\"]\n",
    "    else:\n",
    "        close_prices = daily[\"Adj Close\"]\n",
    "\n",
    "\n",
    "weekly_mean_close = close_prices.resample(\"W-FRI\").mean()\n",
    "\n",
    "\n",
    "if isinstance(weekly_mean_close, pd.Series):\n",
    "    df_walmart_stock = weekly_mean_close.to_frame(name=\"WMT_Weekly_Mean_Close\")\n",
    "else:\n",
    "    df_walmart_stock = weekly_mean_close.copy()\n",
    "    df_walmart_stock.columns = [\"WMT_Weekly_Mean_Close\"]\n",
    "\n",
    "\n",
    "OUTFILE = \"csv_files/idea_csv/wmt_weekly_mean_close.csv\"\n",
    "df_walmart_stock.to_csv(OUTFILE)\n",
    "\n"
   ]
  },
  {
   "cell_type": "code",
   "execution_count": 11,
   "id": "00c9a073",
   "metadata": {
    "execution": {
     "iopub.status.busy": "2025-06-26T22:10:14.076035Z",
     "iopub.status.idle": "2025-06-26T22:10:14.07631Z",
     "shell.execute_reply": "2025-06-26T22:10:14.076201Z",
     "shell.execute_reply.started": "2025-06-26T22:10:14.076189Z"
    },
    "trusted": true
   },
   "outputs": [
    {
     "data": {
      "application/vnd.microsoft.datawrangler.viewer.v0+json": {
       "columns": [
        {
         "name": "index",
         "rawType": "int64",
         "type": "integer"
        },
        {
         "name": "Date",
         "rawType": "object",
         "type": "string"
        },
        {
         "name": "WMT_Weekly_Mean_Close",
         "rawType": "float64",
         "type": "float"
        }
       ],
       "ref": "18f28506-b903-469a-9bf3-205032ea1092",
       "rows": [
        [
         "0",
         "2000-01-07",
         "13.94176368713379"
        ],
        [
         "1",
         "2000-01-14",
         "14.02186985015869"
        ],
        [
         "2",
         "2000-01-21",
         "13.642019987106323"
        ],
        [
         "3",
         "2000-01-28",
         "12.676026916503906"
        ],
        [
         "4",
         "2000-02-04",
         "12.240765380859376"
        ],
        [
         "5",
         "2000-02-11",
         "12.224746131896971"
        ],
        [
         "6",
         "2000-02-18",
         "11.354220199584962"
        ],
        [
         "7",
         "2000-02-25",
         "10.013715744018556"
        ],
        [
         "8",
         "2000-03-03",
         "10.558463668823242"
        ],
        [
         "9",
         "2000-03-10",
         "10.392900466918944"
        ],
        [
         "10",
         "2000-03-17",
         "11.002425384521484"
        ],
        [
         "11",
         "2000-03-24",
         "11.833722686767578"
        ],
        [
         "12",
         "2000-03-31",
         "12.157240867614746"
        ],
        [
         "13",
         "2000-04-07",
         "12.921914100646973"
        ],
        [
         "14",
         "2000-04-14",
         "13.023511695861815"
        ],
        [
         "15",
         "2000-04-21",
         "11.790943145751951"
        ],
        [
         "16",
         "2000-04-28",
         "12.421935081481934"
        ],
        [
         "17",
         "2000-05-05",
         "11.606459426879884"
        ],
        [
         "18",
         "2000-05-12",
         "11.758860969543456"
        ],
        [
         "19",
         "2000-05-19",
         "12.250819206237791"
        ],
        [
         "20",
         "2000-05-26",
         "11.996819114685058"
        ],
        [
         "21",
         "2000-06-02",
         "12.141867399215698"
        ],
        [
         "22",
         "2000-06-09",
         "12.24814453125"
        ],
        [
         "23",
         "2000-06-16",
         "11.654248237609863"
        ],
        [
         "24",
         "2000-06-23",
         "11.52277603149414"
        ],
        [
         "25",
         "2000-06-30",
         "11.9182466506958"
        ],
        [
         "26",
         "2000-07-07",
         "12.469626188278198"
        ],
        [
         "27",
         "2000-07-14",
         "12.970820426940918"
        ],
        [
         "28",
         "2000-07-21",
         "12.867769050598143"
        ],
        [
         "29",
         "2000-07-28",
         "12.596093559265135"
        ],
        [
         "30",
         "2000-08-04",
         "11.589694404602051"
        ],
        [
         "31",
         "2000-08-11",
         "11.54151496887207"
        ],
        [
         "32",
         "2000-08-18",
         "10.93124942779541"
        ],
        [
         "33",
         "2000-08-25",
         "10.585966110229492"
        ],
        [
         "34",
         "2000-09-01",
         "10.438753700256347"
        ],
        [
         "35",
         "2000-09-08",
         "10.860318422317505"
        ],
        [
         "36",
         "2000-09-15",
         "11.431287956237792"
        ],
        [
         "37",
         "2000-09-22",
         "10.71832275390625"
        ],
        [
         "38",
         "2000-09-29",
         "10.34050350189209"
        ],
        [
         "39",
         "2000-10-06",
         "9.850139999389649"
        ],
        [
         "40",
         "2000-10-13",
         "9.686683082580569"
        ],
        [
         "41",
         "2000-10-20",
         "10.05110912322998"
        ],
        [
         "42",
         "2000-10-27",
         "9.788508224487304"
        ],
        [
         "43",
         "2000-11-03",
         "9.930525970458984"
        ],
        [
         "44",
         "2000-11-10",
         "10.1824068069458"
        ],
        [
         "45",
         "2000-11-17",
         "10.203843116760254"
        ],
        [
         "46",
         "2000-11-24",
         "9.971389055252075"
        ],
        [
         "47",
         "2000-12-01",
         "10.871059799194336"
        ],
        [
         "48",
         "2000-12-08",
         "11.717806625366212"
        ],
        [
         "49",
         "2000-12-15",
         "10.911254501342771"
        ]
       ],
       "shape": {
        "columns": 2,
        "rows": 1329
       }
      },
      "text/html": [
       "<div>\n",
       "<style scoped>\n",
       "    .dataframe tbody tr th:only-of-type {\n",
       "        vertical-align: middle;\n",
       "    }\n",
       "\n",
       "    .dataframe tbody tr th {\n",
       "        vertical-align: top;\n",
       "    }\n",
       "\n",
       "    .dataframe thead th {\n",
       "        text-align: right;\n",
       "    }\n",
       "</style>\n",
       "<table border=\"1\" class=\"dataframe\">\n",
       "  <thead>\n",
       "    <tr style=\"text-align: right;\">\n",
       "      <th></th>\n",
       "      <th>Date</th>\n",
       "      <th>WMT_Weekly_Mean_Close</th>\n",
       "    </tr>\n",
       "  </thead>\n",
       "  <tbody>\n",
       "    <tr>\n",
       "      <th>0</th>\n",
       "      <td>2000-01-07</td>\n",
       "      <td>13.941764</td>\n",
       "    </tr>\n",
       "    <tr>\n",
       "      <th>1</th>\n",
       "      <td>2000-01-14</td>\n",
       "      <td>14.021870</td>\n",
       "    </tr>\n",
       "    <tr>\n",
       "      <th>2</th>\n",
       "      <td>2000-01-21</td>\n",
       "      <td>13.642020</td>\n",
       "    </tr>\n",
       "    <tr>\n",
       "      <th>3</th>\n",
       "      <td>2000-01-28</td>\n",
       "      <td>12.676027</td>\n",
       "    </tr>\n",
       "    <tr>\n",
       "      <th>4</th>\n",
       "      <td>2000-02-04</td>\n",
       "      <td>12.240765</td>\n",
       "    </tr>\n",
       "    <tr>\n",
       "      <th>...</th>\n",
       "      <td>...</td>\n",
       "      <td>...</td>\n",
       "    </tr>\n",
       "    <tr>\n",
       "      <th>1324</th>\n",
       "      <td>2025-05-23</td>\n",
       "      <td>96.924001</td>\n",
       "    </tr>\n",
       "    <tr>\n",
       "      <th>1325</th>\n",
       "      <td>2025-05-30</td>\n",
       "      <td>97.660000</td>\n",
       "    </tr>\n",
       "    <tr>\n",
       "      <th>1326</th>\n",
       "      <td>2025-06-06</td>\n",
       "      <td>98.906000</td>\n",
       "    </tr>\n",
       "    <tr>\n",
       "      <th>1327</th>\n",
       "      <td>2025-06-13</td>\n",
       "      <td>95.968001</td>\n",
       "    </tr>\n",
       "    <tr>\n",
       "      <th>1328</th>\n",
       "      <td>2025-06-20</td>\n",
       "      <td>94.290001</td>\n",
       "    </tr>\n",
       "  </tbody>\n",
       "</table>\n",
       "<p>1329 rows × 2 columns</p>\n",
       "</div>"
      ],
      "text/plain": [
       "            Date  WMT_Weekly_Mean_Close\n",
       "0     2000-01-07              13.941764\n",
       "1     2000-01-14              14.021870\n",
       "2     2000-01-21              13.642020\n",
       "3     2000-01-28              12.676027\n",
       "4     2000-02-04              12.240765\n",
       "...          ...                    ...\n",
       "1324  2025-05-23              96.924001\n",
       "1325  2025-05-30              97.660000\n",
       "1326  2025-06-06              98.906000\n",
       "1327  2025-06-13              95.968001\n",
       "1328  2025-06-20              94.290001\n",
       "\n",
       "[1329 rows x 2 columns]"
      ]
     },
     "execution_count": 11,
     "metadata": {},
     "output_type": "execute_result"
    }
   ],
   "source": [
    "df_walmart_stock = pd.read_csv(\"csv_files/idea_csv/wmt_weekly_mean_close.csv\")\n",
    "df_walmart_stock"
   ]
  },
  {
   "cell_type": "markdown",
   "id": "26393546",
   "metadata": {},
   "source": [
    "#### External Logistic companies Walmart"
   ]
  },
  {
   "cell_type": "code",
   "execution_count": 12,
   "id": "813a9bff",
   "metadata": {
    "execution": {
     "iopub.status.busy": "2025-06-26T22:10:14.077189Z",
     "iopub.status.idle": "2025-06-26T22:10:14.077467Z",
     "shell.execute_reply": "2025-06-26T22:10:14.07733Z",
     "shell.execute_reply.started": "2025-06-26T22:10:14.077319Z"
    },
    "trusted": true
   },
   "outputs": [],
   "source": [
    "%%skip\n",
    "#   - ARCB: ArcBest Corporation (ABF Logistics / ArcBest Freight)\n",
    "#   - AIT: AIT Worldwide Logistics\n",
    "#   - CEVA: CEVA Logistics\n",
    "#   - DPW.DE: Deutsche Post (DHL Freight / DHL Supply Chain) on XETRA\n",
    "#   - FDX: FedEx Corporation (FedEx Freight)\n",
    "#   - SAIA: Saia, Inc. (Saia Motor Freight Line)\n",
    "#   - TFII.TO: TFI International (TForce Freight) on TSX\n",
    "#   - XPO: XPO Logistics, Inc.\n",
    "#   - ODFL: Old Dominion Freight Line, Inc.\n",
    "#   - UPS: United Parcel Service, Inc.\n",
    "#   - JBHT: J.B. Hunt Transport Services, Inc.\n",
    "# Note: Some private carriers (Estes Express, R+L Carriers) are not publicly traded.\n",
    "\n",
    "TICKERS = [\n",
    "    \"ARCB\", \"AIT\", \"CEVA\", \"DPW.DE\", \"FDX\",\n",
    "    \"SAIA\", \"TFII.TO\", \"XPO\", \"ODFL\", \"UPS\", \"JBHT\"\n",
    "]\n",
    "\n",
    "START_DATE = \"2000-01-01\"\n",
    "END_DATE   = date.today().isoformat()\n",
    "\n",
    "daily = yf.download(\n",
    "    TICKERS,\n",
    "    start=START_DATE,\n",
    "    end=END_DATE,\n",
    "    interval=\"1d\",\n",
    "    auto_adjust=True,\n",
    "    group_by=\"ticker\",\n",
    "    threads=True,\n",
    "    progress=True,\n",
    ")\n",
    "\n",
    "close = pd.DataFrame()\n",
    "for sym in TICKERS:\n",
    "    try:\n",
    "        series = daily[sym][\"Close\"]\n",
    "        close[sym] = series\n",
    "    except Exception:\n",
    "        print(f\"Skipping {sym!r}: no data available or ticker invalid\")\n",
    "\n",
    "\n",
    "before = close.shape[1]\n",
    "close = close.dropna(axis=1, how=\"all\")\n",
    "after = close.shape[1]\n",
    "print(f\"Dropped {before-after} tickers; {after} tickers remain for analysis\")\n",
    "\n",
    "df_logistics = close.resample(\"W-FRI\").mean().round(4)\n",
    "\n",
    "df_logistics.columns = [f\"{sym}_df_logistics_Close\" for sym in df_logistics.columns]\n",
    "\n",
    "OUTFILE = \"csv_files/idea_csv/logistics_df_logistics_close.csv\"\n",
    "df_logistics.to_csv(OUTFILE)\n"
   ]
  },
  {
   "cell_type": "code",
   "execution_count": 13,
   "id": "d1238b66",
   "metadata": {
    "execution": {
     "iopub.status.busy": "2025-06-26T22:10:14.079013Z",
     "iopub.status.idle": "2025-06-26T22:10:14.079359Z",
     "shell.execute_reply": "2025-06-26T22:10:14.079202Z",
     "shell.execute_reply.started": "2025-06-26T22:10:14.079187Z"
    },
    "trusted": true
   },
   "outputs": [
    {
     "data": {
      "application/vnd.microsoft.datawrangler.viewer.v0+json": {
       "columns": [
        {
         "name": "index",
         "rawType": "int64",
         "type": "integer"
        },
        {
         "name": "Date",
         "rawType": "object",
         "type": "string"
        },
        {
         "name": "ARCB_df_logistics_Close",
         "rawType": "float64",
         "type": "float"
        },
        {
         "name": "AIT_df_logistics_Close",
         "rawType": "float64",
         "type": "float"
        },
        {
         "name": "CEVA_df_logistics_Close",
         "rawType": "float64",
         "type": "float"
        },
        {
         "name": "FDX_df_logistics_Close",
         "rawType": "float64",
         "type": "float"
        },
        {
         "name": "SAIA_df_logistics_Close",
         "rawType": "float64",
         "type": "float"
        },
        {
         "name": "TFII.TO_df_logistics_Close",
         "rawType": "float64",
         "type": "float"
        },
        {
         "name": "XPO_df_logistics_Close",
         "rawType": "float64",
         "type": "float"
        },
        {
         "name": "ODFL_df_logistics_Close",
         "rawType": "float64",
         "type": "float"
        },
        {
         "name": "UPS_df_logistics_Close",
         "rawType": "float64",
         "type": "float"
        },
        {
         "name": "JBHT_df_logistics_Close",
         "rawType": "float64",
         "type": "float"
        }
       ],
       "ref": "bec98040-c16e-4d45-8dfa-214544c3582b",
       "rows": [
        [
         "0",
         "2000-01-07",
         "10.2456",
         "4.2252",
         null,
         "36.133",
         null,
         null,
         null,
         "0.484",
         "33.4329",
         "2.6094"
        ],
        [
         "1",
         "2000-01-14",
         "10.2209",
         "4.05",
         null,
         "37.6513",
         null,
         null,
         null,
         "0.4914",
         "33.7016",
         "2.5821"
        ],
        [
         "2",
         "2000-01-21",
         "10.6344",
         "4.3393",
         null,
         "35.193",
         null,
         null,
         null,
         "0.5243",
         "34.1281",
         "2.5124"
        ],
        [
         "3",
         "2000-01-28",
         "9.9543",
         "4.288",
         null,
         "33.1066",
         null,
         null,
         null,
         "0.5354",
         "32.7017",
         "2.4714"
        ],
        [
         "4",
         "2000-02-04",
         "9.3568",
         "4.2649",
         null,
         "31.9144",
         null,
         null,
         null,
         "0.519",
         "29.3584",
         "2.5079"
        ],
        [
         "5",
         "2000-02-11",
         "8.8976",
         "4.307",
         null,
         "31.5883",
         null,
         null,
         null,
         "0.5311",
         "28.5273",
         "2.4425"
        ],
        [
         "6",
         "2000-02-18",
         "8.9272",
         "4.2289",
         null,
         "29.53",
         null,
         null,
         null,
         "0.519",
         "28.0211",
         "2.2851"
        ],
        [
         "7",
         "2000-02-25",
         "8.3076",
         "4.3205",
         null,
         "28.3404",
         null,
         null,
         null,
         "0.5236",
         "27.4762",
         "2.2211"
        ],
        [
         "8",
         "2000-03-03",
         "7.5546",
         "4.6052",
         null,
         "28.1646",
         null,
         null,
         null,
         "0.5195",
         "26.892",
         "2.2751"
        ],
        [
         "9",
         "2000-03-10",
         "7.8113",
         "4.6119",
         null,
         "26.7074",
         null,
         null,
         null,
         "0.5105",
         "26.4908",
         "2.3725"
        ],
        [
         "10",
         "2000-03-17",
         "8.6409",
         "4.502",
         null,
         "27.5226",
         null,
         null,
         null,
         "0.5116",
         "27.2806",
         "2.9457"
        ],
        [
         "11",
         "2000-03-24",
         "8.9717",
         "4.2456",
         null,
         "30.763",
         null,
         null,
         null,
         "0.5227",
         "29.5875",
         "3.0943"
        ],
        [
         "12",
         "2000-03-31",
         "8.9075",
         "4.179",
         null,
         "31.41",
         null,
         null,
         null,
         "0.5206",
         "30.4948",
         "2.9594"
        ],
        [
         "13",
         "2000-04-07",
         "9.4753",
         "4.2955",
         null,
         "31.6597",
         null,
         null,
         null,
         "0.4724",
         "29.7003",
         "2.8595"
        ],
        [
         "14",
         "2000-04-14",
         "10.1024",
         "4.0225",
         null,
         "32.7194",
         null,
         null,
         null,
         "0.4544",
         "30.4839",
         "2.8021"
        ],
        [
         "15",
         "2000-04-21",
         "10.7023",
         "4.0458",
         null,
         "30.5694",
         null,
         null,
         null,
         "0.4462",
         "30.2457",
         "3.1904"
        ],
        [
         "16",
         "2000-04-28",
         "10.2505",
         "4.482",
         null,
         "31.1196",
         null,
         null,
         null,
         "0.4491",
         "32.8659",
         "3.2991"
        ],
        [
         "17",
         "2000-05-05",
         "10.3196",
         "4.6019",
         null,
         "30.4369",
         null,
         null,
         null,
         "0.4597",
         "31.2173",
         "3.306"
        ],
        [
         "18",
         "2000-05-12",
         "9.6975",
         "4.5119",
         null,
         "32.0876",
         null,
         null,
         null,
         "0.4311",
         "30.8098",
         "3.2766"
        ],
        [
         "19",
         "2000-05-19",
         "9.1346",
         "4.5882",
         null,
         "29.6828",
         null,
         null,
         null,
         "0.4348",
         "31.2549",
         "3.2017"
        ],
        [
         "20",
         "2000-05-26",
         "9.1396",
         "4.7358",
         null,
         "28.9186",
         null,
         null,
         null,
         "0.4281",
         "30.0219",
         "3.1093"
        ],
        [
         "21",
         "2000-06-02",
         "9.0729",
         "4.6327",
         null,
         "29.2192",
         null,
         null,
         null,
         "0.4011",
         "30.3557",
         "3.2185"
        ],
        [
         "22",
         "2000-06-09",
         "9.3963",
         "4.5446",
         null,
         "29.9172",
         null,
         null,
         null,
         "0.4125",
         "30.6716",
         "3.1942"
        ],
        [
         "23",
         "2000-06-16",
         "9.7765",
         "4.6285",
         null,
         "29.6574",
         null,
         null,
         null,
         "0.3982",
         "30.7816",
         "3.1792"
        ],
        [
         "24",
         "2000-06-23",
         "9.7173",
         "4.6151",
         null,
         "28.3072",
         null,
         null,
         null,
         "0.4056",
         "31.1494",
         "3.1018"
        ],
        [
         "25",
         "2000-06-30",
         "9.3815",
         "4.5715",
         null,
         "30.4878",
         null,
         null,
         null,
         "0.4152",
         "30.1404",
         "2.922"
        ],
        [
         "26",
         "2000-07-07",
         "8.6285",
         "4.6327",
         null,
         "32.5946",
         null,
         null,
         null,
         "0.4038",
         "30.4814",
         "3.0031"
        ],
        [
         "27",
         "2000-07-14",
         "8.6902",
         "4.6486",
         null,
         "33.504",
         null,
         null,
         null,
         "0.3892",
         "30.5459",
         "3.0718"
        ],
        [
         "28",
         "2000-07-21",
         "8.9964",
         "4.4642",
         null,
         "32.8825",
         null,
         null,
         null,
         "0.385",
         "30.3259",
         "3.0843"
        ],
        [
         "29",
         "2000-07-28",
         "10.2999",
         "4.2931",
         null,
         "31.9756",
         null,
         null,
         null,
         "0.4056",
         "29.3012",
         "2.9694"
        ],
        [
         "30",
         "2000-08-04",
         "11.2726",
         "4.5614",
         null,
         "32.4035",
         null,
         null,
         null,
         "0.4242",
         "29.2572",
         "3.0269"
        ],
        [
         "31",
         "2000-08-11",
         "12.1071",
         "4.6884",
         null,
         "32.5258",
         null,
         null,
         null,
         "0.4628",
         "28.9177",
         "2.9345"
        ],
        [
         "32",
         "2000-08-18",
         "12.4971",
         "4.7302",
         null,
         "33.1576",
         null,
         null,
         null,
         "0.4517",
         "28.8423",
         "2.9151"
        ],
        [
         "33",
         "2000-08-25",
         "11.8997",
         "4.5074",
         null,
         "32.7805",
         null,
         null,
         null,
         "0.4305",
         "28.387",
         "2.8396"
        ],
        [
         "34",
         "2000-09-01",
         "11.8997",
         "4.5445",
         null,
         "32.7345",
         null,
         null,
         null,
         "0.4072",
         "28.1927",
         "2.7397"
        ],
        [
         "35",
         "2000-09-08",
         "11.73",
         "4.5749",
         null,
         "32.3628",
         null,
         null,
         null,
         "0.3992",
         "27.6504",
         "2.5911"
        ],
        [
         "36",
         "2000-09-15",
         "11.08",
         "4.7539",
         null,
         "32.3399",
         null,
         null,
         null,
         "0.3908",
         "27.4171",
         "2.5854"
        ],
        [
         "37",
         "2000-09-22",
         "11.0405",
         "4.71",
         null,
         "32.247",
         null,
         null,
         null,
         "0.4025",
         "27.3162",
         "2.5374"
        ],
        [
         "38",
         "2000-09-29",
         "11.5442",
         "4.629",
         null,
         "35.0757",
         null,
         null,
         null,
         "0.4215",
         "28.653",
         "2.4649"
        ],
        [
         "39",
         "2000-10-06",
         "11.6824",
         "4.5716",
         null,
         "35.7702",
         null,
         null,
         null,
         "0.4124",
         "29.1196",
         "2.4949"
        ],
        [
         "40",
         "2000-10-13",
         "11.1985",
         "4.3994",
         null,
         "34.0518",
         null,
         null,
         null,
         "0.3797",
         "28.7161",
         "2.2552"
        ],
        [
         "41",
         "2000-10-20",
         "11.7911",
         "4.3757",
         null,
         "33.5317",
         null,
         null,
         null,
         "0.3874",
         "28.8674",
         "2.5873"
        ],
        [
         "42",
         "2000-10-27",
         "12.5218",
         "4.6323",
         null,
         "34.4203",
         null,
         null,
         null,
         "0.3916",
         "30.1916",
         "2.5873"
        ],
        [
         "43",
         "2000-11-03",
         "12.8971",
         "4.5918",
         null,
         "38.0854",
         null,
         null,
         null,
         "0.3908",
         "30.6141",
         "2.6273"
        ],
        [
         "44",
         "2000-11-10",
         "13.3316",
         "4.656",
         null,
         "37.5653",
         null,
         null,
         null,
         "0.4199",
         "29.9268",
         "2.5199"
        ],
        [
         "45",
         "2000-11-17",
         "14.2673",
         "4.6653",
         null,
         "38.0299",
         null,
         null,
         null,
         "0.4279",
         "29.8069",
         "2.5823"
        ],
        [
         "46",
         "2000-11-24",
         "13.9612",
         "4.6797",
         null,
         "39.84",
         null,
         null,
         null,
         "0.4342",
         "30.3971",
         "2.6285"
        ],
        [
         "47",
         "2000-12-01",
         "13.7365",
         "4.8251",
         null,
         "39.5087",
         null,
         null,
         null,
         "0.4316",
         "30.7702",
         "2.6473"
        ],
        [
         "48",
         "2000-12-08",
         "14.6549",
         "4.9849",
         null,
         "38.356",
         null,
         null,
         null,
         "0.4242",
         "31.2634",
         "2.8171"
        ],
        [
         "49",
         "2000-12-15",
         "14.9511",
         "5.3555",
         null,
         "36.2121",
         null,
         null,
         null,
         "0.4364",
         "30.9915",
         "3.1667"
        ]
       ],
       "shape": {
        "columns": 11,
        "rows": 1329
       }
      },
      "text/html": [
       "<div>\n",
       "<style scoped>\n",
       "    .dataframe tbody tr th:only-of-type {\n",
       "        vertical-align: middle;\n",
       "    }\n",
       "\n",
       "    .dataframe tbody tr th {\n",
       "        vertical-align: top;\n",
       "    }\n",
       "\n",
       "    .dataframe thead th {\n",
       "        text-align: right;\n",
       "    }\n",
       "</style>\n",
       "<table border=\"1\" class=\"dataframe\">\n",
       "  <thead>\n",
       "    <tr style=\"text-align: right;\">\n",
       "      <th></th>\n",
       "      <th>Date</th>\n",
       "      <th>ARCB_df_logistics_Close</th>\n",
       "      <th>AIT_df_logistics_Close</th>\n",
       "      <th>CEVA_df_logistics_Close</th>\n",
       "      <th>FDX_df_logistics_Close</th>\n",
       "      <th>SAIA_df_logistics_Close</th>\n",
       "      <th>TFII.TO_df_logistics_Close</th>\n",
       "      <th>XPO_df_logistics_Close</th>\n",
       "      <th>ODFL_df_logistics_Close</th>\n",
       "      <th>UPS_df_logistics_Close</th>\n",
       "      <th>JBHT_df_logistics_Close</th>\n",
       "    </tr>\n",
       "  </thead>\n",
       "  <tbody>\n",
       "    <tr>\n",
       "      <th>0</th>\n",
       "      <td>2000-01-07</td>\n",
       "      <td>10.2456</td>\n",
       "      <td>4.2252</td>\n",
       "      <td>NaN</td>\n",
       "      <td>36.1330</td>\n",
       "      <td>NaN</td>\n",
       "      <td>NaN</td>\n",
       "      <td>NaN</td>\n",
       "      <td>0.4840</td>\n",
       "      <td>33.4329</td>\n",
       "      <td>2.6094</td>\n",
       "    </tr>\n",
       "    <tr>\n",
       "      <th>1</th>\n",
       "      <td>2000-01-14</td>\n",
       "      <td>10.2209</td>\n",
       "      <td>4.0500</td>\n",
       "      <td>NaN</td>\n",
       "      <td>37.6513</td>\n",
       "      <td>NaN</td>\n",
       "      <td>NaN</td>\n",
       "      <td>NaN</td>\n",
       "      <td>0.4914</td>\n",
       "      <td>33.7016</td>\n",
       "      <td>2.5821</td>\n",
       "    </tr>\n",
       "    <tr>\n",
       "      <th>2</th>\n",
       "      <td>2000-01-21</td>\n",
       "      <td>10.6344</td>\n",
       "      <td>4.3393</td>\n",
       "      <td>NaN</td>\n",
       "      <td>35.1930</td>\n",
       "      <td>NaN</td>\n",
       "      <td>NaN</td>\n",
       "      <td>NaN</td>\n",
       "      <td>0.5243</td>\n",
       "      <td>34.1281</td>\n",
       "      <td>2.5124</td>\n",
       "    </tr>\n",
       "    <tr>\n",
       "      <th>3</th>\n",
       "      <td>2000-01-28</td>\n",
       "      <td>9.9543</td>\n",
       "      <td>4.2880</td>\n",
       "      <td>NaN</td>\n",
       "      <td>33.1066</td>\n",
       "      <td>NaN</td>\n",
       "      <td>NaN</td>\n",
       "      <td>NaN</td>\n",
       "      <td>0.5354</td>\n",
       "      <td>32.7017</td>\n",
       "      <td>2.4714</td>\n",
       "    </tr>\n",
       "    <tr>\n",
       "      <th>4</th>\n",
       "      <td>2000-02-04</td>\n",
       "      <td>9.3568</td>\n",
       "      <td>4.2649</td>\n",
       "      <td>NaN</td>\n",
       "      <td>31.9144</td>\n",
       "      <td>NaN</td>\n",
       "      <td>NaN</td>\n",
       "      <td>NaN</td>\n",
       "      <td>0.5190</td>\n",
       "      <td>29.3584</td>\n",
       "      <td>2.5079</td>\n",
       "    </tr>\n",
       "    <tr>\n",
       "      <th>...</th>\n",
       "      <td>...</td>\n",
       "      <td>...</td>\n",
       "      <td>...</td>\n",
       "      <td>...</td>\n",
       "      <td>...</td>\n",
       "      <td>...</td>\n",
       "      <td>...</td>\n",
       "      <td>...</td>\n",
       "      <td>...</td>\n",
       "      <td>...</td>\n",
       "      <td>...</td>\n",
       "    </tr>\n",
       "    <tr>\n",
       "      <th>1324</th>\n",
       "      <td>2025-05-23</td>\n",
       "      <td>63.7080</td>\n",
       "      <td>226.5780</td>\n",
       "      <td>20.1420</td>\n",
       "      <td>219.8980</td>\n",
       "      <td>272.0360</td>\n",
       "      <td>121.3875</td>\n",
       "      <td>121.308</td>\n",
       "      <td>165.8267</td>\n",
       "      <td>96.9700</td>\n",
       "      <td>141.4160</td>\n",
       "    </tr>\n",
       "    <tr>\n",
       "      <th>1325</th>\n",
       "      <td>2025-05-30</td>\n",
       "      <td>63.9625</td>\n",
       "      <td>227.6050</td>\n",
       "      <td>19.1925</td>\n",
       "      <td>218.8175</td>\n",
       "      <td>269.3875</td>\n",
       "      <td>119.2300</td>\n",
       "      <td>117.125</td>\n",
       "      <td>161.9264</td>\n",
       "      <td>97.4825</td>\n",
       "      <td>139.3725</td>\n",
       "    </tr>\n",
       "    <tr>\n",
       "      <th>1326</th>\n",
       "      <td>2025-06-06</td>\n",
       "      <td>63.4820</td>\n",
       "      <td>228.9500</td>\n",
       "      <td>19.8700</td>\n",
       "      <td>218.5800</td>\n",
       "      <td>260.4360</td>\n",
       "      <td>118.7120</td>\n",
       "      <td>115.588</td>\n",
       "      <td>160.7950</td>\n",
       "      <td>97.8220</td>\n",
       "      <td>139.3440</td>\n",
       "    </tr>\n",
       "    <tr>\n",
       "      <th>1327</th>\n",
       "      <td>2025-06-13</td>\n",
       "      <td>69.1700</td>\n",
       "      <td>230.5940</td>\n",
       "      <td>21.0920</td>\n",
       "      <td>224.7040</td>\n",
       "      <td>259.1800</td>\n",
       "      <td>123.1960</td>\n",
       "      <td>121.270</td>\n",
       "      <td>162.9600</td>\n",
       "      <td>100.7700</td>\n",
       "      <td>141.6980</td>\n",
       "    </tr>\n",
       "    <tr>\n",
       "      <th>1328</th>\n",
       "      <td>2025-06-20</td>\n",
       "      <td>69.2600</td>\n",
       "      <td>230.0600</td>\n",
       "      <td>20.4700</td>\n",
       "      <td>226.7700</td>\n",
       "      <td>265.6100</td>\n",
       "      <td>123.8700</td>\n",
       "      <td>122.560</td>\n",
       "      <td>159.4500</td>\n",
       "      <td>101.0900</td>\n",
       "      <td>142.4900</td>\n",
       "    </tr>\n",
       "  </tbody>\n",
       "</table>\n",
       "<p>1329 rows × 11 columns</p>\n",
       "</div>"
      ],
      "text/plain": [
       "            Date  ARCB_df_logistics_Close  AIT_df_logistics_Close  \\\n",
       "0     2000-01-07                  10.2456                  4.2252   \n",
       "1     2000-01-14                  10.2209                  4.0500   \n",
       "2     2000-01-21                  10.6344                  4.3393   \n",
       "3     2000-01-28                   9.9543                  4.2880   \n",
       "4     2000-02-04                   9.3568                  4.2649   \n",
       "...          ...                      ...                     ...   \n",
       "1324  2025-05-23                  63.7080                226.5780   \n",
       "1325  2025-05-30                  63.9625                227.6050   \n",
       "1326  2025-06-06                  63.4820                228.9500   \n",
       "1327  2025-06-13                  69.1700                230.5940   \n",
       "1328  2025-06-20                  69.2600                230.0600   \n",
       "\n",
       "      CEVA_df_logistics_Close  FDX_df_logistics_Close  \\\n",
       "0                         NaN                 36.1330   \n",
       "1                         NaN                 37.6513   \n",
       "2                         NaN                 35.1930   \n",
       "3                         NaN                 33.1066   \n",
       "4                         NaN                 31.9144   \n",
       "...                       ...                     ...   \n",
       "1324                  20.1420                219.8980   \n",
       "1325                  19.1925                218.8175   \n",
       "1326                  19.8700                218.5800   \n",
       "1327                  21.0920                224.7040   \n",
       "1328                  20.4700                226.7700   \n",
       "\n",
       "      SAIA_df_logistics_Close  TFII.TO_df_logistics_Close  \\\n",
       "0                         NaN                         NaN   \n",
       "1                         NaN                         NaN   \n",
       "2                         NaN                         NaN   \n",
       "3                         NaN                         NaN   \n",
       "4                         NaN                         NaN   \n",
       "...                       ...                         ...   \n",
       "1324                 272.0360                    121.3875   \n",
       "1325                 269.3875                    119.2300   \n",
       "1326                 260.4360                    118.7120   \n",
       "1327                 259.1800                    123.1960   \n",
       "1328                 265.6100                    123.8700   \n",
       "\n",
       "      XPO_df_logistics_Close  ODFL_df_logistics_Close  UPS_df_logistics_Close  \\\n",
       "0                        NaN                   0.4840                 33.4329   \n",
       "1                        NaN                   0.4914                 33.7016   \n",
       "2                        NaN                   0.5243                 34.1281   \n",
       "3                        NaN                   0.5354                 32.7017   \n",
       "4                        NaN                   0.5190                 29.3584   \n",
       "...                      ...                      ...                     ...   \n",
       "1324                 121.308                 165.8267                 96.9700   \n",
       "1325                 117.125                 161.9264                 97.4825   \n",
       "1326                 115.588                 160.7950                 97.8220   \n",
       "1327                 121.270                 162.9600                100.7700   \n",
       "1328                 122.560                 159.4500                101.0900   \n",
       "\n",
       "      JBHT_df_logistics_Close  \n",
       "0                      2.6094  \n",
       "1                      2.5821  \n",
       "2                      2.5124  \n",
       "3                      2.4714  \n",
       "4                      2.5079  \n",
       "...                       ...  \n",
       "1324                 141.4160  \n",
       "1325                 139.3725  \n",
       "1326                 139.3440  \n",
       "1327                 141.6980  \n",
       "1328                 142.4900  \n",
       "\n",
       "[1329 rows x 11 columns]"
      ]
     },
     "execution_count": 13,
     "metadata": {},
     "output_type": "execute_result"
    }
   ],
   "source": [
    "df_logistics = pd.read_csv(\"csv_files/idea_csv/logistics_df_logistics_close.csv\")\n",
    "df_logistics"
   ]
  },
  {
   "cell_type": "markdown",
   "id": "876333ca",
   "metadata": {},
   "source": [
    "#### Official China PMI (Caixin PMI only starts in 2014)\n"
   ]
  },
  {
   "cell_type": "code",
   "execution_count": 14,
   "id": "4c9f73f2",
   "metadata": {
    "execution": {
     "iopub.status.busy": "2025-06-26T22:10:14.080372Z",
     "iopub.status.idle": "2025-06-26T22:10:14.080708Z",
     "shell.execute_reply": "2025-06-26T22:10:14.080562Z",
     "shell.execute_reply.started": "2025-06-26T22:10:14.080545Z"
    },
    "trusted": true
   },
   "outputs": [],
   "source": [
    "%%skip\n",
    "# All AkShare functions containing \"pmi\"\n",
    "\n",
    "df_official = ak.macro_china_pmi()\n",
    "\n",
    "print(\"Columns in df_official:\", df_official.columns.tolist())\n"
   ]
  },
  {
   "cell_type": "code",
   "execution_count": 15,
   "id": "3d78a461",
   "metadata": {
    "execution": {
     "iopub.status.busy": "2025-06-26T22:10:14.081768Z",
     "iopub.status.idle": "2025-06-26T22:10:14.082081Z",
     "shell.execute_reply": "2025-06-26T22:10:14.081922Z",
     "shell.execute_reply.started": "2025-06-26T22:10:14.081908Z"
    },
    "trusted": true
   },
   "outputs": [],
   "source": [
    "%%skip\n",
    "# 1) Fetch the official China PMI data\n",
    "df_official = ak.macro_china_pmi()\n",
    "\n",
    "# 2) Rename Chinese column names to English\n",
    "df_official = df_official.rename(columns={\n",
    "    \"月份\": \"Date\",\n",
    "    \"制造业-指数\": \"Official_Manufacturing_PMI\",\n",
    "    \"制造业-同比增长\": \"Official_Manufacturing_PMI_YoY\",\n",
    "    \"非制造业-指数\": \"Official_Services_PMI\",\n",
    "    \"非制造业-同比增长\": \"Official_Services_PMI_YoY\",\n",
    "})\n",
    "\n",
    "# 3) Clean and parse the 'Date' column (\"YYYY年MM月份\" → \"YYYY-MM\")\n",
    "df_official[\"Date\"] = (\n",
    "    df_official[\"Date\"]\n",
    "      .str.replace(\"年\", \"-\", regex=False)\n",
    "      .str.replace(\"月份\", \"\", regex=False)\n",
    ")\n",
    "df_official[\"Date\"] = pd.to_datetime(df_official[\"Date\"], format=\"%Y-%m\")\n",
    "\n",
    "# 4) Set Date as the index and sort\n",
    "df_official = df_official.set_index(\"Date\").sort_index()\n",
    "\n",
    "# 5) Subset to the period 2009-01-01 through 2014-12-31\n",
    "df_pmi_china = df_official.loc[\"2009-01-01\":\"2014-12-31\"]\n",
    "df_pmi_china.to_csv(\"csv_files/idea_csv/df_pmi_china.csv\")"
   ]
  },
  {
   "cell_type": "code",
   "execution_count": 16,
   "id": "352ea0e7",
   "metadata": {
    "execution": {
     "iopub.status.busy": "2025-06-26T22:10:14.083746Z",
     "iopub.status.idle": "2025-06-26T22:10:14.084123Z",
     "shell.execute_reply": "2025-06-26T22:10:14.083963Z",
     "shell.execute_reply.started": "2025-06-26T22:10:14.083946Z"
    },
    "trusted": true
   },
   "outputs": [
    {
     "data": {
      "application/vnd.microsoft.datawrangler.viewer.v0+json": {
       "columns": [
        {
         "name": "index",
         "rawType": "int64",
         "type": "integer"
        },
        {
         "name": "Date",
         "rawType": "object",
         "type": "string"
        },
        {
         "name": "Official_Manufacturing_PMI",
         "rawType": "float64",
         "type": "float"
        },
        {
         "name": "Official_Manufacturing_PMI_YoY",
         "rawType": "float64",
         "type": "float"
        },
        {
         "name": "Official_Services_PMI",
         "rawType": "float64",
         "type": "float"
        },
        {
         "name": "Official_Services_PMI_YoY",
         "rawType": "float64",
         "type": "float"
        }
       ],
       "ref": "dade6897-1cdc-4f3d-90c6-609636cc8fe4",
       "rows": [
        [
         "0",
         "2009-01-01",
         "45.3",
         "-14.52830189",
         "53.7",
         "-10.79734219"
        ],
        [
         "1",
         "2009-02-01",
         "49.0",
         "-8.23970037",
         "55.1",
         "-7.08263069"
        ],
        [
         "2",
         "2009-03-01",
         "52.4",
         "-10.2739726",
         "54.4",
         "-7.64006791"
        ],
        [
         "3",
         "2009-04-01",
         "53.5",
         "-9.62837838",
         "53.5",
         "-8.39041096"
        ],
        [
         "4",
         "2009-05-01",
         "53.1",
         "-0.37523452",
         "54.9",
         "-4.3554007"
        ],
        [
         "5",
         "2009-06-01",
         "53.2",
         "2.30769231",
         "55.4",
         "-3.48432056"
        ],
        [
         "6",
         "2009-07-01",
         "53.3",
         "10.12396694",
         "57.3",
         "2.87253142"
        ],
        [
         "7",
         "2009-08-01",
         "54.0",
         "11.57024793",
         "57.3",
         "8.31758034"
        ],
        [
         "8",
         "2009-09-01",
         "54.3",
         "6.0546875",
         "57.9",
         "5.27272727"
        ],
        [
         "9",
         "2009-10-01",
         "55.2",
         "23.76681614",
         "59.5",
         "12.0527307"
        ],
        [
         "10",
         "2009-11-01",
         "55.2",
         "42.26804124",
         "58.4",
         "14.0625"
        ],
        [
         "11",
         "2009-12-01",
         "56.6",
         "37.37864078",
         "58.8",
         "15.7480315"
        ],
        [
         "12",
         "2010-01-01",
         "55.8",
         "23.17880795",
         "58.1",
         "8.19366853"
        ],
        [
         "13",
         "2010-02-01",
         "52.0",
         "6.12244898",
         "57.0",
         "3.44827586"
        ],
        [
         "14",
         "2010-03-01",
         "55.1",
         "5.15267176",
         "57.3",
         "5.33088235"
        ],
        [
         "15",
         "2010-04-01",
         "55.7",
         "4.11214953",
         "57.8",
         "8.03738318"
        ],
        [
         "16",
         "2010-05-01",
         "53.9",
         "1.50659134",
         "58.1",
         "5.8287796"
        ],
        [
         "17",
         "2010-06-01",
         "52.1",
         "-2.06766917",
         "58.8",
         "6.13718412"
        ],
        [
         "18",
         "2010-07-01",
         "51.2",
         "-3.93996248",
         "57.1",
         "-0.34904014"
        ],
        [
         "19",
         "2010-08-01",
         "51.7",
         "-4.25925926",
         "58.0",
         "1.22164049"
        ],
        [
         "20",
         "2010-09-01",
         "53.8",
         "-0.92081031",
         "57.9",
         "0.0"
        ],
        [
         "21",
         "2010-10-01",
         "54.7",
         "-0.9057971",
         "57.4",
         "-3.52941176"
        ],
        [
         "22",
         "2010-11-01",
         "55.2",
         "0.0",
         "58.9",
         "0.85616438"
        ],
        [
         "23",
         "2010-12-01",
         "53.9",
         "-4.77031802",
         "58.8",
         "0.0"
        ],
        [
         "24",
         "2011-01-01",
         "52.9",
         "-5.19713262",
         "57.2",
         "-1.54905336"
        ],
        [
         "25",
         "2011-02-01",
         "52.2",
         "0.38461538",
         "57.0",
         "0.0"
        ],
        [
         "26",
         "2011-03-01",
         "53.4",
         "-3.08529946",
         "59.2",
         "3.31588133"
        ],
        [
         "27",
         "2011-04-01",
         "52.9",
         "-5.02692998",
         "58.2",
         "0.69204152"
        ],
        [
         "28",
         "2011-05-01",
         "52.0",
         "-3.52504638",
         "58.7",
         "1.03270224"
        ],
        [
         "29",
         "2011-06-01",
         "50.9",
         "-2.30326296",
         "56.6",
         "-3.7414966"
        ],
        [
         "30",
         "2011-07-01",
         "50.7",
         "-0.9765625",
         "57.3",
         "0.3502627"
        ],
        [
         "31",
         "2011-08-01",
         "50.9",
         "-1.54738878",
         "57.1",
         "-1.55172414"
        ],
        [
         "32",
         "2011-09-01",
         "51.2",
         "-4.83271375",
         "55.8",
         "-3.62694301"
        ],
        [
         "33",
         "2011-10-01",
         "50.4",
         "-7.86106033",
         "55.5",
         "-3.31010453"
        ],
        [
         "34",
         "2011-11-01",
         "49.0",
         "-11.23188406",
         "55.9",
         "-5.09337861"
        ],
        [
         "35",
         "2011-12-01",
         "50.3",
         "-6.67903525",
         "56.3",
         "-4.25170068"
        ],
        [
         "36",
         "2012-01-01",
         "50.5",
         "-4.536862",
         "55.7",
         "-2.62237762"
        ],
        [
         "37",
         "2012-02-01",
         "51.0",
         "-2.29885057",
         "57.3",
         "0.52631579"
        ],
        [
         "38",
         "2012-03-01",
         "53.1",
         "-0.56179775",
         "58.0",
         "-2.02702703"
        ],
        [
         "39",
         "2012-04-01",
         "53.3",
         "0.75614367",
         "56.1",
         "-3.60824742"
        ],
        [
         "40",
         "2012-05-01",
         "50.4",
         "-3.07692308",
         "55.2",
         "-5.96252129"
        ],
        [
         "41",
         "2012-06-01",
         "50.2",
         "-1.37524558",
         "56.7",
         "0.17667845"
        ],
        [
         "42",
         "2012-07-01",
         "50.1",
         "-1.18343195",
         "55.6",
         "-2.96684119"
        ],
        [
         "43",
         "2012-08-01",
         "49.2",
         "-3.33988212",
         "56.3",
         "-1.40105079"
        ],
        [
         "44",
         "2012-09-01",
         "49.8",
         "-2.734375",
         "53.7",
         "-3.76344086"
        ],
        [
         "45",
         "2012-10-01",
         "50.2",
         "-0.3968254",
         "55.5",
         "0.0"
        ],
        [
         "46",
         "2012-11-01",
         "50.6",
         "3.26530612",
         "55.6",
         "-0.53667263"
        ],
        [
         "47",
         "2012-12-01",
         "50.6",
         "0.59642147",
         "56.1",
         "-0.35523979"
        ],
        [
         "48",
         "2013-01-01",
         "50.4",
         "-0.1980198",
         "56.2",
         "0.89766607"
        ],
        [
         "49",
         "2013-02-01",
         "50.1",
         "-1.76470588",
         "54.5",
         "-4.88656195"
        ]
       ],
       "shape": {
        "columns": 5,
        "rows": 72
       }
      },
      "text/html": [
       "<div>\n",
       "<style scoped>\n",
       "    .dataframe tbody tr th:only-of-type {\n",
       "        vertical-align: middle;\n",
       "    }\n",
       "\n",
       "    .dataframe tbody tr th {\n",
       "        vertical-align: top;\n",
       "    }\n",
       "\n",
       "    .dataframe thead th {\n",
       "        text-align: right;\n",
       "    }\n",
       "</style>\n",
       "<table border=\"1\" class=\"dataframe\">\n",
       "  <thead>\n",
       "    <tr style=\"text-align: right;\">\n",
       "      <th></th>\n",
       "      <th>Date</th>\n",
       "      <th>Official_Manufacturing_PMI</th>\n",
       "      <th>Official_Manufacturing_PMI_YoY</th>\n",
       "      <th>Official_Services_PMI</th>\n",
       "      <th>Official_Services_PMI_YoY</th>\n",
       "    </tr>\n",
       "  </thead>\n",
       "  <tbody>\n",
       "    <tr>\n",
       "      <th>0</th>\n",
       "      <td>2009-01-01</td>\n",
       "      <td>45.3</td>\n",
       "      <td>-14.528302</td>\n",
       "      <td>53.7</td>\n",
       "      <td>-10.797342</td>\n",
       "    </tr>\n",
       "    <tr>\n",
       "      <th>1</th>\n",
       "      <td>2009-02-01</td>\n",
       "      <td>49.0</td>\n",
       "      <td>-8.239700</td>\n",
       "      <td>55.1</td>\n",
       "      <td>-7.082631</td>\n",
       "    </tr>\n",
       "    <tr>\n",
       "      <th>2</th>\n",
       "      <td>2009-03-01</td>\n",
       "      <td>52.4</td>\n",
       "      <td>-10.273973</td>\n",
       "      <td>54.4</td>\n",
       "      <td>-7.640068</td>\n",
       "    </tr>\n",
       "    <tr>\n",
       "      <th>3</th>\n",
       "      <td>2009-04-01</td>\n",
       "      <td>53.5</td>\n",
       "      <td>-9.628378</td>\n",
       "      <td>53.5</td>\n",
       "      <td>-8.390411</td>\n",
       "    </tr>\n",
       "    <tr>\n",
       "      <th>4</th>\n",
       "      <td>2009-05-01</td>\n",
       "      <td>53.1</td>\n",
       "      <td>-0.375235</td>\n",
       "      <td>54.9</td>\n",
       "      <td>-4.355401</td>\n",
       "    </tr>\n",
       "    <tr>\n",
       "      <th>...</th>\n",
       "      <td>...</td>\n",
       "      <td>...</td>\n",
       "      <td>...</td>\n",
       "      <td>...</td>\n",
       "      <td>...</td>\n",
       "    </tr>\n",
       "    <tr>\n",
       "      <th>67</th>\n",
       "      <td>2014-08-01</td>\n",
       "      <td>51.1</td>\n",
       "      <td>0.196078</td>\n",
       "      <td>54.4</td>\n",
       "      <td>0.927644</td>\n",
       "    </tr>\n",
       "    <tr>\n",
       "      <th>68</th>\n",
       "      <td>2014-09-01</td>\n",
       "      <td>51.1</td>\n",
       "      <td>0.000000</td>\n",
       "      <td>54.0</td>\n",
       "      <td>-2.527076</td>\n",
       "    </tr>\n",
       "    <tr>\n",
       "      <th>69</th>\n",
       "      <td>2014-10-01</td>\n",
       "      <td>50.8</td>\n",
       "      <td>-1.167315</td>\n",
       "      <td>53.8</td>\n",
       "      <td>-4.440497</td>\n",
       "    </tr>\n",
       "    <tr>\n",
       "      <th>70</th>\n",
       "      <td>2014-11-01</td>\n",
       "      <td>50.3</td>\n",
       "      <td>-2.140078</td>\n",
       "      <td>53.9</td>\n",
       "      <td>-3.750000</td>\n",
       "    </tr>\n",
       "    <tr>\n",
       "      <th>71</th>\n",
       "      <td>2014-12-01</td>\n",
       "      <td>50.1</td>\n",
       "      <td>-1.764706</td>\n",
       "      <td>54.1</td>\n",
       "      <td>-0.915751</td>\n",
       "    </tr>\n",
       "  </tbody>\n",
       "</table>\n",
       "<p>72 rows × 5 columns</p>\n",
       "</div>"
      ],
      "text/plain": [
       "          Date  Official_Manufacturing_PMI  Official_Manufacturing_PMI_YoY  \\\n",
       "0   2009-01-01                        45.3                      -14.528302   \n",
       "1   2009-02-01                        49.0                       -8.239700   \n",
       "2   2009-03-01                        52.4                      -10.273973   \n",
       "3   2009-04-01                        53.5                       -9.628378   \n",
       "4   2009-05-01                        53.1                       -0.375235   \n",
       "..         ...                         ...                             ...   \n",
       "67  2014-08-01                        51.1                        0.196078   \n",
       "68  2014-09-01                        51.1                        0.000000   \n",
       "69  2014-10-01                        50.8                       -1.167315   \n",
       "70  2014-11-01                        50.3                       -2.140078   \n",
       "71  2014-12-01                        50.1                       -1.764706   \n",
       "\n",
       "    Official_Services_PMI  Official_Services_PMI_YoY  \n",
       "0                    53.7                 -10.797342  \n",
       "1                    55.1                  -7.082631  \n",
       "2                    54.4                  -7.640068  \n",
       "3                    53.5                  -8.390411  \n",
       "4                    54.9                  -4.355401  \n",
       "..                    ...                        ...  \n",
       "67                   54.4                   0.927644  \n",
       "68                   54.0                  -2.527076  \n",
       "69                   53.8                  -4.440497  \n",
       "70                   53.9                  -3.750000  \n",
       "71                   54.1                  -0.915751  \n",
       "\n",
       "[72 rows x 5 columns]"
      ]
     },
     "execution_count": 16,
     "metadata": {},
     "output_type": "execute_result"
    }
   ],
   "source": [
    "df_pmi_china = pd.read_csv(\"csv_files/idea_csv/df_pmi_china.csv\")\n",
    "df_pmi_china"
   ]
  },
  {
   "cell_type": "markdown",
   "id": "1824d1ce",
   "metadata": {},
   "source": [
    "#### PCE USA (Personal Consumption Expenditures)\n"
   ]
  },
  {
   "cell_type": "code",
   "execution_count": 17,
   "id": "b5091fcc",
   "metadata": {
    "execution": {
     "iopub.status.busy": "2025-06-26T22:10:14.085593Z",
     "iopub.status.idle": "2025-06-26T22:10:14.08584Z",
     "shell.execute_reply": "2025-06-26T22:10:14.085738Z",
     "shell.execute_reply.started": "2025-06-26T22:10:14.085728Z"
    },
    "trusted": true
   },
   "outputs": [],
   "source": [
    "%%skip\n",
    "START_DATE = \"2000-01-01\"\n",
    "END_DATE   = date.today().isoformat()\n",
    "\n",
    "df_pce = DataReader(\"PCE\", \"fred\", start=START_DATE, end=END_DATE)\n",
    "\n",
    "df_pce.columns = [\"Personal_Consumption_Expenditures\"]\n",
    "\n",
    "# 4) Save and quick sanity-check\n",
    "OUTFILE = \"csv_files/idea_csv/personal_consumption_expenditures.csv\"\n",
    "df_pce.to_csv(OUTFILE)\n"
   ]
  },
  {
   "cell_type": "code",
   "execution_count": 18,
   "id": "f5374042",
   "metadata": {
    "execution": {
     "iopub.status.busy": "2025-06-26T22:10:14.08678Z",
     "iopub.status.idle": "2025-06-26T22:10:14.087024Z",
     "shell.execute_reply": "2025-06-26T22:10:14.086922Z",
     "shell.execute_reply.started": "2025-06-26T22:10:14.086911Z"
    },
    "trusted": true
   },
   "outputs": [
    {
     "data": {
      "application/vnd.microsoft.datawrangler.viewer.v0+json": {
       "columns": [
        {
         "name": "index",
         "rawType": "int64",
         "type": "integer"
        },
        {
         "name": "DATE",
         "rawType": "object",
         "type": "string"
        },
        {
         "name": "Personal_Consumption_Expenditures",
         "rawType": "float64",
         "type": "float"
        }
       ],
       "ref": "1baf4c79-6aeb-40dc-97e8-8081c5b81b4b",
       "rows": [
        [
         "0",
         "2000-01-01",
         "6542.9"
        ],
        [
         "1",
         "2000-02-01",
         "6625.3"
        ],
        [
         "2",
         "2000-03-01",
         "6686.5"
        ],
        [
         "3",
         "2000-04-01",
         "6679.1"
        ],
        [
         "4",
         "2000-05-01",
         "6709.7"
        ],
        [
         "5",
         "2000-06-01",
         "6746.9"
        ],
        [
         "6",
         "2000-07-01",
         "6768.5"
        ],
        [
         "7",
         "2000-08-01",
         "6802.8"
        ],
        [
         "8",
         "2000-09-01",
         "6888.6"
        ],
        [
         "9",
         "2000-10-01",
         "6893.8"
        ],
        [
         "10",
         "2000-11-01",
         "6909.8"
        ],
        [
         "11",
         "2000-12-01",
         "6952.2"
        ],
        [
         "12",
         "2001-01-01",
         "6987.4"
        ],
        [
         "13",
         "2001-02-01",
         "7001.8"
        ],
        [
         "14",
         "2001-03-01",
         "6996.7"
        ],
        [
         "15",
         "2001-04-01",
         "7004.2"
        ],
        [
         "16",
         "2001-05-01",
         "7052.8"
        ],
        [
         "17",
         "2001-06-01",
         "7069.7"
        ],
        [
         "18",
         "2001-07-01",
         "7082.3"
        ],
        [
         "19",
         "2001-08-01",
         "7121.7"
        ],
        [
         "20",
         "2001-09-01",
         "7007.0"
        ],
        [
         "21",
         "2001-10-01",
         "7212.9"
        ],
        [
         "22",
         "2001-11-01",
         "7182.3"
        ],
        [
         "23",
         "2001-12-01",
         "7166.7"
        ],
        [
         "24",
         "2002-01-01",
         "7184.6"
        ],
        [
         "25",
         "2002-02-01",
         "7225.2"
        ],
        [
         "26",
         "2002-03-01",
         "7243.4"
        ],
        [
         "27",
         "2002-04-01",
         "7312.5"
        ],
        [
         "28",
         "2002-05-01",
         "7288.9"
        ],
        [
         "29",
         "2002-06-01",
         "7322.5"
        ],
        [
         "30",
         "2002-07-01",
         "7387.3"
        ],
        [
         "31",
         "2002-08-01",
         "7412.6"
        ],
        [
         "32",
         "2002-09-01",
         "7391.5"
        ],
        [
         "33",
         "2002-10-01",
         "7435.2"
        ],
        [
         "34",
         "2002-11-01",
         "7463.8"
        ],
        [
         "35",
         "2002-12-01",
         "7519.9"
        ],
        [
         "36",
         "2003-01-01",
         "7541.3"
        ],
        [
         "37",
         "2003-02-01",
         "7548.6"
        ],
        [
         "38",
         "2003-03-01",
         "7611.5"
        ],
        [
         "39",
         "2003-04-01",
         "7634.5"
        ],
        [
         "40",
         "2003-05-01",
         "7650.3"
        ],
        [
         "41",
         "2003-06-01",
         "7699.6"
        ],
        [
         "42",
         "2003-07-01",
         "7757.0"
        ],
        [
         "43",
         "2003-08-01",
         "7852.1"
        ],
        [
         "44",
         "2003-09-01",
         "7853.7"
        ],
        [
         "45",
         "2003-10-01",
         "7867.4"
        ],
        [
         "46",
         "2003-11-01",
         "7922.6"
        ],
        [
         "47",
         "2003-12-01",
         "7950.4"
        ],
        [
         "48",
         "2004-01-01",
         "8007.1"
        ],
        [
         "49",
         "2004-02-01",
         "8040.4"
        ]
       ],
       "shape": {
        "columns": 2,
        "rows": 304
       }
      },
      "text/html": [
       "<div>\n",
       "<style scoped>\n",
       "    .dataframe tbody tr th:only-of-type {\n",
       "        vertical-align: middle;\n",
       "    }\n",
       "\n",
       "    .dataframe tbody tr th {\n",
       "        vertical-align: top;\n",
       "    }\n",
       "\n",
       "    .dataframe thead th {\n",
       "        text-align: right;\n",
       "    }\n",
       "</style>\n",
       "<table border=\"1\" class=\"dataframe\">\n",
       "  <thead>\n",
       "    <tr style=\"text-align: right;\">\n",
       "      <th></th>\n",
       "      <th>DATE</th>\n",
       "      <th>Personal_Consumption_Expenditures</th>\n",
       "    </tr>\n",
       "  </thead>\n",
       "  <tbody>\n",
       "    <tr>\n",
       "      <th>0</th>\n",
       "      <td>2000-01-01</td>\n",
       "      <td>6542.9</td>\n",
       "    </tr>\n",
       "    <tr>\n",
       "      <th>1</th>\n",
       "      <td>2000-02-01</td>\n",
       "      <td>6625.3</td>\n",
       "    </tr>\n",
       "    <tr>\n",
       "      <th>2</th>\n",
       "      <td>2000-03-01</td>\n",
       "      <td>6686.5</td>\n",
       "    </tr>\n",
       "    <tr>\n",
       "      <th>3</th>\n",
       "      <td>2000-04-01</td>\n",
       "      <td>6679.1</td>\n",
       "    </tr>\n",
       "    <tr>\n",
       "      <th>4</th>\n",
       "      <td>2000-05-01</td>\n",
       "      <td>6709.7</td>\n",
       "    </tr>\n",
       "    <tr>\n",
       "      <th>...</th>\n",
       "      <td>...</td>\n",
       "      <td>...</td>\n",
       "    </tr>\n",
       "    <tr>\n",
       "      <th>299</th>\n",
       "      <td>2024-12-01</td>\n",
       "      <td>20408.1</td>\n",
       "    </tr>\n",
       "    <tr>\n",
       "      <th>300</th>\n",
       "      <td>2025-01-01</td>\n",
       "      <td>20389.0</td>\n",
       "    </tr>\n",
       "    <tr>\n",
       "      <th>301</th>\n",
       "      <td>2025-02-01</td>\n",
       "      <td>20469.3</td>\n",
       "    </tr>\n",
       "    <tr>\n",
       "      <th>302</th>\n",
       "      <td>2025-03-01</td>\n",
       "      <td>20621.8</td>\n",
       "    </tr>\n",
       "    <tr>\n",
       "      <th>303</th>\n",
       "      <td>2025-04-01</td>\n",
       "      <td>20669.5</td>\n",
       "    </tr>\n",
       "  </tbody>\n",
       "</table>\n",
       "<p>304 rows × 2 columns</p>\n",
       "</div>"
      ],
      "text/plain": [
       "           DATE  Personal_Consumption_Expenditures\n",
       "0    2000-01-01                             6542.9\n",
       "1    2000-02-01                             6625.3\n",
       "2    2000-03-01                             6686.5\n",
       "3    2000-04-01                             6679.1\n",
       "4    2000-05-01                             6709.7\n",
       "..          ...                                ...\n",
       "299  2024-12-01                            20408.1\n",
       "300  2025-01-01                            20389.0\n",
       "301  2025-02-01                            20469.3\n",
       "302  2025-03-01                            20621.8\n",
       "303  2025-04-01                            20669.5\n",
       "\n",
       "[304 rows x 2 columns]"
      ]
     },
     "execution_count": 18,
     "metadata": {},
     "output_type": "execute_result"
    }
   ],
   "source": [
    "df_pce = pd.read_csv(\"csv_files/idea_csv/personal_consumption_expenditures.csv\")\n",
    "df_pce"
   ]
  },
  {
   "cell_type": "markdown",
   "id": "c091ad03",
   "metadata": {},
   "source": [
    "#### Interest Rates USA (Fed Funds Rate & Tbill 3 Months Yield)"
   ]
  },
  {
   "cell_type": "code",
   "execution_count": 19,
   "id": "06d04fe0",
   "metadata": {
    "execution": {
     "iopub.status.busy": "2025-06-26T22:10:14.087815Z",
     "iopub.status.idle": "2025-06-26T22:10:14.088041Z",
     "shell.execute_reply": "2025-06-26T22:10:14.087944Z",
     "shell.execute_reply.started": "2025-06-26T22:10:14.087933Z"
    },
    "trusted": true
   },
   "outputs": [],
   "source": [
    "%%skip\n",
    "START = \"2001-06-01\"               \n",
    "END   = date.today().isoformat()\n",
    "\n",
    "\n",
    "fed  = DataReader(\"FEDFUNDS\", \"fred\", START, END)\n",
    "tbill = DataReader(\"DGS3MO\",  \"fred\", START, END)\n",
    "\n",
    "df_interest_rates = pd.concat([fed, tbill], axis=1).rename(columns={\n",
    "    \"FEDFUNDS\": \"Fed_Funds_Rate\",\n",
    "    \"DGS3MO\":   \"TBill_3mo_Yield\",\n",
    "})\n",
    "df_interest_rates = df_interest_rates.resample(\"W-FRI\").mean()\n",
    "\n",
    "OUTFILE = \"csv_files/idea_csv/df_interest_rates.csv\"\n",
    "df_interest_rates.to_csv(OUTFILE)"
   ]
  },
  {
   "cell_type": "code",
   "execution_count": 20,
   "id": "41da9b40",
   "metadata": {
    "execution": {
     "iopub.status.busy": "2025-06-26T22:10:14.088934Z",
     "iopub.status.idle": "2025-06-26T22:10:14.089281Z",
     "shell.execute_reply": "2025-06-26T22:10:14.08913Z",
     "shell.execute_reply.started": "2025-06-26T22:10:14.089114Z"
    },
    "trusted": true
   },
   "outputs": [
    {
     "data": {
      "application/vnd.microsoft.datawrangler.viewer.v0+json": {
       "columns": [
        {
         "name": "index",
         "rawType": "int64",
         "type": "integer"
        },
        {
         "name": "DATE",
         "rawType": "object",
         "type": "string"
        },
        {
         "name": "Fed_Funds_Rate",
         "rawType": "float64",
         "type": "float"
        },
        {
         "name": "TBill_3mo_Yield",
         "rawType": "float64",
         "type": "float"
        }
       ],
       "ref": "70ac5847-c1f7-4403-8145-1c1fab454d6c",
       "rows": [
        [
         "0",
         "2001-06-01",
         "3.97",
         "3.67"
        ],
        [
         "1",
         "2001-06-08",
         null,
         "3.64"
        ],
        [
         "2",
         "2001-06-15",
         null,
         "3.558"
        ],
        [
         "3",
         "2001-06-22",
         null,
         "3.496"
        ],
        [
         "4",
         "2001-06-29",
         null,
         "3.5460000000000003"
        ],
        [
         "5",
         "2001-07-06",
         "3.77",
         "3.6525"
        ],
        [
         "6",
         "2001-07-13",
         null,
         "3.616"
        ],
        [
         "7",
         "2001-07-20",
         null,
         "3.5740000000000003"
        ],
        [
         "8",
         "2001-07-27",
         null,
         "3.558"
        ],
        [
         "9",
         "2001-08-03",
         "3.65",
         "3.538"
        ],
        [
         "10",
         "2001-08-10",
         null,
         "3.482"
        ],
        [
         "11",
         "2001-08-17",
         null,
         "3.4120000000000004"
        ],
        [
         "12",
         "2001-08-24",
         null,
         "3.402"
        ],
        [
         "13",
         "2001-08-31",
         null,
         "3.402"
        ],
        [
         "14",
         "2001-09-07",
         "3.07",
         "3.365"
        ],
        [
         "15",
         "2001-09-14",
         null,
         "2.8800000000000003"
        ],
        [
         "16",
         "2001-09-21",
         null,
         "2.346"
        ],
        [
         "17",
         "2001-09-28",
         null,
         "2.388"
        ],
        [
         "18",
         "2001-10-05",
         "2.49",
         "2.252"
        ],
        [
         "19",
         "2001-10-12",
         null,
         "2.24"
        ],
        [
         "20",
         "2001-10-19",
         null,
         "2.214"
        ],
        [
         "21",
         "2001-10-26",
         null,
         "2.1740000000000004"
        ],
        [
         "22",
         "2001-11-02",
         "2.09",
         "2.052"
        ],
        [
         "23",
         "2001-11-09",
         null,
         "1.866"
        ],
        [
         "24",
         "2001-11-16",
         null,
         "1.895"
        ],
        [
         "25",
         "2001-11-23",
         null,
         "1.95"
        ],
        [
         "26",
         "2001-11-30",
         null,
         "1.87"
        ],
        [
         "27",
         "2001-12-07",
         "1.82",
         "1.746"
        ],
        [
         "28",
         "2001-12-14",
         null,
         "1.6919999999999995"
        ],
        [
         "29",
         "2001-12-21",
         null,
         "1.7079999999999995"
        ],
        [
         "30",
         "2001-12-28",
         null,
         "1.7325"
        ],
        [
         "31",
         "2002-01-04",
         "1.73",
         "1.7325"
        ],
        [
         "32",
         "2002-01-11",
         null,
         "1.66"
        ],
        [
         "33",
         "2002-01-18",
         null,
         "1.61"
        ],
        [
         "34",
         "2002-01-25",
         null,
         "1.7125"
        ],
        [
         "35",
         "2002-02-01",
         "1.74",
         "1.75"
        ],
        [
         "36",
         "2002-02-08",
         null,
         "1.746"
        ],
        [
         "37",
         "2002-02-15",
         null,
         "1.75"
        ],
        [
         "38",
         "2002-02-22",
         null,
         "1.76"
        ],
        [
         "39",
         "2002-03-01",
         "1.73",
         "1.7740000000000002"
        ],
        [
         "40",
         "2002-03-08",
         null,
         "1.796"
        ],
        [
         "41",
         "2002-03-15",
         null,
         "1.848"
        ],
        [
         "42",
         "2002-03-22",
         null,
         "1.85"
        ],
        [
         "43",
         "2002-03-29",
         null,
         "1.815"
        ],
        [
         "44",
         "2002-04-05",
         "1.75",
         "1.784"
        ],
        [
         "45",
         "2002-04-12",
         null,
         "1.7239999999999998"
        ],
        [
         "46",
         "2002-04-19",
         null,
         "1.7280000000000002"
        ],
        [
         "47",
         "2002-04-26",
         null,
         "1.732"
        ],
        [
         "48",
         "2002-05-03",
         "1.75",
         "1.77"
        ],
        [
         "49",
         "2002-05-10",
         null,
         "1.768"
        ]
       ],
       "shape": {
        "columns": 3,
        "rows": 1255
       }
      },
      "text/html": [
       "<div>\n",
       "<style scoped>\n",
       "    .dataframe tbody tr th:only-of-type {\n",
       "        vertical-align: middle;\n",
       "    }\n",
       "\n",
       "    .dataframe tbody tr th {\n",
       "        vertical-align: top;\n",
       "    }\n",
       "\n",
       "    .dataframe thead th {\n",
       "        text-align: right;\n",
       "    }\n",
       "</style>\n",
       "<table border=\"1\" class=\"dataframe\">\n",
       "  <thead>\n",
       "    <tr style=\"text-align: right;\">\n",
       "      <th></th>\n",
       "      <th>DATE</th>\n",
       "      <th>Fed_Funds_Rate</th>\n",
       "      <th>TBill_3mo_Yield</th>\n",
       "    </tr>\n",
       "  </thead>\n",
       "  <tbody>\n",
       "    <tr>\n",
       "      <th>0</th>\n",
       "      <td>2001-06-01</td>\n",
       "      <td>3.97</td>\n",
       "      <td>3.670</td>\n",
       "    </tr>\n",
       "    <tr>\n",
       "      <th>1</th>\n",
       "      <td>2001-06-08</td>\n",
       "      <td>NaN</td>\n",
       "      <td>3.640</td>\n",
       "    </tr>\n",
       "    <tr>\n",
       "      <th>2</th>\n",
       "      <td>2001-06-15</td>\n",
       "      <td>NaN</td>\n",
       "      <td>3.558</td>\n",
       "    </tr>\n",
       "    <tr>\n",
       "      <th>3</th>\n",
       "      <td>2001-06-22</td>\n",
       "      <td>NaN</td>\n",
       "      <td>3.496</td>\n",
       "    </tr>\n",
       "    <tr>\n",
       "      <th>4</th>\n",
       "      <td>2001-06-29</td>\n",
       "      <td>NaN</td>\n",
       "      <td>3.546</td>\n",
       "    </tr>\n",
       "    <tr>\n",
       "      <th>...</th>\n",
       "      <td>...</td>\n",
       "      <td>...</td>\n",
       "      <td>...</td>\n",
       "    </tr>\n",
       "    <tr>\n",
       "      <th>1250</th>\n",
       "      <td>2025-05-16</td>\n",
       "      <td>NaN</td>\n",
       "      <td>4.398</td>\n",
       "    </tr>\n",
       "    <tr>\n",
       "      <th>1251</th>\n",
       "      <td>2025-05-23</td>\n",
       "      <td>NaN</td>\n",
       "      <td>4.372</td>\n",
       "    </tr>\n",
       "    <tr>\n",
       "      <th>1252</th>\n",
       "      <td>2025-05-30</td>\n",
       "      <td>NaN</td>\n",
       "      <td>4.355</td>\n",
       "    </tr>\n",
       "    <tr>\n",
       "      <th>1253</th>\n",
       "      <td>2025-06-06</td>\n",
       "      <td>NaN</td>\n",
       "      <td>4.436</td>\n",
       "    </tr>\n",
       "    <tr>\n",
       "      <th>1254</th>\n",
       "      <td>2025-06-13</td>\n",
       "      <td>NaN</td>\n",
       "      <td>4.450</td>\n",
       "    </tr>\n",
       "  </tbody>\n",
       "</table>\n",
       "<p>1255 rows × 3 columns</p>\n",
       "</div>"
      ],
      "text/plain": [
       "            DATE  Fed_Funds_Rate  TBill_3mo_Yield\n",
       "0     2001-06-01            3.97            3.670\n",
       "1     2001-06-08             NaN            3.640\n",
       "2     2001-06-15             NaN            3.558\n",
       "3     2001-06-22             NaN            3.496\n",
       "4     2001-06-29             NaN            3.546\n",
       "...          ...             ...              ...\n",
       "1250  2025-05-16             NaN            4.398\n",
       "1251  2025-05-23             NaN            4.372\n",
       "1252  2025-05-30             NaN            4.355\n",
       "1253  2025-06-06             NaN            4.436\n",
       "1254  2025-06-13             NaN            4.450\n",
       "\n",
       "[1255 rows x 3 columns]"
      ]
     },
     "execution_count": 20,
     "metadata": {},
     "output_type": "execute_result"
    }
   ],
   "source": [
    "df_interest_rates = pd.read_csv(\"csv_files/idea_csv/df_interest_rates.csv\")\n",
    "df_interest_rates"
   ]
  },
  {
   "cell_type": "markdown",
   "id": "8907aa88",
   "metadata": {},
   "source": [
    "#### CCI USA (Consumer Confidence Index) from University of Michigan"
   ]
  },
  {
   "cell_type": "code",
   "execution_count": 21,
   "id": "d8eff796",
   "metadata": {
    "execution": {
     "iopub.status.busy": "2025-06-26T22:10:14.091569Z",
     "iopub.status.idle": "2025-06-26T22:10:14.091921Z",
     "shell.execute_reply": "2025-06-26T22:10:14.091761Z",
     "shell.execute_reply.started": "2025-06-26T22:10:14.091745Z"
    },
    "trusted": true
   },
   "outputs": [],
   "source": [
    "%%skip\n",
    "START_DATE = \"2001-06-17\"\n",
    "END_DATE   = date.today().isoformat()\n",
    "\n",
    "df_us_cci = DataReader(\"UMCSENT\", \"fred\", START_DATE, END_DATE)\n",
    "df_us_cci.columns = [\"Consumer_Sentiment_UMich\"]\n",
    "\n",
    "OUTFILE = \"csv_files/idea_csv/consumer_confidence_index.csv\"\n",
    "df_us_cci.to_csv(OUTFILE)"
   ]
  },
  {
   "cell_type": "code",
   "execution_count": 22,
   "id": "51523471",
   "metadata": {
    "execution": {
     "iopub.status.busy": "2025-06-26T22:10:14.093128Z",
     "iopub.status.idle": "2025-06-26T22:10:14.093452Z",
     "shell.execute_reply": "2025-06-26T22:10:14.093282Z",
     "shell.execute_reply.started": "2025-06-26T22:10:14.093266Z"
    },
    "trusted": true
   },
   "outputs": [
    {
     "data": {
      "application/vnd.microsoft.datawrangler.viewer.v0+json": {
       "columns": [
        {
         "name": "index",
         "rawType": "int64",
         "type": "integer"
        },
        {
         "name": "DATE",
         "rawType": "object",
         "type": "string"
        },
        {
         "name": "Consumer_Sentiment_UMich",
         "rawType": "float64",
         "type": "float"
        }
       ],
       "ref": "3cf37284-13c2-4575-963f-6dd9dc82a0e9",
       "rows": [
        [
         "0",
         "2001-07-01",
         "92.4"
        ],
        [
         "1",
         "2001-08-01",
         "91.5"
        ],
        [
         "2",
         "2001-09-01",
         "81.8"
        ],
        [
         "3",
         "2001-10-01",
         "82.7"
        ],
        [
         "4",
         "2001-11-01",
         "83.9"
        ],
        [
         "5",
         "2001-12-01",
         "88.8"
        ],
        [
         "6",
         "2002-01-01",
         "93.0"
        ],
        [
         "7",
         "2002-02-01",
         "90.7"
        ],
        [
         "8",
         "2002-03-01",
         "95.7"
        ],
        [
         "9",
         "2002-04-01",
         "93.0"
        ],
        [
         "10",
         "2002-05-01",
         "96.9"
        ],
        [
         "11",
         "2002-06-01",
         "92.4"
        ],
        [
         "12",
         "2002-07-01",
         "88.1"
        ],
        [
         "13",
         "2002-08-01",
         "87.6"
        ],
        [
         "14",
         "2002-09-01",
         "86.1"
        ],
        [
         "15",
         "2002-10-01",
         "80.6"
        ],
        [
         "16",
         "2002-11-01",
         "84.2"
        ],
        [
         "17",
         "2002-12-01",
         "86.7"
        ],
        [
         "18",
         "2003-01-01",
         "82.4"
        ],
        [
         "19",
         "2003-02-01",
         "79.9"
        ],
        [
         "20",
         "2003-03-01",
         "77.6"
        ],
        [
         "21",
         "2003-04-01",
         "86.0"
        ],
        [
         "22",
         "2003-05-01",
         "92.1"
        ],
        [
         "23",
         "2003-06-01",
         "89.7"
        ],
        [
         "24",
         "2003-07-01",
         "90.9"
        ],
        [
         "25",
         "2003-08-01",
         "89.3"
        ],
        [
         "26",
         "2003-09-01",
         "87.7"
        ],
        [
         "27",
         "2003-10-01",
         "89.6"
        ],
        [
         "28",
         "2003-11-01",
         "93.7"
        ],
        [
         "29",
         "2003-12-01",
         "92.6"
        ],
        [
         "30",
         "2004-01-01",
         "103.8"
        ],
        [
         "31",
         "2004-02-01",
         "94.4"
        ],
        [
         "32",
         "2004-03-01",
         "95.8"
        ],
        [
         "33",
         "2004-04-01",
         "94.2"
        ],
        [
         "34",
         "2004-05-01",
         "90.2"
        ],
        [
         "35",
         "2004-06-01",
         "95.6"
        ],
        [
         "36",
         "2004-07-01",
         "96.7"
        ],
        [
         "37",
         "2004-08-01",
         "95.9"
        ],
        [
         "38",
         "2004-09-01",
         "94.2"
        ],
        [
         "39",
         "2004-10-01",
         "91.7"
        ],
        [
         "40",
         "2004-11-01",
         "92.8"
        ],
        [
         "41",
         "2004-12-01",
         "97.1"
        ],
        [
         "42",
         "2005-01-01",
         "95.5"
        ],
        [
         "43",
         "2005-02-01",
         "94.1"
        ],
        [
         "44",
         "2005-03-01",
         "92.6"
        ],
        [
         "45",
         "2005-04-01",
         "87.7"
        ],
        [
         "46",
         "2005-05-01",
         "86.9"
        ],
        [
         "47",
         "2005-06-01",
         "96.0"
        ],
        [
         "48",
         "2005-07-01",
         "96.5"
        ],
        [
         "49",
         "2005-08-01",
         "89.1"
        ]
       ],
       "shape": {
        "columns": 2,
        "rows": 286
       }
      },
      "text/html": [
       "<div>\n",
       "<style scoped>\n",
       "    .dataframe tbody tr th:only-of-type {\n",
       "        vertical-align: middle;\n",
       "    }\n",
       "\n",
       "    .dataframe tbody tr th {\n",
       "        vertical-align: top;\n",
       "    }\n",
       "\n",
       "    .dataframe thead th {\n",
       "        text-align: right;\n",
       "    }\n",
       "</style>\n",
       "<table border=\"1\" class=\"dataframe\">\n",
       "  <thead>\n",
       "    <tr style=\"text-align: right;\">\n",
       "      <th></th>\n",
       "      <th>DATE</th>\n",
       "      <th>Consumer_Sentiment_UMich</th>\n",
       "    </tr>\n",
       "  </thead>\n",
       "  <tbody>\n",
       "    <tr>\n",
       "      <th>0</th>\n",
       "      <td>2001-07-01</td>\n",
       "      <td>92.4</td>\n",
       "    </tr>\n",
       "    <tr>\n",
       "      <th>1</th>\n",
       "      <td>2001-08-01</td>\n",
       "      <td>91.5</td>\n",
       "    </tr>\n",
       "    <tr>\n",
       "      <th>2</th>\n",
       "      <td>2001-09-01</td>\n",
       "      <td>81.8</td>\n",
       "    </tr>\n",
       "    <tr>\n",
       "      <th>3</th>\n",
       "      <td>2001-10-01</td>\n",
       "      <td>82.7</td>\n",
       "    </tr>\n",
       "    <tr>\n",
       "      <th>4</th>\n",
       "      <td>2001-11-01</td>\n",
       "      <td>83.9</td>\n",
       "    </tr>\n",
       "    <tr>\n",
       "      <th>...</th>\n",
       "      <td>...</td>\n",
       "      <td>...</td>\n",
       "    </tr>\n",
       "    <tr>\n",
       "      <th>281</th>\n",
       "      <td>2024-12-01</td>\n",
       "      <td>74.0</td>\n",
       "    </tr>\n",
       "    <tr>\n",
       "      <th>282</th>\n",
       "      <td>2025-01-01</td>\n",
       "      <td>71.7</td>\n",
       "    </tr>\n",
       "    <tr>\n",
       "      <th>283</th>\n",
       "      <td>2025-02-01</td>\n",
       "      <td>64.7</td>\n",
       "    </tr>\n",
       "    <tr>\n",
       "      <th>284</th>\n",
       "      <td>2025-03-01</td>\n",
       "      <td>57.0</td>\n",
       "    </tr>\n",
       "    <tr>\n",
       "      <th>285</th>\n",
       "      <td>2025-04-01</td>\n",
       "      <td>52.2</td>\n",
       "    </tr>\n",
       "  </tbody>\n",
       "</table>\n",
       "<p>286 rows × 2 columns</p>\n",
       "</div>"
      ],
      "text/plain": [
       "           DATE  Consumer_Sentiment_UMich\n",
       "0    2001-07-01                      92.4\n",
       "1    2001-08-01                      91.5\n",
       "2    2001-09-01                      81.8\n",
       "3    2001-10-01                      82.7\n",
       "4    2001-11-01                      83.9\n",
       "..          ...                       ...\n",
       "281  2024-12-01                      74.0\n",
       "282  2025-01-01                      71.7\n",
       "283  2025-02-01                      64.7\n",
       "284  2025-03-01                      57.0\n",
       "285  2025-04-01                      52.2\n",
       "\n",
       "[286 rows x 2 columns]"
      ]
     },
     "execution_count": 22,
     "metadata": {},
     "output_type": "execute_result"
    }
   ],
   "source": [
    "df_us_cci = pd.read_csv(\"csv_files/idea_csv/consumer_confidence_index.csv\")\n",
    "df_us_cci"
   ]
  },
  {
   "cell_type": "markdown",
   "id": "9939e092",
   "metadata": {},
   "source": [
    "#### U.S.A Advance Retail Sales: Retail Trade and Food Services"
   ]
  },
  {
   "cell_type": "code",
   "execution_count": 23,
   "id": "f03ba7e2",
   "metadata": {
    "execution": {
     "iopub.status.busy": "2025-06-26T22:10:14.094932Z",
     "iopub.status.idle": "2025-06-26T22:10:14.095163Z",
     "shell.execute_reply": "2025-06-26T22:10:14.095067Z",
     "shell.execute_reply.started": "2025-06-26T22:10:14.095057Z"
    },
    "trusted": true
   },
   "outputs": [],
   "source": [
    "%%skip\n",
    "START_DATE = \"2000-01-01\"\n",
    "END_DATE   = date.today().isoformat()\n",
    "\n",
    "# RSAFS = Advance Retail Sales: Retail Trade and Food Services (Millions of Dollars, SA)\n",
    "df_us_retail = DataReader(\"RSAFS\", \"fred\", START_DATE, END_DATE)\n",
    "\n",
    "df_us_retail.columns = [\"Retail_Sales_Retail_and_Food_Services_USA\"]\n",
    "\n",
    "OUTFILE = \"csv_files/idea_csv/usa_retail_sales.csv\"\n",
    "df_us_retail.to_csv(OUTFILE)"
   ]
  },
  {
   "cell_type": "code",
   "execution_count": 24,
   "id": "a51ef437",
   "metadata": {
    "execution": {
     "iopub.status.busy": "2025-06-26T22:10:14.095771Z",
     "iopub.status.idle": "2025-06-26T22:10:14.096022Z",
     "shell.execute_reply": "2025-06-26T22:10:14.095907Z",
     "shell.execute_reply.started": "2025-06-26T22:10:14.095897Z"
    },
    "trusted": true
   },
   "outputs": [
    {
     "data": {
      "application/vnd.microsoft.datawrangler.viewer.v0+json": {
       "columns": [
        {
         "name": "index",
         "rawType": "int64",
         "type": "integer"
        },
        {
         "name": "DATE",
         "rawType": "object",
         "type": "string"
        },
        {
         "name": "Retail_Sales_Retail_and_Food_Services_USA",
         "rawType": "int64",
         "type": "integer"
        }
       ],
       "ref": "9c715870-5952-49f6-ba8b-e21ea482430c",
       "rows": [
        [
         "0",
         "2000-01-01",
         "261545"
        ],
        [
         "1",
         "2000-02-01",
         "265686"
        ],
        [
         "2",
         "2000-03-01",
         "269019"
        ],
        [
         "3",
         "2000-04-01",
         "264067"
        ],
        [
         "4",
         "2000-05-01",
         "265992"
        ],
        [
         "5",
         "2000-06-01",
         "267750"
        ],
        [
         "6",
         "2000-07-01",
         "265683"
        ],
        [
         "7",
         "2000-08-01",
         "266885"
        ],
        [
         "8",
         "2000-09-01",
         "270523"
        ],
        [
         "9",
         "2000-10-01",
         "270339"
        ],
        [
         "10",
         "2000-11-01",
         "268850"
        ],
        [
         "11",
         "2000-12-01",
         "268338"
        ],
        [
         "12",
         "2001-01-01",
         "272881"
        ],
        [
         "13",
         "2001-02-01",
         "272627"
        ],
        [
         "14",
         "2001-03-01",
         "269820"
        ],
        [
         "15",
         "2001-04-01",
         "274410"
        ],
        [
         "16",
         "2001-05-01",
         "275769"
        ],
        [
         "17",
         "2001-06-01",
         "274474"
        ],
        [
         "18",
         "2001-07-01",
         "273098"
        ],
        [
         "19",
         "2001-08-01",
         "275659"
        ],
        [
         "20",
         "2001-09-01",
         "268652"
        ],
        [
         "21",
         "2001-10-01",
         "288632"
        ],
        [
         "22",
         "2001-11-01",
         "280033"
        ],
        [
         "23",
         "2001-12-01",
         "276302"
        ],
        [
         "24",
         "2002-01-01",
         "277135"
        ],
        [
         "25",
         "2002-02-01",
         "278869"
        ],
        [
         "26",
         "2002-03-01",
         "278079"
        ],
        [
         "27",
         "2002-04-01",
         "281147"
        ],
        [
         "28",
         "2002-05-01",
         "278966"
        ],
        [
         "29",
         "2002-06-01",
         "280426"
        ],
        [
         "30",
         "2002-07-01",
         "284161"
        ],
        [
         "31",
         "2002-08-01",
         "285884"
        ],
        [
         "32",
         "2002-09-01",
         "281064"
        ],
        [
         "33",
         "2002-10-01",
         "282940"
        ],
        [
         "34",
         "2002-11-01",
         "283408"
        ],
        [
         "35",
         "2002-12-01",
         "286646"
        ],
        [
         "36",
         "2003-01-01",
         "288657"
        ],
        [
         "37",
         "2003-02-01",
         "284696"
        ],
        [
         "38",
         "2003-03-01",
         "288177"
        ],
        [
         "39",
         "2003-04-01",
         "289053"
        ],
        [
         "40",
         "2003-05-01",
         "289619"
        ],
        [
         "41",
         "2003-06-01",
         "293671"
        ],
        [
         "42",
         "2003-07-01",
         "296207"
        ],
        [
         "43",
         "2003-08-01",
         "299592"
        ],
        [
         "44",
         "2003-09-01",
         "298921"
        ],
        [
         "45",
         "2003-10-01",
         "298205"
        ],
        [
         "46",
         "2003-11-01",
         "299433"
        ],
        [
         "47",
         "2003-12-01",
         "300702"
        ],
        [
         "48",
         "2004-01-01",
         "301993"
        ],
        [
         "49",
         "2004-02-01",
         "303915"
        ]
       ],
       "shape": {
        "columns": 2,
        "rows": 305
       }
      },
      "text/html": [
       "<div>\n",
       "<style scoped>\n",
       "    .dataframe tbody tr th:only-of-type {\n",
       "        vertical-align: middle;\n",
       "    }\n",
       "\n",
       "    .dataframe tbody tr th {\n",
       "        vertical-align: top;\n",
       "    }\n",
       "\n",
       "    .dataframe thead th {\n",
       "        text-align: right;\n",
       "    }\n",
       "</style>\n",
       "<table border=\"1\" class=\"dataframe\">\n",
       "  <thead>\n",
       "    <tr style=\"text-align: right;\">\n",
       "      <th></th>\n",
       "      <th>DATE</th>\n",
       "      <th>Retail_Sales_Retail_and_Food_Services_USA</th>\n",
       "    </tr>\n",
       "  </thead>\n",
       "  <tbody>\n",
       "    <tr>\n",
       "      <th>0</th>\n",
       "      <td>2000-01-01</td>\n",
       "      <td>261545</td>\n",
       "    </tr>\n",
       "    <tr>\n",
       "      <th>1</th>\n",
       "      <td>2000-02-01</td>\n",
       "      <td>265686</td>\n",
       "    </tr>\n",
       "    <tr>\n",
       "      <th>2</th>\n",
       "      <td>2000-03-01</td>\n",
       "      <td>269019</td>\n",
       "    </tr>\n",
       "    <tr>\n",
       "      <th>3</th>\n",
       "      <td>2000-04-01</td>\n",
       "      <td>264067</td>\n",
       "    </tr>\n",
       "    <tr>\n",
       "      <th>4</th>\n",
       "      <td>2000-05-01</td>\n",
       "      <td>265992</td>\n",
       "    </tr>\n",
       "    <tr>\n",
       "      <th>...</th>\n",
       "      <td>...</td>\n",
       "      <td>...</td>\n",
       "    </tr>\n",
       "    <tr>\n",
       "      <th>300</th>\n",
       "      <td>2025-01-01</td>\n",
       "      <td>711461</td>\n",
       "    </tr>\n",
       "    <tr>\n",
       "      <th>301</th>\n",
       "      <td>2025-02-01</td>\n",
       "      <td>711757</td>\n",
       "    </tr>\n",
       "    <tr>\n",
       "      <th>302</th>\n",
       "      <td>2025-03-01</td>\n",
       "      <td>722572</td>\n",
       "    </tr>\n",
       "    <tr>\n",
       "      <th>303</th>\n",
       "      <td>2025-04-01</td>\n",
       "      <td>721983</td>\n",
       "    </tr>\n",
       "    <tr>\n",
       "      <th>304</th>\n",
       "      <td>2025-05-01</td>\n",
       "      <td>715417</td>\n",
       "    </tr>\n",
       "  </tbody>\n",
       "</table>\n",
       "<p>305 rows × 2 columns</p>\n",
       "</div>"
      ],
      "text/plain": [
       "           DATE  Retail_Sales_Retail_and_Food_Services_USA\n",
       "0    2000-01-01                                     261545\n",
       "1    2000-02-01                                     265686\n",
       "2    2000-03-01                                     269019\n",
       "3    2000-04-01                                     264067\n",
       "4    2000-05-01                                     265992\n",
       "..          ...                                        ...\n",
       "300  2025-01-01                                     711461\n",
       "301  2025-02-01                                     711757\n",
       "302  2025-03-01                                     722572\n",
       "303  2025-04-01                                     721983\n",
       "304  2025-05-01                                     715417\n",
       "\n",
       "[305 rows x 2 columns]"
      ]
     },
     "execution_count": 24,
     "metadata": {},
     "output_type": "execute_result"
    }
   ],
   "source": [
    "df_us_retail = pd.read_csv(\"csv_files/idea_csv/usa_retail_sales.csv\")\n",
    "df_us_retail"
   ]
  },
  {
   "cell_type": "markdown",
   "id": "556249e1",
   "metadata": {},
   "source": [
    "#### Exchange Rates (China, Mexico, Canada, India, Vietnam)\n"
   ]
  },
  {
   "cell_type": "code",
   "execution_count": 25,
   "id": "eac1803e",
   "metadata": {
    "execution": {
     "iopub.status.busy": "2025-06-26T22:10:14.097201Z",
     "iopub.status.idle": "2025-06-26T22:10:14.097582Z",
     "shell.execute_reply": "2025-06-26T22:10:14.097429Z",
     "shell.execute_reply.started": "2025-06-26T22:10:14.097412Z"
    },
    "trusted": true
   },
   "outputs": [],
   "source": [
    "%%skip\n",
    "START = \"2001-06-17\"                 \n",
    "END   = date.today().isoformat()\n",
    "\n",
    "#    China (CNY per USD): DEXCHUS  \n",
    "#    Mexico (MXN per USD): DEXMXUS  \n",
    "#    Canada (CAD per USD): DEXCAUS  \n",
    "#    India (INR per USD): DEXINUS  \n",
    "cny = DataReader(\"DEXCHUS\", \"fred\", START, END)\n",
    "mxn = DataReader(\"DEXMXUS\", \"fred\", START, END)\n",
    "cad = DataReader(\"DEXCAUS\", \"fred\", START, END)\n",
    "inr = DataReader(\"DEXINUS\", \"fred\", START, END)\n",
    "\n",
    "# Vietnam via yfinance\n",
    "vn_df = yf.download(\n",
    "    \"USDVND=X\",\n",
    "    start=START,\n",
    "    end=END,\n",
    "    progress=False\n",
    ")\n",
    "vn = vn_df[[\"Close\"]].rename(columns={\"Close\": \"VND_per_USD\"})\n",
    "\n",
    "\n",
    "fx = pd.concat([cny, mxn, cad, inr, vn], axis=1).rename(columns={\n",
    "    \"DEXCHUS\": \"CNY_per_USD\",\n",
    "    \"DEXMXUS\": \"MXN_per_USD\",\n",
    "    \"DEXCAUS\": \"CAD_per_USD\",\n",
    "    \"DEXINUS\": \"INR_per_USD\"\n",
    "})\n",
    "\n",
    "df_fx = fx.resample(\"W-FRI\").mean().dropna(how=\"all\").round(4)\n",
    "\n",
    "\n",
    "OUTFILE = \"csv_files/idea_csv/foreign_exchange.csv\"\n",
    "df_fx.to_csv(OUTFILE)"
   ]
  },
  {
   "cell_type": "code",
   "execution_count": 26,
   "id": "08e87636",
   "metadata": {
    "execution": {
     "iopub.status.busy": "2025-06-26T22:10:14.098822Z",
     "iopub.status.idle": "2025-06-26T22:10:14.099158Z",
     "shell.execute_reply": "2025-06-26T22:10:14.099004Z",
     "shell.execute_reply.started": "2025-06-26T22:10:14.098989Z"
    },
    "trusted": true
   },
   "outputs": [
    {
     "data": {
      "application/vnd.microsoft.datawrangler.viewer.v0+json": {
       "columns": [
        {
         "name": "index",
         "rawType": "int64",
         "type": "integer"
        },
        {
         "name": "Unnamed: 0",
         "rawType": "object",
         "type": "string"
        },
        {
         "name": "CNY_per_USD",
         "rawType": "float64",
         "type": "float"
        },
        {
         "name": "MXN_per_USD",
         "rawType": "float64",
         "type": "float"
        },
        {
         "name": "CAD_per_USD",
         "rawType": "float64",
         "type": "float"
        },
        {
         "name": "INR_per_USD",
         "rawType": "float64",
         "type": "float"
        },
        {
         "name": "('VND_per_USD', 'USDVND=X')",
         "rawType": "float64",
         "type": "float"
        }
       ],
       "ref": "69955341-80e8-49b4-82b5-6c633ec08ffc",
       "rows": [
        [
         "0",
         "2001-06-22",
         "8.2771",
         "9.0712",
         "1.5308",
         "47.028",
         null
        ],
        [
         "1",
         "2001-06-29",
         "8.2768",
         "9.0695",
         "1.5184",
         "47.064",
         null
        ],
        [
         "2",
         "2001-07-06",
         "8.2768",
         "9.0672",
         "1.5146",
         "47.175",
         null
        ],
        [
         "3",
         "2001-07-13",
         "8.2768",
         "9.252",
         "1.527",
         "47.2",
         null
        ],
        [
         "4",
         "2001-07-20",
         "8.2768",
         "9.1962",
         "1.5404",
         "47.162",
         null
        ],
        [
         "5",
         "2001-07-27",
         "8.2771",
         "9.1434",
         "1.538",
         "47.172",
         null
        ],
        [
         "6",
         "2001-08-03",
         "8.2768",
         "9.1715",
         "1.5349",
         "47.162",
         null
        ],
        [
         "7",
         "2001-08-10",
         "8.2771",
         "9.1108",
         "1.535",
         "47.162",
         null
        ],
        [
         "8",
         "2001-08-17",
         "8.2771",
         "9.1019",
         "1.5367",
         "47.162",
         null
        ],
        [
         "9",
         "2001-08-24",
         "8.2769",
         "9.1289",
         "1.5445",
         "47.176",
         null
        ],
        [
         "10",
         "2001-08-31",
         "8.2769",
         "9.1608",
         "1.5445",
         "47.178",
         null
        ],
        [
         "11",
         "2001-09-07",
         "8.2768",
         "9.2665",
         "1.5602",
         "47.2275",
         null
        ],
        [
         "12",
         "2001-09-14",
         "8.2768",
         "9.4395",
         "1.5647",
         "47.5025",
         null
        ],
        [
         "13",
         "2001-09-21",
         "8.2767",
         "9.455",
         "1.5704",
         "47.978",
         null
        ],
        [
         "14",
         "2001-09-28",
         "8.277",
         "9.5112",
         "1.5743",
         "48.142",
         null
        ],
        [
         "15",
         "2001-10-05",
         "8.2768",
         "9.5372",
         "1.5697",
         "48.022",
         null
        ],
        [
         "16",
         "2001-10-12",
         "8.2767",
         "9.4089",
         "1.5664",
         "48.105",
         null
        ],
        [
         "17",
         "2001-10-19",
         "8.2768",
         "9.2404",
         "1.5682",
         "48.066",
         null
        ],
        [
         "18",
         "2001-10-26",
         "8.2769",
         "9.2341",
         "1.5756",
         "48.036",
         null
        ],
        [
         "19",
         "2001-11-02",
         "8.2769",
         "9.2656",
         "1.5856",
         "48.036",
         null
        ],
        [
         "20",
         "2001-11-09",
         "8.2767",
         "9.2196",
         "1.5967",
         "48.044",
         null
        ],
        [
         "21",
         "2001-11-16",
         "8.2768",
         "9.2272",
         "1.5911",
         "48.07",
         null
        ],
        [
         "22",
         "2001-11-23",
         "8.2769",
         "9.1664",
         "1.5945",
         "48.04",
         null
        ],
        [
         "23",
         "2001-11-30",
         "8.2772",
         "9.2529",
         "1.587",
         "48.022",
         null
        ],
        [
         "24",
         "2001-12-07",
         "8.2772",
         "9.2219",
         "1.574",
         "47.912",
         null
        ],
        [
         "25",
         "2001-12-14",
         "8.2768",
         "9.142",
         "1.5706",
         "47.852",
         null
        ],
        [
         "26",
         "2001-12-21",
         "8.2767",
         "9.1296",
         "1.575",
         "47.84",
         null
        ],
        [
         "27",
         "2001-12-28",
         "8.2744",
         "9.131",
         "1.5961",
         "48.1",
         null
        ],
        [
         "28",
         "2002-01-04",
         "8.2766",
         "9.127",
         "1.5962",
         "48.28",
         null
        ],
        [
         "29",
         "2002-01-11",
         "8.2767",
         "9.2079",
         "1.5976",
         "48.35",
         null
        ],
        [
         "30",
         "2002-01-18",
         "8.2787",
         "9.1599",
         "1.6011",
         "48.31",
         null
        ],
        [
         "31",
         "2002-01-25",
         "8.2766",
         "9.1425",
         "1.6057",
         "48.345",
         null
        ],
        [
         "32",
         "2002-02-01",
         "8.2766",
         "9.1665",
         "1.5952",
         "48.488",
         null
        ],
        [
         "33",
         "2002-02-08",
         "8.2766",
         "9.1426",
         "1.5991",
         "48.686",
         null
        ],
        [
         "34",
         "2002-02-15",
         "8.2768",
         "9.0752",
         "1.591",
         "48.752",
         null
        ],
        [
         "35",
         "2002-02-22",
         "8.2767",
         "9.0881",
         "1.5912",
         "48.6975",
         null
        ],
        [
         "36",
         "2002-03-01",
         "8.2766",
         "9.0981",
         "1.6042",
         "48.77",
         null
        ],
        [
         "37",
         "2002-03-08",
         "8.2769",
         "9.0784",
         "1.5864",
         "48.734",
         null
        ],
        [
         "38",
         "2002-03-15",
         "8.2778",
         "9.0918",
         "1.5888",
         "48.752",
         null
        ],
        [
         "39",
         "2002-03-22",
         "8.2773",
         "9.0635",
         "1.5818",
         "48.768",
         null
        ],
        [
         "40",
         "2002-03-29",
         "8.2772",
         "9.0162",
         "1.5924",
         "48.814",
         null
        ],
        [
         "41",
         "2002-04-05",
         "8.2773",
         "9.0265",
         "1.593",
         "48.874",
         null
        ],
        [
         "42",
         "2002-04-12",
         "8.2771",
         "9.053",
         "1.5919",
         "48.922",
         null
        ],
        [
         "43",
         "2002-04-19",
         "8.2772",
         "9.203",
         "1.5781",
         "48.946",
         null
        ],
        [
         "44",
         "2002-04-26",
         "8.2773",
         "9.2978",
         "1.5687",
         "48.99",
         null
        ],
        [
         "45",
         "2002-05-03",
         "8.2772",
         "9.4181",
         "1.5639",
         "48.99",
         null
        ],
        [
         "46",
         "2002-05-10",
         "8.2773",
         "9.4506",
         "1.5672",
         "48.988",
         null
        ],
        [
         "47",
         "2002-05-17",
         "8.2769",
         "9.4874",
         "1.5542",
         "49.036",
         null
        ],
        [
         "48",
         "2002-05-24",
         "8.277",
         "9.5255",
         "1.537",
         "49.034",
         null
        ],
        [
         "49",
         "2002-05-31",
         "8.2766",
         "9.634",
         "1.5316",
         "49.03",
         null
        ]
       ],
       "shape": {
        "columns": 6,
        "rows": 1253
       }
      },
      "text/html": [
       "<div>\n",
       "<style scoped>\n",
       "    .dataframe tbody tr th:only-of-type {\n",
       "        vertical-align: middle;\n",
       "    }\n",
       "\n",
       "    .dataframe tbody tr th {\n",
       "        vertical-align: top;\n",
       "    }\n",
       "\n",
       "    .dataframe thead th {\n",
       "        text-align: right;\n",
       "    }\n",
       "</style>\n",
       "<table border=\"1\" class=\"dataframe\">\n",
       "  <thead>\n",
       "    <tr style=\"text-align: right;\">\n",
       "      <th></th>\n",
       "      <th>Unnamed: 0</th>\n",
       "      <th>CNY_per_USD</th>\n",
       "      <th>MXN_per_USD</th>\n",
       "      <th>CAD_per_USD</th>\n",
       "      <th>INR_per_USD</th>\n",
       "      <th>('VND_per_USD', 'USDVND=X')</th>\n",
       "    </tr>\n",
       "  </thead>\n",
       "  <tbody>\n",
       "    <tr>\n",
       "      <th>0</th>\n",
       "      <td>2001-06-22</td>\n",
       "      <td>8.2771</td>\n",
       "      <td>9.0712</td>\n",
       "      <td>1.5308</td>\n",
       "      <td>47.028</td>\n",
       "      <td>NaN</td>\n",
       "    </tr>\n",
       "    <tr>\n",
       "      <th>1</th>\n",
       "      <td>2001-06-29</td>\n",
       "      <td>8.2768</td>\n",
       "      <td>9.0695</td>\n",
       "      <td>1.5184</td>\n",
       "      <td>47.064</td>\n",
       "      <td>NaN</td>\n",
       "    </tr>\n",
       "    <tr>\n",
       "      <th>2</th>\n",
       "      <td>2001-07-06</td>\n",
       "      <td>8.2768</td>\n",
       "      <td>9.0672</td>\n",
       "      <td>1.5146</td>\n",
       "      <td>47.175</td>\n",
       "      <td>NaN</td>\n",
       "    </tr>\n",
       "    <tr>\n",
       "      <th>3</th>\n",
       "      <td>2001-07-13</td>\n",
       "      <td>8.2768</td>\n",
       "      <td>9.2520</td>\n",
       "      <td>1.5270</td>\n",
       "      <td>47.200</td>\n",
       "      <td>NaN</td>\n",
       "    </tr>\n",
       "    <tr>\n",
       "      <th>4</th>\n",
       "      <td>2001-07-20</td>\n",
       "      <td>8.2768</td>\n",
       "      <td>9.1962</td>\n",
       "      <td>1.5404</td>\n",
       "      <td>47.162</td>\n",
       "      <td>NaN</td>\n",
       "    </tr>\n",
       "    <tr>\n",
       "      <th>...</th>\n",
       "      <td>...</td>\n",
       "      <td>...</td>\n",
       "      <td>...</td>\n",
       "      <td>...</td>\n",
       "      <td>...</td>\n",
       "      <td>...</td>\n",
       "    </tr>\n",
       "    <tr>\n",
       "      <th>1248</th>\n",
       "      <td>2025-05-23</td>\n",
       "      <td>7.2038</td>\n",
       "      <td>19.3119</td>\n",
       "      <td>1.3864</td>\n",
       "      <td>85.558</td>\n",
       "      <td>25944.4</td>\n",
       "    </tr>\n",
       "    <tr>\n",
       "      <th>1249</th>\n",
       "      <td>2025-05-30</td>\n",
       "      <td>7.1934</td>\n",
       "      <td>19.3442</td>\n",
       "      <td>1.3788</td>\n",
       "      <td>85.420</td>\n",
       "      <td>25938.4</td>\n",
       "    </tr>\n",
       "    <tr>\n",
       "      <th>1250</th>\n",
       "      <td>2025-06-06</td>\n",
       "      <td>7.1865</td>\n",
       "      <td>19.2013</td>\n",
       "      <td>1.3688</td>\n",
       "      <td>85.646</td>\n",
       "      <td>26041.2</td>\n",
       "    </tr>\n",
       "    <tr>\n",
       "      <th>1251</th>\n",
       "      <td>2025-06-13</td>\n",
       "      <td>7.1827</td>\n",
       "      <td>18.9487</td>\n",
       "      <td>1.3642</td>\n",
       "      <td>85.670</td>\n",
       "      <td>26018.4</td>\n",
       "    </tr>\n",
       "    <tr>\n",
       "      <th>1252</th>\n",
       "      <td>2025-06-20</td>\n",
       "      <td>NaN</td>\n",
       "      <td>NaN</td>\n",
       "      <td>NaN</td>\n",
       "      <td>NaN</td>\n",
       "      <td>26050.0</td>\n",
       "    </tr>\n",
       "  </tbody>\n",
       "</table>\n",
       "<p>1253 rows × 6 columns</p>\n",
       "</div>"
      ],
      "text/plain": [
       "      Unnamed: 0  CNY_per_USD  MXN_per_USD  CAD_per_USD  INR_per_USD  \\\n",
       "0     2001-06-22       8.2771       9.0712       1.5308       47.028   \n",
       "1     2001-06-29       8.2768       9.0695       1.5184       47.064   \n",
       "2     2001-07-06       8.2768       9.0672       1.5146       47.175   \n",
       "3     2001-07-13       8.2768       9.2520       1.5270       47.200   \n",
       "4     2001-07-20       8.2768       9.1962       1.5404       47.162   \n",
       "...          ...          ...          ...          ...          ...   \n",
       "1248  2025-05-23       7.2038      19.3119       1.3864       85.558   \n",
       "1249  2025-05-30       7.1934      19.3442       1.3788       85.420   \n",
       "1250  2025-06-06       7.1865      19.2013       1.3688       85.646   \n",
       "1251  2025-06-13       7.1827      18.9487       1.3642       85.670   \n",
       "1252  2025-06-20          NaN          NaN          NaN          NaN   \n",
       "\n",
       "      ('VND_per_USD', 'USDVND=X')  \n",
       "0                             NaN  \n",
       "1                             NaN  \n",
       "2                             NaN  \n",
       "3                             NaN  \n",
       "4                             NaN  \n",
       "...                           ...  \n",
       "1248                      25944.4  \n",
       "1249                      25938.4  \n",
       "1250                      26041.2  \n",
       "1251                      26018.4  \n",
       "1252                      26050.0  \n",
       "\n",
       "[1253 rows x 6 columns]"
      ]
     },
     "execution_count": 26,
     "metadata": {},
     "output_type": "execute_result"
    }
   ],
   "source": [
    "df_fx = pd.read_csv(\"csv_files/idea_csv/foreign_exchange.csv\")\n",
    "df_fx"
   ]
  },
  {
   "cell_type": "markdown",
   "id": "c96b6f4e",
   "metadata": {},
   "source": [
    "#### US External Tax Rate"
   ]
  },
  {
   "cell_type": "code",
   "execution_count": 27,
   "id": "3c1f4120",
   "metadata": {
    "execution": {
     "iopub.status.busy": "2025-06-26T22:10:14.100168Z",
     "iopub.status.idle": "2025-06-26T22:10:14.100513Z",
     "shell.execute_reply": "2025-06-26T22:10:14.100336Z",
     "shell.execute_reply.started": "2025-06-26T22:10:14.100321Z"
    },
    "trusted": true
   },
   "outputs": [],
   "source": [
    "%%skip\n",
    "INDICATOR   = \"TM.TAX.MRCH.WM.AR.ZS\"  # Tariff rate %\n",
    "COUNTRIES   = [\"CN\", \"IN\", \"MX\", \"CA\", \"VN\"]\n",
    "START_YEAR  = 2000\n",
    "END_YEAR    = date.today().year\n",
    "\n",
    "# from World Bank\n",
    "df_us_tariff = wb.download(\n",
    "    indicator=INDICATOR,\n",
    "    country=COUNTRIES,\n",
    "    start=START_YEAR,\n",
    "    end=END_YEAR\n",
    ")\n",
    "\n",
    "df_us_tariff = df_us_tariff.reset_index().pivot(index=\"year\", columns=\"country\", values=INDICATOR)\n",
    "\n",
    "df_us_tariff = df_us_tariff.rename(columns={\n",
    "    \"CN\": \"China_Applied_Tariff_%\", \n",
    "    \"IN\": \"India_Applied_Tariff_%\", \n",
    "    \"MX\": \"Mexico_Applied_Tariff_%\", \n",
    "    \"CA\": \"Canada_Applied_Tariff_%\", \n",
    "    \"VN\": \"Vietnam_Applied_Tariff_%\"\n",
    "})\n",
    "\n",
    "\n",
    "OUTFILE = \"csv_files/idea_csv/external_tax_rates.csv\"\n",
    "df_us_tariff.to_csv(OUTFILE, index_label=\"Year\")"
   ]
  },
  {
   "cell_type": "code",
   "execution_count": 28,
   "id": "7ffeee62",
   "metadata": {
    "execution": {
     "iopub.status.busy": "2025-06-26T22:10:14.101818Z",
     "iopub.status.idle": "2025-06-26T22:10:14.102144Z",
     "shell.execute_reply": "2025-06-26T22:10:14.101994Z",
     "shell.execute_reply.started": "2025-06-26T22:10:14.101979Z"
    },
    "trusted": true
   },
   "outputs": [
    {
     "data": {
      "application/vnd.microsoft.datawrangler.viewer.v0+json": {
       "columns": [
        {
         "name": "index",
         "rawType": "int64",
         "type": "integer"
        },
        {
         "name": "Year",
         "rawType": "int64",
         "type": "integer"
        },
        {
         "name": "Canada",
         "rawType": "float64",
         "type": "float"
        },
        {
         "name": "China",
         "rawType": "float64",
         "type": "float"
        },
        {
         "name": "India",
         "rawType": "float64",
         "type": "float"
        },
        {
         "name": "Mexico",
         "rawType": "float64",
         "type": "float"
        },
        {
         "name": "Viet Nam",
         "rawType": "float64",
         "type": "float"
        }
       ],
       "ref": "d7901191-a82d-4f32-b7ff-619f9365e904",
       "rows": [
        [
         "0",
         "2000",
         "1.31",
         "14.67",
         "23.36",
         "15.15",
         null
        ],
        [
         "1",
         "2001",
         "1.6",
         "14.11",
         "26.51",
         "15.24",
         "15.29"
        ],
        [
         "2",
         "2002",
         "1.49",
         "7.72",
         "23.08",
         "5.03",
         "14.73"
        ],
        [
         "3",
         "2003",
         "2.46",
         "6.48",
         "21.45",
         "15.44",
         "11.79"
        ],
        [
         "4",
         "2004",
         "1.51",
         "5.96",
         "22.96",
         "3.0",
         "11.69"
        ],
        [
         "5",
         "2005",
         "1.46",
         "4.87",
         "13.9",
         "3.0",
         "11.35"
        ],
        [
         "6",
         "2006",
         "1.45",
         "4.25",
         "8.99",
         "2.39",
         "10.21"
        ],
        [
         "7",
         "2007",
         "1.54",
         "5.07",
         "11.99",
         "2.41",
         "9.13"
        ],
        [
         "8",
         "2008",
         "1.54",
         "4.47",
         "5.98",
         "1.87",
         "5.03"
        ],
        [
         "9",
         "2009",
         "1.7",
         "3.94",
         "6.84",
         "1.61",
         "6.76"
        ],
        [
         "10",
         "2010",
         "1.46",
         "4.65",
         "6.1",
         "5.37",
         "5.02"
        ],
        [
         "11",
         "2011",
         "1.38",
         "5.99",
         "7.33",
         "5.37",
         null
        ],
        [
         "12",
         "2012",
         "1.4",
         null,
         "6.32",
         "5.17",
         "3.65"
        ],
        [
         "13",
         "2013",
         "1.45",
         null,
         "6.34",
         "4.87",
         "3.54"
        ],
        [
         "14",
         "2014",
         "1.43",
         "4.74",
         null,
         "1.02",
         "3.43"
        ],
        [
         "15",
         "2015",
         "1.65",
         "4.52",
         "7.32",
         "4.45",
         "3.14"
        ],
        [
         "16",
         "2016",
         "1.56",
         "3.54",
         "6.35",
         "4.35",
         "2.86"
        ],
        [
         "17",
         "2017",
         "1.52",
         "3.83",
         "5.78",
         "1.24",
         "2.69"
        ],
        [
         "18",
         "2018",
         "1.47",
         "3.39",
         "4.88",
         "1.21",
         "4.39"
        ],
        [
         "19",
         "2019",
         "1.51",
         "2.53",
         "6.59",
         null,
         "1.66"
        ],
        [
         "20",
         "2020",
         "1.49",
         "2.47",
         "6.19",
         null,
         "1.34"
        ],
        [
         "21",
         "2021",
         "2.35",
         "2.31",
         "5.87",
         null,
         "1.17"
        ],
        [
         "22",
         "2022",
         "1.37",
         "2.18",
         "4.59",
         "1.62",
         "1.07"
        ],
        [
         "23",
         "2023",
         null,
         null,
         null,
         null,
         null
        ],
        [
         "24",
         "2024",
         null,
         null,
         null,
         null,
         null
        ]
       ],
       "shape": {
        "columns": 6,
        "rows": 25
       }
      },
      "text/html": [
       "<div>\n",
       "<style scoped>\n",
       "    .dataframe tbody tr th:only-of-type {\n",
       "        vertical-align: middle;\n",
       "    }\n",
       "\n",
       "    .dataframe tbody tr th {\n",
       "        vertical-align: top;\n",
       "    }\n",
       "\n",
       "    .dataframe thead th {\n",
       "        text-align: right;\n",
       "    }\n",
       "</style>\n",
       "<table border=\"1\" class=\"dataframe\">\n",
       "  <thead>\n",
       "    <tr style=\"text-align: right;\">\n",
       "      <th></th>\n",
       "      <th>Year</th>\n",
       "      <th>Canada</th>\n",
       "      <th>China</th>\n",
       "      <th>India</th>\n",
       "      <th>Mexico</th>\n",
       "      <th>Viet Nam</th>\n",
       "    </tr>\n",
       "  </thead>\n",
       "  <tbody>\n",
       "    <tr>\n",
       "      <th>0</th>\n",
       "      <td>2000</td>\n",
       "      <td>1.31</td>\n",
       "      <td>14.67</td>\n",
       "      <td>23.36</td>\n",
       "      <td>15.15</td>\n",
       "      <td>NaN</td>\n",
       "    </tr>\n",
       "    <tr>\n",
       "      <th>1</th>\n",
       "      <td>2001</td>\n",
       "      <td>1.60</td>\n",
       "      <td>14.11</td>\n",
       "      <td>26.51</td>\n",
       "      <td>15.24</td>\n",
       "      <td>15.29</td>\n",
       "    </tr>\n",
       "    <tr>\n",
       "      <th>2</th>\n",
       "      <td>2002</td>\n",
       "      <td>1.49</td>\n",
       "      <td>7.72</td>\n",
       "      <td>23.08</td>\n",
       "      <td>5.03</td>\n",
       "      <td>14.73</td>\n",
       "    </tr>\n",
       "    <tr>\n",
       "      <th>3</th>\n",
       "      <td>2003</td>\n",
       "      <td>2.46</td>\n",
       "      <td>6.48</td>\n",
       "      <td>21.45</td>\n",
       "      <td>15.44</td>\n",
       "      <td>11.79</td>\n",
       "    </tr>\n",
       "    <tr>\n",
       "      <th>4</th>\n",
       "      <td>2004</td>\n",
       "      <td>1.51</td>\n",
       "      <td>5.96</td>\n",
       "      <td>22.96</td>\n",
       "      <td>3.00</td>\n",
       "      <td>11.69</td>\n",
       "    </tr>\n",
       "    <tr>\n",
       "      <th>5</th>\n",
       "      <td>2005</td>\n",
       "      <td>1.46</td>\n",
       "      <td>4.87</td>\n",
       "      <td>13.90</td>\n",
       "      <td>3.00</td>\n",
       "      <td>11.35</td>\n",
       "    </tr>\n",
       "    <tr>\n",
       "      <th>6</th>\n",
       "      <td>2006</td>\n",
       "      <td>1.45</td>\n",
       "      <td>4.25</td>\n",
       "      <td>8.99</td>\n",
       "      <td>2.39</td>\n",
       "      <td>10.21</td>\n",
       "    </tr>\n",
       "    <tr>\n",
       "      <th>7</th>\n",
       "      <td>2007</td>\n",
       "      <td>1.54</td>\n",
       "      <td>5.07</td>\n",
       "      <td>11.99</td>\n",
       "      <td>2.41</td>\n",
       "      <td>9.13</td>\n",
       "    </tr>\n",
       "    <tr>\n",
       "      <th>8</th>\n",
       "      <td>2008</td>\n",
       "      <td>1.54</td>\n",
       "      <td>4.47</td>\n",
       "      <td>5.98</td>\n",
       "      <td>1.87</td>\n",
       "      <td>5.03</td>\n",
       "    </tr>\n",
       "    <tr>\n",
       "      <th>9</th>\n",
       "      <td>2009</td>\n",
       "      <td>1.70</td>\n",
       "      <td>3.94</td>\n",
       "      <td>6.84</td>\n",
       "      <td>1.61</td>\n",
       "      <td>6.76</td>\n",
       "    </tr>\n",
       "    <tr>\n",
       "      <th>10</th>\n",
       "      <td>2010</td>\n",
       "      <td>1.46</td>\n",
       "      <td>4.65</td>\n",
       "      <td>6.10</td>\n",
       "      <td>5.37</td>\n",
       "      <td>5.02</td>\n",
       "    </tr>\n",
       "    <tr>\n",
       "      <th>11</th>\n",
       "      <td>2011</td>\n",
       "      <td>1.38</td>\n",
       "      <td>5.99</td>\n",
       "      <td>7.33</td>\n",
       "      <td>5.37</td>\n",
       "      <td>NaN</td>\n",
       "    </tr>\n",
       "    <tr>\n",
       "      <th>12</th>\n",
       "      <td>2012</td>\n",
       "      <td>1.40</td>\n",
       "      <td>NaN</td>\n",
       "      <td>6.32</td>\n",
       "      <td>5.17</td>\n",
       "      <td>3.65</td>\n",
       "    </tr>\n",
       "    <tr>\n",
       "      <th>13</th>\n",
       "      <td>2013</td>\n",
       "      <td>1.45</td>\n",
       "      <td>NaN</td>\n",
       "      <td>6.34</td>\n",
       "      <td>4.87</td>\n",
       "      <td>3.54</td>\n",
       "    </tr>\n",
       "    <tr>\n",
       "      <th>14</th>\n",
       "      <td>2014</td>\n",
       "      <td>1.43</td>\n",
       "      <td>4.74</td>\n",
       "      <td>NaN</td>\n",
       "      <td>1.02</td>\n",
       "      <td>3.43</td>\n",
       "    </tr>\n",
       "    <tr>\n",
       "      <th>15</th>\n",
       "      <td>2015</td>\n",
       "      <td>1.65</td>\n",
       "      <td>4.52</td>\n",
       "      <td>7.32</td>\n",
       "      <td>4.45</td>\n",
       "      <td>3.14</td>\n",
       "    </tr>\n",
       "    <tr>\n",
       "      <th>16</th>\n",
       "      <td>2016</td>\n",
       "      <td>1.56</td>\n",
       "      <td>3.54</td>\n",
       "      <td>6.35</td>\n",
       "      <td>4.35</td>\n",
       "      <td>2.86</td>\n",
       "    </tr>\n",
       "    <tr>\n",
       "      <th>17</th>\n",
       "      <td>2017</td>\n",
       "      <td>1.52</td>\n",
       "      <td>3.83</td>\n",
       "      <td>5.78</td>\n",
       "      <td>1.24</td>\n",
       "      <td>2.69</td>\n",
       "    </tr>\n",
       "    <tr>\n",
       "      <th>18</th>\n",
       "      <td>2018</td>\n",
       "      <td>1.47</td>\n",
       "      <td>3.39</td>\n",
       "      <td>4.88</td>\n",
       "      <td>1.21</td>\n",
       "      <td>4.39</td>\n",
       "    </tr>\n",
       "    <tr>\n",
       "      <th>19</th>\n",
       "      <td>2019</td>\n",
       "      <td>1.51</td>\n",
       "      <td>2.53</td>\n",
       "      <td>6.59</td>\n",
       "      <td>NaN</td>\n",
       "      <td>1.66</td>\n",
       "    </tr>\n",
       "    <tr>\n",
       "      <th>20</th>\n",
       "      <td>2020</td>\n",
       "      <td>1.49</td>\n",
       "      <td>2.47</td>\n",
       "      <td>6.19</td>\n",
       "      <td>NaN</td>\n",
       "      <td>1.34</td>\n",
       "    </tr>\n",
       "    <tr>\n",
       "      <th>21</th>\n",
       "      <td>2021</td>\n",
       "      <td>2.35</td>\n",
       "      <td>2.31</td>\n",
       "      <td>5.87</td>\n",
       "      <td>NaN</td>\n",
       "      <td>1.17</td>\n",
       "    </tr>\n",
       "    <tr>\n",
       "      <th>22</th>\n",
       "      <td>2022</td>\n",
       "      <td>1.37</td>\n",
       "      <td>2.18</td>\n",
       "      <td>4.59</td>\n",
       "      <td>1.62</td>\n",
       "      <td>1.07</td>\n",
       "    </tr>\n",
       "    <tr>\n",
       "      <th>23</th>\n",
       "      <td>2023</td>\n",
       "      <td>NaN</td>\n",
       "      <td>NaN</td>\n",
       "      <td>NaN</td>\n",
       "      <td>NaN</td>\n",
       "      <td>NaN</td>\n",
       "    </tr>\n",
       "    <tr>\n",
       "      <th>24</th>\n",
       "      <td>2024</td>\n",
       "      <td>NaN</td>\n",
       "      <td>NaN</td>\n",
       "      <td>NaN</td>\n",
       "      <td>NaN</td>\n",
       "      <td>NaN</td>\n",
       "    </tr>\n",
       "  </tbody>\n",
       "</table>\n",
       "</div>"
      ],
      "text/plain": [
       "    Year  Canada  China  India  Mexico  Viet Nam\n",
       "0   2000    1.31  14.67  23.36   15.15       NaN\n",
       "1   2001    1.60  14.11  26.51   15.24     15.29\n",
       "2   2002    1.49   7.72  23.08    5.03     14.73\n",
       "3   2003    2.46   6.48  21.45   15.44     11.79\n",
       "4   2004    1.51   5.96  22.96    3.00     11.69\n",
       "5   2005    1.46   4.87  13.90    3.00     11.35\n",
       "6   2006    1.45   4.25   8.99    2.39     10.21\n",
       "7   2007    1.54   5.07  11.99    2.41      9.13\n",
       "8   2008    1.54   4.47   5.98    1.87      5.03\n",
       "9   2009    1.70   3.94   6.84    1.61      6.76\n",
       "10  2010    1.46   4.65   6.10    5.37      5.02\n",
       "11  2011    1.38   5.99   7.33    5.37       NaN\n",
       "12  2012    1.40    NaN   6.32    5.17      3.65\n",
       "13  2013    1.45    NaN   6.34    4.87      3.54\n",
       "14  2014    1.43   4.74    NaN    1.02      3.43\n",
       "15  2015    1.65   4.52   7.32    4.45      3.14\n",
       "16  2016    1.56   3.54   6.35    4.35      2.86\n",
       "17  2017    1.52   3.83   5.78    1.24      2.69\n",
       "18  2018    1.47   3.39   4.88    1.21      4.39\n",
       "19  2019    1.51   2.53   6.59     NaN      1.66\n",
       "20  2020    1.49   2.47   6.19     NaN      1.34\n",
       "21  2021    2.35   2.31   5.87     NaN      1.17\n",
       "22  2022    1.37   2.18   4.59    1.62      1.07\n",
       "23  2023     NaN    NaN    NaN     NaN       NaN\n",
       "24  2024     NaN    NaN    NaN     NaN       NaN"
      ]
     },
     "execution_count": 28,
     "metadata": {},
     "output_type": "execute_result"
    }
   ],
   "source": [
    "df_us_tariff = pd.read_csv(\"csv_files/idea_csv/external_tax_rates.csv\")\n",
    "df_us_tariff"
   ]
  },
  {
   "cell_type": "markdown",
   "id": "a5f8530b",
   "metadata": {},
   "source": [
    "#### Holidays"
   ]
  },
  {
   "cell_type": "code",
   "execution_count": 29,
   "id": "b56fb08e",
   "metadata": {
    "execution": {
     "iopub.status.busy": "2025-06-26T22:10:14.103124Z",
     "iopub.status.idle": "2025-06-26T22:10:14.103504Z",
     "shell.execute_reply": "2025-06-26T22:10:14.103318Z",
     "shell.execute_reply.started": "2025-06-26T22:10:14.103303Z"
    },
    "trusted": true
   },
   "outputs": [],
   "source": [
    "%%skip\n",
    "def nth_weekday(year, month, weekday, n):\n",
    "    \"\"\"\n",
    "    Return the date of the nth occurrence of the given weekday\n",
    "    in the specified month and year.\n",
    "    weekday: Monday=0, Sunday=6\n",
    "    \"\"\"\n",
    "    d = date(year, month, 1)\n",
    "    count = 0\n",
    "    while True:\n",
    "        if d.weekday() == weekday:\n",
    "            count += 1\n",
    "            if count == n:\n",
    "                return d\n",
    "        d += timedelta(days=1)\n",
    "\n",
    "# Super Bowl dates per your list\n",
    "super_bowl_day = {2010: 12, 2011: 11, 2012: 10, 2013: 8}\n",
    "\n",
    "years = range(2010, 2014)\n",
    "records = []\n",
    "\n",
    "for year in years:\n",
    "    # Fixed‐date holidays\n",
    "    records += [\n",
    "        {\"Date\": pd.Timestamp(date(year, 2, 14)),  \"Holiday\": \"Valentine's Day\"},\n",
    "        {\"Date\": pd.Timestamp(date(year, 3, 17)),  \"Holiday\": \"St. Patrick's Day\"},\n",
    "        {\"Date\": pd.Timestamp(date(year, 7, 4)),   \"Holiday\": \"Independence Day\"},\n",
    "        {\"Date\": pd.Timestamp(date(year,10,31)),   \"Holiday\": \"Halloween\"},\n",
    "        {\"Date\": pd.Timestamp(date(year,12,24)),   \"Holiday\": \"Christmas Eve\"},\n",
    "        {\"Date\": pd.Timestamp(date(year,12,25)),   \"Holiday\": \"Christmas Day\"},\n",
    "        {\"Date\": pd.Timestamp(date(year,12,31)),   \"Holiday\": \"New Year's Eve\"},\n",
    "        # Super Bowl\n",
    "        {\"Date\": pd.Timestamp(date(year, 2, super_bowl_day[year])), \"Holiday\": \"Super Bowl\"},\n",
    "    ]\n",
    "    \n",
    "    # Presidents' Day: 3rd Monday in February\n",
    "    pd_day = nth_weekday(year, 2, 0, 3)\n",
    "    records.append({\"Date\": pd.Timestamp(pd_day), \"Holiday\": \"Presidents' Day\"})\n",
    "    \n",
    "    # Mother's Day: 2nd Sunday in May\n",
    "    md = nth_weekday(year, 5, 6, 2)\n",
    "    records.append({\"Date\": pd.Timestamp(md), \"Holiday\": \"Mother's Day\"})\n",
    "    \n",
    "    # Father's Day: 3rd Sunday in June\n",
    "    fd = nth_weekday(year, 6, 6, 3)\n",
    "    records.append({\"Date\": pd.Timestamp(fd), \"Holiday\": \"Father's Day\"})\n",
    "    \n",
    "    # Memorial Day: last Monday in May\n",
    "    d_mem = date(year, 5, 31)\n",
    "    while d_mem.weekday() != 0:  # 0 = Monday\n",
    "        d_mem -= timedelta(days=1)\n",
    "    records.append({\"Date\": pd.Timestamp(d_mem), \"Holiday\": \"Memorial Day\"})\n",
    "    \n",
    "    # Labor Day: 1st Monday in September\n",
    "    ld = nth_weekday(year, 9, 0, 1)\n",
    "    records.append({\"Date\": pd.Timestamp(ld), \"Holiday\": \"Labor Day\"})\n",
    "    \n",
    "    # Good Friday & Easter\n",
    "    eas = easter(year)\n",
    "    gf = eas - timedelta(days=2)\n",
    "    records.append({\"Date\": pd.Timestamp(gf), \"Holiday\": \"Good Friday\"})\n",
    "    records.append({\"Date\": pd.Timestamp(eas), \"Holiday\": \"Easter Sunday\"})\n",
    "    \n",
    "    # Daylight Saving Time\n",
    "    dst_start = nth_weekday(year, 3, 6, 2)   # 2nd Sunday in March\n",
    "    dst_end   = nth_weekday(year,11, 6, 1)   # 1st Sunday in November\n",
    "    records.append({\"Date\": pd.Timestamp(dst_start), \"Holiday\": \"DST Start\"})\n",
    "    records.append({\"Date\": pd.Timestamp(dst_end),   \"Holiday\": \"DST End\"})\n",
    "    \n",
    "    # Thanksgiving & related\n",
    "    th = nth_weekday(year, 11, 3, 4)  # 4th Thu in Nov\n",
    "    records.append({\"Date\": pd.Timestamp(th), \"Holiday\": \"Thanksgiving\"})\n",
    "    records.append({\"Date\": pd.Timestamp(th + timedelta(days=1)), \"Holiday\": \"Black Friday\"})\n",
    "    records.append({\"Date\": pd.Timestamp(th + timedelta(days=2)), \"Holiday\": \"Small Business Saturday\"})\n",
    "    records.append({\"Date\": pd.Timestamp(th + timedelta(days=4)), \"Holiday\": \"Cyber Monday\"})\n",
    "    # Super Saturday: last Saturday before Christmas Eve\n",
    "    d2 = date(year, 12, 24) - timedelta(days=1)\n",
    "    while d2.weekday() != 5: d2 -= timedelta(days=1)\n",
    "    records.append({\"Date\": pd.Timestamp(d2), \"Holiday\": \"Super Saturday\"})\n",
    "    \n",
    "    # Green Monday: 2nd Monday in December\n",
    "    gm = nth_weekday(year, 12, 0, 2)\n",
    "    records.append({\"Date\": pd.Timestamp(gm), \"Holiday\": \"Green Monday\"})\n",
    "    \n",
    "    # 2012‐only events\n",
    "    if year == 2012:\n",
    "        records.append({\"Date\": pd.Timestamp(date(2012, 7, 27)), \"Holiday\": \"Olympics Opening\"})\n",
    "        records.append({\"Date\": pd.Timestamp(date(2012,11, 6)), \"Holiday\": \"Presidential Election\"})\n",
    "\n",
    "# Build the DataFrame\n",
    "df_us_holidays = (\n",
    "    pd.DataFrame(records)\n",
    "      .drop_duplicates(subset=\"Date\")      # in case any collide\n",
    "      .sort_values(\"Date\")\n",
    "      .reset_index(drop=True)\n",
    ")\n",
    "\n",
    "# Save or merge as needed\n",
    "df_us_holidays.to_csv(\"csv_files/idea_csv/df_us_holidays.csv\", index=False)\n"
   ]
  },
  {
   "cell_type": "code",
   "execution_count": 30,
   "id": "3611fc71",
   "metadata": {
    "execution": {
     "iopub.status.busy": "2025-06-26T22:10:14.104262Z",
     "iopub.status.idle": "2025-06-26T22:10:14.104611Z",
     "shell.execute_reply": "2025-06-26T22:10:14.104463Z",
     "shell.execute_reply.started": "2025-06-26T22:10:14.104438Z"
    },
    "trusted": true
   },
   "outputs": [],
   "source": [
    "df_us_holidays = pd.read_csv(\"csv_files/idea_csv/df_us_holidays.csv\")\n"
   ]
  },
  {
   "cell_type": "code",
   "execution_count": 31,
   "id": "9b20727e",
   "metadata": {
    "execution": {
     "iopub.status.busy": "2025-06-26T22:10:14.105738Z",
     "iopub.status.idle": "2025-06-26T22:10:14.10607Z",
     "shell.execute_reply": "2025-06-26T22:10:14.105918Z",
     "shell.execute_reply.started": "2025-06-26T22:10:14.105904Z"
    },
    "trusted": true
   },
   "outputs": [
    {
     "name": "stdout",
     "output_type": "stream",
     "text": [
      "          Date            Holiday\n",
      "0   2010-02-12         Super Bowl\n",
      "1   2010-02-14    Valentine's Day\n",
      "2   2010-02-15    Presidents' Day\n",
      "3   2010-03-14          DST Start\n",
      "4   2010-03-17  St. Patrick's Day\n",
      "..         ...                ...\n",
      "89  2013-12-09       Green Monday\n",
      "90  2013-12-21     Super Saturday\n",
      "91  2013-12-24      Christmas Eve\n",
      "92  2013-12-25      Christmas Day\n",
      "93  2013-12-31     New Year's Eve\n",
      "\n",
      "[94 rows x 2 columns]\n"
     ]
    }
   ],
   "source": [
    "print(df_us_holidays)"
   ]
  },
  {
   "cell_type": "code",
   "execution_count": 32,
   "id": "d10bbba2",
   "metadata": {
    "execution": {
     "iopub.status.busy": "2025-06-26T22:10:14.108715Z",
     "iopub.status.idle": "2025-06-26T22:10:14.108989Z",
     "shell.execute_reply": "2025-06-26T22:10:14.108884Z",
     "shell.execute_reply.started": "2025-06-26T22:10:14.108873Z"
    },
    "trusted": true
   },
   "outputs": [],
   "source": [
    "%%skip\n",
    "#  parâmetros\n",
    "ramp_up_days   = 42\n",
    "ramp_down_days = 14\n",
    "window_days    = ramp_up_days + ramp_down_days    \n",
    "\n",
    "# dados de entrada \n",
    "df_us_holidays['Date'] = pd.to_datetime(df_us_holidays['Date']).dt.normalize()\n",
    "holidays = df_us_holidays['Date'].tolist()\n",
    "\n",
    "df_holiday_impact = df_walmart_train[['Date']].copy()\n",
    "df_holiday_impact['Date'] = pd.to_datetime(df_holiday_impact['Date']).dt.normalize()\n",
    "df_holiday_impact['HolidayImpact'] = 0.0\n",
    "\n",
    "#  função vectorizada para um único feriado\n",
    "def add_one_holiday(peak_date):\n",
    "    start = peak_date - timedelta(days=ramp_up_days)\n",
    "    end   = peak_date + timedelta(days=ramp_down_days)\n",
    "\n",
    "    mask = (df_holiday_impact['Date'] >= start) & (df_holiday_impact['Date'] <= end)\n",
    "    if not mask.any():   \n",
    "        return\n",
    "\n",
    "    diff = (df_holiday_impact.loc[mask, 'Date'] - peak_date).dt.days.to_numpy()\n",
    "\n",
    "    # parte esquerda (ramp-up: diff ∈ [-14, 0])\n",
    "    up_mask   = diff <= 0\n",
    "    x_up      = (ramp_up_days + diff[up_mask]) / ramp_up_days          # 0→1\n",
    "    weights   = np.zeros_like(diff, dtype=float)\n",
    "    weights[up_mask] = 0.5 * (1 - np.cos(np.pi * x_up))\n",
    "\n",
    "    # parte direita (ramp-down: diff ∈ (0, 42])\n",
    "    down_mask = diff > 0\n",
    "    x_down    = diff[down_mask] / ramp_down_days                       # 0→1\n",
    "    weights[down_mask] = 0.5 * (1 + np.cos(np.pi * x_down))\n",
    "\n",
    "    # soma ao total\n",
    "    df_holiday_impact.loc[mask, 'HolidayImpact'] += weights\n",
    "\n",
    "#  corre todos os feriados \n",
    "for hday in holidays:\n",
    "    add_one_holiday(hday)\n",
    "\n",
    "df_holiday_impact['HolidayImpact'] = df_holiday_impact['HolidayImpact']\n",
    "\n",
    "df_holiday_impact.to_csv('csv_files/idea_csv/df_holiday_impact.csv', index=False)"
   ]
  },
  {
   "cell_type": "code",
   "execution_count": 33,
   "id": "85a722ea",
   "metadata": {
    "execution": {
     "iopub.status.busy": "2025-06-26T22:10:14.109953Z",
     "iopub.status.idle": "2025-06-26T22:10:14.110571Z",
     "shell.execute_reply": "2025-06-26T22:10:14.11038Z",
     "shell.execute_reply.started": "2025-06-26T22:10:14.110357Z"
    },
    "trusted": true
   },
   "outputs": [],
   "source": [
    "df_holiday_impact = pd.read_csv('csv_files/idea_csv/df_holiday_impact.csv')"
   ]
  },
  {
   "cell_type": "code",
   "execution_count": 34,
   "id": "4a0ff4c4",
   "metadata": {
    "execution": {
     "iopub.status.busy": "2025-06-26T22:10:14.111765Z",
     "iopub.status.idle": "2025-06-26T22:10:14.112145Z",
     "shell.execute_reply": "2025-06-26T22:10:14.11197Z",
     "shell.execute_reply.started": "2025-06-26T22:10:14.111952Z"
    },
    "trusted": true
   },
   "outputs": [
    {
     "data": {
      "application/vnd.microsoft.datawrangler.viewer.v0+json": {
       "columns": [
        {
         "name": "index",
         "rawType": "int64",
         "type": "integer"
        },
        {
         "name": "Date",
         "rawType": "object",
         "type": "string"
        },
        {
         "name": "HolidayImpact",
         "rawType": "float64",
         "type": "float"
        }
       ],
       "ref": "2158ec3c-1eee-47a4-bb00-1e84e31dbd3a",
       "rows": [
        [
         "0",
         "2010-02-05",
         "0.8909157412340148"
        ],
        [
         "1",
         "2010-02-12",
         "0.9944154131125642"
        ],
        [
         "2",
         "2010-02-19",
         "0.716941869558779"
        ],
        [
         "3",
         "2010-02-26",
         "0.0840786917266883"
        ],
        [
         "4",
         "2010-03-05",
         "0.1882550990706332"
        ],
        [
         "5",
         "2010-03-12",
         "0.4254788669119128"
        ],
        [
         "6",
         "2010-03-19",
         "0.6826705121831975"
        ],
        [
         "7",
         "2010-03-26",
         "0.8909157412340148"
        ],
        [
         "8",
         "2010-04-02",
         "1.028978538790462"
        ],
        [
         "9",
         "2010-04-09",
         "0.9051969686294122"
        ],
        [
         "10",
         "2010-04-16",
         "0.4749944329607032"
        ],
        [
         "11",
         "2010-04-23",
         "0.7048841092901271"
        ],
        [
         "12",
         "2010-04-30",
         "1.0508293723485551"
        ],
        [
         "13",
         "2010-05-07",
         "1.383154946134407"
        ],
        [
         "14",
         "2010-05-14",
         "1.3988825824421292"
        ],
        [
         "15",
         "2010-05-21",
         "1.104296601034337"
        ],
        [
         "16",
         "2010-05-28",
         "1.4475059486807225"
        ],
        [
         "17",
         "2010-06-04",
         "1.6826705121831975"
        ],
        [
         "18",
         "2010-06-11",
         "1.4254788669119127"
        ],
        [
         "19",
         "2010-06-18",
         "1.6770859252957615"
        ],
        [
         "20",
         "2010-06-25",
         "1.6078576107927938"
        ],
        [
         "21",
         "2010-07-02",
         "1.043930979161355"
        ],
        [
         "22",
         "2010-07-09",
         "0.716941869558779"
        ],
        [
         "23",
         "2010-07-16",
         "0.0495155660487904"
        ],
        [
         "24",
         "2010-07-23",
         "0.0"
        ],
        [
         "25",
         "2010-07-30",
         "0.0222135971069296"
        ],
        [
         "26",
         "2010-08-06",
         "0.1599136311145403"
        ],
        [
         "27",
         "2010-08-13",
         "0.3887395330218428"
        ],
        [
         "28",
         "2010-08-20",
         "0.6473775872054521"
        ],
        [
         "29",
         "2010-08-27",
         "0.866525935914913"
        ],
        [
         "30",
         "2010-09-03",
         "0.9874639560909118"
        ],
        [
         "31",
         "2010-09-10",
         "0.8117449009293668"
        ],
        [
         "32",
         "2010-09-17",
         "0.1090842587659851"
        ],
        [
         "33",
         "2010-09-24",
         "0.0345631256778978"
        ],
        [
         "34",
         "2010-10-01",
         "0.1882550990706332"
        ],
        [
         "35",
         "2010-10-08",
         "0.4254788669119128"
        ],
        [
         "36",
         "2010-10-15",
         "0.6840686135926075"
        ],
        [
         "37",
         "2010-10-22",
         "1.1165128153395183"
        ],
        [
         "38",
         "2010-10-29",
         "1.9057271456365144"
        ],
        [
         "39",
         "2010-11-05",
         "2.627894999687552"
        ],
        [
         "40",
         "2010-11-12",
         "3.1549242490081637"
        ],
        [
         "41",
         "2010-11-19",
         "4.386724827062942"
        ],
        [
         "42",
         "2010-11-26",
         "5.618869620260623"
        ],
        [
         "43",
         "2010-12-03",
         "5.107847659609846"
        ],
        [
         "44",
         "2010-12-10",
         "3.9891455154827615"
        ],
        [
         "45",
         "2010-12-17",
         "4.406478888570174"
        ],
        [
         "46",
         "2010-12-24",
         "3.651959326226952"
        ],
        [
         "47",
         "2010-12-31",
         "2.1237965108872454"
        ],
        [
         "48",
         "2011-01-07",
         "0.5347496410160179"
        ],
        [
         "49",
         "2011-01-14",
         "0.1599136311145403"
        ]
       ],
       "shape": {
        "columns": 2,
        "rows": 421570
       }
      },
      "text/html": [
       "<div>\n",
       "<style scoped>\n",
       "    .dataframe tbody tr th:only-of-type {\n",
       "        vertical-align: middle;\n",
       "    }\n",
       "\n",
       "    .dataframe tbody tr th {\n",
       "        vertical-align: top;\n",
       "    }\n",
       "\n",
       "    .dataframe thead th {\n",
       "        text-align: right;\n",
       "    }\n",
       "</style>\n",
       "<table border=\"1\" class=\"dataframe\">\n",
       "  <thead>\n",
       "    <tr style=\"text-align: right;\">\n",
       "      <th></th>\n",
       "      <th>Date</th>\n",
       "      <th>HolidayImpact</th>\n",
       "    </tr>\n",
       "  </thead>\n",
       "  <tbody>\n",
       "    <tr>\n",
       "      <th>0</th>\n",
       "      <td>2010-02-05</td>\n",
       "      <td>0.890916</td>\n",
       "    </tr>\n",
       "    <tr>\n",
       "      <th>1</th>\n",
       "      <td>2010-02-12</td>\n",
       "      <td>0.994415</td>\n",
       "    </tr>\n",
       "    <tr>\n",
       "      <th>2</th>\n",
       "      <td>2010-02-19</td>\n",
       "      <td>0.716942</td>\n",
       "    </tr>\n",
       "    <tr>\n",
       "      <th>3</th>\n",
       "      <td>2010-02-26</td>\n",
       "      <td>0.084079</td>\n",
       "    </tr>\n",
       "    <tr>\n",
       "      <th>4</th>\n",
       "      <td>2010-03-05</td>\n",
       "      <td>0.188255</td>\n",
       "    </tr>\n",
       "    <tr>\n",
       "      <th>...</th>\n",
       "      <td>...</td>\n",
       "      <td>...</td>\n",
       "    </tr>\n",
       "    <tr>\n",
       "      <th>421565</th>\n",
       "      <td>2012-09-28</td>\n",
       "      <td>0.109084</td>\n",
       "    </tr>\n",
       "    <tr>\n",
       "      <th>421566</th>\n",
       "      <td>2012-10-05</td>\n",
       "      <td>0.317329</td>\n",
       "    </tr>\n",
       "    <tr>\n",
       "      <th>421567</th>\n",
       "      <td>2012-10-12</td>\n",
       "      <td>0.575919</td>\n",
       "    </tr>\n",
       "    <tr>\n",
       "      <th>421568</th>\n",
       "      <td>2012-10-19</td>\n",
       "      <td>1.037342</td>\n",
       "    </tr>\n",
       "    <tr>\n",
       "      <th>421569</th>\n",
       "      <td>2012-10-26</td>\n",
       "      <td>1.876749</td>\n",
       "    </tr>\n",
       "  </tbody>\n",
       "</table>\n",
       "<p>421570 rows × 2 columns</p>\n",
       "</div>"
      ],
      "text/plain": [
       "              Date  HolidayImpact\n",
       "0       2010-02-05       0.890916\n",
       "1       2010-02-12       0.994415\n",
       "2       2010-02-19       0.716942\n",
       "3       2010-02-26       0.084079\n",
       "4       2010-03-05       0.188255\n",
       "...            ...            ...\n",
       "421565  2012-09-28       0.109084\n",
       "421566  2012-10-05       0.317329\n",
       "421567  2012-10-12       0.575919\n",
       "421568  2012-10-19       1.037342\n",
       "421569  2012-10-26       1.876749\n",
       "\n",
       "[421570 rows x 2 columns]"
      ]
     },
     "execution_count": 34,
     "metadata": {},
     "output_type": "execute_result"
    }
   ],
   "source": [
    "df_holiday_impact"
   ]
  },
  {
   "cell_type": "markdown",
   "id": "53a0ce63",
   "metadata": {},
   "source": [
    "#### Tax Return"
   ]
  },
  {
   "cell_type": "markdown",
   "id": "ec547b96",
   "metadata": {},
   "source": [
    "Train"
   ]
  },
  {
   "cell_type": "code",
   "execution_count": 35,
   "id": "1bf355ee",
   "metadata": {
    "execution": {
     "iopub.status.busy": "2025-06-26T22:10:14.113541Z",
     "iopub.status.idle": "2025-06-26T22:10:14.113878Z",
     "shell.execute_reply": "2025-06-26T22:10:14.113746Z",
     "shell.execute_reply.started": "2025-06-26T22:10:14.113729Z"
    },
    "trusted": true
   },
   "outputs": [],
   "source": [
    "%%skip\n",
    "df_tax_return_train = df_walmart_train[[\"Date\"]].copy()\n",
    "df_tax_return_train\n"
   ]
  },
  {
   "cell_type": "code",
   "execution_count": 36,
   "id": "a428b117",
   "metadata": {
    "execution": {
     "iopub.status.busy": "2025-06-26T22:10:14.115529Z",
     "iopub.status.idle": "2025-06-26T22:10:14.115854Z",
     "shell.execute_reply": "2025-06-26T22:10:14.115743Z",
     "shell.execute_reply.started": "2025-06-26T22:10:14.115727Z"
    },
    "trusted": true
   },
   "outputs": [],
   "source": [
    "%%skip\n",
    "ramp_up_days   = 14 \n",
    "ramp_down_days = 42  \n",
    "\n",
    "def filing_deadline(year):\n",
    "    \"\"\"\n",
    "    IRS filing deadline April 15, bumped to Monday if on a weekend.\n",
    "    \"\"\"\n",
    "    d = date(year, 4, 15)\n",
    "    while d.weekday() >= 5:  # \n",
    "        d += timedelta(days=1)\n",
    "    return pd.Timestamp(d)\n",
    "\n",
    "\n",
    "def tax_return_weight(ts, ramp_up=ramp_up_days, ramp_down=ramp_down_days):\n",
    "    \"\"\"\n",
    "    Smooth raised-cosine weight:\n",
    "      • 0 before (deadline - ramp_up)\n",
    "      • ramps up from 0→1 over `ramp_up` days\n",
    "      • ramps down from 1→0 over `ramp_down` days\n",
    "      • 0 after (deadline + ramp_down)\n",
    "    \"\"\"\n",
    "    ts   = pd.Timestamp(ts).normalize()\n",
    "    peak = filing_deadline(ts.year)\n",
    "    start = peak - timedelta(days=ramp_up)\n",
    "    end   = peak + timedelta(days=ramp_down)\n",
    "\n",
    "    if ts < start or ts > end:\n",
    "        return 0.0\n",
    "\n",
    "    if ts <= peak:\n",
    "        # fraction of ramp-up completed [0…1]\n",
    "        x = (ts - start).days / ramp_up\n",
    "        # raised‐cosine from 0→1\n",
    "        return 0.5 * (1 - np.cos(np.pi * x))\n",
    "    else:\n",
    "        # fraction of ramp-down completed [0…1]\n",
    "        x = (ts - peak).days / ramp_down\n",
    "        # raised‐cosine from 1→0\n",
    "        return 0.5 * (1 + np.cos(np.pi * x))\n",
    "\n",
    "\n",
    "df_tax_return_train = df_walmart_train[['Date']].copy()\n",
    "df_tax_return_train['TaxReturnImpact'] = (\n",
    "    df_tax_return_train['Date']\n",
    "      .dt.normalize()\n",
    "      .map(tax_return_weight)\n",
    ")\n",
    "\n",
    "df_tax_return_train.to_csv('csv_files/idea_csv/df_tax_return_train.csv', index=False)\n"
   ]
  },
  {
   "cell_type": "code",
   "execution_count": 37,
   "id": "c3fafe35",
   "metadata": {
    "execution": {
     "iopub.status.busy": "2025-06-26T22:10:14.116798Z",
     "iopub.status.idle": "2025-06-26T22:10:14.117193Z",
     "shell.execute_reply": "2025-06-26T22:10:14.117054Z",
     "shell.execute_reply.started": "2025-06-26T22:10:14.117036Z"
    },
    "trusted": true
   },
   "outputs": [],
   "source": [
    "%%skip\n",
    "df_unique = df_tax_return_train.drop_duplicates(subset='Date', keep='first')"
   ]
  },
  {
   "cell_type": "code",
   "execution_count": 38,
   "id": "1dfd1022",
   "metadata": {
    "execution": {
     "iopub.status.busy": "2025-06-26T22:10:14.120597Z",
     "iopub.status.idle": "2025-06-26T22:10:14.120893Z",
     "shell.execute_reply": "2025-06-26T22:10:14.120782Z",
     "shell.execute_reply.started": "2025-06-26T22:10:14.120769Z"
    },
    "trusted": true
   },
   "outputs": [],
   "source": [
    "%%skip\n",
    "df_tax_return_train = pd.read_csv('csv_files/idea_csv/df_tax_return_train.csv')"
   ]
  },
  {
   "cell_type": "markdown",
   "id": "24f4f2ca",
   "metadata": {},
   "source": [
    "Test"
   ]
  },
  {
   "cell_type": "code",
   "execution_count": 39,
   "id": "31cd2010",
   "metadata": {
    "execution": {
     "iopub.status.busy": "2025-06-26T22:10:14.122091Z",
     "iopub.status.idle": "2025-06-26T22:10:14.122349Z",
     "shell.execute_reply": "2025-06-26T22:10:14.12223Z",
     "shell.execute_reply.started": "2025-06-26T22:10:14.122218Z"
    },
    "trusted": true
   },
   "outputs": [],
   "source": [
    "%%skip\n",
    "ramp_up_days   = 14 \n",
    "ramp_down_days = 42  \n",
    "\n",
    "def filing_deadline(year):\n",
    "    \"\"\"\n",
    "    IRS filing deadline April 15, bumped to Monday if on a weekend.\n",
    "    \"\"\"\n",
    "    d = date(year, 4, 15)\n",
    "    while d.weekday() >= 5:\n",
    "        d += timedelta(days=1)\n",
    "    return pd.Timestamp(d)\n",
    "\n",
    "# ─── SMOOTH WEIGHT FUNCTION ───────────────────────────────\n",
    "def tax_return_weight(ts, ramp_up=ramp_up_days, ramp_down=ramp_down_days):\n",
    "    \"\"\"\n",
    "    Smooth raised-cosine weight:\n",
    "      • 0 before (deadline - ramp_up)\n",
    "      • ramps up from 0→1 over `ramp_up` days\n",
    "      • ramps down from 1→0 over `ramp_down` days\n",
    "      • 0 after (deadline + ramp_down)\n",
    "    \"\"\"\n",
    "    ts   = pd.Timestamp(ts).normalize()\n",
    "    peak = filing_deadline(ts.year)\n",
    "    start = peak - timedelta(days=ramp_up)\n",
    "    end   = peak + timedelta(days=ramp_down)\n",
    "\n",
    "    if ts < start or ts > end:\n",
    "        return 0.0\n",
    "\n",
    "    if ts <= peak:\n",
    "        # fraction of ramp-up completed [0…1]\n",
    "        x = (ts - start).days / ramp_up\n",
    "        # raised‐cosine from 0→1\n",
    "        return 0.5 * (1 - np.cos(np.pi * x))\n",
    "    else:\n",
    "        # fraction of ramp-down completed [0…1]\n",
    "        x = (ts - peak).days / ramp_down\n",
    "        # raised‐cosine from 1→0\n",
    "        return 0.5 * (1 + np.cos(np.pi * x))\n",
    "\n",
    "df_tax_return_test = df_walmart_test[['Date']].copy()\n",
    "df_tax_return_test['TaxReturnImpact'] = (\n",
    "    df_tax_return_test['Date']\n",
    "      .dt.normalize()\n",
    "      .map(tax_return_weight)\n",
    ")\n",
    "\n",
    "df_tax_return_test.to_csv('csv_files/idea_csv/df_tax_return_test.csv', index=False)\n"
   ]
  },
  {
   "cell_type": "code",
   "execution_count": 40,
   "id": "de2931b9",
   "metadata": {
    "execution": {
     "iopub.status.busy": "2025-06-26T22:10:14.123652Z",
     "iopub.status.idle": "2025-06-26T22:10:14.123994Z",
     "shell.execute_reply": "2025-06-26T22:10:14.123846Z",
     "shell.execute_reply.started": "2025-06-26T22:10:14.123831Z"
    },
    "trusted": true
   },
   "outputs": [],
   "source": [
    "df_tax_return_test = pd.read_csv('csv_files/idea_csv/df_tax_return_test.csv')"
   ]
  },
  {
   "cell_type": "code",
   "execution_count": 41,
   "id": "3f955cc3",
   "metadata": {
    "execution": {
     "iopub.status.busy": "2025-06-26T22:10:14.125015Z",
     "iopub.status.idle": "2025-06-26T22:10:14.125527Z",
     "shell.execute_reply": "2025-06-26T22:10:14.125339Z",
     "shell.execute_reply.started": "2025-06-26T22:10:14.125315Z"
    },
    "trusted": true
   },
   "outputs": [
    {
     "data": {
      "application/vnd.microsoft.datawrangler.viewer.v0+json": {
       "columns": [
        {
         "name": "index",
         "rawType": "int64",
         "type": "integer"
        },
        {
         "name": "Date",
         "rawType": "object",
         "type": "string"
        },
        {
         "name": "TaxReturnImpact",
         "rawType": "float64",
         "type": "float"
        }
       ],
       "ref": "e3b9103b-7ad6-49be-91b7-d6eb0118dc6a",
       "rows": [
        [
         "0",
         "2012-11-02",
         "0.0"
        ],
        [
         "1",
         "2012-11-09",
         "0.0"
        ],
        [
         "2",
         "2012-11-16",
         "0.0"
        ],
        [
         "3",
         "2012-11-23",
         "0.0"
        ],
        [
         "4",
         "2012-11-30",
         "0.0"
        ],
        [
         "5",
         "2012-12-07",
         "0.0"
        ],
        [
         "6",
         "2012-12-14",
         "0.0"
        ],
        [
         "7",
         "2012-12-21",
         "0.0"
        ],
        [
         "8",
         "2012-12-28",
         "0.0"
        ],
        [
         "9",
         "2013-01-04",
         "0.0"
        ],
        [
         "10",
         "2013-01-11",
         "0.0"
        ],
        [
         "11",
         "2013-01-18",
         "0.0"
        ],
        [
         "12",
         "2013-01-25",
         "0.0"
        ],
        [
         "13",
         "2013-02-01",
         "0.0"
        ],
        [
         "14",
         "2013-02-08",
         "0.0"
        ],
        [
         "15",
         "2013-02-15",
         "0.0"
        ],
        [
         "16",
         "2013-02-22",
         "0.0"
        ],
        [
         "17",
         "2013-03-01",
         "0.0"
        ],
        [
         "18",
         "2013-03-08",
         "0.0"
        ],
        [
         "19",
         "2013-03-15",
         "0.0"
        ],
        [
         "20",
         "2013-03-22",
         "0.0"
        ],
        [
         "21",
         "2013-03-29",
         "0.0"
        ],
        [
         "22",
         "2013-04-05",
         "0.1882550990706332"
        ],
        [
         "23",
         "2013-04-12",
         "0.8909157412340148"
        ],
        [
         "24",
         "2013-04-19",
         "0.9777864028930704"
        ],
        [
         "25",
         "2013-04-26",
         "0.8400863688854596"
        ],
        [
         "26",
         "2013-05-03",
         "0.6112604669781572"
        ],
        [
         "27",
         "2013-05-10",
         "0.3526224127945478"
        ],
        [
         "28",
         "2013-05-17",
         "0.133474064085087"
        ],
        [
         "29",
         "2013-05-24",
         "0.0125360439090881"
        ],
        [
         "30",
         "2013-05-31",
         "0.0"
        ],
        [
         "31",
         "2013-06-07",
         "0.0"
        ],
        [
         "32",
         "2013-06-14",
         "0.0"
        ],
        [
         "33",
         "2013-06-21",
         "0.0"
        ],
        [
         "34",
         "2013-06-28",
         "0.0"
        ],
        [
         "35",
         "2013-07-05",
         "0.0"
        ],
        [
         "36",
         "2013-07-12",
         "0.0"
        ],
        [
         "37",
         "2013-07-19",
         "0.0"
        ],
        [
         "38",
         "2013-07-26",
         "0.0"
        ],
        [
         "39",
         "2012-11-02",
         "0.0"
        ],
        [
         "40",
         "2012-11-09",
         "0.0"
        ],
        [
         "41",
         "2012-11-16",
         "0.0"
        ],
        [
         "42",
         "2012-11-23",
         "0.0"
        ],
        [
         "43",
         "2012-11-30",
         "0.0"
        ],
        [
         "44",
         "2012-12-07",
         "0.0"
        ],
        [
         "45",
         "2012-12-14",
         "0.0"
        ],
        [
         "46",
         "2012-12-21",
         "0.0"
        ],
        [
         "47",
         "2012-12-28",
         "0.0"
        ],
        [
         "48",
         "2013-01-04",
         "0.0"
        ],
        [
         "49",
         "2013-01-11",
         "0.0"
        ]
       ],
       "shape": {
        "columns": 2,
        "rows": 115064
       }
      },
      "text/html": [
       "<div>\n",
       "<style scoped>\n",
       "    .dataframe tbody tr th:only-of-type {\n",
       "        vertical-align: middle;\n",
       "    }\n",
       "\n",
       "    .dataframe tbody tr th {\n",
       "        vertical-align: top;\n",
       "    }\n",
       "\n",
       "    .dataframe thead th {\n",
       "        text-align: right;\n",
       "    }\n",
       "</style>\n",
       "<table border=\"1\" class=\"dataframe\">\n",
       "  <thead>\n",
       "    <tr style=\"text-align: right;\">\n",
       "      <th></th>\n",
       "      <th>Date</th>\n",
       "      <th>TaxReturnImpact</th>\n",
       "    </tr>\n",
       "  </thead>\n",
       "  <tbody>\n",
       "    <tr>\n",
       "      <th>0</th>\n",
       "      <td>2012-11-02</td>\n",
       "      <td>0.0</td>\n",
       "    </tr>\n",
       "    <tr>\n",
       "      <th>1</th>\n",
       "      <td>2012-11-09</td>\n",
       "      <td>0.0</td>\n",
       "    </tr>\n",
       "    <tr>\n",
       "      <th>2</th>\n",
       "      <td>2012-11-16</td>\n",
       "      <td>0.0</td>\n",
       "    </tr>\n",
       "    <tr>\n",
       "      <th>3</th>\n",
       "      <td>2012-11-23</td>\n",
       "      <td>0.0</td>\n",
       "    </tr>\n",
       "    <tr>\n",
       "      <th>4</th>\n",
       "      <td>2012-11-30</td>\n",
       "      <td>0.0</td>\n",
       "    </tr>\n",
       "    <tr>\n",
       "      <th>...</th>\n",
       "      <td>...</td>\n",
       "      <td>...</td>\n",
       "    </tr>\n",
       "    <tr>\n",
       "      <th>115059</th>\n",
       "      <td>2013-06-28</td>\n",
       "      <td>0.0</td>\n",
       "    </tr>\n",
       "    <tr>\n",
       "      <th>115060</th>\n",
       "      <td>2013-07-05</td>\n",
       "      <td>0.0</td>\n",
       "    </tr>\n",
       "    <tr>\n",
       "      <th>115061</th>\n",
       "      <td>2013-07-12</td>\n",
       "      <td>0.0</td>\n",
       "    </tr>\n",
       "    <tr>\n",
       "      <th>115062</th>\n",
       "      <td>2013-07-19</td>\n",
       "      <td>0.0</td>\n",
       "    </tr>\n",
       "    <tr>\n",
       "      <th>115063</th>\n",
       "      <td>2013-07-26</td>\n",
       "      <td>0.0</td>\n",
       "    </tr>\n",
       "  </tbody>\n",
       "</table>\n",
       "<p>115064 rows × 2 columns</p>\n",
       "</div>"
      ],
      "text/plain": [
       "              Date  TaxReturnImpact\n",
       "0       2012-11-02              0.0\n",
       "1       2012-11-09              0.0\n",
       "2       2012-11-16              0.0\n",
       "3       2012-11-23              0.0\n",
       "4       2012-11-30              0.0\n",
       "...            ...              ...\n",
       "115059  2013-06-28              0.0\n",
       "115060  2013-07-05              0.0\n",
       "115061  2013-07-12              0.0\n",
       "115062  2013-07-19              0.0\n",
       "115063  2013-07-26              0.0\n",
       "\n",
       "[115064 rows x 2 columns]"
      ]
     },
     "execution_count": 41,
     "metadata": {},
     "output_type": "execute_result"
    }
   ],
   "source": [
    "df_tax_return_test"
   ]
  },
  {
   "cell_type": "markdown",
   "id": "d51bedab",
   "metadata": {},
   "source": [
    "#### Stores Types & Sizes"
   ]
  },
  {
   "cell_type": "code",
   "execution_count": 42,
   "id": "06cccb9d",
   "metadata": {
    "execution": {
     "iopub.status.busy": "2025-06-26T22:10:14.127707Z",
     "iopub.status.idle": "2025-06-26T22:10:14.129062Z",
     "shell.execute_reply": "2025-06-26T22:10:14.128871Z",
     "shell.execute_reply.started": "2025-06-26T22:10:14.128848Z"
    },
    "trusted": true
   },
   "outputs": [],
   "source": [
    "%%skip\n",
    "df_walmart_train['Store']  = df_walmart_train['Store'].astype(str)\n",
    "df_walmart_stores['Store'] = df_walmart_stores['Store'].astype(str)\n",
    "\n",
    "# Merge the store metadata into your training DataFrame\n",
    "df_store_types_sizes = df_walmart_train.merge(\n",
    "    df_walmart_stores,     \n",
    "    on='Store',             \n",
    "    how='left',       \n",
    "    validate='many_to_one'  \n",
    ")"
   ]
  },
  {
   "cell_type": "code",
   "execution_count": 43,
   "id": "797265fe",
   "metadata": {
    "execution": {
     "iopub.status.busy": "2025-06-26T22:10:14.130112Z",
     "iopub.status.idle": "2025-06-26T22:10:14.130417Z",
     "shell.execute_reply": "2025-06-26T22:10:14.130288Z",
     "shell.execute_reply.started": "2025-06-26T22:10:14.130265Z"
    },
    "trusted": true
   },
   "outputs": [],
   "source": [
    "%%skip\n",
    "df_store_types_sizes = df_store_types_sizes.loc[:, [\"Store\",\"Type\",\"Size\"]]"
   ]
  },
  {
   "cell_type": "markdown",
   "id": "94ef73b4",
   "metadata": {},
   "source": [
    "#### Oil Price The U.S. domestic"
   ]
  },
  {
   "cell_type": "code",
   "execution_count": 44,
   "id": "e79e31d2",
   "metadata": {
    "execution": {
     "iopub.status.busy": "2025-06-26T22:10:14.133836Z",
     "iopub.status.idle": "2025-06-26T22:10:14.134165Z",
     "shell.execute_reply": "2025-06-26T22:10:14.134038Z",
     "shell.execute_reply.started": "2025-06-26T22:10:14.134022Z"
    },
    "trusted": true
   },
   "outputs": [],
   "source": [
    "%%skip\n",
    "start = \"2010-02-05\"\n",
    "end   = date.today().isoformat()\n",
    " \n",
    "df_us_oil_price = DataReader(\"DCOILWTICO\", \"fred\", start, end)\n",
    "\n",
    "wti_weekly = df_us_oil_price.resample(\"W-FRI\").mean().rename(\n",
    "    columns={\"DCOILWTICO\":\"WTI_Weekly_Mean_Price\"}\n",
    ")\n",
    "df_us_oil_price.to_csv('csv_files/idea_csv/df_us_oil_price.csv')"
   ]
  },
  {
   "cell_type": "code",
   "execution_count": 45,
   "id": "6c47a64b",
   "metadata": {
    "execution": {
     "iopub.status.busy": "2025-06-26T22:10:14.135358Z",
     "iopub.status.idle": "2025-06-26T22:10:14.135715Z",
     "shell.execute_reply": "2025-06-26T22:10:14.135567Z",
     "shell.execute_reply.started": "2025-06-26T22:10:14.135551Z"
    },
    "trusted": true
   },
   "outputs": [],
   "source": [
    "%%skip\n",
    "df_us_oil_price = pd.read_csv('csv_files/idea_csv/df_us_oil_price.csv')"
   ]
  },
  {
   "cell_type": "markdown",
   "id": "d78f1794",
   "metadata": {},
   "source": [
    "#### U.S. ISM Manufacturing PMI & ISM Services PMI\n"
   ]
  },
  {
   "cell_type": "code",
   "execution_count": 46,
   "id": "4b0ba176",
   "metadata": {
    "execution": {
     "iopub.status.busy": "2025-06-26T22:10:14.139348Z",
     "iopub.status.idle": "2025-06-26T22:10:14.139698Z",
     "shell.execute_reply": "2025-06-26T22:10:14.139582Z",
     "shell.execute_reply.started": "2025-06-26T22:10:14.139569Z"
    },
    "trusted": true
   },
   "outputs": [],
   "source": [
    "%%skip\n",
    "# Get columns names\n",
    "df_man = ak.macro_usa_ism_pmi()\n",
    "\n",
    "print(\"Columns in df_man:\", df_man.columns.tolist())\n"
   ]
  },
  {
   "cell_type": "code",
   "execution_count": 47,
   "id": "dcad5ebe",
   "metadata": {
    "execution": {
     "iopub.status.busy": "2025-06-26T22:10:14.140809Z",
     "iopub.status.idle": "2025-06-26T22:10:14.141103Z",
     "shell.execute_reply": "2025-06-26T22:10:14.140995Z",
     "shell.execute_reply.started": "2025-06-26T22:10:14.14098Z"
    },
    "trusted": true
   },
   "outputs": [],
   "source": [
    "%%skip\n",
    "START, END = \"2009-01-01\", \"2014-12-31\"\n",
    "\n",
    "df_man = ak.macro_usa_ism_pmi()\n",
    "\n",
    "df_man = df_man.rename(columns={\n",
    "    \"日期\": \"Date\",\n",
    "    \"今值\": \"ISM_Manufacturing_PMI\"\n",
    "})\n",
    "df_man[\"Date\"] = pd.to_datetime(df_man[\"Date\"], format=\"%Y-%m\")\n",
    "df_man = (\n",
    "    df_man.set_index(\"Date\")[[\"ISM_Manufacturing_PMI\"]]\n",
    "    .sort_index()\n",
    "    .loc[START:END]\n",
    ")\n",
    "\n",
    "df_svc = ak.macro_usa_ism_non_pmi()\n",
    "\n",
    "df_svc = df_svc.rename(columns={\n",
    "    \"日期\": \"Date\",\n",
    "    \"今值\": \"ISM_Services_PMI\"\n",
    "})\n",
    "df_svc[\"Date\"] = pd.to_datetime(df_svc[\"Date\"], format=\"%Y-%m\")\n",
    "df_svc = (\n",
    "    df_svc.set_index(\"Date\")[[\"ISM_Services_PMI\"]]\n",
    "    .sort_index()\n",
    "    .loc[START:END]\n",
    ")\n",
    "\n",
    "df_us_ism = df_man.join(df_svc, how=\"outer\")\n",
    "\n",
    "df_us_ism.to_csv('csv_files/idea_csv/df_us_ism.csv')\n"
   ]
  },
  {
   "cell_type": "code",
   "execution_count": 48,
   "id": "bdcf123d",
   "metadata": {
    "execution": {
     "iopub.status.busy": "2025-06-26T22:10:14.142108Z",
     "iopub.status.idle": "2025-06-26T22:10:14.142513Z",
     "shell.execute_reply": "2025-06-26T22:10:14.142334Z",
     "shell.execute_reply.started": "2025-06-26T22:10:14.142316Z"
    },
    "trusted": true
   },
   "outputs": [],
   "source": [
    "%%skip\n",
    "df_us_ism = pd.read_csv('csv_files/idea_csv/df_us_ism.csv')\n",
    "df_us_ism"
   ]
  },
  {
   "cell_type": "markdown",
   "id": "21e29c85",
   "metadata": {},
   "source": [
    "#### US CPI Food & Beverages\n"
   ]
  },
  {
   "cell_type": "code",
   "execution_count": 49,
   "id": "d43223c8",
   "metadata": {
    "execution": {
     "iopub.status.busy": "2025-06-26T22:10:14.143891Z",
     "iopub.status.idle": "2025-06-26T22:10:14.144194Z",
     "shell.execute_reply": "2025-06-26T22:10:14.144084Z",
     "shell.execute_reply.started": "2025-06-26T22:10:14.144073Z"
    },
    "trusted": true
   },
   "outputs": [],
   "source": [
    "%%skip\n",
    "START, END = \"2009-01-01\", \"2014-12-31\"\n",
    "\n",
    "df_us_cpi_food = DataReader(\"CPIFABSL\", \"fred\", START, END)\n",
    "\n",
    "df_us_cpi_food.rename(columns={\"CPIFABSL\": \"CPI_Food_Beverages\"}, inplace=True)\n",
    "\n",
    "df_us_cpi_food = (\n",
    "    df_us_cpi_food[\"CPI_Food_Beverages\"]\n",
    "    .resample(\"W-FRI\")\n",
    "    .ffill()\n",
    "    .to_frame()\n",
    ")\n",
    "df_us_cpi_food.to_csv('csv_files/idea_csv/df_us_cpi_food.csv')"
   ]
  },
  {
   "cell_type": "code",
   "execution_count": 50,
   "id": "574fba58",
   "metadata": {
    "execution": {
     "iopub.status.busy": "2025-06-26T22:10:14.145273Z",
     "iopub.status.idle": "2025-06-26T22:10:14.145752Z",
     "shell.execute_reply": "2025-06-26T22:10:14.14544Z",
     "shell.execute_reply.started": "2025-06-26T22:10:14.145424Z"
    },
    "trusted": true
   },
   "outputs": [],
   "source": [
    "%%skip\n",
    "df_us_cpi_food = pd.read_csv('csv_files/idea_csv/df_us_cpi_food.csv')\n",
    "df_us_cpi_food"
   ]
  },
  {
   "cell_type": "markdown",
   "id": "6a76d45a",
   "metadata": {},
   "source": [
    "#### US CPI Shelter (Housing)"
   ]
  },
  {
   "cell_type": "code",
   "execution_count": 51,
   "id": "2b7d7eb2",
   "metadata": {
    "execution": {
     "iopub.status.busy": "2025-06-26T22:10:14.147377Z",
     "iopub.status.idle": "2025-06-26T22:10:14.147693Z",
     "shell.execute_reply": "2025-06-26T22:10:14.147576Z",
     "shell.execute_reply.started": "2025-06-26T22:10:14.14756Z"
    },
    "trusted": true
   },
   "outputs": [],
   "source": [
    "%%skip\n",
    "START, END = \"2009-01-01\", \"2014-12-31\"\n",
    "\n",
    "df_us_cpi_shelter = DataReader(\"CUSR0000SAH1\", \"fred\", START, END)\n",
    "\n",
    "df_us_cpi_shelter.rename(columns={\"CUSR0000SAH1\": \"CPI_Shelter\"}, inplace=True)\n",
    "\n",
    "df_us_cpi_shelter = (\n",
    "    df_us_cpi_shelter[\"CPI_Shelter\"]\n",
    "      .resample(\"W-FRI\")\n",
    "      .ffill()            \n",
    "      .to_frame()       \n",
    ")\n",
    "\n",
    "df_us_cpi_shelter.to_csv('csv_files/idea_csv/df_us_cpi_shelter.csv')"
   ]
  },
  {
   "cell_type": "code",
   "execution_count": 52,
   "id": "ae792c64",
   "metadata": {
    "execution": {
     "iopub.status.busy": "2025-06-26T22:10:14.148695Z",
     "iopub.status.idle": "2025-06-26T22:10:14.148994Z",
     "shell.execute_reply": "2025-06-26T22:10:14.14884Z",
     "shell.execute_reply.started": "2025-06-26T22:10:14.148826Z"
    },
    "trusted": true
   },
   "outputs": [],
   "source": [
    "%%skip\n",
    "df_us_cpi_shelter = pd.read_csv('csv_files/idea_csv/df_us_cpi_shelter.csv')\n",
    "df_us_cpi_shelter"
   ]
  },
  {
   "cell_type": "markdown",
   "id": "b84e0424",
   "metadata": {},
   "source": [
    "#### US CPI Medical Care\n"
   ]
  },
  {
   "cell_type": "code",
   "execution_count": 53,
   "id": "83ddcd95",
   "metadata": {
    "execution": {
     "iopub.status.busy": "2025-06-26T22:10:14.150507Z",
     "iopub.status.idle": "2025-06-26T22:10:14.150816Z",
     "shell.execute_reply": "2025-06-26T22:10:14.150678Z",
     "shell.execute_reply.started": "2025-06-26T22:10:14.150662Z"
    },
    "trusted": true
   },
   "outputs": [],
   "source": [
    "%%skip\n",
    "START, END = \"2009-01-01\", \"2014-12-31\"\n",
    "\n",
    "df_us_cpi_med = DataReader(\"CPIMEDSL\", \"fred\", START, END)\n",
    "\n",
    "df_us_cpi_med.rename(columns={\"CPIMEDSL\": \"CPI_Medical_Care\"}, inplace=True)\n",
    "\n",
    "df_us_cpi_med = (\n",
    "    df_us_cpi_med[\"CPI_Medical_Care\"]\n",
    "      .resample(\"W-FRI\")   # calendar‐weeks ending Fridays\n",
    "      .ffill()             # carry each month’s CPI forward until the next release\n",
    "      .to_frame()\n",
    ")\n",
    "\n",
    "df_us_cpi_med.to_csv('csv_files/idea_csv/df_us_cpi_med.csv')"
   ]
  },
  {
   "cell_type": "code",
   "execution_count": 54,
   "id": "a8a5cbec",
   "metadata": {
    "execution": {
     "iopub.status.busy": "2025-06-26T22:10:14.152002Z",
     "iopub.status.idle": "2025-06-26T22:10:14.152294Z",
     "shell.execute_reply": "2025-06-26T22:10:14.152168Z",
     "shell.execute_reply.started": "2025-06-26T22:10:14.152154Z"
    },
    "trusted": true
   },
   "outputs": [],
   "source": [
    "%%skip\n",
    "df_us_cpi_med = pd.read_csv('csv_files/idea_csv/df_us_cpi_med.csv')\n",
    "df_us_cpi_med"
   ]
  },
  {
   "cell_type": "markdown",
   "id": "4fd3d247",
   "metadata": {},
   "source": [
    "#### US CPI Transportation\n"
   ]
  },
  {
   "cell_type": "code",
   "execution_count": 55,
   "id": "e1d82656",
   "metadata": {
    "execution": {
     "iopub.status.busy": "2025-06-26T22:10:14.153339Z",
     "iopub.status.idle": "2025-06-26T22:10:14.153906Z",
     "shell.execute_reply": "2025-06-26T22:10:14.153755Z",
     "shell.execute_reply.started": "2025-06-26T22:10:14.153737Z"
    },
    "trusted": true
   },
   "outputs": [],
   "source": [
    "%%skip\n",
    "START, END = \"2009-01-01\", \"2014-12-31\"\n",
    "\n",
    "df_us_cpi_trans = DataReader(\"CPITRNSL\", \"fred\", START, END)\n",
    "\n",
    "df_us_cpi_trans.rename(columns={\"CPITRNSL\": \"CPI_Transportation\"}, inplace=True)\n",
    "\n",
    "df_us_cpi_trans = (\n",
    "    df_us_cpi_trans[\"CPI_Transportation\"]\n",
    "      .resample(\"W-FRI\")\n",
    "      .ffill()\n",
    "      .to_frame()\n",
    ")\n",
    "\n",
    "df_us_cpi_trans.to_csv('csv_files/idea_csv/df_us_cpi_trans.csv')"
   ]
  },
  {
   "cell_type": "code",
   "execution_count": 56,
   "id": "5095ed62",
   "metadata": {
    "execution": {
     "iopub.status.busy": "2025-06-26T22:10:14.155182Z",
     "iopub.status.idle": "2025-06-26T22:10:14.155519Z",
     "shell.execute_reply": "2025-06-26T22:10:14.155357Z",
     "shell.execute_reply.started": "2025-06-26T22:10:14.155341Z"
    },
    "trusted": true
   },
   "outputs": [],
   "source": [
    "%%skip\n",
    "df_us_cpi_trans = pd.read_csv('csv_files/idea_csv/df_us_cpi_trans.csv')\n",
    "df_us_cpi_trans"
   ]
  },
  {
   "cell_type": "markdown",
   "id": "66507566",
   "metadata": {},
   "source": [
    "#### PCE: US Healthcare Services\n"
   ]
  },
  {
   "cell_type": "code",
   "execution_count": 57,
   "id": "4b7d3784",
   "metadata": {
    "execution": {
     "iopub.status.busy": "2025-06-26T22:10:14.156493Z",
     "iopub.status.idle": "2025-06-26T22:10:14.156764Z",
     "shell.execute_reply": "2025-06-26T22:10:14.156652Z",
     "shell.execute_reply.started": "2025-06-26T22:10:14.156641Z"
    },
    "trusted": true
   },
   "outputs": [],
   "source": [
    "%%skip\n",
    "START, END = \"2009-01-01\", \"2014-12-31\"\n",
    "\n",
    "df_us_pce_health = DataReader(\"DHLCRC1Q027SBEA\", \"fred\", START, END)\n",
    "\n",
    "df_us_pce_health.rename(columns={\"DHLCRC1Q027SBEA\": \"PCE_Healthcare_Services\"}, inplace=True)\n",
    "\n",
    "df_us_pce_health = (\n",
    "    df_us_pce_health[\"PCE_Healthcare_Services\"]\n",
    "      .resample(\"W-FRI\")   \n",
    "      .ffill()      \n",
    "      .to_frame()\n",
    ")\n",
    "\n",
    "\n",
    "df_us_pce_health.to_csv('csv_files/idea_csv/df_us_pce_health.csv')"
   ]
  },
  {
   "cell_type": "code",
   "execution_count": 58,
   "id": "7751d199",
   "metadata": {
    "execution": {
     "iopub.status.busy": "2025-06-26T22:10:14.157901Z",
     "iopub.status.idle": "2025-06-26T22:10:14.158176Z",
     "shell.execute_reply": "2025-06-26T22:10:14.158042Z",
     "shell.execute_reply.started": "2025-06-26T22:10:14.158032Z"
    },
    "trusted": true
   },
   "outputs": [],
   "source": [
    "%%skip\n",
    "df_us_pce_health = pd.read_csv('csv_files/idea_csv/df_us_pce_health.csv')\n",
    "df_us_pce_health"
   ]
  },
  {
   "cell_type": "markdown",
   "id": "d1d4fd13",
   "metadata": {},
   "source": [
    "#### US ICSA (Jobless Claims)"
   ]
  },
  {
   "cell_type": "code",
   "execution_count": 59,
   "id": "601cfc27",
   "metadata": {
    "execution": {
     "iopub.status.busy": "2025-06-26T22:10:14.159149Z",
     "iopub.status.idle": "2025-06-26T22:10:14.15949Z",
     "shell.execute_reply": "2025-06-26T22:10:14.159335Z",
     "shell.execute_reply.started": "2025-06-26T22:10:14.15932Z"
    },
    "trusted": true
   },
   "outputs": [],
   "source": [
    "%%skip\n",
    "START, END = \"2009-01-01\", \"2014-12-31\"\n",
    "\n",
    "\n",
    "df_us_icsa_jobless = DataReader(\"ICSA\", \"fred\", START, END)\n",
    "\n",
    "df_us_icsa_jobless.rename(columns={\"ICSA\": \"Weekly_Initial_Jobless_Claims\"}, inplace=True)\n",
    "\n",
    "df_us_icsa_jobless = (\n",
    "    df_us_icsa_jobless[\"Weekly_Initial_Jobless_Claims\"]\n",
    "      .resample(\"W-FRI\")  \n",
    "      .ffill()           \n",
    "      .to_frame()\n",
    ")\n",
    "\n",
    "df_us_icsa_jobless.to_csv('csv_files/idea_csv/df_us_icsa_jobless.csv')"
   ]
  },
  {
   "cell_type": "code",
   "execution_count": 60,
   "id": "bb3cc0dc",
   "metadata": {
    "execution": {
     "iopub.status.busy": "2025-06-26T22:10:14.160335Z",
     "iopub.status.idle": "2025-06-26T22:10:14.160639Z",
     "shell.execute_reply": "2025-06-26T22:10:14.160531Z",
     "shell.execute_reply.started": "2025-06-26T22:10:14.160516Z"
    },
    "trusted": true
   },
   "outputs": [],
   "source": [
    "%%skip\n",
    "df_us_icsa_jobless = pd.read_csv('csv_files/idea_csv/df_us_icsa_jobless.csv')\n",
    "df_us_icsa_jobless"
   ]
  },
  {
   "cell_type": "markdown",
   "id": "5eaab7ab",
   "metadata": {},
   "source": [
    "#### US Rail , Freight & Carloads"
   ]
  },
  {
   "cell_type": "code",
   "execution_count": 61,
   "id": "1e18106c",
   "metadata": {
    "execution": {
     "iopub.status.busy": "2025-06-26T22:10:14.161207Z",
     "iopub.status.idle": "2025-06-26T22:10:14.161469Z",
     "shell.execute_reply": "2025-06-26T22:10:14.161336Z",
     "shell.execute_reply.started": "2025-06-26T22:10:14.161326Z"
    },
    "trusted": true
   },
   "outputs": [],
   "source": [
    "%%skip\n",
    "START, END = \"2009-01-01\", \"2014-12-31\"\n",
    "\n",
    "rail = DataReader(\"RAILFRTCARLOADS\", \"fred\", START, END)\n",
    "rail.rename(columns={\"RAILFRTCARLOADS\": \"Rail_Freight_Carloads\"}, inplace=True)\n",
    "\n",
    "rail_weekly = (\n",
    "    rail[\"Rail_Freight_Carloads\"]\n",
    "        .resample(\"W-FRI\")\n",
    "        .ffill()\n",
    "        .to_frame()\n",
    ")\n",
    "\n",
    "truck = DataReader(\"TRUCKD11\", \"fred\", START, END)\n",
    "truck.rename(columns={\"TRUCKD11\": \"Truck_Tonnage_Index\"}, inplace=True)\n",
    "\n",
    "truck_weekly = (\n",
    "    truck[\"Truck_Tonnage_Index\"]\n",
    "         .resample(\"W-FRI\")\n",
    "         .ffill()\n",
    "         .to_frame()\n",
    ")\n",
    "\n",
    "df_us_rail_freight_carloads = rail_weekly.join(truck_weekly, how=\"outer\")\n",
    "\n",
    "df_us_rail_freight_carloads.to_csv('csv_files/idea_csv/df_us_rail_freight_carloads.csv')\n"
   ]
  },
  {
   "cell_type": "code",
   "execution_count": 62,
   "id": "db603ad4",
   "metadata": {
    "execution": {
     "iopub.status.busy": "2025-06-26T22:10:14.162373Z",
     "iopub.status.idle": "2025-06-26T22:10:14.162932Z",
     "shell.execute_reply": "2025-06-26T22:10:14.162747Z",
     "shell.execute_reply.started": "2025-06-26T22:10:14.162724Z"
    },
    "trusted": true
   },
   "outputs": [],
   "source": [
    "%%skip\n",
    "df_us_rail_freight_carloads = pd.read_csv('csv_files/idea_csv/df_us_rail_freight_carloads.csv')\n",
    "df_us_rail_freight_carloads"
   ]
  },
  {
   "cell_type": "markdown",
   "id": "e0987caa",
   "metadata": {},
   "source": [
    "#### EU PMI"
   ]
  },
  {
   "cell_type": "code",
   "execution_count": 63,
   "id": "6433ffd1",
   "metadata": {
    "execution": {
     "iopub.status.busy": "2025-06-26T22:10:14.164878Z",
     "iopub.status.idle": "2025-06-26T22:10:14.165142Z",
     "shell.execute_reply": "2025-06-26T22:10:14.165034Z",
     "shell.execute_reply.started": "2025-06-26T22:10:14.16502Z"
    },
    "trusted": true
   },
   "outputs": [],
   "source": [
    "%%skip\n",
    "df_eu = ak.macro_euro_manufacturing_pmi()\n",
    "\n",
    "print(df_eu.columns.tolist())"
   ]
  },
  {
   "cell_type": "code",
   "execution_count": 64,
   "id": "92723d01",
   "metadata": {
    "execution": {
     "iopub.status.busy": "2025-06-26T22:10:14.166306Z",
     "iopub.status.idle": "2025-06-26T22:10:14.166606Z",
     "shell.execute_reply": "2025-06-26T22:10:14.166495Z",
     "shell.execute_reply.started": "2025-06-26T22:10:14.166485Z"
    },
    "trusted": true
   },
   "outputs": [],
   "source": [
    "%%skip\n",
    "START, END = \"2009-01-01\", \"2014-12-31\"\n",
    "\n",
    "df_eu_pmi = ak.macro_euro_manufacturing_pmi()\n",
    "\n",
    "df_eu_pmi = df_eu_pmi.rename(columns={\n",
    "    \"日期\": \"Date\",\n",
    "    \"今值\":  \"Euro_Manufacturing_PMI\"\n",
    "})\n",
    "df_eu_pmi[\"Date\"] = pd.to_datetime(df_eu_pmi[\"Date\"], format=\"%Y-%m\")\n",
    "\n",
    "df_eu_pmi = (\n",
    "    df_eu_pmi.set_index(\"Date\")[[\"Euro_Manufacturing_PMI\"]]\n",
    "              .sort_index()\n",
    "              .loc[START:END]\n",
    ")\n",
    "\n",
    "df_eu_pmi = (\n",
    "    df_eu_pmi[\"Euro_Manufacturing_PMI\"]\n",
    "      .resample(\"W-FRI\")\n",
    "      .ffill()\n",
    "      .to_frame()\n",
    ")\n",
    "df_eu_pmi.to_csv('csv_files/idea_csv/df_eu_pmi.csv')\n"
   ]
  },
  {
   "cell_type": "code",
   "execution_count": 65,
   "id": "0842da7a",
   "metadata": {
    "execution": {
     "iopub.status.busy": "2025-06-26T22:10:14.167323Z",
     "iopub.status.idle": "2025-06-26T22:10:14.167601Z",
     "shell.execute_reply": "2025-06-26T22:10:14.167473Z",
     "shell.execute_reply.started": "2025-06-26T22:10:14.167463Z"
    },
    "trusted": true
   },
   "outputs": [],
   "source": [
    "%%skip\n",
    "df_eu_pmi = pd.read_csv('csv_files/idea_csv/df_eu_pmi.csv')\n",
    "df_eu_pmi"
   ]
  },
  {
   "cell_type": "markdown",
   "id": "f48f0bab",
   "metadata": {},
   "source": [
    "## Data Cleaning"
   ]
  },
  {
   "cell_type": "code",
   "execution_count": 66,
   "id": "d19ee0d3",
   "metadata": {
    "execution": {
     "iopub.status.busy": "2025-06-26T22:10:14.169066Z",
     "iopub.status.idle": "2025-06-26T22:10:14.169519Z",
     "shell.execute_reply": "2025-06-26T22:10:14.169323Z",
     "shell.execute_reply.started": "2025-06-26T22:10:14.169232Z"
    },
    "trusted": true
   },
   "outputs": [],
   "source": [
    "%%skip\n",
    "df_wm_train = df_walmart_train"
   ]
  },
  {
   "cell_type": "markdown",
   "id": "750503ef",
   "metadata": {},
   "source": [
    "### Data Cleaning - Train"
   ]
  },
  {
   "cell_type": "markdown",
   "id": "654597fd",
   "metadata": {},
   "source": [
    "#### SP 500"
   ]
  },
  {
   "cell_type": "code",
   "execution_count": 67,
   "id": "0a154839",
   "metadata": {
    "execution": {
     "iopub.status.busy": "2025-06-26T22:10:14.171312Z",
     "iopub.status.idle": "2025-06-26T22:10:14.171636Z",
     "shell.execute_reply": "2025-06-26T22:10:14.171513Z",
     "shell.execute_reply.started": "2025-06-26T22:10:14.171499Z"
    },
    "trusted": true
   },
   "outputs": [],
   "source": [
    "%%skip\n",
    "df_sp500['Date'] = pd.to_datetime(df_sp500[\"Date\"], errors=\"raise\")"
   ]
  },
  {
   "cell_type": "code",
   "execution_count": 68,
   "id": "4adf2de3",
   "metadata": {
    "execution": {
     "iopub.status.busy": "2025-06-26T22:10:14.173728Z",
     "iopub.status.idle": "2025-06-26T22:10:14.174046Z",
     "shell.execute_reply": "2025-06-26T22:10:14.173898Z",
     "shell.execute_reply.started": "2025-06-26T22:10:14.173884Z"
    },
    "trusted": true
   },
   "outputs": [],
   "source": [
    "%%skip\n",
    "df_sp500.rename(columns={\n",
    "    'SPX_Weekly_Mean_Close': 'SP500_Weekly_Mean_Close'\n",
    "}, inplace=True)"
   ]
  },
  {
   "cell_type": "code",
   "execution_count": 69,
   "id": "048a5345",
   "metadata": {
    "execution": {
     "iopub.status.busy": "2025-06-26T22:10:14.175969Z",
     "iopub.status.idle": "2025-06-26T22:10:14.176314Z",
     "shell.execute_reply": "2025-06-26T22:10:14.176145Z",
     "shell.execute_reply.started": "2025-06-26T22:10:14.176129Z"
    },
    "trusted": true
   },
   "outputs": [],
   "source": [
    "%%skip\n",
    "df_merged = df_wm_train.merge(\n",
    "    df_sp500,\n",
    "    on=\"Date\",\n",
    "    how=\"left\",\n",
    "    validate=\"many_to_one\"\n",
    ")"
   ]
  },
  {
   "cell_type": "code",
   "execution_count": 70,
   "id": "2f21dc64",
   "metadata": {
    "execution": {
     "iopub.status.busy": "2025-06-26T22:10:14.18016Z",
     "iopub.status.idle": "2025-06-26T22:10:14.180546Z",
     "shell.execute_reply": "2025-06-26T22:10:14.180407Z",
     "shell.execute_reply.started": "2025-06-26T22:10:14.180368Z"
    },
    "trusted": true
   },
   "outputs": [],
   "source": [
    "%%skip\n",
    "df_wm_train = df_merged"
   ]
  },
  {
   "cell_type": "markdown",
   "id": "7fd6d60b",
   "metadata": {},
   "source": [
    "#### Walmart Stock Price"
   ]
  },
  {
   "cell_type": "code",
   "execution_count": 71,
   "id": "f6f51118",
   "metadata": {
    "execution": {
     "iopub.status.busy": "2025-06-26T22:10:14.183541Z",
     "iopub.status.idle": "2025-06-26T22:10:14.183964Z",
     "shell.execute_reply": "2025-06-26T22:10:14.183801Z",
     "shell.execute_reply.started": "2025-06-26T22:10:14.183783Z"
    },
    "trusted": true
   },
   "outputs": [],
   "source": [
    "%%skip\n",
    "df_walmart_stock['Date'] = pd.to_datetime(df_walmart_stock[\"Date\"], errors=\"raise\")"
   ]
  },
  {
   "cell_type": "code",
   "execution_count": 72,
   "id": "e79b05d6",
   "metadata": {
    "execution": {
     "iopub.status.busy": "2025-06-26T22:10:14.184664Z",
     "iopub.status.idle": "2025-06-26T22:10:14.185105Z",
     "shell.execute_reply": "2025-06-26T22:10:14.184841Z",
     "shell.execute_reply.started": "2025-06-26T22:10:14.184826Z"
    },
    "trusted": true
   },
   "outputs": [],
   "source": [
    "%%skip\n",
    "df_merged = df_wm_train.merge(\n",
    "    df_walmart_stock,\n",
    "    on=\"Date\",\n",
    "    how=\"left\",\n",
    "    validate=\"many_to_one\"\n",
    ")"
   ]
  },
  {
   "cell_type": "code",
   "execution_count": 73,
   "id": "a8b85d47",
   "metadata": {
    "execution": {
     "iopub.status.busy": "2025-06-26T22:10:14.186207Z",
     "iopub.status.idle": "2025-06-26T22:10:14.186538Z",
     "shell.execute_reply": "2025-06-26T22:10:14.186409Z",
     "shell.execute_reply.started": "2025-06-26T22:10:14.186374Z"
    },
    "trusted": true
   },
   "outputs": [],
   "source": [
    "%%skip\n",
    "df_wm_train = df_merged"
   ]
  },
  {
   "cell_type": "markdown",
   "id": "7a8ce570",
   "metadata": {},
   "source": [
    "#### External Logistic companies Walmart"
   ]
  },
  {
   "cell_type": "code",
   "execution_count": 74,
   "id": "09f2840c",
   "metadata": {
    "execution": {
     "iopub.status.busy": "2025-06-26T22:10:14.191532Z",
     "iopub.status.idle": "2025-06-26T22:10:14.19187Z",
     "shell.execute_reply": "2025-06-26T22:10:14.191716Z",
     "shell.execute_reply.started": "2025-06-26T22:10:14.1917Z"
    },
    "trusted": true
   },
   "outputs": [],
   "source": [
    "%%skip\n",
    "df_logistics['Date'] = pd.to_datetime(df_logistics[\"Date\"], errors=\"raise\")"
   ]
  },
  {
   "cell_type": "code",
   "execution_count": 75,
   "id": "8e79c62f",
   "metadata": {
    "execution": {
     "iopub.status.busy": "2025-06-26T22:10:14.193019Z",
     "iopub.status.idle": "2025-06-26T22:10:14.193244Z",
     "shell.execute_reply": "2025-06-26T22:10:14.193146Z",
     "shell.execute_reply.started": "2025-06-26T22:10:14.193136Z"
    },
    "trusted": true
   },
   "outputs": [],
   "source": [
    "%%skip\n",
    "df_merged = df_wm_train.merge(\n",
    "    df_logistics,\n",
    "    on=\"Date\",\n",
    "    how=\"left\",\n",
    "    validate=\"many_to_one\"\n",
    ")"
   ]
  },
  {
   "cell_type": "code",
   "execution_count": 76,
   "id": "43a70cb4",
   "metadata": {
    "execution": {
     "iopub.status.busy": "2025-06-26T22:10:14.194008Z",
     "iopub.status.idle": "2025-06-26T22:10:14.194339Z",
     "shell.execute_reply": "2025-06-26T22:10:14.194191Z",
     "shell.execute_reply.started": "2025-06-26T22:10:14.194176Z"
    },
    "trusted": true
   },
   "outputs": [],
   "source": [
    "%%skip\n",
    "df_wm_train = df_merged"
   ]
  },
  {
   "cell_type": "markdown",
   "id": "dc856701",
   "metadata": {},
   "source": [
    "#### Official China PMI (Caixin PMI only starts in 2014)"
   ]
  },
  {
   "cell_type": "code",
   "execution_count": 77,
   "id": "0a0aa189",
   "metadata": {
    "execution": {
     "iopub.status.busy": "2025-06-26T22:10:14.197921Z",
     "iopub.status.idle": "2025-06-26T22:10:14.198203Z",
     "shell.execute_reply": "2025-06-26T22:10:14.198059Z",
     "shell.execute_reply.started": "2025-06-26T22:10:14.198046Z"
    },
    "trusted": true
   },
   "outputs": [],
   "source": [
    "%%skip\n",
    "df_pmi_china.drop(columns=['Official_Manufacturing_PMI_YoY', 'Official_Services_PMI_YoY'], inplace=True)"
   ]
  },
  {
   "cell_type": "code",
   "execution_count": 78,
   "id": "511d53b8",
   "metadata": {
    "execution": {
     "iopub.status.busy": "2025-06-26T22:10:14.198944Z",
     "iopub.status.idle": "2025-06-26T22:10:14.199193Z",
     "shell.execute_reply": "2025-06-26T22:10:14.199087Z",
     "shell.execute_reply.started": "2025-06-26T22:10:14.199077Z"
    },
    "trusted": true
   },
   "outputs": [],
   "source": [
    "%%skip\n",
    "df_pmi_china.rename(columns={\n",
    "    'Official_Manufacturing_PMI': 'China_Official_Manufacturing_PMI',\n",
    "    'Official_Services_PMI': 'China_Official_Services_PMI'\n",
    "}, inplace=True)"
   ]
  },
  {
   "cell_type": "code",
   "execution_count": 79,
   "id": "85bfa335",
   "metadata": {
    "execution": {
     "iopub.status.busy": "2025-06-26T22:10:14.199782Z",
     "iopub.status.idle": "2025-06-26T22:10:14.199997Z",
     "shell.execute_reply": "2025-06-26T22:10:14.199906Z",
     "shell.execute_reply.started": "2025-06-26T22:10:14.199897Z"
    },
    "trusted": true
   },
   "outputs": [],
   "source": [
    "%%skip\n",
    "df_pmi_china['Date'] = pd.to_datetime(df_pmi_china[\"Date\"], errors=\"raise\")"
   ]
  },
  {
   "cell_type": "code",
   "execution_count": 80,
   "id": "9d829f1a",
   "metadata": {
    "execution": {
     "iopub.status.busy": "2025-06-26T22:10:14.200968Z",
     "iopub.status.idle": "2025-06-26T22:10:14.201238Z",
     "shell.execute_reply": "2025-06-26T22:10:14.201101Z",
     "shell.execute_reply.started": "2025-06-26T22:10:14.201087Z"
    },
    "trusted": true
   },
   "outputs": [],
   "source": [
    "%%skip\n",
    "df_wm_train['YM'] = df_wm_train['Date'].dt.to_period('M')\n",
    "df_pmi_china    ['YM'] = df_pmi_china    ['Date'].dt.to_period('M')\n",
    "\n",
    "df_merged = df_wm_train.merge(\n",
    "    df_pmi_china[['YM','China_Official_Manufacturing_PMI','China_Official_Services_PMI']],\n",
    "    on='YM',\n",
    "    how='left'\n",
    ").drop(columns='YM')\n"
   ]
  },
  {
   "cell_type": "code",
   "execution_count": 81,
   "id": "5035e219",
   "metadata": {
    "execution": {
     "iopub.status.busy": "2025-06-26T22:10:14.203128Z",
     "iopub.status.idle": "2025-06-26T22:10:14.203541Z",
     "shell.execute_reply": "2025-06-26T22:10:14.203343Z",
     "shell.execute_reply.started": "2025-06-26T22:10:14.20332Z"
    },
    "trusted": true
   },
   "outputs": [],
   "source": [
    "%%skip\n",
    "df_wm_train = df_merged"
   ]
  },
  {
   "cell_type": "markdown",
   "id": "f55872d6",
   "metadata": {},
   "source": [
    "#### PCE USA (Personal Consumption Expenditures)"
   ]
  },
  {
   "cell_type": "code",
   "execution_count": 82,
   "id": "9a6b48f4",
   "metadata": {
    "execution": {
     "iopub.status.busy": "2025-06-26T22:10:14.206335Z",
     "iopub.status.idle": "2025-06-26T22:10:14.206681Z",
     "shell.execute_reply": "2025-06-26T22:10:14.206532Z",
     "shell.execute_reply.started": "2025-06-26T22:10:14.206517Z"
    },
    "trusted": true
   },
   "outputs": [],
   "source": [
    "%%skip\n",
    "df_pce.rename(columns={\n",
    "    'Personal_Consumption_Expenditures': 'US_Personal_Consumption_Expenditures'\n",
    "}, inplace=True)"
   ]
  },
  {
   "cell_type": "code",
   "execution_count": 83,
   "id": "cfa5fa96",
   "metadata": {
    "execution": {
     "iopub.status.busy": "2025-06-26T22:10:14.2077Z",
     "iopub.status.idle": "2025-06-26T22:10:14.208024Z",
     "shell.execute_reply": "2025-06-26T22:10:14.207877Z",
     "shell.execute_reply.started": "2025-06-26T22:10:14.207863Z"
    },
    "trusted": true
   },
   "outputs": [],
   "source": [
    "%%skip\n",
    "df_pce['DATE'] = pd.to_datetime(df_pce[\"DATE\"], errors=\"raise\")"
   ]
  },
  {
   "cell_type": "code",
   "execution_count": 84,
   "id": "e53bf8ed",
   "metadata": {
    "execution": {
     "iopub.status.busy": "2025-06-26T22:10:14.208898Z",
     "iopub.status.idle": "2025-06-26T22:10:14.209217Z",
     "shell.execute_reply": "2025-06-26T22:10:14.209069Z",
     "shell.execute_reply.started": "2025-06-26T22:10:14.209055Z"
    },
    "trusted": true
   },
   "outputs": [],
   "source": [
    "%%skip\n",
    "df_wm_train['YM'] = df_wm_train['Date'].dt.to_period('M')\n",
    "df_pce    ['YM'] = df_pce    ['DATE'].dt.to_period('M')\n",
    "\n",
    "df_merged = df_wm_train.merge(\n",
    "    df_pce[['YM','US_Personal_Consumption_Expenditures']],\n",
    "    on='YM',\n",
    "    how='left'\n",
    ").drop(columns='YM')"
   ]
  },
  {
   "cell_type": "code",
   "execution_count": 85,
   "id": "b654ea5b",
   "metadata": {
    "execution": {
     "iopub.status.busy": "2025-06-26T22:10:14.210855Z",
     "iopub.status.idle": "2025-06-26T22:10:14.211107Z",
     "shell.execute_reply": "2025-06-26T22:10:14.211006Z",
     "shell.execute_reply.started": "2025-06-26T22:10:14.210995Z"
    },
    "trusted": true
   },
   "outputs": [],
   "source": [
    "%%skip\n",
    "df_wm_train = df_merged"
   ]
  },
  {
   "cell_type": "markdown",
   "id": "e063e49c",
   "metadata": {},
   "source": [
    "#### Interest Rates USA (Fed Funds Rate & Tbill 3 Months Yield)"
   ]
  },
  {
   "cell_type": "code",
   "execution_count": 86,
   "id": "a49657aa",
   "metadata": {
    "execution": {
     "iopub.status.busy": "2025-06-26T22:10:14.213027Z",
     "iopub.status.idle": "2025-06-26T22:10:14.213292Z",
     "shell.execute_reply": "2025-06-26T22:10:14.21316Z",
     "shell.execute_reply.started": "2025-06-26T22:10:14.213151Z"
    },
    "trusted": true
   },
   "outputs": [],
   "source": [
    "%%skip\n",
    "df_interest_rates['DATE'] = pd.to_datetime(df_interest_rates[\"DATE\"], errors=\"raise\")"
   ]
  },
  {
   "cell_type": "code",
   "execution_count": 87,
   "id": "f88706b9",
   "metadata": {
    "execution": {
     "iopub.status.busy": "2025-06-26T22:10:14.214354Z",
     "iopub.status.idle": "2025-06-26T22:10:14.214817Z",
     "shell.execute_reply": "2025-06-26T22:10:14.214591Z",
     "shell.execute_reply.started": "2025-06-26T22:10:14.214575Z"
    },
    "trusted": true
   },
   "outputs": [],
   "source": [
    "%%skip\n",
    "df_interest_rates.rename(columns={\n",
    "    'Fed_Funds_Rate': 'US_Fed_Funds_Rate',\n",
    "    'TBill_3mo_Yield': 'US_TBill_3mo_Yield',\n",
    "    'DATE': 'Date'\n",
    "\n",
    "}, inplace=True)"
   ]
  },
  {
   "cell_type": "code",
   "execution_count": 88,
   "id": "d563b328",
   "metadata": {
    "execution": {
     "iopub.status.busy": "2025-06-26T22:10:14.215928Z",
     "iopub.status.idle": "2025-06-26T22:10:14.216374Z",
     "shell.execute_reply": "2025-06-26T22:10:14.216237Z",
     "shell.execute_reply.started": "2025-06-26T22:10:14.216226Z"
    },
    "trusted": true
   },
   "outputs": [],
   "source": [
    "%%skip\n",
    "df_wm_train = df_wm_train.sort_values('Date')\n",
    "df_interest_rates = df_interest_rates.sort_values('Date')\n",
    "\n",
    "df_merged = df_wm_train.merge(\n",
    "    df_interest_rates[['Date','US_TBill_3mo_Yield','US_Fed_Funds_Rate']],\n",
    "    on='Date',\n",
    "    how='left'\n",
    ")\n",
    "\n",
    "df_merged['US_Fed_Funds_Rate'] = df_merged['US_Fed_Funds_Rate'].ffill()"
   ]
  },
  {
   "cell_type": "code",
   "execution_count": 89,
   "id": "7f55aee9",
   "metadata": {
    "execution": {
     "iopub.status.busy": "2025-06-26T22:10:14.217649Z",
     "iopub.status.idle": "2025-06-26T22:10:14.217917Z",
     "shell.execute_reply": "2025-06-26T22:10:14.21779Z",
     "shell.execute_reply.started": "2025-06-26T22:10:14.217778Z"
    },
    "trusted": true
   },
   "outputs": [],
   "source": [
    "%%skip\n",
    "df_wm_train = df_merged"
   ]
  },
  {
   "cell_type": "markdown",
   "id": "66f574bc",
   "metadata": {},
   "source": [
    "#### CCI USA (Consumer Confidence Index) from University of Michigan"
   ]
  },
  {
   "cell_type": "code",
   "execution_count": 90,
   "id": "2f3db3d5",
   "metadata": {
    "execution": {
     "iopub.status.busy": "2025-06-26T22:10:14.219869Z",
     "iopub.status.idle": "2025-06-26T22:10:14.220088Z",
     "shell.execute_reply": "2025-06-26T22:10:14.219993Z",
     "shell.execute_reply.started": "2025-06-26T22:10:14.219983Z"
    },
    "trusted": true
   },
   "outputs": [],
   "source": [
    "%%skip\n",
    "df_us_cci['Date']   = pd.to_datetime(df_us_cci['DATE'])\n",
    "df_us_cci = df_us_cci.sort_values('Date')\n",
    "\n",
    "df_merged = pd.merge_asof(\n",
    "    df_wm_train.sort_values('Date'),\n",
    "    df_us_cci[['Date','Consumer_Sentiment_UMich']],\n",
    "    on='Date',\n",
    "    direction='backward'\n",
    ")"
   ]
  },
  {
   "cell_type": "code",
   "execution_count": 91,
   "id": "5444d26d",
   "metadata": {
    "execution": {
     "iopub.status.busy": "2025-06-26T22:10:14.221301Z",
     "iopub.status.idle": "2025-06-26T22:10:14.221767Z",
     "shell.execute_reply": "2025-06-26T22:10:14.221622Z",
     "shell.execute_reply.started": "2025-06-26T22:10:14.221607Z"
    },
    "trusted": true
   },
   "outputs": [],
   "source": [
    "%%skip\n",
    "df_wm_train = df_merged"
   ]
  },
  {
   "cell_type": "markdown",
   "id": "7cc5cbab",
   "metadata": {},
   "source": [
    "#### U.S.A Advance Retail Sales: Retail Trade and Food Services"
   ]
  },
  {
   "cell_type": "code",
   "execution_count": 92,
   "id": "98d07682",
   "metadata": {
    "execution": {
     "iopub.status.busy": "2025-06-26T22:10:14.224423Z",
     "iopub.status.idle": "2025-06-26T22:10:14.224701Z",
     "shell.execute_reply": "2025-06-26T22:10:14.224595Z",
     "shell.execute_reply.started": "2025-06-26T22:10:14.224581Z"
    },
    "trusted": true
   },
   "outputs": [],
   "source": [
    "%%skip\n",
    "df_us_retail['Date']   = pd.to_datetime(df_us_retail['DATE'])\n",
    "df_us_retail = df_us_retail.sort_values('Date')\n",
    "\n",
    "df_merged = pd.merge_asof(\n",
    "    df_wm_train.sort_values('Date'),\n",
    "    df_us_retail[['Date','Retail_Sales_Retail_and_Food_Services_USA']],\n",
    "    on='Date',\n",
    "    direction='backward'\n",
    ")"
   ]
  },
  {
   "cell_type": "code",
   "execution_count": 93,
   "id": "6bdfb761",
   "metadata": {
    "execution": {
     "iopub.status.busy": "2025-06-26T22:10:14.225346Z",
     "iopub.status.idle": "2025-06-26T22:10:14.225915Z",
     "shell.execute_reply": "2025-06-26T22:10:14.225709Z",
     "shell.execute_reply.started": "2025-06-26T22:10:14.225683Z"
    },
    "trusted": true
   },
   "outputs": [],
   "source": [
    "%%skip\n",
    "df_wm_train = df_merged"
   ]
  },
  {
   "cell_type": "markdown",
   "id": "4a8a9ac9",
   "metadata": {},
   "source": [
    "#### Exchange Rates (China, Mexico, Canada, India, Vietnam)"
   ]
  },
  {
   "cell_type": "code",
   "execution_count": 94,
   "id": "7fed900a",
   "metadata": {
    "execution": {
     "iopub.status.busy": "2025-06-26T22:10:14.230232Z",
     "iopub.status.idle": "2025-06-26T22:10:14.230696Z",
     "shell.execute_reply": "2025-06-26T22:10:14.230508Z",
     "shell.execute_reply.started": "2025-06-26T22:10:14.23049Z"
    },
    "trusted": true
   },
   "outputs": [],
   "source": [
    "%%skip\n",
    "df_fx.rename(columns={\n",
    "    'Unnamed: 0': 'Date',\n",
    "    \"('VND_per_USD', 'USDVND=X')\": 'VND_per_USD'\n",
    "}, inplace=True)"
   ]
  },
  {
   "cell_type": "code",
   "execution_count": 95,
   "id": "7a19a385",
   "metadata": {
    "execution": {
     "iopub.status.busy": "2025-06-26T22:10:14.232127Z",
     "iopub.status.idle": "2025-06-26T22:10:14.232532Z",
     "shell.execute_reply": "2025-06-26T22:10:14.232341Z",
     "shell.execute_reply.started": "2025-06-26T22:10:14.232324Z"
    },
    "trusted": true
   },
   "outputs": [],
   "source": [
    "%%skip\n",
    "df_fx['Date']   = pd.to_datetime(df_fx['Date'])\n",
    "df_fx = df_fx.sort_values('Date')\n",
    "\n",
    "df_merged = pd.merge_asof(\n",
    "    df_wm_train.sort_values('Date'),\n",
    "    df_fx[['Date','CNY_per_USD', 'MXN_per_USD','CAD_per_USD','INR_per_USD','VND_per_USD']],\n",
    "    on='Date',\n",
    "    direction='backward'\n",
    ")"
   ]
  },
  {
   "cell_type": "code",
   "execution_count": 96,
   "id": "3893577f",
   "metadata": {
    "execution": {
     "iopub.status.busy": "2025-06-26T22:10:14.233612Z",
     "iopub.status.idle": "2025-06-26T22:10:14.23393Z",
     "shell.execute_reply": "2025-06-26T22:10:14.233776Z",
     "shell.execute_reply.started": "2025-06-26T22:10:14.233761Z"
    },
    "trusted": true
   },
   "outputs": [],
   "source": [
    "%%skip\n",
    "df_wm_train = df_merged"
   ]
  },
  {
   "cell_type": "markdown",
   "id": "7e5457db",
   "metadata": {},
   "source": [
    "#### US External Tax Rate"
   ]
  },
  {
   "cell_type": "code",
   "execution_count": 97,
   "id": "7e02ca28",
   "metadata": {
    "execution": {
     "iopub.status.busy": "2025-06-26T22:10:14.236467Z",
     "iopub.status.idle": "2025-06-26T22:10:14.236755Z",
     "shell.execute_reply": "2025-06-26T22:10:14.236647Z",
     "shell.execute_reply.started": "2025-06-26T22:10:14.236632Z"
    },
    "trusted": true
   },
   "outputs": [],
   "source": [
    "%%skip\n",
    "df_us_tariff.rename(columns={\n",
    "    'Canada': 'US_TAX_Canada',\n",
    "    'China': 'US_TAX_China',\n",
    "    'India': 'US_TAX_India',\n",
    "    'Mexico': 'US_TAX_Mexico',\n",
    "    'Viet Nam': 'US_TAX_Vietnam'\n",
    "}, inplace=True)"
   ]
  },
  {
   "cell_type": "code",
   "execution_count": 98,
   "id": "316c820d",
   "metadata": {
    "execution": {
     "iopub.status.busy": "2025-06-26T22:10:14.237561Z",
     "iopub.status.idle": "2025-06-26T22:10:14.237778Z",
     "shell.execute_reply": "2025-06-26T22:10:14.237684Z",
     "shell.execute_reply.started": "2025-06-26T22:10:14.237674Z"
    },
    "trusted": true
   },
   "outputs": [],
   "source": [
    "%%skip\n",
    "# list of tariff columns\n",
    "tariff_cols = [\n",
    "    'US_TAX_Canada',\n",
    "    'US_TAX_China',\n",
    "    'US_TAX_India',\n",
    "    'US_TAX_Mexico',\n",
    "    'US_TAX_Vietnam'\n",
    "]\n",
    "\n",
    "# 1) prepare the dates\n",
    "df_wm_train['Date']      = pd.to_datetime(df_wm_train['Date'])\n",
    "df_us_tariff['Date']     = pd.date_range(\n",
    "    '2001-01-01',\n",
    "    periods=len(df_us_tariff),\n",
    "    freq='YS'\n",
    ")\n",
    "\n",
    "# 2) sort & merge_asof, then forward-fill tariffs\n",
    "df_merged = (\n",
    "    pd.merge_asof(\n",
    "        df_wm_train.sort_values('Date'),\n",
    "        df_us_tariff[['Date'] + tariff_cols].sort_values('Date'),\n",
    "        on='Date',\n",
    "        direction='backward'\n",
    "    )\n",
    "    .assign(**{col: lambda d, col=col: d[col].ffill() for col in tariff_cols})\n",
    ")\n"
   ]
  },
  {
   "cell_type": "code",
   "execution_count": 99,
   "id": "67456ecb",
   "metadata": {
    "execution": {
     "iopub.status.busy": "2025-06-26T22:10:14.239221Z",
     "iopub.status.idle": "2025-06-26T22:10:14.239557Z",
     "shell.execute_reply": "2025-06-26T22:10:14.239434Z",
     "shell.execute_reply.started": "2025-06-26T22:10:14.239419Z"
    },
    "trusted": true
   },
   "outputs": [],
   "source": [
    "%%skip\n",
    "df_unique = df_merged.drop_duplicates(subset='Date', keep='first')"
   ]
  },
  {
   "cell_type": "code",
   "execution_count": 100,
   "id": "a7d9125c",
   "metadata": {
    "execution": {
     "iopub.status.busy": "2025-06-26T22:10:14.240933Z",
     "iopub.status.idle": "2025-06-26T22:10:14.241264Z",
     "shell.execute_reply": "2025-06-26T22:10:14.241114Z",
     "shell.execute_reply.started": "2025-06-26T22:10:14.2411Z"
    },
    "trusted": true
   },
   "outputs": [],
   "source": [
    "%%skip\n",
    "df_wm_train = df_merged"
   ]
  },
  {
   "cell_type": "markdown",
   "id": "23031f73",
   "metadata": {},
   "source": [
    "#### Holidays"
   ]
  },
  {
   "cell_type": "code",
   "execution_count": 101,
   "id": "36f24b19",
   "metadata": {
    "execution": {
     "iopub.status.busy": "2025-06-26T22:10:14.245226Z",
     "iopub.status.idle": "2025-06-26T22:10:14.245594Z",
     "shell.execute_reply": "2025-06-26T22:10:14.245425Z",
     "shell.execute_reply.started": "2025-06-26T22:10:14.245409Z"
    },
    "trusted": true
   },
   "outputs": [],
   "source": [
    "%%skip\n",
    "df_holiday_impact['Date'] = pd.to_datetime(df_holiday_impact['Date'])\n",
    "\n",
    "df_merged = pd.merge_asof(\n",
    "    df_wm_train.sort_values('Date'),\n",
    "    df_holiday_impact[['Date','HolidayImpact']].sort_values('Date'),\n",
    "    on='Date',\n",
    "    direction='backward'\n",
    ")\n"
   ]
  },
  {
   "cell_type": "code",
   "execution_count": 102,
   "id": "251f3912",
   "metadata": {
    "execution": {
     "iopub.status.busy": "2025-06-26T22:10:14.246531Z",
     "iopub.status.idle": "2025-06-26T22:10:14.246856Z",
     "shell.execute_reply": "2025-06-26T22:10:14.246705Z",
     "shell.execute_reply.started": "2025-06-26T22:10:14.24669Z"
    },
    "trusted": true
   },
   "outputs": [],
   "source": [
    "%%skip\n",
    "df_wm_train = df_merged"
   ]
  },
  {
   "cell_type": "code",
   "execution_count": 103,
   "id": "347f09e6",
   "metadata": {
    "execution": {
     "iopub.status.busy": "2025-06-26T22:10:14.249017Z",
     "iopub.status.idle": "2025-06-26T22:10:14.24936Z",
     "shell.execute_reply": "2025-06-26T22:10:14.24922Z",
     "shell.execute_reply.started": "2025-06-26T22:10:14.249205Z"
    },
    "trusted": true
   },
   "outputs": [],
   "source": [
    "%%skip\n",
    "#  make sure both Date columns are datetime at midnight\n",
    "df_us_holidays['Date'] = pd.to_datetime(df_us_holidays['Date']).dt.normalize()\n",
    "df_merged       ['Date'] = pd.to_datetime(df_merged       ['Date']).dt.normalize()\n",
    "\n",
    "# 2. compute each holiday’s “week_end” Friday (weekday=4)\n",
    "df_us_holidays['week_end'] = (\n",
    "    df_us_holidays['Date']\n",
    "  + pd.to_timedelta((4 - df_us_holidays['Date'].dt.weekday) % 7, unit='D')\n",
    ")\n",
    "\n",
    "#  build lookup: week_end → joined holiday names\n",
    "df_holiday_names = (\n",
    "    df_us_holidays\n",
    "      .groupby('week_end', as_index=False)['Holiday']\n",
    "      .agg(lambda names: ', '.join(names))\n",
    "      .rename(columns={'week_end':'Date', 'Holiday':'Holiday_Name'})\n",
    ")\n",
    "\n",
    "#  merge it in\n",
    "df_merged = df_merged.merge(df_holiday_names, on='Date', how='left')\n",
    "\n",
    "#  for weeks without a holiday, fill in “No Holiday”\n",
    "df_merged['Holiday_Name'] = df_merged['Holiday_Name'].fillna('No Holiday')\n",
    "\n",
    "# recompute your flag if you like:\n",
    "df_merged['IsHoliday'] = df_merged['Holiday_Name'] != 'No Holiday'\n"
   ]
  },
  {
   "cell_type": "code",
   "execution_count": 104,
   "id": "348b04c5",
   "metadata": {
    "execution": {
     "iopub.status.busy": "2025-06-26T22:10:14.251967Z",
     "iopub.status.idle": "2025-06-26T22:10:14.252482Z",
     "shell.execute_reply": "2025-06-26T22:10:14.252171Z",
     "shell.execute_reply.started": "2025-06-26T22:10:14.252155Z"
    },
    "trusted": true
   },
   "outputs": [],
   "source": [
    "%%skip\n",
    "df_unique = df_merged.drop_duplicates(subset='Date', keep='first')"
   ]
  },
  {
   "cell_type": "code",
   "execution_count": 105,
   "id": "0aaa92fc",
   "metadata": {
    "execution": {
     "iopub.status.busy": "2025-06-26T22:10:14.253495Z",
     "iopub.status.idle": "2025-06-26T22:10:14.253861Z",
     "shell.execute_reply": "2025-06-26T22:10:14.253732Z",
     "shell.execute_reply.started": "2025-06-26T22:10:14.253712Z"
    },
    "trusted": true
   },
   "outputs": [],
   "source": [
    "%%skip\n",
    "df_wm_train = df_merged"
   ]
  },
  {
   "cell_type": "markdown",
   "id": "00a784bf",
   "metadata": {},
   "source": [
    "#### Tax Return (Train)"
   ]
  },
  {
   "cell_type": "code",
   "execution_count": 106,
   "id": "e31b4d53",
   "metadata": {
    "execution": {
     "iopub.status.busy": "2025-06-26T22:10:14.25735Z",
     "iopub.status.idle": "2025-06-26T22:10:14.257614Z",
     "shell.execute_reply": "2025-06-26T22:10:14.257514Z",
     "shell.execute_reply.started": "2025-06-26T22:10:14.257503Z"
    },
    "trusted": true
   },
   "outputs": [],
   "source": [
    "%%skip\n",
    "df_tax_return_train.rename(columns={\n",
    "    'TaxReturnImpact': 'US_Tax_Return'\n",
    "}, inplace=True)"
   ]
  },
  {
   "cell_type": "code",
   "execution_count": 107,
   "id": "57759c75",
   "metadata": {
    "execution": {
     "iopub.status.busy": "2025-06-26T22:10:14.259209Z",
     "iopub.status.idle": "2025-06-26T22:10:14.259545Z",
     "shell.execute_reply": "2025-06-26T22:10:14.259414Z",
     "shell.execute_reply.started": "2025-06-26T22:10:14.259398Z"
    },
    "trusted": true
   },
   "outputs": [],
   "source": [
    "%%skip\n",
    "df_tax_return_train['Date']   = pd.to_datetime(df_tax_return_train['Date'])\n",
    "df_tax_return_train = df_tax_return_train.sort_values('Date')\n",
    "\n",
    "df_merged = pd.merge_asof(\n",
    "    df_wm_train.sort_values('Date'),\n",
    "    df_tax_return_train[['Date','US_Tax_Return']],\n",
    "    on='Date',\n",
    "    direction='backward'\n",
    ")"
   ]
  },
  {
   "cell_type": "code",
   "execution_count": 108,
   "id": "1ec11622",
   "metadata": {
    "execution": {
     "iopub.status.busy": "2025-06-26T22:10:14.260013Z",
     "iopub.status.idle": "2025-06-26T22:10:14.260252Z",
     "shell.execute_reply": "2025-06-26T22:10:14.260148Z",
     "shell.execute_reply.started": "2025-06-26T22:10:14.260134Z"
    },
    "trusted": true
   },
   "outputs": [],
   "source": [
    "%%skip\n",
    "df_unique = df_merged.drop_duplicates(subset='Date', keep='first')"
   ]
  },
  {
   "cell_type": "code",
   "execution_count": 109,
   "id": "d9f6580a",
   "metadata": {
    "execution": {
     "iopub.status.busy": "2025-06-26T22:10:14.261942Z",
     "iopub.status.idle": "2025-06-26T22:10:14.26225Z",
     "shell.execute_reply": "2025-06-26T22:10:14.262095Z",
     "shell.execute_reply.started": "2025-06-26T22:10:14.262081Z"
    },
    "trusted": true
   },
   "outputs": [],
   "source": [
    "%%skip\n",
    "df_wm_train = df_merged"
   ]
  },
  {
   "cell_type": "markdown",
   "id": "efaca538",
   "metadata": {},
   "source": [
    "#### Stores Types & Sizes"
   ]
  },
  {
   "cell_type": "code",
   "execution_count": 110,
   "id": "c80754b3",
   "metadata": {
    "execution": {
     "iopub.status.busy": "2025-06-26T22:10:14.268294Z",
     "iopub.status.idle": "2025-06-26T22:10:14.268591Z",
     "shell.execute_reply": "2025-06-26T22:10:14.268476Z",
     "shell.execute_reply.started": "2025-06-26T22:10:14.268461Z"
    },
    "trusted": true
   },
   "outputs": [],
   "source": [
    "%%skip\n",
    "df_store_types_sizes['Store'] = df_store_types_sizes['Store'].astype(int)\n",
    "df_wm_train['Store'] = df_wm_train['Store'].astype(int)"
   ]
  },
  {
   "cell_type": "code",
   "execution_count": 111,
   "id": "d9f75a78",
   "metadata": {
    "execution": {
     "iopub.status.busy": "2025-06-26T22:10:14.270475Z",
     "iopub.status.idle": "2025-06-26T22:10:14.270828Z",
     "shell.execute_reply": "2025-06-26T22:10:14.27067Z",
     "shell.execute_reply.started": "2025-06-26T22:10:14.270654Z"
    },
    "trusted": true
   },
   "outputs": [],
   "source": [
    "%%skip\n",
    "df_store_info = df_store_types_sizes.drop_duplicates(subset='Store')\n",
    "\n",
    "main_df = df_wm_train.merge(df_store_info, on='Store', how='left')"
   ]
  },
  {
   "cell_type": "code",
   "execution_count": 112,
   "id": "1ec39f6f",
   "metadata": {
    "execution": {
     "iopub.status.busy": "2025-06-26T22:10:14.272722Z",
     "iopub.status.idle": "2025-06-26T22:10:14.273046Z",
     "shell.execute_reply": "2025-06-26T22:10:14.272903Z",
     "shell.execute_reply.started": "2025-06-26T22:10:14.272887Z"
    },
    "trusted": true
   },
   "outputs": [],
   "source": [
    "%%skip\n",
    "df_wm_train = main_df"
   ]
  },
  {
   "cell_type": "markdown",
   "id": "712ff2a7",
   "metadata": {},
   "source": [
    "#### Oil Price The U.S. domestic"
   ]
  },
  {
   "cell_type": "code",
   "execution_count": 113,
   "id": "b2fb65ec",
   "metadata": {
    "execution": {
     "iopub.status.busy": "2025-06-26T22:10:14.277463Z",
     "iopub.status.idle": "2025-06-26T22:10:14.277812Z",
     "shell.execute_reply": "2025-06-26T22:10:14.277662Z",
     "shell.execute_reply.started": "2025-06-26T22:10:14.277647Z"
    },
    "trusted": true
   },
   "outputs": [],
   "source": [
    "%%skip\n",
    "df_us_oil_price['DATE'] = pd.to_datetime(df_us_oil_price['DATE'])\n",
    "df_us_oil_price = df_us_oil_price.set_index('DATE')\n",
    "\n",
    "# Interpolate missing values\n",
    "df_us_oil_price['DCOILWTICO'] = df_us_oil_price['DCOILWTICO'].interpolate(\n",
    "    method='linear',\n",
    "    limit_direction='both',\n",
    "    limit_area='inside'\n",
    ")\n",
    "\n",
    "df_us_oil_price = df_us_oil_price.reset_index()"
   ]
  },
  {
   "cell_type": "code",
   "execution_count": 114,
   "id": "33c8e9fe",
   "metadata": {
    "execution": {
     "iopub.status.busy": "2025-06-26T22:10:14.279371Z",
     "iopub.status.idle": "2025-06-26T22:10:14.279776Z",
     "shell.execute_reply": "2025-06-26T22:10:14.279609Z",
     "shell.execute_reply.started": "2025-06-26T22:10:14.279593Z"
    },
    "trusted": true
   },
   "outputs": [],
   "source": [
    "%%skip\n",
    "df_us_oil_price = df_us_oil_price.rename(columns={'DATE': 'Date'})\n",
    "\n",
    "df_merged = df_wm_train.merge(df_us_oil_price[['Date', 'DCOILWTICO']], on='Date', how='left')"
   ]
  },
  {
   "cell_type": "code",
   "execution_count": 115,
   "id": "062736d6",
   "metadata": {
    "execution": {
     "iopub.status.busy": "2025-06-26T22:10:14.281256Z",
     "iopub.status.idle": "2025-06-26T22:10:14.281646Z",
     "shell.execute_reply": "2025-06-26T22:10:14.281488Z",
     "shell.execute_reply.started": "2025-06-26T22:10:14.281471Z"
    },
    "trusted": true
   },
   "outputs": [],
   "source": [
    "%%skip\n",
    "df_unique = df_merged.drop_duplicates(subset='Date', keep='first')"
   ]
  },
  {
   "cell_type": "code",
   "execution_count": 116,
   "id": "b8e1c9c7",
   "metadata": {
    "execution": {
     "iopub.status.busy": "2025-06-26T22:10:14.282951Z",
     "iopub.status.idle": "2025-06-26T22:10:14.283294Z",
     "shell.execute_reply": "2025-06-26T22:10:14.283121Z",
     "shell.execute_reply.started": "2025-06-26T22:10:14.283111Z"
    },
    "trusted": true
   },
   "outputs": [],
   "source": [
    "%%skip\n",
    "df_wm_train = df_merged"
   ]
  },
  {
   "cell_type": "markdown",
   "id": "6361e351",
   "metadata": {},
   "source": [
    "#### U.S. ISM Manufacturing PMI & ISM Services PMI\n"
   ]
  },
  {
   "cell_type": "code",
   "execution_count": 117,
   "id": "6f3497e6",
   "metadata": {
    "execution": {
     "iopub.status.busy": "2025-06-26T22:10:14.28665Z",
     "iopub.status.idle": "2025-06-26T22:10:14.28692Z",
     "shell.execute_reply": "2025-06-26T22:10:14.286819Z",
     "shell.execute_reply.started": "2025-06-26T22:10:14.286808Z"
    },
    "trusted": true
   },
   "outputs": [],
   "source": [
    "%%skip\n",
    "df_us_ism['Date'] = pd.to_datetime(df_us_ism['Date'])\n",
    "df_us_ism = df_us_ism.set_index('Date')\n",
    "\n",
    "# Interpolate missing values\n",
    "df_us_ism['ISM_Manufacturing_PMI'] = df_us_ism['ISM_Manufacturing_PMI'].interpolate(\n",
    "    method='linear',\n",
    "    limit_direction='both',\n",
    "    limit_area='inside'\n",
    ")\n",
    "df_us_ism['ISM_Services_PMI'] = df_us_ism['ISM_Services_PMI'].interpolate(\n",
    "    method='linear',\n",
    "    limit_direction='both',\n",
    "    limit_area='inside'\n",
    ")\n",
    "\n",
    "\n",
    "df_us_ism = df_us_ism.reset_index()"
   ]
  },
  {
   "cell_type": "code",
   "execution_count": 118,
   "id": "51064e60",
   "metadata": {
    "execution": {
     "iopub.status.busy": "2025-06-26T22:10:14.288884Z",
     "iopub.status.idle": "2025-06-26T22:10:14.289556Z",
     "shell.execute_reply": "2025-06-26T22:10:14.289336Z",
     "shell.execute_reply.started": "2025-06-26T22:10:14.289313Z"
    },
    "trusted": true
   },
   "outputs": [],
   "source": [
    "%%skip\n",
    "df_merged = pd.merge_asof(\n",
    "    df_wm_train.sort_values('Date'),\n",
    "    df_us_ism[['Date','ISM_Manufacturing_PMI','ISM_Services_PMI']],\n",
    "    on='Date',\n",
    "    direction='backward'\n",
    ")"
   ]
  },
  {
   "cell_type": "code",
   "execution_count": 119,
   "id": "f9170d54",
   "metadata": {
    "execution": {
     "iopub.status.busy": "2025-06-26T22:10:14.291347Z",
     "iopub.status.idle": "2025-06-26T22:10:14.291682Z",
     "shell.execute_reply": "2025-06-26T22:10:14.291572Z",
     "shell.execute_reply.started": "2025-06-26T22:10:14.291559Z"
    },
    "trusted": true
   },
   "outputs": [],
   "source": [
    "%%skip\n",
    "df_unique = df_merged.drop_duplicates(subset='Date', keep='first')"
   ]
  },
  {
   "cell_type": "code",
   "execution_count": 120,
   "id": "d945176c",
   "metadata": {
    "execution": {
     "iopub.status.busy": "2025-06-26T22:10:14.292731Z",
     "iopub.status.idle": "2025-06-26T22:10:14.293056Z",
     "shell.execute_reply": "2025-06-26T22:10:14.29292Z",
     "shell.execute_reply.started": "2025-06-26T22:10:14.292905Z"
    },
    "trusted": true
   },
   "outputs": [],
   "source": [
    "%%skip\n",
    "df_wm_train = df_merged"
   ]
  },
  {
   "cell_type": "markdown",
   "id": "3b3b695a",
   "metadata": {},
   "source": [
    "#### US CPI Food & Beverages"
   ]
  },
  {
   "cell_type": "code",
   "execution_count": 121,
   "id": "75d615af",
   "metadata": {
    "execution": {
     "iopub.status.busy": "2025-06-26T22:10:14.29684Z",
     "iopub.status.idle": "2025-06-26T22:10:14.297116Z",
     "shell.execute_reply": "2025-06-26T22:10:14.296994Z",
     "shell.execute_reply.started": "2025-06-26T22:10:14.296983Z"
    },
    "trusted": true
   },
   "outputs": [],
   "source": [
    "%%skip\n",
    "df_us_cpi_food = df_us_cpi_food.rename(columns={'DATE': 'Date'})\n",
    "df_us_cpi_food['Date'] = pd.to_datetime(df_us_cpi_food['Date'])"
   ]
  },
  {
   "cell_type": "code",
   "execution_count": 122,
   "id": "7d48089b",
   "metadata": {
    "execution": {
     "iopub.status.busy": "2025-06-26T22:10:14.298954Z",
     "iopub.status.idle": "2025-06-26T22:10:14.299308Z",
     "shell.execute_reply": "2025-06-26T22:10:14.299142Z",
     "shell.execute_reply.started": "2025-06-26T22:10:14.299127Z"
    },
    "trusted": true
   },
   "outputs": [],
   "source": [
    "%%skip\n",
    "df_merged = pd.merge_asof(\n",
    "    df_wm_train.sort_values('Date'),\n",
    "    df_us_cpi_food[['Date','CPI_Food_Beverages']],\n",
    "    on='Date',\n",
    "    direction='backward'\n",
    ")"
   ]
  },
  {
   "cell_type": "code",
   "execution_count": 123,
   "id": "4b428242",
   "metadata": {
    "execution": {
     "iopub.status.busy": "2025-06-26T22:10:14.300369Z",
     "iopub.status.idle": "2025-06-26T22:10:14.300719Z",
     "shell.execute_reply": "2025-06-26T22:10:14.300569Z",
     "shell.execute_reply.started": "2025-06-26T22:10:14.300554Z"
    },
    "trusted": true
   },
   "outputs": [],
   "source": [
    "%%skip\n",
    "df_unique = df_merged.drop_duplicates(subset='Date', keep='first')"
   ]
  },
  {
   "cell_type": "code",
   "execution_count": 124,
   "id": "e5561f4f",
   "metadata": {
    "execution": {
     "iopub.status.busy": "2025-06-26T22:10:14.301815Z",
     "iopub.status.idle": "2025-06-26T22:10:14.302148Z",
     "shell.execute_reply": "2025-06-26T22:10:14.302Z",
     "shell.execute_reply.started": "2025-06-26T22:10:14.301985Z"
    },
    "trusted": true
   },
   "outputs": [],
   "source": [
    "%%skip\n",
    "df_wm_train = df_merged"
   ]
  },
  {
   "cell_type": "markdown",
   "id": "d6ea0b9d",
   "metadata": {},
   "source": [
    "#### US CPI Shelter (Housing)"
   ]
  },
  {
   "cell_type": "code",
   "execution_count": 125,
   "id": "c31e80fe",
   "metadata": {
    "execution": {
     "iopub.status.busy": "2025-06-26T22:10:14.307154Z",
     "iopub.status.idle": "2025-06-26T22:10:14.307545Z",
     "shell.execute_reply": "2025-06-26T22:10:14.307369Z",
     "shell.execute_reply.started": "2025-06-26T22:10:14.307353Z"
    },
    "trusted": true
   },
   "outputs": [],
   "source": [
    "%%skip\n",
    "df_us_cpi_shelter = df_us_cpi_shelter.rename(columns={'DATE': 'Date'})\n",
    "df_us_cpi_shelter['Date'] = pd.to_datetime(df_us_cpi_shelter['Date'])"
   ]
  },
  {
   "cell_type": "code",
   "execution_count": 126,
   "id": "06b03902",
   "metadata": {
    "execution": {
     "iopub.status.busy": "2025-06-26T22:10:14.308901Z",
     "iopub.status.idle": "2025-06-26T22:10:14.309264Z",
     "shell.execute_reply": "2025-06-26T22:10:14.309095Z",
     "shell.execute_reply.started": "2025-06-26T22:10:14.30908Z"
    },
    "trusted": true
   },
   "outputs": [],
   "source": [
    "%%skip\n",
    "df_merged = pd.merge_asof(\n",
    "    df_wm_train.sort_values('Date'),\n",
    "    df_us_cpi_shelter[['Date','CPI_Shelter']],\n",
    "    on='Date',\n",
    "    direction='backward'\n",
    ")"
   ]
  },
  {
   "cell_type": "code",
   "execution_count": 127,
   "id": "437f9582",
   "metadata": {
    "execution": {
     "iopub.status.busy": "2025-06-26T22:10:14.310346Z",
     "iopub.status.idle": "2025-06-26T22:10:14.310714Z",
     "shell.execute_reply": "2025-06-26T22:10:14.310557Z",
     "shell.execute_reply.started": "2025-06-26T22:10:14.310541Z"
    },
    "trusted": true
   },
   "outputs": [],
   "source": [
    "%%skip\n",
    "df_unique = df_merged.drop_duplicates(subset='Date', keep='first')"
   ]
  },
  {
   "cell_type": "code",
   "execution_count": 128,
   "id": "5bcb6f13",
   "metadata": {
    "execution": {
     "iopub.status.busy": "2025-06-26T22:10:14.312299Z",
     "iopub.status.idle": "2025-06-26T22:10:14.312679Z",
     "shell.execute_reply": "2025-06-26T22:10:14.312515Z",
     "shell.execute_reply.started": "2025-06-26T22:10:14.312498Z"
    },
    "trusted": true
   },
   "outputs": [],
   "source": [
    "%%skip\n",
    "df_wm_train = df_merged"
   ]
  },
  {
   "cell_type": "markdown",
   "id": "cf0e04df",
   "metadata": {},
   "source": [
    "#### US CPI Medical Care"
   ]
  },
  {
   "cell_type": "code",
   "execution_count": 129,
   "id": "8250753e",
   "metadata": {
    "execution": {
     "iopub.status.busy": "2025-06-26T22:10:14.31702Z",
     "iopub.status.idle": "2025-06-26T22:10:14.317378Z",
     "shell.execute_reply": "2025-06-26T22:10:14.317236Z",
     "shell.execute_reply.started": "2025-06-26T22:10:14.31722Z"
    },
    "trusted": true
   },
   "outputs": [],
   "source": [
    "%%skip\n",
    "df_us_cpi_med = df_us_cpi_med.rename(columns={'DATE': 'Date'})\n",
    "df_us_cpi_med['Date'] = pd.to_datetime(df_us_cpi_med['Date'])\n",
    "\n",
    "df_merged = pd.merge_asof(\n",
    "    df_wm_train.sort_values('Date'),\n",
    "    df_us_cpi_med[['Date','CPI_Medical_Care']],\n",
    "    on='Date',\n",
    "    direction='backward'\n",
    ")\n",
    "\n",
    "df_unique = df_merged.drop_duplicates(subset='Date', keep='first')"
   ]
  },
  {
   "cell_type": "code",
   "execution_count": 130,
   "id": "3ea8fa51",
   "metadata": {
    "execution": {
     "iopub.status.busy": "2025-06-26T22:10:14.318351Z",
     "iopub.status.idle": "2025-06-26T22:10:14.31866Z",
     "shell.execute_reply": "2025-06-26T22:10:14.318551Z",
     "shell.execute_reply.started": "2025-06-26T22:10:14.318535Z"
    },
    "trusted": true
   },
   "outputs": [],
   "source": [
    "%%skip\n",
    "df_wm_train = df_merged"
   ]
  },
  {
   "cell_type": "markdown",
   "id": "55c42970",
   "metadata": {},
   "source": [
    "#### US CPI Transportation\n"
   ]
  },
  {
   "cell_type": "code",
   "execution_count": 131,
   "id": "051daf3e",
   "metadata": {
    "execution": {
     "iopub.status.busy": "2025-06-26T22:10:14.323246Z",
     "iopub.status.idle": "2025-06-26T22:10:14.323697Z",
     "shell.execute_reply": "2025-06-26T22:10:14.323555Z",
     "shell.execute_reply.started": "2025-06-26T22:10:14.323534Z"
    },
    "trusted": true
   },
   "outputs": [],
   "source": [
    "%%skip\n",
    "df_us_cpi_trans = df_us_cpi_trans.rename(columns={'DATE': 'Date'})\n",
    "df_us_cpi_trans['Date'] = pd.to_datetime(df_us_cpi_trans['Date'])\n",
    "\n",
    "df_merged = pd.merge_asof(\n",
    "    df_wm_train.sort_values('Date'),\n",
    "    df_us_cpi_trans[['Date','CPI_Transportation']],\n",
    "    on='Date',\n",
    "    direction='backward'\n",
    ")\n",
    "\n",
    "df_unique = df_merged.drop_duplicates(subset='Date', keep='first')"
   ]
  },
  {
   "cell_type": "code",
   "execution_count": 132,
   "id": "24d144f9",
   "metadata": {
    "execution": {
     "iopub.status.busy": "2025-06-26T22:10:14.324991Z",
     "iopub.status.idle": "2025-06-26T22:10:14.325253Z",
     "shell.execute_reply": "2025-06-26T22:10:14.325139Z",
     "shell.execute_reply.started": "2025-06-26T22:10:14.325129Z"
    },
    "trusted": true
   },
   "outputs": [],
   "source": [
    "%%skip\n",
    "df_wm_train = df_merged"
   ]
  },
  {
   "cell_type": "markdown",
   "id": "49a0202b",
   "metadata": {},
   "source": [
    "#### PCE: US Healthcare Services"
   ]
  },
  {
   "cell_type": "code",
   "execution_count": 133,
   "id": "a7a9a492",
   "metadata": {
    "execution": {
     "iopub.status.busy": "2025-06-26T22:10:14.330935Z",
     "iopub.status.idle": "2025-06-26T22:10:14.331538Z",
     "shell.execute_reply": "2025-06-26T22:10:14.331277Z",
     "shell.execute_reply.started": "2025-06-26T22:10:14.331246Z"
    },
    "trusted": true
   },
   "outputs": [],
   "source": [
    "%%skip\n",
    "df_us_pce_health = df_us_pce_health.rename(columns={'DATE': 'Date'})\n",
    "df_us_pce_health['Date'] = pd.to_datetime(df_us_pce_health['Date'])\n",
    "\n",
    "df_merged = pd.merge_asof(\n",
    "    df_wm_train.sort_values('Date'),\n",
    "    df_us_pce_health[['Date','PCE_Healthcare_Services']],\n",
    "    on='Date',\n",
    "    direction='backward'\n",
    ")\n",
    "\n",
    "df_unique = df_merged.drop_duplicates(subset='Date', keep='first')"
   ]
  },
  {
   "cell_type": "code",
   "execution_count": 134,
   "id": "13326b19",
   "metadata": {
    "execution": {
     "iopub.status.busy": "2025-06-26T22:10:14.333101Z",
     "iopub.status.idle": "2025-06-26T22:10:14.333374Z",
     "shell.execute_reply": "2025-06-26T22:10:14.333261Z",
     "shell.execute_reply.started": "2025-06-26T22:10:14.33325Z"
    },
    "trusted": true
   },
   "outputs": [],
   "source": [
    "%%skip\n",
    "df_wm_train = df_merged"
   ]
  },
  {
   "cell_type": "markdown",
   "id": "c8860384",
   "metadata": {},
   "source": [
    "#### US ICSA (Jobless Claims)"
   ]
  },
  {
   "cell_type": "code",
   "execution_count": 135,
   "id": "25fd7cf4",
   "metadata": {
    "execution": {
     "iopub.status.busy": "2025-06-26T22:10:14.33762Z",
     "iopub.status.idle": "2025-06-26T22:10:14.338292Z",
     "shell.execute_reply": "2025-06-26T22:10:14.338149Z",
     "shell.execute_reply.started": "2025-06-26T22:10:14.338133Z"
    },
    "trusted": true
   },
   "outputs": [],
   "source": [
    "%%skip\n",
    "df_us_icsa_jobless = df_us_icsa_jobless.rename(columns={'DATE': 'Date'})\n",
    "df_us_icsa_jobless['Date'] = pd.to_datetime(df_us_icsa_jobless['Date'])\n",
    "\n",
    "df_merged = pd.merge_asof(\n",
    "    df_wm_train.sort_values('Date'),\n",
    "    df_us_icsa_jobless[['Date','Weekly_Initial_Jobless_Claims']],\n",
    "    on='Date',\n",
    "    direction='backward'\n",
    ")\n",
    "\n",
    "df_unique = df_merged.drop_duplicates(subset='Date', keep='first')"
   ]
  },
  {
   "cell_type": "code",
   "execution_count": 136,
   "id": "9a643ebc",
   "metadata": {
    "execution": {
     "iopub.status.busy": "2025-06-26T22:10:14.339427Z",
     "iopub.status.idle": "2025-06-26T22:10:14.339715Z",
     "shell.execute_reply": "2025-06-26T22:10:14.339603Z",
     "shell.execute_reply.started": "2025-06-26T22:10:14.339588Z"
    },
    "trusted": true
   },
   "outputs": [],
   "source": [
    "%%skip\n",
    "df_wm_train = df_merged"
   ]
  },
  {
   "cell_type": "markdown",
   "id": "c55f1d38",
   "metadata": {},
   "source": [
    "#### US Rail , Freight & Carloads"
   ]
  },
  {
   "cell_type": "code",
   "execution_count": 137,
   "id": "fb105590",
   "metadata": {
    "execution": {
     "iopub.status.busy": "2025-06-26T22:10:14.34377Z",
     "iopub.status.idle": "2025-06-26T22:10:14.344058Z",
     "shell.execute_reply": "2025-06-26T22:10:14.343953Z",
     "shell.execute_reply.started": "2025-06-26T22:10:14.343939Z"
    },
    "trusted": true
   },
   "outputs": [],
   "source": [
    "%%skip\n",
    "df_us_rail_freight_carloads = df_us_rail_freight_carloads.rename(columns={'DATE': 'Date'})\n",
    "df_us_rail_freight_carloads['Date'] = pd.to_datetime(df_us_rail_freight_carloads['Date'])\n",
    "\n",
    "df_merged = pd.merge_asof(\n",
    "    df_wm_train.sort_values('Date'),\n",
    "    df_us_rail_freight_carloads[['Date','Rail_Freight_Carloads','Truck_Tonnage_Index']],\n",
    "    on='Date',\n",
    "    direction='backward'\n",
    ")\n",
    "\n",
    "df_unique = df_merged.drop_duplicates(subset='Date', keep='first')"
   ]
  },
  {
   "cell_type": "code",
   "execution_count": 138,
   "id": "0aa8f6d5",
   "metadata": {
    "execution": {
     "iopub.status.busy": "2025-06-26T22:10:14.345092Z",
     "iopub.status.idle": "2025-06-26T22:10:14.345363Z",
     "shell.execute_reply": "2025-06-26T22:10:14.345256Z",
     "shell.execute_reply.started": "2025-06-26T22:10:14.345246Z"
    },
    "trusted": true
   },
   "outputs": [],
   "source": [
    "%%skip\n",
    "df_wm_train = df_merged"
   ]
  },
  {
   "cell_type": "markdown",
   "id": "1c8b0772",
   "metadata": {},
   "source": [
    "#### EU PMI"
   ]
  },
  {
   "cell_type": "code",
   "execution_count": 139,
   "id": "048d1001",
   "metadata": {
    "execution": {
     "iopub.status.busy": "2025-06-26T22:10:14.351085Z",
     "iopub.status.idle": "2025-06-26T22:10:14.351682Z",
     "shell.execute_reply": "2025-06-26T22:10:14.351501Z",
     "shell.execute_reply.started": "2025-06-26T22:10:14.351484Z"
    },
    "trusted": true
   },
   "outputs": [],
   "source": [
    "%%skip\n",
    "df_eu_pmi['Date'] = pd.to_datetime(df_eu_pmi['Date'])\n",
    "\n",
    "df_merged = pd.merge_asof(\n",
    "    df_wm_train.sort_values('Date'),\n",
    "    df_eu_pmi[['Date','Euro_Manufacturing_PMI']],\n",
    "    on='Date',\n",
    "    direction='backward'\n",
    ")\n",
    "\n",
    "df_unique = df_merged.drop_duplicates(subset='Date', keep='first')"
   ]
  },
  {
   "cell_type": "code",
   "execution_count": 140,
   "id": "f354341b",
   "metadata": {
    "execution": {
     "iopub.status.busy": "2025-06-26T22:10:14.359425Z",
     "iopub.status.idle": "2025-06-26T22:10:14.360017Z",
     "shell.execute_reply": "2025-06-26T22:10:14.359836Z",
     "shell.execute_reply.started": "2025-06-26T22:10:14.359815Z"
    },
    "trusted": true
   },
   "outputs": [],
   "source": [
    "%%skip\n",
    "df_wm_train = df_merged"
   ]
  },
  {
   "cell_type": "markdown",
   "id": "3fe9775b",
   "metadata": {},
   "source": [
    "#### Walmart Promotion Feature"
   ]
  },
  {
   "cell_type": "code",
   "execution_count": 141,
   "id": "b3e21d82",
   "metadata": {
    "execution": {
     "iopub.status.busy": "2025-06-26T22:10:14.363219Z",
     "iopub.status.idle": "2025-06-26T22:10:14.363568Z",
     "shell.execute_reply": "2025-06-26T22:10:14.363403Z",
     "shell.execute_reply.started": "2025-06-26T22:10:14.363373Z"
    },
    "trusted": true
   },
   "outputs": [],
   "source": [
    "%%skip\n",
    "df_merged = df_wm_train"
   ]
  },
  {
   "cell_type": "code",
   "execution_count": 142,
   "id": "ec848b46",
   "metadata": {
    "execution": {
     "iopub.status.busy": "2025-06-26T22:10:14.372954Z",
     "iopub.status.idle": "2025-06-26T22:10:14.373277Z",
     "shell.execute_reply": "2025-06-26T22:10:14.373165Z",
     "shell.execute_reply.started": "2025-06-26T22:10:14.373152Z"
    },
    "trusted": true
   },
   "outputs": [],
   "source": [
    "%%skip\n",
    "# — make sure both date columns are true datetimes —\n",
    "df_merged['Date']           = pd.to_datetime(df_merged['Date'])\n",
    "df_walmart_features['Date'] = pd.to_datetime(df_walmart_features['Date'])\n",
    "\n",
    "# — pick just the columns you need from df_walmart_features —\n",
    "md_cols = ['Store','Date','MarkDown1','MarkDown2','MarkDown3','MarkDown4','MarkDown5']\n",
    "\n",
    "# — left-merge so every (store,dept,date) in df_merged picks up that store's markdowns for that week —\n",
    "df_out = df_merged.merge(\n",
    "    df_walmart_features[md_cols],\n",
    "    on=['Store','Date'],\n",
    "    how='left'\n",
    ")\n",
    "df_merged = df_out"
   ]
  },
  {
   "cell_type": "code",
   "execution_count": 143,
   "id": "1c90a926",
   "metadata": {
    "execution": {
     "iopub.status.busy": "2025-06-26T22:10:14.374116Z",
     "iopub.status.idle": "2025-06-26T22:10:14.374449Z",
     "shell.execute_reply": "2025-06-26T22:10:14.374315Z",
     "shell.execute_reply.started": "2025-06-26T22:10:14.374303Z"
    },
    "trusted": true
   },
   "outputs": [],
   "source": [
    "%%skip\n",
    "df_unique = df_merged.drop_duplicates(subset='Date', keep='first')\n",
    "df_unique"
   ]
  },
  {
   "cell_type": "code",
   "execution_count": 144,
   "id": "e4e1eb2b",
   "metadata": {
    "execution": {
     "iopub.status.busy": "2025-06-26T22:10:14.3758Z",
     "iopub.status.idle": "2025-06-26T22:10:14.376072Z",
     "shell.execute_reply": "2025-06-26T22:10:14.375947Z",
     "shell.execute_reply.started": "2025-06-26T22:10:14.375936Z"
    },
    "trusted": true
   },
   "outputs": [],
   "source": [
    "%%skip\n",
    "df_wm_train = df_merged"
   ]
  },
  {
   "cell_type": "markdown",
   "id": "9998a599",
   "metadata": {},
   "source": [
    "## Data Transformation"
   ]
  },
  {
   "cell_type": "markdown",
   "id": "afe0b5cb",
   "metadata": {},
   "source": [
    "### Train"
   ]
  },
  {
   "cell_type": "markdown",
   "id": "fe8eff0d",
   "metadata": {},
   "source": [
    "#### Columns Renaming Reorder"
   ]
  },
  {
   "cell_type": "code",
   "execution_count": 145,
   "id": "6c828107",
   "metadata": {
    "execution": {
     "iopub.status.busy": "2025-06-26T22:10:14.378307Z",
     "iopub.status.idle": "2025-06-26T22:10:14.37859Z",
     "shell.execute_reply": "2025-06-26T22:10:14.378484Z",
     "shell.execute_reply.started": "2025-06-26T22:10:14.378473Z"
    },
    "trusted": true
   },
   "outputs": [],
   "source": [
    "%%skip\n",
    "# lowercase all columns\n",
    "df_merged.columns = df_merged.columns.str.lower()\n",
    "\n",
    "# define new order in lowercase, with markdowns at the end\n",
    "new_order = [\n",
    "    # identifiers & target\n",
    "    'date', 'store', 'type', 'size', 'dept', 'weekly_sales',\n",
    "\n",
    "    # holiday flags\n",
    "    'isholiday', 'holiday_name', 'holidayimpact',\n",
    "\n",
    "    # tax & return\n",
    "    'us_tax_return',\n",
    "\n",
    "    # market indices\n",
    "    'sp500_weekly_mean_close', 'wmt_weekly_mean_close',\n",
    "\n",
    "    # logistics-stock closes\n",
    "    'arcb_df_logistics_close', 'ait_df_logistics_close', 'ceva_df_logistics_close',\n",
    "    'fdx_df_logistics_close', 'saia_df_logistics_close', 'tfii.to_df_logistics_close',\n",
    "    'xpo_df_logistics_close', 'odfl_df_logistics_close', 'ups_df_logistics_close',\n",
    "    'jbht_df_logistics_close',\n",
    "\n",
    "    # oil price\n",
    "    'dcoilwtico',\n",
    "\n",
    "    # PMI\n",
    "    'china_official_manufacturing_pmi', 'china_official_services_pmi',\n",
    "    'ism_manufacturing_pmi', 'ism_services_pmi', 'euro_manufacturing_pmi',\n",
    "\n",
    "    # sentiment & consumption\n",
    "    'consumer_sentiment_umich', 'us_personal_consumption_expenditures',\n",
    "    'retail_sales_retail_and_food_services_usa',\n",
    "\n",
    "    # interest rates\n",
    "    'us_tbill_3mo_yield', 'us_fed_funds_rate',\n",
    "\n",
    "    # inflation measures\n",
    "    'cpi_food_beverages', 'cpi_shelter', 'cpi_medical_care', 'cpi_transportation',\n",
    "    'pce_healthcare_services',\n",
    "\n",
    "    # labor & freight\n",
    "    'weekly_initial_jobless_claims', 'rail_freight_carloads', 'truck_tonnage_index',\n",
    "\n",
    "    # FX rates\n",
    "    'cny_per_usd', 'mxn_per_usd', 'cad_per_usd', 'inr_per_usd', 'vnd_per_usd',\n",
    "\n",
    "    # trade tariffs\n",
    "    'us_tax_canada', 'us_tax_china', 'us_tax_india', 'us_tax_mexico', 'us_tax_vietnam',\n",
    "\n",
    "    # markdowns\n",
    "    'markdown1', 'markdown2', 'markdown3', 'markdown4', 'markdown5'\n",
    "]\n",
    "\n",
    "# sanity check\n",
    "missing = [col for col in new_order if col not in df_merged.columns]\n",
    "if missing:\n",
    "    raise KeyError(f\"These columns are missing from df_merged: {missing}\")\n",
    "\n",
    "# reorder\n",
    "df_merged = df_merged[new_order]\n"
   ]
  },
  {
   "cell_type": "code",
   "execution_count": 147,
   "id": "0adf3ed5",
   "metadata": {
    "execution": {
     "iopub.status.busy": "2025-06-26T22:10:14.379784Z",
     "iopub.status.idle": "2025-06-26T22:10:14.380111Z",
     "shell.execute_reply": "2025-06-26T22:10:14.379962Z",
     "shell.execute_reply.started": "2025-06-26T22:10:14.379946Z"
    },
    "trusted": true
   },
   "outputs": [],
   "source": [
    "%%skip\n",
    "# lowercase every column name\n",
    "df_merged.columns = df_merged.columns.str.lower()\n"
   ]
  },
  {
   "cell_type": "code",
   "execution_count": 148,
   "id": "7cb25dfb",
   "metadata": {
    "execution": {
     "iopub.status.busy": "2025-06-26T22:10:14.381111Z",
     "iopub.status.idle": "2025-06-26T22:10:14.381466Z",
     "shell.execute_reply": "2025-06-26T22:10:14.381288Z",
     "shell.execute_reply.started": "2025-06-26T22:10:14.381273Z"
    },
    "trusted": true
   },
   "outputs": [],
   "source": [
    "%%skip\n",
    "df_wm_train = df_merged"
   ]
  },
  {
   "cell_type": "markdown",
   "id": "686dd941",
   "metadata": {},
   "source": [
    "#### Date Column"
   ]
  },
  {
   "cell_type": "code",
   "execution_count": 149,
   "id": "d7c6d9ca",
   "metadata": {
    "execution": {
     "iopub.status.busy": "2025-06-26T22:10:14.384732Z",
     "iopub.status.idle": "2025-06-26T22:10:14.38501Z",
     "shell.execute_reply": "2025-06-26T22:10:14.384885Z",
     "shell.execute_reply.started": "2025-06-26T22:10:14.384871Z"
    },
    "trusted": true
   },
   "outputs": [],
   "source": [
    "%%skip\n",
    "# Start from your raw df_merged_wm_train\n",
    "df_merged = df_wm_train.copy()\n",
    "\n",
    "# Parse date, extract year & weekofyr, then sort\n",
    "df_merged['date']     = pd.to_datetime(df_merged['date'])\n",
    "df_merged['year']     = df_merged['date'].dt.year\n",
    "df_merged['weekofyr'] = df_merged['date'].dt.isocalendar().week.astype(int)\n",
    "df_merged = df_merged.sort_values(['store','dept','date'])\n",
    "\n",
    "# Build lag features (with NaNs in the first 1/4/52 rows per group)\n",
    "df_merged = df_merged.set_index(['store','dept','date'])\n",
    "for lag in [1,4,52]:\n",
    "    df_merged[f'lag_{lag}'] = df_merged.groupby(level=['store','dept'])['weekly_sales'].shift(lag)\n",
    "df_merged = df_merged.reset_index()\n",
    "\n",
    "# Compute seasonal means by (store,dept,weekofyr,year)\n",
    "seasonal = (\n",
    "    df_merged\n",
    "    .groupby(['store','dept','weekofyr','year'])['weekly_sales']\n",
    "    .mean()\n",
    "    .reset_index(name='seasonal_mean')\n",
    ")\n",
    "\n",
    "# Fit year‐over‐year trend (slope & intercept) for each (store,dept,weekofyr)\n",
    "trend_params = {}\n",
    "for (st, dp, wk), grp in seasonal.groupby(['store','dept','weekofyr']):\n",
    "    yrs   = grp['year'].values\n",
    "    means = grp['seasonal_mean'].values\n",
    "    if len(yrs) >= 2:\n",
    "        m, b = np.polyfit(yrs, means, 1)\n",
    "    else:\n",
    "        # if only one year available, flat trend\n",
    "        m, b = 0.0, means[0]\n",
    "    trend_params[(st,dp,wk)] = (m, b)\n",
    "\n",
    "# Define an imputer that uses seasonal-trend prediction\n",
    "def predict_seasonal(row):\n",
    "    key = (row.store, row.dept, row.weekofyr)\n",
    "    m, b = trend_params.get(key, (0.0, np.nan))\n",
    "    return m * row.year + b\n",
    "\n",
    "# fill any missing lag_* by seasonal-trend\n",
    "for lag in [1,4,52]:\n",
    "    col = f'lag_{lag}'\n",
    "    mask = df_merged[col].isna()\n",
    "    df_merged.loc[mask, col] = df_merged[mask].apply(predict_seasonal, axis=1)\n",
    "\n",
    "# Clip at zero\n",
    "for lag in [1,4,52]:\n",
    "    df_merged[f'lag_{lag}'] = df_merged[f'lag_{lag}'].clip(lower=0)\n",
    "\n"
   ]
  },
  {
   "cell_type": "code",
   "execution_count": 150,
   "id": "b979f7a5",
   "metadata": {
    "execution": {
     "iopub.status.busy": "2025-06-26T22:10:14.386129Z",
     "iopub.status.idle": "2025-06-26T22:10:14.386371Z",
     "shell.execute_reply": "2025-06-26T22:10:14.38627Z",
     "shell.execute_reply.started": "2025-06-26T22:10:14.38626Z"
    },
    "trusted": true
   },
   "outputs": [],
   "source": [
    "%%skip\n",
    "# long-term drift   \n",
    "df_merged['year'] = df_merged['date'].dt.year\n",
    "\n",
    "# annual seasonality on a weekly grid\n",
    "df_merged['weekofyr'] = df_merged['date'].dt.isocalendar().week.astype(int)\n",
    "df_merged['week_sin'] = np.sin(2 * np.pi * df_merged['weekofyr'] / 52)\n",
    "df_merged['week_cos'] = np.cos(2 * np.pi * df_merged['weekofyr'] / 52)\n",
    "\n",
    "# continuous trend\n",
    "df_merged['date_ordinal'] = df_merged['date'].map(pd.Timestamp.toordinal)\n",
    "\n",
    "# drop the raw date if you like\n",
    "df_merged = df_merged.drop(columns=['date'])\n",
    "\n",
    "df_wm_train = df_merged"
   ]
  },
  {
   "cell_type": "code",
   "execution_count": 151,
   "id": "9434b23f-d8f0-4355-be2b-a21b052a3d15",
   "metadata": {
    "execution": {
     "iopub.execute_input": "2025-06-26T22:38:50.924103Z",
     "iopub.status.busy": "2025-06-26T22:38:50.923796Z",
     "iopub.status.idle": "2025-06-26T22:38:54.404406Z",
     "shell.execute_reply": "2025-06-26T22:38:54.403606Z",
     "shell.execute_reply.started": "2025-06-26T22:38:50.924082Z"
    },
    "trusted": true
   },
   "outputs": [],
   "source": [
    "%%skip\n",
    "#Kaggle\n",
    "df_wm_train = pd.read_csv('/kaggle/input/df-wm-train01-kaggle/df_wm_train01.csv')"
   ]
  },
  {
   "cell_type": "code",
   "execution_count": 152,
   "id": "3f19cd38-892a-4c6e-bec6-238ff01c5a4f",
   "metadata": {
    "execution": {
     "iopub.execute_input": "2025-06-26T22:39:20.242456Z",
     "iopub.status.busy": "2025-06-26T22:39:20.241688Z",
     "iopub.status.idle": "2025-06-26T22:39:20.345353Z",
     "shell.execute_reply": "2025-06-26T22:39:20.344344Z",
     "shell.execute_reply.started": "2025-06-26T22:39:20.242429Z"
    },
    "trusted": true
   },
   "outputs": [],
   "source": [
    "%%skip\n",
    "df_wm_train"
   ]
  },
  {
   "cell_type": "markdown",
   "id": "541cf7dd",
   "metadata": {},
   "source": [
    "#### Encoding"
   ]
  },
  {
   "cell_type": "code",
   "execution_count": 153,
   "id": "020f78e8",
   "metadata": {
    "execution": {
     "iopub.execute_input": "2025-06-26T22:39:14.068023Z",
     "iopub.status.busy": "2025-06-26T22:39:14.06773Z",
     "iopub.status.idle": "2025-06-26T22:39:14.100297Z",
     "shell.execute_reply": "2025-06-26T22:39:14.099135Z",
     "shell.execute_reply.started": "2025-06-26T22:39:14.067995Z"
    },
    "trusted": true
   },
   "outputs": [],
   "source": [
    "%%skip\n",
    "type_map = {'A': 1, 'B': 2, 'C': 3}\n",
    "holiday_map = {False: 0, True: 1}\n",
    "\n",
    "df_wm_train['type']      = df_wm_train['type'].map(type_map)\n",
    "df_wm_train['isholiday'] = df_wm_train['isholiday'].map(holiday_map)\n"
   ]
  },
  {
   "cell_type": "code",
   "execution_count": 155,
   "id": "b2283700-7b2c-40f0-b4ba-7aabcf346712",
   "metadata": {
    "execution": {
     "iopub.execute_input": "2025-06-26T22:39:31.594538Z",
     "iopub.status.busy": "2025-06-26T22:39:31.594236Z",
     "iopub.status.idle": "2025-06-26T22:39:54.983052Z",
     "shell.execute_reply": "2025-06-26T22:39:54.982293Z",
     "shell.execute_reply.started": "2025-06-26T22:39:31.594517Z"
    },
    "trusted": true
   },
   "outputs": [],
   "source": [
    "%%skip\n",
    "#Kaggle\n",
    "df_wm_train.to_csv(\"/kaggle/working/df_wm_train02.csv\", index=False)\n",
    "df_wm_train = pd.read_csv('/kaggle/working/df_wm_train02.csv')"
   ]
  },
  {
   "cell_type": "code",
   "execution_count": 157,
   "id": "8ece482c-3f10-401c-9aa8-a7a9d64761a9",
   "metadata": {
    "execution": {
     "iopub.execute_input": "2025-06-26T22:40:33.397502Z",
     "iopub.status.busy": "2025-06-26T22:40:33.397204Z",
     "iopub.status.idle": "2025-06-26T22:40:33.479647Z",
     "shell.execute_reply": "2025-06-26T22:40:33.47874Z",
     "shell.execute_reply.started": "2025-06-26T22:40:33.397479Z"
    },
    "trusted": true
   },
   "outputs": [],
   "source": [
    "%%skip\n",
    "df_wm_train"
   ]
  },
  {
   "cell_type": "markdown",
   "id": "06a1ee67",
   "metadata": {},
   "source": [
    "## Data Viz EDA"
   ]
  },
  {
   "cell_type": "code",
   "execution_count": 158,
   "id": "053e19b8",
   "metadata": {
    "execution": {
     "iopub.status.busy": "2025-06-26T22:10:14.393049Z",
     "iopub.status.idle": "2025-06-26T22:10:14.393369Z",
     "shell.execute_reply": "2025-06-26T22:10:14.393222Z",
     "shell.execute_reply.started": "2025-06-26T22:10:14.393207Z"
    },
    "trusted": true
   },
   "outputs": [],
   "source": [
    "%%skip\n",
    "df_wm_train"
   ]
  },
  {
   "cell_type": "code",
   "execution_count": 159,
   "id": "d113781b",
   "metadata": {
    "execution": {
     "iopub.status.busy": "2025-06-26T22:10:14.394301Z",
     "iopub.status.idle": "2025-06-26T22:10:14.39466Z",
     "shell.execute_reply": "2025-06-26T22:10:14.394501Z",
     "shell.execute_reply.started": "2025-06-26T22:10:14.394486Z"
    },
    "trusted": true
   },
   "outputs": [],
   "source": [
    "%%skip\n",
    "plt.figure()\n",
    "df_wm_train.groupby('year')['weekly_sales'].mean().plot()\n",
    "plt.title(\"Avg Weekly Sales Over Time\")\n",
    "plt.ylabel(\"Sales\")\n",
    "plt.xlabel(\"Date\")\n"
   ]
  },
  {
   "cell_type": "code",
   "execution_count": 160,
   "id": "c37e045f",
   "metadata": {
    "execution": {
     "iopub.status.busy": "2025-06-26T22:10:14.395777Z",
     "iopub.status.idle": "2025-06-26T22:10:14.396206Z",
     "shell.execute_reply": "2025-06-26T22:10:14.395949Z",
     "shell.execute_reply.started": "2025-06-26T22:10:14.395933Z"
    },
    "trusted": true
   },
   "outputs": [],
   "source": [
    "%%skip\n",
    "plt.figure(figsize=(14,4))\n",
    "for i, lag in enumerate(['lag_1','lag_4','lag_52'], 1):\n",
    "    plt.subplot(1,3,i)\n",
    "    sns.scatterplot(x=lag, y='weekly_sales', data=df_wm_train, alpha=0.3)\n",
    "    plt.title(f\"{lag} vs Weekly Sales\")\n",
    "plt.tight_layout()\n",
    "plt.show()\n"
   ]
  },
  {
   "cell_type": "code",
   "execution_count": 161,
   "id": "323edc89",
   "metadata": {
    "execution": {
     "iopub.status.busy": "2025-06-26T22:10:14.398076Z",
     "iopub.status.idle": "2025-06-26T22:10:14.398445Z",
     "shell.execute_reply": "2025-06-26T22:10:14.398265Z",
     "shell.execute_reply.started": "2025-06-26T22:10:14.398249Z"
    },
    "trusted": true
   },
   "outputs": [],
   "source": [
    "%%skip\n",
    "order = df_wm_train.groupby('holiday_name')['weekly_sales'].median().sort_values(ascending=False).index\n",
    "\n",
    "sns.set_style(\"whitegrid\")\n",
    "plt.figure(figsize=(16, 8))\n",
    "\n",
    "ax = sns.boxplot(\n",
    "    x='holiday_name',\n",
    "    y='weekly_sales',\n",
    "    data=df_wm_train,\n",
    "    order=order,\n",
    "    width=0.6\n",
    ")\n",
    "\n",
    "ax.set_xticklabels(ax.get_xticklabels(), rotation=45, ha='right')\n",
    "ax.tick_params(axis='x', pad=12)\n",
    "plt.title(\"Sales by Holiday/Special Event (sorted by median sales)\")\n",
    "plt.xlabel(\"\")\n",
    "plt.ylabel(\"Weekly Sales\")\n",
    "plt.tight_layout()\n",
    "plt.show()"
   ]
  },
  {
   "cell_type": "code",
   "execution_count": 162,
   "id": "6d955296",
   "metadata": {
    "execution": {
     "iopub.status.busy": "2025-06-26T22:10:14.399773Z",
     "iopub.status.idle": "2025-06-26T22:10:14.40012Z",
     "shell.execute_reply": "2025-06-26T22:10:14.39997Z",
     "shell.execute_reply.started": "2025-06-26T22:10:14.399955Z"
    },
    "trusted": true
   },
   "outputs": [],
   "source": [
    "%%skip\n",
    "plt.figure(figsize=(12,6))\n",
    "sns.lineplot(\n",
    "    x='weekofyr', y='weekly_sales',\n",
    "    hue='year', estimator='mean',\n",
    "    data=df_wm_train, palette=\"tab10\"\n",
    ")\n",
    "plt.title(\"Average Sales by Week of Year, by Year\")\n",
    "plt.xlabel(\"Week of Year\")\n",
    "plt.ylabel(\"Avg Weekly Sales\")\n",
    "plt.tight_layout()\n",
    "plt.show()\n"
   ]
  },
  {
   "cell_type": "code",
   "execution_count": 163,
   "id": "05037fa6",
   "metadata": {
    "execution": {
     "iopub.status.busy": "2025-06-26T22:10:14.401522Z",
     "iopub.status.idle": "2025-06-26T22:10:14.401757Z",
     "shell.execute_reply": "2025-06-26T22:10:14.401657Z",
     "shell.execute_reply.started": "2025-06-26T22:10:14.401647Z"
    },
    "trusted": true
   },
   "outputs": [],
   "source": [
    "%%skip\n",
    "plt.figure(figsize=(14,5))\n",
    "subset = df_wm_train[df_wm_train['store'].isin([1,2,3,4,9,25,45])] \n",
    "sns.lineplot(\n",
    "    x='weekofyr', y='weekly_sales',\n",
    "    hue='store', data=subset,\n",
    "    estimator='mean', ci=None\n",
    ")\n",
    "plt.title(\"Sales Over Time for Sample Stores\")\n",
    "plt.xlabel(\"Week of Year\")\n",
    "plt.ylabel(\"Weekly Sales\")\n",
    "plt.xticks(rotation=45)\n",
    "plt.tight_layout()\n",
    "plt.show()\n"
   ]
  },
  {
   "cell_type": "markdown",
   "id": "1e29501c",
   "metadata": {},
   "source": [
    "## Data Optimization"
   ]
  },
  {
   "cell_type": "markdown",
   "id": "b6b38d9b",
   "metadata": {},
   "source": [
    "#### Drop columns Correlation >= 80%"
   ]
  },
  {
   "cell_type": "code",
   "execution_count": 165,
   "id": "a98aa215",
   "metadata": {
    "execution": {
     "iopub.status.busy": "2025-06-26T22:10:14.403158Z",
     "iopub.status.idle": "2025-06-26T22:10:14.403428Z",
     "shell.execute_reply": "2025-06-26T22:10:14.403302Z",
     "shell.execute_reply.started": "2025-06-26T22:10:14.403293Z"
    },
    "trusted": true
   },
   "outputs": [],
   "source": [
    "%%skip\n",
    "df_wm_train_pruned = df_wm_train"
   ]
  },
  {
   "cell_type": "code",
   "execution_count": 166,
   "id": "efcee736",
   "metadata": {
    "execution": {
     "iopub.status.busy": "2025-06-26T22:10:14.404696Z",
     "iopub.status.idle": "2025-06-26T22:10:14.40494Z",
     "shell.execute_reply": "2025-06-26T22:10:14.404839Z",
     "shell.execute_reply.started": "2025-06-26T22:10:14.404828Z"
    },
    "trusted": true
   },
   "outputs": [],
   "source": [
    "%%skip\n",
    "# absolute correlation of your numeric features\n",
    "df_num = df_wm_train_pruned.select_dtypes(include=[np.number])\n",
    "corr = df_num.corr().abs()\n",
    "\n",
    "# upper‐triangle mask\n",
    "mask = np.triu(np.ones_like(corr, dtype=bool))\n",
    "\n",
    "# find all pairs with |r|>0.8\n",
    "thresh = 0.9\n",
    "high_corr = (\n",
    "    corr.where(~mask)               \n",
    "        .stack()                    \n",
    "        .loc[lambda s: s > thresh] \n",
    "        .sort_values(ascending=False)\n",
    ")\n",
    "high_corr\n"
   ]
  },
  {
   "cell_type": "code",
   "execution_count": 167,
   "id": "478732ad",
   "metadata": {
    "execution": {
     "iopub.status.busy": "2025-06-26T22:10:14.405565Z",
     "iopub.status.idle": "2025-06-26T22:10:14.406013Z",
     "shell.execute_reply": "2025-06-26T22:10:14.405697Z",
     "shell.execute_reply.started": "2025-06-26T22:10:14.405683Z"
    },
    "trusted": true
   },
   "outputs": [],
   "source": [
    "%%skip\n",
    "target_corr = corr['weekly_sales'].sort_values(ascending=False)\n",
    "print(target_corr)"
   ]
  },
  {
   "cell_type": "code",
   "execution_count": 168,
   "id": "591780c3",
   "metadata": {
    "execution": {
     "iopub.status.busy": "2025-06-26T22:10:14.407358Z",
     "iopub.status.idle": "2025-06-26T22:10:14.407638Z",
     "shell.execute_reply": "2025-06-26T22:10:14.407535Z",
     "shell.execute_reply.started": "2025-06-26T22:10:14.407516Z"
    },
    "trusted": true
   },
   "outputs": [],
   "source": [
    "%%skip\n",
    "\n",
    "us_tax_mexico → keep us_tax_vietnam\n",
    "(Identical tariff signals.)\n",
    "\n",
    "weekofyr → keep week_sin/week_cos\n",
    "(Raw week number is redundant—cyclical encoding is sufficient.)\n"
   ]
  },
  {
   "cell_type": "code",
   "execution_count": 170,
   "id": "606970db",
   "metadata": {
    "execution": {
     "iopub.status.busy": "2025-06-26T22:10:14.408583Z",
     "iopub.status.idle": "2025-06-26T22:10:14.408868Z",
     "shell.execute_reply": "2025-06-26T22:10:14.408726Z",
     "shell.execute_reply.started": "2025-06-26T22:10:14.408712Z"
    },
    "trusted": true
   },
   "outputs": [],
   "source": [
    "%%skip\n",
    "to_drop = [\n",
    "    'us_tax_mexico',\n",
    "    'weekofyr',\n",
    "]\n",
    "\n",
    "df_wm_train_pruned = df_wm_train.drop(columns=to_drop)\n"
   ]
  },
  {
   "cell_type": "code",
   "execution_count": 171,
   "id": "8399b60f",
   "metadata": {
    "execution": {
     "iopub.status.busy": "2025-06-26T22:10:14.410292Z",
     "iopub.status.idle": "2025-06-26T22:10:14.410675Z",
     "shell.execute_reply": "2025-06-26T22:10:14.410537Z",
     "shell.execute_reply.started": "2025-06-26T22:10:14.410516Z"
    },
    "trusted": true
   },
   "outputs": [],
   "source": [
    "%%skip\n",
    "df_wm_train_pruned"
   ]
  },
  {
   "cell_type": "markdown",
   "id": "1d867b77",
   "metadata": {},
   "source": [
    "## ML Training"
   ]
  },
  {
   "cell_type": "markdown",
   "id": "1f6c5ced",
   "metadata": {},
   "source": [
    "### 1st selection"
   ]
  },
  {
   "cell_type": "markdown",
   "id": "bda32584",
   "metadata": {},
   "source": [
    "#### Train Test Split"
   ]
  },
  {
   "cell_type": "code",
   "execution_count": 172,
   "id": "b9d68cdd-6835-443b-bd86-483c7971cec7",
   "metadata": {
    "execution": {
     "iopub.execute_input": "2025-06-27T02:02:05.529937Z",
     "iopub.status.busy": "2025-06-27T02:02:05.529201Z",
     "iopub.status.idle": "2025-06-27T02:02:09.846203Z",
     "shell.execute_reply": "2025-06-27T02:02:09.845413Z",
     "shell.execute_reply.started": "2025-06-27T02:02:05.529907Z"
    },
    "trusted": true
   },
   "outputs": [],
   "source": [
    "%%skip\n",
    "#Kaggle\n",
    "df_wm_train_pruned = pd.read_csv('/kaggle/input/df-wm-train02/df_wm_train02.csv')\n"
   ]
  },
  {
   "cell_type": "code",
   "execution_count": 173,
   "id": "a7ecf7f1-2bd2-46b5-8c56-691b76b42703",
   "metadata": {
    "trusted": true
   },
   "outputs": [],
   "source": [
    "\n",
    "#VsCode\n",
    "df_wm_train_pruned = pd.read_csv('csv_files/ml_train_data/df_wm_train02.csv')"
   ]
  },
  {
   "cell_type": "code",
   "execution_count": 174,
   "id": "cda7d960",
   "metadata": {
    "execution": {
     "iopub.execute_input": "2025-06-27T02:02:10.021342Z",
     "iopub.status.busy": "2025-06-27T02:02:10.020836Z",
     "iopub.status.idle": "2025-06-27T02:02:10.137988Z",
     "shell.execute_reply": "2025-06-27T02:02:10.137395Z",
     "shell.execute_reply.started": "2025-06-27T02:02:10.021315Z"
    },
    "trusted": true
   },
   "outputs": [
    {
     "data": {
      "application/vnd.microsoft.datawrangler.viewer.v0+json": {
       "columns": [
        {
         "name": "index",
         "rawType": "int64",
         "type": "integer"
        },
        {
         "name": "store",
         "rawType": "int64",
         "type": "integer"
        },
        {
         "name": "dept",
         "rawType": "int64",
         "type": "integer"
        },
        {
         "name": "type",
         "rawType": "int64",
         "type": "integer"
        },
        {
         "name": "size",
         "rawType": "int64",
         "type": "integer"
        },
        {
         "name": "weekly_sales",
         "rawType": "float64",
         "type": "float"
        },
        {
         "name": "isholiday",
         "rawType": "int64",
         "type": "integer"
        },
        {
         "name": "holiday_name",
         "rawType": "object",
         "type": "string"
        },
        {
         "name": "holidayimpact",
         "rawType": "float64",
         "type": "float"
        },
        {
         "name": "us_tax_return",
         "rawType": "float64",
         "type": "float"
        },
        {
         "name": "sp500_weekly_mean_close",
         "rawType": "float64",
         "type": "float"
        },
        {
         "name": "wmt_weekly_mean_close",
         "rawType": "float64",
         "type": "float"
        },
        {
         "name": "arcb_df_logistics_close",
         "rawType": "float64",
         "type": "float"
        },
        {
         "name": "ait_df_logistics_close",
         "rawType": "float64",
         "type": "float"
        },
        {
         "name": "ceva_df_logistics_close",
         "rawType": "float64",
         "type": "float"
        },
        {
         "name": "fdx_df_logistics_close",
         "rawType": "float64",
         "type": "float"
        },
        {
         "name": "saia_df_logistics_close",
         "rawType": "float64",
         "type": "float"
        },
        {
         "name": "tfii.to_df_logistics_close",
         "rawType": "float64",
         "type": "float"
        },
        {
         "name": "xpo_df_logistics_close",
         "rawType": "float64",
         "type": "float"
        },
        {
         "name": "odfl_df_logistics_close",
         "rawType": "float64",
         "type": "float"
        },
        {
         "name": "ups_df_logistics_close",
         "rawType": "float64",
         "type": "float"
        },
        {
         "name": "jbht_df_logistics_close",
         "rawType": "float64",
         "type": "float"
        },
        {
         "name": "dcoilwtico",
         "rawType": "float64",
         "type": "float"
        },
        {
         "name": "china_official_manufacturing_pmi",
         "rawType": "float64",
         "type": "float"
        },
        {
         "name": "china_official_services_pmi",
         "rawType": "float64",
         "type": "float"
        },
        {
         "name": "ism_manufacturing_pmi",
         "rawType": "float64",
         "type": "float"
        },
        {
         "name": "ism_services_pmi",
         "rawType": "float64",
         "type": "float"
        },
        {
         "name": "euro_manufacturing_pmi",
         "rawType": "float64",
         "type": "float"
        },
        {
         "name": "consumer_sentiment_umich",
         "rawType": "float64",
         "type": "float"
        },
        {
         "name": "us_personal_consumption_expenditures",
         "rawType": "float64",
         "type": "float"
        },
        {
         "name": "retail_sales_retail_and_food_services_usa",
         "rawType": "int64",
         "type": "integer"
        },
        {
         "name": "us_tbill_3mo_yield",
         "rawType": "float64",
         "type": "float"
        },
        {
         "name": "us_fed_funds_rate",
         "rawType": "float64",
         "type": "float"
        },
        {
         "name": "cpi_food_beverages",
         "rawType": "float64",
         "type": "float"
        },
        {
         "name": "cpi_shelter",
         "rawType": "float64",
         "type": "float"
        },
        {
         "name": "cpi_medical_care",
         "rawType": "float64",
         "type": "float"
        },
        {
         "name": "cpi_transportation",
         "rawType": "float64",
         "type": "float"
        },
        {
         "name": "pce_healthcare_services",
         "rawType": "float64",
         "type": "float"
        },
        {
         "name": "weekly_initial_jobless_claims",
         "rawType": "int64",
         "type": "integer"
        },
        {
         "name": "rail_freight_carloads",
         "rawType": "int64",
         "type": "integer"
        },
        {
         "name": "truck_tonnage_index",
         "rawType": "float64",
         "type": "float"
        },
        {
         "name": "cny_per_usd",
         "rawType": "float64",
         "type": "float"
        },
        {
         "name": "mxn_per_usd",
         "rawType": "float64",
         "type": "float"
        },
        {
         "name": "cad_per_usd",
         "rawType": "float64",
         "type": "float"
        },
        {
         "name": "inr_per_usd",
         "rawType": "float64",
         "type": "float"
        },
        {
         "name": "vnd_per_usd",
         "rawType": "float64",
         "type": "float"
        },
        {
         "name": "us_tax_canada",
         "rawType": "float64",
         "type": "float"
        },
        {
         "name": "us_tax_china",
         "rawType": "float64",
         "type": "float"
        },
        {
         "name": "us_tax_india",
         "rawType": "float64",
         "type": "float"
        },
        {
         "name": "us_tax_mexico",
         "rawType": "float64",
         "type": "float"
        },
        {
         "name": "us_tax_vietnam",
         "rawType": "float64",
         "type": "float"
        },
        {
         "name": "markdown1",
         "rawType": "float64",
         "type": "float"
        },
        {
         "name": "markdown2",
         "rawType": "float64",
         "type": "float"
        },
        {
         "name": "markdown3",
         "rawType": "float64",
         "type": "float"
        },
        {
         "name": "markdown4",
         "rawType": "float64",
         "type": "float"
        },
        {
         "name": "markdown5",
         "rawType": "float64",
         "type": "float"
        },
        {
         "name": "year",
         "rawType": "int64",
         "type": "integer"
        },
        {
         "name": "weekofyr",
         "rawType": "int64",
         "type": "integer"
        },
        {
         "name": "lag_1",
         "rawType": "float64",
         "type": "float"
        },
        {
         "name": "lag_4",
         "rawType": "float64",
         "type": "float"
        },
        {
         "name": "lag_52",
         "rawType": "float64",
         "type": "float"
        },
        {
         "name": "week_sin",
         "rawType": "float64",
         "type": "float"
        },
        {
         "name": "week_cos",
         "rawType": "float64",
         "type": "float"
        },
        {
         "name": "date_ordinal",
         "rawType": "int64",
         "type": "integer"
        }
       ],
       "ref": "b6d8b8bc-828e-4e8c-8b0c-7b08f68d4a60",
       "rows": [
        [
         "0",
         "1",
         "1",
         "1",
         "151315",
         "24924.5",
         "0",
         "No Holiday",
         "0.8909157412340148",
         "0.0",
         "1083.81796875",
         "12.849576950073242",
         "19.7749",
         "16.3716",
         "11.386",
         "67.5286",
         "8.1133",
         "5.9522",
         "1.732",
         "4.0012",
         "35.1546",
         "26.3251",
         "71.15",
         "52.0",
         "57.0",
         "57.45",
         "50.5",
         "52.4",
         "73.6",
         "10093.4",
         "339580",
         "0.098",
         "0.13",
         "218.898",
         "247.997",
         "384.308",
         "191.978",
         "1663.318",
         "496000",
         "1060960",
         "81.3",
         "6.8269",
         "13.011",
         "1.0666",
         "46.256",
         "18421.0",
         "1.7",
         "3.94",
         "6.84",
         "1.61",
         "6.76",
         "0.0",
         "0.0",
         "0.0",
         "0.0",
         "0.0",
         "2010",
         "5",
         "24073.92166666733",
         "24073.92166666733",
         "24073.92166666733",
         "0.5680647467311558",
         "0.8229838658936564",
         "733808"
        ],
        [
         "1",
         "1",
         "1",
         "1",
         "151315",
         "46039.49",
         "1",
         "Super Bowl",
         "0.9944154131125642",
         "0.0",
         "1069.8739990234376",
         "12.74108009338379",
         "19.9706",
         "16.2364",
         "11.006",
         "66.1162",
         "8.14",
         "5.7845",
         "1.7154",
         "4.0306",
         "34.4932",
         "26.7885",
         "74.11",
         "52.0",
         "57.0",
         "57.45",
         "50.5",
         "52.4",
         "73.6",
         "10093.4",
         "339580",
         "0.112",
         "0.13",
         "218.898",
         "247.997",
         "384.308",
         "191.978",
         "1663.318",
         "466000",
         "1060960",
         "81.3",
         "6.8293",
         "13.0574",
         "1.062",
         "46.494",
         "18406.0",
         "1.7",
         "3.94",
         "6.84",
         "1.61",
         "6.76",
         "0.0",
         "0.0",
         "0.0",
         "0.0",
         "0.0",
         "2010",
         "6",
         "24924.5",
         "44830.550000000745",
         "44830.550000000745",
         "0.6631226582407952",
         "0.7485107481711011",
         "733815"
        ],
        [
         "2",
         "1",
         "1",
         "1",
         "151315",
         "41595.55",
         "1",
         "Valentine's Day, Presidents' Day",
         "0.716941869558779",
         "0.0",
         "1102.5750122070312",
         "12.876699209213257",
         "21.8988",
         "16.8577",
         "11.7",
         "67.7903",
         "7.66",
         "5.8391",
         "1.8538",
         "4.1189",
         "35.0687",
         "27.9924",
         "79.77",
         "52.0",
         "57.0",
         "57.45",
         "50.5",
         "54.1",
         "73.6",
         "10093.4",
         "339580",
         "0.1025",
         "0.13",
         "218.898",
         "247.997",
         "384.308",
         "191.978",
         "1663.318",
         "489000",
         "1060960",
         "81.3",
         "6.8318",
         "12.8493",
         "1.0438",
         "46.1075",
         "18487.4",
         "1.7",
         "3.94",
         "6.84",
         "1.61",
         "6.76",
         "0.0",
         "0.0",
         "0.0",
         "0.0",
         "0.0",
         "2010",
         "7",
         "46039.49",
         "41268.23166666366",
         "41268.23166666366",
         "0.7485107481711011",
         "0.6631226582407953",
         "733822"
        ],
        [
         "3",
         "1",
         "1",
         "1",
         "151315",
         "19403.54",
         "0",
         "No Holiday",
         "0.0840786917266883",
         "0.0",
         "1103.0559814453125",
         "12.942227554321288",
         "22.6758",
         "17.1335",
         "11.864",
         "69.9236",
         "8.0707",
         "6.2608",
         "1.9285",
         "4.3097",
         "35.6784",
         "29.4901",
         "79.72",
         "52.0",
         "57.0",
         "57.45",
         "50.5",
         "54.1",
         "73.6",
         "10093.4",
         "339580",
         "0.122",
         "0.13",
         "218.898",
         "247.997",
         "384.308",
         "191.978",
         "1663.318",
         "500000",
         "1060960",
         "81.3",
         "6.8265",
         "12.8226",
         "1.0538",
         "46.202",
         "18622.2",
         "1.7",
         "3.94",
         "6.84",
         "1.61",
         "6.76",
         "0.0",
         "0.0",
         "0.0",
         "0.0",
         "0.0",
         "2010",
         "8",
         "41595.55",
         "19270.18999999971",
         "19270.18999999971",
         "0.8229838658936564",
         "0.5680647467311559",
         "733829"
        ],
        [
         "4",
         "1",
         "1",
         "1",
         "151315",
         "21827.9",
         "0",
         "No Holiday",
         "0.1882550990706332",
         "0.0",
         "1122.89599609375",
         "12.925909423828124",
         "23.9654",
         "17.7752",
         "12.288",
         "72.5866",
         "8.424",
         "6.8441",
         "1.9368",
         "4.3818",
         "36.1191",
         "29.9464",
         "81.5",
         "55.1",
         "57.3",
         "58.05",
         "53.0",
         "54.2",
         "73.6",
         "10156.0",
         "346974",
         "0.14",
         "0.16",
         "219.321",
         "247.914",
         "385.712",
         "191.375",
         "1663.318",
         "488000",
         "1245587",
         "81.9",
         "6.8261",
         "12.7042",
         "1.0325",
         "45.776",
         "19008.0",
         "1.7",
         "3.94",
         "6.84",
         "1.61",
         "6.76",
         "0.0",
         "0.0",
         "0.0",
         "0.0",
         "0.0",
         "2010",
         "9",
         "19403.54",
         "24924.5",
         "21613.615000000456",
         "0.8854560256532099",
         "0.4647231720437686",
         "733836"
        ],
        [
         "5",
         "1",
         "1",
         "1",
         "151315",
         "21043.39",
         "0",
         "No Holiday",
         "0.4254788669119128",
         "0.0",
         "1144.9579833984376",
         "12.991690254211424",
         "25.4786",
         "18.3684",
         "12.87",
         "73.1294",
         "9.3347",
         "7.0724",
         "1.9174",
         "4.7404",
         "37.3069",
         "30.6903",
         "81.26",
         "55.1",
         "57.3",
         "58.05",
         "53.0",
         "54.2",
         "73.6",
         "10156.0",
         "346974",
         "0.156",
         "0.16",
         "219.321",
         "247.914",
         "385.712",
         "191.375",
         "1663.318",
         "472000",
         "1245587",
         "81.9",
         "6.8261",
         "12.6092",
         "1.0245",
         "45.484",
         "19031.0",
         "1.7",
         "3.94",
         "6.84",
         "1.61",
         "6.76",
         "0.0",
         "0.0",
         "0.0",
         "0.0",
         "0.0",
         "2010",
         "10",
         "21827.9",
         "46039.49",
         "21106.27999999997",
         "0.9350162426854148",
         "0.3546048870425355",
         "733843"
        ],
        [
         "6",
         "1",
         "1",
         "1",
         "151315",
         "22136.64",
         "1",
         "DST Start, St. Patrick's Day",
         "0.6826705121831975",
         "0.0",
         "1160.381982421875",
         "13.450643730163574",
         "26.1065",
         "18.5289",
         "12.802",
         "75.9375",
         "9.3733",
         "7.0217",
         "2.0281",
         "4.8316",
         "38.6741",
         "31.0829",
         "80.58",
         "55.1",
         "57.3",
         "58.05",
         "53.0",
         "54.2",
         "73.6",
         "10156.0",
         "346974",
         "0.16",
         "0.16",
         "219.321",
         "247.914",
         "385.712",
         "191.375",
         "1663.318",
         "478000",
         "1245587",
         "81.9",
         "6.826",
         "12.5195",
         "1.0153",
         "45.408",
         "18944.6",
         "1.7",
         "3.94",
         "6.84",
         "1.61",
         "6.76",
         "0.0",
         "0.0",
         "0.0",
         "0.0",
         "0.0",
         "2010",
         "11",
         "21043.39",
         "41595.55",
         "21497.463333333144",
         "0.970941817426052",
         "0.239315664287558",
         "733850"
        ],
        [
         "7",
         "1",
         "1",
         "1",
         "151315",
         "26229.21",
         "0",
         "No Holiday",
         "0.8909157412340148",
         "0.0",
         "1168.00400390625",
         "13.431332397460938",
         "26.2467",
         "18.7317",
         "12.33",
         "76.5889",
         "9.392",
         "6.971",
         "2.1747",
         "4.7621",
         "39.0233",
         "31.0949",
         "79.75",
         "55.1",
         "57.3",
         "58.05",
         "53.0",
         "56.3",
         "73.6",
         "10156.0",
         "346974",
         "0.142",
         "0.16",
         "219.321",
         "247.914",
         "385.712",
         "191.375",
         "1663.318",
         "472000",
         "1245587",
         "81.9",
         "6.8267",
         "12.5416",
         "1.0222",
         "45.416",
         "18889.0",
         "1.7",
         "3.94",
         "6.84",
         "1.61",
         "6.76",
         "0.0",
         "0.0",
         "0.0",
         "0.0",
         "0.0",
         "2010",
         "12",
         "22136.64",
         "19403.54",
         "25133.425000002146",
         "0.992708874098054",
         "0.120536680255323",
         "733857"
        ],
        [
         "8",
         "1",
         "1",
         "1",
         "151315",
         "57258.43",
         "1",
         "Good Friday",
         "1.028978538790462",
         "0.0125360439090881",
         "1173.5050048828125",
         "13.441711187362673",
         "26.5553",
         "18.8913",
         "11.8775",
         "78.1812",
         "9.38",
         "7.0737",
         "2.1028",
         "4.7513",
         "39.2497",
         "30.7411",
         "85.445",
         "55.7",
         "57.8",
         "59.6",
         "54.2",
         "56.6",
         "72.2",
         "10182.3",
         "349869",
         "0.158",
         "0.2",
         "219.531",
         "247.959",
         "386.589",
         "191.249",
         "1687.097",
         "459000",
         "1226038",
         "82.1",
         "6.826",
         "12.3523",
         "1.0146",
         "44.896",
         "18981.4",
         "1.7",
         "3.94",
         "6.84",
         "1.61",
         "6.76",
         "0.0",
         "0.0",
         "0.0",
         "0.0",
         "0.0",
         "2010",
         "13",
         "26229.21",
         "21827.9",
         "49689.24500001222",
         "1.0",
         "-1.6081226496766366e-16",
         "733864"
        ],
        [
         "9",
         "1",
         "1",
         "1",
         "151315",
         "42960.91",
         "1",
         "Easter Sunday",
         "0.9051969686294122",
         "0.6112604669781572",
         "1188.0279541015625",
         "13.36084804534912",
         "26.4684",
         "19.4354",
         "11.438",
         "77.2032",
         "9.6947",
         "7.2592",
         "2.0143",
         "4.932",
         "39.1588",
         "30.7712",
         "84.6",
         "55.7",
         "57.8",
         "60.0",
         "55.4",
         "56.6",
         "72.2",
         "10182.3",
         "349869",
         "0.17",
         "0.2",
         "219.531",
         "247.959",
         "386.589",
         "191.249",
         "1687.097",
         "479000",
         "1226038",
         "82.1",
         "6.8246",
         "12.2339",
         "1.0026",
         "44.35",
         "15251.8",
         "1.7",
         "3.94",
         "6.84",
         "1.61",
         "6.76",
         "0.0",
         "0.0",
         "0.0",
         "0.0",
         "0.0",
         "2010",
         "14",
         "57258.43",
         "21043.39",
         "34160.00166666135",
         "0.992708874098054",
         "-0.1205366802553228",
         "733871"
        ],
        [
         "10",
         "1",
         "1",
         "1",
         "151315",
         "17596.96",
         "0",
         "No Holiday",
         "0.4749944329607032",
         "0.99860189859059",
         "1201.6460205078124",
         "13.161457824707032",
         "26.7114",
         "19.9197",
         "11.52",
         "78.479",
         "10.0213",
         "7.2236",
         "2.0779",
         "5.1359",
         "40.5516",
         "31.6769",
         "82.97",
         "55.7",
         "57.8",
         "60.0",
         "55.4",
         "56.6",
         "72.2",
         "10182.3",
         "349869",
         "0.16",
         "0.2",
         "219.531",
         "247.959",
         "386.589",
         "191.249",
         "1687.097",
         "479000",
         "1226038",
         "82.1",
         "6.8256",
         "12.2028",
         "1.0032",
         "44.3395",
         "18907.8",
         "1.7",
         "3.94",
         "6.84",
         "1.61",
         "6.76",
         "0.0",
         "0.0",
         "0.0",
         "0.0",
         "0.0",
         "2010",
         "15",
         "42960.91",
         "22136.64",
         "18470.88833332807",
         "0.970941817426052",
         "-0.2393156642875575",
         "733878"
        ],
        [
         "11",
         "1",
         "1",
         "1",
         "151315",
         "16145.35",
         "0",
         "No Holiday",
         "0.7048841092901271",
         "0.9131193871579976",
         "1207.316015625",
         "13.150838661193848",
         "27.8769",
         "20.7279",
         "12.514",
         "77.7314",
         "10.0733",
         "7.2705",
         "2.053",
         "5.2534",
         "41.6991",
         "31.8061",
         "84.34",
         "55.7",
         "57.8",
         "60.0",
         "55.4",
         "57.5",
         "72.2",
         "10182.3",
         "349869",
         "0.158",
         "0.2",
         "219.531",
         "247.959",
         "386.589",
         "191.249",
         "1687.097",
         "469000",
         "1226038",
         "82.1",
         "6.8265",
         "12.2403",
         "1.0041",
         "44.54",
         "18769.4",
         "1.7",
         "3.94",
         "6.84",
         "1.61",
         "6.76",
         "0.0",
         "0.0",
         "0.0",
         "0.0",
         "0.0",
         "2010",
         "16",
         "17596.96",
         "26229.21",
         "27461.863333334564",
         "0.9350162426854148",
         "-0.3546048870425354",
         "733885"
        ],
        [
         "12",
         "1",
         "1",
         "1",
         "151315",
         "16555.11",
         "0",
         "No Holiday",
         "1.0508293723485551",
         "0.716941869558779",
         "1196.1179931640625",
         "12.988143157958984",
         "27.6072",
         "22.8709",
         "12.59",
         "76.8944",
         "10.7627",
         "7.4357",
         "2.0751",
         "5.2623",
         "41.7357",
         "31.9214",
         "86.07",
         "55.7",
         "57.8",
         "60.0",
         "55.4",
         "57.5",
         "72.2",
         "10182.3",
         "349869",
         "0.162",
         "0.2",
         "219.531",
         "247.959",
         "386.589",
         "191.249",
         "1687.097",
         "449000",
         "1226038",
         "82.1",
         "6.8255",
         "12.2598",
         "1.0093",
         "44.418",
         "18854.6",
         "1.7",
         "3.94",
         "6.84",
         "1.61",
         "6.76",
         "0.0",
         "0.0",
         "0.0",
         "0.0",
         "0.0",
         "2010",
         "17",
         "16145.35",
         "57258.43",
         "24908.78833333467",
         "0.8854560256532099",
         "-0.4647231720437685",
         "733892"
        ],
        [
         "13",
         "1",
         "1",
         "1",
         "151315",
         "17413.94",
         "0",
         "No Holiday",
         "1.383154946134407",
         "0.4626349532067879",
         "1156.152001953125",
         "12.946140480041503",
         "25.6541",
         "21.9174",
         "11.936",
         "74.174",
         "10.804",
         "7.5439",
         "2.0696",
         "5.1096",
         "40.9862",
         "30.8177",
         "75.1",
         "53.9",
         "58.1",
         "60.05",
         "55.4",
         "57.6",
         "73.6",
         "10210.8",
         "346858",
         "0.144",
         "0.2",
         "219.651",
         "248.128",
         "387.094",
         "190.231",
         "1687.097",
         "451000",
         "1238429",
         "81.6",
         "6.8257",
         "12.599",
         "1.0295",
         "44.918",
         "18917.0",
         "1.7",
         "3.94",
         "6.84",
         "1.61",
         "6.76",
         "0.0",
         "0.0",
         "0.0",
         "0.0",
         "0.0",
         "2010",
         "18",
         "16555.11",
         "42960.91",
         "18366.440000000293",
         "0.8229838658936565",
         "-0.5680647467311557",
         "733899"
        ],
        [
         "14",
         "1",
         "1",
         "1",
         "151315",
         "18926.74",
         "1",
         "Mother's Day",
         "1.3988825824421292",
         "0.2183399709681889",
         "1156.06201171875",
         "12.694713973999024",
         "25.7038",
         "22.5138",
         "12.346",
         "74.1656",
         "11.0307",
         "7.5012",
         "2.1139",
         "5.3312",
         "41.0362",
         "30.5857",
         "71.61",
         "53.9",
         "58.1",
         "60.05",
         "55.4",
         "57.6",
         "73.6",
         "10210.8",
         "346858",
         "0.16",
         "0.2",
         "219.651",
         "248.128",
         "387.094",
         "190.231",
         "1687.097",
         "451000",
         "1238429",
         "81.6",
         "6.8272",
         "12.4786",
         "1.0225",
         "45.044",
         "18897.2",
         "1.7",
         "3.94",
         "6.84",
         "1.61",
         "6.76",
         "0.0",
         "0.0",
         "0.0",
         "0.0",
         "0.0",
         "2010",
         "19",
         "17413.94",
         "17596.96",
         "18489.96666666679",
         "0.7485107481711013",
         "-0.663122658240795",
         "733906"
        ],
        [
         "15",
         "1",
         "1",
         "1",
         "151315",
         "14773.04",
         "0",
         "No Holiday",
         "1.104296601034337",
         "0.0495155660487904",
         "1106.4139892578123",
         "12.72951431274414",
         "24.2301",
         "21.403",
         "12.194",
         "70.5744",
         "10.3493",
         "7.0883",
         "2.0336",
         "5.2005",
         "39.5533",
         "29.9597",
         "68.03",
         "53.9",
         "58.1",
         "60.05",
         "55.4",
         "55.9",
         "73.6",
         "10210.8",
         "346858",
         "0.168",
         "0.2",
         "219.651",
         "248.128",
         "387.094",
         "190.231",
         "1687.097",
         "474000",
         "1238429",
         "81.6",
         "6.8271",
         "12.8681",
         "1.0492",
         "46.198",
         "18771.6",
         "1.7",
         "3.94",
         "6.84",
         "1.61",
         "6.76",
         "0.0",
         "0.0",
         "0.0",
         "0.0",
         "0.0",
         "2010",
         "20",
         "18926.74",
         "16145.35",
         "14270.16166666476",
         "0.6631226582407952",
         "-0.7485107481711012",
         "733913"
        ],
        [
         "16",
         "1",
         "1",
         "1",
         "151315",
         "15580.43",
         "0",
         "No Holiday",
         "1.4475059486807225",
         "0.0",
         "1081.62001953125",
         "12.263841819763185",
         "20.7321",
         "20.7124",
         "11.408",
         "69.4387",
         "9.6947",
         "6.9029",
         "1.9285",
         "5.0235",
         "38.3401",
         "29.4293",
         "74.0",
         "53.9",
         "58.1",
         "60.05",
         "55.4",
         "55.9",
         "73.6",
         "10210.8",
         "346858",
         "0.168",
         "0.2",
         "219.651",
         "248.128",
         "387.094",
         "190.231",
         "1687.097",
         "463000",
         "1238429",
         "81.6",
         "6.8298",
         "12.9591",
         "1.06",
         "46.916",
         "18951.0",
         "1.7",
         "3.94",
         "6.84",
         "1.61",
         "6.76",
         "0.0",
         "0.0",
         "0.0",
         "0.0",
         "0.0",
         "2010",
         "21",
         "14773.04",
         "16555.11",
         "15403.633333332604",
         "0.5680647467311558",
         "-0.8229838658936564",
         "733920"
        ],
        [
         "17",
         "1",
         "1",
         "1",
         "151315",
         "17558.09",
         "1",
         "Memorial Day",
         "1.6826705121831975",
         "0.0",
         "1084.1999816894531",
         "12.428454160690308",
         "20.1022",
         "20.7964",
         "11.4925",
         "69.1822",
         "9.695",
         "6.9915",
         "1.8918",
         "5.0776",
         "38.0024",
         "29.2885",
         "71.43",
         "52.1",
         "58.8",
         "57.95",
         "55.4",
         "55.8",
         "76.0",
         "10231.3",
         "346516",
         "0.15",
         "0.18",
         "219.627",
         "248.295",
         "388.188",
         "189.426",
         "1687.097",
         "458000",
         "1183965",
         "81.6",
         "6.828",
         "12.8486",
         "1.0452",
         "46.8425",
         "18862.4",
         "1.7",
         "3.94",
         "6.84",
         "1.61",
         "6.76",
         "0.0",
         "0.0",
         "0.0",
         "0.0",
         "0.0",
         "2010",
         "22",
         "15580.43",
         "17413.94",
         "17432.21000000043",
         "0.464723172043769",
         "-0.8854560256532096",
         "733927"
        ],
        [
         "18",
         "1",
         "1",
         "1",
         "151315",
         "16637.62",
         "0",
         "No Holiday",
         "1.4254788669119127",
         "0.0",
         "1069.319970703125",
         "12.36241569519043",
         "19.0222",
         "19.859",
         "11.31",
         "66.4297",
         "9.5533",
         "6.795",
         "1.8427",
         "4.8808",
         "36.6401",
         "28.4307",
         "73.89",
         "52.1",
         "58.8",
         "57.95",
         "55.4",
         "55.8",
         "76.0",
         "10231.3",
         "346516",
         "0.104",
         "0.18",
         "219.627",
         "248.295",
         "388.188",
         "189.426",
         "1687.097",
         "459000",
         "1183965",
         "81.6",
         "6.8305",
         "12.8017",
         "1.0423",
         "46.9",
         "18822.2",
         "1.7",
         "3.94",
         "6.84",
         "1.61",
         "6.76",
         "0.0",
         "0.0",
         "0.0",
         "0.0",
         "0.0",
         "2010",
         "23",
         "17558.09",
         "18926.74",
         "16214.856666666456",
         "0.3546048870425358",
         "-0.9350162426854148",
         "733934"
        ],
        [
         "19",
         "1",
         "1",
         "1",
         "151315",
         "16216.27",
         "0",
         "No Holiday",
         "1.6770859252957615",
         "0.0",
         "1110.60400390625",
         "12.470700454711912",
         "19.3755",
         "20.8249",
         "11.986",
         "67.4742",
         "10.2787",
         "6.9573",
         "1.8759",
         "5.2643",
         "38.2098",
         "30.4175",
         "77.18",
         "52.1",
         "58.8",
         "57.95",
         "55.4",
         "55.8",
         "76.0",
         "10231.3",
         "346516",
         "0.092",
         "0.18",
         "219.627",
         "248.295",
         "388.188",
         "189.426",
         "1687.097",
         "467000",
         "1183965",
         "81.6",
         "6.8305",
         "12.5774",
         "1.0259",
         "46.284",
         "18925.0",
         "1.7",
         "3.94",
         "6.84",
         "1.61",
         "6.76",
         "0.0",
         "0.0",
         "0.0",
         "0.0",
         "0.0",
         "2010",
         "24",
         "16637.62",
         "14773.04",
         "15579.784999998985",
         "0.2393156642875576",
         "-0.970941817426052",
         "733941"
        ],
        [
         "20",
         "1",
         "1",
         "1",
         "151315",
         "16328.72",
         "1",
         "Father's Day",
         "1.6078576107927938",
         "0.0",
         "1090.2",
         "12.204601097106934",
         "18.1379",
         "20.1769",
         "12.068",
         "64.7785",
         "9.7493",
         "6.9645",
         "1.9063",
         "5.0246",
         "37.2928",
         "29.0336",
         "78.45",
         "52.1",
         "58.8",
         "57.95",
         "55.4",
         "55.6",
         "76.0",
         "10231.3",
         "346516",
         "0.128",
         "0.18",
         "219.627",
         "248.295",
         "388.188",
         "189.426",
         "1687.097",
         "452000",
         "1183965",
         "81.6",
         "6.8026",
         "12.6037",
         "1.0317",
         "46.1325",
         "18867.2",
         "1.7",
         "3.94",
         "6.84",
         "1.61",
         "6.76",
         "0.0",
         "0.0",
         "0.0",
         "0.0",
         "0.0",
         "2010",
         "25",
         "16216.27",
         "15580.43",
         "16062.634999999893",
         "0.120536680255323",
         "-0.992708874098054",
         "733948"
        ],
        [
         "21",
         "1",
         "1",
         "1",
         "151315",
         "16333.14",
         "0",
         "No Holiday",
         "1.043930979161355",
         "0.0",
         "1039.2939819335938",
         "11.793799018859865",
         "18.1326",
         "19.3813",
         "12.472",
         "60.8694",
         "9.9267",
         "6.7502",
         "1.7514",
         "5.0198",
         "35.5018",
         "28.5412",
         "72.06",
         "51.2",
         "57.1",
         "56.2",
         "54.6",
         "55.6",
         "67.8",
         "10268.1",
         "347612",
         "0.168",
         "0.18",
         "219.643",
         "248.43",
         "388.123",
         "191.082",
         "1718.993",
         "464000",
         "1214303",
         "82.0",
         "6.7854",
         "12.8865",
         "1.0549",
         "46.43",
         "18929.4",
         "1.7",
         "3.94",
         "6.84",
         "1.61",
         "6.76",
         "0.0",
         "0.0",
         "0.0",
         "0.0",
         "0.0",
         "2010",
         "26",
         "16328.72",
         "17558.09",
         "16111.646666666726",
         "-3.216245299353273e-16",
         "-1.0",
         "733955"
        ],
        [
         "22",
         "1",
         "1",
         "1",
         "151315",
         "17688.76",
         "1",
         "Independence Day",
         "0.716941869558779",
         "0.0",
         "1059.135009765625",
         "11.902813196182253",
         "18.2134",
         "19.0642",
         "12.56",
         "61.5796",
         "10.2967",
         "6.3867",
         "1.7604",
         "5.019",
         "36.3675",
         "28.9645",
         "76.08",
         "51.2",
         "57.1",
         "55.85",
         "53.8",
         "55.6",
         "67.8",
         "10268.1",
         "347612",
         "0.16",
         "0.18",
         "219.643",
         "248.43",
         "388.123",
         "191.082",
         "1718.993",
         "454000",
         "1214303",
         "82.0",
         "6.7764",
         "12.848",
         "1.044",
         "46.8112",
         "18881.0",
         "1.7",
         "3.94",
         "6.84",
         "1.61",
         "6.76",
         "0.0",
         "0.0",
         "0.0",
         "0.0",
         "0.0",
         "2010",
         "27",
         "16333.14",
         "16637.62",
         "17153.028333333205",
         "-0.1205366802553228",
         "-0.992708874098054",
         "733962"
        ],
        [
         "23",
         "1",
         "1",
         "1",
         "151315",
         "17150.84",
         "0",
         "No Holiday",
         "0.0495155660487904",
         "0.0",
         "1086.1239990234376",
         "12.192463684082032",
         "19.3791",
         "19.5167",
         "12.61",
         "64.5622",
         "10.504",
         "6.7434",
         "1.9728",
         "5.1865",
         "37.3801",
         "30.1359",
         "75.96",
         "51.2",
         "57.1",
         "55.85",
         "53.8",
         "55.6",
         "67.8",
         "10268.1",
         "347612",
         "0.152",
         "0.18",
         "219.643",
         "248.43",
         "388.123",
         "191.082",
         "1718.993",
         "439000",
         "1214303",
         "82.0",
         "6.7733",
         "12.7845",
         "1.038",
         "46.662",
         "18880.8",
         "1.7",
         "3.94",
         "6.84",
         "1.61",
         "6.76",
         "0.0",
         "0.0",
         "0.0",
         "0.0",
         "0.0",
         "2010",
         "28",
         "17688.76",
         "16216.27",
         "16749.62000000011",
         "-0.2393156642875574",
         "-0.970941817426052",
         "733969"
        ],
        [
         "24",
         "1",
         "1",
         "1",
         "151315",
         "15360.45",
         "0",
         "No Holiday",
         "0.0",
         "0.0",
         "1084.1300048828125",
         "12.298804473876952",
         "19.1216",
         "20.65",
         "12.356",
         "64.6315",
         "10.0853",
         "6.8182",
         "1.9257",
         "5.2239",
         "37.8804",
         "30.3726",
         "78.68",
         "51.2",
         "57.1",
         "55.85",
         "53.8",
         "56.5",
         "67.8",
         "10268.1",
         "347612",
         "0.162",
         "0.18",
         "219.643",
         "248.43",
         "388.123",
         "191.082",
         "1718.993",
         "462000",
         "1214303",
         "82.0",
         "6.7786",
         "12.8107",
         "1.0451",
         "47.086",
         "18971.0",
         "1.7",
         "3.94",
         "6.84",
         "1.61",
         "6.76",
         "0.0",
         "0.0",
         "0.0",
         "0.0",
         "0.0",
         "2010",
         "29",
         "17150.84",
         "16328.72",
         "15331.23166666634",
         "-0.3546048870425356",
         "-0.9350162426854148",
         "733976"
        ],
        [
         "25",
         "1",
         "1",
         "1",
         "151315",
         "15381.82",
         "0",
         "No Holiday",
         "0.0222135971069296",
         "0.0",
         "1107.6219970703123",
         "12.405147171020507",
         "20.3255",
         "21.4319",
         "12.924",
         "69.8369",
         "10.2107",
         "6.9835",
         "1.9589",
         "5.5977",
         "39.793",
         "30.8856",
         "78.85",
         "51.2",
         "57.1",
         "55.85",
         "53.8",
         "56.5",
         "67.8",
         "10268.1",
         "347612",
         "0.152",
         "0.18",
         "219.643",
         "248.43",
         "388.123",
         "191.082",
         "1718.993",
         "465000",
         "1214303",
         "82.0",
         "6.7769",
         "12.679",
         "1.0337",
         "46.574",
         "19006.4",
         "1.7",
         "3.94",
         "6.84",
         "1.61",
         "6.76",
         "0.0",
         "0.0",
         "0.0",
         "0.0",
         "0.0",
         "2010",
         "30",
         "15360.45",
         "16333.14",
         "15503.78999999998",
         "-0.464723172043768",
         "-0.8854560256532101",
         "733983"
        ],
        [
         "26",
         "1",
         "1",
         "1",
         "151315",
         "17508.41",
         "0",
         "No Holiday",
         "0.1599136311145403",
         "0.0",
         "1124.202001953125",
         "12.51391887664795",
         "19.9329",
         "21.9171",
         "12.672",
         "71.8717",
         "9.2907",
         "7.25",
         "1.8953",
         "5.4493",
         "41.1414",
         "31.0418",
         "80.67",
         "51.7",
         "58.0",
         "55.9",
         "54.3",
         "56.7",
         "68.9",
         "10307.1",
         "349188",
         "0.156",
         "0.19",
         "219.879",
         "248.43",
         "389.059",
         "192.287",
         "1718.993",
         "476000",
         "1280718",
         "81.4",
         "6.7715",
         "12.5832",
         "1.0211",
         "46.044",
         "18929.8",
         "1.7",
         "3.94",
         "6.84",
         "1.61",
         "6.76",
         "0.0",
         "0.0",
         "0.0",
         "0.0",
         "0.0",
         "2010",
         "31",
         "15381.82",
         "17688.76",
         "16917.473333333735",
         "-0.5680647467311556",
         "-0.8229838658936566",
         "733990"
        ],
        [
         "27",
         "1",
         "1",
         "1",
         "151315",
         "15536.4",
         "0",
         "No Holiday",
         "0.3887395330218428",
         "0.0",
         "1100.2360107421875",
         "12.480227851867676",
         "18.3809",
         "21.2284",
         "12.3",
         "71.0267",
         "8.2067",
         "7.1705",
         "1.9617",
         "5.2182",
         "40.5263",
         "29.6515",
         "75.39",
         "51.7",
         "58.0",
         "55.9",
         "54.3",
         "56.7",
         "68.9",
         "10307.1",
         "349188",
         "0.152",
         "0.19",
         "219.879",
         "248.43",
         "389.059",
         "192.287",
         "1718.993",
         "483000",
         "1280718",
         "81.4",
         "6.7787",
         "12.6983",
         "1.038",
         "46.468",
         "19048.0",
         "1.7",
         "3.94",
         "6.84",
         "1.61",
         "6.76",
         "0.0",
         "0.0",
         "0.0",
         "0.0",
         "0.0",
         "2010",
         "32",
         "17508.41",
         "17150.84",
         "15106.943333333007",
         "-0.663122658240795",
         "-0.7485107481711013",
         "733997"
        ],
        [
         "28",
         "1",
         "1",
         "1",
         "151315",
         "15740.13",
         "0",
         "No Holiday",
         "0.6473775872054521",
         "0.0",
         "1082.6800048828125",
         "12.3359037399292",
         "17.7266",
         "20.8296",
         "11.63",
         "69.5614",
         "8.1867",
         "7.0425",
         "1.9534",
         "5.3086",
         "40.5313",
         "29.2164",
         "73.45",
         "51.7",
         "58.0",
         "55.9",
         "54.3",
         "56.7",
         "68.9",
         "10307.1",
         "349188",
         "0.16",
         "0.19",
         "219.879",
         "248.43",
         "389.059",
         "192.287",
         "1718.993",
         "486000",
         "1280718",
         "81.4",
         "6.7933",
         "12.6671",
         "1.0384",
         "46.374",
         "19010.0",
         "1.7",
         "3.94",
         "6.84",
         "1.61",
         "6.76",
         "0.0",
         "0.0",
         "0.0",
         "0.0",
         "0.0",
         "2010",
         "33",
         "15536.4",
         "15360.45",
         "15124.738333332352",
         "-0.7485107481711011",
         "-0.6631226582407952",
         "734004"
        ],
        [
         "29",
         "1",
         "1",
         "1",
         "151315",
         "15793.87",
         "0",
         "No Holiday",
         "0.866525935914913",
         "0.0",
         "1057.273974609375",
         "12.50147876739502",
         "18.036",
         "20.095",
         "11.842",
         "67.3491",
         "8.132",
         "7.0353",
         "1.8731",
         "5.2168",
         "39.6597",
         "28.6253",
         "75.17",
         "51.7",
         "58.0",
         "55.9",
         "54.3",
         "55.0",
         "68.9",
         "10307.1",
         "349188",
         "0.158",
         "0.19",
         "219.879",
         "248.43",
         "389.059",
         "192.287",
         "1718.993",
         "464000",
         "1280718",
         "81.4",
         "6.7986",
         "12.9597",
         "1.0561",
         "46.762",
         "19159.6",
         "1.7",
         "3.94",
         "6.84",
         "1.61",
         "6.76",
         "0.0",
         "0.0",
         "0.0",
         "0.0",
         "0.0",
         "2010",
         "34",
         "15740.13",
         "15381.82",
         "15292.94833333313",
         "-0.8229838658936564",
         "-0.5680647467311559",
         "734011"
        ],
        [
         "30",
         "1",
         "1",
         "1",
         "151315",
         "16241.78",
         "0",
         "No Holiday",
         "0.9874639560909118",
         "0.0",
         "1074.6300048828125",
         "12.488291358947754",
         "18.8468",
         "21.4204",
         "12.498",
         "68.0538",
         "8.1587",
         "7.1619",
         "1.9063",
         "5.252",
         "40.696",
         "29.2806",
         "74.52",
         "53.8",
         "57.9",
         "55.35",
         "51.5",
         "55.1",
         "68.2",
         "10327.1",
         "352179",
         "0.138",
         "0.19",
         "220.598",
         "248.568",
         "391.288",
         "193.316",
         "1718.993",
         "467000",
         "1239743",
         "82.1",
         "6.8057",
         "13.0701",
         "1.0526",
         "46.772",
         "19288.8",
         "1.7",
         "3.94",
         "6.84",
         "1.61",
         "6.76",
         "0.0",
         "0.0",
         "0.0",
         "0.0",
         "0.0",
         "2010",
         "35",
         "15793.87",
         "17508.41",
         "15847.19999999972",
         "-0.8854560256532096",
         "-0.4647231720437691",
         "734018"
        ],
        [
         "31",
         "1",
         "1",
         "1",
         "151315",
         "18194.74",
         "1",
         "Labor Day",
         "0.8117449009293668",
         "0.0",
         "1101.1100158691406",
         "12.672545433044434",
         "19.9758",
         "22.1456",
         "13.0025",
         "70.6869",
         "8.695",
         "7.3326",
         "2.1547",
         "5.3736",
         "41.7945",
         "29.6104",
         "76.4",
         "53.8",
         "57.9",
         "55.35",
         "51.5",
         "55.1",
         "68.2",
         "10327.1",
         "352179",
         "0.14",
         "0.19",
         "220.598",
         "248.568",
         "391.288",
         "193.316",
         "1718.993",
         "452000",
         "1239743",
         "82.1",
         "6.7839",
         "13.0116",
         "1.0366",
         "46.475",
         "19228.6",
         "1.7",
         "3.94",
         "6.84",
         "1.61",
         "6.76",
         "0.0",
         "0.0",
         "0.0",
         "0.0",
         "0.0",
         "2010",
         "36",
         "16241.78",
         "15536.4",
         "18024.114999999947",
         "-0.9350162426854148",
         "-0.3546048870425359",
         "734025"
        ],
        [
         "32",
         "1",
         "1",
         "1",
         "151315",
         "19354.23",
         "0",
         "No Holiday",
         "0.1090842587659851",
         "0.0",
         "1123.6639892578123",
         "12.88879108428955",
         "21.0568",
         "22.7781",
         "13.534",
         "71.1968",
         "9.0613",
         "7.1878",
         "2.1969",
         "5.4776",
         "41.606",
         "30.3293",
         "73.63",
         "53.8",
         "57.9",
         "55.35",
         "51.5",
         "55.1",
         "68.2",
         "10327.1",
         "352179",
         "0.154",
         "0.19",
         "220.598",
         "248.568",
         "391.288",
         "193.316",
         "1718.993",
         "444000",
         "1239743",
         "82.1",
         "6.7377",
         "12.8238",
         "1.0276",
         "46.132",
         "19462.0",
         "1.7",
         "3.94",
         "6.84",
         "1.61",
         "6.76",
         "0.0",
         "0.0",
         "0.0",
         "0.0",
         "0.0",
         "2010",
         "37",
         "18194.74",
         "15740.13",
         "19037.64833333323",
         "-0.970941817426052",
         "-0.2393156642875577",
         "734032"
        ],
        [
         "33",
         "1",
         "1",
         "1",
         "151315",
         "18122.52",
         "0",
         "No Holiday",
         "0.0345631256778978",
         "0.0",
         "1138.05400390625",
         "13.121766471862792",
         "21.1013",
         "22.902",
         "13.596",
         "70.7026",
         "9.1547",
         "7.1604",
         "2.2218",
         "5.496",
         "41.4859",
         "30.6951",
         "74.63",
         "53.8",
         "57.9",
         "55.35",
         "51.5",
         "53.6",
         "68.2",
         "10327.1",
         "352179",
         "0.162",
         "0.19",
         "220.598",
         "248.568",
         "391.288",
         "193.316",
         "1718.993",
         "459000",
         "1239743",
         "82.1",
         "6.7062",
         "12.6841",
         "1.0298",
         "45.492",
         "19285.8",
         "1.7",
         "3.94",
         "6.84",
         "1.61",
         "6.76",
         "0.0",
         "0.0",
         "0.0",
         "0.0",
         "0.0",
         "2010",
         "38",
         "19354.23",
         "15793.87",
         "17846.616666666465",
         "-0.992708874098054",
         "-0.1205366802553235",
         "734039"
        ],
        [
         "34",
         "1",
         "1",
         "1",
         "151315",
         "20094.19",
         "0",
         "No Holiday",
         "0.1882550990706332",
         "0.0",
         "1144.4059814453126",
         "13.06657600402832",
         "21.4409",
         "23.5235",
         "14.242",
         "72.1514",
         "9.7507",
         "7.4488",
         "2.5621",
         "5.4892",
         "41.3695",
         "30.3449",
         "81.57",
         "54.7",
         "57.4",
         "54.4",
         "52.35",
         "53.7",
         "67.7",
         "10386.4",
         "356215",
         "0.16",
         "0.19",
         "220.911",
         "248.692",
         "391.926",
         "196.845",
         "1728.828",
         "459000",
         "1289287",
         "83.2",
         "6.6897",
         "12.5338",
         "1.0274",
         "44.75",
         "19354.2",
         "1.7",
         "3.94",
         "6.84",
         "1.61",
         "6.76",
         "0.0",
         "0.0",
         "0.0",
         "0.0",
         "0.0",
         "2010",
         "39",
         "18122.52",
         "16241.78",
         "19699.750000000466",
         "-1.0",
         "-1.8369701987210292e-16",
         "734046"
        ],
        [
         "35",
         "1",
         "1",
         "1",
         "151315",
         "23388.03",
         "0",
         "No Holiday",
         "0.4254788669119128",
         "0.0",
         "1156.1920166015625",
         "13.231171798706054",
         "21.3342",
         "23.8342",
         "15.004",
         "73.8067",
         "9.6693",
         "7.7422",
         "3.0767",
         "5.3892",
         "41.689",
         "30.4316",
         "82.66",
         "54.7",
         "57.4",
         "55.65",
         "53.2",
         "53.7",
         "67.7",
         "10386.4",
         "356215",
         "0.126",
         "0.19",
         "220.911",
         "248.692",
         "391.926",
         "196.845",
         "1728.828",
         "446000",
         "1289287",
         "83.2",
         "6.6865",
         "12.5229",
         "1.0156",
         "44.372",
         "19466.0",
         "1.7",
         "3.94",
         "6.84",
         "1.61",
         "6.76",
         "0.0",
         "0.0",
         "0.0",
         "0.0",
         "0.0",
         "2010",
         "40",
         "20094.19",
         "18194.74",
         "22771.806666666875",
         "-0.992708874098054",
         "0.1205366802553232",
         "734053"
        ],
        [
         "36",
         "1",
         "1",
         "1",
         "151315",
         "26978.34",
         "0",
         "No Holiday",
         "0.6840686135926075",
         "0.0",
         "1172.63798828125",
         "13.135930061340332",
         "21.8694",
         "24.3484",
         "15.908",
         "75.3418",
         "9.6813",
         "8.0582",
         "3.2483",
         "5.5033",
         "42.339",
         "31.0123",
         "81.23",
         "54.7",
         "57.4",
         "55.65",
         "53.2",
         "53.7",
         "67.7",
         "10386.4",
         "356215",
         "0.135",
         "0.19",
         "220.911",
         "248.692",
         "391.926",
         "196.845",
         "1728.828",
         "459000",
         "1289287",
         "83.2",
         "6.6567",
         "12.4074",
         "1.0071",
         "44.275",
         "19376.0",
         "1.7",
         "3.94",
         "6.84",
         "1.61",
         "6.76",
         "0.0",
         "0.0",
         "0.0",
         "0.0",
         "0.0",
         "2010",
         "41",
         "23388.03",
         "19354.23",
         "26380.46500000172",
         "-0.970941817426052",
         "0.2393156642875573",
         "734060"
        ],
        [
         "37",
         "1",
         "1",
         "1",
         "151315",
         "25543.04",
         "0",
         "No Holiday",
         "1.1165128153395183",
         "0.0",
         "1178.4239990234375",
         "13.120789909362792",
         "22.529",
         "24.8061",
         "16.028",
         "74.9729",
         "9.436",
         "8.1199",
         "3.3451",
         "5.5788",
         "43.0014",
         "31.3365",
         "81.15",
         "54.7",
         "57.4",
         "55.65",
         "53.2",
         "54.1",
         "67.7",
         "10386.4",
         "356215",
         "0.138",
         "0.19",
         "220.911",
         "248.692",
         "391.926",
         "196.845",
         "1728.828",
         "444000",
         "1289287",
         "83.2",
         "6.6497",
         "12.4152",
         "1.0236",
         "44.316",
         "18794.8",
         "1.7",
         "3.94",
         "6.84",
         "1.61",
         "6.76",
         "0.0",
         "0.0",
         "0.0",
         "0.0",
         "0.0",
         "2010",
         "42",
         "26978.34",
         "18122.52",
         "25038.92166666709",
         "-0.9350162426854148",
         "0.3546048870425355",
         "734067"
        ],
        [
         "38",
         "1",
         "1",
         "1",
         "151315",
         "38640.93",
         "0",
         "No Holiday",
         "1.9057271456365144",
         "0.0",
         "1184.15",
         "13.217982864379882",
         "22.6286",
         "23.9352",
         "17.736",
         "75.1286",
         "9.3587",
         "8.5644",
         "3.4475",
         "5.8529",
         "42.3093",
         "31.4682",
         "81.45",
         "54.7",
         "57.4",
         "55.65",
         "53.2",
         "54.1",
         "67.7",
         "10386.4",
         "356215",
         "0.134",
         "0.19",
         "220.911",
         "248.692",
         "391.926",
         "196.845",
         "1728.828",
         "432000",
         "1289287",
         "83.2",
         "6.6717",
         "12.3845",
         "1.0224",
         "44.426",
         "19408.2",
         "1.7",
         "3.94",
         "6.84",
         "1.61",
         "6.76",
         "0.0",
         "0.0",
         "0.0",
         "0.0",
         "0.0",
         "2010",
         "43",
         "25543.04",
         "20094.19",
         "38162.273333335295",
         "-0.8854560256532101",
         "0.464723172043768",
         "734074"
        ],
        [
         "39",
         "1",
         "1",
         "1",
         "151315",
         "34238.88",
         "1",
         "Halloween",
         "2.627894999687552",
         "0.0",
         "1204.5639892578124",
         "13.410420227050782",
         "23.1423",
         "23.401",
         "19.204",
         "74.4194",
         "9.8413",
         "8.5557",
         "3.6384",
         "6.0408",
         "42.521",
         "31.7959",
         "86.85",
         "55.2",
         "58.9",
         "56.75",
         "54.3",
         "54.6",
         "71.6",
         "10433.6",
         "359450",
         "0.13",
         "0.19",
         "221.315",
         "248.993",
         "392.535",
         "198.783",
         "1728.828",
         "453000",
         "1200298",
         "82.9",
         "6.6717",
         "12.2776",
         "1.0071",
         "44.144",
         "19348.2",
         "1.7",
         "3.94",
         "6.84",
         "1.61",
         "6.76",
         "0.0",
         "0.0",
         "0.0",
         "0.0",
         "0.0",
         "2010",
         "44",
         "38640.93",
         "23388.03",
         "34238.87999999896",
         "-0.822983865893657",
         "0.5680647467311548",
         "734081"
        ],
        [
         "40",
         "1",
         "1",
         "1",
         "151315",
         "19549.39",
         "1",
         "DST End",
         "3.154924249008164",
         "0.0",
         "1213.6219970703123",
         "13.330810356140136",
         "21.9286",
         "23.8797",
         "21.02",
         "74.8459",
         "9.8453",
         "8.3378",
         "3.5886",
         "5.9923",
         "42.634",
         "31.9911",
         "84.89",
         "55.2",
         "58.9",
         "56.75",
         "54.3",
         "54.6",
         "71.6",
         "10433.6",
         "359450",
         "0.13",
         "0.19",
         "221.315",
         "248.993",
         "392.535",
         "198.783",
         "1728.828",
         "434000",
         "1200298",
         "82.9",
         "6.648",
         "12.2463",
         "1.0032",
         "44.4",
         "19466.0",
         "1.7",
         "3.94",
         "6.84",
         "1.61",
         "6.76",
         "0.0",
         "0.0",
         "0.0",
         "0.0",
         "0.0",
         "2010",
         "45",
         "34238.88",
         "26978.34",
         "19549.39000000013",
         "-0.7485107481711011",
         "0.6631226582407952",
         "734088"
        ],
        [
         "41",
         "1",
         "1",
         "1",
         "151315",
         "19552.84",
         "0",
         "No Holiday",
         "4.386724827062942",
         "0.0",
         "1190.219970703125",
         "13.204309272766114",
         "21.553",
         "23.6863",
         "21.988",
         "73.1202",
         "9.9093",
         "8.2216",
         "3.6937",
         "5.9829",
         "42.3975",
         "31.8264",
         "81.65",
         "55.2",
         "58.9",
         "56.75",
         "54.3",
         "54.6",
         "71.6",
         "10433.6",
         "359450",
         "0.144",
         "0.19",
         "221.315",
         "248.993",
         "392.535",
         "198.783",
         "1728.828",
         "432000",
         "1200298",
         "82.9",
         "6.6388",
         "12.3379",
         "1.0176",
         "45.22",
         "19355.8",
         "1.7",
         "3.94",
         "6.84",
         "1.61",
         "6.76",
         "0.0",
         "0.0",
         "0.0",
         "0.0",
         "0.0",
         "2010",
         "46",
         "19549.39",
         "25543.04",
         "19552.840000000084",
         "-0.6631226582407955",
         "0.7485107481711007",
         "734095"
        ],
        [
         "42",
         "1",
         "1",
         "1",
         "151315",
         "18820.29",
         "1",
         "Thanksgiving, Black Friday",
         "5.618869620260623",
         "0.0",
         "1191.5799865722656",
         "13.175003051757812",
         "21.9659",
         "23.7055",
         "22.4925",
         "74.0361",
         "10.1567",
         "8.2347",
         "3.2822",
         "6.2545",
         "42.9523",
         "32.2129",
         "83.87",
         "55.2",
         "58.9",
         "56.75",
         "54.3",
         "55.5",
         "71.6",
         "10433.6",
         "359450",
         "0.155",
         "0.19",
         "221.315",
         "248.993",
         "392.535",
         "198.783",
         "1728.828",
         "407000",
         "1200298",
         "82.9",
         "6.6513",
         "12.4172",
         "1.0181",
         "45.645",
         "19404.4",
         "1.7",
         "3.94",
         "6.84",
         "1.61",
         "6.76",
         "0.0",
         "0.0",
         "0.0",
         "0.0",
         "0.0",
         "2010",
         "47",
         "19552.84",
         "38640.93",
         "18820.29000000004",
         "-0.5680647467311559",
         "0.8229838658936564",
         "734102"
        ],
        [
         "43",
         "1",
         "1",
         "1",
         "151315",
         "22517.56",
         "1",
         "Small Business Saturday, Cyber Monday",
         "5.107847659609846",
         "0.0",
         "1204.1239990234376",
         "13.285385704040529",
         "23.3081",
         "23.4477",
         "22.834",
         "79.1374",
         "10.228",
         "8.4584",
         "3.157",
         "6.3642",
         "44.2687",
         "32.7899",
         "89.18",
         "53.9",
         "58.8",
         "56.8",
         "55.0",
         "55.3",
         "74.5",
         "10471.0",
         "361979",
         "0.162",
         "0.18",
         "221.556",
         "249.284",
         "393.514",
         "202.454",
         "1728.828",
         "432000",
         "1166081",
         "84.0",
         "6.6627",
         "12.4193",
         "1.0151",
         "45.382",
         "19463.0",
         "1.7",
         "3.94",
         "6.84",
         "1.61",
         "6.76",
         "0.0",
         "0.0",
         "0.0",
         "0.0",
         "0.0",
         "2010",
         "48",
         "18820.29",
         "34238.88",
         "22517.56000000052",
         "-0.4647231720437684",
         "0.88545602565321",
         "734109"
        ],
        [
         "44",
         "1",
         "1",
         "1",
         "151315",
         "31497.65",
         "0",
         "No Holiday",
         "3.9891455154827615",
         "0.0",
         "1229.710009765625",
         "13.362656784057616",
         "25.1683",
         "23.8833",
         "23.39",
         "79.1238",
         "10.652",
         "8.8201",
         "3.0297",
         "6.6259",
         "45.0429",
         "34.8144",
         "87.81",
         "53.9",
         "58.8",
         "56.8",
         "55.0",
         "55.3",
         "74.5",
         "10471.0",
         "361979",
         "0.142",
         "0.18",
         "221.556",
         "249.284",
         "393.514",
         "202.454",
         "1728.828",
         "428000",
         "1166081",
         "84.0",
         "6.6531",
         "12.4351",
         "1.0088",
         "44.964",
         "19461.0",
         "1.7",
         "3.94",
         "6.84",
         "1.61",
         "6.76",
         "0.0",
         "0.0",
         "0.0",
         "0.0",
         "0.0",
         "2010",
         "49",
         "22517.56",
         "19549.39",
         "31497.650000000373",
         "-0.3546048870425359",
         "0.9350162426854148",
         "734116"
        ],
        [
         "45",
         "1",
         "1",
         "1",
         "151315",
         "44912.86",
         "1",
         "Green Monday",
         "4.406478888570174",
         "0.0",
         "1240.8119873046876",
         "13.354933547973634",
         "24.6823",
         "24.365",
         "21.102",
         "79.2069",
         "10.624",
         "9.1818",
         "3.0989",
         "6.5478",
         "45.4318",
         "34.5657",
         "88.02",
         "53.9",
         "58.8",
         "56.8",
         "55.0",
         "56.8",
         "74.5",
         "10471.0",
         "361979",
         "0.136",
         "0.18",
         "221.556",
         "249.284",
         "393.514",
         "202.454",
         "1728.828",
         "425000",
         "1166081",
         "84.0",
         "6.6587",
         "12.4047",
         "1.006",
         "45.254",
         "19464.0",
         "1.7",
         "3.94",
         "6.84",
         "1.61",
         "6.76",
         "0.0",
         "0.0",
         "0.0",
         "0.0",
         "0.0",
         "2010",
         "50",
         "31497.65",
         "19552.84",
         "44912.85999999964",
         "-0.2393156642875578",
         "0.970941817426052",
         "734123"
        ],
        [
         "46",
         "1",
         "1",
         "1",
         "151315",
         "55931.23",
         "1",
         "Super Saturday, Christmas Eve",
         "3.651959326226952",
         "0.0",
         "1254.3224792480469",
         "13.15762734413147",
         "23.9307",
         "24.9387",
         "20.635",
         "79.159",
         "10.7883",
         "9.3779",
         "3.1853",
         "6.7376",
         "45.3785",
         "35.0674",
         "90.915",
         "53.9",
         "58.8",
         "56.8",
         "55.0",
         "56.8",
         "74.5",
         "10471.0",
         "361979",
         "0.14",
         "0.18",
         "221.556",
         "249.284",
         "393.514",
         "202.454",
         "1728.828",
         "424000",
         "1166081",
         "84.0",
         "6.6556",
         "12.3622",
         "1.0147",
         "45.175",
         "19461.0",
         "1.7",
         "3.94",
         "6.84",
         "1.61",
         "6.76",
         "0.0",
         "0.0",
         "0.0",
         "0.0",
         "0.0",
         "2010",
         "51",
         "44912.86",
         "18820.29",
         "55931.23000000045",
         "-0.1205366802553236",
         "0.992708874098054",
         "734130"
        ],
        [
         "47",
         "1",
         "1",
         "1",
         "151315",
         "19124.58",
         "1",
         "Christmas Day, New Year's Eve",
         "2.1237965108872454",
         "0.0",
         "1258.27001953125",
         "13.230185317993165",
         "24.1768",
         "25.2438",
         "20.494",
         "78.7832",
         "10.9973",
         "9.2736",
         "3.2815",
         "6.8223",
         "45.3221",
         "35.3501",
         "91.38",
         "53.9",
         "58.8",
         "56.8",
         "55.0",
         "56.8",
         "74.5",
         "10471.0",
         "361979",
         "0.1379999999999999",
         "0.18",
         "221.556",
         "249.284",
         "393.514",
         "202.454",
         "1728.828",
         "404000",
         "1166081",
         "84.0",
         "6.6188",
         "12.3677",
         "1.0026",
         "45.0075",
         "19460.0",
         "1.7",
         "3.94",
         "6.84",
         "1.61",
         "6.76",
         "0.0",
         "0.0",
         "0.0",
         "0.0",
         "0.0",
         "2010",
         "52",
         "55931.23",
         "22517.56",
         "19124.580000000075",
         "6.432490598706546e-16",
         "1.0",
         "734137"
        ],
        [
         "48",
         "1",
         "1",
         "1",
         "151315",
         "15984.24",
         "0",
         "No Holiday",
         "0.5347496410160179",
         "0.0",
         "1272.79599609375",
         "13.347564888000488",
         "24.1287",
         "24.9222",
         "22.176",
         "79.0561",
         "10.736",
         "9.5079",
         "3.619",
         "6.9819",
         "45.2872",
         "36.0927",
         "88.07",
         "52.9",
         "57.2",
         "58.9",
         "57.1",
         "57.1",
         "74.2",
         "10514.3",
         "364394",
         "0.144",
         "0.17",
         "222.735",
         "249.621",
         "394.072",
         "204.232",
         "1741.477",
         "413000",
         "1222479",
         "85.2",
         "6.6069",
         "12.2369",
         "0.9944",
         "45.068",
         "19463.0",
         "1.46",
         "4.65",
         "6.1",
         "5.37",
         "5.02",
         "0.0",
         "0.0",
         "0.0",
         "0.0",
         "0.0",
         "2011",
         "1",
         "19124.58",
         "31497.65",
         "15984.239999999292",
         "0.120536680255323",
         "0.992708874098054",
         "734144"
        ],
        [
         "49",
         "1",
         "1",
         "1",
         "151315",
         "17359.7",
         "0",
         "No Holiday",
         "0.1599136311145403",
         "0.0",
         "1281.43798828125",
         "13.381450271606443",
         "23.082",
         "25.3947",
         "24.512",
         "80.3103",
         "10.3867",
         "9.7509",
         "3.6854",
         "7.0355",
         "44.9494",
         "36.4788",
         "91.53",
         "52.9",
         "57.2",
         "58.9",
         "57.1",
         "57.1",
         "74.2",
         "10514.3",
         "364394",
         "0.15",
         "0.17",
         "222.735",
         "249.621",
         "394.072",
         "204.232",
         "1741.477",
         "434000",
         "1222479",
         "85.2",
         "6.6101",
         "12.1245",
         "0.9891",
         "45.178",
         "19397.4",
         "1.46",
         "4.65",
         "6.1",
         "5.37",
         "5.02",
         "0.0",
         "0.0",
         "0.0",
         "0.0",
         "0.0",
         "2011",
         "2",
         "15984.24",
         "44912.86",
         "17359.70000000077",
         "0.2393156642875577",
         "0.970941817426052",
         "734151"
        ]
       ],
       "shape": {
        "columns": 63,
        "rows": 421570
       }
      },
      "text/html": [
       "<div>\n",
       "<style scoped>\n",
       "    .dataframe tbody tr th:only-of-type {\n",
       "        vertical-align: middle;\n",
       "    }\n",
       "\n",
       "    .dataframe tbody tr th {\n",
       "        vertical-align: top;\n",
       "    }\n",
       "\n",
       "    .dataframe thead th {\n",
       "        text-align: right;\n",
       "    }\n",
       "</style>\n",
       "<table border=\"1\" class=\"dataframe\">\n",
       "  <thead>\n",
       "    <tr style=\"text-align: right;\">\n",
       "      <th></th>\n",
       "      <th>store</th>\n",
       "      <th>dept</th>\n",
       "      <th>type</th>\n",
       "      <th>size</th>\n",
       "      <th>weekly_sales</th>\n",
       "      <th>isholiday</th>\n",
       "      <th>holiday_name</th>\n",
       "      <th>holidayimpact</th>\n",
       "      <th>us_tax_return</th>\n",
       "      <th>sp500_weekly_mean_close</th>\n",
       "      <th>...</th>\n",
       "      <th>markdown4</th>\n",
       "      <th>markdown5</th>\n",
       "      <th>year</th>\n",
       "      <th>weekofyr</th>\n",
       "      <th>lag_1</th>\n",
       "      <th>lag_4</th>\n",
       "      <th>lag_52</th>\n",
       "      <th>week_sin</th>\n",
       "      <th>week_cos</th>\n",
       "      <th>date_ordinal</th>\n",
       "    </tr>\n",
       "  </thead>\n",
       "  <tbody>\n",
       "    <tr>\n",
       "      <th>0</th>\n",
       "      <td>1</td>\n",
       "      <td>1</td>\n",
       "      <td>1</td>\n",
       "      <td>151315</td>\n",
       "      <td>24924.50</td>\n",
       "      <td>0</td>\n",
       "      <td>No Holiday</td>\n",
       "      <td>0.890916</td>\n",
       "      <td>0.0</td>\n",
       "      <td>1083.817969</td>\n",
       "      <td>...</td>\n",
       "      <td>0.00</td>\n",
       "      <td>0.00</td>\n",
       "      <td>2010</td>\n",
       "      <td>5</td>\n",
       "      <td>24073.921667</td>\n",
       "      <td>24073.921667</td>\n",
       "      <td>24073.921667</td>\n",
       "      <td>0.568065</td>\n",
       "      <td>8.229839e-01</td>\n",
       "      <td>733808</td>\n",
       "    </tr>\n",
       "    <tr>\n",
       "      <th>1</th>\n",
       "      <td>1</td>\n",
       "      <td>1</td>\n",
       "      <td>1</td>\n",
       "      <td>151315</td>\n",
       "      <td>46039.49</td>\n",
       "      <td>1</td>\n",
       "      <td>Super Bowl</td>\n",
       "      <td>0.994415</td>\n",
       "      <td>0.0</td>\n",
       "      <td>1069.873999</td>\n",
       "      <td>...</td>\n",
       "      <td>0.00</td>\n",
       "      <td>0.00</td>\n",
       "      <td>2010</td>\n",
       "      <td>6</td>\n",
       "      <td>24924.500000</td>\n",
       "      <td>44830.550000</td>\n",
       "      <td>44830.550000</td>\n",
       "      <td>0.663123</td>\n",
       "      <td>7.485107e-01</td>\n",
       "      <td>733815</td>\n",
       "    </tr>\n",
       "    <tr>\n",
       "      <th>2</th>\n",
       "      <td>1</td>\n",
       "      <td>1</td>\n",
       "      <td>1</td>\n",
       "      <td>151315</td>\n",
       "      <td>41595.55</td>\n",
       "      <td>1</td>\n",
       "      <td>Valentine's Day, Presidents' Day</td>\n",
       "      <td>0.716942</td>\n",
       "      <td>0.0</td>\n",
       "      <td>1102.575012</td>\n",
       "      <td>...</td>\n",
       "      <td>0.00</td>\n",
       "      <td>0.00</td>\n",
       "      <td>2010</td>\n",
       "      <td>7</td>\n",
       "      <td>46039.490000</td>\n",
       "      <td>41268.231667</td>\n",
       "      <td>41268.231667</td>\n",
       "      <td>0.748511</td>\n",
       "      <td>6.631227e-01</td>\n",
       "      <td>733822</td>\n",
       "    </tr>\n",
       "    <tr>\n",
       "      <th>3</th>\n",
       "      <td>1</td>\n",
       "      <td>1</td>\n",
       "      <td>1</td>\n",
       "      <td>151315</td>\n",
       "      <td>19403.54</td>\n",
       "      <td>0</td>\n",
       "      <td>No Holiday</td>\n",
       "      <td>0.084079</td>\n",
       "      <td>0.0</td>\n",
       "      <td>1103.055981</td>\n",
       "      <td>...</td>\n",
       "      <td>0.00</td>\n",
       "      <td>0.00</td>\n",
       "      <td>2010</td>\n",
       "      <td>8</td>\n",
       "      <td>41595.550000</td>\n",
       "      <td>19270.190000</td>\n",
       "      <td>19270.190000</td>\n",
       "      <td>0.822984</td>\n",
       "      <td>5.680647e-01</td>\n",
       "      <td>733829</td>\n",
       "    </tr>\n",
       "    <tr>\n",
       "      <th>4</th>\n",
       "      <td>1</td>\n",
       "      <td>1</td>\n",
       "      <td>1</td>\n",
       "      <td>151315</td>\n",
       "      <td>21827.90</td>\n",
       "      <td>0</td>\n",
       "      <td>No Holiday</td>\n",
       "      <td>0.188255</td>\n",
       "      <td>0.0</td>\n",
       "      <td>1122.895996</td>\n",
       "      <td>...</td>\n",
       "      <td>0.00</td>\n",
       "      <td>0.00</td>\n",
       "      <td>2010</td>\n",
       "      <td>9</td>\n",
       "      <td>19403.540000</td>\n",
       "      <td>24924.500000</td>\n",
       "      <td>21613.615000</td>\n",
       "      <td>0.885456</td>\n",
       "      <td>4.647232e-01</td>\n",
       "      <td>733836</td>\n",
       "    </tr>\n",
       "    <tr>\n",
       "      <th>...</th>\n",
       "      <td>...</td>\n",
       "      <td>...</td>\n",
       "      <td>...</td>\n",
       "      <td>...</td>\n",
       "      <td>...</td>\n",
       "      <td>...</td>\n",
       "      <td>...</td>\n",
       "      <td>...</td>\n",
       "      <td>...</td>\n",
       "      <td>...</td>\n",
       "      <td>...</td>\n",
       "      <td>...</td>\n",
       "      <td>...</td>\n",
       "      <td>...</td>\n",
       "      <td>...</td>\n",
       "      <td>...</td>\n",
       "      <td>...</td>\n",
       "      <td>...</td>\n",
       "      <td>...</td>\n",
       "      <td>...</td>\n",
       "      <td>...</td>\n",
       "    </tr>\n",
       "    <tr>\n",
       "      <th>421565</th>\n",
       "      <td>45</td>\n",
       "      <td>98</td>\n",
       "      <td>2</td>\n",
       "      <td>118221</td>\n",
       "      <td>508.37</td>\n",
       "      <td>0</td>\n",
       "      <td>No Holiday</td>\n",
       "      <td>0.109084</td>\n",
       "      <td>0.0</td>\n",
       "      <td>1443.923999</td>\n",
       "      <td>...</td>\n",
       "      <td>1601.01</td>\n",
       "      <td>3288.25</td>\n",
       "      <td>2012</td>\n",
       "      <td>39</td>\n",
       "      <td>467.300000</td>\n",
       "      <td>346.040000</td>\n",
       "      <td>727.050000</td>\n",
       "      <td>-1.000000</td>\n",
       "      <td>-1.836970e-16</td>\n",
       "      <td>734774</td>\n",
       "    </tr>\n",
       "    <tr>\n",
       "      <th>421566</th>\n",
       "      <td>45</td>\n",
       "      <td>98</td>\n",
       "      <td>2</td>\n",
       "      <td>118221</td>\n",
       "      <td>628.10</td>\n",
       "      <td>0</td>\n",
       "      <td>No Holiday</td>\n",
       "      <td>0.317329</td>\n",
       "      <td>0.0</td>\n",
       "      <td>1452.712012</td>\n",
       "      <td>...</td>\n",
       "      <td>2253.43</td>\n",
       "      <td>2340.01</td>\n",
       "      <td>2012</td>\n",
       "      <td>40</td>\n",
       "      <td>508.370000</td>\n",
       "      <td>352.440000</td>\n",
       "      <td>894.980000</td>\n",
       "      <td>-0.992709</td>\n",
       "      <td>1.205367e-01</td>\n",
       "      <td>734781</td>\n",
       "    </tr>\n",
       "    <tr>\n",
       "      <th>421567</th>\n",
       "      <td>45</td>\n",
       "      <td>98</td>\n",
       "      <td>2</td>\n",
       "      <td>118221</td>\n",
       "      <td>1061.02</td>\n",
       "      <td>0</td>\n",
       "      <td>No Holiday</td>\n",
       "      <td>0.575919</td>\n",
       "      <td>0.0</td>\n",
       "      <td>1438.269995</td>\n",
       "      <td>...</td>\n",
       "      <td>599.32</td>\n",
       "      <td>3990.54</td>\n",
       "      <td>2012</td>\n",
       "      <td>41</td>\n",
       "      <td>628.100000</td>\n",
       "      <td>605.960000</td>\n",
       "      <td>996.400000</td>\n",
       "      <td>-0.970942</td>\n",
       "      <td>2.393157e-01</td>\n",
       "      <td>734788</td>\n",
       "    </tr>\n",
       "    <tr>\n",
       "      <th>421568</th>\n",
       "      <td>45</td>\n",
       "      <td>98</td>\n",
       "      <td>2</td>\n",
       "      <td>118221</td>\n",
       "      <td>760.01</td>\n",
       "      <td>0</td>\n",
       "      <td>No Holiday</td>\n",
       "      <td>1.037342</td>\n",
       "      <td>0.0</td>\n",
       "      <td>1449.297998</td>\n",
       "      <td>...</td>\n",
       "      <td>437.73</td>\n",
       "      <td>1537.49</td>\n",
       "      <td>2012</td>\n",
       "      <td>42</td>\n",
       "      <td>1061.020000</td>\n",
       "      <td>467.300000</td>\n",
       "      <td>1058.840000</td>\n",
       "      <td>-0.935016</td>\n",
       "      <td>3.546049e-01</td>\n",
       "      <td>734795</td>\n",
       "    </tr>\n",
       "    <tr>\n",
       "      <th>421569</th>\n",
       "      <td>45</td>\n",
       "      <td>98</td>\n",
       "      <td>2</td>\n",
       "      <td>118221</td>\n",
       "      <td>1076.80</td>\n",
       "      <td>0</td>\n",
       "      <td>No Holiday</td>\n",
       "      <td>1.876749</td>\n",
       "      <td>0.0</td>\n",
       "      <td>1416.117969</td>\n",
       "      <td>...</td>\n",
       "      <td>211.94</td>\n",
       "      <td>858.33</td>\n",
       "      <td>2012</td>\n",
       "      <td>43</td>\n",
       "      <td>760.010000</td>\n",
       "      <td>508.370000</td>\n",
       "      <td>1167.900000</td>\n",
       "      <td>-0.885456</td>\n",
       "      <td>4.647232e-01</td>\n",
       "      <td>734802</td>\n",
       "    </tr>\n",
       "  </tbody>\n",
       "</table>\n",
       "<p>421570 rows × 63 columns</p>\n",
       "</div>"
      ],
      "text/plain": [
       "        store  dept  type    size  weekly_sales  isholiday  \\\n",
       "0           1     1     1  151315      24924.50          0   \n",
       "1           1     1     1  151315      46039.49          1   \n",
       "2           1     1     1  151315      41595.55          1   \n",
       "3           1     1     1  151315      19403.54          0   \n",
       "4           1     1     1  151315      21827.90          0   \n",
       "...       ...   ...   ...     ...           ...        ...   \n",
       "421565     45    98     2  118221        508.37          0   \n",
       "421566     45    98     2  118221        628.10          0   \n",
       "421567     45    98     2  118221       1061.02          0   \n",
       "421568     45    98     2  118221        760.01          0   \n",
       "421569     45    98     2  118221       1076.80          0   \n",
       "\n",
       "                            holiday_name  holidayimpact  us_tax_return  \\\n",
       "0                             No Holiday       0.890916            0.0   \n",
       "1                             Super Bowl       0.994415            0.0   \n",
       "2       Valentine's Day, Presidents' Day       0.716942            0.0   \n",
       "3                             No Holiday       0.084079            0.0   \n",
       "4                             No Holiday       0.188255            0.0   \n",
       "...                                  ...            ...            ...   \n",
       "421565                        No Holiday       0.109084            0.0   \n",
       "421566                        No Holiday       0.317329            0.0   \n",
       "421567                        No Holiday       0.575919            0.0   \n",
       "421568                        No Holiday       1.037342            0.0   \n",
       "421569                        No Holiday       1.876749            0.0   \n",
       "\n",
       "        sp500_weekly_mean_close  ...  markdown4  markdown5  year  weekofyr  \\\n",
       "0                   1083.817969  ...       0.00       0.00  2010         5   \n",
       "1                   1069.873999  ...       0.00       0.00  2010         6   \n",
       "2                   1102.575012  ...       0.00       0.00  2010         7   \n",
       "3                   1103.055981  ...       0.00       0.00  2010         8   \n",
       "4                   1122.895996  ...       0.00       0.00  2010         9   \n",
       "...                         ...  ...        ...        ...   ...       ...   \n",
       "421565              1443.923999  ...    1601.01    3288.25  2012        39   \n",
       "421566              1452.712012  ...    2253.43    2340.01  2012        40   \n",
       "421567              1438.269995  ...     599.32    3990.54  2012        41   \n",
       "421568              1449.297998  ...     437.73    1537.49  2012        42   \n",
       "421569              1416.117969  ...     211.94     858.33  2012        43   \n",
       "\n",
       "               lag_1         lag_4        lag_52  week_sin      week_cos  \\\n",
       "0       24073.921667  24073.921667  24073.921667  0.568065  8.229839e-01   \n",
       "1       24924.500000  44830.550000  44830.550000  0.663123  7.485107e-01   \n",
       "2       46039.490000  41268.231667  41268.231667  0.748511  6.631227e-01   \n",
       "3       41595.550000  19270.190000  19270.190000  0.822984  5.680647e-01   \n",
       "4       19403.540000  24924.500000  21613.615000  0.885456  4.647232e-01   \n",
       "...              ...           ...           ...       ...           ...   \n",
       "421565    467.300000    346.040000    727.050000 -1.000000 -1.836970e-16   \n",
       "421566    508.370000    352.440000    894.980000 -0.992709  1.205367e-01   \n",
       "421567    628.100000    605.960000    996.400000 -0.970942  2.393157e-01   \n",
       "421568   1061.020000    467.300000   1058.840000 -0.935016  3.546049e-01   \n",
       "421569    760.010000    508.370000   1167.900000 -0.885456  4.647232e-01   \n",
       "\n",
       "        date_ordinal  \n",
       "0             733808  \n",
       "1             733815  \n",
       "2             733822  \n",
       "3             733829  \n",
       "4             733836  \n",
       "...              ...  \n",
       "421565        734774  \n",
       "421566        734781  \n",
       "421567        734788  \n",
       "421568        734795  \n",
       "421569        734802  \n",
       "\n",
       "[421570 rows x 63 columns]"
      ]
     },
     "execution_count": 174,
     "metadata": {},
     "output_type": "execute_result"
    }
   ],
   "source": [
    "df_merged = df_wm_train_pruned\n",
    "df_merged"
   ]
  },
  {
   "cell_type": "code",
   "execution_count": 175,
   "id": "2e34fafe",
   "metadata": {
    "execution": {
     "iopub.execute_input": "2025-06-27T02:02:11.454462Z",
     "iopub.status.busy": "2025-06-27T02:02:11.453851Z",
     "iopub.status.idle": "2025-06-27T02:02:11.866044Z",
     "shell.execute_reply": "2025-06-27T02:02:11.865426Z",
     "shell.execute_reply.started": "2025-06-27T02:02:11.454436Z"
    },
    "trusted": true
   },
   "outputs": [
    {
     "name": "stdout",
     "output_type": "stream",
     "text": [
      "First date in series: 2010-02-05\n",
      "Last date in series: 2012-10-26\n"
     ]
    }
   ],
   "source": [
    "df_merged['date'] = df_wm_train_pruned['date_ordinal'].apply(lambda x: datetime.fromordinal(int(x)))\n",
    "\n",
    "# Verify the resulting date range\n",
    "min_date = df_merged['date'].min()\n",
    "max_date = df_merged['date'].max()\n",
    "\n",
    "print(f\"First date in series: {min_date.date()}\")\n",
    "print(f\"Last date in series: {max_date.date()}\")"
   ]
  },
  {
   "cell_type": "code",
   "execution_count": 176,
   "id": "ed184ad3",
   "metadata": {
    "execution": {
     "iopub.execute_input": "2025-06-27T02:02:15.031484Z",
     "iopub.status.busy": "2025-06-27T02:02:15.030654Z",
     "iopub.status.idle": "2025-06-27T02:02:15.221158Z",
     "shell.execute_reply": "2025-06-27T02:02:15.220413Z",
     "shell.execute_reply.started": "2025-06-27T02:02:15.031447Z"
    },
    "trusted": true
   },
   "outputs": [
    {
     "name": "stdout",
     "output_type": "stream",
     "text": [
      "Training set: 2010-02-05 → 2011-10-28 (267184 rows)\n",
      "Test set:     2011-11-04 → 2012-10-26 (154386 rows)\n",
      "Rows in training set : 267,184  ( 63.4 %)\n",
      "Rows in test set     : 154,386  ( 36.6 %)\n"
     ]
    }
   ],
   "source": [
    "df = df_merged.copy()\n",
    "\n",
    "# cutoff as 52 weeks before the last date\n",
    "last_date = df['date'].max()\n",
    "cutoff   = last_date - pd.Timedelta(weeks=52)\n",
    "\n",
    "# split\n",
    "train = df[df['date'] <= cutoff]\n",
    "test  = df[df['date'] >  cutoff]\n",
    "\n",
    "print(f\"Training set: {train['date'].min().date()} → {train['date'].max().date()} ({len(train)} rows)\")\n",
    "print(f\"Test set:     {test['date'].min().date()} → {test['date'].max().date()} ({len(test)} rows)\")\n",
    "\n",
    "\n",
    "# What share of rows are in TRAIN vs TEST?\n",
    "\n",
    "total_rows  = len(train) + len(test)\n",
    "train_pct   = len(train) / total_rows * 100\n",
    "test_pct    = len(test)  / total_rows * 100\n",
    "\n",
    "\n",
    "print(f\"Rows in training set : {len(train):,}  ({train_pct:5.1f} %)\")\n",
    "print(f\"Rows in test set     : {len(test):,}  ({test_pct:5.1f} %)\")\n"
   ]
  },
  {
   "cell_type": "code",
   "execution_count": 177,
   "id": "ee5f09b8",
   "metadata": {
    "execution": {
     "iopub.execute_input": "2025-06-27T02:02:17.449303Z",
     "iopub.status.busy": "2025-06-27T02:02:17.449024Z",
     "iopub.status.idle": "2025-06-27T02:02:17.519193Z",
     "shell.execute_reply": "2025-06-27T02:02:17.518405Z",
     "shell.execute_reply.started": "2025-06-27T02:02:17.449283Z"
    },
    "trusted": true
   },
   "outputs": [],
   "source": [
    "X_train = train.drop(columns=['weekly_sales', 'date', 'holiday_name'])\n",
    "y_train = train['weekly_sales']\n",
    "\n",
    "X_test  = test.drop(columns=['weekly_sales', 'date', 'holiday_name'])\n",
    "y_test  = test['weekly_sales']\n"
   ]
  },
  {
   "cell_type": "markdown",
   "id": "a5d414cc",
   "metadata": {},
   "source": [
    "#### Custome Evaluation metric (WMAE)"
   ]
  },
  {
   "cell_type": "code",
   "execution_count": 178,
   "id": "4c9f20f6",
   "metadata": {
    "execution": {
     "iopub.execute_input": "2025-06-27T02:02:21.643566Z",
     "iopub.status.busy": "2025-06-27T02:02:21.643066Z",
     "iopub.status.idle": "2025-06-27T02:02:21.648403Z",
     "shell.execute_reply": "2025-06-27T02:02:21.647691Z",
     "shell.execute_reply.started": "2025-06-27T02:02:21.643541Z"
    },
    "trusted": true
   },
   "outputs": [],
   "source": [
    "ish = train['isholiday']   # 0/1 Series indexed same as X_train, y_train\n",
    "\n",
    "def weight_fn(idx_labels):\n",
    "    \"\"\"\n",
    "    idx_labels: an Index of row‐labels from y_true\n",
    "    returns an array of 5s and 1s matching those labels.\n",
    "    \"\"\"\n",
    "    # .loc uses the actual labels (dates + store/dept multi‐index, if any)\n",
    "    return np.where(ish.loc[idx_labels] == 1, 5, 1)\n",
    "\n",
    "# Two‐arg WMAE that ModelTrainer expects\n",
    "def wmae_custom(y_true, y_pred):\n",
    "    \"\"\"\n",
    "    y_true: pd.Series\n",
    "    y_pred: np.ndarray (same length)\n",
    "    \"\"\"\n",
    "    w = weight_fn(y_true.index)\n",
    "    # now compute weighted MAE\n",
    "    return (w * np.abs(y_true - y_pred)).sum() / w.sum()"
   ]
  },
  {
   "cell_type": "markdown",
   "id": "370e57b8",
   "metadata": {},
   "source": [
    "#### LightGBM Hyper Parameters Search . CV Estimate (used to choose hyper-parameters faster)"
   ]
  },
  {
   "cell_type": "markdown",
   "id": "9373a3d8",
   "metadata": {},
   "source": [
    "##### LightGBM Search"
   ]
  },
  {
   "cell_type": "code",
   "execution_count": 179,
   "id": "7d25d820",
   "metadata": {
    "execution": {
     "iopub.status.busy": "2025-06-26T22:10:14.423477Z",
     "iopub.status.idle": "2025-06-26T22:10:14.423808Z",
     "shell.execute_reply": "2025-06-26T22:10:14.423645Z",
     "shell.execute_reply.started": "2025-06-26T22:10:14.42363Z"
    },
    "trusted": true
   },
   "outputs": [],
   "source": [
    "%%skip\n",
    "def lgb_pipeline_factory(params):\n",
    "    return Pipeline([\n",
    "        (\"scaler\", StandardScaler()),\n",
    "        (\"model\",  lgb.LGBMRegressor(**params, random_state=7, n_jobs=-1))\n",
    "    ])\n",
    "\n",
    "trainer = ModelTrainer(\n",
    "    X             = X_train,\n",
    "    y             = y_train,\n",
    "    model_factory = lgb_pipeline_factory, \n",
    "    search        = 'random',\n",
    "    param_grid    = {\n",
    "        'num_leaves':       [31, 50, 100, 150, 200],\n",
    "        'max_depth':        [-1, 5, 10, 15, 20],\n",
    "        'learning_rate':    [0.01, 0.05, 0.1],\n",
    "        'n_estimators':     [100, 300, 500],\n",
    "        'feature_fraction': [0.6, 0.8, 1.0],\n",
    "        'bagging_fraction': [0.6, 0.8, 1.0],\n",
    "        'bagging_freq':     [0, 5, 10],\n",
    "        'min_child_samples':[5, 10, 20, 50],\n",
    "        # new regularization / split-gain params:\n",
    "        'min_split_gain':   [0, 0.1, 0.5, 1.0],\n",
    "        'lambda_l1':        [0, 0.1, 0.5, 1.0],\n",
    "        'lambda_l2':        [0, 0.1, 0.5, 1.0],\n",
    "    },\n",
    "    n_iter           = 50,\n",
    "    cv_splitter      = TimeSeriesSplit(n_splits=2),\n",
    "    custom_metrics   = {'wmae': wmae_custom},\n",
    "    log_path         = 'csv_files/ml_train_data/lgbm_random_wmae01.csv',\n",
    "    model_name       = 'LGBM_WMAE',\n",
    "    problem_type     = 'reg',\n",
    "    n_jobs           = -1,\n",
    "    random_state     = 7\n",
    ")\n",
    "\n",
    "\n",
    "# Run the search\n",
    "best_params, best_score = trainer.train()\n",
    "print(\" Best params:\", best_params)\n",
    "print(\" Best WMAE:  \", best_score)\n",
    "\n",
    "# explicitly close the CSV handle\n",
    "trainer.csv_file.close()\n",
    "# drop the trainer object and force garbage collection\n",
    "del trainer\n",
    "import gc; gc.collect()\n"
   ]
  },
  {
   "cell_type": "code",
   "execution_count": 180,
   "id": "4925be82",
   "metadata": {
    "execution": {
     "execution_failed": "2025-06-26T22:16:29.763Z",
     "iopub.status.busy": "2025-06-26T22:10:14.425126Z",
     "iopub.status.idle": "2025-06-26T22:10:14.425582Z"
    },
    "trusted": true
   },
   "outputs": [],
   "source": [
    "%%skip\n",
    "lgbm_random_wmae01 = pd.read_csv('csv_files/ml_train_data/lgbm_random_wmae01.csv')"
   ]
  },
  {
   "cell_type": "code",
   "execution_count": 181,
   "id": "41d9c30b",
   "metadata": {
    "execution": {
     "iopub.status.busy": "2025-06-26T22:10:14.430086Z",
     "iopub.status.idle": "2025-06-26T22:10:14.430333Z",
     "shell.execute_reply": "2025-06-26T22:10:14.430229Z",
     "shell.execute_reply.started": "2025-06-26T22:10:14.430219Z"
    },
    "trusted": true
   },
   "outputs": [],
   "source": [
    "%%skip\n",
    "df = lgbm_random_wmae01.copy()             \n",
    "\n",
    "params_df = (\n",
    "    df['param_json']\n",
    "    .apply(lambda s: json.loads(s) if pd.notnull(s) else {})  \n",
    "    .apply(pd.Series)                                         \n",
    ")\n",
    "df = pd.concat([df, params_df], axis=1)\n",
    "\n",
    "metric = 'wmae'\n",
    "ignore = {'model_name', 'param_json',            \n",
    "          'mae', 'rmse', 'r2', metric, '__source__'}\n",
    "\n",
    "param_cols = [c for c in df.columns if c not in ignore]\n",
    "\n",
    "# keep only numeric hyper-params\n",
    "X = df[param_cols].select_dtypes(include=[np.number])\n",
    "y = df[metric]\n",
    "\n",
    "# guard against “empty X” (all NaNs / non-numeric)\n",
    "if X.shape[1] == 0:\n",
    "    raise ValueError(\"No numeric hyper-parameter columns left after filtering!\")\n",
    "\n",
    "# urrogate model + analyses \n",
    "rf = RandomForestRegressor(n_estimators=200, random_state=7, n_jobs=-1)\n",
    "rf.fit(X, y)\n",
    "\n",
    "importances = pd.Series(rf.feature_importances_, index=X.columns)\n",
    "print(\"→ RF importances:\\n\", importances.sort_values(ascending=False), \"\\n\")\n",
    "\n",
    "perm = permutation_importance(rf, X, y, n_repeats=10, random_state=7, n_jobs=-1)\n",
    "perm_imp = pd.Series(perm.importances_mean, index=X.columns)\n",
    "print(\"→ Permutation importances:\\n\", perm_imp.sort_values(ascending=False), \"\\n\")\n",
    "\n",
    "# partial-dependence plots \n",
    "top = importances.sort_values(ascending=False).index[:]\n",
    "\n",
    "fig, axes = plt.subplots(4, 4, figsize=(32, 32), sharey=True)\n",
    "axes = axes.flatten()\n",
    "\n",
    "for ax, feat in zip(axes, top):\n",
    "    PartialDependenceDisplay.from_estimator(rf, X, [feat], ax=ax)\n",
    "    ax.set_title(f\"PDP: {feat}\")\n",
    "\n",
    "for ax in axes[len(top):]:\n",
    "    ax.axis('off')\n",
    "\n",
    "plt.tight_layout()\n",
    "plt.show()\n"
   ]
  },
  {
   "cell_type": "code",
   "execution_count": 182,
   "id": "b7150b09",
   "metadata": {
    "execution": {
     "iopub.status.busy": "2025-06-26T22:10:14.431215Z",
     "iopub.status.idle": "2025-06-26T22:10:14.431482Z",
     "shell.execute_reply": "2025-06-26T22:10:14.431347Z",
     "shell.execute_reply.started": "2025-06-26T22:10:14.431337Z"
    },
    "trusted": true
   },
   "outputs": [],
   "source": [
    "%%skip\n",
    "def lgb_pipeline_factory(params):\n",
    "    return Pipeline([\n",
    "        (\"scaler\", StandardScaler()),\n",
    "        (\"model\",  lgb.LGBMRegressor(**params, random_state=7, n_jobs=-1))\n",
    "    ])\n",
    "\n",
    "trainer = ModelTrainer(\n",
    "    X             = X_train,\n",
    "    y             = y_train,\n",
    "    model_factory = lgb_pipeline_factory, \n",
    "    search        = 'random',\n",
    "    param_grid    = {\n",
    "        'num_leaves':       [150],\n",
    "        'max_depth':        [0, 100, 200],\n",
    "        'learning_rate':    [0.1],\n",
    "        'n_estimators':     [500],\n",
    "        'feature_fraction': [1],\n",
    "        'bagging_fraction': [1],\n",
    "        'bagging_freq':     [0, 20, 40],\n",
    "        'min_child_samples':[1],\n",
    "        # new regularization / split-gain params:\n",
    "        'min_split_gain':   [3,4,5],\n",
    "        'lambda_l1':        [0.1],\n",
    "        'lambda_l2':        [3,4,5],\n",
    "    },\n",
    "    n_iter           = 100,\n",
    "    cv_splitter      = TimeSeriesSplit(n_splits=2),\n",
    "    custom_metrics   = {'wmae': wmae_custom},\n",
    "    log_path         = 'csv_files/ml_train_data/lgbm_random_wmae03.csv',\n",
    "    model_name       = 'LGBM_WMAE',\n",
    "    problem_type     = 'reg',\n",
    "    n_jobs           = -1,\n",
    "    random_state     = 7\n",
    ")\n",
    "\n",
    "# Run the search\n",
    "best_params, best_score = trainer.train()\n",
    "print(\" Best params:\", best_params)\n",
    "print(\" Best WMAE:  \", best_score)\n",
    "\n",
    "# explicitly close the CSV handle\n",
    "trainer.csv_file.close()\n",
    "# drop the trainer object and force garbage collection\n",
    "del trainer\n",
    "import gc; gc.collect()\n"
   ]
  },
  {
   "cell_type": "code",
   "execution_count": 183,
   "id": "a4413578",
   "metadata": {
    "execution": {
     "iopub.status.busy": "2025-06-26T22:10:14.433164Z",
     "iopub.status.idle": "2025-06-26T22:10:14.43367Z",
     "shell.execute_reply": "2025-06-26T22:10:14.433552Z",
     "shell.execute_reply.started": "2025-06-26T22:10:14.433539Z"
    },
    "trusted": true
   },
   "outputs": [],
   "source": [
    "%%skip\n",
    "lgbm_random_wmae02 = pd.read_csv('csv_files/ml_train_data/lgbm_random_wmae02.csv')"
   ]
  },
  {
   "cell_type": "code",
   "execution_count": 184,
   "id": "2f2bbfcb",
   "metadata": {
    "execution": {
     "iopub.status.busy": "2025-06-26T22:10:14.436195Z",
     "iopub.status.idle": "2025-06-26T22:10:14.436538Z",
     "shell.execute_reply": "2025-06-26T22:10:14.436367Z",
     "shell.execute_reply.started": "2025-06-26T22:10:14.436353Z"
    },
    "trusted": true
   },
   "outputs": [],
   "source": [
    "%%skip\n",
    "# load & explode both CSVs if you haven’t yet —\n",
    "paths = [\n",
    "    'csv_files/ml_train_data/lgbm_random_wmae01.csv',\n",
    "    'csv_files/ml_train_data/lgbm_random_wmae02.csv',\n",
    "]\n",
    "dfs = []\n",
    "for path in paths:\n",
    "    df = pd.read_csv(path)\n",
    "    params = df['param_json'].apply(json.loads).apply(pd.Series)\n",
    "    df = pd.concat([df.drop(columns='param_json'), params], axis=1)\n",
    "    df['__source__'] = path.split('/')[-1]\n",
    "    dfs.append(df)\n",
    "df_all = pd.concat(dfs, ignore_index=True)"
   ]
  },
  {
   "cell_type": "code",
   "execution_count": 185,
   "id": "49786d56",
   "metadata": {
    "execution": {
     "iopub.status.busy": "2025-06-26T22:10:14.437247Z",
     "iopub.status.idle": "2025-06-26T22:10:14.437582Z",
     "shell.execute_reply": "2025-06-26T22:10:14.437427Z",
     "shell.execute_reply.started": "2025-06-26T22:10:14.437412Z"
    },
    "trusted": true
   },
   "outputs": [],
   "source": [
    "%%skip\n",
    "# choose metric & hyper‐param cols, drop any non‐numeric ones —\n",
    "metric = 'wmae'\n",
    "ignore = {'model_name','mae','rmse','r2', metric, '__source__'}\n",
    "param_cols = [c for c in df_all.columns if c not in ignore]\n",
    "\n",
    "# keep only numeric hyperparams\n",
    "X = df_all[param_cols].select_dtypes(include=[np.number])\n",
    "y = df_all[metric]\n",
    "\n",
    "# train surrogate —\n",
    "rf = RandomForestRegressor(n_estimators=200, random_state=7, n_jobs=-1)\n",
    "rf.fit(X, y)\n",
    "\n",
    "# RF importances\n",
    "importances = pd.Series(rf.feature_importances_, index=X.columns)\n",
    "print(\"→ RF importances:\\n\", importances.sort_values(ascending=False), \"\\n\")\n",
    "\n",
    "# permutation importances\n",
    "perm = permutation_importance(rf, X, y, n_repeats=10, random_state=7, n_jobs=-1)\n",
    "perm_imp = pd.Series(perm.importances_mean, index=X.columns)\n",
    "print(\"→ Permutation importances:\\n\", perm_imp.sort_values(ascending=False), \"\\n\")\n",
    "\n",
    "# partial dependence plots for top-3 features, all in one figure —\n",
    "top = importances.sort_values(ascending=False).index[:].tolist()\n",
    "\n",
    "fig, axes = plt.subplots(4, 4 ,figsize=(32, 32), sharey=True)\n",
    "axes = axes.flatten()\n",
    "\n",
    "for ax, feat in zip(axes, top):\n",
    "    PartialDependenceDisplay.from_estimator(rf, X, [feat], ax=ax)\n",
    "    ax.set_title(f\"PDP: {feat}\")\n",
    "\n",
    "# turn off the last (unused) subplot\n",
    "axes[-1].axis('off')\n",
    "\n",
    "plt.tight_layout()\n",
    "plt.show()"
   ]
  },
  {
   "cell_type": "code",
   "execution_count": 186,
   "id": "c70bccdb",
   "metadata": {
    "execution": {
     "iopub.status.busy": "2025-06-26T22:10:14.443575Z",
     "iopub.status.idle": "2025-06-26T22:10:14.444116Z",
     "shell.execute_reply": "2025-06-26T22:10:14.443833Z",
     "shell.execute_reply.started": "2025-06-26T22:10:14.443816Z"
    },
    "trusted": true
   },
   "outputs": [],
   "source": [
    "%%skip\n",
    "def lgb_pipeline_factory(params):\n",
    "    return Pipeline([\n",
    "        (\"scaler\", StandardScaler()),\n",
    "        (\"model\",  lgb.LGBMRegressor(**params, random_state=7, n_jobs=-1))\n",
    "    ])\n",
    "\n",
    "trainer = ModelTrainer(\n",
    "    X             = X_train,\n",
    "    y             = y_train,\n",
    "    model_factory = lgb_pipeline_factory, \n",
    "    search        = 'random',\n",
    "    param_grid    = {\n",
    "        'num_leaves':       [150],\n",
    "        'max_depth':        [0],\n",
    "        'learning_rate':    [0.1, 0.2, 0.3, 0.4],\n",
    "        'n_estimators':     [500,600,700,800],\n",
    "        'feature_fraction': [1],\n",
    "        'bagging_fraction': [1],\n",
    "        'bagging_freq':     [0],\n",
    "        'min_child_samples':[1],\n",
    "        # new regularization / split-gain params:\n",
    "        'min_split_gain':   [3],\n",
    "        'lambda_l1':        [0.1],\n",
    "        'lambda_l2':        [4, 6, 7],\n",
    "    },\n",
    "    n_iter           = 100,\n",
    "    cv_splitter      = TimeSeriesSplit(n_splits=2),\n",
    "    custom_metrics   = {'wmae': wmae_custom},\n",
    "    log_path         = 'csv_files/ml_train_data/lgbm_random_wmae03.csv',\n",
    "    model_name       = 'LGBM_WMAE',\n",
    "    problem_type     = 'reg',\n",
    "    n_jobs           = -1,\n",
    "    random_state     = 7\n",
    ")\n",
    "\n",
    "# Run the search\n",
    "best_params, best_score = trainer.train()\n",
    "print(\" Best params:\", best_params)\n",
    "print(\" Best WMAE:  \", best_score)\n",
    "\n",
    "# explicitly close the CSV handle\n",
    "trainer.csv_file.close()\n",
    "# drop the trainer object and force garbage collection\n",
    "del trainer\n",
    "import gc; gc.collect()\n"
   ]
  },
  {
   "cell_type": "code",
   "execution_count": 187,
   "id": "b469c2a9",
   "metadata": {
    "execution": {
     "iopub.status.busy": "2025-06-26T22:10:14.450693Z",
     "iopub.status.idle": "2025-06-26T22:10:14.451096Z",
     "shell.execute_reply": "2025-06-26T22:10:14.450926Z",
     "shell.execute_reply.started": "2025-06-26T22:10:14.45091Z"
    },
    "trusted": true
   },
   "outputs": [],
   "source": [
    "%%skip\n",
    "# load & explode both CSVs if you haven’t yet —\n",
    "paths = [\n",
    "    'csv_files/ml_train_data/lgbm_random_wmae01.csv',\n",
    "    'csv_files/ml_train_data/lgbm_random_wmae02.csv',\n",
    "    'csv_files/ml_train_data/lgbm_random_wmae03.csv',\n",
    "]\n",
    "dfs = []\n",
    "for path in paths:\n",
    "    df = pd.read_csv(path)\n",
    "    params = df['param_json'].apply(json.loads).apply(pd.Series)\n",
    "    df = pd.concat([df.drop(columns='param_json'), params], axis=1)\n",
    "    df['__source__'] = path.split('/')[-1]\n",
    "    dfs.append(df)\n",
    "df_all = pd.concat(dfs, ignore_index=True)"
   ]
  },
  {
   "cell_type": "code",
   "execution_count": 188,
   "id": "e0d6365f",
   "metadata": {
    "execution": {
     "iopub.status.busy": "2025-06-26T22:10:14.455226Z",
     "iopub.status.idle": "2025-06-26T22:10:14.455565Z",
     "shell.execute_reply": "2025-06-26T22:10:14.455444Z",
     "shell.execute_reply.started": "2025-06-26T22:10:14.455428Z"
    },
    "trusted": true
   },
   "outputs": [],
   "source": [
    "%%skip\n",
    "# choose metric & hyper‐param cols, drop any non‐numeric ones —\n",
    "metric = 'wmae'\n",
    "ignore = {'model_name','mae','rmse','r2', metric, '__source__'}\n",
    "param_cols = [c for c in df_all.columns if c not in ignore]\n",
    "\n",
    "# keep only numeric hyperparams\n",
    "X = df_all[param_cols].select_dtypes(include=[np.number])\n",
    "y = df_all[metric]\n",
    "\n",
    "# train surrogate —\n",
    "rf = RandomForestRegressor(n_estimators=200, random_state=7, n_jobs=-1)\n",
    "rf.fit(X, y)\n",
    "\n",
    "# RF importances\n",
    "importances = pd.Series(rf.feature_importances_, index=X.columns)\n",
    "print(\"→ RF importances:\\n\", importances.sort_values(ascending=False), \"\\n\")\n",
    "\n",
    "# permutation importances\n",
    "perm = permutation_importance(rf, X, y, n_repeats=10, random_state=7, n_jobs=-1)\n",
    "perm_imp = pd.Series(perm.importances_mean, index=X.columns)\n",
    "print(\"→ Permutation importances:\\n\", perm_imp.sort_values(ascending=False), \"\\n\")\n",
    "\n",
    "# partial dependence plots for top-3 features, all in one figure —\n",
    "top = importances.sort_values(ascending=False).index[:].tolist()\n",
    "\n",
    "fig, axes = plt.subplots(4, 4 ,figsize=(32, 32), sharey=True)\n",
    "axes = axes.flatten()\n",
    "\n",
    "for ax, feat in zip(axes, top):\n",
    "    PartialDependenceDisplay.from_estimator(rf, X, [feat], ax=ax)\n",
    "    ax.set_title(f\"PDP: {feat}\")\n",
    "\n",
    "# turn off the last (unused) subplot\n",
    "axes[-1].axis('off')\n",
    "\n",
    "plt.tight_layout()\n",
    "plt.show()"
   ]
  },
  {
   "cell_type": "code",
   "execution_count": 189,
   "id": "6c4ddffb",
   "metadata": {
    "execution": {
     "iopub.status.busy": "2025-06-26T22:10:14.456607Z",
     "iopub.status.idle": "2025-06-26T22:10:14.457098Z",
     "shell.execute_reply": "2025-06-26T22:10:14.456978Z",
     "shell.execute_reply.started": "2025-06-26T22:10:14.456962Z"
    },
    "trusted": true
   },
   "outputs": [],
   "source": [
    "%%skip\n",
    "def lgb_pipeline_factory(params):\n",
    "    return Pipeline([\n",
    "        (\"scaler\", StandardScaler()),\n",
    "        (\"model\",  lgb.LGBMRegressor(**params, random_state=7, n_jobs=-1))\n",
    "    ])\n",
    "\n",
    "trainer = ModelTrainer(\n",
    "    X             = X_train,\n",
    "    y             = y_train,\n",
    "    model_factory = lgb_pipeline_factory, \n",
    "    search        = 'random',\n",
    "    param_grid    = {\n",
    "        'num_leaves':       [150],\n",
    "        'max_depth':        [0],\n",
    "        'learning_rate':    [0.1],\n",
    "        'n_estimators':     [500],\n",
    "        'feature_fraction': [1],\n",
    "        'bagging_fraction': [1],\n",
    "        'bagging_freq':     [0],\n",
    "        'min_child_samples':[0],\n",
    "        # new regularization / split-gain params:\n",
    "        'min_split_gain':   [3],\n",
    "        'lambda_l1':        [0.1],\n",
    "        'lambda_l2':        [6, 8, 9, 10, 11, 12],\n",
    "    },\n",
    "    n_iter           = 100,\n",
    "    cv_splitter      = TimeSeriesSplit(n_splits=2),\n",
    "    custom_metrics   = {'wmae': wmae_custom},\n",
    "    log_path         = 'csv_files/ml_train_data/lgbm_random_wmae04.csv',\n",
    "    model_name       = 'LGBM_WMAE',\n",
    "    problem_type     = 'reg',\n",
    "    n_jobs           = -1,\n",
    "    random_state     = 7\n",
    ")\n",
    "\n",
    "# Run the search\n",
    "best_params, best_score = trainer.train()\n",
    "print(\" Best params:\", best_params)\n",
    "print(\" Best WMAE:  \", best_score)\n",
    "\n",
    "# explicitly close the CSV handle\n",
    "trainer.csv_file.close()\n",
    "# drop the trainer object and force garbage collection\n",
    "del trainer\n",
    "import gc; gc.collect()\n"
   ]
  },
  {
   "cell_type": "code",
   "execution_count": 190,
   "id": "1a383ae4",
   "metadata": {
    "execution": {
     "iopub.status.busy": "2025-06-26T22:10:14.457915Z",
     "iopub.status.idle": "2025-06-26T22:10:14.458165Z",
     "shell.execute_reply": "2025-06-26T22:10:14.458038Z",
     "shell.execute_reply.started": "2025-06-26T22:10:14.458029Z"
    },
    "trusted": true
   },
   "outputs": [],
   "source": [
    "%%skip\n",
    "# load & explode both CSVs if you haven’t yet —\n",
    "paths = [\n",
    "    'csv_files/ml_train_data/lgbm_random_wmae01.csv',\n",
    "    'csv_files/ml_train_data/lgbm_random_wmae02.csv',\n",
    "    'csv_files/ml_train_data/lgbm_random_wmae03.csv',\n",
    "    'csv_files/ml_train_data/lgbm_random_wmae04.csv',\n",
    "\n",
    "]\n",
    "dfs = []\n",
    "for path in paths:\n",
    "    df = pd.read_csv(path)\n",
    "    params = df['param_json'].apply(json.loads).apply(pd.Series)\n",
    "    df = pd.concat([df.drop(columns='param_json'), params], axis=1)\n",
    "    df['__source__'] = path.split('/')[-1]\n",
    "    dfs.append(df)\n",
    "df_all = pd.concat(dfs, ignore_index=True)"
   ]
  },
  {
   "cell_type": "code",
   "execution_count": 191,
   "id": "f884f00c",
   "metadata": {
    "execution": {
     "iopub.status.busy": "2025-06-26T22:10:14.461264Z",
     "iopub.status.idle": "2025-06-26T22:10:14.461817Z",
     "shell.execute_reply": "2025-06-26T22:10:14.461563Z",
     "shell.execute_reply.started": "2025-06-26T22:10:14.461423Z"
    },
    "trusted": true
   },
   "outputs": [],
   "source": [
    "%%skip\n",
    "# choose metric & hyper‐param cols, drop any non‐numeric ones —\n",
    "metric = 'wmae'\n",
    "ignore = {'model_name','mae','rmse','r2', metric, '__source__'}\n",
    "param_cols = [c for c in df_all.columns if c not in ignore]\n",
    "\n",
    "# keep only numeric hyperparams\n",
    "X = df_all[param_cols].select_dtypes(include=[np.number])\n",
    "y = df_all[metric]\n",
    "\n",
    "# train surrogate —\n",
    "rf = RandomForestRegressor(n_estimators=200, random_state=7, n_jobs=-1)\n",
    "rf.fit(X, y)\n",
    "\n",
    "# RF importances\n",
    "importances = pd.Series(rf.feature_importances_, index=X.columns)\n",
    "print(\"→ RF importances:\\n\", importances.sort_values(ascending=False), \"\\n\")\n",
    "\n",
    "# permutation importances\n",
    "perm = permutation_importance(rf, X, y, n_repeats=10, random_state=7, n_jobs=-1)\n",
    "perm_imp = pd.Series(perm.importances_mean, index=X.columns)\n",
    "print(\"→ Permutation importances:\\n\", perm_imp.sort_values(ascending=False), \"\\n\")\n",
    "\n",
    "# partial dependence plots for top-3 features, all in one figure —\n",
    "top = importances.sort_values(ascending=False).index[:].tolist()\n",
    "\n",
    "fig, axes = plt.subplots(4, 4 ,figsize=(32, 32), sharey=True)\n",
    "axes = axes.flatten()\n",
    "\n",
    "for ax, feat in zip(axes, top):\n",
    "    PartialDependenceDisplay.from_estimator(rf, X, [feat], ax=ax)\n",
    "    ax.set_title(f\"PDP: {feat}\")\n",
    "\n",
    "# turn off the last (unused) subplot\n",
    "axes[-1].axis('off')\n",
    "\n",
    "plt.tight_layout()\n",
    "plt.show()"
   ]
  },
  {
   "cell_type": "code",
   "execution_count": 192,
   "id": "37d8462a",
   "metadata": {
    "execution": {
     "iopub.status.busy": "2025-06-26T22:10:14.469962Z",
     "iopub.status.idle": "2025-06-26T22:10:14.470285Z",
     "shell.execute_reply": "2025-06-26T22:10:14.470152Z",
     "shell.execute_reply.started": "2025-06-26T22:10:14.47014Z"
    },
    "trusted": true
   },
   "outputs": [],
   "source": [
    "%%skip\n",
    "df_lgbm_random_04 = df_all"
   ]
  },
  {
   "cell_type": "code",
   "execution_count": 193,
   "id": "21b3ecbe",
   "metadata": {
    "execution": {
     "iopub.status.busy": "2025-06-26T22:10:14.47125Z",
     "iopub.status.idle": "2025-06-26T22:10:14.471607Z",
     "shell.execute_reply": "2025-06-26T22:10:14.47146Z",
     "shell.execute_reply.started": "2025-06-26T22:10:14.471445Z"
    },
    "trusted": true
   },
   "outputs": [],
   "source": [
    "%%skip\n",
    "df_lgbm_random_04.to_csv('csv_files/ml_train_data/df_lgbm_random_04.csv', index=None)"
   ]
  },
  {
   "cell_type": "code",
   "execution_count": 194,
   "id": "bcf2d254",
   "metadata": {
    "execution": {
     "iopub.status.busy": "2025-06-26T22:10:14.473344Z",
     "iopub.status.idle": "2025-06-26T22:10:14.473702Z",
     "shell.execute_reply": "2025-06-26T22:10:14.47356Z",
     "shell.execute_reply.started": "2025-06-26T22:10:14.473544Z"
    },
    "trusted": true
   },
   "outputs": [],
   "source": [
    "%%skip\n",
    "df_lgbm_random_04 = pd.read_csv('csv_files/ml_train_data/df_lgbm_random_04.csv')"
   ]
  },
  {
   "cell_type": "markdown",
   "id": "38f4c8a1",
   "metadata": {},
   "source": [
    "##### LightGBM Best Model"
   ]
  },
  {
   "cell_type": "markdown",
   "id": "49673cc4",
   "metadata": {},
   "source": [
    "Get best params from csv"
   ]
  },
  {
   "cell_type": "code",
   "execution_count": 195,
   "id": "81db62ec",
   "metadata": {
    "execution": {
     "iopub.status.busy": "2025-06-26T22:10:14.474662Z",
     "iopub.status.idle": "2025-06-26T22:10:14.476294Z",
     "shell.execute_reply": "2025-06-26T22:10:14.474841Z",
     "shell.execute_reply.started": "2025-06-26T22:10:14.474824Z"
    },
    "trusted": true
   },
   "outputs": [],
   "source": [
    "%%skip\n",
    "df = df_lgbm_random_04.copy()\n",
    "\n",
    "# pick the row with the lowest WMAE\n",
    "best_row = df.loc[df['wmae'].idxmin()]\n",
    "\n",
    "# keep only the hyper-parameter columns\n",
    "non_params = {'model_name', 'mae', 'rmse', 'r2', 'wmae', '__source__'}\n",
    "param_series = best_row.drop(labels=non_params)\n",
    "\n",
    "# convert to a clean dict, turning floats like 500.0 → 500\n",
    "best_params = {\n",
    "    k: (int(v) if isinstance(v, (int, float)) and not math.isnan(v) and v.is_integer() else v)\n",
    "    for k, v in param_series.items()\n",
    "    if pd.notnull(v)                           # skip NaNs\n",
    "}\n",
    "\n",
    "\n",
    "best_params\n",
    "\n"
   ]
  },
  {
   "cell_type": "markdown",
   "id": "de16f4cf",
   "metadata": {},
   "source": [
    "Train best model "
   ]
  },
  {
   "cell_type": "code",
   "execution_count": 196,
   "id": "d50c0e4a",
   "metadata": {
    "execution": {
     "iopub.status.busy": "2025-06-26T22:10:14.477465Z",
     "iopub.status.idle": "2025-06-26T22:10:14.477799Z",
     "shell.execute_reply": "2025-06-26T22:10:14.477648Z",
     "shell.execute_reply.started": "2025-06-26T22:10:14.477633Z"
    },
    "trusted": true
   },
   "outputs": [],
   "source": [
    "%%skip\n",
    "# Rebuild your best‐found model\n",
    "pipe = Pipeline([\n",
    "    (\"scaler\", StandardScaler()),\n",
    "    (\"model\", lgb.LGBMRegressor(**best_params, random_state=7, n_jobs=-1))\n",
    "])\n",
    "\n",
    "# 1) Fit on the entire training set\n",
    "pipe.fit(X_train, y_train)\n",
    "\n",
    "# 2) Predict on the test set\n",
    "y_pred = pipe.predict(X_test)\n",
    "\n",
    "# 3) Compute standard metrics\n",
    "mae  = mean_absolute_error(y_test, y_pred)\n",
    "rmse = np.sqrt(mean_squared_error(y_test, y_pred))\n",
    "r2   = r2_score(y_test, y_pred)\n",
    "\n",
    "# 4) Compute WMAE (holiday weeks weight=5, others=1)\n",
    "#    assumes you still have `test` DataFrame with 'holiday_name'\n",
    "weights = np.where(test['holiday_name'].notnull(), 5, 1)\n",
    "wmae    = (weights * np.abs(y_test - y_pred)).sum() / weights.sum()\n",
    "\n",
    "# 5) Print them all\n",
    "print(f\"Test MAE:   {mae:.4f}\")\n",
    "print(f\"Test RMSE:  {rmse:.4f}\")\n",
    "print(f\"Test R²:    {r2:.4f}\")\n",
    "print(f\"Test WMAE:  {wmae:.4f}\")\n"
   ]
  },
  {
   "cell_type": "markdown",
   "id": "9fd62ad4",
   "metadata": {},
   "source": [
    "Check what features were used"
   ]
  },
  {
   "cell_type": "code",
   "execution_count": 197,
   "id": "ddf1bdb6",
   "metadata": {
    "execution": {
     "iopub.status.busy": "2025-06-26T22:10:14.479022Z",
     "iopub.status.idle": "2025-06-26T22:10:14.479325Z",
     "shell.execute_reply": "2025-06-26T22:10:14.479199Z",
     "shell.execute_reply.started": "2025-06-26T22:10:14.479184Z"
    },
    "trusted": true
   },
   "outputs": [],
   "source": [
    "%%skip\n",
    "# grab the fitted LGBM from your pipeline\n",
    "model = pipe.named_steps['model']\n",
    "\n",
    "# make a Series of the importances\n",
    "fi = pd.Series(\n",
    "    model.feature_importances_,\n",
    "    index = X_train.columns\n",
    ").sort_values(ascending=False)\n",
    "\n",
    "# print the top 10\n",
    "print(\"🌳 LightGBM split-gain importances:\")\n",
    "print(fi)\n",
    "\n",
    "# number of times the feature was used by the model"
   ]
  },
  {
   "cell_type": "markdown",
   "id": "73fdb39a",
   "metadata": {},
   "source": [
    "##### LGBM Retrain wihout not used features (Best Model to CSV)"
   ]
  },
  {
   "cell_type": "code",
   "execution_count": 198,
   "id": "8d43ec05",
   "metadata": {
    "execution": {
     "iopub.status.busy": "2025-06-26T22:10:14.480261Z",
     "iopub.status.idle": "2025-06-26T22:10:14.480595Z",
     "shell.execute_reply": "2025-06-26T22:10:14.480444Z",
     "shell.execute_reply.started": "2025-06-26T22:10:14.480427Z"
    },
    "trusted": true
   },
   "outputs": [],
   "source": [
    "%%skip\n",
    "cutoff  = df_merged.date.max() - pd.Timedelta(weeks=52)\n",
    "train   = df_merged[df_merged.date <= cutoff]\n",
    "test    = df_merged[df_merged.date >  cutoff]\n",
    "\n",
    "drop = [\n",
    "    'weekly_sales','date','holiday_name','year',\n",
    "    'markdown5','markdown1','markdown2','markdown3','markdown4',\n",
    "    'us_tax_india','us_tax_vietnam','us_tax_china','us_tax_canada'\n",
    "]\n",
    "\n",
    "X_train, y_train = train.drop(columns=drop), train.weekly_sales\n",
    "X_test,  y_test  = test .drop(columns=drop),  test .weekly_sales\n",
    "\n",
    "\n",
    "# Fit model, keep only used features\n",
    "\n",
    "pipe = Pipeline([\n",
    "    (\"scaler\", StandardScaler()),\n",
    "    (\"model\",  lgb.LGBMRegressor(**best_params, random_state=7, n_jobs=-1))\n",
    "])\n",
    "pipe.fit(X_train, y_train)\n",
    "\n",
    "used_feats = X_train.columns[pipe.named_steps['model'].feature_importances_ > 0]\n",
    "pipe.fit(X_train[used_feats], y_train)\n",
    "\n",
    "\n",
    "# Predict & compute metrics\n",
    "\n",
    "y_pred  = pipe.predict(X_test[used_feats])\n",
    "\n",
    "mae     = mean_absolute_error(y_test, y_pred)\n",
    "rmse    = np.sqrt(mean_squared_error(y_test, y_pred))\n",
    "r2      = r2_score(y_test, y_pred)\n",
    "weights = np.where(test['holiday_name'].notnull(), 5, 1)\n",
    "wmae    = (weights * np.abs(y_test - y_pred)).sum() / weights.sum()\n",
    "\n",
    "\n",
    "row = {\n",
    "    \"model_name\": 'LGBM01',\n",
    "    **best_params,\n",
    "    \"mae\":  mae,\n",
    "    \"rmse\": rmse,\n",
    "    \"r2\":   r2,\n",
    "    \"wmae\": wmae\n",
    "}\n",
    "df_best_models = pd.DataFrame([row])\n",
    "\n",
    "df_best_models\n"
   ]
  },
  {
   "cell_type": "code",
   "execution_count": 199,
   "id": "1217948b",
   "metadata": {
    "execution": {
     "iopub.status.busy": "2025-06-26T22:10:14.481803Z",
     "iopub.status.idle": "2025-06-26T22:10:14.482103Z",
     "shell.execute_reply": "2025-06-26T22:10:14.481986Z",
     "shell.execute_reply.started": "2025-06-26T22:10:14.481971Z"
    },
    "trusted": true
   },
   "outputs": [],
   "source": [
    "%%skip\n",
    "df_best_models.to_csv('csv_files/ml_train_data/df_best_models.csv', index=None)"
   ]
  },
  {
   "cell_type": "code",
   "execution_count": 200,
   "id": "903370b0",
   "metadata": {
    "execution": {
     "iopub.status.busy": "2025-06-26T22:10:14.483188Z",
     "iopub.status.idle": "2025-06-26T22:10:14.484009Z",
     "shell.execute_reply": "2025-06-26T22:10:14.483868Z",
     "shell.execute_reply.started": "2025-06-26T22:10:14.483848Z"
    },
    "trusted": true
   },
   "outputs": [],
   "source": [
    "df_best_models = pd.read_csv('csv_files/ml_train_data/df_best_models.csv')"
   ]
  },
  {
   "cell_type": "code",
   "execution_count": 201,
   "id": "60ca00b9",
   "metadata": {
    "execution": {
     "iopub.status.busy": "2025-06-26T22:10:14.486215Z",
     "iopub.status.idle": "2025-06-26T22:10:14.486538Z",
     "shell.execute_reply": "2025-06-26T22:10:14.486361Z",
     "shell.execute_reply.started": "2025-06-26T22:10:14.486346Z"
    },
    "trusted": true
   },
   "outputs": [],
   "source": [
    "%%skip\n",
    "# to merge new best model : \n",
    "results_df = pd.concat([results_df, df_best_models], ignore_index=True)\n"
   ]
  },
  {
   "cell_type": "markdown",
   "id": "9f153ce4",
   "metadata": {},
   "source": [
    "### XGBoostRegressor Hyper Parameters Search / CV Estimate (used to choose hyper-parameters faster)"
   ]
  },
  {
   "cell_type": "markdown",
   "id": "f37252fb",
   "metadata": {},
   "source": [
    "##### XGBoost Search"
   ]
  },
  {
   "cell_type": "code",
   "execution_count": 202,
   "id": "85e2709d",
   "metadata": {
    "execution": {
     "iopub.status.busy": "2025-06-26T22:10:14.487456Z",
     "iopub.status.idle": "2025-06-26T22:10:14.487765Z",
     "shell.execute_reply": "2025-06-26T22:10:14.487656Z",
     "shell.execute_reply.started": "2025-06-26T22:10:14.487642Z"
    },
    "trusted": true
   },
   "outputs": [],
   "source": [
    "%%skip\n",
    "# Define an XGBoost pipeline factory\n",
    "def xgb_pipeline_factory(params):\n",
    "    return Pipeline([\n",
    "        (\"scaler\", StandardScaler()),\n",
    "        (\"model\",  XGBRegressor(**params, random_state=7, n_jobs=-1, verbosity=1))\n",
    "    ])\n",
    "\n",
    "# Set up the random search over a balanced grid of XGBoost hyper-params\n",
    "trainer = ModelTrainer(\n",
    "    X             = X_train,\n",
    "    y             = y_train,\n",
    "    model_factory = xgb_pipeline_factory, \n",
    "    search        = 'random',\n",
    "    param_grid    = {\n",
    "        'n_estimators':      [700,800,900],\n",
    "        'max_depth':         [10, 11, 12, 13],\n",
    "        'learning_rate':     [0.2, 0.3, 0.4, 0.5],\n",
    "        'subsample':         [1],\n",
    "        'colsample_bytree':  [0.7, 0.8, 0.9],\n",
    "        'gamma':             [0.01, 0.05 ,0.1],\n",
    "        'min_child_weight':  [1, 5, 10, 20],\n",
    "        'reg_alpha':         [1, 2, 3],\n",
    "        'reg_lambda':        [0.8, 1.0, 1.2],\n",
    "    },\n",
    "    n_iter           = 100,\n",
    "    cv_splitter      = TimeSeriesSplit(n_splits=3),\n",
    "    custom_metrics   = {'wmae': wmae_custom},\n",
    "    log_path         = 'csv_files/ml_train_data/xgb_random_wmae01.csv',\n",
    "    model_name       = 'XGB_WMAE',\n",
    "    problem_type     = 'reg',\n",
    "    n_jobs           = -1,\n",
    "    random_state     = 7\n",
    ")\n",
    "\n",
    "# Run the search\n",
    "best_params, best_score = trainer.train()\n",
    "print(\"Best params:\", best_params)\n",
    "print(\" Best WMAE:  \", best_score)\n",
    "\n",
    "# Clean up\n",
    "trainer.csv_file.close()\n",
    "del trainer\n",
    "import gc; gc.collect()\n"
   ]
  },
  {
   "cell_type": "code",
   "execution_count": 203,
   "id": "fced5b6a",
   "metadata": {
    "execution": {
     "iopub.status.busy": "2025-06-26T22:10:14.488747Z",
     "iopub.status.idle": "2025-06-26T22:10:14.488997Z",
     "shell.execute_reply": "2025-06-26T22:10:14.488893Z",
     "shell.execute_reply.started": "2025-06-26T22:10:14.488882Z"
    },
    "trusted": true
   },
   "outputs": [],
   "source": [
    "%%skip\n",
    "xgb_random_wmae01 = pd.read_csv('csv_files/ml_train_data/xgb_random_wmae01.csv')\n",
    "xgb_random_wmae01"
   ]
  },
  {
   "cell_type": "code",
   "execution_count": 204,
   "id": "ff092b55",
   "metadata": {
    "execution": {
     "iopub.status.busy": "2025-06-26T22:10:14.490684Z",
     "iopub.status.idle": "2025-06-26T22:10:14.491156Z",
     "shell.execute_reply": "2025-06-26T22:10:14.4909Z",
     "shell.execute_reply.started": "2025-06-26T22:10:14.490884Z"
    },
    "trusted": true
   },
   "outputs": [],
   "source": [
    "%%skip\n",
    "df = xgb_random_wmae01.copy()             \n",
    "\n",
    "params_df = (\n",
    "    df['param_json']\n",
    "    .apply(lambda s: json.loads(s) if pd.notnull(s) else {})  \n",
    "    .apply(pd.Series)                                         \n",
    ")\n",
    "df = pd.concat([df, params_df], axis=1)\n",
    "\n",
    "metric = 'wmae'\n",
    "ignore = {'model_name', 'param_json',            \n",
    "          'mae', 'rmse', 'r2', metric, '__source__'}\n",
    "\n",
    "param_cols = [c for c in df.columns if c not in ignore]\n",
    "\n",
    "# keep only numeric hyper-params\n",
    "X = df[param_cols].select_dtypes(include=[np.number])\n",
    "y = df[metric]\n",
    "\n",
    "# guard against “empty X” (all NaNs / non-numeric)\n",
    "if X.shape[1] == 0:\n",
    "    raise ValueError(\"No numeric hyper-parameter columns left after filtering!\")\n",
    "\n",
    "# urrogate model + analyses \n",
    "rf = RandomForestRegressor(n_estimators=200, random_state=7, n_jobs=-1)\n",
    "rf.fit(X, y)\n",
    "\n",
    "importances = pd.Series(rf.feature_importances_, index=X.columns)\n",
    "print(\"→ RF importances:\\n\", importances.sort_values(ascending=False), \"\\n\")\n",
    "\n",
    "perm = permutation_importance(rf, X, y, n_repeats=10, random_state=7, n_jobs=-1)\n",
    "perm_imp = pd.Series(perm.importances_mean, index=X.columns)\n",
    "print(\"→ Permutation importances:\\n\", perm_imp.sort_values(ascending=False), \"\\n\")\n",
    "\n",
    "# partial-dependence plots \n",
    "top = importances.sort_values(ascending=False).index[:]\n",
    "\n",
    "fig, axes = plt.subplots(4, 4, figsize=(32, 32), sharey=True)\n",
    "axes = axes.flatten()\n",
    "\n",
    "for ax, feat in zip(axes, top):\n",
    "    PartialDependenceDisplay.from_estimator(rf, X, [feat], ax=ax)\n",
    "    ax.set_title(f\"PDP: {feat}\")\n",
    "\n",
    "for ax in axes[len(top):]:\n",
    "    ax.axis('off')\n",
    "\n",
    "plt.tight_layout()\n",
    "plt.show()\n"
   ]
  },
  {
   "cell_type": "code",
   "execution_count": 205,
   "id": "73a322dd",
   "metadata": {
    "execution": {
     "iopub.status.busy": "2025-06-26T22:10:14.493591Z",
     "iopub.status.idle": "2025-06-26T22:10:14.493858Z",
     "shell.execute_reply": "2025-06-26T22:10:14.493754Z",
     "shell.execute_reply.started": "2025-06-26T22:10:14.493742Z"
    },
    "trusted": true
   },
   "outputs": [],
   "source": [
    "%%skip\n",
    "# Define an XGBoost pipeline factory\n",
    "def xgb_pipeline_factory(params):\n",
    "    return Pipeline([\n",
    "        (\"scaler\", StandardScaler()),\n",
    "        (\"model\",  XGBRegressor(**params, random_state=7, n_jobs=-1, verbosity=1))\n",
    "    ])\n",
    "\n",
    "# Set up the random search over a balanced grid of XGBoost hyper-params\n",
    "trainer = ModelTrainer(\n",
    "    X             = X_train,\n",
    "    y             = y_train,\n",
    "    model_factory = xgb_pipeline_factory, \n",
    "    search        = 'random',\n",
    "    param_grid    = {\n",
    "        'n_estimators':      [200, 500, 700],\n",
    "        'max_depth':         [2,5,8,10],\n",
    "        'learning_rate':     [0, 0.05, 0.1, 0.2],\n",
    "        'subsample':         [0, 0.5, 1],\n",
    "        'colsample_bytree':  [0, 0.5, 0.8, 1],\n",
    "        'gamma':             [0 ,0.001],\n",
    "        'min_child_weight':  [0, 0.05, 0.1, 1],\n",
    "        'reg_alpha':         [0, 0.5, 5],\n",
    "        'reg_lambda':        [1.0],\n",
    "    },\n",
    "    n_iter           = 180,\n",
    "    cv_splitter      = TimeSeriesSplit(n_splits=3),\n",
    "    custom_metrics   = {'wmae': wmae_custom},\n",
    "    log_path         = 'csv_files/ml_train_data/xgb_random_wmae02.csv',\n",
    "    model_name       = 'XGB_WMAE',\n",
    "    problem_type     = 'reg',\n",
    "    n_jobs           = -1,\n",
    "    random_state     = 7\n",
    ")\n",
    "\n",
    "# 3) Run the search\n",
    "best_params, best_score = trainer.train()\n",
    "print(\"Best params:\", best_params)\n",
    "print(\" Best WMAE:  \", best_score)\n",
    "\n",
    "# 4) Clean up\n",
    "trainer.csv_file.close()\n",
    "del trainer\n",
    "import gc; gc.collect()\n"
   ]
  },
  {
   "cell_type": "code",
   "execution_count": 206,
   "id": "426646f6",
   "metadata": {
    "execution": {
     "iopub.status.busy": "2025-06-26T22:10:14.495171Z",
     "iopub.status.idle": "2025-06-26T22:10:14.495566Z",
     "shell.execute_reply": "2025-06-26T22:10:14.495382Z",
     "shell.execute_reply.started": "2025-06-26T22:10:14.495367Z"
    },
    "trusted": true
   },
   "outputs": [],
   "source": [
    "%%skip\n",
    "# load & explode both CSVs if you haven’t yet —\n",
    "paths = [\n",
    "    'csv_files/ml_train_data/xgb_random_wmae01.csv',\n",
    "    'csv_files/ml_train_data/xgb_random_wmae02.csv',\n",
    "]\n",
    "dfs = []\n",
    "for path in paths:\n",
    "    df = pd.read_csv(path)\n",
    "    params = df['param_json'].apply(json.loads).apply(pd.Series)\n",
    "    df = pd.concat([df.drop(columns='param_json'), params], axis=1)\n",
    "    df['__source__'] = path.split('/')[-1]\n",
    "    dfs.append(df)\n",
    "df_all = pd.concat(dfs, ignore_index=True)"
   ]
  },
  {
   "cell_type": "code",
   "execution_count": 207,
   "id": "ac5faf2b",
   "metadata": {
    "execution": {
     "iopub.status.busy": "2025-06-26T22:10:14.497021Z",
     "iopub.status.idle": "2025-06-26T22:10:14.497345Z",
     "shell.execute_reply": "2025-06-26T22:10:14.497237Z",
     "shell.execute_reply.started": "2025-06-26T22:10:14.497225Z"
    },
    "trusted": true
   },
   "outputs": [],
   "source": [
    "%%skip\n",
    "# choose metric & hyper‐param cols, drop any non‐numeric ones —\n",
    "metric = 'wmae'\n",
    "ignore = {'model_name','mae','rmse','r2', metric, '__source__'}\n",
    "param_cols = [c for c in df_all.columns if c not in ignore]\n",
    "\n",
    "# keep only numeric hyperparams\n",
    "X = df_all[param_cols].select_dtypes(include=[np.number])\n",
    "y = df_all[metric]\n",
    "\n",
    "# train surrogate —\n",
    "rf = RandomForestRegressor(n_estimators=200, random_state=7, n_jobs=-1)\n",
    "rf.fit(X, y)\n",
    "\n",
    "# RF importances\n",
    "importances = pd.Series(rf.feature_importances_, index=X.columns)\n",
    "print(\"→ RF importances:\\n\", importances.sort_values(ascending=False), \"\\n\")\n",
    "\n",
    "# permutation importances\n",
    "perm = permutation_importance(rf, X, y, n_repeats=10, random_state=7, n_jobs=-1)\n",
    "perm_imp = pd.Series(perm.importances_mean, index=X.columns)\n",
    "print(\"→ Permutation importances:\\n\", perm_imp.sort_values(ascending=False), \"\\n\")\n",
    "\n",
    "# partial dependence plots for top-3 features, all in one figure —\n",
    "top = importances.sort_values(ascending=False).index[:].tolist()\n",
    "\n",
    "fig, axes = plt.subplots(4, 4 ,figsize=(32, 32), sharey=True)\n",
    "axes = axes.flatten()\n",
    "\n",
    "for ax, feat in zip(axes, top):\n",
    "    PartialDependenceDisplay.from_estimator(rf, X, [feat], ax=ax)\n",
    "    ax.set_title(f\"PDP: {feat}\")\n",
    "\n",
    "# turn off the last (unused) subplot\n",
    "axes[-1].axis('off')\n",
    "\n",
    "plt.tight_layout()\n",
    "plt.show()"
   ]
  },
  {
   "cell_type": "code",
   "execution_count": 208,
   "id": "27a5241d",
   "metadata": {
    "execution": {
     "iopub.status.busy": "2025-06-26T22:10:14.49831Z",
     "iopub.status.idle": "2025-06-26T22:10:14.498704Z",
     "shell.execute_reply": "2025-06-26T22:10:14.49853Z",
     "shell.execute_reply.started": "2025-06-26T22:10:14.498515Z"
    },
    "trusted": true
   },
   "outputs": [],
   "source": [
    "%%skip\n",
    "df_xgb_random_02 = df_all\n",
    "df_xgb_random_02.to_csv('csv_files/ml_train_data/df_xgb_random_02.csv', index=None)"
   ]
  },
  {
   "cell_type": "code",
   "execution_count": 209,
   "id": "a1d25595",
   "metadata": {
    "execution": {
     "iopub.status.busy": "2025-06-26T22:10:14.499757Z",
     "iopub.status.idle": "2025-06-26T22:10:14.500111Z",
     "shell.execute_reply": "2025-06-26T22:10:14.49996Z",
     "shell.execute_reply.started": "2025-06-26T22:10:14.499945Z"
    },
    "trusted": true
   },
   "outputs": [],
   "source": [
    "%%skip\n",
    "df_xgb_random_02 = pd.read_csv('csv_files/ml_train_data/df_xgb_random_02.csv')"
   ]
  },
  {
   "cell_type": "markdown",
   "id": "7d44af16",
   "metadata": {},
   "source": [
    "##### XGBoost Best Model"
   ]
  },
  {
   "cell_type": "markdown",
   "id": "f61509a0",
   "metadata": {},
   "source": [
    "Get Best Params"
   ]
  },
  {
   "cell_type": "code",
   "execution_count": 210,
   "id": "14129844",
   "metadata": {
    "execution": {
     "iopub.status.busy": "2025-06-26T22:10:14.501176Z",
     "iopub.status.idle": "2025-06-26T22:10:14.501941Z",
     "shell.execute_reply": "2025-06-26T22:10:14.501774Z",
     "shell.execute_reply.started": "2025-06-26T22:10:14.501756Z"
    },
    "trusted": true
   },
   "outputs": [],
   "source": [
    "%%skip\n",
    "df = df_xgb_random_02.copy()\n",
    "\n",
    "# pick the row with the lowest WMAE\n",
    "best_row = df.loc[df['wmae'].idxmin()]\n",
    "\n",
    "# keep only the hyper-parameter columns\n",
    "non_params = {'model_name', 'mae', 'rmse', 'r2', 'wmae', '__source__'}\n",
    "param_series = best_row.drop(labels=non_params)\n",
    "\n",
    "# convert to a clean dict, turning floats like 500.0 → 500\n",
    "best_params = {\n",
    "    k: (int(v) if isinstance(v, (int, float)) and not math.isnan(v) and v.is_integer() else v)\n",
    "    for k, v in param_series.items()\n",
    "    if pd.notnull(v)                           # skip NaNs\n",
    "}\n",
    "\n",
    "\n",
    "best_params"
   ]
  },
  {
   "cell_type": "markdown",
   "id": "d3dbe50e",
   "metadata": {},
   "source": [
    "Train Model with Best Params"
   ]
  },
  {
   "cell_type": "code",
   "execution_count": 211,
   "id": "ec7d1cff",
   "metadata": {
    "execution": {
     "iopub.status.busy": "2025-06-26T22:10:14.503328Z",
     "iopub.status.idle": "2025-06-26T22:10:14.503696Z",
     "shell.execute_reply": "2025-06-26T22:10:14.503543Z",
     "shell.execute_reply.started": "2025-06-26T22:10:14.503527Z"
    },
    "trusted": true
   },
   "outputs": [],
   "source": [
    "%%skip\n",
    "# Rebuild your best‐found model\n",
    "pipe = Pipeline([\n",
    "    (\"scaler\", StandardScaler()),\n",
    "    (\"model\", XGBRegressor(**best_params, random_state=7, n_jobs=-1))\n",
    "])\n",
    "\n",
    "# 1) Fit on the entire training set\n",
    "pipe.fit(X_train, y_train)\n",
    "\n",
    "# 2) Predict on the test set\n",
    "y_pred = pipe.predict(X_test)\n",
    "\n",
    "# 3) Compute standard metrics\n",
    "mae  = mean_absolute_error(y_test, y_pred)\n",
    "rmse = np.sqrt(mean_squared_error(y_test, y_pred))\n",
    "r2   = r2_score(y_test, y_pred)\n",
    "\n",
    "# 4) Compute WMAE (holiday weeks weight=5, others=1)\n",
    "#    assumes you still have `test` DataFrame with 'holiday_name'\n",
    "weights = np.where(test['holiday_name'].notnull(), 5, 1)\n",
    "wmae    = (weights * np.abs(y_test - y_pred)).sum() / weights.sum()\n",
    "\n",
    "# 5) Print them all\n",
    "print(f\"Test MAE:   {mae:.4f}\")\n",
    "print(f\"Test RMSE:  {rmse:.4f}\")\n",
    "print(f\"Test R²:    {r2:.4f}\")\n",
    "print(f\"Test WMAE:  {wmae:.4f}\")"
   ]
  },
  {
   "cell_type": "markdown",
   "id": "1ca6d13f",
   "metadata": {},
   "source": [
    "Check what features were most used"
   ]
  },
  {
   "cell_type": "code",
   "execution_count": 212,
   "id": "21a3cc0e",
   "metadata": {
    "execution": {
     "iopub.status.busy": "2025-06-26T22:10:14.505112Z",
     "iopub.status.idle": "2025-06-26T22:10:14.50556Z",
     "shell.execute_reply": "2025-06-26T22:10:14.505364Z",
     "shell.execute_reply.started": "2025-06-26T22:10:14.505346Z"
    },
    "trusted": true
   },
   "outputs": [],
   "source": [
    "%%skip\n",
    "# grab the fitted LGBM from your pipeline\n",
    "model = pipe.named_steps['model']\n",
    "\n",
    "# make a Series of the importances\n",
    "fi = pd.Series(\n",
    "    model.feature_importances_,\n",
    "    index = X_train.columns\n",
    ").sort_values(ascending=False)\n",
    "\n",
    "# print the top 10\n",
    "print(\"🌳 LightGBM split-gain importances:\")\n",
    "print(fi)\n",
    "\n",
    "# number of times the feature was used by the model"
   ]
  },
  {
   "cell_type": "markdown",
   "id": "762892c9",
   "metadata": {},
   "source": [
    "##### XGBOOST Retrain wihout not used features (Best Model to CSV)"
   ]
  },
  {
   "cell_type": "code",
   "execution_count": 213,
   "id": "2081d449",
   "metadata": {
    "execution": {
     "iopub.status.busy": "2025-06-26T22:10:14.506703Z",
     "iopub.status.idle": "2025-06-26T22:10:14.507018Z",
     "shell.execute_reply": "2025-06-26T22:10:14.506886Z",
     "shell.execute_reply.started": "2025-06-26T22:10:14.506871Z"
    },
    "trusted": true
   },
   "outputs": [],
   "source": [
    "%%skip\n",
    "cutoff  = df_merged.date.max() - pd.Timedelta(weeks=52)\n",
    "train   = df_merged[df_merged.date <= cutoff]\n",
    "test    = df_merged[df_merged.date >  cutoff]\n",
    "\n",
    "drop = [\n",
    "    'weekly_sales','date','holiday_name','pce_healthcare_services'\n",
    "]\n",
    "\n",
    "X_train, y_train = train.drop(columns=drop), train.weekly_sales\n",
    "X_test,  y_test  = test .drop(columns=drop),  test .weekly_sales\n",
    "\n",
    "\n",
    "# Fit model, keep only used features\n",
    "\n",
    "pipe = Pipeline([\n",
    "    (\"scaler\", StandardScaler()),\n",
    "    (\"model\",  XGBRegressor(**best_params, random_state=7, n_jobs=-1))\n",
    "])\n",
    "pipe.fit(X_train, y_train)\n",
    "\n",
    "used_feats = X_train.columns[pipe.named_steps['model'].feature_importances_ > 0]\n",
    "pipe.fit(X_train[used_feats], y_train)\n",
    "\n",
    "\n",
    "# Predict & compute metrics\n",
    "\n",
    "y_pred  = pipe.predict(X_test[used_feats])\n",
    "\n",
    "mae     = mean_absolute_error(y_test, y_pred)\n",
    "rmse    = np.sqrt(mean_squared_error(y_test, y_pred))\n",
    "r2      = r2_score(y_test, y_pred)\n",
    "weights = np.where(test['holiday_name'].notnull(), 5, 1)\n",
    "wmae    = (weights * np.abs(y_test - y_pred)).sum() / weights.sum()\n",
    "\n",
    "\n",
    "row = {\n",
    "    \"model_name\": 'XGBOOST01',\n",
    "    **best_params,\n",
    "    \"mae\":  mae,\n",
    "    \"rmse\": rmse,\n",
    "    \"r2\":   r2,\n",
    "    \"wmae\": wmae\n",
    "}\n",
    "df_best_xgboost = pd.DataFrame([row])\n",
    "\n",
    "df_best_xgboost\n"
   ]
  },
  {
   "cell_type": "code",
   "execution_count": 214,
   "id": "b613d446",
   "metadata": {
    "execution": {
     "iopub.status.busy": "2025-06-26T22:10:14.508079Z",
     "iopub.status.idle": "2025-06-26T22:10:14.508367Z",
     "shell.execute_reply": "2025-06-26T22:10:14.508223Z",
     "shell.execute_reply.started": "2025-06-26T22:10:14.50821Z"
    },
    "trusted": true
   },
   "outputs": [],
   "source": [
    "%%skip\n",
    "# to merge new best model : \n",
    "results_df = pd.concat([df_best_xgboost, df_best_models], ignore_index=True)"
   ]
  },
  {
   "cell_type": "code",
   "execution_count": 215,
   "id": "d8361eaa",
   "metadata": {
    "execution": {
     "iopub.status.busy": "2025-06-26T22:10:14.509364Z",
     "iopub.status.idle": "2025-06-26T22:10:14.509706Z",
     "shell.execute_reply": "2025-06-26T22:10:14.509582Z",
     "shell.execute_reply.started": "2025-06-26T22:10:14.509565Z"
    },
    "trusted": true
   },
   "outputs": [],
   "source": [
    "%%skip\n",
    "df_best_models = results_df\n",
    "df_best_models.to_csv('csv_files/ml_train_data/df_best_models.csv', index=None)\n"
   ]
  },
  {
   "cell_type": "code",
   "execution_count": 216,
   "id": "665cb3f8",
   "metadata": {
    "execution": {
     "iopub.status.busy": "2025-06-26T22:10:14.511123Z",
     "iopub.status.idle": "2025-06-26T22:10:14.511498Z",
     "shell.execute_reply": "2025-06-26T22:10:14.511324Z",
     "shell.execute_reply.started": "2025-06-26T22:10:14.511282Z"
    },
    "trusted": true
   },
   "outputs": [],
   "source": [
    "df_best_models = pd.read_csv('csv_files/ml_train_data/df_best_models.csv')"
   ]
  },
  {
   "cell_type": "code",
   "execution_count": 217,
   "id": "b47381d1",
   "metadata": {
    "execution": {
     "iopub.status.busy": "2025-06-26T22:10:14.512678Z",
     "iopub.status.idle": "2025-06-26T22:10:14.512989Z",
     "shell.execute_reply": "2025-06-26T22:10:14.512862Z",
     "shell.execute_reply.started": "2025-06-26T22:10:14.512848Z"
    },
    "trusted": true
   },
   "outputs": [
    {
     "data": {
      "application/vnd.microsoft.datawrangler.viewer.v0+json": {
       "columns": [
        {
         "name": "index",
         "rawType": "int64",
         "type": "integer"
        },
        {
         "name": "model_name",
         "rawType": "object",
         "type": "string"
        },
        {
         "name": "subsample",
         "rawType": "float64",
         "type": "float"
        },
        {
         "name": "reg_lambda",
         "rawType": "float64",
         "type": "float"
        },
        {
         "name": "reg_alpha",
         "rawType": "float64",
         "type": "float"
        },
        {
         "name": "n_estimators",
         "rawType": "int64",
         "type": "integer"
        },
        {
         "name": "min_child_weight",
         "rawType": "float64",
         "type": "float"
        },
        {
         "name": "max_depth",
         "rawType": "int64",
         "type": "integer"
        },
        {
         "name": "learning_rate",
         "rawType": "float64",
         "type": "float"
        },
        {
         "name": "gamma",
         "rawType": "float64",
         "type": "float"
        },
        {
         "name": "colsample_bytree",
         "rawType": "float64",
         "type": "float"
        },
        {
         "name": "mae",
         "rawType": "float64",
         "type": "float"
        },
        {
         "name": "rmse",
         "rawType": "float64",
         "type": "float"
        },
        {
         "name": "r2",
         "rawType": "float64",
         "type": "float"
        },
        {
         "name": "wmae",
         "rawType": "float64",
         "type": "float"
        },
        {
         "name": "num_leaves",
         "rawType": "float64",
         "type": "float"
        },
        {
         "name": "min_split_gain",
         "rawType": "float64",
         "type": "float"
        },
        {
         "name": "min_child_samples",
         "rawType": "float64",
         "type": "float"
        },
        {
         "name": "lambda_l2",
         "rawType": "float64",
         "type": "float"
        },
        {
         "name": "lambda_l1",
         "rawType": "float64",
         "type": "float"
        },
        {
         "name": "feature_fraction",
         "rawType": "float64",
         "type": "float"
        },
        {
         "name": "bagging_freq",
         "rawType": "float64",
         "type": "float"
        },
        {
         "name": "bagging_fraction",
         "rawType": "float64",
         "type": "float"
        }
       ],
       "ref": "eb159350-c159-4373-82df-1c916534bc03",
       "rows": [
        [
         "0",
         "XGBOOST01",
         "1.0",
         "1.0",
         "0.0",
         "200",
         "0.05",
         "10",
         "0.05",
         "0.001",
         "1.0",
         "1728.2627191203906",
         "4776.013315471553",
         "0.9577378863132928",
         "1728.262719120391",
         null,
         null,
         null,
         null,
         null,
         null,
         null,
         null
        ],
        [
         "1",
         "LGBM01",
         null,
         null,
         null,
         "500",
         null,
         "0",
         "0.1",
         null,
         null,
         "1721.3211933098928",
         "4024.139123952554",
         "0.9699968999742844",
         "1721.3211933098933",
         "150.0",
         "3.0",
         "1.0",
         "6.0",
         "0.1",
         "1.0",
         "0.0",
         "1.0"
        ]
       ],
       "shape": {
        "columns": 22,
        "rows": 2
       }
      },
      "text/html": [
       "<div>\n",
       "<style scoped>\n",
       "    .dataframe tbody tr th:only-of-type {\n",
       "        vertical-align: middle;\n",
       "    }\n",
       "\n",
       "    .dataframe tbody tr th {\n",
       "        vertical-align: top;\n",
       "    }\n",
       "\n",
       "    .dataframe thead th {\n",
       "        text-align: right;\n",
       "    }\n",
       "</style>\n",
       "<table border=\"1\" class=\"dataframe\">\n",
       "  <thead>\n",
       "    <tr style=\"text-align: right;\">\n",
       "      <th></th>\n",
       "      <th>model_name</th>\n",
       "      <th>subsample</th>\n",
       "      <th>reg_lambda</th>\n",
       "      <th>reg_alpha</th>\n",
       "      <th>n_estimators</th>\n",
       "      <th>min_child_weight</th>\n",
       "      <th>max_depth</th>\n",
       "      <th>learning_rate</th>\n",
       "      <th>gamma</th>\n",
       "      <th>colsample_bytree</th>\n",
       "      <th>...</th>\n",
       "      <th>r2</th>\n",
       "      <th>wmae</th>\n",
       "      <th>num_leaves</th>\n",
       "      <th>min_split_gain</th>\n",
       "      <th>min_child_samples</th>\n",
       "      <th>lambda_l2</th>\n",
       "      <th>lambda_l1</th>\n",
       "      <th>feature_fraction</th>\n",
       "      <th>bagging_freq</th>\n",
       "      <th>bagging_fraction</th>\n",
       "    </tr>\n",
       "  </thead>\n",
       "  <tbody>\n",
       "    <tr>\n",
       "      <th>0</th>\n",
       "      <td>XGBOOST01</td>\n",
       "      <td>1.0</td>\n",
       "      <td>1.0</td>\n",
       "      <td>0.0</td>\n",
       "      <td>200</td>\n",
       "      <td>0.05</td>\n",
       "      <td>10</td>\n",
       "      <td>0.05</td>\n",
       "      <td>0.001</td>\n",
       "      <td>1.0</td>\n",
       "      <td>...</td>\n",
       "      <td>0.957738</td>\n",
       "      <td>1728.262719</td>\n",
       "      <td>NaN</td>\n",
       "      <td>NaN</td>\n",
       "      <td>NaN</td>\n",
       "      <td>NaN</td>\n",
       "      <td>NaN</td>\n",
       "      <td>NaN</td>\n",
       "      <td>NaN</td>\n",
       "      <td>NaN</td>\n",
       "    </tr>\n",
       "    <tr>\n",
       "      <th>1</th>\n",
       "      <td>LGBM01</td>\n",
       "      <td>NaN</td>\n",
       "      <td>NaN</td>\n",
       "      <td>NaN</td>\n",
       "      <td>500</td>\n",
       "      <td>NaN</td>\n",
       "      <td>0</td>\n",
       "      <td>0.10</td>\n",
       "      <td>NaN</td>\n",
       "      <td>NaN</td>\n",
       "      <td>...</td>\n",
       "      <td>0.969997</td>\n",
       "      <td>1721.321193</td>\n",
       "      <td>150.0</td>\n",
       "      <td>3.0</td>\n",
       "      <td>1.0</td>\n",
       "      <td>6.0</td>\n",
       "      <td>0.1</td>\n",
       "      <td>1.0</td>\n",
       "      <td>0.0</td>\n",
       "      <td>1.0</td>\n",
       "    </tr>\n",
       "  </tbody>\n",
       "</table>\n",
       "<p>2 rows × 22 columns</p>\n",
       "</div>"
      ],
      "text/plain": [
       "  model_name  subsample  reg_lambda  reg_alpha  n_estimators  \\\n",
       "0  XGBOOST01        1.0         1.0        0.0           200   \n",
       "1     LGBM01        NaN         NaN        NaN           500   \n",
       "\n",
       "   min_child_weight  max_depth  learning_rate  gamma  colsample_bytree  ...  \\\n",
       "0              0.05         10           0.05  0.001               1.0  ...   \n",
       "1               NaN          0           0.10    NaN               NaN  ...   \n",
       "\n",
       "         r2         wmae  num_leaves  min_split_gain  min_child_samples  \\\n",
       "0  0.957738  1728.262719         NaN             NaN                NaN   \n",
       "1  0.969997  1721.321193       150.0             3.0                1.0   \n",
       "\n",
       "   lambda_l2  lambda_l1  feature_fraction  bagging_freq  bagging_fraction  \n",
       "0        NaN        NaN               NaN           NaN               NaN  \n",
       "1        6.0        0.1               1.0           0.0               1.0  \n",
       "\n",
       "[2 rows x 22 columns]"
      ]
     },
     "execution_count": 217,
     "metadata": {},
     "output_type": "execute_result"
    }
   ],
   "source": [
    "df_best_models"
   ]
  },
  {
   "cell_type": "markdown",
   "id": "6243d52a",
   "metadata": {},
   "source": [
    "### CatBoost  Hyper Parameters Search / CV Estimate (used to choose hyper-parameters faster)"
   ]
  },
  {
   "cell_type": "code",
   "execution_count": 218,
   "id": "0ef14f4d",
   "metadata": {
    "execution": {
     "iopub.status.busy": "2025-06-26T22:10:14.514147Z",
     "iopub.status.idle": "2025-06-26T22:10:14.514482Z",
     "shell.execute_reply": "2025-06-26T22:10:14.514328Z",
     "shell.execute_reply.started": "2025-06-26T22:10:14.514318Z"
    },
    "trusted": true
   },
   "outputs": [],
   "source": [
    "%%skip\n",
    "def cat_pipeline_factory(params):\n",
    "    \"\"\"Return a (scaler → CatBoost) pipeline with the given hyper-params.\"\"\"\n",
    "    return Pipeline([\n",
    "        (\"scaler\", StandardScaler()),                # numeric features only; harmless for CatBoost\n",
    "        (\"model\",  CatBoostRegressor(\n",
    "                        **params,\n",
    "                        random_state=7,\n",
    "                        verbose=0,                  # silence per-iteration logging\n",
    "                    )\n",
    "        )\n",
    "    ])\n",
    "\n",
    "# Wide, balanced CatBoost hyper-parameter grid\n",
    "\n",
    "param_grid = {\n",
    "    # core learning-rate / depth / boosting length\n",
    "    'iterations'        : [ 500, 1000, 1500, 2000 ],\n",
    "    'depth'             : [ 4, 6, 8, 10 ],\n",
    "    'learning_rate'     : [ 0.01, 0.03, 0.1 ],\n",
    "    \n",
    "    # regularisation & tree shape\n",
    "    'l2_leaf_reg'       : [ 1, 3, 5, 10 ],\n",
    "    'min_data_in_leaf'  : [ 1, 5, 10, 20 ],\n",
    "    'random_strength'   : [ 0, 1, 5, 10 ],\n",
    "    'bagging_temperature': [ 0, 0.5, 1, 2 ],\n",
    "    \n",
    "    # sampling for rows / columns\n",
    "    'subsample'         : [ 0.6, 0.8, 1.0 ],\n",
    "    'rsm'               : [ 0.6, 0.8, 1.0 ],        # column sample\n",
    "       \n",
    "    # other structural knobs\n",
    "    'grow_policy'       : [ 'SymmetricTree', 'Depthwise', 'Lossguide' ],\n",
    "    'border_count'      : [ 32, 64, 128, 254 ],\n",
    "    'one_hot_max_size'  : [ 2, 5, 10 ],\n",
    "    \n",
    "    # objective variants (optional: restrict to one if you prefer)\n",
    "    'loss_function'     : [ 'MAE', 'RMSE']\n",
    "}\n",
    "\n",
    "# Random search trainer setup\n",
    "\n",
    "trainer = ModelTrainer(\n",
    "    X               = X_train,\n",
    "    y               = y_train,\n",
    "    model_factory   = cat_pipeline_factory,\n",
    "    search          = 'random',\n",
    "    param_grid      = param_grid,\n",
    "    n_iter          = 90,                          # ← wide but balanced exploration\n",
    "    cv_splitter     = TimeSeriesSplit(n_splits=3),\n",
    "    custom_metrics  = {'wmae': wmae_custom},\n",
    "    log_path        = 'csv_files/ml_train_data/cat_random_wmae01.csv',\n",
    "    model_name      = 'CAT_WMAE',\n",
    "    problem_type    = 'reg',\n",
    "    n_jobs          = -1,\n",
    "    random_state    = 7\n",
    ")\n",
    "\n",
    "\n",
    "# Run the search\n",
    "\n",
    "best_params, best_score = trainer.train()\n",
    "\n",
    "print(\" Best WMAE: \", best_score)\n",
    "\n",
    "\n",
    "# Clean up\n",
    "\n",
    "trainer.csv_file.close()\n",
    "del trainer\n",
    "import gc; gc.collect()\n"
   ]
  },
  {
   "cell_type": "code",
   "execution_count": null,
   "id": "49586d0e",
   "metadata": {
    "execution": {
     "iopub.status.busy": "2025-06-26T22:10:14.515291Z",
     "iopub.status.idle": "2025-06-26T22:10:14.515612Z",
     "shell.execute_reply": "2025-06-26T22:10:14.515491Z",
     "shell.execute_reply.started": "2025-06-26T22:10:14.515476Z"
    },
    "trusted": true
   },
   "outputs": [
    {
     "data": {
      "application/vnd.microsoft.datawrangler.viewer.v0+json": {
       "columns": [
        {
         "name": "index",
         "rawType": "int64",
         "type": "integer"
        },
        {
         "name": "model_name",
         "rawType": "object",
         "type": "string"
        },
        {
         "name": "param_json",
         "rawType": "object",
         "type": "string"
        },
        {
         "name": "mae",
         "rawType": "float64",
         "type": "float"
        },
        {
         "name": "rmse",
         "rawType": "float64",
         "type": "float"
        },
        {
         "name": "r2",
         "rawType": "float64",
         "type": "float"
        },
        {
         "name": "wmae",
         "rawType": "float64",
         "type": "float"
        }
       ],
       "ref": "ba33bb6b-1298-451e-9da3-d39a14f39fe8",
       "rows": [
        [
         "0",
         "CAT_WMAE",
         "{\"subsample\": 0.6, \"rsm\": 0.8, \"random_strength\": 0, \"one_hot_max_size\": 2, \"min_data_in_leaf\": 5, \"loss_function\": \"MAE\", \"learning_rate\": 0.01, \"l2_leaf_reg\": 5, \"iterations\": 500, \"grow_policy\": \"Lossguide\", \"depth\": 4, \"border_count\": 64, \"bagging_temperature\": 0}",
         "1284.181771786842",
         "4653.347899680699",
         "0.9532441779909524",
         "1440.3039365812108"
        ],
        [
         "1",
         "CAT_WMAE",
         "{\"subsample\": 0.6, \"rsm\": 0.6, \"random_strength\": 0, \"one_hot_max_size\": 2, \"min_data_in_leaf\": 20, \"loss_function\": \"MAE\", \"learning_rate\": 0.1, \"l2_leaf_reg\": 5, \"iterations\": 1000, \"grow_policy\": \"Lossguide\", \"depth\": 8, \"border_count\": 128, \"bagging_temperature\": 0.5}",
         "904.3333747514658",
         "3039.627069431114",
         "0.9798829756224986",
         "939.3397045346404"
        ],
        [
         "2",
         "CAT_WMAE",
         "{\"subsample\": 0.8, \"rsm\": 0.6, \"random_strength\": 0, \"one_hot_max_size\": 10, \"min_data_in_leaf\": 1, \"loss_function\": \"RMSE\", \"learning_rate\": 0.03, \"l2_leaf_reg\": 5, \"iterations\": 1000, \"grow_policy\": \"Depthwise\", \"depth\": 6, \"border_count\": 64, \"bagging_temperature\": 0.5}",
         "1128.3040341404449",
         "3678.1324389240126",
         "0.9700492414041288",
         "1196.7996686627664"
        ],
        [
         "3",
         "CAT_WMAE",
         "{\"subsample\": 0.6, \"rsm\": 1.0, \"random_strength\": 0, \"one_hot_max_size\": 2, \"min_data_in_leaf\": 1, \"loss_function\": \"RMSE\", \"learning_rate\": 0.03, \"l2_leaf_reg\": 10, \"iterations\": 1000, \"grow_policy\": \"SymmetricTree\", \"depth\": 6, \"border_count\": 64, \"bagging_temperature\": 0.5}",
         "1180.0278622539556",
         "3486.8612385519864",
         "0.9736304492106116",
         "1253.5790303338676"
        ],
        [
         "4",
         "CAT_WMAE",
         "{\"subsample\": 0.6, \"rsm\": 0.6, \"random_strength\": 10, \"one_hot_max_size\": 2, \"min_data_in_leaf\": 10, \"loss_function\": \"RMSE\", \"learning_rate\": 0.03, \"l2_leaf_reg\": 5, \"iterations\": 500, \"grow_policy\": \"Depthwise\", \"depth\": 10, \"border_count\": 254, \"bagging_temperature\": 0.5}",
         "1022.4055122576124",
         "2495.441470926753",
         "0.9864304669972944",
         "1069.1367572653285"
        ],
        [
         "5",
         "CAT_WMAE",
         "{\"subsample\": 1.0, \"rsm\": 1.0, \"random_strength\": 10, \"one_hot_max_size\": 10, \"min_data_in_leaf\": 10, \"loss_function\": \"RMSE\", \"learning_rate\": 0.01, \"l2_leaf_reg\": 10, \"iterations\": 2000, \"grow_policy\": \"SymmetricTree\", \"depth\": 6, \"border_count\": 128, \"bagging_temperature\": 2}",
         "1087.3805420027518",
         "2800.370559559187",
         "0.9829293213275148",
         "1158.8874088099035"
        ],
        [
         "6",
         "CAT_WMAE",
         "{\"subsample\": 0.6, \"rsm\": 0.8, \"random_strength\": 0, \"one_hot_max_size\": 10, \"min_data_in_leaf\": 5, \"loss_function\": \"MAE\", \"learning_rate\": 0.03, \"l2_leaf_reg\": 1, \"iterations\": 2000, \"grow_policy\": \"Lossguide\", \"depth\": 10, \"border_count\": 128, \"bagging_temperature\": 0.5}",
         "908.4820408393564",
         "3084.3362095464454",
         "0.9792392673128996",
         "941.0003314781428"
        ],
        [
         "7",
         "CAT_WMAE",
         "{\"subsample\": 0.8, \"rsm\": 0.6, \"random_strength\": 5, \"one_hot_max_size\": 10, \"min_data_in_leaf\": 5, \"loss_function\": \"MAE\", \"learning_rate\": 0.1, \"l2_leaf_reg\": 10, \"iterations\": 1000, \"grow_policy\": \"Depthwise\", \"depth\": 6, \"border_count\": 32, \"bagging_temperature\": 0.5}",
         "1401.626471910664",
         "5132.835564330201",
         "0.9433388843232114",
         "1482.7187900827882"
        ],
        [
         "8",
         "CAT_WMAE",
         "{\"subsample\": 0.6, \"rsm\": 1.0, \"random_strength\": 5, \"one_hot_max_size\": 10, \"min_data_in_leaf\": 5, \"loss_function\": \"RMSE\", \"learning_rate\": 0.03, \"l2_leaf_reg\": 1, \"iterations\": 2000, \"grow_policy\": \"SymmetricTree\", \"depth\": 6, \"border_count\": 32, \"bagging_temperature\": 2}",
         "1429.149431385761",
         "4627.840349511954",
         "0.9535623525315896",
         "1510.655887833781"
        ],
        [
         "9",
         "CAT_WMAE",
         "{\"subsample\": 0.6, \"rsm\": 1.0, \"random_strength\": 10, \"one_hot_max_size\": 5, \"min_data_in_leaf\": 20, \"loss_function\": \"RMSE\", \"learning_rate\": 0.03, \"l2_leaf_reg\": 3, \"iterations\": 500, \"grow_policy\": \"Depthwise\", \"depth\": 10, \"border_count\": 254, \"bagging_temperature\": 1}",
         "1007.1557693783326",
         "2499.708879959637",
         "0.9864130317465784",
         "1054.3085478981625"
        ],
        [
         "10",
         "CAT_WMAE",
         "{\"subsample\": 0.6, \"rsm\": 0.6, \"random_strength\": 5, \"one_hot_max_size\": 5, \"min_data_in_leaf\": 10, \"loss_function\": \"MAE\", \"learning_rate\": 0.03, \"l2_leaf_reg\": 3, \"iterations\": 1500, \"grow_policy\": \"Lossguide\", \"depth\": 10, \"border_count\": 254, \"bagging_temperature\": 1}",
         "892.8216745567598",
         "2966.8939612541712",
         "0.9806812423246218",
         "928.1731555314152"
        ],
        [
         "11",
         "CAT_WMAE",
         "{\"subsample\": 0.8, \"rsm\": 0.6, \"random_strength\": 5, \"one_hot_max_size\": 5, \"min_data_in_leaf\": 1, \"loss_function\": \"MAE\", \"learning_rate\": 0.1, \"l2_leaf_reg\": 3, \"iterations\": 1500, \"grow_policy\": \"Lossguide\", \"depth\": 8, \"border_count\": 64, \"bagging_temperature\": 0}",
         "1055.3264206390656",
         "3657.109069646056",
         "0.9711034331453776",
         "1104.952865406599"
        ],
        [
         "12",
         "CAT_WMAE",
         "{\"subsample\": 0.6, \"rsm\": 1.0, \"random_strength\": 5, \"one_hot_max_size\": 10, \"min_data_in_leaf\": 10, \"loss_function\": \"RMSE\", \"learning_rate\": 0.03, \"l2_leaf_reg\": 1, \"iterations\": 500, \"grow_policy\": \"Lossguide\", \"depth\": 8, \"border_count\": 64, \"bagging_temperature\": 1}",
         "1229.568977073229",
         "3634.248436152626",
         "0.9712157210449952",
         "1309.1756430522053"
        ],
        [
         "13",
         "CAT_WMAE",
         "{\"subsample\": 1.0, \"rsm\": 0.6, \"random_strength\": 10, \"one_hot_max_size\": 5, \"min_data_in_leaf\": 10, \"loss_function\": \"MAE\", \"learning_rate\": 0.03, \"l2_leaf_reg\": 10, \"iterations\": 1000, \"grow_policy\": \"Lossguide\", \"depth\": 10, \"border_count\": 128, \"bagging_temperature\": 0.5}",
         "986.7528760650029",
         "3543.210806634142",
         "0.9726578361778014",
         "1051.2335974503335"
        ],
        [
         "14",
         "CAT_WMAE",
         "{\"subsample\": 1.0, \"rsm\": 0.6, \"random_strength\": 0, \"one_hot_max_size\": 5, \"min_data_in_leaf\": 10, \"loss_function\": \"RMSE\", \"learning_rate\": 0.1, \"l2_leaf_reg\": 1, \"iterations\": 500, \"grow_policy\": \"SymmetricTree\", \"depth\": 4, \"border_count\": 254, \"bagging_temperature\": 2}",
         "1020.9561975305204",
         "2624.4492460277384",
         "0.9850386621814392",
         "1072.590381152805"
        ],
        [
         "15",
         "CAT_WMAE",
         "{\"subsample\": 1.0, \"rsm\": 0.8, \"random_strength\": 1, \"one_hot_max_size\": 2, \"min_data_in_leaf\": 5, \"loss_function\": \"RMSE\", \"learning_rate\": 0.03, \"l2_leaf_reg\": 3, \"iterations\": 1000, \"grow_policy\": \"Depthwise\", \"depth\": 4, \"border_count\": 32, \"bagging_temperature\": 2}",
         "1509.945497267366",
         "4821.130778989252",
         "0.950001823218599",
         "1610.6152641547308"
        ],
        [
         "16",
         "CAT_WMAE",
         "{\"subsample\": 1.0, \"rsm\": 1.0, \"random_strength\": 5, \"one_hot_max_size\": 10, \"min_data_in_leaf\": 10, \"loss_function\": \"MAE\", \"learning_rate\": 0.03, \"l2_leaf_reg\": 5, \"iterations\": 500, \"grow_policy\": \"Lossguide\", \"depth\": 6, \"border_count\": 254, \"bagging_temperature\": 0.5}",
         "1041.5992262376362",
         "3398.134764291766",
         "0.9746883160535414",
         "1111.2267901945963"
        ],
        [
         "17",
         "CAT_WMAE",
         "{\"subsample\": 0.6, \"rsm\": 1.0, \"random_strength\": 5, \"one_hot_max_size\": 2, \"min_data_in_leaf\": 1, \"loss_function\": \"RMSE\", \"learning_rate\": 0.1, \"l2_leaf_reg\": 1, \"iterations\": 1500, \"grow_policy\": \"Lossguide\", \"depth\": 6, \"border_count\": 128, \"bagging_temperature\": 0}",
         "949.8044719722787",
         "2758.093875793837",
         "0.983578744604282",
         "992.9739052853188"
        ],
        [
         "18",
         "CAT_WMAE",
         "{\"subsample\": 0.6, \"rsm\": 1.0, \"random_strength\": 1, \"one_hot_max_size\": 5, \"min_data_in_leaf\": 20, \"loss_function\": \"RMSE\", \"learning_rate\": 0.03, \"l2_leaf_reg\": 3, \"iterations\": 500, \"grow_policy\": \"Depthwise\", \"depth\": 10, \"border_count\": 254, \"bagging_temperature\": 2}",
         "875.9965759196857",
         "2414.059544857364",
         "0.9873804767060844",
         "904.1008512707313"
        ],
        [
         "19",
         "CAT_WMAE",
         "{\"subsample\": 0.6, \"rsm\": 1.0, \"random_strength\": 0, \"one_hot_max_size\": 2, \"min_data_in_leaf\": 1, \"loss_function\": \"MAE\", \"learning_rate\": 0.1, \"l2_leaf_reg\": 3, \"iterations\": 1500, \"grow_policy\": \"Depthwise\", \"depth\": 8, \"border_count\": 254, \"bagging_temperature\": 0}",
         "849.5050923015104",
         "2478.615220275896",
         "0.9866548129966278",
         "872.7607980023535"
        ],
        [
         "20",
         "CAT_WMAE",
         "{\"subsample\": 1.0, \"rsm\": 0.8, \"random_strength\": 10, \"one_hot_max_size\": 10, \"min_data_in_leaf\": 5, \"loss_function\": \"RMSE\", \"learning_rate\": 0.01, \"l2_leaf_reg\": 5, \"iterations\": 2000, \"grow_policy\": \"Depthwise\", \"depth\": 10, \"border_count\": 32, \"bagging_temperature\": 2}",
         "1419.1432738737894",
         "4647.551076813281",
         "0.9532326584925118",
         "1493.617715174768"
        ],
        [
         "21",
         "CAT_WMAE",
         "{\"subsample\": 0.8, \"rsm\": 1.0, \"random_strength\": 1, \"one_hot_max_size\": 2, \"min_data_in_leaf\": 1, \"loss_function\": \"MAE\", \"learning_rate\": 0.03, \"l2_leaf_reg\": 5, \"iterations\": 500, \"grow_policy\": \"Lossguide\", \"depth\": 10, \"border_count\": 64, \"bagging_temperature\": 2}",
         "1139.639745611444",
         "4188.475642234018",
         "0.9620284394655012",
         "1204.136354660678"
        ],
        [
         "22",
         "CAT_WMAE",
         "{\"subsample\": 1.0, \"rsm\": 0.6, \"random_strength\": 1, \"one_hot_max_size\": 10, \"min_data_in_leaf\": 5, \"loss_function\": \"MAE\", \"learning_rate\": 0.1, \"l2_leaf_reg\": 1, \"iterations\": 500, \"grow_policy\": \"Lossguide\", \"depth\": 8, \"border_count\": 32, \"bagging_temperature\": 1}",
         "1406.171813547841",
         "5148.632206340284",
         "0.9430266139826994",
         "1499.950721552382"
        ],
        [
         "23",
         "CAT_WMAE",
         "{\"subsample\": 0.8, \"rsm\": 0.6, \"random_strength\": 5, \"one_hot_max_size\": 5, \"min_data_in_leaf\": 1, \"loss_function\": \"RMSE\", \"learning_rate\": 0.01, \"l2_leaf_reg\": 3, \"iterations\": 2000, \"grow_policy\": \"SymmetricTree\", \"depth\": 8, \"border_count\": 128, \"bagging_temperature\": 0.5}",
         "1007.0611119897064",
         "2630.225272216103",
         "0.9849704067327082",
         "1062.6304125942418"
        ],
        [
         "24",
         "CAT_WMAE",
         "{\"subsample\": 0.8, \"rsm\": 0.8, \"random_strength\": 0, \"one_hot_max_size\": 5, \"min_data_in_leaf\": 20, \"loss_function\": \"MAE\", \"learning_rate\": 0.03, \"l2_leaf_reg\": 10, \"iterations\": 1000, \"grow_policy\": \"Lossguide\", \"depth\": 8, \"border_count\": 32, \"bagging_temperature\": 0}",
         "1395.016370307085",
         "5335.340351418185",
         "0.9387434100536092",
         "1487.186726652957"
        ],
        [
         "25",
         "CAT_WMAE",
         "{\"subsample\": 1.0, \"rsm\": 0.8, \"random_strength\": 10, \"one_hot_max_size\": 10, \"min_data_in_leaf\": 10, \"loss_function\": \"MAE\", \"learning_rate\": 0.03, \"l2_leaf_reg\": 10, \"iterations\": 1500, \"grow_policy\": \"Depthwise\", \"depth\": 4, \"border_count\": 254, \"bagging_temperature\": 0}",
         "934.6734133529926",
         "3068.8356768926683",
         "0.9791413529748024",
         "976.970881592058"
        ],
        [
         "26",
         "CAT_WMAE",
         "{\"subsample\": 1.0, \"rsm\": 1.0, \"random_strength\": 10, \"one_hot_max_size\": 10, \"min_data_in_leaf\": 1, \"loss_function\": \"MAE\", \"learning_rate\": 0.1, \"l2_leaf_reg\": 3, \"iterations\": 1500, \"grow_policy\": \"SymmetricTree\", \"depth\": 10, \"border_count\": 32, \"bagging_temperature\": 2}",
         "1422.8913658543563",
         "5038.3586507835125",
         "0.9451255089160544",
         "1502.1114438142029"
        ],
        [
         "27",
         "CAT_WMAE",
         "{\"subsample\": 0.8, \"rsm\": 0.8, \"random_strength\": 10, \"one_hot_max_size\": 5, \"min_data_in_leaf\": 20, \"loss_function\": \"RMSE\", \"learning_rate\": 0.01, \"l2_leaf_reg\": 1, \"iterations\": 500, \"grow_policy\": \"Depthwise\", \"depth\": 6, \"border_count\": 32, \"bagging_temperature\": 0.5}",
         "1670.4196935122975",
         "4829.127157468819",
         "0.9498069000020274",
         "1806.6850164761215"
        ],
        [
         "28",
         "CAT_WMAE",
         "{\"subsample\": 0.6, \"rsm\": 0.6, \"random_strength\": 5, \"one_hot_max_size\": 10, \"min_data_in_leaf\": 1, \"loss_function\": \"MAE\", \"learning_rate\": 0.01, \"l2_leaf_reg\": 3, \"iterations\": 1000, \"grow_policy\": \"Lossguide\", \"depth\": 10, \"border_count\": 32, \"bagging_temperature\": 1}",
         "1510.072423174537",
         "5412.985181543957",
         "0.9366294632465202",
         "1658.0222476279205"
        ],
        [
         "29",
         "CAT_WMAE",
         "{\"subsample\": 0.8, \"rsm\": 0.8, \"random_strength\": 5, \"one_hot_max_size\": 2, \"min_data_in_leaf\": 1, \"loss_function\": \"RMSE\", \"learning_rate\": 0.1, \"l2_leaf_reg\": 1, \"iterations\": 2000, \"grow_policy\": \"SymmetricTree\", \"depth\": 10, \"border_count\": 254, \"bagging_temperature\": 0}",
         "871.9529132882816",
         "2429.369620336828",
         "0.987199301927742",
         "897.7437533834685"
        ],
        [
         "30",
         "CAT_WMAE",
         "{\"subsample\": 0.6, \"rsm\": 1.0, \"random_strength\": 1, \"one_hot_max_size\": 10, \"min_data_in_leaf\": 5, \"loss_function\": \"RMSE\", \"learning_rate\": 0.1, \"l2_leaf_reg\": 10, \"iterations\": 2000, \"grow_policy\": \"Lossguide\", \"depth\": 10, \"border_count\": 254, \"bagging_temperature\": 1}",
         "874.8183321435714",
         "2494.2523029250606",
         "0.9865376593769448",
         "903.1331759309504"
        ],
        [
         "31",
         "CAT_WMAE",
         "{\"subsample\": 1.0, \"rsm\": 1.0, \"random_strength\": 0, \"one_hot_max_size\": 5, \"min_data_in_leaf\": 1, \"loss_function\": \"RMSE\", \"learning_rate\": 0.1, \"l2_leaf_reg\": 3, \"iterations\": 1500, \"grow_policy\": \"SymmetricTree\", \"depth\": 10, \"border_count\": 64, \"bagging_temperature\": 0.5}",
         "1109.990318285604",
         "3658.861804946629",
         "0.9706680407611684",
         "1161.313830938577"
        ],
        [
         "32",
         "CAT_WMAE",
         "{\"subsample\": 0.8, \"rsm\": 1.0, \"random_strength\": 1, \"one_hot_max_size\": 5, \"min_data_in_leaf\": 10, \"loss_function\": \"MAE\", \"learning_rate\": 0.1, \"l2_leaf_reg\": 10, \"iterations\": 500, \"grow_policy\": \"SymmetricTree\", \"depth\": 6, \"border_count\": 32, \"bagging_temperature\": 0.5}",
         "1386.5996331481783",
         "5282.176988105992",
         "0.9399779415321696",
         "1477.2670283803152"
        ],
        [
         "33",
         "CAT_WMAE",
         "{\"subsample\": 0.8, \"rsm\": 1.0, \"random_strength\": 0, \"one_hot_max_size\": 2, \"min_data_in_leaf\": 10, \"loss_function\": \"MAE\", \"learning_rate\": 0.01, \"l2_leaf_reg\": 10, \"iterations\": 2000, \"grow_policy\": \"SymmetricTree\", \"depth\": 6, \"border_count\": 128, \"bagging_temperature\": 0}",
         "992.6163418090636",
         "3534.6294852782507",
         "0.9726276989089984",
         "1043.0473660461955"
        ],
        [
         "34",
         "CAT_WMAE",
         "{\"subsample\": 0.8, \"rsm\": 1.0, \"random_strength\": 5, \"one_hot_max_size\": 5, \"min_data_in_leaf\": 10, \"loss_function\": \"RMSE\", \"learning_rate\": 0.03, \"l2_leaf_reg\": 3, \"iterations\": 1500, \"grow_policy\": \"Lossguide\", \"depth\": 4, \"border_count\": 32, \"bagging_temperature\": 1}",
         "1505.7068371987325",
         "4868.177436322899",
         "0.9488658757822184",
         "1603.8879620928572"
        ],
        [
         "35",
         "CAT_WMAE",
         "{\"subsample\": 0.8, \"rsm\": 1.0, \"random_strength\": 1, \"one_hot_max_size\": 10, \"min_data_in_leaf\": 1, \"loss_function\": \"MAE\", \"learning_rate\": 0.03, \"l2_leaf_reg\": 1, \"iterations\": 2000, \"grow_policy\": \"Lossguide\", \"depth\": 6, \"border_count\": 254, \"bagging_temperature\": 2}",
         "861.8235181761161",
         "2776.9494246048166",
         "0.9831114144743206",
         "879.9117397382624"
        ],
        [
         "36",
         "CAT_WMAE",
         "{\"subsample\": 1.0, \"rsm\": 0.8, \"random_strength\": 10, \"one_hot_max_size\": 10, \"min_data_in_leaf\": 1, \"loss_function\": \"RMSE\", \"learning_rate\": 0.01, \"l2_leaf_reg\": 1, \"iterations\": 1000, \"grow_policy\": \"Depthwise\", \"depth\": 4, \"border_count\": 64, \"bagging_temperature\": 2}",
         "1383.0270166478667",
         "3860.3437728128833",
         "0.9677931641291828",
         "1510.2937689490898"
        ],
        [
         "37",
         "CAT_WMAE",
         "{\"subsample\": 0.8, \"rsm\": 0.6, \"random_strength\": 5, \"one_hot_max_size\": 5, \"min_data_in_leaf\": 1, \"loss_function\": \"MAE\", \"learning_rate\": 0.03, \"l2_leaf_reg\": 3, \"iterations\": 1500, \"grow_policy\": \"Lossguide\", \"depth\": 6, \"border_count\": 254, \"bagging_temperature\": 0.5}",
         "894.3550953365458",
         "2913.3269001549397",
         "0.9814154513406996",
         "929.1425038742622"
        ],
        [
         "38",
         "CAT_WMAE",
         "{\"subsample\": 1.0, \"rsm\": 0.6, \"random_strength\": 10, \"one_hot_max_size\": 2, \"min_data_in_leaf\": 10, \"loss_function\": \"MAE\", \"learning_rate\": 0.01, \"l2_leaf_reg\": 5, \"iterations\": 1000, \"grow_policy\": \"Depthwise\", \"depth\": 8, \"border_count\": 32, \"bagging_temperature\": 2}",
         "1548.0997701762235",
         "5458.507976471641",
         "0.9355306045086396",
         "1702.4004937986929"
        ],
        [
         "39",
         "CAT_WMAE",
         "{\"subsample\": 1.0, \"rsm\": 0.8, \"random_strength\": 10, \"one_hot_max_size\": 2, \"min_data_in_leaf\": 1, \"loss_function\": \"RMSE\", \"learning_rate\": 0.1, \"l2_leaf_reg\": 10, \"iterations\": 2000, \"grow_policy\": \"SymmetricTree\", \"depth\": 8, \"border_count\": 128, \"bagging_temperature\": 0.5}",
         "926.5947843426576",
         "2574.2588949525475",
         "0.9856318543688372",
         "959.2880644060072"
        ],
        [
         "40",
         "CAT_WMAE",
         "{\"subsample\": 1.0, \"rsm\": 0.6, \"random_strength\": 1, \"one_hot_max_size\": 2, \"min_data_in_leaf\": 1, \"loss_function\": \"RMSE\", \"learning_rate\": 0.1, \"l2_leaf_reg\": 1, \"iterations\": 1000, \"grow_policy\": \"Depthwise\", \"depth\": 4, \"border_count\": 32, \"bagging_temperature\": 1}",
         "1495.8063172501506",
         "4717.706110613545",
         "0.9518374595539748",
         "1587.2205542501397"
        ],
        [
         "41",
         "CAT_WMAE",
         "{\"subsample\": 0.6, \"rsm\": 0.8, \"random_strength\": 5, \"one_hot_max_size\": 5, \"min_data_in_leaf\": 20, \"loss_function\": \"MAE\", \"learning_rate\": 0.1, \"l2_leaf_reg\": 1, \"iterations\": 1000, \"grow_policy\": \"SymmetricTree\", \"depth\": 8, \"border_count\": 32, \"bagging_temperature\": 1}",
         "1404.663150271928",
         "5221.112031568301",
         "0.941216327271562",
         "1485.9489953974985"
        ],
        [
         "42",
         "CAT_WMAE",
         "{\"subsample\": 0.6, \"rsm\": 0.6, \"random_strength\": 0, \"one_hot_max_size\": 10, \"min_data_in_leaf\": 10, \"loss_function\": \"MAE\", \"learning_rate\": 0.01, \"l2_leaf_reg\": 3, \"iterations\": 1000, \"grow_policy\": \"Depthwise\", \"depth\": 10, \"border_count\": 254, \"bagging_temperature\": 0.5}",
         "864.2785065713383",
         "3023.2442079113644",
         "0.9801415257973142",
         "905.1222364046822"
        ],
        [
         "43",
         "CAT_WMAE",
         "{\"subsample\": 1.0, \"rsm\": 0.8, \"random_strength\": 1, \"one_hot_max_size\": 10, \"min_data_in_leaf\": 5, \"loss_function\": \"MAE\", \"learning_rate\": 0.03, \"l2_leaf_reg\": 1, \"iterations\": 1500, \"grow_policy\": \"SymmetricTree\", \"depth\": 8, \"border_count\": 128, \"bagging_temperature\": 2}",
         "923.7003761903708",
         "3129.162082000976",
         "0.9785371386254405",
         "955.0572499710856"
        ],
        [
         "44",
         "CAT_WMAE",
         "{\"subsample\": 1.0, \"rsm\": 1.0, \"random_strength\": 0, \"one_hot_max_size\": 2, \"min_data_in_leaf\": 1, \"loss_function\": \"RMSE\", \"learning_rate\": 0.03, \"l2_leaf_reg\": 3, \"iterations\": 500, \"grow_policy\": \"Lossguide\", \"depth\": 6, \"border_count\": 254, \"bagging_temperature\": 2}",
         "973.0450880468736",
         "2961.4180501243222",
         "0.9805904922703556",
         "1028.0888049467055"
        ],
        [
         "45",
         "CAT_WMAE",
         "{\"subsample\": 0.6, \"rsm\": 0.6, \"random_strength\": 1, \"one_hot_max_size\": 5, \"min_data_in_leaf\": 5, \"loss_function\": \"RMSE\", \"learning_rate\": 0.01, \"l2_leaf_reg\": 1, \"iterations\": 1000, \"grow_policy\": \"Lossguide\", \"depth\": 10, \"border_count\": 64, \"bagging_temperature\": 0}",
         "1192.554236677938",
         "3525.33080420246",
         "0.973035810458455",
         "1264.051091729224"
        ],
        [
         "46",
         "CAT_WMAE",
         "{\"subsample\": 1.0, \"rsm\": 0.6, \"random_strength\": 0, \"one_hot_max_size\": 5, \"min_data_in_leaf\": 10, \"loss_function\": \"RMSE\", \"learning_rate\": 0.1, \"l2_leaf_reg\": 10, \"iterations\": 500, \"grow_policy\": \"Lossguide\", \"depth\": 10, \"border_count\": 64, \"bagging_temperature\": 2}",
         "1154.995945664957",
         "3602.407272072071",
         "0.9715462285813676",
         "1226.3958190564424"
        ],
        [
         "47",
         "CAT_WMAE",
         "{\"subsample\": 0.8, \"rsm\": 1.0, \"random_strength\": 10, \"one_hot_max_size\": 10, \"min_data_in_leaf\": 5, \"loss_function\": \"RMSE\", \"learning_rate\": 0.03, \"l2_leaf_reg\": 5, \"iterations\": 500, \"grow_policy\": \"Lossguide\", \"depth\": 8, \"border_count\": 128, \"bagging_temperature\": 2}",
         "1138.0200327884188",
         "2830.5877662471794",
         "0.9825730662282622",
         "1215.750575304912"
        ],
        [
         "48",
         "CAT_WMAE",
         "{\"subsample\": 1.0, \"rsm\": 0.8, \"random_strength\": 10, \"one_hot_max_size\": 2, \"min_data_in_leaf\": 20, \"loss_function\": \"MAE\", \"learning_rate\": 0.01, \"l2_leaf_reg\": 3, \"iterations\": 2000, \"grow_policy\": \"Lossguide\", \"depth\": 10, \"border_count\": 254, \"bagging_temperature\": 0.5}",
         "990.4414118386098",
         "3394.8795226716284",
         "0.9747981783338072",
         "1066.4039375796815"
        ],
        [
         "49",
         "CAT_WMAE",
         "{\"subsample\": 0.8, \"rsm\": 0.8, \"random_strength\": 5, \"one_hot_max_size\": 5, \"min_data_in_leaf\": 20, \"loss_function\": \"RMSE\", \"learning_rate\": 0.01, \"l2_leaf_reg\": 5, \"iterations\": 1000, \"grow_policy\": \"Depthwise\", \"depth\": 4, \"border_count\": 64, \"bagging_temperature\": 0}",
         "1312.5516241438147",
         "3729.51328292632",
         "0.9698783559795014",
         "1421.033140906157"
        ]
       ],
       "shape": {
        "columns": 6,
        "rows": 90
       }
      },
      "text/html": [
       "<div>\n",
       "<style scoped>\n",
       "    .dataframe tbody tr th:only-of-type {\n",
       "        vertical-align: middle;\n",
       "    }\n",
       "\n",
       "    .dataframe tbody tr th {\n",
       "        vertical-align: top;\n",
       "    }\n",
       "\n",
       "    .dataframe thead th {\n",
       "        text-align: right;\n",
       "    }\n",
       "</style>\n",
       "<table border=\"1\" class=\"dataframe\">\n",
       "  <thead>\n",
       "    <tr style=\"text-align: right;\">\n",
       "      <th></th>\n",
       "      <th>model_name</th>\n",
       "      <th>param_json</th>\n",
       "      <th>mae</th>\n",
       "      <th>rmse</th>\n",
       "      <th>r2</th>\n",
       "      <th>wmae</th>\n",
       "    </tr>\n",
       "  </thead>\n",
       "  <tbody>\n",
       "    <tr>\n",
       "      <th>0</th>\n",
       "      <td>CAT_WMAE</td>\n",
       "      <td>{\"subsample\": 0.6, \"rsm\": 0.8, \"random_strengt...</td>\n",
       "      <td>1284.181772</td>\n",
       "      <td>4653.347900</td>\n",
       "      <td>0.953244</td>\n",
       "      <td>1440.303937</td>\n",
       "    </tr>\n",
       "    <tr>\n",
       "      <th>1</th>\n",
       "      <td>CAT_WMAE</td>\n",
       "      <td>{\"subsample\": 0.6, \"rsm\": 0.6, \"random_strengt...</td>\n",
       "      <td>904.333375</td>\n",
       "      <td>3039.627069</td>\n",
       "      <td>0.979883</td>\n",
       "      <td>939.339705</td>\n",
       "    </tr>\n",
       "    <tr>\n",
       "      <th>2</th>\n",
       "      <td>CAT_WMAE</td>\n",
       "      <td>{\"subsample\": 0.8, \"rsm\": 0.6, \"random_strengt...</td>\n",
       "      <td>1128.304034</td>\n",
       "      <td>3678.132439</td>\n",
       "      <td>0.970049</td>\n",
       "      <td>1196.799669</td>\n",
       "    </tr>\n",
       "    <tr>\n",
       "      <th>3</th>\n",
       "      <td>CAT_WMAE</td>\n",
       "      <td>{\"subsample\": 0.6, \"rsm\": 1.0, \"random_strengt...</td>\n",
       "      <td>1180.027862</td>\n",
       "      <td>3486.861239</td>\n",
       "      <td>0.973630</td>\n",
       "      <td>1253.579030</td>\n",
       "    </tr>\n",
       "    <tr>\n",
       "      <th>4</th>\n",
       "      <td>CAT_WMAE</td>\n",
       "      <td>{\"subsample\": 0.6, \"rsm\": 0.6, \"random_strengt...</td>\n",
       "      <td>1022.405512</td>\n",
       "      <td>2495.441471</td>\n",
       "      <td>0.986430</td>\n",
       "      <td>1069.136757</td>\n",
       "    </tr>\n",
       "    <tr>\n",
       "      <th>...</th>\n",
       "      <td>...</td>\n",
       "      <td>...</td>\n",
       "      <td>...</td>\n",
       "      <td>...</td>\n",
       "      <td>...</td>\n",
       "      <td>...</td>\n",
       "    </tr>\n",
       "    <tr>\n",
       "      <th>85</th>\n",
       "      <td>CAT_WMAE</td>\n",
       "      <td>{\"subsample\": 1.0, \"rsm\": 1.0, \"random_strengt...</td>\n",
       "      <td>1063.261144</td>\n",
       "      <td>3679.763168</td>\n",
       "      <td>0.970760</td>\n",
       "      <td>1112.289697</td>\n",
       "    </tr>\n",
       "    <tr>\n",
       "      <th>86</th>\n",
       "      <td>CAT_WMAE</td>\n",
       "      <td>{\"subsample\": 1.0, \"rsm\": 0.6, \"random_strengt...</td>\n",
       "      <td>1470.064357</td>\n",
       "      <td>4748.223937</td>\n",
       "      <td>0.951239</td>\n",
       "      <td>1544.253564</td>\n",
       "    </tr>\n",
       "    <tr>\n",
       "      <th>87</th>\n",
       "      <td>CAT_WMAE</td>\n",
       "      <td>{\"subsample\": 0.6, \"rsm\": 1.0, \"random_strengt...</td>\n",
       "      <td>1010.741778</td>\n",
       "      <td>3605.438132</td>\n",
       "      <td>0.971585</td>\n",
       "      <td>1054.729825</td>\n",
       "    </tr>\n",
       "    <tr>\n",
       "      <th>88</th>\n",
       "      <td>CAT_WMAE</td>\n",
       "      <td>{\"subsample\": 1.0, \"rsm\": 0.8, \"random_strengt...</td>\n",
       "      <td>1497.223390</td>\n",
       "      <td>4941.180525</td>\n",
       "      <td>0.947510</td>\n",
       "      <td>1584.843811</td>\n",
       "    </tr>\n",
       "    <tr>\n",
       "      <th>89</th>\n",
       "      <td>CAT_WMAE</td>\n",
       "      <td>{\"subsample\": 0.8, \"rsm\": 1.0, \"random_strengt...</td>\n",
       "      <td>940.337091</td>\n",
       "      <td>2649.538214</td>\n",
       "      <td>0.984817</td>\n",
       "      <td>978.658873</td>\n",
       "    </tr>\n",
       "  </tbody>\n",
       "</table>\n",
       "<p>90 rows × 6 columns</p>\n",
       "</div>"
      ],
      "text/plain": [
       "   model_name                                         param_json          mae  \\\n",
       "0    CAT_WMAE  {\"subsample\": 0.6, \"rsm\": 0.8, \"random_strengt...  1284.181772   \n",
       "1    CAT_WMAE  {\"subsample\": 0.6, \"rsm\": 0.6, \"random_strengt...   904.333375   \n",
       "2    CAT_WMAE  {\"subsample\": 0.8, \"rsm\": 0.6, \"random_strengt...  1128.304034   \n",
       "3    CAT_WMAE  {\"subsample\": 0.6, \"rsm\": 1.0, \"random_strengt...  1180.027862   \n",
       "4    CAT_WMAE  {\"subsample\": 0.6, \"rsm\": 0.6, \"random_strengt...  1022.405512   \n",
       "..        ...                                                ...          ...   \n",
       "85   CAT_WMAE  {\"subsample\": 1.0, \"rsm\": 1.0, \"random_strengt...  1063.261144   \n",
       "86   CAT_WMAE  {\"subsample\": 1.0, \"rsm\": 0.6, \"random_strengt...  1470.064357   \n",
       "87   CAT_WMAE  {\"subsample\": 0.6, \"rsm\": 1.0, \"random_strengt...  1010.741778   \n",
       "88   CAT_WMAE  {\"subsample\": 1.0, \"rsm\": 0.8, \"random_strengt...  1497.223390   \n",
       "89   CAT_WMAE  {\"subsample\": 0.8, \"rsm\": 1.0, \"random_strengt...   940.337091   \n",
       "\n",
       "           rmse        r2         wmae  \n",
       "0   4653.347900  0.953244  1440.303937  \n",
       "1   3039.627069  0.979883   939.339705  \n",
       "2   3678.132439  0.970049  1196.799669  \n",
       "3   3486.861239  0.973630  1253.579030  \n",
       "4   2495.441471  0.986430  1069.136757  \n",
       "..          ...       ...          ...  \n",
       "85  3679.763168  0.970760  1112.289697  \n",
       "86  4748.223937  0.951239  1544.253564  \n",
       "87  3605.438132  0.971585  1054.729825  \n",
       "88  4941.180525  0.947510  1584.843811  \n",
       "89  2649.538214  0.984817   978.658873  \n",
       "\n",
       "[90 rows x 6 columns]"
      ]
     },
     "execution_count": 219,
     "metadata": {},
     "output_type": "execute_result"
    }
   ],
   "source": [
    "%%skip\n",
    "cat_random_wmae01 = pd.read_csv('csv_files/ml_train_data/cat_random_wmae01.csv')\n",
    "cat_random_wmae01"
   ]
  },
  {
   "cell_type": "code",
   "execution_count": 220,
   "id": "d2ce7993",
   "metadata": {
    "execution": {
     "iopub.status.busy": "2025-06-26T22:10:14.516491Z",
     "iopub.status.idle": "2025-06-26T22:10:14.516746Z",
     "shell.execute_reply": "2025-06-26T22:10:14.516645Z",
     "shell.execute_reply.started": "2025-06-26T22:10:14.516633Z"
    },
    "trusted": true
   },
   "outputs": [],
   "source": [
    "%%skip\n",
    "df = cat_random_wmae01.copy()             \n",
    "\n",
    "params_df = (\n",
    "    df['param_json']\n",
    "    .apply(lambda s: json.loads(s) if pd.notnull(s) else {})  \n",
    "    .apply(pd.Series)                                         \n",
    ")\n",
    "df = pd.concat([df, params_df], axis=1)\n",
    "\n",
    "metric = 'wmae'\n",
    "ignore = {'model_name', 'param_json',            \n",
    "          'mae', 'rmse', 'r2', metric, '__source__'}\n",
    "\n",
    "param_cols = [c for c in df.columns if c not in ignore]\n",
    "\n",
    "# keep only numeric hyper-params\n",
    "X = df[param_cols].select_dtypes(include=[np.number])\n",
    "y = df[metric]\n",
    "\n",
    "# guard against “empty X” (all NaNs / non-numeric)\n",
    "if X.shape[1] == 0:\n",
    "    raise ValueError(\"No numeric hyper-parameter columns left after filtering!\")\n",
    "\n",
    "# urrogate model + analyses \n",
    "rf = RandomForestRegressor(n_estimators=200, random_state=7, n_jobs=-1)\n",
    "rf.fit(X, y)\n",
    "\n",
    "importances = pd.Series(rf.feature_importances_, index=X.columns)\n",
    "print(\"→ RF importances:\\n\", importances.sort_values(ascending=False), \"\\n\")\n",
    "\n",
    "perm = permutation_importance(rf, X, y, n_repeats=10, random_state=7, n_jobs=-1)\n",
    "perm_imp = pd.Series(perm.importances_mean, index=X.columns)\n",
    "print(\"→ Permutation importances:\\n\", perm_imp.sort_values(ascending=False), \"\\n\")\n",
    "\n",
    "# partial-dependence plots \n",
    "top = importances.sort_values(ascending=False).index[:]\n",
    "\n",
    "fig, axes = plt.subplots(4, 4, figsize=(32, 32), sharey=True)\n",
    "axes = axes.flatten()\n",
    "\n",
    "for ax, feat in zip(axes, top):\n",
    "    PartialDependenceDisplay.from_estimator(rf, X, [feat], ax=ax)\n",
    "    ax.set_title(f\"PDP: {feat}\")\n",
    "\n",
    "for ax in axes[len(top):]:\n",
    "    ax.axis('off')\n",
    "\n",
    "plt.tight_layout()\n",
    "plt.show()\n"
   ]
  },
  {
   "cell_type": "code",
   "execution_count": 221,
   "id": "2a9f0943",
   "metadata": {
    "execution": {
     "iopub.execute_input": "2025-06-27T02:00:37.325458Z",
     "iopub.status.busy": "2025-06-27T02:00:37.325055Z",
     "iopub.status.idle": "2025-06-27T02:00:37.333577Z",
     "shell.execute_reply": "2025-06-27T02:00:37.332502Z",
     "shell.execute_reply.started": "2025-06-27T02:00:37.325437Z"
    },
    "trusted": true
   },
   "outputs": [],
   "source": [
    "%%skip\n",
    "#VSCode\n",
    "def cat_pipeline_factory(params):\n",
    "    \"\"\"\n",
    "    Build a (StandardScaler → CatBoostRegressor) pipeline.\n",
    "\n",
    "    Adds early_stopping_rounds=200 on top of the hyper-parameters supplied\n",
    "    by the random-search engine.\n",
    "    \"\"\"\n",
    "    params = params.copy()\n",
    "    params.update(\n",
    "        early_stopping_rounds=200   # stop if validation metric hasn't improved\n",
    "                                    # for 200 consecutive trees\n",
    "    )\n",
    "\n",
    "    return Pipeline([\n",
    "        (\"scaler\", StandardScaler()),        # safe for purely numeric features\n",
    "        (\"model\", CatBoostRegressor(\n",
    "            **params,                        # hyper-parameters from search\n",
    "            random_state=7,                  # reproducible results\n",
    "            verbose=0                        # keep per-tree logging silent\n",
    "        ))\n",
    "    ])\n",
    "\n",
    "# Wide, balanced CatBoost hyper-parameter grid\n",
    "\n",
    "param_grid = {\n",
    "    # core learning-rate / depth / boosting length\n",
    "    'iterations'        : [ 3000, 5000 ],\n",
    "    'depth'             : [10, 12, 14 ],\n",
    "    'learning_rate'     : [0.1, 0.2, 0.3 ],\n",
    "    \n",
    "    # regularisation & tree shape\n",
    "    'l2_leaf_reg'       : [ 3, 17, 20 ],\n",
    "    'min_data_in_leaf'  : [ 1,5],\n",
    "    'random_strength'   : [ 0.1],\n",
    "    'bagging_temperature': [ 0.1],\n",
    "    \n",
    "    # sampling for rows / columns\n",
    "    'subsample'         : [ 0.1, 0.8 ],\n",
    "    'rsm'               : [ 0.9 ],        # column sample\n",
    "       \n",
    "    # other structural knobs\n",
    "    'grow_policy'       : [ 'Depthwise', 'Lossguide' ],\n",
    "    'border_count'      : [ 254, 512, 1024 ],\n",
    "    'one_hot_max_size'  : [5],\n",
    "    \n",
    "    # objective variants (optional: restrict to one if you prefer)\n",
    "    'loss_function'     : [ 'MAE', 'RMSE']\n",
    "}\n",
    "\n",
    "# Random search trainer setup\n",
    "\n",
    "trainer = ModelTrainer(\n",
    "    X               = X_train,\n",
    "    y               = y_train,\n",
    "    model_factory   = cat_pipeline_factory,\n",
    "    search          = 'random',\n",
    "    param_grid      = param_grid,\n",
    "    n_iter          = 50,                         \n",
    "    cv_splitter     = TimeSeriesSplit(n_splits=3),\n",
    "    custom_metrics  = {'wmae': wmae_custom},\n",
    "    log_path        = 'csv_files/ml_train_data/cat_random_wmae02.csv',\n",
    "    model_name      = 'CAT_WMAE',\n",
    "    problem_type    = 'reg',\n",
    "    n_jobs          = -1,\n",
    "    random_state    = 7\n",
    ")\n",
    "\n",
    "\n",
    "# Run the search\n",
    "\n",
    "best_params, best_score = trainer.train()\n",
    "\n",
    "print(\" Best WMAE: \", best_score)\n",
    "\n",
    "\n",
    "# Clean up\n",
    "\n",
    "trainer.csv_file.close()\n",
    "del trainer\n",
    "import gc; gc.collect()\n"
   ]
  },
  {
   "cell_type": "code",
   "execution_count": 222,
   "id": "d0ef7815-ba2d-49ca-b80f-a24d0ce040eb",
   "metadata": {
    "execution": {
     "iopub.execute_input": "2025-06-27T02:04:46.002273Z",
     "iopub.status.busy": "2025-06-27T02:04:46.001507Z"
    },
    "trusted": true
   },
   "outputs": [],
   "source": [
    "%%skip\n",
    "#Kaggle\n",
    "def cat_pipeline_factory(params):\n",
    "    params = params.copy()\n",
    "    params.update(\n",
    "        task_type=\"GPU\",\n",
    "        devices=\"0\",\n",
    "        metric_period=20,\n",
    "        early_stopping_rounds=200,\n",
    "        bootstrap_type=\"Bernoulli\"      # lets subsample work\n",
    "    )\n",
    "\n",
    "    return Pipeline([\n",
    "        (\"scaler\", StandardScaler()),\n",
    "        (\"model\", CatBoostRegressor(\n",
    "            **params,\n",
    "            random_state=7,\n",
    "            verbose=0\n",
    "        ))\n",
    "    ])\n",
    "\n",
    "\n",
    "param_grid = {\n",
    "    # core learning-rate / depth / boosting length\n",
    "    \"iterations\"        : [3000, 5000],\n",
    "    \"depth\"             : [10, 12, 14],\n",
    "    \"learning_rate\"     : [0.1, 0.2, 0.3],\n",
    "\n",
    "    # regularisation & tree shape\n",
    "    \"l2_leaf_reg\"       : [3, 17, 20],\n",
    "    \"min_data_in_leaf\"  : [1, 5],\n",
    "    \"random_strength\"   : [0.1],\n",
    "\n",
    "    # sampling for rows\n",
    "    \"subsample\"         : [0.1, 0.8],        # row sampling now works\n",
    "    # rsm removed ──↑\n",
    "\n",
    "    # other structural knobs\n",
    "    \"grow_policy\"       : [\"Depthwise\", \"Lossguide\"],\n",
    "    \"border_count\"      : [254, 512, 1024],\n",
    "    \"one_hot_max_size\"  : [5],\n",
    "\n",
    "    # objective variants\n",
    "    \"loss_function\"     : [\"MAE\", \"RMSE\"],\n",
    "}\n",
    "\n",
    "\n",
    "trainer = ModelTrainer(\n",
    "    X               = X_train,\n",
    "    y               = y_train,\n",
    "    model_factory   = cat_pipeline_factory,\n",
    "    search          = \"random\",\n",
    "    param_grid      = param_grid,\n",
    "    n_iter          = 50,\n",
    "    cv_splitter     = TimeSeriesSplit(n_splits=3),\n",
    "    custom_metrics  = {\"wmae\": wmae_custom},\n",
    "    log_path        = \"/kaggle/working/cat_random_wmae02.csv\",\n",
    "    model_name      = \"CAT_WMAE\",\n",
    "    problem_type    = \"reg\",\n",
    "    n_jobs          = 1,                 # one fit → one GPU\n",
    "    random_state    = 7\n",
    ")\n",
    "\n",
    "\n",
    "best_params, best_score = trainer.train()\n",
    "print(\"Best WMAE:\", best_score)\n",
    "\n",
    "\n",
    "trainer.csv_file.close()\n",
    "del trainer\n",
    "gc.collect()\n"
   ]
  },
  {
   "cell_type": "code",
   "execution_count": 223,
   "id": "3385f830",
   "metadata": {},
   "outputs": [],
   "source": [
    "\n",
    "# load & explode both CSVs if you haven’t yet —\n",
    "paths = [\n",
    "    'csv_files/ml_train_data/cat_random_wmae01.csv',\n",
    "    'csv_files/ml_train_data/cat_random_wmae02.csv',\n",
    "]\n",
    "dfs = []\n",
    "for path in paths:\n",
    "    df = pd.read_csv(path)\n",
    "    params = df['param_json'].apply(json.loads).apply(pd.Series)\n",
    "    df = pd.concat([df.drop(columns='param_json'), params], axis=1)\n",
    "    df['__source__'] = path.split('/')[-1]\n",
    "    dfs.append(df)\n",
    "df_all = pd.concat(dfs, ignore_index=True)"
   ]
  },
  {
   "cell_type": "code",
   "execution_count": 225,
   "id": "bbb0115e",
   "metadata": {},
   "outputs": [
    {
     "data": {
      "application/vnd.microsoft.datawrangler.viewer.v0+json": {
       "columns": [
        {
         "name": "index",
         "rawType": "int64",
         "type": "integer"
        },
        {
         "name": "model_name",
         "rawType": "object",
         "type": "string"
        },
        {
         "name": "mae",
         "rawType": "float64",
         "type": "float"
        },
        {
         "name": "rmse",
         "rawType": "float64",
         "type": "float"
        },
        {
         "name": "r2",
         "rawType": "float64",
         "type": "float"
        },
        {
         "name": "wmae",
         "rawType": "float64",
         "type": "float"
        },
        {
         "name": "subsample",
         "rawType": "float64",
         "type": "float"
        },
        {
         "name": "rsm",
         "rawType": "float64",
         "type": "float"
        },
        {
         "name": "random_strength",
         "rawType": "float64",
         "type": "float"
        },
        {
         "name": "one_hot_max_size",
         "rawType": "int64",
         "type": "integer"
        },
        {
         "name": "min_data_in_leaf",
         "rawType": "int64",
         "type": "integer"
        },
        {
         "name": "loss_function",
         "rawType": "object",
         "type": "string"
        },
        {
         "name": "learning_rate",
         "rawType": "float64",
         "type": "float"
        },
        {
         "name": "l2_leaf_reg",
         "rawType": "int64",
         "type": "integer"
        },
        {
         "name": "iterations",
         "rawType": "int64",
         "type": "integer"
        },
        {
         "name": "grow_policy",
         "rawType": "object",
         "type": "string"
        },
        {
         "name": "depth",
         "rawType": "int64",
         "type": "integer"
        },
        {
         "name": "border_count",
         "rawType": "int64",
         "type": "integer"
        },
        {
         "name": "bagging_temperature",
         "rawType": "float64",
         "type": "float"
        },
        {
         "name": "__source__",
         "rawType": "object",
         "type": "string"
        }
       ],
       "ref": "8b29a2bf-46ff-4442-8da0-c7e3f883a02d",
       "rows": [
        [
         "0",
         "CAT_WMAE",
         "1284.181771786842",
         "4653.347899680699",
         "0.9532441779909524",
         "1440.3039365812108",
         "0.6",
         "0.8",
         "0.0",
         "2",
         "5",
         "MAE",
         "0.01",
         "5",
         "500",
         "Lossguide",
         "4",
         "64",
         "0.0",
         "cat_random_wmae01.csv"
        ],
        [
         "1",
         "CAT_WMAE",
         "904.3333747514658",
         "3039.627069431114",
         "0.9798829756224986",
         "939.3397045346404",
         "0.6",
         "0.6",
         "0.0",
         "2",
         "20",
         "MAE",
         "0.1",
         "5",
         "1000",
         "Lossguide",
         "8",
         "128",
         "0.5",
         "cat_random_wmae01.csv"
        ],
        [
         "2",
         "CAT_WMAE",
         "1128.3040341404449",
         "3678.1324389240126",
         "0.9700492414041288",
         "1196.7996686627664",
         "0.8",
         "0.6",
         "0.0",
         "10",
         "1",
         "RMSE",
         "0.03",
         "5",
         "1000",
         "Depthwise",
         "6",
         "64",
         "0.5",
         "cat_random_wmae01.csv"
        ],
        [
         "3",
         "CAT_WMAE",
         "1180.0278622539556",
         "3486.8612385519864",
         "0.9736304492106116",
         "1253.5790303338676",
         "0.6",
         "1.0",
         "0.0",
         "2",
         "1",
         "RMSE",
         "0.03",
         "10",
         "1000",
         "SymmetricTree",
         "6",
         "64",
         "0.5",
         "cat_random_wmae01.csv"
        ],
        [
         "4",
         "CAT_WMAE",
         "1022.4055122576124",
         "2495.441470926753",
         "0.9864304669972944",
         "1069.1367572653285",
         "0.6",
         "0.6",
         "10.0",
         "2",
         "10",
         "RMSE",
         "0.03",
         "5",
         "500",
         "Depthwise",
         "10",
         "254",
         "0.5",
         "cat_random_wmae01.csv"
        ],
        [
         "5",
         "CAT_WMAE",
         "1087.3805420027518",
         "2800.370559559187",
         "0.9829293213275148",
         "1158.8874088099035",
         "1.0",
         "1.0",
         "10.0",
         "10",
         "10",
         "RMSE",
         "0.01",
         "10",
         "2000",
         "SymmetricTree",
         "6",
         "128",
         "2.0",
         "cat_random_wmae01.csv"
        ],
        [
         "6",
         "CAT_WMAE",
         "908.4820408393564",
         "3084.3362095464454",
         "0.9792392673128996",
         "941.0003314781428",
         "0.6",
         "0.8",
         "0.0",
         "10",
         "5",
         "MAE",
         "0.03",
         "1",
         "2000",
         "Lossguide",
         "10",
         "128",
         "0.5",
         "cat_random_wmae01.csv"
        ],
        [
         "7",
         "CAT_WMAE",
         "1401.626471910664",
         "5132.835564330201",
         "0.9433388843232114",
         "1482.7187900827882",
         "0.8",
         "0.6",
         "5.0",
         "10",
         "5",
         "MAE",
         "0.1",
         "10",
         "1000",
         "Depthwise",
         "6",
         "32",
         "0.5",
         "cat_random_wmae01.csv"
        ],
        [
         "8",
         "CAT_WMAE",
         "1429.149431385761",
         "4627.840349511954",
         "0.9535623525315896",
         "1510.655887833781",
         "0.6",
         "1.0",
         "5.0",
         "10",
         "5",
         "RMSE",
         "0.03",
         "1",
         "2000",
         "SymmetricTree",
         "6",
         "32",
         "2.0",
         "cat_random_wmae01.csv"
        ],
        [
         "9",
         "CAT_WMAE",
         "1007.1557693783326",
         "2499.708879959637",
         "0.9864130317465784",
         "1054.3085478981625",
         "0.6",
         "1.0",
         "10.0",
         "5",
         "20",
         "RMSE",
         "0.03",
         "3",
         "500",
         "Depthwise",
         "10",
         "254",
         "1.0",
         "cat_random_wmae01.csv"
        ],
        [
         "10",
         "CAT_WMAE",
         "892.8216745567598",
         "2966.8939612541712",
         "0.9806812423246218",
         "928.1731555314152",
         "0.6",
         "0.6",
         "5.0",
         "5",
         "10",
         "MAE",
         "0.03",
         "3",
         "1500",
         "Lossguide",
         "10",
         "254",
         "1.0",
         "cat_random_wmae01.csv"
        ],
        [
         "11",
         "CAT_WMAE",
         "1055.3264206390656",
         "3657.109069646056",
         "0.9711034331453776",
         "1104.952865406599",
         "0.8",
         "0.6",
         "5.0",
         "5",
         "1",
         "MAE",
         "0.1",
         "3",
         "1500",
         "Lossguide",
         "8",
         "64",
         "0.0",
         "cat_random_wmae01.csv"
        ],
        [
         "12",
         "CAT_WMAE",
         "1229.568977073229",
         "3634.248436152626",
         "0.9712157210449952",
         "1309.1756430522053",
         "0.6",
         "1.0",
         "5.0",
         "10",
         "10",
         "RMSE",
         "0.03",
         "1",
         "500",
         "Lossguide",
         "8",
         "64",
         "1.0",
         "cat_random_wmae01.csv"
        ],
        [
         "13",
         "CAT_WMAE",
         "986.7528760650029",
         "3543.210806634142",
         "0.9726578361778014",
         "1051.2335974503335",
         "1.0",
         "0.6",
         "10.0",
         "5",
         "10",
         "MAE",
         "0.03",
         "10",
         "1000",
         "Lossguide",
         "10",
         "128",
         "0.5",
         "cat_random_wmae01.csv"
        ],
        [
         "14",
         "CAT_WMAE",
         "1020.9561975305204",
         "2624.4492460277384",
         "0.9850386621814392",
         "1072.590381152805",
         "1.0",
         "0.6",
         "0.0",
         "5",
         "10",
         "RMSE",
         "0.1",
         "1",
         "500",
         "SymmetricTree",
         "4",
         "254",
         "2.0",
         "cat_random_wmae01.csv"
        ],
        [
         "15",
         "CAT_WMAE",
         "1509.945497267366",
         "4821.130778989252",
         "0.950001823218599",
         "1610.6152641547308",
         "1.0",
         "0.8",
         "1.0",
         "2",
         "5",
         "RMSE",
         "0.03",
         "3",
         "1000",
         "Depthwise",
         "4",
         "32",
         "2.0",
         "cat_random_wmae01.csv"
        ],
        [
         "16",
         "CAT_WMAE",
         "1041.5992262376362",
         "3398.134764291766",
         "0.9746883160535414",
         "1111.2267901945963",
         "1.0",
         "1.0",
         "5.0",
         "10",
         "10",
         "MAE",
         "0.03",
         "5",
         "500",
         "Lossguide",
         "6",
         "254",
         "0.5",
         "cat_random_wmae01.csv"
        ],
        [
         "17",
         "CAT_WMAE",
         "949.8044719722787",
         "2758.093875793837",
         "0.983578744604282",
         "992.9739052853188",
         "0.6",
         "1.0",
         "5.0",
         "2",
         "1",
         "RMSE",
         "0.1",
         "1",
         "1500",
         "Lossguide",
         "6",
         "128",
         "0.0",
         "cat_random_wmae01.csv"
        ],
        [
         "18",
         "CAT_WMAE",
         "875.9965759196857",
         "2414.059544857364",
         "0.9873804767060844",
         "904.1008512707313",
         "0.6",
         "1.0",
         "1.0",
         "5",
         "20",
         "RMSE",
         "0.03",
         "3",
         "500",
         "Depthwise",
         "10",
         "254",
         "2.0",
         "cat_random_wmae01.csv"
        ],
        [
         "19",
         "CAT_WMAE",
         "849.5050923015104",
         "2478.615220275896",
         "0.9866548129966278",
         "872.7607980023535",
         "0.6",
         "1.0",
         "0.0",
         "2",
         "1",
         "MAE",
         "0.1",
         "3",
         "1500",
         "Depthwise",
         "8",
         "254",
         "0.0",
         "cat_random_wmae01.csv"
        ],
        [
         "20",
         "CAT_WMAE",
         "1419.1432738737894",
         "4647.551076813281",
         "0.9532326584925118",
         "1493.617715174768",
         "1.0",
         "0.8",
         "10.0",
         "10",
         "5",
         "RMSE",
         "0.01",
         "5",
         "2000",
         "Depthwise",
         "10",
         "32",
         "2.0",
         "cat_random_wmae01.csv"
        ],
        [
         "21",
         "CAT_WMAE",
         "1139.639745611444",
         "4188.475642234018",
         "0.9620284394655012",
         "1204.136354660678",
         "0.8",
         "1.0",
         "1.0",
         "2",
         "1",
         "MAE",
         "0.03",
         "5",
         "500",
         "Lossguide",
         "10",
         "64",
         "2.0",
         "cat_random_wmae01.csv"
        ],
        [
         "22",
         "CAT_WMAE",
         "1406.171813547841",
         "5148.632206340284",
         "0.9430266139826994",
         "1499.950721552382",
         "1.0",
         "0.6",
         "1.0",
         "10",
         "5",
         "MAE",
         "0.1",
         "1",
         "500",
         "Lossguide",
         "8",
         "32",
         "1.0",
         "cat_random_wmae01.csv"
        ],
        [
         "23",
         "CAT_WMAE",
         "1007.0611119897064",
         "2630.225272216103",
         "0.9849704067327082",
         "1062.6304125942418",
         "0.8",
         "0.6",
         "5.0",
         "5",
         "1",
         "RMSE",
         "0.01",
         "3",
         "2000",
         "SymmetricTree",
         "8",
         "128",
         "0.5",
         "cat_random_wmae01.csv"
        ],
        [
         "24",
         "CAT_WMAE",
         "1395.016370307085",
         "5335.340351418185",
         "0.9387434100536092",
         "1487.186726652957",
         "0.8",
         "0.8",
         "0.0",
         "5",
         "20",
         "MAE",
         "0.03",
         "10",
         "1000",
         "Lossguide",
         "8",
         "32",
         "0.0",
         "cat_random_wmae01.csv"
        ],
        [
         "25",
         "CAT_WMAE",
         "934.6734133529926",
         "3068.8356768926683",
         "0.9791413529748024",
         "976.970881592058",
         "1.0",
         "0.8",
         "10.0",
         "10",
         "10",
         "MAE",
         "0.03",
         "10",
         "1500",
         "Depthwise",
         "4",
         "254",
         "0.0",
         "cat_random_wmae01.csv"
        ],
        [
         "26",
         "CAT_WMAE",
         "1422.8913658543563",
         "5038.3586507835125",
         "0.9451255089160544",
         "1502.1114438142029",
         "1.0",
         "1.0",
         "10.0",
         "10",
         "1",
         "MAE",
         "0.1",
         "3",
         "1500",
         "SymmetricTree",
         "10",
         "32",
         "2.0",
         "cat_random_wmae01.csv"
        ],
        [
         "27",
         "CAT_WMAE",
         "1670.4196935122975",
         "4829.127157468819",
         "0.9498069000020274",
         "1806.6850164761215",
         "0.8",
         "0.8",
         "10.0",
         "5",
         "20",
         "RMSE",
         "0.01",
         "1",
         "500",
         "Depthwise",
         "6",
         "32",
         "0.5",
         "cat_random_wmae01.csv"
        ],
        [
         "28",
         "CAT_WMAE",
         "1510.072423174537",
         "5412.985181543957",
         "0.9366294632465202",
         "1658.0222476279205",
         "0.6",
         "0.6",
         "5.0",
         "10",
         "1",
         "MAE",
         "0.01",
         "3",
         "1000",
         "Lossguide",
         "10",
         "32",
         "1.0",
         "cat_random_wmae01.csv"
        ],
        [
         "29",
         "CAT_WMAE",
         "871.9529132882816",
         "2429.369620336828",
         "0.987199301927742",
         "897.7437533834685",
         "0.8",
         "0.8",
         "5.0",
         "2",
         "1",
         "RMSE",
         "0.1",
         "1",
         "2000",
         "SymmetricTree",
         "10",
         "254",
         "0.0",
         "cat_random_wmae01.csv"
        ],
        [
         "30",
         "CAT_WMAE",
         "874.8183321435714",
         "2494.2523029250606",
         "0.9865376593769448",
         "903.1331759309504",
         "0.6",
         "1.0",
         "1.0",
         "10",
         "5",
         "RMSE",
         "0.1",
         "10",
         "2000",
         "Lossguide",
         "10",
         "254",
         "1.0",
         "cat_random_wmae01.csv"
        ],
        [
         "31",
         "CAT_WMAE",
         "1109.990318285604",
         "3658.861804946629",
         "0.9706680407611684",
         "1161.313830938577",
         "1.0",
         "1.0",
         "0.0",
         "5",
         "1",
         "RMSE",
         "0.1",
         "3",
         "1500",
         "SymmetricTree",
         "10",
         "64",
         "0.5",
         "cat_random_wmae01.csv"
        ],
        [
         "32",
         "CAT_WMAE",
         "1386.5996331481783",
         "5282.176988105992",
         "0.9399779415321696",
         "1477.2670283803152",
         "0.8",
         "1.0",
         "1.0",
         "5",
         "10",
         "MAE",
         "0.1",
         "10",
         "500",
         "SymmetricTree",
         "6",
         "32",
         "0.5",
         "cat_random_wmae01.csv"
        ],
        [
         "33",
         "CAT_WMAE",
         "992.6163418090636",
         "3534.6294852782507",
         "0.9726276989089984",
         "1043.0473660461955",
         "0.8",
         "1.0",
         "0.0",
         "2",
         "10",
         "MAE",
         "0.01",
         "10",
         "2000",
         "SymmetricTree",
         "6",
         "128",
         "0.0",
         "cat_random_wmae01.csv"
        ],
        [
         "34",
         "CAT_WMAE",
         "1505.7068371987325",
         "4868.177436322899",
         "0.9488658757822184",
         "1603.8879620928572",
         "0.8",
         "1.0",
         "5.0",
         "5",
         "10",
         "RMSE",
         "0.03",
         "3",
         "1500",
         "Lossguide",
         "4",
         "32",
         "1.0",
         "cat_random_wmae01.csv"
        ],
        [
         "35",
         "CAT_WMAE",
         "861.8235181761161",
         "2776.9494246048166",
         "0.9831114144743206",
         "879.9117397382624",
         "0.8",
         "1.0",
         "1.0",
         "10",
         "1",
         "MAE",
         "0.03",
         "1",
         "2000",
         "Lossguide",
         "6",
         "254",
         "2.0",
         "cat_random_wmae01.csv"
        ],
        [
         "36",
         "CAT_WMAE",
         "1383.0270166478667",
         "3860.3437728128833",
         "0.9677931641291828",
         "1510.2937689490898",
         "1.0",
         "0.8",
         "10.0",
         "10",
         "1",
         "RMSE",
         "0.01",
         "1",
         "1000",
         "Depthwise",
         "4",
         "64",
         "2.0",
         "cat_random_wmae01.csv"
        ],
        [
         "37",
         "CAT_WMAE",
         "894.3550953365458",
         "2913.3269001549397",
         "0.9814154513406996",
         "929.1425038742622",
         "0.8",
         "0.6",
         "5.0",
         "5",
         "1",
         "MAE",
         "0.03",
         "3",
         "1500",
         "Lossguide",
         "6",
         "254",
         "0.5",
         "cat_random_wmae01.csv"
        ],
        [
         "38",
         "CAT_WMAE",
         "1548.0997701762235",
         "5458.507976471641",
         "0.9355306045086396",
         "1702.4004937986929",
         "1.0",
         "0.6",
         "10.0",
         "2",
         "10",
         "MAE",
         "0.01",
         "5",
         "1000",
         "Depthwise",
         "8",
         "32",
         "2.0",
         "cat_random_wmae01.csv"
        ],
        [
         "39",
         "CAT_WMAE",
         "926.5947843426576",
         "2574.2588949525475",
         "0.9856318543688372",
         "959.2880644060072",
         "1.0",
         "0.8",
         "10.0",
         "2",
         "1",
         "RMSE",
         "0.1",
         "10",
         "2000",
         "SymmetricTree",
         "8",
         "128",
         "0.5",
         "cat_random_wmae01.csv"
        ],
        [
         "40",
         "CAT_WMAE",
         "1495.8063172501506",
         "4717.706110613545",
         "0.9518374595539748",
         "1587.2205542501397",
         "1.0",
         "0.6",
         "1.0",
         "2",
         "1",
         "RMSE",
         "0.1",
         "1",
         "1000",
         "Depthwise",
         "4",
         "32",
         "1.0",
         "cat_random_wmae01.csv"
        ],
        [
         "41",
         "CAT_WMAE",
         "1404.663150271928",
         "5221.112031568301",
         "0.941216327271562",
         "1485.9489953974985",
         "0.6",
         "0.8",
         "5.0",
         "5",
         "20",
         "MAE",
         "0.1",
         "1",
         "1000",
         "SymmetricTree",
         "8",
         "32",
         "1.0",
         "cat_random_wmae01.csv"
        ],
        [
         "42",
         "CAT_WMAE",
         "864.2785065713383",
         "3023.2442079113644",
         "0.9801415257973142",
         "905.1222364046822",
         "0.6",
         "0.6",
         "0.0",
         "10",
         "10",
         "MAE",
         "0.01",
         "3",
         "1000",
         "Depthwise",
         "10",
         "254",
         "0.5",
         "cat_random_wmae01.csv"
        ],
        [
         "43",
         "CAT_WMAE",
         "923.7003761903708",
         "3129.162082000976",
         "0.9785371386254405",
         "955.0572499710856",
         "1.0",
         "0.8",
         "1.0",
         "10",
         "5",
         "MAE",
         "0.03",
         "1",
         "1500",
         "SymmetricTree",
         "8",
         "128",
         "2.0",
         "cat_random_wmae01.csv"
        ],
        [
         "44",
         "CAT_WMAE",
         "973.0450880468736",
         "2961.4180501243222",
         "0.9805904922703556",
         "1028.0888049467055",
         "1.0",
         "1.0",
         "0.0",
         "2",
         "1",
         "RMSE",
         "0.03",
         "3",
         "500",
         "Lossguide",
         "6",
         "254",
         "2.0",
         "cat_random_wmae01.csv"
        ],
        [
         "45",
         "CAT_WMAE",
         "1192.554236677938",
         "3525.33080420246",
         "0.973035810458455",
         "1264.051091729224",
         "0.6",
         "0.6",
         "1.0",
         "5",
         "5",
         "RMSE",
         "0.01",
         "1",
         "1000",
         "Lossguide",
         "10",
         "64",
         "0.0",
         "cat_random_wmae01.csv"
        ],
        [
         "46",
         "CAT_WMAE",
         "1154.995945664957",
         "3602.407272072071",
         "0.9715462285813676",
         "1226.3958190564424",
         "1.0",
         "0.6",
         "0.0",
         "5",
         "10",
         "RMSE",
         "0.1",
         "10",
         "500",
         "Lossguide",
         "10",
         "64",
         "2.0",
         "cat_random_wmae01.csv"
        ],
        [
         "47",
         "CAT_WMAE",
         "1138.0200327884188",
         "2830.5877662471794",
         "0.9825730662282622",
         "1215.750575304912",
         "0.8",
         "1.0",
         "10.0",
         "10",
         "5",
         "RMSE",
         "0.03",
         "5",
         "500",
         "Lossguide",
         "8",
         "128",
         "2.0",
         "cat_random_wmae01.csv"
        ],
        [
         "48",
         "CAT_WMAE",
         "990.4414118386098",
         "3394.8795226716284",
         "0.9747981783338072",
         "1066.4039375796815",
         "1.0",
         "0.8",
         "10.0",
         "2",
         "20",
         "MAE",
         "0.01",
         "3",
         "2000",
         "Lossguide",
         "10",
         "254",
         "0.5",
         "cat_random_wmae01.csv"
        ],
        [
         "49",
         "CAT_WMAE",
         "1312.5516241438147",
         "3729.51328292632",
         "0.9698783559795014",
         "1421.033140906157",
         "0.8",
         "0.8",
         "5.0",
         "5",
         "20",
         "RMSE",
         "0.01",
         "5",
         "1000",
         "Depthwise",
         "4",
         "64",
         "0.0",
         "cat_random_wmae01.csv"
        ]
       ],
       "shape": {
        "columns": 19,
        "rows": 126
       }
      },
      "text/html": [
       "<div>\n",
       "<style scoped>\n",
       "    .dataframe tbody tr th:only-of-type {\n",
       "        vertical-align: middle;\n",
       "    }\n",
       "\n",
       "    .dataframe tbody tr th {\n",
       "        vertical-align: top;\n",
       "    }\n",
       "\n",
       "    .dataframe thead th {\n",
       "        text-align: right;\n",
       "    }\n",
       "</style>\n",
       "<table border=\"1\" class=\"dataframe\">\n",
       "  <thead>\n",
       "    <tr style=\"text-align: right;\">\n",
       "      <th></th>\n",
       "      <th>model_name</th>\n",
       "      <th>mae</th>\n",
       "      <th>rmse</th>\n",
       "      <th>r2</th>\n",
       "      <th>wmae</th>\n",
       "      <th>subsample</th>\n",
       "      <th>rsm</th>\n",
       "      <th>random_strength</th>\n",
       "      <th>one_hot_max_size</th>\n",
       "      <th>min_data_in_leaf</th>\n",
       "      <th>loss_function</th>\n",
       "      <th>learning_rate</th>\n",
       "      <th>l2_leaf_reg</th>\n",
       "      <th>iterations</th>\n",
       "      <th>grow_policy</th>\n",
       "      <th>depth</th>\n",
       "      <th>border_count</th>\n",
       "      <th>bagging_temperature</th>\n",
       "      <th>__source__</th>\n",
       "    </tr>\n",
       "  </thead>\n",
       "  <tbody>\n",
       "    <tr>\n",
       "      <th>0</th>\n",
       "      <td>CAT_WMAE</td>\n",
       "      <td>1284.181772</td>\n",
       "      <td>4653.347900</td>\n",
       "      <td>0.953244</td>\n",
       "      <td>1440.303937</td>\n",
       "      <td>0.6</td>\n",
       "      <td>0.8</td>\n",
       "      <td>0.0</td>\n",
       "      <td>2</td>\n",
       "      <td>5</td>\n",
       "      <td>MAE</td>\n",
       "      <td>0.01</td>\n",
       "      <td>5</td>\n",
       "      <td>500</td>\n",
       "      <td>Lossguide</td>\n",
       "      <td>4</td>\n",
       "      <td>64</td>\n",
       "      <td>0.0</td>\n",
       "      <td>cat_random_wmae01.csv</td>\n",
       "    </tr>\n",
       "    <tr>\n",
       "      <th>1</th>\n",
       "      <td>CAT_WMAE</td>\n",
       "      <td>904.333375</td>\n",
       "      <td>3039.627069</td>\n",
       "      <td>0.979883</td>\n",
       "      <td>939.339705</td>\n",
       "      <td>0.6</td>\n",
       "      <td>0.6</td>\n",
       "      <td>0.0</td>\n",
       "      <td>2</td>\n",
       "      <td>20</td>\n",
       "      <td>MAE</td>\n",
       "      <td>0.10</td>\n",
       "      <td>5</td>\n",
       "      <td>1000</td>\n",
       "      <td>Lossguide</td>\n",
       "      <td>8</td>\n",
       "      <td>128</td>\n",
       "      <td>0.5</td>\n",
       "      <td>cat_random_wmae01.csv</td>\n",
       "    </tr>\n",
       "    <tr>\n",
       "      <th>2</th>\n",
       "      <td>CAT_WMAE</td>\n",
       "      <td>1128.304034</td>\n",
       "      <td>3678.132439</td>\n",
       "      <td>0.970049</td>\n",
       "      <td>1196.799669</td>\n",
       "      <td>0.8</td>\n",
       "      <td>0.6</td>\n",
       "      <td>0.0</td>\n",
       "      <td>10</td>\n",
       "      <td>1</td>\n",
       "      <td>RMSE</td>\n",
       "      <td>0.03</td>\n",
       "      <td>5</td>\n",
       "      <td>1000</td>\n",
       "      <td>Depthwise</td>\n",
       "      <td>6</td>\n",
       "      <td>64</td>\n",
       "      <td>0.5</td>\n",
       "      <td>cat_random_wmae01.csv</td>\n",
       "    </tr>\n",
       "    <tr>\n",
       "      <th>3</th>\n",
       "      <td>CAT_WMAE</td>\n",
       "      <td>1180.027862</td>\n",
       "      <td>3486.861239</td>\n",
       "      <td>0.973630</td>\n",
       "      <td>1253.579030</td>\n",
       "      <td>0.6</td>\n",
       "      <td>1.0</td>\n",
       "      <td>0.0</td>\n",
       "      <td>2</td>\n",
       "      <td>1</td>\n",
       "      <td>RMSE</td>\n",
       "      <td>0.03</td>\n",
       "      <td>10</td>\n",
       "      <td>1000</td>\n",
       "      <td>SymmetricTree</td>\n",
       "      <td>6</td>\n",
       "      <td>64</td>\n",
       "      <td>0.5</td>\n",
       "      <td>cat_random_wmae01.csv</td>\n",
       "    </tr>\n",
       "    <tr>\n",
       "      <th>4</th>\n",
       "      <td>CAT_WMAE</td>\n",
       "      <td>1022.405512</td>\n",
       "      <td>2495.441471</td>\n",
       "      <td>0.986430</td>\n",
       "      <td>1069.136757</td>\n",
       "      <td>0.6</td>\n",
       "      <td>0.6</td>\n",
       "      <td>10.0</td>\n",
       "      <td>2</td>\n",
       "      <td>10</td>\n",
       "      <td>RMSE</td>\n",
       "      <td>0.03</td>\n",
       "      <td>5</td>\n",
       "      <td>500</td>\n",
       "      <td>Depthwise</td>\n",
       "      <td>10</td>\n",
       "      <td>254</td>\n",
       "      <td>0.5</td>\n",
       "      <td>cat_random_wmae01.csv</td>\n",
       "    </tr>\n",
       "    <tr>\n",
       "      <th>...</th>\n",
       "      <td>...</td>\n",
       "      <td>...</td>\n",
       "      <td>...</td>\n",
       "      <td>...</td>\n",
       "      <td>...</td>\n",
       "      <td>...</td>\n",
       "      <td>...</td>\n",
       "      <td>...</td>\n",
       "      <td>...</td>\n",
       "      <td>...</td>\n",
       "      <td>...</td>\n",
       "      <td>...</td>\n",
       "      <td>...</td>\n",
       "      <td>...</td>\n",
       "      <td>...</td>\n",
       "      <td>...</td>\n",
       "      <td>...</td>\n",
       "      <td>...</td>\n",
       "      <td>...</td>\n",
       "    </tr>\n",
       "    <tr>\n",
       "      <th>121</th>\n",
       "      <td>CAT_WMAE</td>\n",
       "      <td>12984.175285</td>\n",
       "      <td>22302.863435</td>\n",
       "      <td>-0.084711</td>\n",
       "      <td>13349.443462</td>\n",
       "      <td>0.1</td>\n",
       "      <td>NaN</td>\n",
       "      <td>0.1</td>\n",
       "      <td>5</td>\n",
       "      <td>1</td>\n",
       "      <td>MAE</td>\n",
       "      <td>0.10</td>\n",
       "      <td>20</td>\n",
       "      <td>5000</td>\n",
       "      <td>Lossguide</td>\n",
       "      <td>14</td>\n",
       "      <td>254</td>\n",
       "      <td>NaN</td>\n",
       "      <td>cat_random_wmae02.csv</td>\n",
       "    </tr>\n",
       "    <tr>\n",
       "      <th>122</th>\n",
       "      <td>CAT_WMAE</td>\n",
       "      <td>12984.175285</td>\n",
       "      <td>22302.863435</td>\n",
       "      <td>-0.084711</td>\n",
       "      <td>13349.443462</td>\n",
       "      <td>0.8</td>\n",
       "      <td>NaN</td>\n",
       "      <td>0.1</td>\n",
       "      <td>5</td>\n",
       "      <td>1</td>\n",
       "      <td>MAE</td>\n",
       "      <td>0.10</td>\n",
       "      <td>3</td>\n",
       "      <td>5000</td>\n",
       "      <td>Lossguide</td>\n",
       "      <td>12</td>\n",
       "      <td>1024</td>\n",
       "      <td>NaN</td>\n",
       "      <td>cat_random_wmae02.csv</td>\n",
       "    </tr>\n",
       "    <tr>\n",
       "      <th>123</th>\n",
       "      <td>CAT_WMAE</td>\n",
       "      <td>940.818392</td>\n",
       "      <td>2489.426274</td>\n",
       "      <td>0.986584</td>\n",
       "      <td>975.486248</td>\n",
       "      <td>0.1</td>\n",
       "      <td>NaN</td>\n",
       "      <td>0.1</td>\n",
       "      <td>5</td>\n",
       "      <td>5</td>\n",
       "      <td>RMSE</td>\n",
       "      <td>0.30</td>\n",
       "      <td>20</td>\n",
       "      <td>3000</td>\n",
       "      <td>Lossguide</td>\n",
       "      <td>10</td>\n",
       "      <td>254</td>\n",
       "      <td>NaN</td>\n",
       "      <td>cat_random_wmae02.csv</td>\n",
       "    </tr>\n",
       "    <tr>\n",
       "      <th>124</th>\n",
       "      <td>CAT_WMAE</td>\n",
       "      <td>968.386282</td>\n",
       "      <td>2524.983572</td>\n",
       "      <td>0.985919</td>\n",
       "      <td>985.496359</td>\n",
       "      <td>0.8</td>\n",
       "      <td>NaN</td>\n",
       "      <td>0.1</td>\n",
       "      <td>5</td>\n",
       "      <td>1</td>\n",
       "      <td>MAE</td>\n",
       "      <td>0.30</td>\n",
       "      <td>17</td>\n",
       "      <td>5000</td>\n",
       "      <td>Depthwise</td>\n",
       "      <td>14</td>\n",
       "      <td>512</td>\n",
       "      <td>NaN</td>\n",
       "      <td>cat_random_wmae02.csv</td>\n",
       "    </tr>\n",
       "    <tr>\n",
       "      <th>125</th>\n",
       "      <td>CAT_WMAE</td>\n",
       "      <td>12984.116647</td>\n",
       "      <td>22302.996908</td>\n",
       "      <td>-0.084723</td>\n",
       "      <td>13349.351454</td>\n",
       "      <td>0.1</td>\n",
       "      <td>NaN</td>\n",
       "      <td>0.1</td>\n",
       "      <td>5</td>\n",
       "      <td>5</td>\n",
       "      <td>MAE</td>\n",
       "      <td>0.30</td>\n",
       "      <td>17</td>\n",
       "      <td>3000</td>\n",
       "      <td>Lossguide</td>\n",
       "      <td>10</td>\n",
       "      <td>254</td>\n",
       "      <td>NaN</td>\n",
       "      <td>cat_random_wmae02.csv</td>\n",
       "    </tr>\n",
       "  </tbody>\n",
       "</table>\n",
       "<p>126 rows × 19 columns</p>\n",
       "</div>"
      ],
      "text/plain": [
       "    model_name           mae          rmse        r2          wmae  subsample  \\\n",
       "0     CAT_WMAE   1284.181772   4653.347900  0.953244   1440.303937        0.6   \n",
       "1     CAT_WMAE    904.333375   3039.627069  0.979883    939.339705        0.6   \n",
       "2     CAT_WMAE   1128.304034   3678.132439  0.970049   1196.799669        0.8   \n",
       "3     CAT_WMAE   1180.027862   3486.861239  0.973630   1253.579030        0.6   \n",
       "4     CAT_WMAE   1022.405512   2495.441471  0.986430   1069.136757        0.6   \n",
       "..         ...           ...           ...       ...           ...        ...   \n",
       "121   CAT_WMAE  12984.175285  22302.863435 -0.084711  13349.443462        0.1   \n",
       "122   CAT_WMAE  12984.175285  22302.863435 -0.084711  13349.443462        0.8   \n",
       "123   CAT_WMAE    940.818392   2489.426274  0.986584    975.486248        0.1   \n",
       "124   CAT_WMAE    968.386282   2524.983572  0.985919    985.496359        0.8   \n",
       "125   CAT_WMAE  12984.116647  22302.996908 -0.084723  13349.351454        0.1   \n",
       "\n",
       "     rsm  random_strength  one_hot_max_size  min_data_in_leaf loss_function  \\\n",
       "0    0.8              0.0                 2                 5           MAE   \n",
       "1    0.6              0.0                 2                20           MAE   \n",
       "2    0.6              0.0                10                 1          RMSE   \n",
       "3    1.0              0.0                 2                 1          RMSE   \n",
       "4    0.6             10.0                 2                10          RMSE   \n",
       "..   ...              ...               ...               ...           ...   \n",
       "121  NaN              0.1                 5                 1           MAE   \n",
       "122  NaN              0.1                 5                 1           MAE   \n",
       "123  NaN              0.1                 5                 5          RMSE   \n",
       "124  NaN              0.1                 5                 1           MAE   \n",
       "125  NaN              0.1                 5                 5           MAE   \n",
       "\n",
       "     learning_rate  l2_leaf_reg  iterations    grow_policy  depth  \\\n",
       "0             0.01            5         500      Lossguide      4   \n",
       "1             0.10            5        1000      Lossguide      8   \n",
       "2             0.03            5        1000      Depthwise      6   \n",
       "3             0.03           10        1000  SymmetricTree      6   \n",
       "4             0.03            5         500      Depthwise     10   \n",
       "..             ...          ...         ...            ...    ...   \n",
       "121           0.10           20        5000      Lossguide     14   \n",
       "122           0.10            3        5000      Lossguide     12   \n",
       "123           0.30           20        3000      Lossguide     10   \n",
       "124           0.30           17        5000      Depthwise     14   \n",
       "125           0.30           17        3000      Lossguide     10   \n",
       "\n",
       "     border_count  bagging_temperature             __source__  \n",
       "0              64                  0.0  cat_random_wmae01.csv  \n",
       "1             128                  0.5  cat_random_wmae01.csv  \n",
       "2              64                  0.5  cat_random_wmae01.csv  \n",
       "3              64                  0.5  cat_random_wmae01.csv  \n",
       "4             254                  0.5  cat_random_wmae01.csv  \n",
       "..            ...                  ...                    ...  \n",
       "121           254                  NaN  cat_random_wmae02.csv  \n",
       "122          1024                  NaN  cat_random_wmae02.csv  \n",
       "123           254                  NaN  cat_random_wmae02.csv  \n",
       "124           512                  NaN  cat_random_wmae02.csv  \n",
       "125           254                  NaN  cat_random_wmae02.csv  \n",
       "\n",
       "[126 rows x 19 columns]"
      ]
     },
     "execution_count": 225,
     "metadata": {},
     "output_type": "execute_result"
    }
   ],
   "source": [
    "df_all"
   ]
  },
  {
   "cell_type": "code",
   "execution_count": 224,
   "id": "9d2cca21",
   "metadata": {},
   "outputs": [
    {
     "name": "stdout",
     "output_type": "stream",
     "text": [
      "→ RF importances:\n",
      " iterations             0.147202\n",
      "bagging_temperature    0.143547\n",
      "learning_rate          0.141140\n",
      "rsm                    0.139998\n",
      "l2_leaf_reg            0.125592\n",
      "border_count           0.090407\n",
      "depth                  0.087279\n",
      "subsample              0.080609\n",
      "min_data_in_leaf       0.043896\n",
      "random_strength        0.000247\n",
      "one_hot_max_size       0.000084\n",
      "dtype: float64 \n",
      "\n",
      "→ Permutation importances:\n",
      " learning_rate          0.262995\n",
      "rsm                    0.248790\n",
      "bagging_temperature    0.226563\n",
      "iterations             0.223041\n",
      "l2_leaf_reg            0.206887\n",
      "border_count           0.180808\n",
      "subsample              0.175652\n",
      "depth                  0.150524\n",
      "min_data_in_leaf       0.053933\n",
      "random_strength        0.000748\n",
      "one_hot_max_size       0.000001\n",
      "dtype: float64 \n",
      "\n"
     ]
    },
    {
     "name": "stderr",
     "output_type": "stream",
     "text": [
      "c:\\Users\\estif\\Desktop\\DataAnalyst\\_DataCourse_IronHack\\Quests\\ml_walmart_price\\venv\\lib\\site-packages\\sklearn\\inspection\\_partial_dependence.py:717: FutureWarning: The column 7 contains integer data. Partial dependence plots are not supported for integer data: this can lead to implicit rounding with NumPy arrays or even errors with newer pandas versions. Please convert numerical featuresto floating point dtypes ahead of time to avoid problems. This will raise ValueError in scikit-learn 1.9.\n",
      "  warnings.warn(\n",
      "c:\\Users\\estif\\Desktop\\DataAnalyst\\_DataCourse_IronHack\\Quests\\ml_walmart_price\\venv\\lib\\site-packages\\sklearn\\inspection\\_partial_dependence.py:717: FutureWarning: The column 6 contains integer data. Partial dependence plots are not supported for integer data: this can lead to implicit rounding with NumPy arrays or even errors with newer pandas versions. Please convert numerical featuresto floating point dtypes ahead of time to avoid problems. This will raise ValueError in scikit-learn 1.9.\n",
      "  warnings.warn(\n",
      "c:\\Users\\estif\\Desktop\\DataAnalyst\\_DataCourse_IronHack\\Quests\\ml_walmart_price\\venv\\lib\\site-packages\\sklearn\\inspection\\_partial_dependence.py:717: FutureWarning: The column 9 contains integer data. Partial dependence plots are not supported for integer data: this can lead to implicit rounding with NumPy arrays or even errors with newer pandas versions. Please convert numerical featuresto floating point dtypes ahead of time to avoid problems. This will raise ValueError in scikit-learn 1.9.\n",
      "  warnings.warn(\n",
      "c:\\Users\\estif\\Desktop\\DataAnalyst\\_DataCourse_IronHack\\Quests\\ml_walmart_price\\venv\\lib\\site-packages\\sklearn\\inspection\\_partial_dependence.py:717: FutureWarning: The column 8 contains integer data. Partial dependence plots are not supported for integer data: this can lead to implicit rounding with NumPy arrays or even errors with newer pandas versions. Please convert numerical featuresto floating point dtypes ahead of time to avoid problems. This will raise ValueError in scikit-learn 1.9.\n",
      "  warnings.warn(\n",
      "c:\\Users\\estif\\Desktop\\DataAnalyst\\_DataCourse_IronHack\\Quests\\ml_walmart_price\\venv\\lib\\site-packages\\sklearn\\inspection\\_partial_dependence.py:717: FutureWarning: The column 4 contains integer data. Partial dependence plots are not supported for integer data: this can lead to implicit rounding with NumPy arrays or even errors with newer pandas versions. Please convert numerical featuresto floating point dtypes ahead of time to avoid problems. This will raise ValueError in scikit-learn 1.9.\n",
      "  warnings.warn(\n",
      "c:\\Users\\estif\\Desktop\\DataAnalyst\\_DataCourse_IronHack\\Quests\\ml_walmart_price\\venv\\lib\\site-packages\\sklearn\\inspection\\_partial_dependence.py:717: FutureWarning: The column 3 contains integer data. Partial dependence plots are not supported for integer data: this can lead to implicit rounding with NumPy arrays or even errors with newer pandas versions. Please convert numerical featuresto floating point dtypes ahead of time to avoid problems. This will raise ValueError in scikit-learn 1.9.\n",
      "  warnings.warn(\n"
     ]
    },
    {
     "data": {
      "image/png": "[encoded data removed]",
      "text/plain": [
       "<Figure size 3200x3200 with 27 Axes>"
      ]
     },
     "metadata": {},
     "output_type": "display_data"
    }
   ],
   "source": [
    "# choose metric & hyper‐param cols, drop any non‐numeric ones —\n",
    "metric = 'wmae'\n",
    "ignore = {'model_name','mae','rmse','r2', metric, '__source__'}\n",
    "param_cols = [c for c in df_all.columns if c not in ignore]\n",
    "\n",
    "# keep only numeric hyperparams\n",
    "X = df_all[param_cols].select_dtypes(include=[np.number])\n",
    "y = df_all[metric]\n",
    "\n",
    "# train surrogate —\n",
    "rf = RandomForestRegressor(n_estimators=200, random_state=7, n_jobs=-1)\n",
    "rf.fit(X, y)\n",
    "\n",
    "# RF importances\n",
    "importances = pd.Series(rf.feature_importances_, index=X.columns)\n",
    "print(\"→ RF importances:\\n\", importances.sort_values(ascending=False), \"\\n\")\n",
    "\n",
    "# permutation importances\n",
    "perm = permutation_importance(rf, X, y, n_repeats=10, random_state=7, n_jobs=-1)\n",
    "perm_imp = pd.Series(perm.importances_mean, index=X.columns)\n",
    "print(\"→ Permutation importances:\\n\", perm_imp.sort_values(ascending=False), \"\\n\")\n",
    "\n",
    "# partial dependence plots for top-3 features, all in one figure —\n",
    "top = importances.sort_values(ascending=False).index[:].tolist()\n",
    "\n",
    "fig, axes = plt.subplots(4, 4 ,figsize=(32, 32), sharey=True)\n",
    "axes = axes.flatten()\n",
    "\n",
    "for ax, feat in zip(axes, top):\n",
    "    PartialDependenceDisplay.from_estimator(rf, X, [feat], ax=ax)\n",
    "    ax.set_title(f\"PDP: {feat}\")\n",
    "\n",
    "# turn off the last (unused) subplot\n",
    "axes[-1].axis('off')\n",
    "\n",
    "plt.tight_layout()\n",
    "plt.show()"
   ]
  },
  {
   "cell_type": "code",
   "execution_count": null,
   "id": "3c35834c",
   "metadata": {},
   "outputs": [],
   "source": [
    "%%skip\n",
    "#Kaggle\n",
    "def cat_pipeline_factory(params):\n",
    "    params = params.copy()\n",
    "    params.update(\n",
    "        task_type=\"GPU\",\n",
    "        devices=\"0\",\n",
    "        metric_period=20,\n",
    "        early_stopping_rounds=200,\n",
    "        bootstrap_type=\"Bernoulli\"      # lets subsample work\n",
    "    )\n",
    "\n",
    "    return Pipeline([\n",
    "        (\"scaler\", StandardScaler()),\n",
    "        (\"model\", CatBoostRegressor(\n",
    "            **params,\n",
    "            random_state=7,\n",
    "            verbose=0\n",
    "        ))\n",
    "    ])\n",
    "\n",
    "\n",
    "param_grid = {\n",
    "    # core learning-rate / depth / boosting length\n",
    "    \"iterations\"        : [2000],\n",
    "    \"depth\"             : [12, 16, 20],\n",
    "    \"learning_rate\"     : [0.3, 0.4, 0.5],\n",
    "\n",
    "    # regularisation & tree shape\n",
    "    \"l2_leaf_reg\"       : [17,30],\n",
    "    \"min_data_in_leaf\"  : [3, 5],\n",
    "    \"random_strength\"   : [5],\n",
    "\n",
    "    # sampling for rows\n",
    "    \"subsample\"         : [0.8],        # row sampling now works\n",
    "    # rsm removed ──↑\n",
    "\n",
    "    # other structural knobs\n",
    "    \"grow_policy\"       : [\"Depthwise\", \"Lossguide\"],\n",
    "    \"border_count\"      : [1024, 2048, 4096],\n",
    "    \"one_hot_max_size\"  : [10,15, 20],\n",
    "\n",
    "    # objective variants\n",
    "    \"loss_function\"     : [\"MAE\", \"RMSE\"],\n",
    "}\n",
    "\n",
    "\n",
    "trainer = ModelTrainer(\n",
    "    X               = X_train,\n",
    "    y               = y_train,\n",
    "    model_factory   = cat_pipeline_factory,\n",
    "    search          = \"random\",\n",
    "    param_grid      = param_grid,\n",
    "    n_iter          = 50,\n",
    "    cv_splitter     = TimeSeriesSplit(n_splits=3),\n",
    "    custom_metrics  = {\"wmae\": wmae_custom},\n",
    "    log_path        = \"/kaggle/working/cat_random_wmae02.csv\",\n",
    "    model_name      = \"CAT_WMAE\",\n",
    "    problem_type    = \"reg\",\n",
    "    n_jobs          = 1,                 # one fit → one GPU\n",
    "    random_state    = 7\n",
    ")\n",
    "\n",
    "\n",
    "best_params, best_score = trainer.train()\n",
    "print(\"Best WMAE:\", best_score)\n",
    "\n",
    "\n",
    "trainer.csv_file.close()\n",
    "del trainer\n",
    "gc.collect()\n"
   ]
  }
 ],
 "metadata": {
  "kaggle": {
   "accelerator": "gpu",
   "dataSources": [
    {
     "datasetId": 7749575,
     "sourceId": 12295466,
     "sourceType": "datasetVersion"
    },
    {
     "datasetId": 7750250,
     "sourceId": 12296537,
     "sourceType": "datasetVersion"
    }
   ],
   "dockerImageVersionId": 31041,
   "isGpuEnabled": true,
   "isInternetEnabled": true,
   "language": "python",
   "sourceType": "notebook"
  },
  "kernelspec": {
   "display_name": "venv",
   "language": "python",
   "name": "python3"
  },
  "language_info": {
   "codemirror_mode": {
    "name": "ipython",
    "version": 3
   },
   "file_extension": ".py",
   "mimetype": "text/x-python",
   "name": "python",
   "nbconvert_exporter": "python",
   "pygments_lexer": "ipython3",
   "version": "3.10.11"
  }
 },
 "nbformat": 4,
 "nbformat_minor": 5
}
