{
 "cells": [
  {
   "cell_type": "code",
   "execution_count": 2,
   "id": "6701bea9",
   "metadata": {},
   "outputs": [],
   "source": [
    "import pandas as pd\n",
    "import numpy as np\n",
    "import requests\n",
    "from dotenv import load_dotenv\n",
    "import os\n",
    "import json\n",
    "import time\n",
    "from datetime import date, datetime, timedelta\n",
    "from dateutil.easter import easter\n",
    "\n",
    "import matplotlib as plt\n",
    "import seaborn as sns\n",
    "\n",
    "#! pip install yfinance\n",
    "import yfinance as yf\n",
    "\n",
    "#!pip install akshare\n",
    "import akshare as ak\n",
    "\n",
    "#!pip install pandas pandas-datareader\n",
    "from pandas_datareader.data import DataReader\n",
    "from pandas_datareader import wb\n",
    "\n"
   ]
  },
  {
   "cell_type": "code",
   "execution_count": 3,
   "id": "e83caba5",
   "metadata": {},
   "outputs": [],
   "source": [
    "# skip cells:\n",
    "from IPython.core.magic import register_cell_magic\n",
    "\n",
    "@register_cell_magic\n",
    "def skip(line, cell):\n",
    "\n",
    "    return"
   ]
  },
  {
   "cell_type": "markdown",
   "id": "b6ecb136",
   "metadata": {},
   "source": [
    "# Data"
   ]
  },
  {
   "cell_type": "markdown",
   "id": "73590342",
   "metadata": {},
   "source": [
    "## Data Exploration"
   ]
  },
  {
   "cell_type": "code",
   "execution_count": 4,
   "id": "aca79ac9",
   "metadata": {},
   "outputs": [],
   "source": [
    "df_walmart_train = pd.read_csv('csv_files/walmart_data/train.csv')\n",
    "df_walmart_test = pd.read_csv('csv_files/walmart_data/test.csv')\n",
    "df_walmart_features = pd.read_csv('csv_files/walmart_data/features.csv')\n",
    "df_walmart_stores = pd.read_csv('csv_files/walmart_data/stores.csv')\n",
    "\n",
    "df_walmart_train[\"Date\"] = pd.to_datetime(df_walmart_train[\"Date\"], errors=\"raise\")\n",
    "df_walmart_test[\"Date\"] = pd.to_datetime(df_walmart_test[\"Date\"], errors=\"raise\")\n",
    "df_walmart_features[\"Date\"] = pd.to_datetime(df_walmart_features[\"Date\"], errors=\"raise\")"
   ]
  },
  {
   "cell_type": "code",
   "execution_count": 5,
   "id": "5231e068",
   "metadata": {},
   "outputs": [
    {
     "data": {
      "application/vnd.microsoft.datawrangler.viewer.v0+json": {
       "columns": [
        {
         "name": "index",
         "rawType": "int64",
         "type": "integer"
        },
        {
         "name": "Store",
         "rawType": "int64",
         "type": "integer"
        },
        {
         "name": "Dept",
         "rawType": "int64",
         "type": "integer"
        },
        {
         "name": "Date",
         "rawType": "datetime64[ns]",
         "type": "datetime"
        },
        {
         "name": "Weekly_Sales",
         "rawType": "float64",
         "type": "float"
        },
        {
         "name": "IsHoliday",
         "rawType": "bool",
         "type": "boolean"
        }
       ],
       "ref": "f6b827cc-365f-4f9c-bb39-073beabdb138",
       "rows": [
        [
         "0",
         "1",
         "1",
         "2010-02-05 00:00:00",
         "24924.5",
         "False"
        ],
        [
         "1",
         "1",
         "1",
         "2010-02-12 00:00:00",
         "46039.49",
         "True"
        ],
        [
         "2",
         "1",
         "1",
         "2010-02-19 00:00:00",
         "41595.55",
         "False"
        ],
        [
         "3",
         "1",
         "1",
         "2010-02-26 00:00:00",
         "19403.54",
         "False"
        ],
        [
         "4",
         "1",
         "1",
         "2010-03-05 00:00:00",
         "21827.9",
         "False"
        ],
        [
         "5",
         "1",
         "1",
         "2010-03-12 00:00:00",
         "21043.39",
         "False"
        ],
        [
         "6",
         "1",
         "1",
         "2010-03-19 00:00:00",
         "22136.64",
         "False"
        ],
        [
         "7",
         "1",
         "1",
         "2010-03-26 00:00:00",
         "26229.21",
         "False"
        ],
        [
         "8",
         "1",
         "1",
         "2010-04-02 00:00:00",
         "57258.43",
         "False"
        ],
        [
         "9",
         "1",
         "1",
         "2010-04-09 00:00:00",
         "42960.91",
         "False"
        ],
        [
         "10",
         "1",
         "1",
         "2010-04-16 00:00:00",
         "17596.96",
         "False"
        ],
        [
         "11",
         "1",
         "1",
         "2010-04-23 00:00:00",
         "16145.35",
         "False"
        ],
        [
         "12",
         "1",
         "1",
         "2010-04-30 00:00:00",
         "16555.11",
         "False"
        ],
        [
         "13",
         "1",
         "1",
         "2010-05-07 00:00:00",
         "17413.94",
         "False"
        ],
        [
         "14",
         "1",
         "1",
         "2010-05-14 00:00:00",
         "18926.74",
         "False"
        ],
        [
         "15",
         "1",
         "1",
         "2010-05-21 00:00:00",
         "14773.04",
         "False"
        ],
        [
         "16",
         "1",
         "1",
         "2010-05-28 00:00:00",
         "15580.43",
         "False"
        ],
        [
         "17",
         "1",
         "1",
         "2010-06-04 00:00:00",
         "17558.09",
         "False"
        ],
        [
         "18",
         "1",
         "1",
         "2010-06-11 00:00:00",
         "16637.62",
         "False"
        ],
        [
         "19",
         "1",
         "1",
         "2010-06-18 00:00:00",
         "16216.27",
         "False"
        ],
        [
         "20",
         "1",
         "1",
         "2010-06-25 00:00:00",
         "16328.72",
         "False"
        ],
        [
         "21",
         "1",
         "1",
         "2010-07-02 00:00:00",
         "16333.14",
         "False"
        ],
        [
         "22",
         "1",
         "1",
         "2010-07-09 00:00:00",
         "17688.76",
         "False"
        ],
        [
         "23",
         "1",
         "1",
         "2010-07-16 00:00:00",
         "17150.84",
         "False"
        ],
        [
         "24",
         "1",
         "1",
         "2010-07-23 00:00:00",
         "15360.45",
         "False"
        ],
        [
         "25",
         "1",
         "1",
         "2010-07-30 00:00:00",
         "15381.82",
         "False"
        ],
        [
         "26",
         "1",
         "1",
         "2010-08-06 00:00:00",
         "17508.41",
         "False"
        ],
        [
         "27",
         "1",
         "1",
         "2010-08-13 00:00:00",
         "15536.4",
         "False"
        ],
        [
         "28",
         "1",
         "1",
         "2010-08-20 00:00:00",
         "15740.13",
         "False"
        ],
        [
         "29",
         "1",
         "1",
         "2010-08-27 00:00:00",
         "15793.87",
         "False"
        ],
        [
         "30",
         "1",
         "1",
         "2010-09-03 00:00:00",
         "16241.78",
         "False"
        ],
        [
         "31",
         "1",
         "1",
         "2010-09-10 00:00:00",
         "18194.74",
         "True"
        ],
        [
         "32",
         "1",
         "1",
         "2010-09-17 00:00:00",
         "19354.23",
         "False"
        ],
        [
         "33",
         "1",
         "1",
         "2010-09-24 00:00:00",
         "18122.52",
         "False"
        ],
        [
         "34",
         "1",
         "1",
         "2010-10-01 00:00:00",
         "20094.19",
         "False"
        ],
        [
         "35",
         "1",
         "1",
         "2010-10-08 00:00:00",
         "23388.03",
         "False"
        ],
        [
         "36",
         "1",
         "1",
         "2010-10-15 00:00:00",
         "26978.34",
         "False"
        ],
        [
         "37",
         "1",
         "1",
         "2010-10-22 00:00:00",
         "25543.04",
         "False"
        ],
        [
         "38",
         "1",
         "1",
         "2010-10-29 00:00:00",
         "38640.93",
         "False"
        ],
        [
         "39",
         "1",
         "1",
         "2010-11-05 00:00:00",
         "34238.88",
         "False"
        ],
        [
         "40",
         "1",
         "1",
         "2010-11-12 00:00:00",
         "19549.39",
         "False"
        ],
        [
         "41",
         "1",
         "1",
         "2010-11-19 00:00:00",
         "19552.84",
         "False"
        ],
        [
         "42",
         "1",
         "1",
         "2010-11-26 00:00:00",
         "18820.29",
         "True"
        ],
        [
         "43",
         "1",
         "1",
         "2010-12-03 00:00:00",
         "22517.56",
         "False"
        ],
        [
         "44",
         "1",
         "1",
         "2010-12-10 00:00:00",
         "31497.65",
         "False"
        ],
        [
         "45",
         "1",
         "1",
         "2010-12-17 00:00:00",
         "44912.86",
         "False"
        ],
        [
         "46",
         "1",
         "1",
         "2010-12-24 00:00:00",
         "55931.23",
         "False"
        ],
        [
         "47",
         "1",
         "1",
         "2010-12-31 00:00:00",
         "19124.58",
         "True"
        ],
        [
         "48",
         "1",
         "1",
         "2011-01-07 00:00:00",
         "15984.24",
         "False"
        ],
        [
         "49",
         "1",
         "1",
         "2011-01-14 00:00:00",
         "17359.7",
         "False"
        ]
       ],
       "shape": {
        "columns": 5,
        "rows": 421570
       }
      },
      "text/html": [
       "<div>\n",
       "<style scoped>\n",
       "    .dataframe tbody tr th:only-of-type {\n",
       "        vertical-align: middle;\n",
       "    }\n",
       "\n",
       "    .dataframe tbody tr th {\n",
       "        vertical-align: top;\n",
       "    }\n",
       "\n",
       "    .dataframe thead th {\n",
       "        text-align: right;\n",
       "    }\n",
       "</style>\n",
       "<table border=\"1\" class=\"dataframe\">\n",
       "  <thead>\n",
       "    <tr style=\"text-align: right;\">\n",
       "      <th></th>\n",
       "      <th>Store</th>\n",
       "      <th>Dept</th>\n",
       "      <th>Date</th>\n",
       "      <th>Weekly_Sales</th>\n",
       "      <th>IsHoliday</th>\n",
       "    </tr>\n",
       "  </thead>\n",
       "  <tbody>\n",
       "    <tr>\n",
       "      <th>0</th>\n",
       "      <td>1</td>\n",
       "      <td>1</td>\n",
       "      <td>2010-02-05</td>\n",
       "      <td>24924.50</td>\n",
       "      <td>False</td>\n",
       "    </tr>\n",
       "    <tr>\n",
       "      <th>1</th>\n",
       "      <td>1</td>\n",
       "      <td>1</td>\n",
       "      <td>2010-02-12</td>\n",
       "      <td>46039.49</td>\n",
       "      <td>True</td>\n",
       "    </tr>\n",
       "    <tr>\n",
       "      <th>2</th>\n",
       "      <td>1</td>\n",
       "      <td>1</td>\n",
       "      <td>2010-02-19</td>\n",
       "      <td>41595.55</td>\n",
       "      <td>False</td>\n",
       "    </tr>\n",
       "    <tr>\n",
       "      <th>3</th>\n",
       "      <td>1</td>\n",
       "      <td>1</td>\n",
       "      <td>2010-02-26</td>\n",
       "      <td>19403.54</td>\n",
       "      <td>False</td>\n",
       "    </tr>\n",
       "    <tr>\n",
       "      <th>4</th>\n",
       "      <td>1</td>\n",
       "      <td>1</td>\n",
       "      <td>2010-03-05</td>\n",
       "      <td>21827.90</td>\n",
       "      <td>False</td>\n",
       "    </tr>\n",
       "    <tr>\n",
       "      <th>...</th>\n",
       "      <td>...</td>\n",
       "      <td>...</td>\n",
       "      <td>...</td>\n",
       "      <td>...</td>\n",
       "      <td>...</td>\n",
       "    </tr>\n",
       "    <tr>\n",
       "      <th>421565</th>\n",
       "      <td>45</td>\n",
       "      <td>98</td>\n",
       "      <td>2012-09-28</td>\n",
       "      <td>508.37</td>\n",
       "      <td>False</td>\n",
       "    </tr>\n",
       "    <tr>\n",
       "      <th>421566</th>\n",
       "      <td>45</td>\n",
       "      <td>98</td>\n",
       "      <td>2012-10-05</td>\n",
       "      <td>628.10</td>\n",
       "      <td>False</td>\n",
       "    </tr>\n",
       "    <tr>\n",
       "      <th>421567</th>\n",
       "      <td>45</td>\n",
       "      <td>98</td>\n",
       "      <td>2012-10-12</td>\n",
       "      <td>1061.02</td>\n",
       "      <td>False</td>\n",
       "    </tr>\n",
       "    <tr>\n",
       "      <th>421568</th>\n",
       "      <td>45</td>\n",
       "      <td>98</td>\n",
       "      <td>2012-10-19</td>\n",
       "      <td>760.01</td>\n",
       "      <td>False</td>\n",
       "    </tr>\n",
       "    <tr>\n",
       "      <th>421569</th>\n",
       "      <td>45</td>\n",
       "      <td>98</td>\n",
       "      <td>2012-10-26</td>\n",
       "      <td>1076.80</td>\n",
       "      <td>False</td>\n",
       "    </tr>\n",
       "  </tbody>\n",
       "</table>\n",
       "<p>421570 rows × 5 columns</p>\n",
       "</div>"
      ],
      "text/plain": [
       "        Store  Dept       Date  Weekly_Sales  IsHoliday\n",
       "0           1     1 2010-02-05      24924.50      False\n",
       "1           1     1 2010-02-12      46039.49       True\n",
       "2           1     1 2010-02-19      41595.55      False\n",
       "3           1     1 2010-02-26      19403.54      False\n",
       "4           1     1 2010-03-05      21827.90      False\n",
       "...       ...   ...        ...           ...        ...\n",
       "421565     45    98 2012-09-28        508.37      False\n",
       "421566     45    98 2012-10-05        628.10      False\n",
       "421567     45    98 2012-10-12       1061.02      False\n",
       "421568     45    98 2012-10-19        760.01      False\n",
       "421569     45    98 2012-10-26       1076.80      False\n",
       "\n",
       "[421570 rows x 5 columns]"
      ]
     },
     "execution_count": 5,
     "metadata": {},
     "output_type": "execute_result"
    }
   ],
   "source": [
    "df_walmart_train"
   ]
  },
  {
   "cell_type": "code",
   "execution_count": 6,
   "id": "a576dec3",
   "metadata": {},
   "outputs": [
    {
     "data": {
      "application/vnd.microsoft.datawrangler.viewer.v0+json": {
       "columns": [
        {
         "name": "index",
         "rawType": "int64",
         "type": "integer"
        },
        {
         "name": "Store",
         "rawType": "int64",
         "type": "integer"
        },
        {
         "name": "Dept",
         "rawType": "int64",
         "type": "integer"
        },
        {
         "name": "Date",
         "rawType": "datetime64[ns]",
         "type": "datetime"
        },
        {
         "name": "IsHoliday",
         "rawType": "bool",
         "type": "boolean"
        }
       ],
       "ref": "683103e0-1b11-42c2-9a12-82ac4b0402e6",
       "rows": [
        [
         "0",
         "1",
         "1",
         "2012-11-02 00:00:00",
         "False"
        ],
        [
         "1",
         "1",
         "1",
         "2012-11-09 00:00:00",
         "False"
        ],
        [
         "2",
         "1",
         "1",
         "2012-11-16 00:00:00",
         "False"
        ],
        [
         "3",
         "1",
         "1",
         "2012-11-23 00:00:00",
         "True"
        ],
        [
         "4",
         "1",
         "1",
         "2012-11-30 00:00:00",
         "False"
        ],
        [
         "5",
         "1",
         "1",
         "2012-12-07 00:00:00",
         "False"
        ],
        [
         "6",
         "1",
         "1",
         "2012-12-14 00:00:00",
         "False"
        ],
        [
         "7",
         "1",
         "1",
         "2012-12-21 00:00:00",
         "False"
        ],
        [
         "8",
         "1",
         "1",
         "2012-12-28 00:00:00",
         "True"
        ],
        [
         "9",
         "1",
         "1",
         "2013-01-04 00:00:00",
         "False"
        ],
        [
         "10",
         "1",
         "1",
         "2013-01-11 00:00:00",
         "False"
        ],
        [
         "11",
         "1",
         "1",
         "2013-01-18 00:00:00",
         "False"
        ],
        [
         "12",
         "1",
         "1",
         "2013-01-25 00:00:00",
         "False"
        ],
        [
         "13",
         "1",
         "1",
         "2013-02-01 00:00:00",
         "False"
        ],
        [
         "14",
         "1",
         "1",
         "2013-02-08 00:00:00",
         "True"
        ],
        [
         "15",
         "1",
         "1",
         "2013-02-15 00:00:00",
         "False"
        ],
        [
         "16",
         "1",
         "1",
         "2013-02-22 00:00:00",
         "False"
        ],
        [
         "17",
         "1",
         "1",
         "2013-03-01 00:00:00",
         "False"
        ],
        [
         "18",
         "1",
         "1",
         "2013-03-08 00:00:00",
         "False"
        ],
        [
         "19",
         "1",
         "1",
         "2013-03-15 00:00:00",
         "False"
        ],
        [
         "20",
         "1",
         "1",
         "2013-03-22 00:00:00",
         "False"
        ],
        [
         "21",
         "1",
         "1",
         "2013-03-29 00:00:00",
         "False"
        ],
        [
         "22",
         "1",
         "1",
         "2013-04-05 00:00:00",
         "False"
        ],
        [
         "23",
         "1",
         "1",
         "2013-04-12 00:00:00",
         "False"
        ],
        [
         "24",
         "1",
         "1",
         "2013-04-19 00:00:00",
         "False"
        ],
        [
         "25",
         "1",
         "1",
         "2013-04-26 00:00:00",
         "False"
        ],
        [
         "26",
         "1",
         "1",
         "2013-05-03 00:00:00",
         "False"
        ],
        [
         "27",
         "1",
         "1",
         "2013-05-10 00:00:00",
         "False"
        ],
        [
         "28",
         "1",
         "1",
         "2013-05-17 00:00:00",
         "False"
        ],
        [
         "29",
         "1",
         "1",
         "2013-05-24 00:00:00",
         "False"
        ],
        [
         "30",
         "1",
         "1",
         "2013-05-31 00:00:00",
         "False"
        ],
        [
         "31",
         "1",
         "1",
         "2013-06-07 00:00:00",
         "False"
        ],
        [
         "32",
         "1",
         "1",
         "2013-06-14 00:00:00",
         "False"
        ],
        [
         "33",
         "1",
         "1",
         "2013-06-21 00:00:00",
         "False"
        ],
        [
         "34",
         "1",
         "1",
         "2013-06-28 00:00:00",
         "False"
        ],
        [
         "35",
         "1",
         "1",
         "2013-07-05 00:00:00",
         "False"
        ],
        [
         "36",
         "1",
         "1",
         "2013-07-12 00:00:00",
         "False"
        ],
        [
         "37",
         "1",
         "1",
         "2013-07-19 00:00:00",
         "False"
        ],
        [
         "38",
         "1",
         "1",
         "2013-07-26 00:00:00",
         "False"
        ],
        [
         "39",
         "1",
         "2",
         "2012-11-02 00:00:00",
         "False"
        ],
        [
         "40",
         "1",
         "2",
         "2012-11-09 00:00:00",
         "False"
        ],
        [
         "41",
         "1",
         "2",
         "2012-11-16 00:00:00",
         "False"
        ],
        [
         "42",
         "1",
         "2",
         "2012-11-23 00:00:00",
         "True"
        ],
        [
         "43",
         "1",
         "2",
         "2012-11-30 00:00:00",
         "False"
        ],
        [
         "44",
         "1",
         "2",
         "2012-12-07 00:00:00",
         "False"
        ],
        [
         "45",
         "1",
         "2",
         "2012-12-14 00:00:00",
         "False"
        ],
        [
         "46",
         "1",
         "2",
         "2012-12-21 00:00:00",
         "False"
        ],
        [
         "47",
         "1",
         "2",
         "2012-12-28 00:00:00",
         "True"
        ],
        [
         "48",
         "1",
         "2",
         "2013-01-04 00:00:00",
         "False"
        ],
        [
         "49",
         "1",
         "2",
         "2013-01-11 00:00:00",
         "False"
        ]
       ],
       "shape": {
        "columns": 4,
        "rows": 115064
       }
      },
      "text/html": [
       "<div>\n",
       "<style scoped>\n",
       "    .dataframe tbody tr th:only-of-type {\n",
       "        vertical-align: middle;\n",
       "    }\n",
       "\n",
       "    .dataframe tbody tr th {\n",
       "        vertical-align: top;\n",
       "    }\n",
       "\n",
       "    .dataframe thead th {\n",
       "        text-align: right;\n",
       "    }\n",
       "</style>\n",
       "<table border=\"1\" class=\"dataframe\">\n",
       "  <thead>\n",
       "    <tr style=\"text-align: right;\">\n",
       "      <th></th>\n",
       "      <th>Store</th>\n",
       "      <th>Dept</th>\n",
       "      <th>Date</th>\n",
       "      <th>IsHoliday</th>\n",
       "    </tr>\n",
       "  </thead>\n",
       "  <tbody>\n",
       "    <tr>\n",
       "      <th>0</th>\n",
       "      <td>1</td>\n",
       "      <td>1</td>\n",
       "      <td>2012-11-02</td>\n",
       "      <td>False</td>\n",
       "    </tr>\n",
       "    <tr>\n",
       "      <th>1</th>\n",
       "      <td>1</td>\n",
       "      <td>1</td>\n",
       "      <td>2012-11-09</td>\n",
       "      <td>False</td>\n",
       "    </tr>\n",
       "    <tr>\n",
       "      <th>2</th>\n",
       "      <td>1</td>\n",
       "      <td>1</td>\n",
       "      <td>2012-11-16</td>\n",
       "      <td>False</td>\n",
       "    </tr>\n",
       "    <tr>\n",
       "      <th>3</th>\n",
       "      <td>1</td>\n",
       "      <td>1</td>\n",
       "      <td>2012-11-23</td>\n",
       "      <td>True</td>\n",
       "    </tr>\n",
       "    <tr>\n",
       "      <th>4</th>\n",
       "      <td>1</td>\n",
       "      <td>1</td>\n",
       "      <td>2012-11-30</td>\n",
       "      <td>False</td>\n",
       "    </tr>\n",
       "    <tr>\n",
       "      <th>...</th>\n",
       "      <td>...</td>\n",
       "      <td>...</td>\n",
       "      <td>...</td>\n",
       "      <td>...</td>\n",
       "    </tr>\n",
       "    <tr>\n",
       "      <th>115059</th>\n",
       "      <td>45</td>\n",
       "      <td>98</td>\n",
       "      <td>2013-06-28</td>\n",
       "      <td>False</td>\n",
       "    </tr>\n",
       "    <tr>\n",
       "      <th>115060</th>\n",
       "      <td>45</td>\n",
       "      <td>98</td>\n",
       "      <td>2013-07-05</td>\n",
       "      <td>False</td>\n",
       "    </tr>\n",
       "    <tr>\n",
       "      <th>115061</th>\n",
       "      <td>45</td>\n",
       "      <td>98</td>\n",
       "      <td>2013-07-12</td>\n",
       "      <td>False</td>\n",
       "    </tr>\n",
       "    <tr>\n",
       "      <th>115062</th>\n",
       "      <td>45</td>\n",
       "      <td>98</td>\n",
       "      <td>2013-07-19</td>\n",
       "      <td>False</td>\n",
       "    </tr>\n",
       "    <tr>\n",
       "      <th>115063</th>\n",
       "      <td>45</td>\n",
       "      <td>98</td>\n",
       "      <td>2013-07-26</td>\n",
       "      <td>False</td>\n",
       "    </tr>\n",
       "  </tbody>\n",
       "</table>\n",
       "<p>115064 rows × 4 columns</p>\n",
       "</div>"
      ],
      "text/plain": [
       "        Store  Dept       Date  IsHoliday\n",
       "0           1     1 2012-11-02      False\n",
       "1           1     1 2012-11-09      False\n",
       "2           1     1 2012-11-16      False\n",
       "3           1     1 2012-11-23       True\n",
       "4           1     1 2012-11-30      False\n",
       "...       ...   ...        ...        ...\n",
       "115059     45    98 2013-06-28      False\n",
       "115060     45    98 2013-07-05      False\n",
       "115061     45    98 2013-07-12      False\n",
       "115062     45    98 2013-07-19      False\n",
       "115063     45    98 2013-07-26      False\n",
       "\n",
       "[115064 rows x 4 columns]"
      ]
     },
     "execution_count": 6,
     "metadata": {},
     "output_type": "execute_result"
    }
   ],
   "source": [
    "df_walmart_test"
   ]
  },
  {
   "cell_type": "code",
   "execution_count": 7,
   "id": "9fd3115b",
   "metadata": {},
   "outputs": [
    {
     "data": {
      "application/vnd.microsoft.datawrangler.viewer.v0+json": {
       "columns": [
        {
         "name": "index",
         "rawType": "int64",
         "type": "integer"
        },
        {
         "name": "Store",
         "rawType": "int64",
         "type": "integer"
        },
        {
         "name": "Date",
         "rawType": "datetime64[ns]",
         "type": "datetime"
        },
        {
         "name": "Temperature",
         "rawType": "float64",
         "type": "float"
        },
        {
         "name": "Fuel_Price",
         "rawType": "float64",
         "type": "float"
        },
        {
         "name": "MarkDown1",
         "rawType": "float64",
         "type": "float"
        },
        {
         "name": "MarkDown2",
         "rawType": "float64",
         "type": "float"
        },
        {
         "name": "MarkDown3",
         "rawType": "float64",
         "type": "float"
        },
        {
         "name": "MarkDown4",
         "rawType": "float64",
         "type": "float"
        },
        {
         "name": "MarkDown5",
         "rawType": "float64",
         "type": "float"
        },
        {
         "name": "CPI",
         "rawType": "float64",
         "type": "float"
        },
        {
         "name": "Unemployment",
         "rawType": "float64",
         "type": "float"
        },
        {
         "name": "IsHoliday",
         "rawType": "bool",
         "type": "boolean"
        }
       ],
       "ref": "317f01a8-2b1f-4b10-989b-485a0d0d2bc1",
       "rows": [
        [
         "0",
         "1",
         "2010-02-05 00:00:00",
         "42.31",
         "2.572",
         null,
         null,
         null,
         null,
         null,
         "211.0963582",
         "8.106",
         "False"
        ],
        [
         "1",
         "1",
         "2010-02-12 00:00:00",
         "38.51",
         "2.548",
         null,
         null,
         null,
         null,
         null,
         "211.2421698",
         "8.106",
         "True"
        ],
        [
         "2",
         "1",
         "2010-02-19 00:00:00",
         "39.93",
         "2.514",
         null,
         null,
         null,
         null,
         null,
         "211.2891429",
         "8.106",
         "False"
        ],
        [
         "3",
         "1",
         "2010-02-26 00:00:00",
         "46.63",
         "2.561",
         null,
         null,
         null,
         null,
         null,
         "211.3196429",
         "8.106",
         "False"
        ],
        [
         "4",
         "1",
         "2010-03-05 00:00:00",
         "46.5",
         "2.625",
         null,
         null,
         null,
         null,
         null,
         "211.3501429",
         "8.106",
         "False"
        ],
        [
         "5",
         "1",
         "2010-03-12 00:00:00",
         "57.79",
         "2.667",
         null,
         null,
         null,
         null,
         null,
         "211.3806429",
         "8.106",
         "False"
        ],
        [
         "6",
         "1",
         "2010-03-19 00:00:00",
         "54.58",
         "2.72",
         null,
         null,
         null,
         null,
         null,
         "211.215635",
         "8.106",
         "False"
        ],
        [
         "7",
         "1",
         "2010-03-26 00:00:00",
         "51.45",
         "2.732",
         null,
         null,
         null,
         null,
         null,
         "211.0180424",
         "8.106",
         "False"
        ],
        [
         "8",
         "1",
         "2010-04-02 00:00:00",
         "62.27",
         "2.719",
         null,
         null,
         null,
         null,
         null,
         "210.8204499",
         "7.808",
         "False"
        ],
        [
         "9",
         "1",
         "2010-04-09 00:00:00",
         "65.86",
         "2.77",
         null,
         null,
         null,
         null,
         null,
         "210.6228574",
         "7.808",
         "False"
        ],
        [
         "10",
         "1",
         "2010-04-16 00:00:00",
         "66.32",
         "2.808",
         null,
         null,
         null,
         null,
         null,
         "210.4887",
         "7.808",
         "False"
        ],
        [
         "11",
         "1",
         "2010-04-23 00:00:00",
         "64.84",
         "2.795",
         null,
         null,
         null,
         null,
         null,
         "210.4391228",
         "7.808",
         "False"
        ],
        [
         "12",
         "1",
         "2010-04-30 00:00:00",
         "67.41",
         "2.78",
         null,
         null,
         null,
         null,
         null,
         "210.3895456",
         "7.808",
         "False"
        ],
        [
         "13",
         "1",
         "2010-05-07 00:00:00",
         "72.55",
         "2.835",
         null,
         null,
         null,
         null,
         null,
         "210.3399684",
         "7.808",
         "False"
        ],
        [
         "14",
         "1",
         "2010-05-14 00:00:00",
         "74.78",
         "2.854",
         null,
         null,
         null,
         null,
         null,
         "210.3374261",
         "7.808",
         "False"
        ],
        [
         "15",
         "1",
         "2010-05-21 00:00:00",
         "76.44",
         "2.826",
         null,
         null,
         null,
         null,
         null,
         "210.6170934",
         "7.808",
         "False"
        ],
        [
         "16",
         "1",
         "2010-05-28 00:00:00",
         "80.44",
         "2.759",
         null,
         null,
         null,
         null,
         null,
         "210.8967606",
         "7.808",
         "False"
        ],
        [
         "17",
         "1",
         "2010-06-04 00:00:00",
         "80.69",
         "2.705",
         null,
         null,
         null,
         null,
         null,
         "211.1764278",
         "7.808",
         "False"
        ],
        [
         "18",
         "1",
         "2010-06-11 00:00:00",
         "80.43",
         "2.668",
         null,
         null,
         null,
         null,
         null,
         "211.4560951",
         "7.808",
         "False"
        ],
        [
         "19",
         "1",
         "2010-06-18 00:00:00",
         "84.11",
         "2.637",
         null,
         null,
         null,
         null,
         null,
         "211.4537719",
         "7.808",
         "False"
        ],
        [
         "20",
         "1",
         "2010-06-25 00:00:00",
         "84.34",
         "2.653",
         null,
         null,
         null,
         null,
         null,
         "211.3386526",
         "7.808",
         "False"
        ],
        [
         "21",
         "1",
         "2010-07-02 00:00:00",
         "80.91",
         "2.669",
         null,
         null,
         null,
         null,
         null,
         "211.2235333",
         "7.787",
         "False"
        ],
        [
         "22",
         "1",
         "2010-07-09 00:00:00",
         "80.48",
         "2.642",
         null,
         null,
         null,
         null,
         null,
         "211.108414",
         "7.787",
         "False"
        ],
        [
         "23",
         "1",
         "2010-07-16 00:00:00",
         "83.15",
         "2.623",
         null,
         null,
         null,
         null,
         null,
         "211.1003854",
         "7.787",
         "False"
        ],
        [
         "24",
         "1",
         "2010-07-23 00:00:00",
         "83.36",
         "2.608",
         null,
         null,
         null,
         null,
         null,
         "211.2351443",
         "7.787",
         "False"
        ],
        [
         "25",
         "1",
         "2010-07-30 00:00:00",
         "81.84",
         "2.64",
         null,
         null,
         null,
         null,
         null,
         "211.3699032",
         "7.787",
         "False"
        ],
        [
         "26",
         "1",
         "2010-08-06 00:00:00",
         "87.16",
         "2.627",
         null,
         null,
         null,
         null,
         null,
         "211.5046621",
         "7.787",
         "False"
        ],
        [
         "27",
         "1",
         "2010-08-13 00:00:00",
         "87.0",
         "2.692",
         null,
         null,
         null,
         null,
         null,
         "211.6394211",
         "7.787",
         "False"
        ],
        [
         "28",
         "1",
         "2010-08-20 00:00:00",
         "86.65",
         "2.664",
         null,
         null,
         null,
         null,
         null,
         "211.6033633",
         "7.787",
         "False"
        ],
        [
         "29",
         "1",
         "2010-08-27 00:00:00",
         "85.22",
         "2.619",
         null,
         null,
         null,
         null,
         null,
         "211.5673056",
         "7.787",
         "False"
        ],
        [
         "30",
         "1",
         "2010-09-03 00:00:00",
         "81.21",
         "2.577",
         null,
         null,
         null,
         null,
         null,
         "211.5312479",
         "7.787",
         "False"
        ],
        [
         "31",
         "1",
         "2010-09-10 00:00:00",
         "78.69",
         "2.565",
         null,
         null,
         null,
         null,
         null,
         "211.4951902",
         "7.787",
         "True"
        ],
        [
         "32",
         "1",
         "2010-09-17 00:00:00",
         "82.11",
         "2.582",
         null,
         null,
         null,
         null,
         null,
         "211.5224596",
         "7.787",
         "False"
        ],
        [
         "33",
         "1",
         "2010-09-24 00:00:00",
         "80.94",
         "2.624",
         null,
         null,
         null,
         null,
         null,
         "211.5972246",
         "7.787",
         "False"
        ],
        [
         "34",
         "1",
         "2010-10-01 00:00:00",
         "71.89",
         "2.603",
         null,
         null,
         null,
         null,
         null,
         "211.6719895",
         "7.838",
         "False"
        ],
        [
         "35",
         "1",
         "2010-10-08 00:00:00",
         "63.93",
         "2.633",
         null,
         null,
         null,
         null,
         null,
         "211.7467544",
         "7.838",
         "False"
        ],
        [
         "36",
         "1",
         "2010-10-15 00:00:00",
         "67.18",
         "2.72",
         null,
         null,
         null,
         null,
         null,
         "211.8137436",
         "7.838",
         "False"
        ],
        [
         "37",
         "1",
         "2010-10-22 00:00:00",
         "69.86",
         "2.725",
         null,
         null,
         null,
         null,
         null,
         "211.8612937",
         "7.838",
         "False"
        ],
        [
         "38",
         "1",
         "2010-10-29 00:00:00",
         "69.64",
         "2.716",
         null,
         null,
         null,
         null,
         null,
         "211.9088438",
         "7.838",
         "False"
        ],
        [
         "39",
         "1",
         "2010-11-05 00:00:00",
         "58.74",
         "2.689",
         null,
         null,
         null,
         null,
         null,
         "211.9563939",
         "7.838",
         "False"
        ],
        [
         "40",
         "1",
         "2010-11-12 00:00:00",
         "59.61",
         "2.728",
         null,
         null,
         null,
         null,
         null,
         "212.003944",
         "7.838",
         "False"
        ],
        [
         "41",
         "1",
         "2010-11-19 00:00:00",
         "51.41",
         "2.771",
         null,
         null,
         null,
         null,
         null,
         "211.8896737",
         "7.838",
         "False"
        ],
        [
         "42",
         "1",
         "2010-11-26 00:00:00",
         "64.52",
         "2.735",
         null,
         null,
         null,
         null,
         null,
         "211.7484333",
         "7.838",
         "True"
        ],
        [
         "43",
         "1",
         "2010-12-03 00:00:00",
         "49.27",
         "2.708",
         null,
         null,
         null,
         null,
         null,
         "211.607193",
         "7.838",
         "False"
        ],
        [
         "44",
         "1",
         "2010-12-10 00:00:00",
         "46.33",
         "2.843",
         null,
         null,
         null,
         null,
         null,
         "211.4659526",
         "7.838",
         "False"
        ],
        [
         "45",
         "1",
         "2010-12-17 00:00:00",
         "49.84",
         "2.869",
         null,
         null,
         null,
         null,
         null,
         "211.4053124",
         "7.838",
         "False"
        ],
        [
         "46",
         "1",
         "2010-12-24 00:00:00",
         "52.33",
         "2.886",
         null,
         null,
         null,
         null,
         null,
         "211.4051222",
         "7.838",
         "False"
        ],
        [
         "47",
         "1",
         "2010-12-31 00:00:00",
         "48.43",
         "2.943",
         null,
         null,
         null,
         null,
         null,
         "211.4049321",
         "7.838",
         "True"
        ],
        [
         "48",
         "1",
         "2011-01-07 00:00:00",
         "48.27",
         "2.976",
         null,
         null,
         null,
         null,
         null,
         "211.4047419",
         "7.742",
         "False"
        ],
        [
         "49",
         "1",
         "2011-01-14 00:00:00",
         "35.4",
         "2.983",
         null,
         null,
         null,
         null,
         null,
         "211.4574109",
         "7.742",
         "False"
        ]
       ],
       "shape": {
        "columns": 12,
        "rows": 8190
       }
      },
      "text/html": [
       "<div>\n",
       "<style scoped>\n",
       "    .dataframe tbody tr th:only-of-type {\n",
       "        vertical-align: middle;\n",
       "    }\n",
       "\n",
       "    .dataframe tbody tr th {\n",
       "        vertical-align: top;\n",
       "    }\n",
       "\n",
       "    .dataframe thead th {\n",
       "        text-align: right;\n",
       "    }\n",
       "</style>\n",
       "<table border=\"1\" class=\"dataframe\">\n",
       "  <thead>\n",
       "    <tr style=\"text-align: right;\">\n",
       "      <th></th>\n",
       "      <th>Store</th>\n",
       "      <th>Date</th>\n",
       "      <th>Temperature</th>\n",
       "      <th>Fuel_Price</th>\n",
       "      <th>MarkDown1</th>\n",
       "      <th>MarkDown2</th>\n",
       "      <th>MarkDown3</th>\n",
       "      <th>MarkDown4</th>\n",
       "      <th>MarkDown5</th>\n",
       "      <th>CPI</th>\n",
       "      <th>Unemployment</th>\n",
       "      <th>IsHoliday</th>\n",
       "    </tr>\n",
       "  </thead>\n",
       "  <tbody>\n",
       "    <tr>\n",
       "      <th>0</th>\n",
       "      <td>1</td>\n",
       "      <td>2010-02-05</td>\n",
       "      <td>42.31</td>\n",
       "      <td>2.572</td>\n",
       "      <td>NaN</td>\n",
       "      <td>NaN</td>\n",
       "      <td>NaN</td>\n",
       "      <td>NaN</td>\n",
       "      <td>NaN</td>\n",
       "      <td>211.096358</td>\n",
       "      <td>8.106</td>\n",
       "      <td>False</td>\n",
       "    </tr>\n",
       "    <tr>\n",
       "      <th>1</th>\n",
       "      <td>1</td>\n",
       "      <td>2010-02-12</td>\n",
       "      <td>38.51</td>\n",
       "      <td>2.548</td>\n",
       "      <td>NaN</td>\n",
       "      <td>NaN</td>\n",
       "      <td>NaN</td>\n",
       "      <td>NaN</td>\n",
       "      <td>NaN</td>\n",
       "      <td>211.242170</td>\n",
       "      <td>8.106</td>\n",
       "      <td>True</td>\n",
       "    </tr>\n",
       "    <tr>\n",
       "      <th>2</th>\n",
       "      <td>1</td>\n",
       "      <td>2010-02-19</td>\n",
       "      <td>39.93</td>\n",
       "      <td>2.514</td>\n",
       "      <td>NaN</td>\n",
       "      <td>NaN</td>\n",
       "      <td>NaN</td>\n",
       "      <td>NaN</td>\n",
       "      <td>NaN</td>\n",
       "      <td>211.289143</td>\n",
       "      <td>8.106</td>\n",
       "      <td>False</td>\n",
       "    </tr>\n",
       "    <tr>\n",
       "      <th>3</th>\n",
       "      <td>1</td>\n",
       "      <td>2010-02-26</td>\n",
       "      <td>46.63</td>\n",
       "      <td>2.561</td>\n",
       "      <td>NaN</td>\n",
       "      <td>NaN</td>\n",
       "      <td>NaN</td>\n",
       "      <td>NaN</td>\n",
       "      <td>NaN</td>\n",
       "      <td>211.319643</td>\n",
       "      <td>8.106</td>\n",
       "      <td>False</td>\n",
       "    </tr>\n",
       "    <tr>\n",
       "      <th>4</th>\n",
       "      <td>1</td>\n",
       "      <td>2010-03-05</td>\n",
       "      <td>46.50</td>\n",
       "      <td>2.625</td>\n",
       "      <td>NaN</td>\n",
       "      <td>NaN</td>\n",
       "      <td>NaN</td>\n",
       "      <td>NaN</td>\n",
       "      <td>NaN</td>\n",
       "      <td>211.350143</td>\n",
       "      <td>8.106</td>\n",
       "      <td>False</td>\n",
       "    </tr>\n",
       "    <tr>\n",
       "      <th>...</th>\n",
       "      <td>...</td>\n",
       "      <td>...</td>\n",
       "      <td>...</td>\n",
       "      <td>...</td>\n",
       "      <td>...</td>\n",
       "      <td>...</td>\n",
       "      <td>...</td>\n",
       "      <td>...</td>\n",
       "      <td>...</td>\n",
       "      <td>...</td>\n",
       "      <td>...</td>\n",
       "      <td>...</td>\n",
       "    </tr>\n",
       "    <tr>\n",
       "      <th>8185</th>\n",
       "      <td>45</td>\n",
       "      <td>2013-06-28</td>\n",
       "      <td>76.05</td>\n",
       "      <td>3.639</td>\n",
       "      <td>4842.29</td>\n",
       "      <td>975.03</td>\n",
       "      <td>3.00</td>\n",
       "      <td>2449.97</td>\n",
       "      <td>3169.69</td>\n",
       "      <td>NaN</td>\n",
       "      <td>NaN</td>\n",
       "      <td>False</td>\n",
       "    </tr>\n",
       "    <tr>\n",
       "      <th>8186</th>\n",
       "      <td>45</td>\n",
       "      <td>2013-07-05</td>\n",
       "      <td>77.50</td>\n",
       "      <td>3.614</td>\n",
       "      <td>9090.48</td>\n",
       "      <td>2268.58</td>\n",
       "      <td>582.74</td>\n",
       "      <td>5797.47</td>\n",
       "      <td>1514.93</td>\n",
       "      <td>NaN</td>\n",
       "      <td>NaN</td>\n",
       "      <td>False</td>\n",
       "    </tr>\n",
       "    <tr>\n",
       "      <th>8187</th>\n",
       "      <td>45</td>\n",
       "      <td>2013-07-12</td>\n",
       "      <td>79.37</td>\n",
       "      <td>3.614</td>\n",
       "      <td>3789.94</td>\n",
       "      <td>1827.31</td>\n",
       "      <td>85.72</td>\n",
       "      <td>744.84</td>\n",
       "      <td>2150.36</td>\n",
       "      <td>NaN</td>\n",
       "      <td>NaN</td>\n",
       "      <td>False</td>\n",
       "    </tr>\n",
       "    <tr>\n",
       "      <th>8188</th>\n",
       "      <td>45</td>\n",
       "      <td>2013-07-19</td>\n",
       "      <td>82.84</td>\n",
       "      <td>3.737</td>\n",
       "      <td>2961.49</td>\n",
       "      <td>1047.07</td>\n",
       "      <td>204.19</td>\n",
       "      <td>363.00</td>\n",
       "      <td>1059.46</td>\n",
       "      <td>NaN</td>\n",
       "      <td>NaN</td>\n",
       "      <td>False</td>\n",
       "    </tr>\n",
       "    <tr>\n",
       "      <th>8189</th>\n",
       "      <td>45</td>\n",
       "      <td>2013-07-26</td>\n",
       "      <td>76.06</td>\n",
       "      <td>3.804</td>\n",
       "      <td>212.02</td>\n",
       "      <td>851.73</td>\n",
       "      <td>2.06</td>\n",
       "      <td>10.88</td>\n",
       "      <td>1864.57</td>\n",
       "      <td>NaN</td>\n",
       "      <td>NaN</td>\n",
       "      <td>False</td>\n",
       "    </tr>\n",
       "  </tbody>\n",
       "</table>\n",
       "<p>8190 rows × 12 columns</p>\n",
       "</div>"
      ],
      "text/plain": [
       "      Store       Date  Temperature  Fuel_Price  MarkDown1  MarkDown2  \\\n",
       "0         1 2010-02-05        42.31       2.572        NaN        NaN   \n",
       "1         1 2010-02-12        38.51       2.548        NaN        NaN   \n",
       "2         1 2010-02-19        39.93       2.514        NaN        NaN   \n",
       "3         1 2010-02-26        46.63       2.561        NaN        NaN   \n",
       "4         1 2010-03-05        46.50       2.625        NaN        NaN   \n",
       "...     ...        ...          ...         ...        ...        ...   \n",
       "8185     45 2013-06-28        76.05       3.639    4842.29     975.03   \n",
       "8186     45 2013-07-05        77.50       3.614    9090.48    2268.58   \n",
       "8187     45 2013-07-12        79.37       3.614    3789.94    1827.31   \n",
       "8188     45 2013-07-19        82.84       3.737    2961.49    1047.07   \n",
       "8189     45 2013-07-26        76.06       3.804     212.02     851.73   \n",
       "\n",
       "      MarkDown3  MarkDown4  MarkDown5         CPI  Unemployment  IsHoliday  \n",
       "0           NaN        NaN        NaN  211.096358         8.106      False  \n",
       "1           NaN        NaN        NaN  211.242170         8.106       True  \n",
       "2           NaN        NaN        NaN  211.289143         8.106      False  \n",
       "3           NaN        NaN        NaN  211.319643         8.106      False  \n",
       "4           NaN        NaN        NaN  211.350143         8.106      False  \n",
       "...         ...        ...        ...         ...           ...        ...  \n",
       "8185       3.00    2449.97    3169.69         NaN           NaN      False  \n",
       "8186     582.74    5797.47    1514.93         NaN           NaN      False  \n",
       "8187      85.72     744.84    2150.36         NaN           NaN      False  \n",
       "8188     204.19     363.00    1059.46         NaN           NaN      False  \n",
       "8189       2.06      10.88    1864.57         NaN           NaN      False  \n",
       "\n",
       "[8190 rows x 12 columns]"
      ]
     },
     "execution_count": 7,
     "metadata": {},
     "output_type": "execute_result"
    }
   ],
   "source": [
    "df_walmart_features\n"
   ]
  },
  {
   "cell_type": "markdown",
   "id": "ea6bce62",
   "metadata": {},
   "source": [
    "## Data Gathering"
   ]
  },
  {
   "cell_type": "markdown",
   "id": "d4045cd2",
   "metadata": {},
   "source": [
    "#### Sp500"
   ]
  },
  {
   "cell_type": "code",
   "execution_count": 8,
   "id": "a568aad2",
   "metadata": {},
   "outputs": [],
   "source": [
    "%%skip\n",
    "# SP500 Index\n",
    "START_DATE = \"2000-01-01\"\n",
    "END_DATE   = date.today().isoformat()\n",
    "\n",
    "\n",
    "daily = yf.download(\n",
    "    \"^GSPC\",           # S&P 500 index ticker\n",
    "    start=START_DATE,\n",
    "    end=END_DATE,\n",
    "    interval=\"1d\",\n",
    "    auto_adjust=True,\n",
    "    progress=False,\n",
    ")\n",
    "\n",
    "if isinstance(daily.columns, pd.MultiIndex):\n",
    "    lvl0 = daily.columns.get_level_values(0)\n",
    "    if \"Close\" in lvl0:\n",
    "        close_prices = daily.xs(\"Close\", axis=1, level=0)\n",
    "    elif \"Adj Close\" in lvl0:\n",
    "        close_prices = daily.xs(\"Adj Close\", axis=1, level=0)\n",
    "    else:\n",
    "        raise KeyError(\"Neither 'Close' nor 'Adj Close' found in data\")\n",
    "else:\n",
    "    if \"Close\" in daily.columns:\n",
    "        close_prices = daily[\"Close\"]\n",
    "    else:\n",
    "        close_prices = daily[\"Adj Close\"]\n",
    "\n",
    "\n",
    "weekly_mean_close = close_prices.resample(\"W-FRI\").mean()\n",
    "\n",
    "if isinstance(weekly_mean_close, pd.Series):\n",
    "    df_sp500 = weekly_mean_close.to_frame(name=\"SPX_Weekly_Mean_Close\")\n",
    "else:\n",
    "    df_sp500 = weekly_mean_close.copy()\n",
    "    df_sp500.columns = [\"SPX_Weekly_Mean_Close\"]\n",
    "\n",
    "\n",
    "OUTFILE = \"csv_files/idea_csv/sp500_weekly_mean_close.csv\"\n",
    "df_sp500.to_csv(OUTFILE)\n",
    "\n"
   ]
  },
  {
   "cell_type": "code",
   "execution_count": 9,
   "id": "6cf15d9d",
   "metadata": {},
   "outputs": [
    {
     "data": {
      "application/vnd.microsoft.datawrangler.viewer.v0+json": {
       "columns": [
        {
         "name": "index",
         "rawType": "int64",
         "type": "integer"
        },
        {
         "name": "Date",
         "rawType": "object",
         "type": "string"
        },
        {
         "name": "SPX_Weekly_Mean_Close",
         "rawType": "float64",
         "type": "float"
        }
       ],
       "ref": "f8d2f754-d7a4-4874-afaa-f44a7ae938be",
       "rows": [
        [
         "0",
         "2000-01-07",
         "1420.333984375"
        ],
        [
         "1",
         "2000-01-14",
         "1448.6480224609377"
        ],
        [
         "2",
         "2000-01-21",
         "1449.4924926757812"
        ],
        [
         "3",
         "2000-01-28",
         "1394.8740234375"
        ],
        [
         "4",
         "2000-02-04",
         "1412.439990234375"
        ],
        [
         "5",
         "2000-02-11",
         "1416.323974609375"
        ],
        [
         "6",
         "2000-02-18",
         "1382.802001953125"
        ],
        [
         "7",
         "2000-02-25",
         "1349.9125061035156"
        ],
        [
         "8",
         "2000-03-03",
         "1376.918017578125"
        ],
        [
         "9",
         "2000-03-10",
         "1382.07197265625"
        ],
        [
         "10",
         "2000-03-17",
         "1411.5699951171875"
        ],
        [
         "11",
         "2000-03-24",
         "1501.189990234375"
        ],
        [
         "12",
         "2000-03-31",
         "1505.3219970703126"
        ],
        [
         "13",
         "2000-04-07",
         "1501.1519775390625"
        ],
        [
         "14",
         "2000-04-14",
         "1453.8580078125"
        ],
        [
         "15",
         "2000-04-21",
         "1426.2649841308594"
        ],
        [
         "16",
         "2000-04-28",
         "1457.1280029296877"
        ],
        [
         "17",
         "2000-05-05",
         "1434.3679931640625"
        ],
        [
         "18",
         "2000-05-12",
         "1409.626025390625"
        ],
        [
         "19",
         "2000-05-19",
         "1442.0719970703126"
        ],
        [
         "20",
         "2000-05-26",
         "1386.6340087890626"
        ],
        [
         "21",
         "2000-06-02",
         "1442.2799987792969"
        ],
        [
         "22",
         "2000-06-09",
         "1463.089990234375"
        ],
        [
         "23",
         "2000-06-16",
         "1465.833984375"
        ],
        [
         "24",
         "2000-06-23",
         "1466.947998046875"
        ],
        [
         "25",
         "2000-06-30",
         "1451.5340087890625"
        ],
        [
         "26",
         "2000-07-07",
         "1462.8350219726562"
        ],
        [
         "27",
         "2000-07-14",
         "1491.047998046875"
        ],
        [
         "28",
         "2000-07-21",
         "1492.3899658203125"
        ],
        [
         "29",
         "2000-07-28",
         "1452.1380126953125"
        ],
        [
         "30",
         "2000-08-04",
         "1444.6239990234376"
        ],
        [
         "31",
         "2000-08-11",
         "1473.4159912109376"
        ],
        [
         "32",
         "2000-08-18",
         "1488.7260009765623"
        ],
        [
         "33",
         "2000-08-25",
         "1503.6679931640624"
        ],
        [
         "34",
         "2000-09-01",
         "1512.993994140625"
        ],
        [
         "35",
         "2000-09-08",
         "1499.084991455078"
        ],
        [
         "36",
         "2000-09-15",
         "1480.568017578125"
        ],
        [
         "37",
         "2000-09-22",
         "1450.70400390625"
        ],
        [
         "38",
         "2000-09-29",
         "1437.5219970703124"
        ],
        [
         "39",
         "2000-10-06",
         "1428.4559814453123"
        ],
        [
         "40",
         "2000-10-13",
         "1371.518017578125"
        ],
        [
         "41",
         "2000-10-20",
         "1370.4820068359377"
        ],
        [
         "42",
         "2000-10-27",
         "1380.5659912109377"
        ],
        [
         "43",
         "2000-11-03",
         "1420.8579833984377"
        ],
        [
         "44",
         "2000-11-10",
         "1407.8919921875"
        ],
        [
         "45",
         "2000-11-17",
         "1372.8119873046876"
        ],
        [
         "46",
         "2000-11-24",
         "1338.5249938964844"
        ],
        [
         "47",
         "2000-12-01",
         "1331.433984375"
        ],
        [
         "48",
         "2000-12-08",
         "1353.2820068359374"
        ],
        [
         "49",
         "2000-12-15",
         "1352.8900146484375"
        ]
       ],
       "shape": {
        "columns": 2,
        "rows": 1329
       }
      },
      "text/html": [
       "<div>\n",
       "<style scoped>\n",
       "    .dataframe tbody tr th:only-of-type {\n",
       "        vertical-align: middle;\n",
       "    }\n",
       "\n",
       "    .dataframe tbody tr th {\n",
       "        vertical-align: top;\n",
       "    }\n",
       "\n",
       "    .dataframe thead th {\n",
       "        text-align: right;\n",
       "    }\n",
       "</style>\n",
       "<table border=\"1\" class=\"dataframe\">\n",
       "  <thead>\n",
       "    <tr style=\"text-align: right;\">\n",
       "      <th></th>\n",
       "      <th>Date</th>\n",
       "      <th>SPX_Weekly_Mean_Close</th>\n",
       "    </tr>\n",
       "  </thead>\n",
       "  <tbody>\n",
       "    <tr>\n",
       "      <th>0</th>\n",
       "      <td>2000-01-07</td>\n",
       "      <td>1420.333984</td>\n",
       "    </tr>\n",
       "    <tr>\n",
       "      <th>1</th>\n",
       "      <td>2000-01-14</td>\n",
       "      <td>1448.648022</td>\n",
       "    </tr>\n",
       "    <tr>\n",
       "      <th>2</th>\n",
       "      <td>2000-01-21</td>\n",
       "      <td>1449.492493</td>\n",
       "    </tr>\n",
       "    <tr>\n",
       "      <th>3</th>\n",
       "      <td>2000-01-28</td>\n",
       "      <td>1394.874023</td>\n",
       "    </tr>\n",
       "    <tr>\n",
       "      <th>4</th>\n",
       "      <td>2000-02-04</td>\n",
       "      <td>1412.439990</td>\n",
       "    </tr>\n",
       "    <tr>\n",
       "      <th>...</th>\n",
       "      <td>...</td>\n",
       "      <td>...</td>\n",
       "    </tr>\n",
       "    <tr>\n",
       "      <th>1324</th>\n",
       "      <td>2025-05-23</td>\n",
       "      <td>5878.699902</td>\n",
       "    </tr>\n",
       "    <tr>\n",
       "      <th>1325</th>\n",
       "      <td>2025-05-30</td>\n",
       "      <td>5908.487427</td>\n",
       "    </tr>\n",
       "    <tr>\n",
       "      <th>1326</th>\n",
       "      <td>2025-06-06</td>\n",
       "      <td>5963.355957</td>\n",
       "    </tr>\n",
       "    <tr>\n",
       "      <th>1327</th>\n",
       "      <td>2025-06-13</td>\n",
       "      <td>6017.832031</td>\n",
       "    </tr>\n",
       "    <tr>\n",
       "      <th>1328</th>\n",
       "      <td>2025-06-20</td>\n",
       "      <td>6033.109863</td>\n",
       "    </tr>\n",
       "  </tbody>\n",
       "</table>\n",
       "<p>1329 rows × 2 columns</p>\n",
       "</div>"
      ],
      "text/plain": [
       "            Date  SPX_Weekly_Mean_Close\n",
       "0     2000-01-07            1420.333984\n",
       "1     2000-01-14            1448.648022\n",
       "2     2000-01-21            1449.492493\n",
       "3     2000-01-28            1394.874023\n",
       "4     2000-02-04            1412.439990\n",
       "...          ...                    ...\n",
       "1324  2025-05-23            5878.699902\n",
       "1325  2025-05-30            5908.487427\n",
       "1326  2025-06-06            5963.355957\n",
       "1327  2025-06-13            6017.832031\n",
       "1328  2025-06-20            6033.109863\n",
       "\n",
       "[1329 rows x 2 columns]"
      ]
     },
     "execution_count": 9,
     "metadata": {},
     "output_type": "execute_result"
    }
   ],
   "source": [
    "df_sp500 = pd.read_csv(\"csv_files/idea_csv/sp500_weekly_mean_close.csv\")\n",
    "df_sp500"
   ]
  },
  {
   "cell_type": "markdown",
   "id": "adb5f51d",
   "metadata": {},
   "source": [
    "#### Walmart Stock Price"
   ]
  },
  {
   "cell_type": "code",
   "execution_count": 10,
   "id": "f2f4ab5a",
   "metadata": {},
   "outputs": [],
   "source": [
    "%%skip\n",
    "START_DATE = \"2000-01-01\"\n",
    "END_DATE   = date.today().isoformat()\n",
    "\n",
    "\n",
    "daily = yf.download(\n",
    "    \"WMT\",           \n",
    "    start=START_DATE,\n",
    "    end=END_DATE,\n",
    "    interval=\"1d\",\n",
    "    auto_adjust=True, \n",
    "    progress=False,\n",
    ")\n",
    "\n",
    "\n",
    "if isinstance(daily.columns, pd.MultiIndex):\n",
    "    lvl0 = daily.columns.get_level_values(0)\n",
    "    if \"Close\" in lvl0:\n",
    "        close_prices = daily.xs(\"Close\", axis=1, level=0)\n",
    "    elif \"Adj Close\" in lvl0:\n",
    "        close_prices = daily.xs(\"Adj Close\", axis=1, level=0)\n",
    "    else:\n",
    "        raise KeyError(\"Neither 'Close' nor 'Adj Close' found in data\")\n",
    "else:\n",
    "    if \"Close\" in daily.columns:\n",
    "        close_prices = daily[\"Close\"]\n",
    "    else:\n",
    "        close_prices = daily[\"Adj Close\"]\n",
    "\n",
    "\n",
    "weekly_mean_close = close_prices.resample(\"W-FRI\").mean()\n",
    "\n",
    "\n",
    "if isinstance(weekly_mean_close, pd.Series):\n",
    "    df_walmart_stock = weekly_mean_close.to_frame(name=\"WMT_Weekly_Mean_Close\")\n",
    "else:\n",
    "    df_walmart_stock = weekly_mean_close.copy()\n",
    "    df_walmart_stock.columns = [\"WMT_Weekly_Mean_Close\"]\n",
    "\n",
    "\n",
    "OUTFILE = \"csv_files/idea_csv/wmt_weekly_mean_close.csv\"\n",
    "df_walmart_stock.to_csv(OUTFILE)\n",
    "\n"
   ]
  },
  {
   "cell_type": "code",
   "execution_count": 11,
   "id": "00c9a073",
   "metadata": {},
   "outputs": [
    {
     "data": {
      "application/vnd.microsoft.datawrangler.viewer.v0+json": {
       "columns": [
        {
         "name": "index",
         "rawType": "int64",
         "type": "integer"
        },
        {
         "name": "Date",
         "rawType": "object",
         "type": "string"
        },
        {
         "name": "WMT_Weekly_Mean_Close",
         "rawType": "float64",
         "type": "float"
        }
       ],
       "ref": "85844c47-4cf2-45c5-ba15-27d8b5c2bc46",
       "rows": [
        [
         "0",
         "2000-01-07",
         "13.94176368713379"
        ],
        [
         "1",
         "2000-01-14",
         "14.02186985015869"
        ],
        [
         "2",
         "2000-01-21",
         "13.642019987106323"
        ],
        [
         "3",
         "2000-01-28",
         "12.676026916503906"
        ],
        [
         "4",
         "2000-02-04",
         "12.240765380859376"
        ],
        [
         "5",
         "2000-02-11",
         "12.224746131896971"
        ],
        [
         "6",
         "2000-02-18",
         "11.354220199584962"
        ],
        [
         "7",
         "2000-02-25",
         "10.013715744018556"
        ],
        [
         "8",
         "2000-03-03",
         "10.558463668823242"
        ],
        [
         "9",
         "2000-03-10",
         "10.392900466918944"
        ],
        [
         "10",
         "2000-03-17",
         "11.002425384521484"
        ],
        [
         "11",
         "2000-03-24",
         "11.833722686767578"
        ],
        [
         "12",
         "2000-03-31",
         "12.157240867614746"
        ],
        [
         "13",
         "2000-04-07",
         "12.921914100646973"
        ],
        [
         "14",
         "2000-04-14",
         "13.023511695861815"
        ],
        [
         "15",
         "2000-04-21",
         "11.790943145751951"
        ],
        [
         "16",
         "2000-04-28",
         "12.421935081481934"
        ],
        [
         "17",
         "2000-05-05",
         "11.606459426879884"
        ],
        [
         "18",
         "2000-05-12",
         "11.758860969543456"
        ],
        [
         "19",
         "2000-05-19",
         "12.250819206237791"
        ],
        [
         "20",
         "2000-05-26",
         "11.996819114685058"
        ],
        [
         "21",
         "2000-06-02",
         "12.141867399215698"
        ],
        [
         "22",
         "2000-06-09",
         "12.24814453125"
        ],
        [
         "23",
         "2000-06-16",
         "11.654248237609863"
        ],
        [
         "24",
         "2000-06-23",
         "11.52277603149414"
        ],
        [
         "25",
         "2000-06-30",
         "11.9182466506958"
        ],
        [
         "26",
         "2000-07-07",
         "12.469626188278198"
        ],
        [
         "27",
         "2000-07-14",
         "12.970820426940918"
        ],
        [
         "28",
         "2000-07-21",
         "12.867769050598143"
        ],
        [
         "29",
         "2000-07-28",
         "12.596093559265135"
        ],
        [
         "30",
         "2000-08-04",
         "11.589694404602051"
        ],
        [
         "31",
         "2000-08-11",
         "11.54151496887207"
        ],
        [
         "32",
         "2000-08-18",
         "10.93124942779541"
        ],
        [
         "33",
         "2000-08-25",
         "10.585966110229492"
        ],
        [
         "34",
         "2000-09-01",
         "10.438753700256347"
        ],
        [
         "35",
         "2000-09-08",
         "10.860318422317505"
        ],
        [
         "36",
         "2000-09-15",
         "11.431287956237792"
        ],
        [
         "37",
         "2000-09-22",
         "10.71832275390625"
        ],
        [
         "38",
         "2000-09-29",
         "10.34050350189209"
        ],
        [
         "39",
         "2000-10-06",
         "9.850139999389649"
        ],
        [
         "40",
         "2000-10-13",
         "9.686683082580569"
        ],
        [
         "41",
         "2000-10-20",
         "10.05110912322998"
        ],
        [
         "42",
         "2000-10-27",
         "9.788508224487304"
        ],
        [
         "43",
         "2000-11-03",
         "9.930525970458984"
        ],
        [
         "44",
         "2000-11-10",
         "10.1824068069458"
        ],
        [
         "45",
         "2000-11-17",
         "10.203843116760254"
        ],
        [
         "46",
         "2000-11-24",
         "9.971389055252075"
        ],
        [
         "47",
         "2000-12-01",
         "10.871059799194336"
        ],
        [
         "48",
         "2000-12-08",
         "11.717806625366212"
        ],
        [
         "49",
         "2000-12-15",
         "10.911254501342771"
        ]
       ],
       "shape": {
        "columns": 2,
        "rows": 1329
       }
      },
      "text/html": [
       "<div>\n",
       "<style scoped>\n",
       "    .dataframe tbody tr th:only-of-type {\n",
       "        vertical-align: middle;\n",
       "    }\n",
       "\n",
       "    .dataframe tbody tr th {\n",
       "        vertical-align: top;\n",
       "    }\n",
       "\n",
       "    .dataframe thead th {\n",
       "        text-align: right;\n",
       "    }\n",
       "</style>\n",
       "<table border=\"1\" class=\"dataframe\">\n",
       "  <thead>\n",
       "    <tr style=\"text-align: right;\">\n",
       "      <th></th>\n",
       "      <th>Date</th>\n",
       "      <th>WMT_Weekly_Mean_Close</th>\n",
       "    </tr>\n",
       "  </thead>\n",
       "  <tbody>\n",
       "    <tr>\n",
       "      <th>0</th>\n",
       "      <td>2000-01-07</td>\n",
       "      <td>13.941764</td>\n",
       "    </tr>\n",
       "    <tr>\n",
       "      <th>1</th>\n",
       "      <td>2000-01-14</td>\n",
       "      <td>14.021870</td>\n",
       "    </tr>\n",
       "    <tr>\n",
       "      <th>2</th>\n",
       "      <td>2000-01-21</td>\n",
       "      <td>13.642020</td>\n",
       "    </tr>\n",
       "    <tr>\n",
       "      <th>3</th>\n",
       "      <td>2000-01-28</td>\n",
       "      <td>12.676027</td>\n",
       "    </tr>\n",
       "    <tr>\n",
       "      <th>4</th>\n",
       "      <td>2000-02-04</td>\n",
       "      <td>12.240765</td>\n",
       "    </tr>\n",
       "    <tr>\n",
       "      <th>...</th>\n",
       "      <td>...</td>\n",
       "      <td>...</td>\n",
       "    </tr>\n",
       "    <tr>\n",
       "      <th>1324</th>\n",
       "      <td>2025-05-23</td>\n",
       "      <td>96.924001</td>\n",
       "    </tr>\n",
       "    <tr>\n",
       "      <th>1325</th>\n",
       "      <td>2025-05-30</td>\n",
       "      <td>97.660000</td>\n",
       "    </tr>\n",
       "    <tr>\n",
       "      <th>1326</th>\n",
       "      <td>2025-06-06</td>\n",
       "      <td>98.906000</td>\n",
       "    </tr>\n",
       "    <tr>\n",
       "      <th>1327</th>\n",
       "      <td>2025-06-13</td>\n",
       "      <td>95.968001</td>\n",
       "    </tr>\n",
       "    <tr>\n",
       "      <th>1328</th>\n",
       "      <td>2025-06-20</td>\n",
       "      <td>94.290001</td>\n",
       "    </tr>\n",
       "  </tbody>\n",
       "</table>\n",
       "<p>1329 rows × 2 columns</p>\n",
       "</div>"
      ],
      "text/plain": [
       "            Date  WMT_Weekly_Mean_Close\n",
       "0     2000-01-07              13.941764\n",
       "1     2000-01-14              14.021870\n",
       "2     2000-01-21              13.642020\n",
       "3     2000-01-28              12.676027\n",
       "4     2000-02-04              12.240765\n",
       "...          ...                    ...\n",
       "1324  2025-05-23              96.924001\n",
       "1325  2025-05-30              97.660000\n",
       "1326  2025-06-06              98.906000\n",
       "1327  2025-06-13              95.968001\n",
       "1328  2025-06-20              94.290001\n",
       "\n",
       "[1329 rows x 2 columns]"
      ]
     },
     "execution_count": 11,
     "metadata": {},
     "output_type": "execute_result"
    }
   ],
   "source": [
    "df_walmart_stock = pd.read_csv(\"csv_files/idea_csv/wmt_weekly_mean_close.csv\")\n",
    "df_walmart_stock"
   ]
  },
  {
   "cell_type": "markdown",
   "id": "26393546",
   "metadata": {},
   "source": [
    "#### External Logistic companies Walmart"
   ]
  },
  {
   "cell_type": "code",
   "execution_count": 12,
   "id": "813a9bff",
   "metadata": {},
   "outputs": [],
   "source": [
    "%%skip\n",
    "#   - ARCB: ArcBest Corporation (ABF Logistics / ArcBest Freight)\n",
    "#   - AIT: AIT Worldwide Logistics\n",
    "#   - CEVA: CEVA Logistics\n",
    "#   - DPW.DE: Deutsche Post (DHL Freight / DHL Supply Chain) on XETRA\n",
    "#   - FDX: FedEx Corporation (FedEx Freight)\n",
    "#   - SAIA: Saia, Inc. (Saia Motor Freight Line)\n",
    "#   - TFII.TO: TFI International (TForce Freight) on TSX\n",
    "#   - XPO: XPO Logistics, Inc.\n",
    "#   - ODFL: Old Dominion Freight Line, Inc.\n",
    "#   - UPS: United Parcel Service, Inc.\n",
    "#   - JBHT: J.B. Hunt Transport Services, Inc.\n",
    "# Note: Some private carriers (Estes Express, R+L Carriers) are not publicly traded.\n",
    "\n",
    "TICKERS = [\n",
    "    \"ARCB\", \"AIT\", \"CEVA\", \"DPW.DE\", \"FDX\",\n",
    "    \"SAIA\", \"TFII.TO\", \"XPO\", \"ODFL\", \"UPS\", \"JBHT\"\n",
    "]\n",
    "\n",
    "START_DATE = \"2000-01-01\"\n",
    "END_DATE   = date.today().isoformat()\n",
    "\n",
    "daily = yf.download(\n",
    "    TICKERS,\n",
    "    start=START_DATE,\n",
    "    end=END_DATE,\n",
    "    interval=\"1d\",\n",
    "    auto_adjust=True,\n",
    "    group_by=\"ticker\",\n",
    "    threads=True,\n",
    "    progress=True,\n",
    ")\n",
    "\n",
    "close = pd.DataFrame()\n",
    "for sym in TICKERS:\n",
    "    try:\n",
    "        series = daily[sym][\"Close\"]\n",
    "        close[sym] = series\n",
    "    except Exception:\n",
    "        print(f\"Skipping {sym!r}: no data available or ticker invalid\")\n",
    "\n",
    "\n",
    "before = close.shape[1]\n",
    "close = close.dropna(axis=1, how=\"all\")\n",
    "after = close.shape[1]\n",
    "print(f\"Dropped {before-after} tickers; {after} tickers remain for analysis\")\n",
    "\n",
    "df_logistics = close.resample(\"W-FRI\").mean().round(4)\n",
    "\n",
    "df_logistics.columns = [f\"{sym}_df_logistics_Close\" for sym in df_logistics.columns]\n",
    "\n",
    "OUTFILE = \"csv_files/idea_csv/logistics_df_logistics_close.csv\"\n",
    "df_logistics.to_csv(OUTFILE)\n"
   ]
  },
  {
   "cell_type": "code",
   "execution_count": 13,
   "id": "d1238b66",
   "metadata": {},
   "outputs": [
    {
     "data": {
      "application/vnd.microsoft.datawrangler.viewer.v0+json": {
       "columns": [
        {
         "name": "index",
         "rawType": "int64",
         "type": "integer"
        },
        {
         "name": "Date",
         "rawType": "object",
         "type": "string"
        },
        {
         "name": "ARCB_df_logistics_Close",
         "rawType": "float64",
         "type": "float"
        },
        {
         "name": "AIT_df_logistics_Close",
         "rawType": "float64",
         "type": "float"
        },
        {
         "name": "CEVA_df_logistics_Close",
         "rawType": "float64",
         "type": "float"
        },
        {
         "name": "FDX_df_logistics_Close",
         "rawType": "float64",
         "type": "float"
        },
        {
         "name": "SAIA_df_logistics_Close",
         "rawType": "float64",
         "type": "float"
        },
        {
         "name": "TFII.TO_df_logistics_Close",
         "rawType": "float64",
         "type": "float"
        },
        {
         "name": "XPO_df_logistics_Close",
         "rawType": "float64",
         "type": "float"
        },
        {
         "name": "ODFL_df_logistics_Close",
         "rawType": "float64",
         "type": "float"
        },
        {
         "name": "UPS_df_logistics_Close",
         "rawType": "float64",
         "type": "float"
        },
        {
         "name": "JBHT_df_logistics_Close",
         "rawType": "float64",
         "type": "float"
        }
       ],
       "ref": "eda55c6e-8767-4063-b0b6-df6d7180a51a",
       "rows": [
        [
         "0",
         "2000-01-07",
         "10.2456",
         "4.2252",
         null,
         "36.133",
         null,
         null,
         null,
         "0.484",
         "33.4329",
         "2.6094"
        ],
        [
         "1",
         "2000-01-14",
         "10.2209",
         "4.05",
         null,
         "37.6513",
         null,
         null,
         null,
         "0.4914",
         "33.7016",
         "2.5821"
        ],
        [
         "2",
         "2000-01-21",
         "10.6344",
         "4.3393",
         null,
         "35.193",
         null,
         null,
         null,
         "0.5243",
         "34.1281",
         "2.5124"
        ],
        [
         "3",
         "2000-01-28",
         "9.9543",
         "4.288",
         null,
         "33.1066",
         null,
         null,
         null,
         "0.5354",
         "32.7017",
         "2.4714"
        ],
        [
         "4",
         "2000-02-04",
         "9.3568",
         "4.2649",
         null,
         "31.9144",
         null,
         null,
         null,
         "0.519",
         "29.3584",
         "2.5079"
        ],
        [
         "5",
         "2000-02-11",
         "8.8976",
         "4.307",
         null,
         "31.5883",
         null,
         null,
         null,
         "0.5311",
         "28.5273",
         "2.4425"
        ],
        [
         "6",
         "2000-02-18",
         "8.9272",
         "4.2289",
         null,
         "29.53",
         null,
         null,
         null,
         "0.519",
         "28.0211",
         "2.2851"
        ],
        [
         "7",
         "2000-02-25",
         "8.3076",
         "4.3205",
         null,
         "28.3404",
         null,
         null,
         null,
         "0.5236",
         "27.4762",
         "2.2211"
        ],
        [
         "8",
         "2000-03-03",
         "7.5546",
         "4.6052",
         null,
         "28.1646",
         null,
         null,
         null,
         "0.5195",
         "26.892",
         "2.2751"
        ],
        [
         "9",
         "2000-03-10",
         "7.8113",
         "4.6119",
         null,
         "26.7074",
         null,
         null,
         null,
         "0.5105",
         "26.4908",
         "2.3725"
        ],
        [
         "10",
         "2000-03-17",
         "8.6409",
         "4.502",
         null,
         "27.5226",
         null,
         null,
         null,
         "0.5116",
         "27.2806",
         "2.9457"
        ],
        [
         "11",
         "2000-03-24",
         "8.9717",
         "4.2456",
         null,
         "30.763",
         null,
         null,
         null,
         "0.5227",
         "29.5875",
         "3.0943"
        ],
        [
         "12",
         "2000-03-31",
         "8.9075",
         "4.179",
         null,
         "31.41",
         null,
         null,
         null,
         "0.5206",
         "30.4948",
         "2.9594"
        ],
        [
         "13",
         "2000-04-07",
         "9.4753",
         "4.2955",
         null,
         "31.6597",
         null,
         null,
         null,
         "0.4724",
         "29.7003",
         "2.8595"
        ],
        [
         "14",
         "2000-04-14",
         "10.1024",
         "4.0225",
         null,
         "32.7194",
         null,
         null,
         null,
         "0.4544",
         "30.4839",
         "2.8021"
        ],
        [
         "15",
         "2000-04-21",
         "10.7023",
         "4.0458",
         null,
         "30.5694",
         null,
         null,
         null,
         "0.4462",
         "30.2457",
         "3.1904"
        ],
        [
         "16",
         "2000-04-28",
         "10.2505",
         "4.482",
         null,
         "31.1196",
         null,
         null,
         null,
         "0.4491",
         "32.8659",
         "3.2991"
        ],
        [
         "17",
         "2000-05-05",
         "10.3196",
         "4.6019",
         null,
         "30.4369",
         null,
         null,
         null,
         "0.4597",
         "31.2173",
         "3.306"
        ],
        [
         "18",
         "2000-05-12",
         "9.6975",
         "4.5119",
         null,
         "32.0876",
         null,
         null,
         null,
         "0.4311",
         "30.8098",
         "3.2766"
        ],
        [
         "19",
         "2000-05-19",
         "9.1346",
         "4.5882",
         null,
         "29.6828",
         null,
         null,
         null,
         "0.4348",
         "31.2549",
         "3.2017"
        ],
        [
         "20",
         "2000-05-26",
         "9.1396",
         "4.7358",
         null,
         "28.9186",
         null,
         null,
         null,
         "0.4281",
         "30.0219",
         "3.1093"
        ],
        [
         "21",
         "2000-06-02",
         "9.0729",
         "4.6327",
         null,
         "29.2192",
         null,
         null,
         null,
         "0.4011",
         "30.3557",
         "3.2185"
        ],
        [
         "22",
         "2000-06-09",
         "9.3963",
         "4.5446",
         null,
         "29.9172",
         null,
         null,
         null,
         "0.4125",
         "30.6716",
         "3.1942"
        ],
        [
         "23",
         "2000-06-16",
         "9.7765",
         "4.6285",
         null,
         "29.6574",
         null,
         null,
         null,
         "0.3982",
         "30.7816",
         "3.1792"
        ],
        [
         "24",
         "2000-06-23",
         "9.7173",
         "4.6151",
         null,
         "28.3072",
         null,
         null,
         null,
         "0.4056",
         "31.1494",
         "3.1018"
        ],
        [
         "25",
         "2000-06-30",
         "9.3815",
         "4.5715",
         null,
         "30.4878",
         null,
         null,
         null,
         "0.4152",
         "30.1404",
         "2.922"
        ],
        [
         "26",
         "2000-07-07",
         "8.6285",
         "4.6327",
         null,
         "32.5946",
         null,
         null,
         null,
         "0.4038",
         "30.4814",
         "3.0031"
        ],
        [
         "27",
         "2000-07-14",
         "8.6902",
         "4.6486",
         null,
         "33.504",
         null,
         null,
         null,
         "0.3892",
         "30.5459",
         "3.0718"
        ],
        [
         "28",
         "2000-07-21",
         "8.9964",
         "4.4642",
         null,
         "32.8825",
         null,
         null,
         null,
         "0.385",
         "30.3259",
         "3.0843"
        ],
        [
         "29",
         "2000-07-28",
         "10.2999",
         "4.2931",
         null,
         "31.9756",
         null,
         null,
         null,
         "0.4056",
         "29.3012",
         "2.9694"
        ],
        [
         "30",
         "2000-08-04",
         "11.2726",
         "4.5614",
         null,
         "32.4035",
         null,
         null,
         null,
         "0.4242",
         "29.2572",
         "3.0269"
        ],
        [
         "31",
         "2000-08-11",
         "12.1071",
         "4.6884",
         null,
         "32.5258",
         null,
         null,
         null,
         "0.4628",
         "28.9177",
         "2.9345"
        ],
        [
         "32",
         "2000-08-18",
         "12.4971",
         "4.7302",
         null,
         "33.1576",
         null,
         null,
         null,
         "0.4517",
         "28.8423",
         "2.9151"
        ],
        [
         "33",
         "2000-08-25",
         "11.8997",
         "4.5074",
         null,
         "32.7805",
         null,
         null,
         null,
         "0.4305",
         "28.387",
         "2.8396"
        ],
        [
         "34",
         "2000-09-01",
         "11.8997",
         "4.5445",
         null,
         "32.7345",
         null,
         null,
         null,
         "0.4072",
         "28.1927",
         "2.7397"
        ],
        [
         "35",
         "2000-09-08",
         "11.73",
         "4.5749",
         null,
         "32.3628",
         null,
         null,
         null,
         "0.3992",
         "27.6504",
         "2.5911"
        ],
        [
         "36",
         "2000-09-15",
         "11.08",
         "4.7539",
         null,
         "32.3399",
         null,
         null,
         null,
         "0.3908",
         "27.4171",
         "2.5854"
        ],
        [
         "37",
         "2000-09-22",
         "11.0405",
         "4.71",
         null,
         "32.247",
         null,
         null,
         null,
         "0.4025",
         "27.3162",
         "2.5374"
        ],
        [
         "38",
         "2000-09-29",
         "11.5442",
         "4.629",
         null,
         "35.0757",
         null,
         null,
         null,
         "0.4215",
         "28.653",
         "2.4649"
        ],
        [
         "39",
         "2000-10-06",
         "11.6824",
         "4.5716",
         null,
         "35.7702",
         null,
         null,
         null,
         "0.4124",
         "29.1196",
         "2.4949"
        ],
        [
         "40",
         "2000-10-13",
         "11.1985",
         "4.3994",
         null,
         "34.0518",
         null,
         null,
         null,
         "0.3797",
         "28.7161",
         "2.2552"
        ],
        [
         "41",
         "2000-10-20",
         "11.7911",
         "4.3757",
         null,
         "33.5317",
         null,
         null,
         null,
         "0.3874",
         "28.8674",
         "2.5873"
        ],
        [
         "42",
         "2000-10-27",
         "12.5218",
         "4.6323",
         null,
         "34.4203",
         null,
         null,
         null,
         "0.3916",
         "30.1916",
         "2.5873"
        ],
        [
         "43",
         "2000-11-03",
         "12.8971",
         "4.5918",
         null,
         "38.0854",
         null,
         null,
         null,
         "0.3908",
         "30.6141",
         "2.6273"
        ],
        [
         "44",
         "2000-11-10",
         "13.3316",
         "4.656",
         null,
         "37.5653",
         null,
         null,
         null,
         "0.4199",
         "29.9268",
         "2.5199"
        ],
        [
         "45",
         "2000-11-17",
         "14.2673",
         "4.6653",
         null,
         "38.0299",
         null,
         null,
         null,
         "0.4279",
         "29.8069",
         "2.5823"
        ],
        [
         "46",
         "2000-11-24",
         "13.9612",
         "4.6797",
         null,
         "39.84",
         null,
         null,
         null,
         "0.4342",
         "30.3971",
         "2.6285"
        ],
        [
         "47",
         "2000-12-01",
         "13.7365",
         "4.8251",
         null,
         "39.5087",
         null,
         null,
         null,
         "0.4316",
         "30.7702",
         "2.6473"
        ],
        [
         "48",
         "2000-12-08",
         "14.6549",
         "4.9849",
         null,
         "38.356",
         null,
         null,
         null,
         "0.4242",
         "31.2634",
         "2.8171"
        ],
        [
         "49",
         "2000-12-15",
         "14.9511",
         "5.3555",
         null,
         "36.2121",
         null,
         null,
         null,
         "0.4364",
         "30.9915",
         "3.1667"
        ]
       ],
       "shape": {
        "columns": 11,
        "rows": 1329
       }
      },
      "text/html": [
       "<div>\n",
       "<style scoped>\n",
       "    .dataframe tbody tr th:only-of-type {\n",
       "        vertical-align: middle;\n",
       "    }\n",
       "\n",
       "    .dataframe tbody tr th {\n",
       "        vertical-align: top;\n",
       "    }\n",
       "\n",
       "    .dataframe thead th {\n",
       "        text-align: right;\n",
       "    }\n",
       "</style>\n",
       "<table border=\"1\" class=\"dataframe\">\n",
       "  <thead>\n",
       "    <tr style=\"text-align: right;\">\n",
       "      <th></th>\n",
       "      <th>Date</th>\n",
       "      <th>ARCB_df_logistics_Close</th>\n",
       "      <th>AIT_df_logistics_Close</th>\n",
       "      <th>CEVA_df_logistics_Close</th>\n",
       "      <th>FDX_df_logistics_Close</th>\n",
       "      <th>SAIA_df_logistics_Close</th>\n",
       "      <th>TFII.TO_df_logistics_Close</th>\n",
       "      <th>XPO_df_logistics_Close</th>\n",
       "      <th>ODFL_df_logistics_Close</th>\n",
       "      <th>UPS_df_logistics_Close</th>\n",
       "      <th>JBHT_df_logistics_Close</th>\n",
       "    </tr>\n",
       "  </thead>\n",
       "  <tbody>\n",
       "    <tr>\n",
       "      <th>0</th>\n",
       "      <td>2000-01-07</td>\n",
       "      <td>10.2456</td>\n",
       "      <td>4.2252</td>\n",
       "      <td>NaN</td>\n",
       "      <td>36.1330</td>\n",
       "      <td>NaN</td>\n",
       "      <td>NaN</td>\n",
       "      <td>NaN</td>\n",
       "      <td>0.4840</td>\n",
       "      <td>33.4329</td>\n",
       "      <td>2.6094</td>\n",
       "    </tr>\n",
       "    <tr>\n",
       "      <th>1</th>\n",
       "      <td>2000-01-14</td>\n",
       "      <td>10.2209</td>\n",
       "      <td>4.0500</td>\n",
       "      <td>NaN</td>\n",
       "      <td>37.6513</td>\n",
       "      <td>NaN</td>\n",
       "      <td>NaN</td>\n",
       "      <td>NaN</td>\n",
       "      <td>0.4914</td>\n",
       "      <td>33.7016</td>\n",
       "      <td>2.5821</td>\n",
       "    </tr>\n",
       "    <tr>\n",
       "      <th>2</th>\n",
       "      <td>2000-01-21</td>\n",
       "      <td>10.6344</td>\n",
       "      <td>4.3393</td>\n",
       "      <td>NaN</td>\n",
       "      <td>35.1930</td>\n",
       "      <td>NaN</td>\n",
       "      <td>NaN</td>\n",
       "      <td>NaN</td>\n",
       "      <td>0.5243</td>\n",
       "      <td>34.1281</td>\n",
       "      <td>2.5124</td>\n",
       "    </tr>\n",
       "    <tr>\n",
       "      <th>3</th>\n",
       "      <td>2000-01-28</td>\n",
       "      <td>9.9543</td>\n",
       "      <td>4.2880</td>\n",
       "      <td>NaN</td>\n",
       "      <td>33.1066</td>\n",
       "      <td>NaN</td>\n",
       "      <td>NaN</td>\n",
       "      <td>NaN</td>\n",
       "      <td>0.5354</td>\n",
       "      <td>32.7017</td>\n",
       "      <td>2.4714</td>\n",
       "    </tr>\n",
       "    <tr>\n",
       "      <th>4</th>\n",
       "      <td>2000-02-04</td>\n",
       "      <td>9.3568</td>\n",
       "      <td>4.2649</td>\n",
       "      <td>NaN</td>\n",
       "      <td>31.9144</td>\n",
       "      <td>NaN</td>\n",
       "      <td>NaN</td>\n",
       "      <td>NaN</td>\n",
       "      <td>0.5190</td>\n",
       "      <td>29.3584</td>\n",
       "      <td>2.5079</td>\n",
       "    </tr>\n",
       "    <tr>\n",
       "      <th>...</th>\n",
       "      <td>...</td>\n",
       "      <td>...</td>\n",
       "      <td>...</td>\n",
       "      <td>...</td>\n",
       "      <td>...</td>\n",
       "      <td>...</td>\n",
       "      <td>...</td>\n",
       "      <td>...</td>\n",
       "      <td>...</td>\n",
       "      <td>...</td>\n",
       "      <td>...</td>\n",
       "    </tr>\n",
       "    <tr>\n",
       "      <th>1324</th>\n",
       "      <td>2025-05-23</td>\n",
       "      <td>63.7080</td>\n",
       "      <td>226.5780</td>\n",
       "      <td>20.1420</td>\n",
       "      <td>219.8980</td>\n",
       "      <td>272.0360</td>\n",
       "      <td>121.3875</td>\n",
       "      <td>121.308</td>\n",
       "      <td>165.8267</td>\n",
       "      <td>96.9700</td>\n",
       "      <td>141.4160</td>\n",
       "    </tr>\n",
       "    <tr>\n",
       "      <th>1325</th>\n",
       "      <td>2025-05-30</td>\n",
       "      <td>63.9625</td>\n",
       "      <td>227.6050</td>\n",
       "      <td>19.1925</td>\n",
       "      <td>218.8175</td>\n",
       "      <td>269.3875</td>\n",
       "      <td>119.2300</td>\n",
       "      <td>117.125</td>\n",
       "      <td>161.9264</td>\n",
       "      <td>97.4825</td>\n",
       "      <td>139.3725</td>\n",
       "    </tr>\n",
       "    <tr>\n",
       "      <th>1326</th>\n",
       "      <td>2025-06-06</td>\n",
       "      <td>63.4820</td>\n",
       "      <td>228.9500</td>\n",
       "      <td>19.8700</td>\n",
       "      <td>218.5800</td>\n",
       "      <td>260.4360</td>\n",
       "      <td>118.7120</td>\n",
       "      <td>115.588</td>\n",
       "      <td>160.7950</td>\n",
       "      <td>97.8220</td>\n",
       "      <td>139.3440</td>\n",
       "    </tr>\n",
       "    <tr>\n",
       "      <th>1327</th>\n",
       "      <td>2025-06-13</td>\n",
       "      <td>69.1700</td>\n",
       "      <td>230.5940</td>\n",
       "      <td>21.0920</td>\n",
       "      <td>224.7040</td>\n",
       "      <td>259.1800</td>\n",
       "      <td>123.1960</td>\n",
       "      <td>121.270</td>\n",
       "      <td>162.9600</td>\n",
       "      <td>100.7700</td>\n",
       "      <td>141.6980</td>\n",
       "    </tr>\n",
       "    <tr>\n",
       "      <th>1328</th>\n",
       "      <td>2025-06-20</td>\n",
       "      <td>69.2600</td>\n",
       "      <td>230.0600</td>\n",
       "      <td>20.4700</td>\n",
       "      <td>226.7700</td>\n",
       "      <td>265.6100</td>\n",
       "      <td>123.8700</td>\n",
       "      <td>122.560</td>\n",
       "      <td>159.4500</td>\n",
       "      <td>101.0900</td>\n",
       "      <td>142.4900</td>\n",
       "    </tr>\n",
       "  </tbody>\n",
       "</table>\n",
       "<p>1329 rows × 11 columns</p>\n",
       "</div>"
      ],
      "text/plain": [
       "            Date  ARCB_df_logistics_Close  AIT_df_logistics_Close  \\\n",
       "0     2000-01-07                  10.2456                  4.2252   \n",
       "1     2000-01-14                  10.2209                  4.0500   \n",
       "2     2000-01-21                  10.6344                  4.3393   \n",
       "3     2000-01-28                   9.9543                  4.2880   \n",
       "4     2000-02-04                   9.3568                  4.2649   \n",
       "...          ...                      ...                     ...   \n",
       "1324  2025-05-23                  63.7080                226.5780   \n",
       "1325  2025-05-30                  63.9625                227.6050   \n",
       "1326  2025-06-06                  63.4820                228.9500   \n",
       "1327  2025-06-13                  69.1700                230.5940   \n",
       "1328  2025-06-20                  69.2600                230.0600   \n",
       "\n",
       "      CEVA_df_logistics_Close  FDX_df_logistics_Close  \\\n",
       "0                         NaN                 36.1330   \n",
       "1                         NaN                 37.6513   \n",
       "2                         NaN                 35.1930   \n",
       "3                         NaN                 33.1066   \n",
       "4                         NaN                 31.9144   \n",
       "...                       ...                     ...   \n",
       "1324                  20.1420                219.8980   \n",
       "1325                  19.1925                218.8175   \n",
       "1326                  19.8700                218.5800   \n",
       "1327                  21.0920                224.7040   \n",
       "1328                  20.4700                226.7700   \n",
       "\n",
       "      SAIA_df_logistics_Close  TFII.TO_df_logistics_Close  \\\n",
       "0                         NaN                         NaN   \n",
       "1                         NaN                         NaN   \n",
       "2                         NaN                         NaN   \n",
       "3                         NaN                         NaN   \n",
       "4                         NaN                         NaN   \n",
       "...                       ...                         ...   \n",
       "1324                 272.0360                    121.3875   \n",
       "1325                 269.3875                    119.2300   \n",
       "1326                 260.4360                    118.7120   \n",
       "1327                 259.1800                    123.1960   \n",
       "1328                 265.6100                    123.8700   \n",
       "\n",
       "      XPO_df_logistics_Close  ODFL_df_logistics_Close  UPS_df_logistics_Close  \\\n",
       "0                        NaN                   0.4840                 33.4329   \n",
       "1                        NaN                   0.4914                 33.7016   \n",
       "2                        NaN                   0.5243                 34.1281   \n",
       "3                        NaN                   0.5354                 32.7017   \n",
       "4                        NaN                   0.5190                 29.3584   \n",
       "...                      ...                      ...                     ...   \n",
       "1324                 121.308                 165.8267                 96.9700   \n",
       "1325                 117.125                 161.9264                 97.4825   \n",
       "1326                 115.588                 160.7950                 97.8220   \n",
       "1327                 121.270                 162.9600                100.7700   \n",
       "1328                 122.560                 159.4500                101.0900   \n",
       "\n",
       "      JBHT_df_logistics_Close  \n",
       "0                      2.6094  \n",
       "1                      2.5821  \n",
       "2                      2.5124  \n",
       "3                      2.4714  \n",
       "4                      2.5079  \n",
       "...                       ...  \n",
       "1324                 141.4160  \n",
       "1325                 139.3725  \n",
       "1326                 139.3440  \n",
       "1327                 141.6980  \n",
       "1328                 142.4900  \n",
       "\n",
       "[1329 rows x 11 columns]"
      ]
     },
     "execution_count": 13,
     "metadata": {},
     "output_type": "execute_result"
    }
   ],
   "source": [
    "df_logistics = pd.read_csv(\"csv_files/idea_csv/logistics_df_logistics_close.csv\")\n",
    "df_logistics"
   ]
  },
  {
   "cell_type": "markdown",
   "id": "876333ca",
   "metadata": {},
   "source": [
    "#### Official China PMI (Caixin PMI only starts in 2014)\n"
   ]
  },
  {
   "cell_type": "code",
   "execution_count": 14,
   "id": "4c9f73f2",
   "metadata": {},
   "outputs": [],
   "source": [
    "%%skip\n",
    "# All AkShare functions containing \"pmi\"\n",
    "\n",
    "df_official = ak.macro_china_pmi()\n",
    "\n",
    "print(\"Columns in df_official:\", df_official.columns.tolist())\n"
   ]
  },
  {
   "cell_type": "code",
   "execution_count": 15,
   "id": "3d78a461",
   "metadata": {},
   "outputs": [],
   "source": [
    "%%skip\n",
    "# 1) Fetch the official China PMI data\n",
    "df_official = ak.macro_china_pmi()\n",
    "\n",
    "# 2) Rename Chinese column names to English\n",
    "df_official = df_official.rename(columns={\n",
    "    \"月份\": \"Date\",\n",
    "    \"制造业-指数\": \"Official_Manufacturing_PMI\",\n",
    "    \"制造业-同比增长\": \"Official_Manufacturing_PMI_YoY\",\n",
    "    \"非制造业-指数\": \"Official_Services_PMI\",\n",
    "    \"非制造业-同比增长\": \"Official_Services_PMI_YoY\",\n",
    "})\n",
    "\n",
    "# 3) Clean and parse the 'Date' column (\"YYYY年MM月份\" → \"YYYY-MM\")\n",
    "df_official[\"Date\"] = (\n",
    "    df_official[\"Date\"]\n",
    "      .str.replace(\"年\", \"-\", regex=False)\n",
    "      .str.replace(\"月份\", \"\", regex=False)\n",
    ")\n",
    "df_official[\"Date\"] = pd.to_datetime(df_official[\"Date\"], format=\"%Y-%m\")\n",
    "\n",
    "# 4) Set Date as the index and sort\n",
    "df_official = df_official.set_index(\"Date\").sort_index()\n",
    "\n",
    "# 5) Subset to the period 2009-01-01 through 2014-12-31\n",
    "df_pmi_china = df_official.loc[\"2009-01-01\":\"2014-12-31\"]\n",
    "df_pmi_china.to_csv(\"csv_files/idea_csv/df_pmi_china.csv\")"
   ]
  },
  {
   "cell_type": "code",
   "execution_count": 16,
   "id": "352ea0e7",
   "metadata": {},
   "outputs": [
    {
     "data": {
      "application/vnd.microsoft.datawrangler.viewer.v0+json": {
       "columns": [
        {
         "name": "index",
         "rawType": "int64",
         "type": "integer"
        },
        {
         "name": "Date",
         "rawType": "object",
         "type": "string"
        },
        {
         "name": "Official_Manufacturing_PMI",
         "rawType": "float64",
         "type": "float"
        },
        {
         "name": "Official_Manufacturing_PMI_YoY",
         "rawType": "float64",
         "type": "float"
        },
        {
         "name": "Official_Services_PMI",
         "rawType": "float64",
         "type": "float"
        },
        {
         "name": "Official_Services_PMI_YoY",
         "rawType": "float64",
         "type": "float"
        }
       ],
       "ref": "f1326959-a891-4b05-a91e-ee3cfe952b60",
       "rows": [
        [
         "0",
         "2009-01-01",
         "45.3",
         "-14.52830189",
         "53.7",
         "-10.79734219"
        ],
        [
         "1",
         "2009-02-01",
         "49.0",
         "-8.23970037",
         "55.1",
         "-7.08263069"
        ],
        [
         "2",
         "2009-03-01",
         "52.4",
         "-10.2739726",
         "54.4",
         "-7.64006791"
        ],
        [
         "3",
         "2009-04-01",
         "53.5",
         "-9.62837838",
         "53.5",
         "-8.39041096"
        ],
        [
         "4",
         "2009-05-01",
         "53.1",
         "-0.37523452",
         "54.9",
         "-4.3554007"
        ],
        [
         "5",
         "2009-06-01",
         "53.2",
         "2.30769231",
         "55.4",
         "-3.48432056"
        ],
        [
         "6",
         "2009-07-01",
         "53.3",
         "10.12396694",
         "57.3",
         "2.87253142"
        ],
        [
         "7",
         "2009-08-01",
         "54.0",
         "11.57024793",
         "57.3",
         "8.31758034"
        ],
        [
         "8",
         "2009-09-01",
         "54.3",
         "6.0546875",
         "57.9",
         "5.27272727"
        ],
        [
         "9",
         "2009-10-01",
         "55.2",
         "23.76681614",
         "59.5",
         "12.0527307"
        ],
        [
         "10",
         "2009-11-01",
         "55.2",
         "42.26804124",
         "58.4",
         "14.0625"
        ],
        [
         "11",
         "2009-12-01",
         "56.6",
         "37.37864078",
         "58.8",
         "15.7480315"
        ],
        [
         "12",
         "2010-01-01",
         "55.8",
         "23.17880795",
         "58.1",
         "8.19366853"
        ],
        [
         "13",
         "2010-02-01",
         "52.0",
         "6.12244898",
         "57.0",
         "3.44827586"
        ],
        [
         "14",
         "2010-03-01",
         "55.1",
         "5.15267176",
         "57.3",
         "5.33088235"
        ],
        [
         "15",
         "2010-04-01",
         "55.7",
         "4.11214953",
         "57.8",
         "8.03738318"
        ],
        [
         "16",
         "2010-05-01",
         "53.9",
         "1.50659134",
         "58.1",
         "5.8287796"
        ],
        [
         "17",
         "2010-06-01",
         "52.1",
         "-2.06766917",
         "58.8",
         "6.13718412"
        ],
        [
         "18",
         "2010-07-01",
         "51.2",
         "-3.93996248",
         "57.1",
         "-0.34904014"
        ],
        [
         "19",
         "2010-08-01",
         "51.7",
         "-4.25925926",
         "58.0",
         "1.22164049"
        ],
        [
         "20",
         "2010-09-01",
         "53.8",
         "-0.92081031",
         "57.9",
         "0.0"
        ],
        [
         "21",
         "2010-10-01",
         "54.7",
         "-0.9057971",
         "57.4",
         "-3.52941176"
        ],
        [
         "22",
         "2010-11-01",
         "55.2",
         "0.0",
         "58.9",
         "0.85616438"
        ],
        [
         "23",
         "2010-12-01",
         "53.9",
         "-4.77031802",
         "58.8",
         "0.0"
        ],
        [
         "24",
         "2011-01-01",
         "52.9",
         "-5.19713262",
         "57.2",
         "-1.54905336"
        ],
        [
         "25",
         "2011-02-01",
         "52.2",
         "0.38461538",
         "57.0",
         "0.0"
        ],
        [
         "26",
         "2011-03-01",
         "53.4",
         "-3.08529946",
         "59.2",
         "3.31588133"
        ],
        [
         "27",
         "2011-04-01",
         "52.9",
         "-5.02692998",
         "58.2",
         "0.69204152"
        ],
        [
         "28",
         "2011-05-01",
         "52.0",
         "-3.52504638",
         "58.7",
         "1.03270224"
        ],
        [
         "29",
         "2011-06-01",
         "50.9",
         "-2.30326296",
         "56.6",
         "-3.7414966"
        ],
        [
         "30",
         "2011-07-01",
         "50.7",
         "-0.9765625",
         "57.3",
         "0.3502627"
        ],
        [
         "31",
         "2011-08-01",
         "50.9",
         "-1.54738878",
         "57.1",
         "-1.55172414"
        ],
        [
         "32",
         "2011-09-01",
         "51.2",
         "-4.83271375",
         "55.8",
         "-3.62694301"
        ],
        [
         "33",
         "2011-10-01",
         "50.4",
         "-7.86106033",
         "55.5",
         "-3.31010453"
        ],
        [
         "34",
         "2011-11-01",
         "49.0",
         "-11.23188406",
         "55.9",
         "-5.09337861"
        ],
        [
         "35",
         "2011-12-01",
         "50.3",
         "-6.67903525",
         "56.3",
         "-4.25170068"
        ],
        [
         "36",
         "2012-01-01",
         "50.5",
         "-4.536862",
         "55.7",
         "-2.62237762"
        ],
        [
         "37",
         "2012-02-01",
         "51.0",
         "-2.29885057",
         "57.3",
         "0.52631579"
        ],
        [
         "38",
         "2012-03-01",
         "53.1",
         "-0.56179775",
         "58.0",
         "-2.02702703"
        ],
        [
         "39",
         "2012-04-01",
         "53.3",
         "0.75614367",
         "56.1",
         "-3.60824742"
        ],
        [
         "40",
         "2012-05-01",
         "50.4",
         "-3.07692308",
         "55.2",
         "-5.96252129"
        ],
        [
         "41",
         "2012-06-01",
         "50.2",
         "-1.37524558",
         "56.7",
         "0.17667845"
        ],
        [
         "42",
         "2012-07-01",
         "50.1",
         "-1.18343195",
         "55.6",
         "-2.96684119"
        ],
        [
         "43",
         "2012-08-01",
         "49.2",
         "-3.33988212",
         "56.3",
         "-1.40105079"
        ],
        [
         "44",
         "2012-09-01",
         "49.8",
         "-2.734375",
         "53.7",
         "-3.76344086"
        ],
        [
         "45",
         "2012-10-01",
         "50.2",
         "-0.3968254",
         "55.5",
         "0.0"
        ],
        [
         "46",
         "2012-11-01",
         "50.6",
         "3.26530612",
         "55.6",
         "-0.53667263"
        ],
        [
         "47",
         "2012-12-01",
         "50.6",
         "0.59642147",
         "56.1",
         "-0.35523979"
        ],
        [
         "48",
         "2013-01-01",
         "50.4",
         "-0.1980198",
         "56.2",
         "0.89766607"
        ],
        [
         "49",
         "2013-02-01",
         "50.1",
         "-1.76470588",
         "54.5",
         "-4.88656195"
        ]
       ],
       "shape": {
        "columns": 5,
        "rows": 72
       }
      },
      "text/html": [
       "<div>\n",
       "<style scoped>\n",
       "    .dataframe tbody tr th:only-of-type {\n",
       "        vertical-align: middle;\n",
       "    }\n",
       "\n",
       "    .dataframe tbody tr th {\n",
       "        vertical-align: top;\n",
       "    }\n",
       "\n",
       "    .dataframe thead th {\n",
       "        text-align: right;\n",
       "    }\n",
       "</style>\n",
       "<table border=\"1\" class=\"dataframe\">\n",
       "  <thead>\n",
       "    <tr style=\"text-align: right;\">\n",
       "      <th></th>\n",
       "      <th>Date</th>\n",
       "      <th>Official_Manufacturing_PMI</th>\n",
       "      <th>Official_Manufacturing_PMI_YoY</th>\n",
       "      <th>Official_Services_PMI</th>\n",
       "      <th>Official_Services_PMI_YoY</th>\n",
       "    </tr>\n",
       "  </thead>\n",
       "  <tbody>\n",
       "    <tr>\n",
       "      <th>0</th>\n",
       "      <td>2009-01-01</td>\n",
       "      <td>45.3</td>\n",
       "      <td>-14.528302</td>\n",
       "      <td>53.7</td>\n",
       "      <td>-10.797342</td>\n",
       "    </tr>\n",
       "    <tr>\n",
       "      <th>1</th>\n",
       "      <td>2009-02-01</td>\n",
       "      <td>49.0</td>\n",
       "      <td>-8.239700</td>\n",
       "      <td>55.1</td>\n",
       "      <td>-7.082631</td>\n",
       "    </tr>\n",
       "    <tr>\n",
       "      <th>2</th>\n",
       "      <td>2009-03-01</td>\n",
       "      <td>52.4</td>\n",
       "      <td>-10.273973</td>\n",
       "      <td>54.4</td>\n",
       "      <td>-7.640068</td>\n",
       "    </tr>\n",
       "    <tr>\n",
       "      <th>3</th>\n",
       "      <td>2009-04-01</td>\n",
       "      <td>53.5</td>\n",
       "      <td>-9.628378</td>\n",
       "      <td>53.5</td>\n",
       "      <td>-8.390411</td>\n",
       "    </tr>\n",
       "    <tr>\n",
       "      <th>4</th>\n",
       "      <td>2009-05-01</td>\n",
       "      <td>53.1</td>\n",
       "      <td>-0.375235</td>\n",
       "      <td>54.9</td>\n",
       "      <td>-4.355401</td>\n",
       "    </tr>\n",
       "    <tr>\n",
       "      <th>...</th>\n",
       "      <td>...</td>\n",
       "      <td>...</td>\n",
       "      <td>...</td>\n",
       "      <td>...</td>\n",
       "      <td>...</td>\n",
       "    </tr>\n",
       "    <tr>\n",
       "      <th>67</th>\n",
       "      <td>2014-08-01</td>\n",
       "      <td>51.1</td>\n",
       "      <td>0.196078</td>\n",
       "      <td>54.4</td>\n",
       "      <td>0.927644</td>\n",
       "    </tr>\n",
       "    <tr>\n",
       "      <th>68</th>\n",
       "      <td>2014-09-01</td>\n",
       "      <td>51.1</td>\n",
       "      <td>0.000000</td>\n",
       "      <td>54.0</td>\n",
       "      <td>-2.527076</td>\n",
       "    </tr>\n",
       "    <tr>\n",
       "      <th>69</th>\n",
       "      <td>2014-10-01</td>\n",
       "      <td>50.8</td>\n",
       "      <td>-1.167315</td>\n",
       "      <td>53.8</td>\n",
       "      <td>-4.440497</td>\n",
       "    </tr>\n",
       "    <tr>\n",
       "      <th>70</th>\n",
       "      <td>2014-11-01</td>\n",
       "      <td>50.3</td>\n",
       "      <td>-2.140078</td>\n",
       "      <td>53.9</td>\n",
       "      <td>-3.750000</td>\n",
       "    </tr>\n",
       "    <tr>\n",
       "      <th>71</th>\n",
       "      <td>2014-12-01</td>\n",
       "      <td>50.1</td>\n",
       "      <td>-1.764706</td>\n",
       "      <td>54.1</td>\n",
       "      <td>-0.915751</td>\n",
       "    </tr>\n",
       "  </tbody>\n",
       "</table>\n",
       "<p>72 rows × 5 columns</p>\n",
       "</div>"
      ],
      "text/plain": [
       "          Date  Official_Manufacturing_PMI  Official_Manufacturing_PMI_YoY  \\\n",
       "0   2009-01-01                        45.3                      -14.528302   \n",
       "1   2009-02-01                        49.0                       -8.239700   \n",
       "2   2009-03-01                        52.4                      -10.273973   \n",
       "3   2009-04-01                        53.5                       -9.628378   \n",
       "4   2009-05-01                        53.1                       -0.375235   \n",
       "..         ...                         ...                             ...   \n",
       "67  2014-08-01                        51.1                        0.196078   \n",
       "68  2014-09-01                        51.1                        0.000000   \n",
       "69  2014-10-01                        50.8                       -1.167315   \n",
       "70  2014-11-01                        50.3                       -2.140078   \n",
       "71  2014-12-01                        50.1                       -1.764706   \n",
       "\n",
       "    Official_Services_PMI  Official_Services_PMI_YoY  \n",
       "0                    53.7                 -10.797342  \n",
       "1                    55.1                  -7.082631  \n",
       "2                    54.4                  -7.640068  \n",
       "3                    53.5                  -8.390411  \n",
       "4                    54.9                  -4.355401  \n",
       "..                    ...                        ...  \n",
       "67                   54.4                   0.927644  \n",
       "68                   54.0                  -2.527076  \n",
       "69                   53.8                  -4.440497  \n",
       "70                   53.9                  -3.750000  \n",
       "71                   54.1                  -0.915751  \n",
       "\n",
       "[72 rows x 5 columns]"
      ]
     },
     "execution_count": 16,
     "metadata": {},
     "output_type": "execute_result"
    }
   ],
   "source": [
    "df_pmi_china = pd.read_csv(\"csv_files/idea_csv/df_pmi_china.csv\")\n",
    "df_pmi_china"
   ]
  },
  {
   "cell_type": "markdown",
   "id": "1824d1ce",
   "metadata": {},
   "source": [
    "#### PCE USA (Personal Consumption Expenditures)\n"
   ]
  },
  {
   "cell_type": "code",
   "execution_count": 17,
   "id": "b5091fcc",
   "metadata": {},
   "outputs": [],
   "source": [
    "%%skip\n",
    "START_DATE = \"2000-01-01\"\n",
    "END_DATE   = date.today().isoformat()\n",
    "\n",
    "df_pce = DataReader(\"PCE\", \"fred\", start=START_DATE, end=END_DATE)\n",
    "\n",
    "df_pce.columns = [\"Personal_Consumption_Expenditures\"]\n",
    "\n",
    "# 4) Save and quick sanity-check\n",
    "OUTFILE = \"csv_files/idea_csv/personal_consumption_expenditures.csv\"\n",
    "df_pce.to_csv(OUTFILE)\n"
   ]
  },
  {
   "cell_type": "code",
   "execution_count": 18,
   "id": "f5374042",
   "metadata": {},
   "outputs": [
    {
     "data": {
      "application/vnd.microsoft.datawrangler.viewer.v0+json": {
       "columns": [
        {
         "name": "index",
         "rawType": "int64",
         "type": "integer"
        },
        {
         "name": "DATE",
         "rawType": "object",
         "type": "string"
        },
        {
         "name": "Personal_Consumption_Expenditures",
         "rawType": "float64",
         "type": "float"
        }
       ],
       "ref": "0db500a0-60a7-46d8-ad0b-7126f72b5888",
       "rows": [
        [
         "0",
         "2000-01-01",
         "6542.9"
        ],
        [
         "1",
         "2000-02-01",
         "6625.3"
        ],
        [
         "2",
         "2000-03-01",
         "6686.5"
        ],
        [
         "3",
         "2000-04-01",
         "6679.1"
        ],
        [
         "4",
         "2000-05-01",
         "6709.7"
        ],
        [
         "5",
         "2000-06-01",
         "6746.9"
        ],
        [
         "6",
         "2000-07-01",
         "6768.5"
        ],
        [
         "7",
         "2000-08-01",
         "6802.8"
        ],
        [
         "8",
         "2000-09-01",
         "6888.6"
        ],
        [
         "9",
         "2000-10-01",
         "6893.8"
        ],
        [
         "10",
         "2000-11-01",
         "6909.8"
        ],
        [
         "11",
         "2000-12-01",
         "6952.2"
        ],
        [
         "12",
         "2001-01-01",
         "6987.4"
        ],
        [
         "13",
         "2001-02-01",
         "7001.8"
        ],
        [
         "14",
         "2001-03-01",
         "6996.7"
        ],
        [
         "15",
         "2001-04-01",
         "7004.2"
        ],
        [
         "16",
         "2001-05-01",
         "7052.8"
        ],
        [
         "17",
         "2001-06-01",
         "7069.7"
        ],
        [
         "18",
         "2001-07-01",
         "7082.3"
        ],
        [
         "19",
         "2001-08-01",
         "7121.7"
        ],
        [
         "20",
         "2001-09-01",
         "7007.0"
        ],
        [
         "21",
         "2001-10-01",
         "7212.9"
        ],
        [
         "22",
         "2001-11-01",
         "7182.3"
        ],
        [
         "23",
         "2001-12-01",
         "7166.7"
        ],
        [
         "24",
         "2002-01-01",
         "7184.6"
        ],
        [
         "25",
         "2002-02-01",
         "7225.2"
        ],
        [
         "26",
         "2002-03-01",
         "7243.4"
        ],
        [
         "27",
         "2002-04-01",
         "7312.5"
        ],
        [
         "28",
         "2002-05-01",
         "7288.9"
        ],
        [
         "29",
         "2002-06-01",
         "7322.5"
        ],
        [
         "30",
         "2002-07-01",
         "7387.3"
        ],
        [
         "31",
         "2002-08-01",
         "7412.6"
        ],
        [
         "32",
         "2002-09-01",
         "7391.5"
        ],
        [
         "33",
         "2002-10-01",
         "7435.2"
        ],
        [
         "34",
         "2002-11-01",
         "7463.8"
        ],
        [
         "35",
         "2002-12-01",
         "7519.9"
        ],
        [
         "36",
         "2003-01-01",
         "7541.3"
        ],
        [
         "37",
         "2003-02-01",
         "7548.6"
        ],
        [
         "38",
         "2003-03-01",
         "7611.5"
        ],
        [
         "39",
         "2003-04-01",
         "7634.5"
        ],
        [
         "40",
         "2003-05-01",
         "7650.3"
        ],
        [
         "41",
         "2003-06-01",
         "7699.6"
        ],
        [
         "42",
         "2003-07-01",
         "7757.0"
        ],
        [
         "43",
         "2003-08-01",
         "7852.1"
        ],
        [
         "44",
         "2003-09-01",
         "7853.7"
        ],
        [
         "45",
         "2003-10-01",
         "7867.4"
        ],
        [
         "46",
         "2003-11-01",
         "7922.6"
        ],
        [
         "47",
         "2003-12-01",
         "7950.4"
        ],
        [
         "48",
         "2004-01-01",
         "8007.1"
        ],
        [
         "49",
         "2004-02-01",
         "8040.4"
        ]
       ],
       "shape": {
        "columns": 2,
        "rows": 304
       }
      },
      "text/html": [
       "<div>\n",
       "<style scoped>\n",
       "    .dataframe tbody tr th:only-of-type {\n",
       "        vertical-align: middle;\n",
       "    }\n",
       "\n",
       "    .dataframe tbody tr th {\n",
       "        vertical-align: top;\n",
       "    }\n",
       "\n",
       "    .dataframe thead th {\n",
       "        text-align: right;\n",
       "    }\n",
       "</style>\n",
       "<table border=\"1\" class=\"dataframe\">\n",
       "  <thead>\n",
       "    <tr style=\"text-align: right;\">\n",
       "      <th></th>\n",
       "      <th>DATE</th>\n",
       "      <th>Personal_Consumption_Expenditures</th>\n",
       "    </tr>\n",
       "  </thead>\n",
       "  <tbody>\n",
       "    <tr>\n",
       "      <th>0</th>\n",
       "      <td>2000-01-01</td>\n",
       "      <td>6542.9</td>\n",
       "    </tr>\n",
       "    <tr>\n",
       "      <th>1</th>\n",
       "      <td>2000-02-01</td>\n",
       "      <td>6625.3</td>\n",
       "    </tr>\n",
       "    <tr>\n",
       "      <th>2</th>\n",
       "      <td>2000-03-01</td>\n",
       "      <td>6686.5</td>\n",
       "    </tr>\n",
       "    <tr>\n",
       "      <th>3</th>\n",
       "      <td>2000-04-01</td>\n",
       "      <td>6679.1</td>\n",
       "    </tr>\n",
       "    <tr>\n",
       "      <th>4</th>\n",
       "      <td>2000-05-01</td>\n",
       "      <td>6709.7</td>\n",
       "    </tr>\n",
       "    <tr>\n",
       "      <th>...</th>\n",
       "      <td>...</td>\n",
       "      <td>...</td>\n",
       "    </tr>\n",
       "    <tr>\n",
       "      <th>299</th>\n",
       "      <td>2024-12-01</td>\n",
       "      <td>20408.1</td>\n",
       "    </tr>\n",
       "    <tr>\n",
       "      <th>300</th>\n",
       "      <td>2025-01-01</td>\n",
       "      <td>20389.0</td>\n",
       "    </tr>\n",
       "    <tr>\n",
       "      <th>301</th>\n",
       "      <td>2025-02-01</td>\n",
       "      <td>20469.3</td>\n",
       "    </tr>\n",
       "    <tr>\n",
       "      <th>302</th>\n",
       "      <td>2025-03-01</td>\n",
       "      <td>20621.8</td>\n",
       "    </tr>\n",
       "    <tr>\n",
       "      <th>303</th>\n",
       "      <td>2025-04-01</td>\n",
       "      <td>20669.5</td>\n",
       "    </tr>\n",
       "  </tbody>\n",
       "</table>\n",
       "<p>304 rows × 2 columns</p>\n",
       "</div>"
      ],
      "text/plain": [
       "           DATE  Personal_Consumption_Expenditures\n",
       "0    2000-01-01                             6542.9\n",
       "1    2000-02-01                             6625.3\n",
       "2    2000-03-01                             6686.5\n",
       "3    2000-04-01                             6679.1\n",
       "4    2000-05-01                             6709.7\n",
       "..          ...                                ...\n",
       "299  2024-12-01                            20408.1\n",
       "300  2025-01-01                            20389.0\n",
       "301  2025-02-01                            20469.3\n",
       "302  2025-03-01                            20621.8\n",
       "303  2025-04-01                            20669.5\n",
       "\n",
       "[304 rows x 2 columns]"
      ]
     },
     "execution_count": 18,
     "metadata": {},
     "output_type": "execute_result"
    }
   ],
   "source": [
    "df_pce = pd.read_csv(\"csv_files/idea_csv/personal_consumption_expenditures.csv\")\n",
    "df_pce"
   ]
  },
  {
   "cell_type": "markdown",
   "id": "c091ad03",
   "metadata": {},
   "source": [
    "#### Interest Rates USA (Fed Funds Rate & Tbill 3 Months Yield)"
   ]
  },
  {
   "cell_type": "code",
   "execution_count": 19,
   "id": "06d04fe0",
   "metadata": {},
   "outputs": [],
   "source": [
    "%%skip\n",
    "START = \"2001-06-01\"               \n",
    "END   = date.today().isoformat()\n",
    "\n",
    "\n",
    "fed  = DataReader(\"FEDFUNDS\", \"fred\", START, END)\n",
    "tbill = DataReader(\"DGS3MO\",  \"fred\", START, END)\n",
    "\n",
    "df_interest_rates = pd.concat([fed, tbill], axis=1).rename(columns={\n",
    "    \"FEDFUNDS\": \"Fed_Funds_Rate\",\n",
    "    \"DGS3MO\":   \"TBill_3mo_Yield\",\n",
    "})\n",
    "df_interest_rates = df_interest_rates.resample(\"W-FRI\").mean()\n",
    "\n",
    "OUTFILE = \"csv_files/idea_csv/df_interest_rates.csv\"\n",
    "df_interest_rates.to_csv(OUTFILE)"
   ]
  },
  {
   "cell_type": "code",
   "execution_count": 20,
   "id": "41da9b40",
   "metadata": {},
   "outputs": [
    {
     "data": {
      "application/vnd.microsoft.datawrangler.viewer.v0+json": {
       "columns": [
        {
         "name": "index",
         "rawType": "int64",
         "type": "integer"
        },
        {
         "name": "DATE",
         "rawType": "object",
         "type": "string"
        },
        {
         "name": "Fed_Funds_Rate",
         "rawType": "float64",
         "type": "float"
        },
        {
         "name": "TBill_3mo_Yield",
         "rawType": "float64",
         "type": "float"
        }
       ],
       "ref": "a2ccb109-a039-4f57-b18b-8b66a13e35fc",
       "rows": [
        [
         "0",
         "2001-06-01",
         "3.97",
         "3.67"
        ],
        [
         "1",
         "2001-06-08",
         null,
         "3.64"
        ],
        [
         "2",
         "2001-06-15",
         null,
         "3.558"
        ],
        [
         "3",
         "2001-06-22",
         null,
         "3.496"
        ],
        [
         "4",
         "2001-06-29",
         null,
         "3.5460000000000003"
        ],
        [
         "5",
         "2001-07-06",
         "3.77",
         "3.6525"
        ],
        [
         "6",
         "2001-07-13",
         null,
         "3.616"
        ],
        [
         "7",
         "2001-07-20",
         null,
         "3.5740000000000003"
        ],
        [
         "8",
         "2001-07-27",
         null,
         "3.558"
        ],
        [
         "9",
         "2001-08-03",
         "3.65",
         "3.538"
        ],
        [
         "10",
         "2001-08-10",
         null,
         "3.482"
        ],
        [
         "11",
         "2001-08-17",
         null,
         "3.4120000000000004"
        ],
        [
         "12",
         "2001-08-24",
         null,
         "3.402"
        ],
        [
         "13",
         "2001-08-31",
         null,
         "3.402"
        ],
        [
         "14",
         "2001-09-07",
         "3.07",
         "3.365"
        ],
        [
         "15",
         "2001-09-14",
         null,
         "2.8800000000000003"
        ],
        [
         "16",
         "2001-09-21",
         null,
         "2.346"
        ],
        [
         "17",
         "2001-09-28",
         null,
         "2.388"
        ],
        [
         "18",
         "2001-10-05",
         "2.49",
         "2.252"
        ],
        [
         "19",
         "2001-10-12",
         null,
         "2.24"
        ],
        [
         "20",
         "2001-10-19",
         null,
         "2.214"
        ],
        [
         "21",
         "2001-10-26",
         null,
         "2.1740000000000004"
        ],
        [
         "22",
         "2001-11-02",
         "2.09",
         "2.052"
        ],
        [
         "23",
         "2001-11-09",
         null,
         "1.866"
        ],
        [
         "24",
         "2001-11-16",
         null,
         "1.895"
        ],
        [
         "25",
         "2001-11-23",
         null,
         "1.95"
        ],
        [
         "26",
         "2001-11-30",
         null,
         "1.87"
        ],
        [
         "27",
         "2001-12-07",
         "1.82",
         "1.746"
        ],
        [
         "28",
         "2001-12-14",
         null,
         "1.6919999999999995"
        ],
        [
         "29",
         "2001-12-21",
         null,
         "1.7079999999999995"
        ],
        [
         "30",
         "2001-12-28",
         null,
         "1.7325"
        ],
        [
         "31",
         "2002-01-04",
         "1.73",
         "1.7325"
        ],
        [
         "32",
         "2002-01-11",
         null,
         "1.66"
        ],
        [
         "33",
         "2002-01-18",
         null,
         "1.61"
        ],
        [
         "34",
         "2002-01-25",
         null,
         "1.7125"
        ],
        [
         "35",
         "2002-02-01",
         "1.74",
         "1.75"
        ],
        [
         "36",
         "2002-02-08",
         null,
         "1.746"
        ],
        [
         "37",
         "2002-02-15",
         null,
         "1.75"
        ],
        [
         "38",
         "2002-02-22",
         null,
         "1.76"
        ],
        [
         "39",
         "2002-03-01",
         "1.73",
         "1.7740000000000002"
        ],
        [
         "40",
         "2002-03-08",
         null,
         "1.796"
        ],
        [
         "41",
         "2002-03-15",
         null,
         "1.848"
        ],
        [
         "42",
         "2002-03-22",
         null,
         "1.85"
        ],
        [
         "43",
         "2002-03-29",
         null,
         "1.815"
        ],
        [
         "44",
         "2002-04-05",
         "1.75",
         "1.784"
        ],
        [
         "45",
         "2002-04-12",
         null,
         "1.7239999999999998"
        ],
        [
         "46",
         "2002-04-19",
         null,
         "1.7280000000000002"
        ],
        [
         "47",
         "2002-04-26",
         null,
         "1.732"
        ],
        [
         "48",
         "2002-05-03",
         "1.75",
         "1.77"
        ],
        [
         "49",
         "2002-05-10",
         null,
         "1.768"
        ]
       ],
       "shape": {
        "columns": 3,
        "rows": 1255
       }
      },
      "text/html": [
       "<div>\n",
       "<style scoped>\n",
       "    .dataframe tbody tr th:only-of-type {\n",
       "        vertical-align: middle;\n",
       "    }\n",
       "\n",
       "    .dataframe tbody tr th {\n",
       "        vertical-align: top;\n",
       "    }\n",
       "\n",
       "    .dataframe thead th {\n",
       "        text-align: right;\n",
       "    }\n",
       "</style>\n",
       "<table border=\"1\" class=\"dataframe\">\n",
       "  <thead>\n",
       "    <tr style=\"text-align: right;\">\n",
       "      <th></th>\n",
       "      <th>DATE</th>\n",
       "      <th>Fed_Funds_Rate</th>\n",
       "      <th>TBill_3mo_Yield</th>\n",
       "    </tr>\n",
       "  </thead>\n",
       "  <tbody>\n",
       "    <tr>\n",
       "      <th>0</th>\n",
       "      <td>2001-06-01</td>\n",
       "      <td>3.97</td>\n",
       "      <td>3.670</td>\n",
       "    </tr>\n",
       "    <tr>\n",
       "      <th>1</th>\n",
       "      <td>2001-06-08</td>\n",
       "      <td>NaN</td>\n",
       "      <td>3.640</td>\n",
       "    </tr>\n",
       "    <tr>\n",
       "      <th>2</th>\n",
       "      <td>2001-06-15</td>\n",
       "      <td>NaN</td>\n",
       "      <td>3.558</td>\n",
       "    </tr>\n",
       "    <tr>\n",
       "      <th>3</th>\n",
       "      <td>2001-06-22</td>\n",
       "      <td>NaN</td>\n",
       "      <td>3.496</td>\n",
       "    </tr>\n",
       "    <tr>\n",
       "      <th>4</th>\n",
       "      <td>2001-06-29</td>\n",
       "      <td>NaN</td>\n",
       "      <td>3.546</td>\n",
       "    </tr>\n",
       "    <tr>\n",
       "      <th>...</th>\n",
       "      <td>...</td>\n",
       "      <td>...</td>\n",
       "      <td>...</td>\n",
       "    </tr>\n",
       "    <tr>\n",
       "      <th>1250</th>\n",
       "      <td>2025-05-16</td>\n",
       "      <td>NaN</td>\n",
       "      <td>4.398</td>\n",
       "    </tr>\n",
       "    <tr>\n",
       "      <th>1251</th>\n",
       "      <td>2025-05-23</td>\n",
       "      <td>NaN</td>\n",
       "      <td>4.372</td>\n",
       "    </tr>\n",
       "    <tr>\n",
       "      <th>1252</th>\n",
       "      <td>2025-05-30</td>\n",
       "      <td>NaN</td>\n",
       "      <td>4.355</td>\n",
       "    </tr>\n",
       "    <tr>\n",
       "      <th>1253</th>\n",
       "      <td>2025-06-06</td>\n",
       "      <td>NaN</td>\n",
       "      <td>4.436</td>\n",
       "    </tr>\n",
       "    <tr>\n",
       "      <th>1254</th>\n",
       "      <td>2025-06-13</td>\n",
       "      <td>NaN</td>\n",
       "      <td>4.450</td>\n",
       "    </tr>\n",
       "  </tbody>\n",
       "</table>\n",
       "<p>1255 rows × 3 columns</p>\n",
       "</div>"
      ],
      "text/plain": [
       "            DATE  Fed_Funds_Rate  TBill_3mo_Yield\n",
       "0     2001-06-01            3.97            3.670\n",
       "1     2001-06-08             NaN            3.640\n",
       "2     2001-06-15             NaN            3.558\n",
       "3     2001-06-22             NaN            3.496\n",
       "4     2001-06-29             NaN            3.546\n",
       "...          ...             ...              ...\n",
       "1250  2025-05-16             NaN            4.398\n",
       "1251  2025-05-23             NaN            4.372\n",
       "1252  2025-05-30             NaN            4.355\n",
       "1253  2025-06-06             NaN            4.436\n",
       "1254  2025-06-13             NaN            4.450\n",
       "\n",
       "[1255 rows x 3 columns]"
      ]
     },
     "execution_count": 20,
     "metadata": {},
     "output_type": "execute_result"
    }
   ],
   "source": [
    "df_interest_rates = pd.read_csv(\"csv_files/idea_csv/df_interest_rates.csv\")\n",
    "df_interest_rates"
   ]
  },
  {
   "cell_type": "markdown",
   "id": "8907aa88",
   "metadata": {},
   "source": [
    "#### CCI USA (Consumer Confidence Index) from University of Michigan"
   ]
  },
  {
   "cell_type": "code",
   "execution_count": 21,
   "id": "d8eff796",
   "metadata": {},
   "outputs": [],
   "source": [
    "%%skip\n",
    "START_DATE = \"2001-06-17\"\n",
    "END_DATE   = date.today().isoformat()\n",
    "\n",
    "df_us_cci = DataReader(\"UMCSENT\", \"fred\", START_DATE, END_DATE)\n",
    "df_us_cci.columns = [\"Consumer_Sentiment_UMich\"]\n",
    "\n",
    "OUTFILE = \"csv_files/idea_csv/consumer_confidence_index.csv\"\n",
    "df_us_cci.to_csv(OUTFILE)"
   ]
  },
  {
   "cell_type": "code",
   "execution_count": 22,
   "id": "51523471",
   "metadata": {},
   "outputs": [
    {
     "data": {
      "application/vnd.microsoft.datawrangler.viewer.v0+json": {
       "columns": [
        {
         "name": "index",
         "rawType": "int64",
         "type": "integer"
        },
        {
         "name": "DATE",
         "rawType": "object",
         "type": "string"
        },
        {
         "name": "Consumer_Sentiment_UMich",
         "rawType": "float64",
         "type": "float"
        }
       ],
       "ref": "fe64bad1-aaea-4057-9a76-ae3d45c43c74",
       "rows": [
        [
         "0",
         "2001-07-01",
         "92.4"
        ],
        [
         "1",
         "2001-08-01",
         "91.5"
        ],
        [
         "2",
         "2001-09-01",
         "81.8"
        ],
        [
         "3",
         "2001-10-01",
         "82.7"
        ],
        [
         "4",
         "2001-11-01",
         "83.9"
        ],
        [
         "5",
         "2001-12-01",
         "88.8"
        ],
        [
         "6",
         "2002-01-01",
         "93.0"
        ],
        [
         "7",
         "2002-02-01",
         "90.7"
        ],
        [
         "8",
         "2002-03-01",
         "95.7"
        ],
        [
         "9",
         "2002-04-01",
         "93.0"
        ],
        [
         "10",
         "2002-05-01",
         "96.9"
        ],
        [
         "11",
         "2002-06-01",
         "92.4"
        ],
        [
         "12",
         "2002-07-01",
         "88.1"
        ],
        [
         "13",
         "2002-08-01",
         "87.6"
        ],
        [
         "14",
         "2002-09-01",
         "86.1"
        ],
        [
         "15",
         "2002-10-01",
         "80.6"
        ],
        [
         "16",
         "2002-11-01",
         "84.2"
        ],
        [
         "17",
         "2002-12-01",
         "86.7"
        ],
        [
         "18",
         "2003-01-01",
         "82.4"
        ],
        [
         "19",
         "2003-02-01",
         "79.9"
        ],
        [
         "20",
         "2003-03-01",
         "77.6"
        ],
        [
         "21",
         "2003-04-01",
         "86.0"
        ],
        [
         "22",
         "2003-05-01",
         "92.1"
        ],
        [
         "23",
         "2003-06-01",
         "89.7"
        ],
        [
         "24",
         "2003-07-01",
         "90.9"
        ],
        [
         "25",
         "2003-08-01",
         "89.3"
        ],
        [
         "26",
         "2003-09-01",
         "87.7"
        ],
        [
         "27",
         "2003-10-01",
         "89.6"
        ],
        [
         "28",
         "2003-11-01",
         "93.7"
        ],
        [
         "29",
         "2003-12-01",
         "92.6"
        ],
        [
         "30",
         "2004-01-01",
         "103.8"
        ],
        [
         "31",
         "2004-02-01",
         "94.4"
        ],
        [
         "32",
         "2004-03-01",
         "95.8"
        ],
        [
         "33",
         "2004-04-01",
         "94.2"
        ],
        [
         "34",
         "2004-05-01",
         "90.2"
        ],
        [
         "35",
         "2004-06-01",
         "95.6"
        ],
        [
         "36",
         "2004-07-01",
         "96.7"
        ],
        [
         "37",
         "2004-08-01",
         "95.9"
        ],
        [
         "38",
         "2004-09-01",
         "94.2"
        ],
        [
         "39",
         "2004-10-01",
         "91.7"
        ],
        [
         "40",
         "2004-11-01",
         "92.8"
        ],
        [
         "41",
         "2004-12-01",
         "97.1"
        ],
        [
         "42",
         "2005-01-01",
         "95.5"
        ],
        [
         "43",
         "2005-02-01",
         "94.1"
        ],
        [
         "44",
         "2005-03-01",
         "92.6"
        ],
        [
         "45",
         "2005-04-01",
         "87.7"
        ],
        [
         "46",
         "2005-05-01",
         "86.9"
        ],
        [
         "47",
         "2005-06-01",
         "96.0"
        ],
        [
         "48",
         "2005-07-01",
         "96.5"
        ],
        [
         "49",
         "2005-08-01",
         "89.1"
        ]
       ],
       "shape": {
        "columns": 2,
        "rows": 286
       }
      },
      "text/html": [
       "<div>\n",
       "<style scoped>\n",
       "    .dataframe tbody tr th:only-of-type {\n",
       "        vertical-align: middle;\n",
       "    }\n",
       "\n",
       "    .dataframe tbody tr th {\n",
       "        vertical-align: top;\n",
       "    }\n",
       "\n",
       "    .dataframe thead th {\n",
       "        text-align: right;\n",
       "    }\n",
       "</style>\n",
       "<table border=\"1\" class=\"dataframe\">\n",
       "  <thead>\n",
       "    <tr style=\"text-align: right;\">\n",
       "      <th></th>\n",
       "      <th>DATE</th>\n",
       "      <th>Consumer_Sentiment_UMich</th>\n",
       "    </tr>\n",
       "  </thead>\n",
       "  <tbody>\n",
       "    <tr>\n",
       "      <th>0</th>\n",
       "      <td>2001-07-01</td>\n",
       "      <td>92.4</td>\n",
       "    </tr>\n",
       "    <tr>\n",
       "      <th>1</th>\n",
       "      <td>2001-08-01</td>\n",
       "      <td>91.5</td>\n",
       "    </tr>\n",
       "    <tr>\n",
       "      <th>2</th>\n",
       "      <td>2001-09-01</td>\n",
       "      <td>81.8</td>\n",
       "    </tr>\n",
       "    <tr>\n",
       "      <th>3</th>\n",
       "      <td>2001-10-01</td>\n",
       "      <td>82.7</td>\n",
       "    </tr>\n",
       "    <tr>\n",
       "      <th>4</th>\n",
       "      <td>2001-11-01</td>\n",
       "      <td>83.9</td>\n",
       "    </tr>\n",
       "    <tr>\n",
       "      <th>...</th>\n",
       "      <td>...</td>\n",
       "      <td>...</td>\n",
       "    </tr>\n",
       "    <tr>\n",
       "      <th>281</th>\n",
       "      <td>2024-12-01</td>\n",
       "      <td>74.0</td>\n",
       "    </tr>\n",
       "    <tr>\n",
       "      <th>282</th>\n",
       "      <td>2025-01-01</td>\n",
       "      <td>71.7</td>\n",
       "    </tr>\n",
       "    <tr>\n",
       "      <th>283</th>\n",
       "      <td>2025-02-01</td>\n",
       "      <td>64.7</td>\n",
       "    </tr>\n",
       "    <tr>\n",
       "      <th>284</th>\n",
       "      <td>2025-03-01</td>\n",
       "      <td>57.0</td>\n",
       "    </tr>\n",
       "    <tr>\n",
       "      <th>285</th>\n",
       "      <td>2025-04-01</td>\n",
       "      <td>52.2</td>\n",
       "    </tr>\n",
       "  </tbody>\n",
       "</table>\n",
       "<p>286 rows × 2 columns</p>\n",
       "</div>"
      ],
      "text/plain": [
       "           DATE  Consumer_Sentiment_UMich\n",
       "0    2001-07-01                      92.4\n",
       "1    2001-08-01                      91.5\n",
       "2    2001-09-01                      81.8\n",
       "3    2001-10-01                      82.7\n",
       "4    2001-11-01                      83.9\n",
       "..          ...                       ...\n",
       "281  2024-12-01                      74.0\n",
       "282  2025-01-01                      71.7\n",
       "283  2025-02-01                      64.7\n",
       "284  2025-03-01                      57.0\n",
       "285  2025-04-01                      52.2\n",
       "\n",
       "[286 rows x 2 columns]"
      ]
     },
     "execution_count": 22,
     "metadata": {},
     "output_type": "execute_result"
    }
   ],
   "source": [
    "df_us_cci = pd.read_csv(\"csv_files/idea_csv/consumer_confidence_index.csv\")\n",
    "df_us_cci"
   ]
  },
  {
   "cell_type": "markdown",
   "id": "9939e092",
   "metadata": {},
   "source": [
    "#### U.S.A Advance Retail Sales: Retail Trade and Food Services"
   ]
  },
  {
   "cell_type": "code",
   "execution_count": 23,
   "id": "f03ba7e2",
   "metadata": {},
   "outputs": [],
   "source": [
    "%%skip\n",
    "START_DATE = \"2000-01-01\"\n",
    "END_DATE   = date.today().isoformat()\n",
    "\n",
    "# RSAFS = Advance Retail Sales: Retail Trade and Food Services (Millions of Dollars, SA)\n",
    "df_us_retail = DataReader(\"RSAFS\", \"fred\", START_DATE, END_DATE)\n",
    "\n",
    "df_us_retail.columns = [\"Retail_Sales_Retail_and_Food_Services_USA\"]\n",
    "\n",
    "OUTFILE = \"csv_files/idea_csv/usa_retail_sales.csv\"\n",
    "df_us_retail.to_csv(OUTFILE)"
   ]
  },
  {
   "cell_type": "code",
   "execution_count": 24,
   "id": "a51ef437",
   "metadata": {},
   "outputs": [
    {
     "data": {
      "application/vnd.microsoft.datawrangler.viewer.v0+json": {
       "columns": [
        {
         "name": "index",
         "rawType": "int64",
         "type": "integer"
        },
        {
         "name": "DATE",
         "rawType": "object",
         "type": "string"
        },
        {
         "name": "Retail_Sales_Retail_and_Food_Services_USA",
         "rawType": "int64",
         "type": "integer"
        }
       ],
       "ref": "226e6e10-eba3-40cd-bc65-ac42c6df630d",
       "rows": [
        [
         "0",
         "2000-01-01",
         "261545"
        ],
        [
         "1",
         "2000-02-01",
         "265686"
        ],
        [
         "2",
         "2000-03-01",
         "269019"
        ],
        [
         "3",
         "2000-04-01",
         "264067"
        ],
        [
         "4",
         "2000-05-01",
         "265992"
        ],
        [
         "5",
         "2000-06-01",
         "267750"
        ],
        [
         "6",
         "2000-07-01",
         "265683"
        ],
        [
         "7",
         "2000-08-01",
         "266885"
        ],
        [
         "8",
         "2000-09-01",
         "270523"
        ],
        [
         "9",
         "2000-10-01",
         "270339"
        ],
        [
         "10",
         "2000-11-01",
         "268850"
        ],
        [
         "11",
         "2000-12-01",
         "268338"
        ],
        [
         "12",
         "2001-01-01",
         "272881"
        ],
        [
         "13",
         "2001-02-01",
         "272627"
        ],
        [
         "14",
         "2001-03-01",
         "269820"
        ],
        [
         "15",
         "2001-04-01",
         "274410"
        ],
        [
         "16",
         "2001-05-01",
         "275769"
        ],
        [
         "17",
         "2001-06-01",
         "274474"
        ],
        [
         "18",
         "2001-07-01",
         "273098"
        ],
        [
         "19",
         "2001-08-01",
         "275659"
        ],
        [
         "20",
         "2001-09-01",
         "268652"
        ],
        [
         "21",
         "2001-10-01",
         "288632"
        ],
        [
         "22",
         "2001-11-01",
         "280033"
        ],
        [
         "23",
         "2001-12-01",
         "276302"
        ],
        [
         "24",
         "2002-01-01",
         "277135"
        ],
        [
         "25",
         "2002-02-01",
         "278869"
        ],
        [
         "26",
         "2002-03-01",
         "278079"
        ],
        [
         "27",
         "2002-04-01",
         "281147"
        ],
        [
         "28",
         "2002-05-01",
         "278966"
        ],
        [
         "29",
         "2002-06-01",
         "280426"
        ],
        [
         "30",
         "2002-07-01",
         "284161"
        ],
        [
         "31",
         "2002-08-01",
         "285884"
        ],
        [
         "32",
         "2002-09-01",
         "281064"
        ],
        [
         "33",
         "2002-10-01",
         "282940"
        ],
        [
         "34",
         "2002-11-01",
         "283408"
        ],
        [
         "35",
         "2002-12-01",
         "286646"
        ],
        [
         "36",
         "2003-01-01",
         "288657"
        ],
        [
         "37",
         "2003-02-01",
         "284696"
        ],
        [
         "38",
         "2003-03-01",
         "288177"
        ],
        [
         "39",
         "2003-04-01",
         "289053"
        ],
        [
         "40",
         "2003-05-01",
         "289619"
        ],
        [
         "41",
         "2003-06-01",
         "293671"
        ],
        [
         "42",
         "2003-07-01",
         "296207"
        ],
        [
         "43",
         "2003-08-01",
         "299592"
        ],
        [
         "44",
         "2003-09-01",
         "298921"
        ],
        [
         "45",
         "2003-10-01",
         "298205"
        ],
        [
         "46",
         "2003-11-01",
         "299433"
        ],
        [
         "47",
         "2003-12-01",
         "300702"
        ],
        [
         "48",
         "2004-01-01",
         "301993"
        ],
        [
         "49",
         "2004-02-01",
         "303915"
        ]
       ],
       "shape": {
        "columns": 2,
        "rows": 305
       }
      },
      "text/html": [
       "<div>\n",
       "<style scoped>\n",
       "    .dataframe tbody tr th:only-of-type {\n",
       "        vertical-align: middle;\n",
       "    }\n",
       "\n",
       "    .dataframe tbody tr th {\n",
       "        vertical-align: top;\n",
       "    }\n",
       "\n",
       "    .dataframe thead th {\n",
       "        text-align: right;\n",
       "    }\n",
       "</style>\n",
       "<table border=\"1\" class=\"dataframe\">\n",
       "  <thead>\n",
       "    <tr style=\"text-align: right;\">\n",
       "      <th></th>\n",
       "      <th>DATE</th>\n",
       "      <th>Retail_Sales_Retail_and_Food_Services_USA</th>\n",
       "    </tr>\n",
       "  </thead>\n",
       "  <tbody>\n",
       "    <tr>\n",
       "      <th>0</th>\n",
       "      <td>2000-01-01</td>\n",
       "      <td>261545</td>\n",
       "    </tr>\n",
       "    <tr>\n",
       "      <th>1</th>\n",
       "      <td>2000-02-01</td>\n",
       "      <td>265686</td>\n",
       "    </tr>\n",
       "    <tr>\n",
       "      <th>2</th>\n",
       "      <td>2000-03-01</td>\n",
       "      <td>269019</td>\n",
       "    </tr>\n",
       "    <tr>\n",
       "      <th>3</th>\n",
       "      <td>2000-04-01</td>\n",
       "      <td>264067</td>\n",
       "    </tr>\n",
       "    <tr>\n",
       "      <th>4</th>\n",
       "      <td>2000-05-01</td>\n",
       "      <td>265992</td>\n",
       "    </tr>\n",
       "    <tr>\n",
       "      <th>...</th>\n",
       "      <td>...</td>\n",
       "      <td>...</td>\n",
       "    </tr>\n",
       "    <tr>\n",
       "      <th>300</th>\n",
       "      <td>2025-01-01</td>\n",
       "      <td>711461</td>\n",
       "    </tr>\n",
       "    <tr>\n",
       "      <th>301</th>\n",
       "      <td>2025-02-01</td>\n",
       "      <td>711757</td>\n",
       "    </tr>\n",
       "    <tr>\n",
       "      <th>302</th>\n",
       "      <td>2025-03-01</td>\n",
       "      <td>722572</td>\n",
       "    </tr>\n",
       "    <tr>\n",
       "      <th>303</th>\n",
       "      <td>2025-04-01</td>\n",
       "      <td>721983</td>\n",
       "    </tr>\n",
       "    <tr>\n",
       "      <th>304</th>\n",
       "      <td>2025-05-01</td>\n",
       "      <td>715417</td>\n",
       "    </tr>\n",
       "  </tbody>\n",
       "</table>\n",
       "<p>305 rows × 2 columns</p>\n",
       "</div>"
      ],
      "text/plain": [
       "           DATE  Retail_Sales_Retail_and_Food_Services_USA\n",
       "0    2000-01-01                                     261545\n",
       "1    2000-02-01                                     265686\n",
       "2    2000-03-01                                     269019\n",
       "3    2000-04-01                                     264067\n",
       "4    2000-05-01                                     265992\n",
       "..          ...                                        ...\n",
       "300  2025-01-01                                     711461\n",
       "301  2025-02-01                                     711757\n",
       "302  2025-03-01                                     722572\n",
       "303  2025-04-01                                     721983\n",
       "304  2025-05-01                                     715417\n",
       "\n",
       "[305 rows x 2 columns]"
      ]
     },
     "execution_count": 24,
     "metadata": {},
     "output_type": "execute_result"
    }
   ],
   "source": [
    "df_us_retail = pd.read_csv(\"csv_files/idea_csv/usa_retail_sales.csv\")\n",
    "df_us_retail"
   ]
  },
  {
   "cell_type": "markdown",
   "id": "556249e1",
   "metadata": {},
   "source": [
    "#### Exchange Rates (China, Mexico, Canada, India, Vietnam)\n"
   ]
  },
  {
   "cell_type": "code",
   "execution_count": 25,
   "id": "eac1803e",
   "metadata": {},
   "outputs": [],
   "source": [
    "%%skip\n",
    "START = \"2001-06-17\"                 \n",
    "END   = date.today().isoformat()\n",
    "\n",
    "#    China (CNY per USD): DEXCHUS  \n",
    "#    Mexico (MXN per USD): DEXMXUS  \n",
    "#    Canada (CAD per USD): DEXCAUS  \n",
    "#    India (INR per USD): DEXINUS  \n",
    "cny = DataReader(\"DEXCHUS\", \"fred\", START, END)\n",
    "mxn = DataReader(\"DEXMXUS\", \"fred\", START, END)\n",
    "cad = DataReader(\"DEXCAUS\", \"fred\", START, END)\n",
    "inr = DataReader(\"DEXINUS\", \"fred\", START, END)\n",
    "\n",
    "# Vietnam via yfinance\n",
    "vn_df = yf.download(\n",
    "    \"USDVND=X\",\n",
    "    start=START,\n",
    "    end=END,\n",
    "    progress=False\n",
    ")\n",
    "vn = vn_df[[\"Close\"]].rename(columns={\"Close\": \"VND_per_USD\"})\n",
    "\n",
    "\n",
    "fx = pd.concat([cny, mxn, cad, inr, vn], axis=1).rename(columns={\n",
    "    \"DEXCHUS\": \"CNY_per_USD\",\n",
    "    \"DEXMXUS\": \"MXN_per_USD\",\n",
    "    \"DEXCAUS\": \"CAD_per_USD\",\n",
    "    \"DEXINUS\": \"INR_per_USD\"\n",
    "})\n",
    "\n",
    "df_fx = fx.resample(\"W-FRI\").mean().dropna(how=\"all\").round(4)\n",
    "\n",
    "\n",
    "OUTFILE = \"csv_files/idea_csv/foreign_exchange.csv\"\n",
    "df_fx.to_csv(OUTFILE)"
   ]
  },
  {
   "cell_type": "code",
   "execution_count": 26,
   "id": "08e87636",
   "metadata": {},
   "outputs": [
    {
     "data": {
      "application/vnd.microsoft.datawrangler.viewer.v0+json": {
       "columns": [
        {
         "name": "index",
         "rawType": "int64",
         "type": "integer"
        },
        {
         "name": "Unnamed: 0",
         "rawType": "object",
         "type": "string"
        },
        {
         "name": "CNY_per_USD",
         "rawType": "float64",
         "type": "float"
        },
        {
         "name": "MXN_per_USD",
         "rawType": "float64",
         "type": "float"
        },
        {
         "name": "CAD_per_USD",
         "rawType": "float64",
         "type": "float"
        },
        {
         "name": "INR_per_USD",
         "rawType": "float64",
         "type": "float"
        },
        {
         "name": "('VND_per_USD', 'USDVND=X')",
         "rawType": "float64",
         "type": "float"
        }
       ],
       "ref": "02019f44-0272-43f2-88ae-951ef44778fe",
       "rows": [
        [
         "0",
         "2001-06-22",
         "8.2771",
         "9.0712",
         "1.5308",
         "47.028",
         null
        ],
        [
         "1",
         "2001-06-29",
         "8.2768",
         "9.0695",
         "1.5184",
         "47.064",
         null
        ],
        [
         "2",
         "2001-07-06",
         "8.2768",
         "9.0672",
         "1.5146",
         "47.175",
         null
        ],
        [
         "3",
         "2001-07-13",
         "8.2768",
         "9.252",
         "1.527",
         "47.2",
         null
        ],
        [
         "4",
         "2001-07-20",
         "8.2768",
         "9.1962",
         "1.5404",
         "47.162",
         null
        ],
        [
         "5",
         "2001-07-27",
         "8.2771",
         "9.1434",
         "1.538",
         "47.172",
         null
        ],
        [
         "6",
         "2001-08-03",
         "8.2768",
         "9.1715",
         "1.5349",
         "47.162",
         null
        ],
        [
         "7",
         "2001-08-10",
         "8.2771",
         "9.1108",
         "1.535",
         "47.162",
         null
        ],
        [
         "8",
         "2001-08-17",
         "8.2771",
         "9.1019",
         "1.5367",
         "47.162",
         null
        ],
        [
         "9",
         "2001-08-24",
         "8.2769",
         "9.1289",
         "1.5445",
         "47.176",
         null
        ],
        [
         "10",
         "2001-08-31",
         "8.2769",
         "9.1608",
         "1.5445",
         "47.178",
         null
        ],
        [
         "11",
         "2001-09-07",
         "8.2768",
         "9.2665",
         "1.5602",
         "47.2275",
         null
        ],
        [
         "12",
         "2001-09-14",
         "8.2768",
         "9.4395",
         "1.5647",
         "47.5025",
         null
        ],
        [
         "13",
         "2001-09-21",
         "8.2767",
         "9.455",
         "1.5704",
         "47.978",
         null
        ],
        [
         "14",
         "2001-09-28",
         "8.277",
         "9.5112",
         "1.5743",
         "48.142",
         null
        ],
        [
         "15",
         "2001-10-05",
         "8.2768",
         "9.5372",
         "1.5697",
         "48.022",
         null
        ],
        [
         "16",
         "2001-10-12",
         "8.2767",
         "9.4089",
         "1.5664",
         "48.105",
         null
        ],
        [
         "17",
         "2001-10-19",
         "8.2768",
         "9.2404",
         "1.5682",
         "48.066",
         null
        ],
        [
         "18",
         "2001-10-26",
         "8.2769",
         "9.2341",
         "1.5756",
         "48.036",
         null
        ],
        [
         "19",
         "2001-11-02",
         "8.2769",
         "9.2656",
         "1.5856",
         "48.036",
         null
        ],
        [
         "20",
         "2001-11-09",
         "8.2767",
         "9.2196",
         "1.5967",
         "48.044",
         null
        ],
        [
         "21",
         "2001-11-16",
         "8.2768",
         "9.2272",
         "1.5911",
         "48.07",
         null
        ],
        [
         "22",
         "2001-11-23",
         "8.2769",
         "9.1664",
         "1.5945",
         "48.04",
         null
        ],
        [
         "23",
         "2001-11-30",
         "8.2772",
         "9.2529",
         "1.587",
         "48.022",
         null
        ],
        [
         "24",
         "2001-12-07",
         "8.2772",
         "9.2219",
         "1.574",
         "47.912",
         null
        ],
        [
         "25",
         "2001-12-14",
         "8.2768",
         "9.142",
         "1.5706",
         "47.852",
         null
        ],
        [
         "26",
         "2001-12-21",
         "8.2767",
         "9.1296",
         "1.575",
         "47.84",
         null
        ],
        [
         "27",
         "2001-12-28",
         "8.2744",
         "9.131",
         "1.5961",
         "48.1",
         null
        ],
        [
         "28",
         "2002-01-04",
         "8.2766",
         "9.127",
         "1.5962",
         "48.28",
         null
        ],
        [
         "29",
         "2002-01-11",
         "8.2767",
         "9.2079",
         "1.5976",
         "48.35",
         null
        ],
        [
         "30",
         "2002-01-18",
         "8.2787",
         "9.1599",
         "1.6011",
         "48.31",
         null
        ],
        [
         "31",
         "2002-01-25",
         "8.2766",
         "9.1425",
         "1.6057",
         "48.345",
         null
        ],
        [
         "32",
         "2002-02-01",
         "8.2766",
         "9.1665",
         "1.5952",
         "48.488",
         null
        ],
        [
         "33",
         "2002-02-08",
         "8.2766",
         "9.1426",
         "1.5991",
         "48.686",
         null
        ],
        [
         "34",
         "2002-02-15",
         "8.2768",
         "9.0752",
         "1.591",
         "48.752",
         null
        ],
        [
         "35",
         "2002-02-22",
         "8.2767",
         "9.0881",
         "1.5912",
         "48.6975",
         null
        ],
        [
         "36",
         "2002-03-01",
         "8.2766",
         "9.0981",
         "1.6042",
         "48.77",
         null
        ],
        [
         "37",
         "2002-03-08",
         "8.2769",
         "9.0784",
         "1.5864",
         "48.734",
         null
        ],
        [
         "38",
         "2002-03-15",
         "8.2778",
         "9.0918",
         "1.5888",
         "48.752",
         null
        ],
        [
         "39",
         "2002-03-22",
         "8.2773",
         "9.0635",
         "1.5818",
         "48.768",
         null
        ],
        [
         "40",
         "2002-03-29",
         "8.2772",
         "9.0162",
         "1.5924",
         "48.814",
         null
        ],
        [
         "41",
         "2002-04-05",
         "8.2773",
         "9.0265",
         "1.593",
         "48.874",
         null
        ],
        [
         "42",
         "2002-04-12",
         "8.2771",
         "9.053",
         "1.5919",
         "48.922",
         null
        ],
        [
         "43",
         "2002-04-19",
         "8.2772",
         "9.203",
         "1.5781",
         "48.946",
         null
        ],
        [
         "44",
         "2002-04-26",
         "8.2773",
         "9.2978",
         "1.5687",
         "48.99",
         null
        ],
        [
         "45",
         "2002-05-03",
         "8.2772",
         "9.4181",
         "1.5639",
         "48.99",
         null
        ],
        [
         "46",
         "2002-05-10",
         "8.2773",
         "9.4506",
         "1.5672",
         "48.988",
         null
        ],
        [
         "47",
         "2002-05-17",
         "8.2769",
         "9.4874",
         "1.5542",
         "49.036",
         null
        ],
        [
         "48",
         "2002-05-24",
         "8.277",
         "9.5255",
         "1.537",
         "49.034",
         null
        ],
        [
         "49",
         "2002-05-31",
         "8.2766",
         "9.634",
         "1.5316",
         "49.03",
         null
        ]
       ],
       "shape": {
        "columns": 6,
        "rows": 1253
       }
      },
      "text/html": [
       "<div>\n",
       "<style scoped>\n",
       "    .dataframe tbody tr th:only-of-type {\n",
       "        vertical-align: middle;\n",
       "    }\n",
       "\n",
       "    .dataframe tbody tr th {\n",
       "        vertical-align: top;\n",
       "    }\n",
       "\n",
       "    .dataframe thead th {\n",
       "        text-align: right;\n",
       "    }\n",
       "</style>\n",
       "<table border=\"1\" class=\"dataframe\">\n",
       "  <thead>\n",
       "    <tr style=\"text-align: right;\">\n",
       "      <th></th>\n",
       "      <th>Unnamed: 0</th>\n",
       "      <th>CNY_per_USD</th>\n",
       "      <th>MXN_per_USD</th>\n",
       "      <th>CAD_per_USD</th>\n",
       "      <th>INR_per_USD</th>\n",
       "      <th>('VND_per_USD', 'USDVND=X')</th>\n",
       "    </tr>\n",
       "  </thead>\n",
       "  <tbody>\n",
       "    <tr>\n",
       "      <th>0</th>\n",
       "      <td>2001-06-22</td>\n",
       "      <td>8.2771</td>\n",
       "      <td>9.0712</td>\n",
       "      <td>1.5308</td>\n",
       "      <td>47.028</td>\n",
       "      <td>NaN</td>\n",
       "    </tr>\n",
       "    <tr>\n",
       "      <th>1</th>\n",
       "      <td>2001-06-29</td>\n",
       "      <td>8.2768</td>\n",
       "      <td>9.0695</td>\n",
       "      <td>1.5184</td>\n",
       "      <td>47.064</td>\n",
       "      <td>NaN</td>\n",
       "    </tr>\n",
       "    <tr>\n",
       "      <th>2</th>\n",
       "      <td>2001-07-06</td>\n",
       "      <td>8.2768</td>\n",
       "      <td>9.0672</td>\n",
       "      <td>1.5146</td>\n",
       "      <td>47.175</td>\n",
       "      <td>NaN</td>\n",
       "    </tr>\n",
       "    <tr>\n",
       "      <th>3</th>\n",
       "      <td>2001-07-13</td>\n",
       "      <td>8.2768</td>\n",
       "      <td>9.2520</td>\n",
       "      <td>1.5270</td>\n",
       "      <td>47.200</td>\n",
       "      <td>NaN</td>\n",
       "    </tr>\n",
       "    <tr>\n",
       "      <th>4</th>\n",
       "      <td>2001-07-20</td>\n",
       "      <td>8.2768</td>\n",
       "      <td>9.1962</td>\n",
       "      <td>1.5404</td>\n",
       "      <td>47.162</td>\n",
       "      <td>NaN</td>\n",
       "    </tr>\n",
       "    <tr>\n",
       "      <th>...</th>\n",
       "      <td>...</td>\n",
       "      <td>...</td>\n",
       "      <td>...</td>\n",
       "      <td>...</td>\n",
       "      <td>...</td>\n",
       "      <td>...</td>\n",
       "    </tr>\n",
       "    <tr>\n",
       "      <th>1248</th>\n",
       "      <td>2025-05-23</td>\n",
       "      <td>7.2038</td>\n",
       "      <td>19.3119</td>\n",
       "      <td>1.3864</td>\n",
       "      <td>85.558</td>\n",
       "      <td>25944.4</td>\n",
       "    </tr>\n",
       "    <tr>\n",
       "      <th>1249</th>\n",
       "      <td>2025-05-30</td>\n",
       "      <td>7.1934</td>\n",
       "      <td>19.3442</td>\n",
       "      <td>1.3788</td>\n",
       "      <td>85.420</td>\n",
       "      <td>25938.4</td>\n",
       "    </tr>\n",
       "    <tr>\n",
       "      <th>1250</th>\n",
       "      <td>2025-06-06</td>\n",
       "      <td>7.1865</td>\n",
       "      <td>19.2013</td>\n",
       "      <td>1.3688</td>\n",
       "      <td>85.646</td>\n",
       "      <td>26041.2</td>\n",
       "    </tr>\n",
       "    <tr>\n",
       "      <th>1251</th>\n",
       "      <td>2025-06-13</td>\n",
       "      <td>7.1827</td>\n",
       "      <td>18.9487</td>\n",
       "      <td>1.3642</td>\n",
       "      <td>85.670</td>\n",
       "      <td>26018.4</td>\n",
       "    </tr>\n",
       "    <tr>\n",
       "      <th>1252</th>\n",
       "      <td>2025-06-20</td>\n",
       "      <td>NaN</td>\n",
       "      <td>NaN</td>\n",
       "      <td>NaN</td>\n",
       "      <td>NaN</td>\n",
       "      <td>26050.0</td>\n",
       "    </tr>\n",
       "  </tbody>\n",
       "</table>\n",
       "<p>1253 rows × 6 columns</p>\n",
       "</div>"
      ],
      "text/plain": [
       "      Unnamed: 0  CNY_per_USD  MXN_per_USD  CAD_per_USD  INR_per_USD  \\\n",
       "0     2001-06-22       8.2771       9.0712       1.5308       47.028   \n",
       "1     2001-06-29       8.2768       9.0695       1.5184       47.064   \n",
       "2     2001-07-06       8.2768       9.0672       1.5146       47.175   \n",
       "3     2001-07-13       8.2768       9.2520       1.5270       47.200   \n",
       "4     2001-07-20       8.2768       9.1962       1.5404       47.162   \n",
       "...          ...          ...          ...          ...          ...   \n",
       "1248  2025-05-23       7.2038      19.3119       1.3864       85.558   \n",
       "1249  2025-05-30       7.1934      19.3442       1.3788       85.420   \n",
       "1250  2025-06-06       7.1865      19.2013       1.3688       85.646   \n",
       "1251  2025-06-13       7.1827      18.9487       1.3642       85.670   \n",
       "1252  2025-06-20          NaN          NaN          NaN          NaN   \n",
       "\n",
       "      ('VND_per_USD', 'USDVND=X')  \n",
       "0                             NaN  \n",
       "1                             NaN  \n",
       "2                             NaN  \n",
       "3                             NaN  \n",
       "4                             NaN  \n",
       "...                           ...  \n",
       "1248                      25944.4  \n",
       "1249                      25938.4  \n",
       "1250                      26041.2  \n",
       "1251                      26018.4  \n",
       "1252                      26050.0  \n",
       "\n",
       "[1253 rows x 6 columns]"
      ]
     },
     "execution_count": 26,
     "metadata": {},
     "output_type": "execute_result"
    }
   ],
   "source": [
    "df_fx = pd.read_csv(\"csv_files/idea_csv/foreign_exchange.csv\")\n",
    "df_fx"
   ]
  },
  {
   "cell_type": "markdown",
   "id": "c96b6f4e",
   "metadata": {},
   "source": [
    "#### US External Tax Rate"
   ]
  },
  {
   "cell_type": "code",
   "execution_count": 27,
   "id": "3c1f4120",
   "metadata": {},
   "outputs": [],
   "source": [
    "%%skip\n",
    "INDICATOR   = \"TM.TAX.MRCH.WM.AR.ZS\"  # Tariff rate %\n",
    "COUNTRIES   = [\"CN\", \"IN\", \"MX\", \"CA\", \"VN\"]\n",
    "START_YEAR  = 2000\n",
    "END_YEAR    = date.today().year\n",
    "\n",
    "# from World Bank\n",
    "df_us_tariff = wb.download(\n",
    "    indicator=INDICATOR,\n",
    "    country=COUNTRIES,\n",
    "    start=START_YEAR,\n",
    "    end=END_YEAR\n",
    ")\n",
    "\n",
    "df_us_tariff = df_us_tariff.reset_index().pivot(index=\"year\", columns=\"country\", values=INDICATOR)\n",
    "\n",
    "df_us_tariff = df_us_tariff.rename(columns={\n",
    "    \"CN\": \"China_Applied_Tariff_%\", \n",
    "    \"IN\": \"India_Applied_Tariff_%\", \n",
    "    \"MX\": \"Mexico_Applied_Tariff_%\", \n",
    "    \"CA\": \"Canada_Applied_Tariff_%\", \n",
    "    \"VN\": \"Vietnam_Applied_Tariff_%\"\n",
    "})\n",
    "\n",
    "\n",
    "OUTFILE = \"csv_files/idea_csv/external_tax_rates.csv\"\n",
    "df_us_tariff.to_csv(OUTFILE, index_label=\"Year\")"
   ]
  },
  {
   "cell_type": "code",
   "execution_count": 28,
   "id": "7ffeee62",
   "metadata": {},
   "outputs": [
    {
     "data": {
      "application/vnd.microsoft.datawrangler.viewer.v0+json": {
       "columns": [
        {
         "name": "index",
         "rawType": "int64",
         "type": "integer"
        },
        {
         "name": "Year",
         "rawType": "int64",
         "type": "integer"
        },
        {
         "name": "Canada",
         "rawType": "float64",
         "type": "float"
        },
        {
         "name": "China",
         "rawType": "float64",
         "type": "float"
        },
        {
         "name": "India",
         "rawType": "float64",
         "type": "float"
        },
        {
         "name": "Mexico",
         "rawType": "float64",
         "type": "float"
        },
        {
         "name": "Viet Nam",
         "rawType": "float64",
         "type": "float"
        }
       ],
       "ref": "1fc54096-e2c8-47f0-baf5-3c429448fdeb",
       "rows": [
        [
         "0",
         "2000",
         "1.31",
         "14.67",
         "23.36",
         "15.15",
         null
        ],
        [
         "1",
         "2001",
         "1.6",
         "14.11",
         "26.51",
         "15.24",
         "15.29"
        ],
        [
         "2",
         "2002",
         "1.49",
         "7.72",
         "23.08",
         "5.03",
         "14.73"
        ],
        [
         "3",
         "2003",
         "2.46",
         "6.48",
         "21.45",
         "15.44",
         "11.79"
        ],
        [
         "4",
         "2004",
         "1.51",
         "5.96",
         "22.96",
         "3.0",
         "11.69"
        ],
        [
         "5",
         "2005",
         "1.46",
         "4.87",
         "13.9",
         "3.0",
         "11.35"
        ],
        [
         "6",
         "2006",
         "1.45",
         "4.25",
         "8.99",
         "2.39",
         "10.21"
        ],
        [
         "7",
         "2007",
         "1.54",
         "5.07",
         "11.99",
         "2.41",
         "9.13"
        ],
        [
         "8",
         "2008",
         "1.54",
         "4.47",
         "5.98",
         "1.87",
         "5.03"
        ],
        [
         "9",
         "2009",
         "1.7",
         "3.94",
         "6.84",
         "1.61",
         "6.76"
        ],
        [
         "10",
         "2010",
         "1.46",
         "4.65",
         "6.1",
         "5.37",
         "5.02"
        ],
        [
         "11",
         "2011",
         "1.38",
         "5.99",
         "7.33",
         "5.37",
         null
        ],
        [
         "12",
         "2012",
         "1.4",
         null,
         "6.32",
         "5.17",
         "3.65"
        ],
        [
         "13",
         "2013",
         "1.45",
         null,
         "6.34",
         "4.87",
         "3.54"
        ],
        [
         "14",
         "2014",
         "1.43",
         "4.74",
         null,
         "1.02",
         "3.43"
        ],
        [
         "15",
         "2015",
         "1.65",
         "4.52",
         "7.32",
         "4.45",
         "3.14"
        ],
        [
         "16",
         "2016",
         "1.56",
         "3.54",
         "6.35",
         "4.35",
         "2.86"
        ],
        [
         "17",
         "2017",
         "1.52",
         "3.83",
         "5.78",
         "1.24",
         "2.69"
        ],
        [
         "18",
         "2018",
         "1.47",
         "3.39",
         "4.88",
         "1.21",
         "4.39"
        ],
        [
         "19",
         "2019",
         "1.51",
         "2.53",
         "6.59",
         null,
         "1.66"
        ],
        [
         "20",
         "2020",
         "1.49",
         "2.47",
         "6.19",
         null,
         "1.34"
        ],
        [
         "21",
         "2021",
         "2.35",
         "2.31",
         "5.87",
         null,
         "1.17"
        ],
        [
         "22",
         "2022",
         "1.37",
         "2.18",
         "4.59",
         "1.62",
         "1.07"
        ],
        [
         "23",
         "2023",
         null,
         null,
         null,
         null,
         null
        ],
        [
         "24",
         "2024",
         null,
         null,
         null,
         null,
         null
        ]
       ],
       "shape": {
        "columns": 6,
        "rows": 25
       }
      },
      "text/html": [
       "<div>\n",
       "<style scoped>\n",
       "    .dataframe tbody tr th:only-of-type {\n",
       "        vertical-align: middle;\n",
       "    }\n",
       "\n",
       "    .dataframe tbody tr th {\n",
       "        vertical-align: top;\n",
       "    }\n",
       "\n",
       "    .dataframe thead th {\n",
       "        text-align: right;\n",
       "    }\n",
       "</style>\n",
       "<table border=\"1\" class=\"dataframe\">\n",
       "  <thead>\n",
       "    <tr style=\"text-align: right;\">\n",
       "      <th></th>\n",
       "      <th>Year</th>\n",
       "      <th>Canada</th>\n",
       "      <th>China</th>\n",
       "      <th>India</th>\n",
       "      <th>Mexico</th>\n",
       "      <th>Viet Nam</th>\n",
       "    </tr>\n",
       "  </thead>\n",
       "  <tbody>\n",
       "    <tr>\n",
       "      <th>0</th>\n",
       "      <td>2000</td>\n",
       "      <td>1.31</td>\n",
       "      <td>14.67</td>\n",
       "      <td>23.36</td>\n",
       "      <td>15.15</td>\n",
       "      <td>NaN</td>\n",
       "    </tr>\n",
       "    <tr>\n",
       "      <th>1</th>\n",
       "      <td>2001</td>\n",
       "      <td>1.60</td>\n",
       "      <td>14.11</td>\n",
       "      <td>26.51</td>\n",
       "      <td>15.24</td>\n",
       "      <td>15.29</td>\n",
       "    </tr>\n",
       "    <tr>\n",
       "      <th>2</th>\n",
       "      <td>2002</td>\n",
       "      <td>1.49</td>\n",
       "      <td>7.72</td>\n",
       "      <td>23.08</td>\n",
       "      <td>5.03</td>\n",
       "      <td>14.73</td>\n",
       "    </tr>\n",
       "    <tr>\n",
       "      <th>3</th>\n",
       "      <td>2003</td>\n",
       "      <td>2.46</td>\n",
       "      <td>6.48</td>\n",
       "      <td>21.45</td>\n",
       "      <td>15.44</td>\n",
       "      <td>11.79</td>\n",
       "    </tr>\n",
       "    <tr>\n",
       "      <th>4</th>\n",
       "      <td>2004</td>\n",
       "      <td>1.51</td>\n",
       "      <td>5.96</td>\n",
       "      <td>22.96</td>\n",
       "      <td>3.00</td>\n",
       "      <td>11.69</td>\n",
       "    </tr>\n",
       "    <tr>\n",
       "      <th>5</th>\n",
       "      <td>2005</td>\n",
       "      <td>1.46</td>\n",
       "      <td>4.87</td>\n",
       "      <td>13.90</td>\n",
       "      <td>3.00</td>\n",
       "      <td>11.35</td>\n",
       "    </tr>\n",
       "    <tr>\n",
       "      <th>6</th>\n",
       "      <td>2006</td>\n",
       "      <td>1.45</td>\n",
       "      <td>4.25</td>\n",
       "      <td>8.99</td>\n",
       "      <td>2.39</td>\n",
       "      <td>10.21</td>\n",
       "    </tr>\n",
       "    <tr>\n",
       "      <th>7</th>\n",
       "      <td>2007</td>\n",
       "      <td>1.54</td>\n",
       "      <td>5.07</td>\n",
       "      <td>11.99</td>\n",
       "      <td>2.41</td>\n",
       "      <td>9.13</td>\n",
       "    </tr>\n",
       "    <tr>\n",
       "      <th>8</th>\n",
       "      <td>2008</td>\n",
       "      <td>1.54</td>\n",
       "      <td>4.47</td>\n",
       "      <td>5.98</td>\n",
       "      <td>1.87</td>\n",
       "      <td>5.03</td>\n",
       "    </tr>\n",
       "    <tr>\n",
       "      <th>9</th>\n",
       "      <td>2009</td>\n",
       "      <td>1.70</td>\n",
       "      <td>3.94</td>\n",
       "      <td>6.84</td>\n",
       "      <td>1.61</td>\n",
       "      <td>6.76</td>\n",
       "    </tr>\n",
       "    <tr>\n",
       "      <th>10</th>\n",
       "      <td>2010</td>\n",
       "      <td>1.46</td>\n",
       "      <td>4.65</td>\n",
       "      <td>6.10</td>\n",
       "      <td>5.37</td>\n",
       "      <td>5.02</td>\n",
       "    </tr>\n",
       "    <tr>\n",
       "      <th>11</th>\n",
       "      <td>2011</td>\n",
       "      <td>1.38</td>\n",
       "      <td>5.99</td>\n",
       "      <td>7.33</td>\n",
       "      <td>5.37</td>\n",
       "      <td>NaN</td>\n",
       "    </tr>\n",
       "    <tr>\n",
       "      <th>12</th>\n",
       "      <td>2012</td>\n",
       "      <td>1.40</td>\n",
       "      <td>NaN</td>\n",
       "      <td>6.32</td>\n",
       "      <td>5.17</td>\n",
       "      <td>3.65</td>\n",
       "    </tr>\n",
       "    <tr>\n",
       "      <th>13</th>\n",
       "      <td>2013</td>\n",
       "      <td>1.45</td>\n",
       "      <td>NaN</td>\n",
       "      <td>6.34</td>\n",
       "      <td>4.87</td>\n",
       "      <td>3.54</td>\n",
       "    </tr>\n",
       "    <tr>\n",
       "      <th>14</th>\n",
       "      <td>2014</td>\n",
       "      <td>1.43</td>\n",
       "      <td>4.74</td>\n",
       "      <td>NaN</td>\n",
       "      <td>1.02</td>\n",
       "      <td>3.43</td>\n",
       "    </tr>\n",
       "    <tr>\n",
       "      <th>15</th>\n",
       "      <td>2015</td>\n",
       "      <td>1.65</td>\n",
       "      <td>4.52</td>\n",
       "      <td>7.32</td>\n",
       "      <td>4.45</td>\n",
       "      <td>3.14</td>\n",
       "    </tr>\n",
       "    <tr>\n",
       "      <th>16</th>\n",
       "      <td>2016</td>\n",
       "      <td>1.56</td>\n",
       "      <td>3.54</td>\n",
       "      <td>6.35</td>\n",
       "      <td>4.35</td>\n",
       "      <td>2.86</td>\n",
       "    </tr>\n",
       "    <tr>\n",
       "      <th>17</th>\n",
       "      <td>2017</td>\n",
       "      <td>1.52</td>\n",
       "      <td>3.83</td>\n",
       "      <td>5.78</td>\n",
       "      <td>1.24</td>\n",
       "      <td>2.69</td>\n",
       "    </tr>\n",
       "    <tr>\n",
       "      <th>18</th>\n",
       "      <td>2018</td>\n",
       "      <td>1.47</td>\n",
       "      <td>3.39</td>\n",
       "      <td>4.88</td>\n",
       "      <td>1.21</td>\n",
       "      <td>4.39</td>\n",
       "    </tr>\n",
       "    <tr>\n",
       "      <th>19</th>\n",
       "      <td>2019</td>\n",
       "      <td>1.51</td>\n",
       "      <td>2.53</td>\n",
       "      <td>6.59</td>\n",
       "      <td>NaN</td>\n",
       "      <td>1.66</td>\n",
       "    </tr>\n",
       "    <tr>\n",
       "      <th>20</th>\n",
       "      <td>2020</td>\n",
       "      <td>1.49</td>\n",
       "      <td>2.47</td>\n",
       "      <td>6.19</td>\n",
       "      <td>NaN</td>\n",
       "      <td>1.34</td>\n",
       "    </tr>\n",
       "    <tr>\n",
       "      <th>21</th>\n",
       "      <td>2021</td>\n",
       "      <td>2.35</td>\n",
       "      <td>2.31</td>\n",
       "      <td>5.87</td>\n",
       "      <td>NaN</td>\n",
       "      <td>1.17</td>\n",
       "    </tr>\n",
       "    <tr>\n",
       "      <th>22</th>\n",
       "      <td>2022</td>\n",
       "      <td>1.37</td>\n",
       "      <td>2.18</td>\n",
       "      <td>4.59</td>\n",
       "      <td>1.62</td>\n",
       "      <td>1.07</td>\n",
       "    </tr>\n",
       "    <tr>\n",
       "      <th>23</th>\n",
       "      <td>2023</td>\n",
       "      <td>NaN</td>\n",
       "      <td>NaN</td>\n",
       "      <td>NaN</td>\n",
       "      <td>NaN</td>\n",
       "      <td>NaN</td>\n",
       "    </tr>\n",
       "    <tr>\n",
       "      <th>24</th>\n",
       "      <td>2024</td>\n",
       "      <td>NaN</td>\n",
       "      <td>NaN</td>\n",
       "      <td>NaN</td>\n",
       "      <td>NaN</td>\n",
       "      <td>NaN</td>\n",
       "    </tr>\n",
       "  </tbody>\n",
       "</table>\n",
       "</div>"
      ],
      "text/plain": [
       "    Year  Canada  China  India  Mexico  Viet Nam\n",
       "0   2000    1.31  14.67  23.36   15.15       NaN\n",
       "1   2001    1.60  14.11  26.51   15.24     15.29\n",
       "2   2002    1.49   7.72  23.08    5.03     14.73\n",
       "3   2003    2.46   6.48  21.45   15.44     11.79\n",
       "4   2004    1.51   5.96  22.96    3.00     11.69\n",
       "5   2005    1.46   4.87  13.90    3.00     11.35\n",
       "6   2006    1.45   4.25   8.99    2.39     10.21\n",
       "7   2007    1.54   5.07  11.99    2.41      9.13\n",
       "8   2008    1.54   4.47   5.98    1.87      5.03\n",
       "9   2009    1.70   3.94   6.84    1.61      6.76\n",
       "10  2010    1.46   4.65   6.10    5.37      5.02\n",
       "11  2011    1.38   5.99   7.33    5.37       NaN\n",
       "12  2012    1.40    NaN   6.32    5.17      3.65\n",
       "13  2013    1.45    NaN   6.34    4.87      3.54\n",
       "14  2014    1.43   4.74    NaN    1.02      3.43\n",
       "15  2015    1.65   4.52   7.32    4.45      3.14\n",
       "16  2016    1.56   3.54   6.35    4.35      2.86\n",
       "17  2017    1.52   3.83   5.78    1.24      2.69\n",
       "18  2018    1.47   3.39   4.88    1.21      4.39\n",
       "19  2019    1.51   2.53   6.59     NaN      1.66\n",
       "20  2020    1.49   2.47   6.19     NaN      1.34\n",
       "21  2021    2.35   2.31   5.87     NaN      1.17\n",
       "22  2022    1.37   2.18   4.59    1.62      1.07\n",
       "23  2023     NaN    NaN    NaN     NaN       NaN\n",
       "24  2024     NaN    NaN    NaN     NaN       NaN"
      ]
     },
     "execution_count": 28,
     "metadata": {},
     "output_type": "execute_result"
    }
   ],
   "source": [
    "df_us_tariff = pd.read_csv(\"csv_files/idea_csv/external_tax_rates.csv\")\n",
    "df_us_tariff"
   ]
  },
  {
   "cell_type": "markdown",
   "id": "a5f8530b",
   "metadata": {},
   "source": [
    "##### Holidays"
   ]
  },
  {
   "cell_type": "code",
   "execution_count": 29,
   "id": "b56fb08e",
   "metadata": {},
   "outputs": [],
   "source": [
    "def nth_weekday(year, month, weekday, n):\n",
    "    \"\"\"\n",
    "    Return the date of the nth occurrence of the given weekday\n",
    "    in the specified month and year.\n",
    "    weekday: Monday=0, Sunday=6\n",
    "    \"\"\"\n",
    "    d = date(year, month, 1)\n",
    "    count = 0\n",
    "    while True:\n",
    "        if d.weekday() == weekday:\n",
    "            count += 1\n",
    "            if count == n:\n",
    "                return d\n",
    "        d += timedelta(days=1)\n",
    "\n",
    "years = range(2010, 2014)\n",
    "records = []\n",
    "\n",
    "for year in years:\n",
    "    # Fixed‐date holidays\n",
    "    records.append({\"Date\": pd.Timestamp(date(year, 2, 14)), \"Holiday\": \"Valentine's Day\"})\n",
    "    records.append({\"Date\": pd.Timestamp(date(year, 7, 4)),  \"Holiday\": \"Independence Day\"})\n",
    "    records.append({\"Date\": pd.Timestamp(date(year, 10, 31)),\"Holiday\": \"Halloween\"})\n",
    "    records.append({\"Date\": pd.Timestamp(date(year, 12, 24)),\"Holiday\": \"Christmas Eve\"})\n",
    "    records.append({\"Date\": pd.Timestamp(date(year, 12, 25)),\"Holiday\": \"Christmas Day\"})\n",
    "    records.append({\"Date\": pd.Timestamp(date(year, 12, 31)),\"Holiday\": \"New Year's Eve\"})\n",
    "    \n",
    "    # Mother's Day: 2nd Sunday in May\n",
    "    md = nth_weekday(year, 5, 6, 2)\n",
    "    records.append({\"Date\": pd.Timestamp(md), \"Holiday\": \"Mother's Day\"})\n",
    "    \n",
    "    # Father's Day: 3rd Sunday in June\n",
    "    fd = nth_weekday(year, 6, 6, 3)\n",
    "    records.append({\"Date\": pd.Timestamp(fd), \"Holiday\": \"Father's Day\"})\n",
    "    \n",
    "    # Memorial Day: last Monday in May\n",
    "    d_mem = date(year, 5, 31)\n",
    "    while d_mem.weekday() != 0:  # 0 = Monday\n",
    "        d_mem -= timedelta(days=1)\n",
    "    records.append({\"Date\": pd.Timestamp(d_mem), \"Holiday\": \"Memorial Day\"})\n",
    "    \n",
    "    # Labor Day: 1st Monday in September\n",
    "    ld = nth_weekday(year, 9, 0, 1)\n",
    "    records.append({\"Date\": pd.Timestamp(ld), \"Holiday\": \"Labor Day\"})\n",
    "    \n",
    "    # Easter Sunday\n",
    "    eas = easter(year)\n",
    "    records.append({\"Date\": pd.Timestamp(eas), \"Holiday\": \"Easter Sunday\"})\n",
    "    \n",
    "    # Thanksgiving: 4th Thursday in November\n",
    "    th = nth_weekday(year, 11, 3, 4)\n",
    "    records.append({\"Date\": pd.Timestamp(th), \"Holiday\": \"Thanksgiving\"})\n",
    "    \n",
    "    # Black Friday: day after Thanksgiving\n",
    "    bf = th + timedelta(days=1)\n",
    "    records.append({\"Date\": pd.Timestamp(bf), \"Holiday\": \"Black Friday\"})\n",
    "    \n",
    "    # Small Business Saturday: Saturday after Thanksgiving\n",
    "    sbs = th + timedelta(days=2)\n",
    "    records.append({\"Date\": pd.Timestamp(sbs), \"Holiday\": \"Small Business Saturday\"})\n",
    "    \n",
    "    # Cyber Monday: Monday after Thanksgiving\n",
    "    cm = th + timedelta(days=4)\n",
    "    records.append({\"Date\": pd.Timestamp(cm), \"Holiday\": \"Cyber Monday\"})\n",
    "    \n",
    "    # Super Saturday: _last Saturday before_ Christmas Eve\n",
    "    d2 = date(year, 12, 24) - timedelta(days=1)\n",
    "    while d2.weekday() != 5:  # 5 = Saturday\n",
    "        d2 -= timedelta(days=1)\n",
    "    records.append({\"Date\": pd.Timestamp(d2), \"Holiday\": \"Super Saturday\"})\n",
    "    \n",
    "    # Green Monday: 2nd Monday in December\n",
    "    gm = nth_weekday(year, 12, 0, 2)\n",
    "    records.append({\"Date\": pd.Timestamp(gm), \"Holiday\": \"Green Monday\"})\n",
    "\n",
    "# Build and save the DataFrame\n",
    "df_us_holidays = pd.DataFrame(records).sort_values(\"Date\").reset_index(drop=True)\n",
    "df_us_holidays.to_csv(\"csv_files/idea_csv/df_us_holidays.csv\", index=False)\n"
   ]
  },
  {
   "cell_type": "code",
   "execution_count": 30,
   "id": "3611fc71",
   "metadata": {},
   "outputs": [
    {
     "name": "stdout",
     "output_type": "stream",
     "text": [
      "          Date          Holiday\n",
      "0   2010-02-14  Valentine's Day\n",
      "1   2010-04-04    Easter Sunday\n",
      "2   2010-05-09     Mother's Day\n",
      "3   2010-05-31     Memorial Day\n",
      "4   2010-06-20     Father's Day\n",
      "..         ...              ...\n",
      "63  2013-12-09     Green Monday\n",
      "64  2013-12-21   Super Saturday\n",
      "65  2013-12-24    Christmas Eve\n",
      "66  2013-12-25    Christmas Day\n",
      "67  2013-12-31   New Year's Eve\n",
      "\n",
      "[68 rows x 2 columns]\n"
     ]
    }
   ],
   "source": [
    "df_us_holidays = pd.read_csv(\"csv_files/idea_csv/df_us_holidays.csv\")\n",
    "print(df_us_holidays)"
   ]
  },
  {
   "cell_type": "markdown",
   "id": "53a0ce63",
   "metadata": {},
   "source": [
    "#### Tax Return"
   ]
  },
  {
   "cell_type": "markdown",
   "id": "ec547b96",
   "metadata": {},
   "source": [
    "Train"
   ]
  },
  {
   "cell_type": "code",
   "execution_count": 31,
   "id": "1bf355ee",
   "metadata": {},
   "outputs": [
    {
     "data": {
      "application/vnd.microsoft.datawrangler.viewer.v0+json": {
       "columns": [
        {
         "name": "index",
         "rawType": "int64",
         "type": "integer"
        },
        {
         "name": "Date",
         "rawType": "datetime64[ns]",
         "type": "datetime"
        }
       ],
       "ref": "61c7c75d-d893-41c3-9270-77fbbc7f74f2",
       "rows": [
        [
         "0",
         "2010-02-05 00:00:00"
        ],
        [
         "1",
         "2010-02-12 00:00:00"
        ],
        [
         "2",
         "2010-02-19 00:00:00"
        ],
        [
         "3",
         "2010-02-26 00:00:00"
        ],
        [
         "4",
         "2010-03-05 00:00:00"
        ],
        [
         "5",
         "2010-03-12 00:00:00"
        ],
        [
         "6",
         "2010-03-19 00:00:00"
        ],
        [
         "7",
         "2010-03-26 00:00:00"
        ],
        [
         "8",
         "2010-04-02 00:00:00"
        ],
        [
         "9",
         "2010-04-09 00:00:00"
        ],
        [
         "10",
         "2010-04-16 00:00:00"
        ],
        [
         "11",
         "2010-04-23 00:00:00"
        ],
        [
         "12",
         "2010-04-30 00:00:00"
        ],
        [
         "13",
         "2010-05-07 00:00:00"
        ],
        [
         "14",
         "2010-05-14 00:00:00"
        ],
        [
         "15",
         "2010-05-21 00:00:00"
        ],
        [
         "16",
         "2010-05-28 00:00:00"
        ],
        [
         "17",
         "2010-06-04 00:00:00"
        ],
        [
         "18",
         "2010-06-11 00:00:00"
        ],
        [
         "19",
         "2010-06-18 00:00:00"
        ],
        [
         "20",
         "2010-06-25 00:00:00"
        ],
        [
         "21",
         "2010-07-02 00:00:00"
        ],
        [
         "22",
         "2010-07-09 00:00:00"
        ],
        [
         "23",
         "2010-07-16 00:00:00"
        ],
        [
         "24",
         "2010-07-23 00:00:00"
        ],
        [
         "25",
         "2010-07-30 00:00:00"
        ],
        [
         "26",
         "2010-08-06 00:00:00"
        ],
        [
         "27",
         "2010-08-13 00:00:00"
        ],
        [
         "28",
         "2010-08-20 00:00:00"
        ],
        [
         "29",
         "2010-08-27 00:00:00"
        ],
        [
         "30",
         "2010-09-03 00:00:00"
        ],
        [
         "31",
         "2010-09-10 00:00:00"
        ],
        [
         "32",
         "2010-09-17 00:00:00"
        ],
        [
         "33",
         "2010-09-24 00:00:00"
        ],
        [
         "34",
         "2010-10-01 00:00:00"
        ],
        [
         "35",
         "2010-10-08 00:00:00"
        ],
        [
         "36",
         "2010-10-15 00:00:00"
        ],
        [
         "37",
         "2010-10-22 00:00:00"
        ],
        [
         "38",
         "2010-10-29 00:00:00"
        ],
        [
         "39",
         "2010-11-05 00:00:00"
        ],
        [
         "40",
         "2010-11-12 00:00:00"
        ],
        [
         "41",
         "2010-11-19 00:00:00"
        ],
        [
         "42",
         "2010-11-26 00:00:00"
        ],
        [
         "43",
         "2010-12-03 00:00:00"
        ],
        [
         "44",
         "2010-12-10 00:00:00"
        ],
        [
         "45",
         "2010-12-17 00:00:00"
        ],
        [
         "46",
         "2010-12-24 00:00:00"
        ],
        [
         "47",
         "2010-12-31 00:00:00"
        ],
        [
         "48",
         "2011-01-07 00:00:00"
        ],
        [
         "49",
         "2011-01-14 00:00:00"
        ]
       ],
       "shape": {
        "columns": 1,
        "rows": 421570
       }
      },
      "text/html": [
       "<div>\n",
       "<style scoped>\n",
       "    .dataframe tbody tr th:only-of-type {\n",
       "        vertical-align: middle;\n",
       "    }\n",
       "\n",
       "    .dataframe tbody tr th {\n",
       "        vertical-align: top;\n",
       "    }\n",
       "\n",
       "    .dataframe thead th {\n",
       "        text-align: right;\n",
       "    }\n",
       "</style>\n",
       "<table border=\"1\" class=\"dataframe\">\n",
       "  <thead>\n",
       "    <tr style=\"text-align: right;\">\n",
       "      <th></th>\n",
       "      <th>Date</th>\n",
       "    </tr>\n",
       "  </thead>\n",
       "  <tbody>\n",
       "    <tr>\n",
       "      <th>0</th>\n",
       "      <td>2010-02-05</td>\n",
       "    </tr>\n",
       "    <tr>\n",
       "      <th>1</th>\n",
       "      <td>2010-02-12</td>\n",
       "    </tr>\n",
       "    <tr>\n",
       "      <th>2</th>\n",
       "      <td>2010-02-19</td>\n",
       "    </tr>\n",
       "    <tr>\n",
       "      <th>3</th>\n",
       "      <td>2010-02-26</td>\n",
       "    </tr>\n",
       "    <tr>\n",
       "      <th>4</th>\n",
       "      <td>2010-03-05</td>\n",
       "    </tr>\n",
       "    <tr>\n",
       "      <th>...</th>\n",
       "      <td>...</td>\n",
       "    </tr>\n",
       "    <tr>\n",
       "      <th>421565</th>\n",
       "      <td>2012-09-28</td>\n",
       "    </tr>\n",
       "    <tr>\n",
       "      <th>421566</th>\n",
       "      <td>2012-10-05</td>\n",
       "    </tr>\n",
       "    <tr>\n",
       "      <th>421567</th>\n",
       "      <td>2012-10-12</td>\n",
       "    </tr>\n",
       "    <tr>\n",
       "      <th>421568</th>\n",
       "      <td>2012-10-19</td>\n",
       "    </tr>\n",
       "    <tr>\n",
       "      <th>421569</th>\n",
       "      <td>2012-10-26</td>\n",
       "    </tr>\n",
       "  </tbody>\n",
       "</table>\n",
       "<p>421570 rows × 1 columns</p>\n",
       "</div>"
      ],
      "text/plain": [
       "             Date\n",
       "0      2010-02-05\n",
       "1      2010-02-12\n",
       "2      2010-02-19\n",
       "3      2010-02-26\n",
       "4      2010-03-05\n",
       "...           ...\n",
       "421565 2012-09-28\n",
       "421566 2012-10-05\n",
       "421567 2012-10-12\n",
       "421568 2012-10-19\n",
       "421569 2012-10-26\n",
       "\n",
       "[421570 rows x 1 columns]"
      ]
     },
     "execution_count": 31,
     "metadata": {},
     "output_type": "execute_result"
    }
   ],
   "source": [
    "df_tax_return_train = df_walmart_train[[\"Date\"]].copy()\n",
    "df_tax_return_train\n"
   ]
  },
  {
   "cell_type": "code",
   "execution_count": 32,
   "id": "a428b117",
   "metadata": {},
   "outputs": [],
   "source": [
    "\n",
    "ramp_up_days   = 14 \n",
    "ramp_down_days = 42  \n",
    "\n",
    "def filing_deadline(year):\n",
    "    \"\"\"\n",
    "    IRS filing deadline April 15, bumped to Monday if on a weekend.\n",
    "    \"\"\"\n",
    "    d = date(year, 4, 15)\n",
    "    while d.weekday() >= 5:  # \n",
    "        d += timedelta(days=1)\n",
    "    return pd.Timestamp(d)\n",
    "\n",
    "\n",
    "def tax_return_weight(ts, ramp_up=ramp_up_days, ramp_down=ramp_down_days):\n",
    "    \"\"\"\n",
    "    Smooth raised-cosine weight:\n",
    "      • 0 before (deadline - ramp_up)\n",
    "      • ramps up from 0→1 over `ramp_up` days\n",
    "      • ramps down from 1→0 over `ramp_down` days\n",
    "      • 0 after (deadline + ramp_down)\n",
    "    \"\"\"\n",
    "    ts   = pd.Timestamp(ts).normalize()\n",
    "    peak = filing_deadline(ts.year)\n",
    "    start = peak - timedelta(days=ramp_up)\n",
    "    end   = peak + timedelta(days=ramp_down)\n",
    "\n",
    "    if ts < start or ts > end:\n",
    "        return 0.0\n",
    "\n",
    "    if ts <= peak:\n",
    "        # fraction of ramp-up completed [0…1]\n",
    "        x = (ts - start).days / ramp_up\n",
    "        # raised‐cosine from 0→1\n",
    "        return 0.5 * (1 - np.cos(np.pi * x))\n",
    "    else:\n",
    "        # fraction of ramp-down completed [0…1]\n",
    "        x = (ts - peak).days / ramp_down\n",
    "        # raised‐cosine from 1→0\n",
    "        return 0.5 * (1 + np.cos(np.pi * x))\n",
    "\n",
    "\n",
    "df_tax_return_train = df_walmart_train[['Date']].copy()\n",
    "df_tax_return_train['TaxReturnImpact'] = (\n",
    "    df_tax_return_train['Date']\n",
    "      .dt.normalize()\n",
    "      .map(tax_return_weight)\n",
    ")\n",
    "\n",
    "df_tax_return_train.to_csv('csv_files/idea_csv/df_tax_return_train.csv', index=False)\n"
   ]
  },
  {
   "cell_type": "code",
   "execution_count": 33,
   "id": "c3fafe35",
   "metadata": {},
   "outputs": [],
   "source": [
    "df_unique = df_tax_return_train.drop_duplicates(subset='Date', keep='first')"
   ]
  },
  {
   "cell_type": "code",
   "execution_count": 34,
   "id": "8bd07153",
   "metadata": {},
   "outputs": [
    {
     "data": {
      "application/vnd.microsoft.datawrangler.viewer.v0+json": {
       "columns": [
        {
         "name": "index",
         "rawType": "int64",
         "type": "integer"
        },
        {
         "name": "Date",
         "rawType": "datetime64[ns]",
         "type": "datetime"
        },
        {
         "name": "TaxReturnImpact",
         "rawType": "float64",
         "type": "float"
        }
       ],
       "ref": "635732bf-f242-43da-99b6-a3863dd2fa0a",
       "rows": [
        [
         "0",
         "2010-02-05 00:00:00",
         "0.0"
        ],
        [
         "1",
         "2010-02-12 00:00:00",
         "0.0"
        ],
        [
         "2",
         "2010-02-19 00:00:00",
         "0.0"
        ],
        [
         "3",
         "2010-02-26 00:00:00",
         "0.0"
        ],
        [
         "4",
         "2010-03-05 00:00:00",
         "0.0"
        ],
        [
         "5",
         "2010-03-12 00:00:00",
         "0.0"
        ],
        [
         "6",
         "2010-03-19 00:00:00",
         "0.0"
        ],
        [
         "7",
         "2010-03-26 00:00:00",
         "0.0"
        ],
        [
         "8",
         "2010-04-02 00:00:00",
         "0.01253604390908819"
        ],
        [
         "9",
         "2010-04-09 00:00:00",
         "0.6112604669781572"
        ],
        [
         "10",
         "2010-04-16 00:00:00",
         "0.99860189859059"
        ],
        [
         "11",
         "2010-04-23 00:00:00",
         "0.9131193871579975"
        ],
        [
         "12",
         "2010-04-30 00:00:00",
         "0.716941869558779"
        ],
        [
         "13",
         "2010-05-07 00:00:00",
         "0.4626349532067879"
        ],
        [
         "14",
         "2010-05-14 00:00:00",
         "0.21833997096818897"
        ],
        [
         "15",
         "2010-05-21 00:00:00",
         "0.04951556604879048"
        ],
        [
         "16",
         "2010-05-28 00:00:00",
         "0.0"
        ],
        [
         "17",
         "2010-06-04 00:00:00",
         "0.0"
        ],
        [
         "18",
         "2010-06-11 00:00:00",
         "0.0"
        ],
        [
         "19",
         "2010-06-18 00:00:00",
         "0.0"
        ],
        [
         "20",
         "2010-06-25 00:00:00",
         "0.0"
        ],
        [
         "21",
         "2010-07-02 00:00:00",
         "0.0"
        ],
        [
         "22",
         "2010-07-09 00:00:00",
         "0.0"
        ],
        [
         "23",
         "2010-07-16 00:00:00",
         "0.0"
        ],
        [
         "24",
         "2010-07-23 00:00:00",
         "0.0"
        ],
        [
         "25",
         "2010-07-30 00:00:00",
         "0.0"
        ],
        [
         "26",
         "2010-08-06 00:00:00",
         "0.0"
        ],
        [
         "27",
         "2010-08-13 00:00:00",
         "0.0"
        ],
        [
         "28",
         "2010-08-20 00:00:00",
         "0.0"
        ],
        [
         "29",
         "2010-08-27 00:00:00",
         "0.0"
        ],
        [
         "30",
         "2010-09-03 00:00:00",
         "0.0"
        ],
        [
         "31",
         "2010-09-10 00:00:00",
         "0.0"
        ],
        [
         "32",
         "2010-09-17 00:00:00",
         "0.0"
        ],
        [
         "33",
         "2010-09-24 00:00:00",
         "0.0"
        ],
        [
         "34",
         "2010-10-01 00:00:00",
         "0.0"
        ],
        [
         "35",
         "2010-10-08 00:00:00",
         "0.0"
        ],
        [
         "36",
         "2010-10-15 00:00:00",
         "0.0"
        ],
        [
         "37",
         "2010-10-22 00:00:00",
         "0.0"
        ],
        [
         "38",
         "2010-10-29 00:00:00",
         "0.0"
        ],
        [
         "39",
         "2010-11-05 00:00:00",
         "0.0"
        ],
        [
         "40",
         "2010-11-12 00:00:00",
         "0.0"
        ],
        [
         "41",
         "2010-11-19 00:00:00",
         "0.0"
        ],
        [
         "42",
         "2010-11-26 00:00:00",
         "0.0"
        ],
        [
         "43",
         "2010-12-03 00:00:00",
         "0.0"
        ],
        [
         "44",
         "2010-12-10 00:00:00",
         "0.0"
        ],
        [
         "45",
         "2010-12-17 00:00:00",
         "0.0"
        ],
        [
         "46",
         "2010-12-24 00:00:00",
         "0.0"
        ],
        [
         "47",
         "2010-12-31 00:00:00",
         "0.0"
        ],
        [
         "48",
         "2011-01-07 00:00:00",
         "0.0"
        ],
        [
         "49",
         "2011-01-14 00:00:00",
         "0.0"
        ]
       ],
       "shape": {
        "columns": 2,
        "rows": 143
       }
      },
      "text/html": [
       "<div>\n",
       "<style scoped>\n",
       "    .dataframe tbody tr th:only-of-type {\n",
       "        vertical-align: middle;\n",
       "    }\n",
       "\n",
       "    .dataframe tbody tr th {\n",
       "        vertical-align: top;\n",
       "    }\n",
       "\n",
       "    .dataframe thead th {\n",
       "        text-align: right;\n",
       "    }\n",
       "</style>\n",
       "<table border=\"1\" class=\"dataframe\">\n",
       "  <thead>\n",
       "    <tr style=\"text-align: right;\">\n",
       "      <th></th>\n",
       "      <th>Date</th>\n",
       "      <th>TaxReturnImpact</th>\n",
       "    </tr>\n",
       "  </thead>\n",
       "  <tbody>\n",
       "    <tr>\n",
       "      <th>0</th>\n",
       "      <td>2010-02-05</td>\n",
       "      <td>0.0</td>\n",
       "    </tr>\n",
       "    <tr>\n",
       "      <th>1</th>\n",
       "      <td>2010-02-12</td>\n",
       "      <td>0.0</td>\n",
       "    </tr>\n",
       "    <tr>\n",
       "      <th>2</th>\n",
       "      <td>2010-02-19</td>\n",
       "      <td>0.0</td>\n",
       "    </tr>\n",
       "    <tr>\n",
       "      <th>3</th>\n",
       "      <td>2010-02-26</td>\n",
       "      <td>0.0</td>\n",
       "    </tr>\n",
       "    <tr>\n",
       "      <th>4</th>\n",
       "      <td>2010-03-05</td>\n",
       "      <td>0.0</td>\n",
       "    </tr>\n",
       "    <tr>\n",
       "      <th>...</th>\n",
       "      <td>...</td>\n",
       "      <td>...</td>\n",
       "    </tr>\n",
       "    <tr>\n",
       "      <th>138</th>\n",
       "      <td>2012-09-28</td>\n",
       "      <td>0.0</td>\n",
       "    </tr>\n",
       "    <tr>\n",
       "      <th>139</th>\n",
       "      <td>2012-10-05</td>\n",
       "      <td>0.0</td>\n",
       "    </tr>\n",
       "    <tr>\n",
       "      <th>140</th>\n",
       "      <td>2012-10-12</td>\n",
       "      <td>0.0</td>\n",
       "    </tr>\n",
       "    <tr>\n",
       "      <th>141</th>\n",
       "      <td>2012-10-19</td>\n",
       "      <td>0.0</td>\n",
       "    </tr>\n",
       "    <tr>\n",
       "      <th>142</th>\n",
       "      <td>2012-10-26</td>\n",
       "      <td>0.0</td>\n",
       "    </tr>\n",
       "  </tbody>\n",
       "</table>\n",
       "<p>143 rows × 2 columns</p>\n",
       "</div>"
      ],
      "text/plain": [
       "          Date  TaxReturnImpact\n",
       "0   2010-02-05              0.0\n",
       "1   2010-02-12              0.0\n",
       "2   2010-02-19              0.0\n",
       "3   2010-02-26              0.0\n",
       "4   2010-03-05              0.0\n",
       "..         ...              ...\n",
       "138 2012-09-28              0.0\n",
       "139 2012-10-05              0.0\n",
       "140 2012-10-12              0.0\n",
       "141 2012-10-19              0.0\n",
       "142 2012-10-26              0.0\n",
       "\n",
       "[143 rows x 2 columns]"
      ]
     },
     "execution_count": 34,
     "metadata": {},
     "output_type": "execute_result"
    }
   ],
   "source": [
    "df_unique"
   ]
  },
  {
   "cell_type": "code",
   "execution_count": 35,
   "id": "ed7ca340",
   "metadata": {},
   "outputs": [
    {
     "data": {
      "application/vnd.microsoft.datawrangler.viewer.v0+json": {
       "columns": [
        {
         "name": "index",
         "rawType": "int64",
         "type": "integer"
        },
        {
         "name": "Date",
         "rawType": "datetime64[ns]",
         "type": "datetime"
        },
        {
         "name": "TaxReturnImpact",
         "rawType": "float64",
         "type": "float"
        }
       ],
       "ref": "d0d03f10-140b-4bec-b1a6-87678877a85f",
       "rows": [
        [
         "0",
         "2010-02-05 00:00:00",
         "0.0"
        ],
        [
         "1",
         "2010-02-12 00:00:00",
         "0.0"
        ],
        [
         "2",
         "2010-02-19 00:00:00",
         "0.0"
        ],
        [
         "3",
         "2010-02-26 00:00:00",
         "0.0"
        ],
        [
         "4",
         "2010-03-05 00:00:00",
         "0.0"
        ],
        [
         "5",
         "2010-03-12 00:00:00",
         "0.0"
        ],
        [
         "6",
         "2010-03-19 00:00:00",
         "0.0"
        ],
        [
         "7",
         "2010-03-26 00:00:00",
         "0.0"
        ],
        [
         "8",
         "2010-04-02 00:00:00",
         "0.01253604390908819"
        ],
        [
         "9",
         "2010-04-09 00:00:00",
         "0.6112604669781572"
        ],
        [
         "10",
         "2010-04-16 00:00:00",
         "0.99860189859059"
        ],
        [
         "11",
         "2010-04-23 00:00:00",
         "0.9131193871579975"
        ],
        [
         "12",
         "2010-04-30 00:00:00",
         "0.716941869558779"
        ],
        [
         "13",
         "2010-05-07 00:00:00",
         "0.4626349532067879"
        ],
        [
         "14",
         "2010-05-14 00:00:00",
         "0.21833997096818897"
        ],
        [
         "15",
         "2010-05-21 00:00:00",
         "0.04951556604879048"
        ],
        [
         "16",
         "2010-05-28 00:00:00",
         "0.0"
        ],
        [
         "17",
         "2010-06-04 00:00:00",
         "0.0"
        ],
        [
         "18",
         "2010-06-11 00:00:00",
         "0.0"
        ],
        [
         "19",
         "2010-06-18 00:00:00",
         "0.0"
        ],
        [
         "20",
         "2010-06-25 00:00:00",
         "0.0"
        ],
        [
         "21",
         "2010-07-02 00:00:00",
         "0.0"
        ],
        [
         "22",
         "2010-07-09 00:00:00",
         "0.0"
        ],
        [
         "23",
         "2010-07-16 00:00:00",
         "0.0"
        ],
        [
         "24",
         "2010-07-23 00:00:00",
         "0.0"
        ],
        [
         "25",
         "2010-07-30 00:00:00",
         "0.0"
        ],
        [
         "26",
         "2010-08-06 00:00:00",
         "0.0"
        ],
        [
         "27",
         "2010-08-13 00:00:00",
         "0.0"
        ],
        [
         "28",
         "2010-08-20 00:00:00",
         "0.0"
        ],
        [
         "29",
         "2010-08-27 00:00:00",
         "0.0"
        ],
        [
         "30",
         "2010-09-03 00:00:00",
         "0.0"
        ],
        [
         "31",
         "2010-09-10 00:00:00",
         "0.0"
        ],
        [
         "32",
         "2010-09-17 00:00:00",
         "0.0"
        ],
        [
         "33",
         "2010-09-24 00:00:00",
         "0.0"
        ],
        [
         "34",
         "2010-10-01 00:00:00",
         "0.0"
        ],
        [
         "35",
         "2010-10-08 00:00:00",
         "0.0"
        ],
        [
         "36",
         "2010-10-15 00:00:00",
         "0.0"
        ],
        [
         "37",
         "2010-10-22 00:00:00",
         "0.0"
        ],
        [
         "38",
         "2010-10-29 00:00:00",
         "0.0"
        ],
        [
         "39",
         "2010-11-05 00:00:00",
         "0.0"
        ],
        [
         "40",
         "2010-11-12 00:00:00",
         "0.0"
        ],
        [
         "41",
         "2010-11-19 00:00:00",
         "0.0"
        ],
        [
         "42",
         "2010-11-26 00:00:00",
         "0.0"
        ],
        [
         "43",
         "2010-12-03 00:00:00",
         "0.0"
        ],
        [
         "44",
         "2010-12-10 00:00:00",
         "0.0"
        ],
        [
         "45",
         "2010-12-17 00:00:00",
         "0.0"
        ],
        [
         "46",
         "2010-12-24 00:00:00",
         "0.0"
        ],
        [
         "47",
         "2010-12-31 00:00:00",
         "0.0"
        ],
        [
         "48",
         "2011-01-07 00:00:00",
         "0.0"
        ],
        [
         "49",
         "2011-01-14 00:00:00",
         "0.0"
        ]
       ],
       "shape": {
        "columns": 2,
        "rows": 421570
       }
      },
      "text/html": [
       "<div>\n",
       "<style scoped>\n",
       "    .dataframe tbody tr th:only-of-type {\n",
       "        vertical-align: middle;\n",
       "    }\n",
       "\n",
       "    .dataframe tbody tr th {\n",
       "        vertical-align: top;\n",
       "    }\n",
       "\n",
       "    .dataframe thead th {\n",
       "        text-align: right;\n",
       "    }\n",
       "</style>\n",
       "<table border=\"1\" class=\"dataframe\">\n",
       "  <thead>\n",
       "    <tr style=\"text-align: right;\">\n",
       "      <th></th>\n",
       "      <th>Date</th>\n",
       "      <th>TaxReturnImpact</th>\n",
       "    </tr>\n",
       "  </thead>\n",
       "  <tbody>\n",
       "    <tr>\n",
       "      <th>0</th>\n",
       "      <td>2010-02-05</td>\n",
       "      <td>0.0</td>\n",
       "    </tr>\n",
       "    <tr>\n",
       "      <th>1</th>\n",
       "      <td>2010-02-12</td>\n",
       "      <td>0.0</td>\n",
       "    </tr>\n",
       "    <tr>\n",
       "      <th>2</th>\n",
       "      <td>2010-02-19</td>\n",
       "      <td>0.0</td>\n",
       "    </tr>\n",
       "    <tr>\n",
       "      <th>3</th>\n",
       "      <td>2010-02-26</td>\n",
       "      <td>0.0</td>\n",
       "    </tr>\n",
       "    <tr>\n",
       "      <th>4</th>\n",
       "      <td>2010-03-05</td>\n",
       "      <td>0.0</td>\n",
       "    </tr>\n",
       "    <tr>\n",
       "      <th>...</th>\n",
       "      <td>...</td>\n",
       "      <td>...</td>\n",
       "    </tr>\n",
       "    <tr>\n",
       "      <th>421565</th>\n",
       "      <td>2012-09-28</td>\n",
       "      <td>0.0</td>\n",
       "    </tr>\n",
       "    <tr>\n",
       "      <th>421566</th>\n",
       "      <td>2012-10-05</td>\n",
       "      <td>0.0</td>\n",
       "    </tr>\n",
       "    <tr>\n",
       "      <th>421567</th>\n",
       "      <td>2012-10-12</td>\n",
       "      <td>0.0</td>\n",
       "    </tr>\n",
       "    <tr>\n",
       "      <th>421568</th>\n",
       "      <td>2012-10-19</td>\n",
       "      <td>0.0</td>\n",
       "    </tr>\n",
       "    <tr>\n",
       "      <th>421569</th>\n",
       "      <td>2012-10-26</td>\n",
       "      <td>0.0</td>\n",
       "    </tr>\n",
       "  </tbody>\n",
       "</table>\n",
       "<p>421570 rows × 2 columns</p>\n",
       "</div>"
      ],
      "text/plain": [
       "             Date  TaxReturnImpact\n",
       "0      2010-02-05              0.0\n",
       "1      2010-02-12              0.0\n",
       "2      2010-02-19              0.0\n",
       "3      2010-02-26              0.0\n",
       "4      2010-03-05              0.0\n",
       "...           ...              ...\n",
       "421565 2012-09-28              0.0\n",
       "421566 2012-10-05              0.0\n",
       "421567 2012-10-12              0.0\n",
       "421568 2012-10-19              0.0\n",
       "421569 2012-10-26              0.0\n",
       "\n",
       "[421570 rows x 2 columns]"
      ]
     },
     "execution_count": 35,
     "metadata": {},
     "output_type": "execute_result"
    }
   ],
   "source": [
    "df_tax_return_train"
   ]
  },
  {
   "cell_type": "code",
   "execution_count": 36,
   "id": "1dfd1022",
   "metadata": {},
   "outputs": [],
   "source": [
    "df_tax_return_train = pd.read_csv('csv_files/idea_csv/df_tax_return_train.csv')"
   ]
  },
  {
   "cell_type": "markdown",
   "id": "24f4f2ca",
   "metadata": {},
   "source": [
    "Test"
   ]
  },
  {
   "cell_type": "code",
   "execution_count": 37,
   "id": "31cd2010",
   "metadata": {},
   "outputs": [],
   "source": [
    "\n",
    "ramp_up_days   = 14 \n",
    "ramp_down_days = 42  \n",
    "\n",
    "def filing_deadline(year):\n",
    "    \"\"\"\n",
    "    IRS filing deadline April 15, bumped to Monday if on a weekend.\n",
    "    \"\"\"\n",
    "    d = date(year, 4, 15)\n",
    "    while d.weekday() >= 5:\n",
    "        d += timedelta(days=1)\n",
    "    return pd.Timestamp(d)\n",
    "\n",
    "# ─── SMOOTH WEIGHT FUNCTION ───────────────────────────────\n",
    "def tax_return_weight(ts, ramp_up=ramp_up_days, ramp_down=ramp_down_days):\n",
    "    \"\"\"\n",
    "    Smooth raised-cosine weight:\n",
    "      • 0 before (deadline - ramp_up)\n",
    "      • ramps up from 0→1 over `ramp_up` days\n",
    "      • ramps down from 1→0 over `ramp_down` days\n",
    "      • 0 after (deadline + ramp_down)\n",
    "    \"\"\"\n",
    "    ts   = pd.Timestamp(ts).normalize()\n",
    "    peak = filing_deadline(ts.year)\n",
    "    start = peak - timedelta(days=ramp_up)\n",
    "    end   = peak + timedelta(days=ramp_down)\n",
    "\n",
    "    if ts < start or ts > end:\n",
    "        return 0.0\n",
    "\n",
    "    if ts <= peak:\n",
    "        # fraction of ramp-up completed [0…1]\n",
    "        x = (ts - start).days / ramp_up\n",
    "        # raised‐cosine from 0→1\n",
    "        return 0.5 * (1 - np.cos(np.pi * x))\n",
    "    else:\n",
    "        # fraction of ramp-down completed [0…1]\n",
    "        x = (ts - peak).days / ramp_down\n",
    "        # raised‐cosine from 1→0\n",
    "        return 0.5 * (1 + np.cos(np.pi * x))\n",
    "\n",
    "df_tax_return_test = df_walmart_test[['Date']].copy()\n",
    "df_tax_return_test['TaxReturnImpact'] = (\n",
    "    df_tax_return_test['Date']\n",
    "      .dt.normalize()\n",
    "      .map(tax_return_weight)\n",
    ")\n",
    "\n",
    "df_tax_return_test.to_csv('csv_files/idea_csv/df_tax_return_test.csv', index=False)\n"
   ]
  },
  {
   "cell_type": "code",
   "execution_count": 38,
   "id": "de2931b9",
   "metadata": {},
   "outputs": [],
   "source": [
    "df_tax_return_test = pd.read_csv('csv_files/idea_csv/df_tax_return_test.csv')"
   ]
  },
  {
   "cell_type": "code",
   "execution_count": 39,
   "id": "3f955cc3",
   "metadata": {},
   "outputs": [
    {
     "data": {
      "application/vnd.microsoft.datawrangler.viewer.v0+json": {
       "columns": [
        {
         "name": "index",
         "rawType": "int64",
         "type": "integer"
        },
        {
         "name": "Date",
         "rawType": "object",
         "type": "string"
        },
        {
         "name": "TaxReturnImpact",
         "rawType": "float64",
         "type": "float"
        }
       ],
       "ref": "1f78c681-c049-4faa-98f6-25e6837b9696",
       "rows": [
        [
         "0",
         "2012-11-02",
         "0.0"
        ],
        [
         "1",
         "2012-11-09",
         "0.0"
        ],
        [
         "2",
         "2012-11-16",
         "0.0"
        ],
        [
         "3",
         "2012-11-23",
         "0.0"
        ],
        [
         "4",
         "2012-11-30",
         "0.0"
        ],
        [
         "5",
         "2012-12-07",
         "0.0"
        ],
        [
         "6",
         "2012-12-14",
         "0.0"
        ],
        [
         "7",
         "2012-12-21",
         "0.0"
        ],
        [
         "8",
         "2012-12-28",
         "0.0"
        ],
        [
         "9",
         "2013-01-04",
         "0.0"
        ],
        [
         "10",
         "2013-01-11",
         "0.0"
        ],
        [
         "11",
         "2013-01-18",
         "0.0"
        ],
        [
         "12",
         "2013-01-25",
         "0.0"
        ],
        [
         "13",
         "2013-02-01",
         "0.0"
        ],
        [
         "14",
         "2013-02-08",
         "0.0"
        ],
        [
         "15",
         "2013-02-15",
         "0.0"
        ],
        [
         "16",
         "2013-02-22",
         "0.0"
        ],
        [
         "17",
         "2013-03-01",
         "0.0"
        ],
        [
         "18",
         "2013-03-08",
         "0.0"
        ],
        [
         "19",
         "2013-03-15",
         "0.0"
        ],
        [
         "20",
         "2013-03-22",
         "0.0"
        ],
        [
         "21",
         "2013-03-29",
         "0.0"
        ],
        [
         "22",
         "2013-04-05",
         "0.1882550990706332"
        ],
        [
         "23",
         "2013-04-12",
         "0.8909157412340148"
        ],
        [
         "24",
         "2013-04-19",
         "0.9777864028930704"
        ],
        [
         "25",
         "2013-04-26",
         "0.8400863688854596"
        ],
        [
         "26",
         "2013-05-03",
         "0.6112604669781572"
        ],
        [
         "27",
         "2013-05-10",
         "0.3526224127945478"
        ],
        [
         "28",
         "2013-05-17",
         "0.133474064085087"
        ],
        [
         "29",
         "2013-05-24",
         "0.0125360439090881"
        ],
        [
         "30",
         "2013-05-31",
         "0.0"
        ],
        [
         "31",
         "2013-06-07",
         "0.0"
        ],
        [
         "32",
         "2013-06-14",
         "0.0"
        ],
        [
         "33",
         "2013-06-21",
         "0.0"
        ],
        [
         "34",
         "2013-06-28",
         "0.0"
        ],
        [
         "35",
         "2013-07-05",
         "0.0"
        ],
        [
         "36",
         "2013-07-12",
         "0.0"
        ],
        [
         "37",
         "2013-07-19",
         "0.0"
        ],
        [
         "38",
         "2013-07-26",
         "0.0"
        ],
        [
         "39",
         "2012-11-02",
         "0.0"
        ],
        [
         "40",
         "2012-11-09",
         "0.0"
        ],
        [
         "41",
         "2012-11-16",
         "0.0"
        ],
        [
         "42",
         "2012-11-23",
         "0.0"
        ],
        [
         "43",
         "2012-11-30",
         "0.0"
        ],
        [
         "44",
         "2012-12-07",
         "0.0"
        ],
        [
         "45",
         "2012-12-14",
         "0.0"
        ],
        [
         "46",
         "2012-12-21",
         "0.0"
        ],
        [
         "47",
         "2012-12-28",
         "0.0"
        ],
        [
         "48",
         "2013-01-04",
         "0.0"
        ],
        [
         "49",
         "2013-01-11",
         "0.0"
        ]
       ],
       "shape": {
        "columns": 2,
        "rows": 115064
       }
      },
      "text/html": [
       "<div>\n",
       "<style scoped>\n",
       "    .dataframe tbody tr th:only-of-type {\n",
       "        vertical-align: middle;\n",
       "    }\n",
       "\n",
       "    .dataframe tbody tr th {\n",
       "        vertical-align: top;\n",
       "    }\n",
       "\n",
       "    .dataframe thead th {\n",
       "        text-align: right;\n",
       "    }\n",
       "</style>\n",
       "<table border=\"1\" class=\"dataframe\">\n",
       "  <thead>\n",
       "    <tr style=\"text-align: right;\">\n",
       "      <th></th>\n",
       "      <th>Date</th>\n",
       "      <th>TaxReturnImpact</th>\n",
       "    </tr>\n",
       "  </thead>\n",
       "  <tbody>\n",
       "    <tr>\n",
       "      <th>0</th>\n",
       "      <td>2012-11-02</td>\n",
       "      <td>0.0</td>\n",
       "    </tr>\n",
       "    <tr>\n",
       "      <th>1</th>\n",
       "      <td>2012-11-09</td>\n",
       "      <td>0.0</td>\n",
       "    </tr>\n",
       "    <tr>\n",
       "      <th>2</th>\n",
       "      <td>2012-11-16</td>\n",
       "      <td>0.0</td>\n",
       "    </tr>\n",
       "    <tr>\n",
       "      <th>3</th>\n",
       "      <td>2012-11-23</td>\n",
       "      <td>0.0</td>\n",
       "    </tr>\n",
       "    <tr>\n",
       "      <th>4</th>\n",
       "      <td>2012-11-30</td>\n",
       "      <td>0.0</td>\n",
       "    </tr>\n",
       "    <tr>\n",
       "      <th>...</th>\n",
       "      <td>...</td>\n",
       "      <td>...</td>\n",
       "    </tr>\n",
       "    <tr>\n",
       "      <th>115059</th>\n",
       "      <td>2013-06-28</td>\n",
       "      <td>0.0</td>\n",
       "    </tr>\n",
       "    <tr>\n",
       "      <th>115060</th>\n",
       "      <td>2013-07-05</td>\n",
       "      <td>0.0</td>\n",
       "    </tr>\n",
       "    <tr>\n",
       "      <th>115061</th>\n",
       "      <td>2013-07-12</td>\n",
       "      <td>0.0</td>\n",
       "    </tr>\n",
       "    <tr>\n",
       "      <th>115062</th>\n",
       "      <td>2013-07-19</td>\n",
       "      <td>0.0</td>\n",
       "    </tr>\n",
       "    <tr>\n",
       "      <th>115063</th>\n",
       "      <td>2013-07-26</td>\n",
       "      <td>0.0</td>\n",
       "    </tr>\n",
       "  </tbody>\n",
       "</table>\n",
       "<p>115064 rows × 2 columns</p>\n",
       "</div>"
      ],
      "text/plain": [
       "              Date  TaxReturnImpact\n",
       "0       2012-11-02              0.0\n",
       "1       2012-11-09              0.0\n",
       "2       2012-11-16              0.0\n",
       "3       2012-11-23              0.0\n",
       "4       2012-11-30              0.0\n",
       "...            ...              ...\n",
       "115059  2013-06-28              0.0\n",
       "115060  2013-07-05              0.0\n",
       "115061  2013-07-12              0.0\n",
       "115062  2013-07-19              0.0\n",
       "115063  2013-07-26              0.0\n",
       "\n",
       "[115064 rows x 2 columns]"
      ]
     },
     "execution_count": 39,
     "metadata": {},
     "output_type": "execute_result"
    }
   ],
   "source": [
    "df_tax_return_test"
   ]
  },
  {
   "cell_type": "markdown",
   "id": "d51bedab",
   "metadata": {},
   "source": [
    "#### Stores Types & Sizes"
   ]
  },
  {
   "cell_type": "code",
   "execution_count": 40,
   "id": "06cccb9d",
   "metadata": {},
   "outputs": [],
   "source": [
    "df_walmart_train['Store']  = df_walmart_train['Store'].astype(str)\n",
    "df_walmart_stores['Store'] = df_walmart_stores['Store'].astype(str)\n",
    "\n",
    "# Merge the store metadata into your training DataFrame\n",
    "df_store_types_sizes = df_walmart_train.merge(\n",
    "    df_walmart_stores,     \n",
    "    on='Store',             \n",
    "    how='left',       \n",
    "    validate='many_to_one'  \n",
    ")"
   ]
  },
  {
   "cell_type": "code",
   "execution_count": 41,
   "id": "797265fe",
   "metadata": {},
   "outputs": [],
   "source": [
    "df_store_types_sizes = df_store_types_sizes.loc[:, [\"Store\",\"Type\",\"Size\"]]"
   ]
  },
  {
   "cell_type": "code",
   "execution_count": 42,
   "id": "0aba53c8",
   "metadata": {},
   "outputs": [
    {
     "data": {
      "application/vnd.microsoft.datawrangler.viewer.v0+json": {
       "columns": [
        {
         "name": "index",
         "rawType": "int64",
         "type": "integer"
        },
        {
         "name": "Store",
         "rawType": "object",
         "type": "string"
        },
        {
         "name": "Type",
         "rawType": "object",
         "type": "string"
        },
        {
         "name": "Size",
         "rawType": "int64",
         "type": "integer"
        }
       ],
       "ref": "bdcd296b-4f55-4fdb-89ff-70718ec922ec",
       "rows": [
        [
         "0",
         "1",
         "A",
         "151315"
        ],
        [
         "1",
         "1",
         "A",
         "151315"
        ],
        [
         "2",
         "1",
         "A",
         "151315"
        ],
        [
         "3",
         "1",
         "A",
         "151315"
        ],
        [
         "4",
         "1",
         "A",
         "151315"
        ],
        [
         "5",
         "1",
         "A",
         "151315"
        ],
        [
         "6",
         "1",
         "A",
         "151315"
        ],
        [
         "7",
         "1",
         "A",
         "151315"
        ],
        [
         "8",
         "1",
         "A",
         "151315"
        ],
        [
         "9",
         "1",
         "A",
         "151315"
        ],
        [
         "10",
         "1",
         "A",
         "151315"
        ],
        [
         "11",
         "1",
         "A",
         "151315"
        ],
        [
         "12",
         "1",
         "A",
         "151315"
        ],
        [
         "13",
         "1",
         "A",
         "151315"
        ],
        [
         "14",
         "1",
         "A",
         "151315"
        ],
        [
         "15",
         "1",
         "A",
         "151315"
        ],
        [
         "16",
         "1",
         "A",
         "151315"
        ],
        [
         "17",
         "1",
         "A",
         "151315"
        ],
        [
         "18",
         "1",
         "A",
         "151315"
        ],
        [
         "19",
         "1",
         "A",
         "151315"
        ],
        [
         "20",
         "1",
         "A",
         "151315"
        ],
        [
         "21",
         "1",
         "A",
         "151315"
        ],
        [
         "22",
         "1",
         "A",
         "151315"
        ],
        [
         "23",
         "1",
         "A",
         "151315"
        ],
        [
         "24",
         "1",
         "A",
         "151315"
        ],
        [
         "25",
         "1",
         "A",
         "151315"
        ],
        [
         "26",
         "1",
         "A",
         "151315"
        ],
        [
         "27",
         "1",
         "A",
         "151315"
        ],
        [
         "28",
         "1",
         "A",
         "151315"
        ],
        [
         "29",
         "1",
         "A",
         "151315"
        ],
        [
         "30",
         "1",
         "A",
         "151315"
        ],
        [
         "31",
         "1",
         "A",
         "151315"
        ],
        [
         "32",
         "1",
         "A",
         "151315"
        ],
        [
         "33",
         "1",
         "A",
         "151315"
        ],
        [
         "34",
         "1",
         "A",
         "151315"
        ],
        [
         "35",
         "1",
         "A",
         "151315"
        ],
        [
         "36",
         "1",
         "A",
         "151315"
        ],
        [
         "37",
         "1",
         "A",
         "151315"
        ],
        [
         "38",
         "1",
         "A",
         "151315"
        ],
        [
         "39",
         "1",
         "A",
         "151315"
        ],
        [
         "40",
         "1",
         "A",
         "151315"
        ],
        [
         "41",
         "1",
         "A",
         "151315"
        ],
        [
         "42",
         "1",
         "A",
         "151315"
        ],
        [
         "43",
         "1",
         "A",
         "151315"
        ],
        [
         "44",
         "1",
         "A",
         "151315"
        ],
        [
         "45",
         "1",
         "A",
         "151315"
        ],
        [
         "46",
         "1",
         "A",
         "151315"
        ],
        [
         "47",
         "1",
         "A",
         "151315"
        ],
        [
         "48",
         "1",
         "A",
         "151315"
        ],
        [
         "49",
         "1",
         "A",
         "151315"
        ]
       ],
       "shape": {
        "columns": 3,
        "rows": 421570
       }
      },
      "text/html": [
       "<div>\n",
       "<style scoped>\n",
       "    .dataframe tbody tr th:only-of-type {\n",
       "        vertical-align: middle;\n",
       "    }\n",
       "\n",
       "    .dataframe tbody tr th {\n",
       "        vertical-align: top;\n",
       "    }\n",
       "\n",
       "    .dataframe thead th {\n",
       "        text-align: right;\n",
       "    }\n",
       "</style>\n",
       "<table border=\"1\" class=\"dataframe\">\n",
       "  <thead>\n",
       "    <tr style=\"text-align: right;\">\n",
       "      <th></th>\n",
       "      <th>Store</th>\n",
       "      <th>Type</th>\n",
       "      <th>Size</th>\n",
       "    </tr>\n",
       "  </thead>\n",
       "  <tbody>\n",
       "    <tr>\n",
       "      <th>0</th>\n",
       "      <td>1</td>\n",
       "      <td>A</td>\n",
       "      <td>151315</td>\n",
       "    </tr>\n",
       "    <tr>\n",
       "      <th>1</th>\n",
       "      <td>1</td>\n",
       "      <td>A</td>\n",
       "      <td>151315</td>\n",
       "    </tr>\n",
       "    <tr>\n",
       "      <th>2</th>\n",
       "      <td>1</td>\n",
       "      <td>A</td>\n",
       "      <td>151315</td>\n",
       "    </tr>\n",
       "    <tr>\n",
       "      <th>3</th>\n",
       "      <td>1</td>\n",
       "      <td>A</td>\n",
       "      <td>151315</td>\n",
       "    </tr>\n",
       "    <tr>\n",
       "      <th>4</th>\n",
       "      <td>1</td>\n",
       "      <td>A</td>\n",
       "      <td>151315</td>\n",
       "    </tr>\n",
       "    <tr>\n",
       "      <th>...</th>\n",
       "      <td>...</td>\n",
       "      <td>...</td>\n",
       "      <td>...</td>\n",
       "    </tr>\n",
       "    <tr>\n",
       "      <th>421565</th>\n",
       "      <td>45</td>\n",
       "      <td>B</td>\n",
       "      <td>118221</td>\n",
       "    </tr>\n",
       "    <tr>\n",
       "      <th>421566</th>\n",
       "      <td>45</td>\n",
       "      <td>B</td>\n",
       "      <td>118221</td>\n",
       "    </tr>\n",
       "    <tr>\n",
       "      <th>421567</th>\n",
       "      <td>45</td>\n",
       "      <td>B</td>\n",
       "      <td>118221</td>\n",
       "    </tr>\n",
       "    <tr>\n",
       "      <th>421568</th>\n",
       "      <td>45</td>\n",
       "      <td>B</td>\n",
       "      <td>118221</td>\n",
       "    </tr>\n",
       "    <tr>\n",
       "      <th>421569</th>\n",
       "      <td>45</td>\n",
       "      <td>B</td>\n",
       "      <td>118221</td>\n",
       "    </tr>\n",
       "  </tbody>\n",
       "</table>\n",
       "<p>421570 rows × 3 columns</p>\n",
       "</div>"
      ],
      "text/plain": [
       "       Store Type    Size\n",
       "0          1    A  151315\n",
       "1          1    A  151315\n",
       "2          1    A  151315\n",
       "3          1    A  151315\n",
       "4          1    A  151315\n",
       "...      ...  ...     ...\n",
       "421565    45    B  118221\n",
       "421566    45    B  118221\n",
       "421567    45    B  118221\n",
       "421568    45    B  118221\n",
       "421569    45    B  118221\n",
       "\n",
       "[421570 rows x 3 columns]"
      ]
     },
     "execution_count": 42,
     "metadata": {},
     "output_type": "execute_result"
    }
   ],
   "source": [
    "df_store_types_sizes"
   ]
  },
  {
   "cell_type": "markdown",
   "id": "94ef73b4",
   "metadata": {},
   "source": [
    "#### Oil Price The U.S. domestic"
   ]
  },
  {
   "cell_type": "code",
   "execution_count": 43,
   "id": "e79e31d2",
   "metadata": {},
   "outputs": [],
   "source": [
    "%%skip\n",
    "start = \"2010-02-05\"\n",
    "end   = date.today().isoformat()\n",
    " \n",
    "df_us_oil_price = DataReader(\"DCOILWTICO\", \"fred\", start, end)\n",
    "\n",
    "wti_weekly = df_us_oil_price.resample(\"W-FRI\").mean().rename(\n",
    "    columns={\"DCOILWTICO\":\"WTI_Weekly_Mean_Price\"}\n",
    ")\n",
    "df_us_oil_price.to_csv('csv_files/idea_csv/df_us_oil_price.csv')"
   ]
  },
  {
   "cell_type": "code",
   "execution_count": 44,
   "id": "6c47a64b",
   "metadata": {},
   "outputs": [],
   "source": [
    "df_us_oil_price = pd.read_csv('csv_files/idea_csv/df_us_oil_price.csv')"
   ]
  },
  {
   "cell_type": "code",
   "execution_count": 45,
   "id": "27c10036",
   "metadata": {},
   "outputs": [
    {
     "data": {
      "application/vnd.microsoft.datawrangler.viewer.v0+json": {
       "columns": [
        {
         "name": "index",
         "rawType": "int64",
         "type": "integer"
        },
        {
         "name": "DATE",
         "rawType": "object",
         "type": "string"
        },
        {
         "name": "DCOILWTICO",
         "rawType": "float64",
         "type": "float"
        }
       ],
       "ref": "2c67fa2d-24ce-4f6d-a4c8-cd4b5cef1dce",
       "rows": [
        [
         "0",
         "2010-02-05",
         "71.15"
        ],
        [
         "1",
         "2010-02-08",
         "71.87"
        ],
        [
         "2",
         "2010-02-09",
         "73.71"
        ],
        [
         "3",
         "2010-02-10",
         "74.48"
        ],
        [
         "4",
         "2010-02-11",
         "75.23"
        ],
        [
         "5",
         "2010-02-12",
         "74.11"
        ],
        [
         "6",
         "2010-02-15",
         null
        ],
        [
         "7",
         "2010-02-16",
         "76.98"
        ],
        [
         "8",
         "2010-02-17",
         "77.27"
        ],
        [
         "9",
         "2010-02-18",
         "78.97"
        ],
        [
         "10",
         "2010-02-19",
         "79.77"
        ],
        [
         "11",
         "2010-02-22",
         "80.04"
        ],
        [
         "12",
         "2010-02-23",
         "78.61"
        ],
        [
         "13",
         "2010-02-24",
         "79.75"
        ],
        [
         "14",
         "2010-02-25",
         "77.99"
        ],
        [
         "15",
         "2010-02-26",
         "79.72"
        ],
        [
         "16",
         "2010-03-01",
         "78.71"
        ],
        [
         "17",
         "2010-03-02",
         "79.62"
        ],
        [
         "18",
         "2010-03-03",
         "80.91"
        ],
        [
         "19",
         "2010-03-04",
         "80.21"
        ],
        [
         "20",
         "2010-03-05",
         "81.5"
        ],
        [
         "21",
         "2010-03-08",
         "81.85"
        ],
        [
         "22",
         "2010-03-09",
         "81.5"
        ],
        [
         "23",
         "2010-03-10",
         "82.07"
        ],
        [
         "24",
         "2010-03-11",
         "82.1"
        ],
        [
         "25",
         "2010-03-12",
         "81.26"
        ],
        [
         "26",
         "2010-03-15",
         "79.79"
        ],
        [
         "27",
         "2010-03-16",
         "81.75"
        ],
        [
         "28",
         "2010-03-17",
         "82.93"
        ],
        [
         "29",
         "2010-03-18",
         "82.16"
        ],
        [
         "30",
         "2010-03-19",
         "80.58"
        ],
        [
         "31",
         "2010-03-22",
         "81.26"
        ],
        [
         "32",
         "2010-03-23",
         "81.68"
        ],
        [
         "33",
         "2010-03-24",
         "80.29"
        ],
        [
         "34",
         "2010-03-25",
         "80.25"
        ],
        [
         "35",
         "2010-03-26",
         "79.75"
        ],
        [
         "36",
         "2010-03-29",
         "81.92"
        ],
        [
         "37",
         "2010-03-30",
         "82.14"
        ],
        [
         "38",
         "2010-03-31",
         "83.45"
        ],
        [
         "39",
         "2010-04-01",
         "84.53"
        ],
        [
         "40",
         "2010-04-02",
         null
        ],
        [
         "41",
         "2010-04-05",
         "86.36"
        ],
        [
         "42",
         "2010-04-06",
         "86.54"
        ],
        [
         "43",
         "2010-04-07",
         "85.64"
        ],
        [
         "44",
         "2010-04-08",
         "85.17"
        ],
        [
         "45",
         "2010-04-09",
         "84.6"
        ],
        [
         "46",
         "2010-04-12",
         "84.07"
        ],
        [
         "47",
         "2010-04-13",
         "83.8"
        ],
        [
         "48",
         "2010-04-14",
         "85.62"
        ],
        [
         "49",
         "2010-04-15",
         "85.25"
        ]
       ],
       "shape": {
        "columns": 2,
        "rows": 4002
       }
      },
      "text/html": [
       "<div>\n",
       "<style scoped>\n",
       "    .dataframe tbody tr th:only-of-type {\n",
       "        vertical-align: middle;\n",
       "    }\n",
       "\n",
       "    .dataframe tbody tr th {\n",
       "        vertical-align: top;\n",
       "    }\n",
       "\n",
       "    .dataframe thead th {\n",
       "        text-align: right;\n",
       "    }\n",
       "</style>\n",
       "<table border=\"1\" class=\"dataframe\">\n",
       "  <thead>\n",
       "    <tr style=\"text-align: right;\">\n",
       "      <th></th>\n",
       "      <th>DATE</th>\n",
       "      <th>DCOILWTICO</th>\n",
       "    </tr>\n",
       "  </thead>\n",
       "  <tbody>\n",
       "    <tr>\n",
       "      <th>0</th>\n",
       "      <td>2010-02-05</td>\n",
       "      <td>71.15</td>\n",
       "    </tr>\n",
       "    <tr>\n",
       "      <th>1</th>\n",
       "      <td>2010-02-08</td>\n",
       "      <td>71.87</td>\n",
       "    </tr>\n",
       "    <tr>\n",
       "      <th>2</th>\n",
       "      <td>2010-02-09</td>\n",
       "      <td>73.71</td>\n",
       "    </tr>\n",
       "    <tr>\n",
       "      <th>3</th>\n",
       "      <td>2010-02-10</td>\n",
       "      <td>74.48</td>\n",
       "    </tr>\n",
       "    <tr>\n",
       "      <th>4</th>\n",
       "      <td>2010-02-11</td>\n",
       "      <td>75.23</td>\n",
       "    </tr>\n",
       "    <tr>\n",
       "      <th>...</th>\n",
       "      <td>...</td>\n",
       "      <td>...</td>\n",
       "    </tr>\n",
       "    <tr>\n",
       "      <th>3997</th>\n",
       "      <td>2025-06-03</td>\n",
       "      <td>64.10</td>\n",
       "    </tr>\n",
       "    <tr>\n",
       "      <th>3998</th>\n",
       "      <td>2025-06-04</td>\n",
       "      <td>63.57</td>\n",
       "    </tr>\n",
       "    <tr>\n",
       "      <th>3999</th>\n",
       "      <td>2025-06-05</td>\n",
       "      <td>64.06</td>\n",
       "    </tr>\n",
       "    <tr>\n",
       "      <th>4000</th>\n",
       "      <td>2025-06-06</td>\n",
       "      <td>65.30</td>\n",
       "    </tr>\n",
       "    <tr>\n",
       "      <th>4001</th>\n",
       "      <td>2025-06-09</td>\n",
       "      <td>65.99</td>\n",
       "    </tr>\n",
       "  </tbody>\n",
       "</table>\n",
       "<p>4002 rows × 2 columns</p>\n",
       "</div>"
      ],
      "text/plain": [
       "            DATE  DCOILWTICO\n",
       "0     2010-02-05       71.15\n",
       "1     2010-02-08       71.87\n",
       "2     2010-02-09       73.71\n",
       "3     2010-02-10       74.48\n",
       "4     2010-02-11       75.23\n",
       "...          ...         ...\n",
       "3997  2025-06-03       64.10\n",
       "3998  2025-06-04       63.57\n",
       "3999  2025-06-05       64.06\n",
       "4000  2025-06-06       65.30\n",
       "4001  2025-06-09       65.99\n",
       "\n",
       "[4002 rows x 2 columns]"
      ]
     },
     "execution_count": 45,
     "metadata": {},
     "output_type": "execute_result"
    }
   ],
   "source": [
    "df_us_oil_price"
   ]
  },
  {
   "cell_type": "markdown",
   "id": "d78f1794",
   "metadata": {},
   "source": [
    "#### U.S. ISM Manufacturing PMI & ISM Services PMI\n"
   ]
  },
  {
   "cell_type": "code",
   "execution_count": 46,
   "id": "4b0ba176",
   "metadata": {},
   "outputs": [],
   "source": [
    "%%skip\n",
    "# Get columns names\n",
    "df_man = ak.macro_usa_ism_pmi()\n",
    "\n",
    "print(\"Columns in df_man:\", df_man.columns.tolist())\n"
   ]
  },
  {
   "cell_type": "code",
   "execution_count": 47,
   "id": "dcad5ebe",
   "metadata": {},
   "outputs": [],
   "source": [
    "%%skip\n",
    "START, END = \"2009-01-01\", \"2014-12-31\"\n",
    "\n",
    "df_man = ak.macro_usa_ism_pmi()\n",
    "\n",
    "df_man = df_man.rename(columns={\n",
    "    \"日期\": \"Date\",\n",
    "    \"今值\": \"ISM_Manufacturing_PMI\"\n",
    "})\n",
    "df_man[\"Date\"] = pd.to_datetime(df_man[\"Date\"], format=\"%Y-%m\")\n",
    "df_man = (\n",
    "    df_man.set_index(\"Date\")[[\"ISM_Manufacturing_PMI\"]]\n",
    "    .sort_index()\n",
    "    .loc[START:END]\n",
    ")\n",
    "\n",
    "df_svc = ak.macro_usa_ism_non_pmi()\n",
    "\n",
    "df_svc = df_svc.rename(columns={\n",
    "    \"日期\": \"Date\",\n",
    "    \"今值\": \"ISM_Services_PMI\"\n",
    "})\n",
    "df_svc[\"Date\"] = pd.to_datetime(df_svc[\"Date\"], format=\"%Y-%m\")\n",
    "df_svc = (\n",
    "    df_svc.set_index(\"Date\")[[\"ISM_Services_PMI\"]]\n",
    "    .sort_index()\n",
    "    .loc[START:END]\n",
    ")\n",
    "\n",
    "df_us_ism = df_man.join(df_svc, how=\"outer\")\n",
    "\n",
    "df_us_ism.to_csv('csv_files/idea_csv/df_us_ism.csv')\n"
   ]
  },
  {
   "cell_type": "code",
   "execution_count": 48,
   "id": "bdcf123d",
   "metadata": {},
   "outputs": [
    {
     "data": {
      "application/vnd.microsoft.datawrangler.viewer.v0+json": {
       "columns": [
        {
         "name": "index",
         "rawType": "int64",
         "type": "integer"
        },
        {
         "name": "Date",
         "rawType": "object",
         "type": "string"
        },
        {
         "name": "ISM_Manufacturing_PMI",
         "rawType": "float64",
         "type": "float"
        },
        {
         "name": "ISM_Services_PMI",
         "rawType": "float64",
         "type": "float"
        }
       ],
       "ref": "3e5a5abc-24da-4c31-a5c9-50a28f3fc6b0",
       "rows": [
        [
         "0",
         "2009-01-02",
         "32.4",
         null
        ],
        [
         "1",
         "2009-01-06",
         null,
         "40.6"
        ],
        [
         "2",
         "2009-02-02",
         "35.6",
         null
        ],
        [
         "3",
         "2009-02-04",
         null,
         "42.9"
        ],
        [
         "4",
         "2009-03-02",
         "35.8",
         null
        ],
        [
         "5",
         "2009-03-04",
         null,
         "41.6"
        ],
        [
         "6",
         "2009-04-01",
         "36.3",
         null
        ],
        [
         "7",
         "2009-04-03",
         null,
         "40.8"
        ],
        [
         "8",
         "2009-05-01",
         "40.1",
         null
        ],
        [
         "9",
         "2009-05-05",
         null,
         "43.7"
        ],
        [
         "10",
         "2009-06-01",
         "42.8",
         null
        ],
        [
         "11",
         "2009-06-03",
         null,
         "44.0"
        ],
        [
         "12",
         "2009-07-01",
         "44.8",
         null
        ],
        [
         "13",
         "2009-07-06",
         null,
         "47.0"
        ],
        [
         "14",
         "2009-08-03",
         "48.9",
         null
        ],
        [
         "15",
         "2009-08-05",
         null,
         "46.4"
        ],
        [
         "16",
         "2009-09-01",
         "52.9",
         null
        ],
        [
         "17",
         "2009-09-03",
         null,
         "48.4"
        ],
        [
         "18",
         "2009-10-01",
         "52.6",
         null
        ],
        [
         "19",
         "2009-10-05",
         null,
         "50.9"
        ],
        [
         "20",
         "2009-11-02",
         "55.7",
         null
        ],
        [
         "21",
         "2009-11-04",
         null,
         "50.6"
        ],
        [
         "22",
         "2009-12-01",
         "53.6",
         null
        ],
        [
         "23",
         "2009-12-03",
         null,
         "48.7"
        ],
        [
         "24",
         "2010-01-04",
         "55.9",
         null
        ],
        [
         "25",
         "2010-01-06",
         null,
         "50.1"
        ],
        [
         "26",
         "2010-02-01",
         "58.4",
         null
        ],
        [
         "27",
         "2010-02-03",
         null,
         "50.5"
        ],
        [
         "28",
         "2010-03-01",
         "56.5",
         null
        ],
        [
         "29",
         "2010-03-03",
         null,
         "53.0"
        ],
        [
         "30",
         "2010-04-01",
         "59.6",
         null
        ],
        [
         "31",
         "2010-04-05",
         null,
         "55.4"
        ],
        [
         "32",
         "2010-05-03",
         "60.4",
         null
        ],
        [
         "33",
         "2010-05-05",
         null,
         "55.4"
        ],
        [
         "34",
         "2010-06-01",
         "59.7",
         null
        ],
        [
         "35",
         "2010-06-03",
         null,
         "55.4"
        ],
        [
         "36",
         "2010-07-01",
         "56.2",
         null
        ],
        [
         "37",
         "2010-07-06",
         null,
         "53.8"
        ],
        [
         "38",
         "2010-08-02",
         "55.5",
         null
        ],
        [
         "39",
         "2010-08-04",
         null,
         "54.3"
        ],
        [
         "40",
         "2010-09-01",
         "56.3",
         null
        ],
        [
         "41",
         "2010-09-03",
         null,
         "51.5"
        ],
        [
         "42",
         "2010-10-01",
         "54.4",
         null
        ],
        [
         "43",
         "2010-10-05",
         null,
         "53.2"
        ],
        [
         "44",
         "2010-11-01",
         "56.9",
         null
        ],
        [
         "45",
         "2010-11-03",
         null,
         "54.3"
        ],
        [
         "46",
         "2010-12-01",
         "56.6",
         null
        ],
        [
         "47",
         "2010-12-03",
         null,
         "55.0"
        ],
        [
         "48",
         "2011-01-03",
         "57.0",
         null
        ],
        [
         "49",
         "2011-01-05",
         null,
         "57.1"
        ]
       ],
       "shape": {
        "columns": 3,
        "rows": 144
       }
      },
      "text/html": [
       "<div>\n",
       "<style scoped>\n",
       "    .dataframe tbody tr th:only-of-type {\n",
       "        vertical-align: middle;\n",
       "    }\n",
       "\n",
       "    .dataframe tbody tr th {\n",
       "        vertical-align: top;\n",
       "    }\n",
       "\n",
       "    .dataframe thead th {\n",
       "        text-align: right;\n",
       "    }\n",
       "</style>\n",
       "<table border=\"1\" class=\"dataframe\">\n",
       "  <thead>\n",
       "    <tr style=\"text-align: right;\">\n",
       "      <th></th>\n",
       "      <th>Date</th>\n",
       "      <th>ISM_Manufacturing_PMI</th>\n",
       "      <th>ISM_Services_PMI</th>\n",
       "    </tr>\n",
       "  </thead>\n",
       "  <tbody>\n",
       "    <tr>\n",
       "      <th>0</th>\n",
       "      <td>2009-01-02</td>\n",
       "      <td>32.4</td>\n",
       "      <td>NaN</td>\n",
       "    </tr>\n",
       "    <tr>\n",
       "      <th>1</th>\n",
       "      <td>2009-01-06</td>\n",
       "      <td>NaN</td>\n",
       "      <td>40.6</td>\n",
       "    </tr>\n",
       "    <tr>\n",
       "      <th>2</th>\n",
       "      <td>2009-02-02</td>\n",
       "      <td>35.6</td>\n",
       "      <td>NaN</td>\n",
       "    </tr>\n",
       "    <tr>\n",
       "      <th>3</th>\n",
       "      <td>2009-02-04</td>\n",
       "      <td>NaN</td>\n",
       "      <td>42.9</td>\n",
       "    </tr>\n",
       "    <tr>\n",
       "      <th>4</th>\n",
       "      <td>2009-03-02</td>\n",
       "      <td>35.8</td>\n",
       "      <td>NaN</td>\n",
       "    </tr>\n",
       "    <tr>\n",
       "      <th>...</th>\n",
       "      <td>...</td>\n",
       "      <td>...</td>\n",
       "      <td>...</td>\n",
       "    </tr>\n",
       "    <tr>\n",
       "      <th>139</th>\n",
       "      <td>2014-10-03</td>\n",
       "      <td>NaN</td>\n",
       "      <td>58.6</td>\n",
       "    </tr>\n",
       "    <tr>\n",
       "      <th>140</th>\n",
       "      <td>2014-11-03</td>\n",
       "      <td>59.0</td>\n",
       "      <td>NaN</td>\n",
       "    </tr>\n",
       "    <tr>\n",
       "      <th>141</th>\n",
       "      <td>2014-11-05</td>\n",
       "      <td>NaN</td>\n",
       "      <td>57.1</td>\n",
       "    </tr>\n",
       "    <tr>\n",
       "      <th>142</th>\n",
       "      <td>2014-12-01</td>\n",
       "      <td>58.7</td>\n",
       "      <td>NaN</td>\n",
       "    </tr>\n",
       "    <tr>\n",
       "      <th>143</th>\n",
       "      <td>2014-12-03</td>\n",
       "      <td>NaN</td>\n",
       "      <td>59.3</td>\n",
       "    </tr>\n",
       "  </tbody>\n",
       "</table>\n",
       "<p>144 rows × 3 columns</p>\n",
       "</div>"
      ],
      "text/plain": [
       "           Date  ISM_Manufacturing_PMI  ISM_Services_PMI\n",
       "0    2009-01-02                   32.4               NaN\n",
       "1    2009-01-06                    NaN              40.6\n",
       "2    2009-02-02                   35.6               NaN\n",
       "3    2009-02-04                    NaN              42.9\n",
       "4    2009-03-02                   35.8               NaN\n",
       "..          ...                    ...               ...\n",
       "139  2014-10-03                    NaN              58.6\n",
       "140  2014-11-03                   59.0               NaN\n",
       "141  2014-11-05                    NaN              57.1\n",
       "142  2014-12-01                   58.7               NaN\n",
       "143  2014-12-03                    NaN              59.3\n",
       "\n",
       "[144 rows x 3 columns]"
      ]
     },
     "execution_count": 48,
     "metadata": {},
     "output_type": "execute_result"
    }
   ],
   "source": [
    "df_us_ism = pd.read_csv('csv_files/idea_csv/df_us_ism.csv')\n",
    "df_us_ism"
   ]
  },
  {
   "cell_type": "markdown",
   "id": "21e29c85",
   "metadata": {},
   "source": [
    "#### US CPI Food & Beverages\n"
   ]
  },
  {
   "cell_type": "code",
   "execution_count": 49,
   "id": "d43223c8",
   "metadata": {},
   "outputs": [],
   "source": [
    "%%skip\n",
    "START, END = \"2009-01-01\", \"2014-12-31\"\n",
    "\n",
    "df_us_cpi_food = DataReader(\"CPIFABSL\", \"fred\", START, END)\n",
    "\n",
    "df_us_cpi_food.rename(columns={\"CPIFABSL\": \"CPI_Food_Beverages\"}, inplace=True)\n",
    "\n",
    "df_us_cpi_food = (\n",
    "    df_us_cpi_food[\"CPI_Food_Beverages\"]\n",
    "    .resample(\"W-FRI\")\n",
    "    .ffill()\n",
    "    .to_frame()\n",
    ")\n",
    "df_us_cpi_food.to_csv('csv_files/idea_csv/df_us_cpi_food.csv')"
   ]
  },
  {
   "cell_type": "code",
   "execution_count": 50,
   "id": "574fba58",
   "metadata": {},
   "outputs": [
    {
     "data": {
      "application/vnd.microsoft.datawrangler.viewer.v0+json": {
       "columns": [
        {
         "name": "index",
         "rawType": "int64",
         "type": "integer"
        },
        {
         "name": "DATE",
         "rawType": "object",
         "type": "string"
        },
        {
         "name": "CPI_Food_Beverages",
         "rawType": "float64",
         "type": "float"
        }
       ],
       "ref": "dc2481d5-4422-4822-bd75-4d0bcfbdae12",
       "rows": [
        [
         "0",
         "2009-01-02",
         "219.323"
        ],
        [
         "1",
         "2009-01-09",
         "219.323"
        ],
        [
         "2",
         "2009-01-16",
         "219.323"
        ],
        [
         "3",
         "2009-01-23",
         "219.323"
        ],
        [
         "4",
         "2009-01-30",
         "219.323"
        ],
        [
         "5",
         "2009-02-06",
         "219.058"
        ],
        [
         "6",
         "2009-02-13",
         "219.058"
        ],
        [
         "7",
         "2009-02-20",
         "219.058"
        ],
        [
         "8",
         "2009-02-27",
         "219.058"
        ],
        [
         "9",
         "2009-03-06",
         "218.682"
        ],
        [
         "10",
         "2009-03-13",
         "218.682"
        ],
        [
         "11",
         "2009-03-20",
         "218.682"
        ],
        [
         "12",
         "2009-03-27",
         "218.682"
        ],
        [
         "13",
         "2009-04-03",
         "218.372"
        ],
        [
         "14",
         "2009-04-10",
         "218.372"
        ],
        [
         "15",
         "2009-04-17",
         "218.372"
        ],
        [
         "16",
         "2009-04-24",
         "218.372"
        ],
        [
         "17",
         "2009-05-01",
         "218.053"
        ],
        [
         "18",
         "2009-05-08",
         "218.053"
        ],
        [
         "19",
         "2009-05-15",
         "218.053"
        ],
        [
         "20",
         "2009-05-22",
         "218.053"
        ],
        [
         "21",
         "2009-05-29",
         "218.053"
        ],
        [
         "22",
         "2009-06-05",
         "218.092"
        ],
        [
         "23",
         "2009-06-12",
         "218.092"
        ],
        [
         "24",
         "2009-06-19",
         "218.092"
        ],
        [
         "25",
         "2009-06-26",
         "218.092"
        ],
        [
         "26",
         "2009-07-03",
         "217.725"
        ],
        [
         "27",
         "2009-07-10",
         "217.725"
        ],
        [
         "28",
         "2009-07-17",
         "217.725"
        ],
        [
         "29",
         "2009-07-24",
         "217.725"
        ],
        [
         "30",
         "2009-07-31",
         "217.725"
        ],
        [
         "31",
         "2009-08-07",
         "217.738"
        ],
        [
         "32",
         "2009-08-14",
         "217.738"
        ],
        [
         "33",
         "2009-08-21",
         "217.738"
        ],
        [
         "34",
         "2009-08-28",
         "217.738"
        ],
        [
         "35",
         "2009-09-04",
         "217.664"
        ],
        [
         "36",
         "2009-09-11",
         "217.664"
        ],
        [
         "37",
         "2009-09-18",
         "217.664"
        ],
        [
         "38",
         "2009-09-25",
         "217.664"
        ],
        [
         "39",
         "2009-10-02",
         "217.881"
        ],
        [
         "40",
         "2009-10-09",
         "217.881"
        ],
        [
         "41",
         "2009-10-16",
         "217.881"
        ],
        [
         "42",
         "2009-10-23",
         "217.881"
        ],
        [
         "43",
         "2009-10-30",
         "217.881"
        ],
        [
         "44",
         "2009-11-06",
         "218.055"
        ],
        [
         "45",
         "2009-11-13",
         "218.055"
        ],
        [
         "46",
         "2009-11-20",
         "218.055"
        ],
        [
         "47",
         "2009-11-27",
         "218.055"
        ],
        [
         "48",
         "2009-12-04",
         "218.341"
        ],
        [
         "49",
         "2009-12-11",
         "218.341"
        ]
       ],
       "shape": {
        "columns": 2,
        "rows": 310
       }
      },
      "text/html": [
       "<div>\n",
       "<style scoped>\n",
       "    .dataframe tbody tr th:only-of-type {\n",
       "        vertical-align: middle;\n",
       "    }\n",
       "\n",
       "    .dataframe tbody tr th {\n",
       "        vertical-align: top;\n",
       "    }\n",
       "\n",
       "    .dataframe thead th {\n",
       "        text-align: right;\n",
       "    }\n",
       "</style>\n",
       "<table border=\"1\" class=\"dataframe\">\n",
       "  <thead>\n",
       "    <tr style=\"text-align: right;\">\n",
       "      <th></th>\n",
       "      <th>DATE</th>\n",
       "      <th>CPI_Food_Beverages</th>\n",
       "    </tr>\n",
       "  </thead>\n",
       "  <tbody>\n",
       "    <tr>\n",
       "      <th>0</th>\n",
       "      <td>2009-01-02</td>\n",
       "      <td>219.323</td>\n",
       "    </tr>\n",
       "    <tr>\n",
       "      <th>1</th>\n",
       "      <td>2009-01-09</td>\n",
       "      <td>219.323</td>\n",
       "    </tr>\n",
       "    <tr>\n",
       "      <th>2</th>\n",
       "      <td>2009-01-16</td>\n",
       "      <td>219.323</td>\n",
       "    </tr>\n",
       "    <tr>\n",
       "      <th>3</th>\n",
       "      <td>2009-01-23</td>\n",
       "      <td>219.323</td>\n",
       "    </tr>\n",
       "    <tr>\n",
       "      <th>4</th>\n",
       "      <td>2009-01-30</td>\n",
       "      <td>219.323</td>\n",
       "    </tr>\n",
       "    <tr>\n",
       "      <th>...</th>\n",
       "      <td>...</td>\n",
       "      <td>...</td>\n",
       "    </tr>\n",
       "    <tr>\n",
       "      <th>305</th>\n",
       "      <td>2014-11-07</td>\n",
       "      <td>245.106</td>\n",
       "    </tr>\n",
       "    <tr>\n",
       "      <th>306</th>\n",
       "      <td>2014-11-14</td>\n",
       "      <td>245.106</td>\n",
       "    </tr>\n",
       "    <tr>\n",
       "      <th>307</th>\n",
       "      <td>2014-11-21</td>\n",
       "      <td>245.106</td>\n",
       "    </tr>\n",
       "    <tr>\n",
       "      <th>308</th>\n",
       "      <td>2014-11-28</td>\n",
       "      <td>245.106</td>\n",
       "    </tr>\n",
       "    <tr>\n",
       "      <th>309</th>\n",
       "      <td>2014-12-05</td>\n",
       "      <td>245.840</td>\n",
       "    </tr>\n",
       "  </tbody>\n",
       "</table>\n",
       "<p>310 rows × 2 columns</p>\n",
       "</div>"
      ],
      "text/plain": [
       "           DATE  CPI_Food_Beverages\n",
       "0    2009-01-02             219.323\n",
       "1    2009-01-09             219.323\n",
       "2    2009-01-16             219.323\n",
       "3    2009-01-23             219.323\n",
       "4    2009-01-30             219.323\n",
       "..          ...                 ...\n",
       "305  2014-11-07             245.106\n",
       "306  2014-11-14             245.106\n",
       "307  2014-11-21             245.106\n",
       "308  2014-11-28             245.106\n",
       "309  2014-12-05             245.840\n",
       "\n",
       "[310 rows x 2 columns]"
      ]
     },
     "execution_count": 50,
     "metadata": {},
     "output_type": "execute_result"
    }
   ],
   "source": [
    "df_us_cpi_food = pd.read_csv('csv_files/idea_csv/df_us_cpi_food.csv')\n",
    "df_us_cpi_food"
   ]
  },
  {
   "cell_type": "markdown",
   "id": "6a76d45a",
   "metadata": {},
   "source": [
    "#### US CPI Shelter (Housing)"
   ]
  },
  {
   "cell_type": "code",
   "execution_count": 51,
   "id": "2b7d7eb2",
   "metadata": {},
   "outputs": [],
   "source": [
    "%%skip\n",
    "START, END = \"2009-01-01\", \"2014-12-31\"\n",
    "\n",
    "df_us_cpi_shelter = DataReader(\"CUSR0000SAH1\", \"fred\", START, END)\n",
    "\n",
    "df_us_cpi_shelter.rename(columns={\"CUSR0000SAH1\": \"CPI_Shelter\"}, inplace=True)\n",
    "\n",
    "df_us_cpi_shelter = (\n",
    "    df_us_cpi_shelter[\"CPI_Shelter\"]\n",
    "      .resample(\"W-FRI\")\n",
    "      .ffill()            \n",
    "      .to_frame()       \n",
    ")\n",
    "\n",
    "df_us_cpi_shelter.to_csv('csv_files/idea_csv/df_us_cpi_shelter.csv')"
   ]
  },
  {
   "cell_type": "code",
   "execution_count": 52,
   "id": "ae792c64",
   "metadata": {},
   "outputs": [
    {
     "data": {
      "application/vnd.microsoft.datawrangler.viewer.v0+json": {
       "columns": [
        {
         "name": "index",
         "rawType": "int64",
         "type": "integer"
        },
        {
         "name": "DATE",
         "rawType": "object",
         "type": "string"
        },
        {
         "name": "CPI_Shelter",
         "rawType": "float64",
         "type": "float"
        }
       ],
       "ref": "16f7d160-331b-411b-9b81-fabc32372e68",
       "rows": [
        [
         "0",
         "2009-01-02",
         "248.963"
        ],
        [
         "1",
         "2009-01-09",
         "248.963"
        ],
        [
         "2",
         "2009-01-16",
         "248.963"
        ],
        [
         "3",
         "2009-01-23",
         "248.963"
        ],
        [
         "4",
         "2009-01-30",
         "248.963"
        ],
        [
         "5",
         "2009-02-06",
         "249.087"
        ],
        [
         "6",
         "2009-02-13",
         "249.087"
        ],
        [
         "7",
         "2009-02-20",
         "249.087"
        ],
        [
         "8",
         "2009-02-27",
         "249.087"
        ],
        [
         "9",
         "2009-03-06",
         "249.36"
        ],
        [
         "10",
         "2009-03-13",
         "249.36"
        ],
        [
         "11",
         "2009-03-20",
         "249.36"
        ],
        [
         "12",
         "2009-03-27",
         "249.36"
        ],
        [
         "13",
         "2009-04-03",
         "249.579"
        ],
        [
         "14",
         "2009-04-10",
         "249.579"
        ],
        [
         "15",
         "2009-04-17",
         "249.579"
        ],
        [
         "16",
         "2009-04-24",
         "249.579"
        ],
        [
         "17",
         "2009-05-01",
         "249.643"
        ],
        [
         "18",
         "2009-05-08",
         "249.643"
        ],
        [
         "19",
         "2009-05-15",
         "249.643"
        ],
        [
         "20",
         "2009-05-22",
         "249.643"
        ],
        [
         "21",
         "2009-05-29",
         "249.643"
        ],
        [
         "22",
         "2009-06-05",
         "249.492"
        ],
        [
         "23",
         "2009-06-12",
         "249.492"
        ],
        [
         "24",
         "2009-06-19",
         "249.492"
        ],
        [
         "25",
         "2009-06-26",
         "249.492"
        ],
        [
         "26",
         "2009-07-03",
         "249.149"
        ],
        [
         "27",
         "2009-07-10",
         "249.149"
        ],
        [
         "28",
         "2009-07-17",
         "249.149"
        ],
        [
         "29",
         "2009-07-24",
         "249.149"
        ],
        [
         "30",
         "2009-07-31",
         "249.149"
        ],
        [
         "31",
         "2009-08-07",
         "249.519"
        ],
        [
         "32",
         "2009-08-14",
         "249.519"
        ],
        [
         "33",
         "2009-08-21",
         "249.519"
        ],
        [
         "34",
         "2009-08-28",
         "249.519"
        ],
        [
         "35",
         "2009-09-04",
         "249.415"
        ],
        [
         "36",
         "2009-09-11",
         "249.415"
        ],
        [
         "37",
         "2009-09-18",
         "249.415"
        ],
        [
         "38",
         "2009-09-25",
         "249.415"
        ],
        [
         "39",
         "2009-10-02",
         "249.643"
        ],
        [
         "40",
         "2009-10-09",
         "249.643"
        ],
        [
         "41",
         "2009-10-16",
         "249.643"
        ],
        [
         "42",
         "2009-10-23",
         "249.643"
        ],
        [
         "43",
         "2009-10-30",
         "249.643"
        ],
        [
         "44",
         "2009-11-06",
         "249.211"
        ],
        [
         "45",
         "2009-11-13",
         "249.211"
        ],
        [
         "46",
         "2009-11-20",
         "249.211"
        ],
        [
         "47",
         "2009-11-27",
         "249.211"
        ],
        [
         "48",
         "2009-12-04",
         "249.219"
        ],
        [
         "49",
         "2009-12-11",
         "249.219"
        ]
       ],
       "shape": {
        "columns": 2,
        "rows": 310
       }
      },
      "text/html": [
       "<div>\n",
       "<style scoped>\n",
       "    .dataframe tbody tr th:only-of-type {\n",
       "        vertical-align: middle;\n",
       "    }\n",
       "\n",
       "    .dataframe tbody tr th {\n",
       "        vertical-align: top;\n",
       "    }\n",
       "\n",
       "    .dataframe thead th {\n",
       "        text-align: right;\n",
       "    }\n",
       "</style>\n",
       "<table border=\"1\" class=\"dataframe\">\n",
       "  <thead>\n",
       "    <tr style=\"text-align: right;\">\n",
       "      <th></th>\n",
       "      <th>DATE</th>\n",
       "      <th>CPI_Shelter</th>\n",
       "    </tr>\n",
       "  </thead>\n",
       "  <tbody>\n",
       "    <tr>\n",
       "      <th>0</th>\n",
       "      <td>2009-01-02</td>\n",
       "      <td>248.963</td>\n",
       "    </tr>\n",
       "    <tr>\n",
       "      <th>1</th>\n",
       "      <td>2009-01-09</td>\n",
       "      <td>248.963</td>\n",
       "    </tr>\n",
       "    <tr>\n",
       "      <th>2</th>\n",
       "      <td>2009-01-16</td>\n",
       "      <td>248.963</td>\n",
       "    </tr>\n",
       "    <tr>\n",
       "      <th>3</th>\n",
       "      <td>2009-01-23</td>\n",
       "      <td>248.963</td>\n",
       "    </tr>\n",
       "    <tr>\n",
       "      <th>4</th>\n",
       "      <td>2009-01-30</td>\n",
       "      <td>248.963</td>\n",
       "    </tr>\n",
       "    <tr>\n",
       "      <th>...</th>\n",
       "      <td>...</td>\n",
       "      <td>...</td>\n",
       "    </tr>\n",
       "    <tr>\n",
       "      <th>305</th>\n",
       "      <td>2014-11-07</td>\n",
       "      <td>273.436</td>\n",
       "    </tr>\n",
       "    <tr>\n",
       "      <th>306</th>\n",
       "      <td>2014-11-14</td>\n",
       "      <td>273.436</td>\n",
       "    </tr>\n",
       "    <tr>\n",
       "      <th>307</th>\n",
       "      <td>2014-11-21</td>\n",
       "      <td>273.436</td>\n",
       "    </tr>\n",
       "    <tr>\n",
       "      <th>308</th>\n",
       "      <td>2014-11-28</td>\n",
       "      <td>273.436</td>\n",
       "    </tr>\n",
       "    <tr>\n",
       "      <th>309</th>\n",
       "      <td>2014-12-05</td>\n",
       "      <td>273.997</td>\n",
       "    </tr>\n",
       "  </tbody>\n",
       "</table>\n",
       "<p>310 rows × 2 columns</p>\n",
       "</div>"
      ],
      "text/plain": [
       "           DATE  CPI_Shelter\n",
       "0    2009-01-02      248.963\n",
       "1    2009-01-09      248.963\n",
       "2    2009-01-16      248.963\n",
       "3    2009-01-23      248.963\n",
       "4    2009-01-30      248.963\n",
       "..          ...          ...\n",
       "305  2014-11-07      273.436\n",
       "306  2014-11-14      273.436\n",
       "307  2014-11-21      273.436\n",
       "308  2014-11-28      273.436\n",
       "309  2014-12-05      273.997\n",
       "\n",
       "[310 rows x 2 columns]"
      ]
     },
     "execution_count": 52,
     "metadata": {},
     "output_type": "execute_result"
    }
   ],
   "source": [
    "df_us_cpi_shelter = pd.read_csv('csv_files/idea_csv/df_us_cpi_shelter.csv')\n",
    "df_us_cpi_shelter"
   ]
  },
  {
   "cell_type": "markdown",
   "id": "b84e0424",
   "metadata": {},
   "source": [
    "#### US CPI Medical Care\n"
   ]
  },
  {
   "cell_type": "code",
   "execution_count": 53,
   "id": "83ddcd95",
   "metadata": {},
   "outputs": [],
   "source": [
    "%%skip\n",
    "START, END = \"2009-01-01\", \"2014-12-31\"\n",
    "\n",
    "df_us_cpi_med = DataReader(\"CPIMEDSL\", \"fred\", START, END)\n",
    "\n",
    "df_us_cpi_med.rename(columns={\"CPIMEDSL\": \"CPI_Medical_Care\"}, inplace=True)\n",
    "\n",
    "df_us_cpi_med = (\n",
    "    df_us_cpi_med[\"CPI_Medical_Care\"]\n",
    "      .resample(\"W-FRI\")   # calendar‐weeks ending Fridays\n",
    "      .ffill()             # carry each month’s CPI forward until the next release\n",
    "      .to_frame()\n",
    ")\n",
    "\n",
    "df_us_cpi_med.to_csv('csv_files/idea_csv/df_us_cpi_med.csv')"
   ]
  },
  {
   "cell_type": "code",
   "execution_count": 54,
   "id": "a8a5cbec",
   "metadata": {},
   "outputs": [
    {
     "data": {
      "application/vnd.microsoft.datawrangler.viewer.v0+json": {
       "columns": [
        {
         "name": "index",
         "rawType": "int64",
         "type": "integer"
        },
        {
         "name": "DATE",
         "rawType": "object",
         "type": "string"
        },
        {
         "name": "CPI_Medical_Care",
         "rawType": "float64",
         "type": "float"
        }
       ],
       "ref": "77b3a19d-0328-4a1e-b03d-b77aaf3f0030",
       "rows": [
        [
         "0",
         "2009-01-02",
         "369.824"
        ],
        [
         "1",
         "2009-01-09",
         "369.824"
        ],
        [
         "2",
         "2009-01-16",
         "369.824"
        ],
        [
         "3",
         "2009-01-23",
         "369.824"
        ],
        [
         "4",
         "2009-01-30",
         "369.824"
        ],
        [
         "5",
         "2009-02-06",
         "370.853"
        ],
        [
         "6",
         "2009-02-13",
         "370.853"
        ],
        [
         "7",
         "2009-02-20",
         "370.853"
        ],
        [
         "8",
         "2009-02-27",
         "370.853"
        ],
        [
         "9",
         "2009-03-06",
         "371.705"
        ],
        [
         "10",
         "2009-03-13",
         "371.705"
        ],
        [
         "11",
         "2009-03-20",
         "371.705"
        ],
        [
         "12",
         "2009-03-27",
         "371.705"
        ],
        [
         "13",
         "2009-04-03",
         "373.077"
        ],
        [
         "14",
         "2009-04-10",
         "373.077"
        ],
        [
         "15",
         "2009-04-17",
         "373.077"
        ],
        [
         "16",
         "2009-04-24",
         "373.077"
        ],
        [
         "17",
         "2009-05-01",
         "374.359"
        ],
        [
         "18",
         "2009-05-08",
         "374.359"
        ],
        [
         "19",
         "2009-05-15",
         "374.359"
        ],
        [
         "20",
         "2009-05-22",
         "374.359"
        ],
        [
         "21",
         "2009-05-29",
         "374.359"
        ],
        [
         "22",
         "2009-06-05",
         "375.177"
        ],
        [
         "23",
         "2009-06-12",
         "375.177"
        ],
        [
         "24",
         "2009-06-19",
         "375.177"
        ],
        [
         "25",
         "2009-06-26",
         "375.177"
        ],
        [
         "26",
         "2009-07-03",
         "376.001"
        ],
        [
         "27",
         "2009-07-10",
         "376.001"
        ],
        [
         "28",
         "2009-07-17",
         "376.001"
        ],
        [
         "29",
         "2009-07-24",
         "376.001"
        ],
        [
         "30",
         "2009-07-31",
         "376.001"
        ],
        [
         "31",
         "2009-08-07",
         "377.091"
        ],
        [
         "32",
         "2009-08-14",
         "377.091"
        ],
        [
         "33",
         "2009-08-21",
         "377.091"
        ],
        [
         "34",
         "2009-08-28",
         "377.091"
        ],
        [
         "35",
         "2009-09-04",
         "378.359"
        ],
        [
         "36",
         "2009-09-11",
         "378.359"
        ],
        [
         "37",
         "2009-09-18",
         "378.359"
        ],
        [
         "38",
         "2009-09-25",
         "378.359"
        ],
        [
         "39",
         "2009-10-02",
         "379.291"
        ],
        [
         "40",
         "2009-10-09",
         "379.291"
        ],
        [
         "41",
         "2009-10-16",
         "379.291"
        ],
        [
         "42",
         "2009-10-23",
         "379.291"
        ],
        [
         "43",
         "2009-10-30",
         "379.291"
        ],
        [
         "44",
         "2009-11-06",
         "380.45"
        ],
        [
         "45",
         "2009-11-13",
         "380.45"
        ],
        [
         "46",
         "2009-11-20",
         "380.45"
        ],
        [
         "47",
         "2009-11-27",
         "380.45"
        ],
        [
         "48",
         "2009-12-04",
         "381.111"
        ],
        [
         "49",
         "2009-12-11",
         "381.111"
        ]
       ],
       "shape": {
        "columns": 2,
        "rows": 310
       }
      },
      "text/html": [
       "<div>\n",
       "<style scoped>\n",
       "    .dataframe tbody tr th:only-of-type {\n",
       "        vertical-align: middle;\n",
       "    }\n",
       "\n",
       "    .dataframe tbody tr th {\n",
       "        vertical-align: top;\n",
       "    }\n",
       "\n",
       "    .dataframe thead th {\n",
       "        text-align: right;\n",
       "    }\n",
       "</style>\n",
       "<table border=\"1\" class=\"dataframe\">\n",
       "  <thead>\n",
       "    <tr style=\"text-align: right;\">\n",
       "      <th></th>\n",
       "      <th>DATE</th>\n",
       "      <th>CPI_Medical_Care</th>\n",
       "    </tr>\n",
       "  </thead>\n",
       "  <tbody>\n",
       "    <tr>\n",
       "      <th>0</th>\n",
       "      <td>2009-01-02</td>\n",
       "      <td>369.824</td>\n",
       "    </tr>\n",
       "    <tr>\n",
       "      <th>1</th>\n",
       "      <td>2009-01-09</td>\n",
       "      <td>369.824</td>\n",
       "    </tr>\n",
       "    <tr>\n",
       "      <th>2</th>\n",
       "      <td>2009-01-16</td>\n",
       "      <td>369.824</td>\n",
       "    </tr>\n",
       "    <tr>\n",
       "      <th>3</th>\n",
       "      <td>2009-01-23</td>\n",
       "      <td>369.824</td>\n",
       "    </tr>\n",
       "    <tr>\n",
       "      <th>4</th>\n",
       "      <td>2009-01-30</td>\n",
       "      <td>369.824</td>\n",
       "    </tr>\n",
       "    <tr>\n",
       "      <th>...</th>\n",
       "      <td>...</td>\n",
       "      <td>...</td>\n",
       "    </tr>\n",
       "    <tr>\n",
       "      <th>305</th>\n",
       "      <td>2014-11-07</td>\n",
       "      <td>439.408</td>\n",
       "    </tr>\n",
       "    <tr>\n",
       "      <th>306</th>\n",
       "      <td>2014-11-14</td>\n",
       "      <td>439.408</td>\n",
       "    </tr>\n",
       "    <tr>\n",
       "      <th>307</th>\n",
       "      <td>2014-11-21</td>\n",
       "      <td>439.408</td>\n",
       "    </tr>\n",
       "    <tr>\n",
       "      <th>308</th>\n",
       "      <td>2014-11-28</td>\n",
       "      <td>439.408</td>\n",
       "    </tr>\n",
       "    <tr>\n",
       "      <th>309</th>\n",
       "      <td>2014-12-05</td>\n",
       "      <td>441.464</td>\n",
       "    </tr>\n",
       "  </tbody>\n",
       "</table>\n",
       "<p>310 rows × 2 columns</p>\n",
       "</div>"
      ],
      "text/plain": [
       "           DATE  CPI_Medical_Care\n",
       "0    2009-01-02           369.824\n",
       "1    2009-01-09           369.824\n",
       "2    2009-01-16           369.824\n",
       "3    2009-01-23           369.824\n",
       "4    2009-01-30           369.824\n",
       "..          ...               ...\n",
       "305  2014-11-07           439.408\n",
       "306  2014-11-14           439.408\n",
       "307  2014-11-21           439.408\n",
       "308  2014-11-28           439.408\n",
       "309  2014-12-05           441.464\n",
       "\n",
       "[310 rows x 2 columns]"
      ]
     },
     "execution_count": 54,
     "metadata": {},
     "output_type": "execute_result"
    }
   ],
   "source": [
    "df_us_cpi_med = pd.read_csv('csv_files/idea_csv/df_us_cpi_med.csv')\n",
    "df_us_cpi_med"
   ]
  },
  {
   "cell_type": "markdown",
   "id": "4fd3d247",
   "metadata": {},
   "source": [
    "#### US CPI Transportation\n"
   ]
  },
  {
   "cell_type": "code",
   "execution_count": 55,
   "id": "e1d82656",
   "metadata": {},
   "outputs": [],
   "source": [
    "%%skip\n",
    "START, END = \"2009-01-01\", \"2014-12-31\"\n",
    "\n",
    "df_us_cpi_trans = DataReader(\"CPITRNSL\", \"fred\", START, END)\n",
    "\n",
    "df_us_cpi_trans.rename(columns={\"CPITRNSL\": \"CPI_Transportation\"}, inplace=True)\n",
    "\n",
    "df_us_cpi_trans = (\n",
    "    df_us_cpi_trans[\"CPI_Transportation\"]\n",
    "      .resample(\"W-FRI\")\n",
    "      .ffill()\n",
    "      .to_frame()\n",
    ")\n",
    "\n",
    "df_us_cpi_trans.to_csv('csv_files/idea_csv/df_us_cpi_trans.csv')"
   ]
  },
  {
   "cell_type": "code",
   "execution_count": 56,
   "id": "5095ed62",
   "metadata": {},
   "outputs": [
    {
     "data": {
      "application/vnd.microsoft.datawrangler.viewer.v0+json": {
       "columns": [
        {
         "name": "index",
         "rawType": "int64",
         "type": "integer"
        },
        {
         "name": "DATE",
         "rawType": "object",
         "type": "string"
        },
        {
         "name": "CPI_Transportation",
         "rawType": "float64",
         "type": "float"
        }
       ],
       "ref": "cf9fc323-6fb8-4fdd-88b6-bff6121e09a5",
       "rows": [
        [
         "0",
         "2009-01-02",
         "168.403"
        ],
        [
         "1",
         "2009-01-09",
         "168.403"
        ],
        [
         "2",
         "2009-01-16",
         "168.403"
        ],
        [
         "3",
         "2009-01-23",
         "168.403"
        ],
        [
         "4",
         "2009-01-30",
         "168.403"
        ],
        [
         "5",
         "2009-02-06",
         "171.424"
        ],
        [
         "6",
         "2009-02-13",
         "171.424"
        ],
        [
         "7",
         "2009-02-20",
         "171.424"
        ],
        [
         "8",
         "2009-02-27",
         "171.424"
        ],
        [
         "9",
         "2009-03-06",
         "169.449"
        ],
        [
         "10",
         "2009-03-13",
         "169.449"
        ],
        [
         "11",
         "2009-03-20",
         "169.449"
        ],
        [
         "12",
         "2009-03-27",
         "169.449"
        ],
        [
         "13",
         "2009-04-03",
         "170.09"
        ],
        [
         "14",
         "2009-04-10",
         "170.09"
        ],
        [
         "15",
         "2009-04-17",
         "170.09"
        ],
        [
         "16",
         "2009-04-24",
         "170.09"
        ],
        [
         "17",
         "2009-05-01",
         "172.235"
        ],
        [
         "18",
         "2009-05-08",
         "172.235"
        ],
        [
         "19",
         "2009-05-15",
         "172.235"
        ],
        [
         "20",
         "2009-05-22",
         "172.235"
        ],
        [
         "21",
         "2009-05-29",
         "172.235"
        ],
        [
         "22",
         "2009-06-05",
         "180.667"
        ],
        [
         "23",
         "2009-06-12",
         "180.667"
        ],
        [
         "24",
         "2009-06-19",
         "180.667"
        ],
        [
         "25",
         "2009-06-26",
         "180.667"
        ],
        [
         "26",
         "2009-07-03",
         "180.915"
        ],
        [
         "27",
         "2009-07-10",
         "180.915"
        ],
        [
         "28",
         "2009-07-17",
         "180.915"
        ],
        [
         "29",
         "2009-07-24",
         "180.915"
        ],
        [
         "30",
         "2009-07-31",
         "180.915"
        ],
        [
         "31",
         "2009-08-07",
         "183.729"
        ],
        [
         "32",
         "2009-08-14",
         "183.729"
        ],
        [
         "33",
         "2009-08-21",
         "183.729"
        ],
        [
         "34",
         "2009-08-28",
         "183.729"
        ],
        [
         "35",
         "2009-09-04",
         "185.329"
        ],
        [
         "36",
         "2009-09-11",
         "185.329"
        ],
        [
         "37",
         "2009-09-18",
         "185.329"
        ],
        [
         "38",
         "2009-09-25",
         "185.329"
        ],
        [
         "39",
         "2009-10-02",
         "187.793"
        ],
        [
         "40",
         "2009-10-09",
         "187.793"
        ],
        [
         "41",
         "2009-10-16",
         "187.793"
        ],
        [
         "42",
         "2009-10-23",
         "187.793"
        ],
        [
         "43",
         "2009-10-30",
         "187.793"
        ],
        [
         "44",
         "2009-11-06",
         "191.243"
        ],
        [
         "45",
         "2009-11-13",
         "191.243"
        ],
        [
         "46",
         "2009-11-20",
         "191.243"
        ],
        [
         "47",
         "2009-11-27",
         "191.243"
        ],
        [
         "48",
         "2009-12-04",
         "191.517"
        ],
        [
         "49",
         "2009-12-11",
         "191.517"
        ]
       ],
       "shape": {
        "columns": 2,
        "rows": 310
       }
      },
      "text/html": [
       "<div>\n",
       "<style scoped>\n",
       "    .dataframe tbody tr th:only-of-type {\n",
       "        vertical-align: middle;\n",
       "    }\n",
       "\n",
       "    .dataframe tbody tr th {\n",
       "        vertical-align: top;\n",
       "    }\n",
       "\n",
       "    .dataframe thead th {\n",
       "        text-align: right;\n",
       "    }\n",
       "</style>\n",
       "<table border=\"1\" class=\"dataframe\">\n",
       "  <thead>\n",
       "    <tr style=\"text-align: right;\">\n",
       "      <th></th>\n",
       "      <th>DATE</th>\n",
       "      <th>CPI_Transportation</th>\n",
       "    </tr>\n",
       "  </thead>\n",
       "  <tbody>\n",
       "    <tr>\n",
       "      <th>0</th>\n",
       "      <td>2009-01-02</td>\n",
       "      <td>168.403</td>\n",
       "    </tr>\n",
       "    <tr>\n",
       "      <th>1</th>\n",
       "      <td>2009-01-09</td>\n",
       "      <td>168.403</td>\n",
       "    </tr>\n",
       "    <tr>\n",
       "      <th>2</th>\n",
       "      <td>2009-01-16</td>\n",
       "      <td>168.403</td>\n",
       "    </tr>\n",
       "    <tr>\n",
       "      <th>3</th>\n",
       "      <td>2009-01-23</td>\n",
       "      <td>168.403</td>\n",
       "    </tr>\n",
       "    <tr>\n",
       "      <th>4</th>\n",
       "      <td>2009-01-30</td>\n",
       "      <td>168.403</td>\n",
       "    </tr>\n",
       "    <tr>\n",
       "      <th>...</th>\n",
       "      <td>...</td>\n",
       "      <td>...</td>\n",
       "    </tr>\n",
       "    <tr>\n",
       "      <th>305</th>\n",
       "      <td>2014-11-07</td>\n",
       "      <td>210.033</td>\n",
       "    </tr>\n",
       "    <tr>\n",
       "      <th>306</th>\n",
       "      <td>2014-11-14</td>\n",
       "      <td>210.033</td>\n",
       "    </tr>\n",
       "    <tr>\n",
       "      <th>307</th>\n",
       "      <td>2014-11-21</td>\n",
       "      <td>210.033</td>\n",
       "    </tr>\n",
       "    <tr>\n",
       "      <th>308</th>\n",
       "      <td>2014-11-28</td>\n",
       "      <td>210.033</td>\n",
       "    </tr>\n",
       "    <tr>\n",
       "      <th>309</th>\n",
       "      <td>2014-12-05</td>\n",
       "      <td>204.124</td>\n",
       "    </tr>\n",
       "  </tbody>\n",
       "</table>\n",
       "<p>310 rows × 2 columns</p>\n",
       "</div>"
      ],
      "text/plain": [
       "           DATE  CPI_Transportation\n",
       "0    2009-01-02             168.403\n",
       "1    2009-01-09             168.403\n",
       "2    2009-01-16             168.403\n",
       "3    2009-01-23             168.403\n",
       "4    2009-01-30             168.403\n",
       "..          ...                 ...\n",
       "305  2014-11-07             210.033\n",
       "306  2014-11-14             210.033\n",
       "307  2014-11-21             210.033\n",
       "308  2014-11-28             210.033\n",
       "309  2014-12-05             204.124\n",
       "\n",
       "[310 rows x 2 columns]"
      ]
     },
     "execution_count": 56,
     "metadata": {},
     "output_type": "execute_result"
    }
   ],
   "source": [
    "df_us_cpi_trans = pd.read_csv('csv_files/idea_csv/df_us_cpi_trans.csv')\n",
    "df_us_cpi_trans"
   ]
  },
  {
   "cell_type": "markdown",
   "id": "66507566",
   "metadata": {},
   "source": [
    "#### PCE: US Healthcare Services\n"
   ]
  },
  {
   "cell_type": "code",
   "execution_count": 57,
   "id": "4b7d3784",
   "metadata": {},
   "outputs": [],
   "source": [
    "%%skip\n",
    "START, END = \"2009-01-01\", \"2014-12-31\"\n",
    "\n",
    "df_us_pce_health = DataReader(\"DHLCRC1Q027SBEA\", \"fred\", START, END)\n",
    "\n",
    "df_us_pce_health.rename(columns={\"DHLCRC1Q027SBEA\": \"PCE_Healthcare_Services\"}, inplace=True)\n",
    "\n",
    "df_us_pce_health = (\n",
    "    df_us_pce_health[\"PCE_Healthcare_Services\"]\n",
    "      .resample(\"W-FRI\")   \n",
    "      .ffill()      \n",
    "      .to_frame()\n",
    ")\n",
    "\n",
    "\n",
    "df_us_pce_health.to_csv('csv_files/idea_csv/df_us_pce_health.csv')"
   ]
  },
  {
   "cell_type": "code",
   "execution_count": 58,
   "id": "7751d199",
   "metadata": {},
   "outputs": [
    {
     "data": {
      "application/vnd.microsoft.datawrangler.viewer.v0+json": {
       "columns": [
        {
         "name": "index",
         "rawType": "int64",
         "type": "integer"
        },
        {
         "name": "DATE",
         "rawType": "object",
         "type": "string"
        },
        {
         "name": "PCE_Healthcare_Services",
         "rawType": "float64",
         "type": "float"
        }
       ],
       "ref": "67059b0a-7634-43a1-8e40-ec4a12727927",
       "rows": [
        [
         "0",
         "2009-01-02",
         "1600.08"
        ],
        [
         "1",
         "2009-01-09",
         "1600.08"
        ],
        [
         "2",
         "2009-01-16",
         "1600.08"
        ],
        [
         "3",
         "2009-01-23",
         "1600.08"
        ],
        [
         "4",
         "2009-01-30",
         "1600.08"
        ],
        [
         "5",
         "2009-02-06",
         "1600.08"
        ],
        [
         "6",
         "2009-02-13",
         "1600.08"
        ],
        [
         "7",
         "2009-02-20",
         "1600.08"
        ],
        [
         "8",
         "2009-02-27",
         "1600.08"
        ],
        [
         "9",
         "2009-03-06",
         "1600.08"
        ],
        [
         "10",
         "2009-03-13",
         "1600.08"
        ],
        [
         "11",
         "2009-03-20",
         "1600.08"
        ],
        [
         "12",
         "2009-03-27",
         "1600.08"
        ],
        [
         "13",
         "2009-04-03",
         "1627.52"
        ],
        [
         "14",
         "2009-04-10",
         "1627.52"
        ],
        [
         "15",
         "2009-04-17",
         "1627.52"
        ],
        [
         "16",
         "2009-04-24",
         "1627.52"
        ],
        [
         "17",
         "2009-05-01",
         "1627.52"
        ],
        [
         "18",
         "2009-05-08",
         "1627.52"
        ],
        [
         "19",
         "2009-05-15",
         "1627.52"
        ],
        [
         "20",
         "2009-05-22",
         "1627.52"
        ],
        [
         "21",
         "2009-05-29",
         "1627.52"
        ],
        [
         "22",
         "2009-06-05",
         "1627.52"
        ],
        [
         "23",
         "2009-06-12",
         "1627.52"
        ],
        [
         "24",
         "2009-06-19",
         "1627.52"
        ],
        [
         "25",
         "2009-06-26",
         "1627.52"
        ],
        [
         "26",
         "2009-07-03",
         "1647.796"
        ],
        [
         "27",
         "2009-07-10",
         "1647.796"
        ],
        [
         "28",
         "2009-07-17",
         "1647.796"
        ],
        [
         "29",
         "2009-07-24",
         "1647.796"
        ],
        [
         "30",
         "2009-07-31",
         "1647.796"
        ],
        [
         "31",
         "2009-08-07",
         "1647.796"
        ],
        [
         "32",
         "2009-08-14",
         "1647.796"
        ],
        [
         "33",
         "2009-08-21",
         "1647.796"
        ],
        [
         "34",
         "2009-08-28",
         "1647.796"
        ],
        [
         "35",
         "2009-09-04",
         "1647.796"
        ],
        [
         "36",
         "2009-09-11",
         "1647.796"
        ],
        [
         "37",
         "2009-09-18",
         "1647.796"
        ],
        [
         "38",
         "2009-09-25",
         "1647.796"
        ],
        [
         "39",
         "2009-10-02",
         "1655.552"
        ],
        [
         "40",
         "2009-10-09",
         "1655.552"
        ],
        [
         "41",
         "2009-10-16",
         "1655.552"
        ],
        [
         "42",
         "2009-10-23",
         "1655.552"
        ],
        [
         "43",
         "2009-10-30",
         "1655.552"
        ],
        [
         "44",
         "2009-11-06",
         "1655.552"
        ],
        [
         "45",
         "2009-11-13",
         "1655.552"
        ],
        [
         "46",
         "2009-11-20",
         "1655.552"
        ],
        [
         "47",
         "2009-11-27",
         "1655.552"
        ],
        [
         "48",
         "2009-12-04",
         "1655.552"
        ],
        [
         "49",
         "2009-12-11",
         "1655.552"
        ]
       ],
       "shape": {
        "columns": 2,
        "rows": 301
       }
      },
      "text/html": [
       "<div>\n",
       "<style scoped>\n",
       "    .dataframe tbody tr th:only-of-type {\n",
       "        vertical-align: middle;\n",
       "    }\n",
       "\n",
       "    .dataframe tbody tr th {\n",
       "        vertical-align: top;\n",
       "    }\n",
       "\n",
       "    .dataframe thead th {\n",
       "        text-align: right;\n",
       "    }\n",
       "</style>\n",
       "<table border=\"1\" class=\"dataframe\">\n",
       "  <thead>\n",
       "    <tr style=\"text-align: right;\">\n",
       "      <th></th>\n",
       "      <th>DATE</th>\n",
       "      <th>PCE_Healthcare_Services</th>\n",
       "    </tr>\n",
       "  </thead>\n",
       "  <tbody>\n",
       "    <tr>\n",
       "      <th>0</th>\n",
       "      <td>2009-01-02</td>\n",
       "      <td>1600.080</td>\n",
       "    </tr>\n",
       "    <tr>\n",
       "      <th>1</th>\n",
       "      <td>2009-01-09</td>\n",
       "      <td>1600.080</td>\n",
       "    </tr>\n",
       "    <tr>\n",
       "      <th>2</th>\n",
       "      <td>2009-01-16</td>\n",
       "      <td>1600.080</td>\n",
       "    </tr>\n",
       "    <tr>\n",
       "      <th>3</th>\n",
       "      <td>2009-01-23</td>\n",
       "      <td>1600.080</td>\n",
       "    </tr>\n",
       "    <tr>\n",
       "      <th>4</th>\n",
       "      <td>2009-01-30</td>\n",
       "      <td>1600.080</td>\n",
       "    </tr>\n",
       "    <tr>\n",
       "      <th>...</th>\n",
       "      <td>...</td>\n",
       "      <td>...</td>\n",
       "    </tr>\n",
       "    <tr>\n",
       "      <th>296</th>\n",
       "      <td>2014-09-05</td>\n",
       "      <td>1967.554</td>\n",
       "    </tr>\n",
       "    <tr>\n",
       "      <th>297</th>\n",
       "      <td>2014-09-12</td>\n",
       "      <td>1967.554</td>\n",
       "    </tr>\n",
       "    <tr>\n",
       "      <th>298</th>\n",
       "      <td>2014-09-19</td>\n",
       "      <td>1967.554</td>\n",
       "    </tr>\n",
       "    <tr>\n",
       "      <th>299</th>\n",
       "      <td>2014-09-26</td>\n",
       "      <td>1967.554</td>\n",
       "    </tr>\n",
       "    <tr>\n",
       "      <th>300</th>\n",
       "      <td>2014-10-03</td>\n",
       "      <td>2002.097</td>\n",
       "    </tr>\n",
       "  </tbody>\n",
       "</table>\n",
       "<p>301 rows × 2 columns</p>\n",
       "</div>"
      ],
      "text/plain": [
       "           DATE  PCE_Healthcare_Services\n",
       "0    2009-01-02                 1600.080\n",
       "1    2009-01-09                 1600.080\n",
       "2    2009-01-16                 1600.080\n",
       "3    2009-01-23                 1600.080\n",
       "4    2009-01-30                 1600.080\n",
       "..          ...                      ...\n",
       "296  2014-09-05                 1967.554\n",
       "297  2014-09-12                 1967.554\n",
       "298  2014-09-19                 1967.554\n",
       "299  2014-09-26                 1967.554\n",
       "300  2014-10-03                 2002.097\n",
       "\n",
       "[301 rows x 2 columns]"
      ]
     },
     "execution_count": 58,
     "metadata": {},
     "output_type": "execute_result"
    }
   ],
   "source": [
    "df_us_pce_health = pd.read_csv('csv_files/idea_csv/df_us_pce_health.csv')\n",
    "df_us_pce_health"
   ]
  },
  {
   "cell_type": "markdown",
   "id": "d1d4fd13",
   "metadata": {},
   "source": [
    "#### US ICSA (Jobless Claims)"
   ]
  },
  {
   "cell_type": "code",
   "execution_count": 59,
   "id": "601cfc27",
   "metadata": {},
   "outputs": [],
   "source": [
    "%%skip\n",
    "START, END = \"2009-01-01\", \"2014-12-31\"\n",
    "\n",
    "\n",
    "df_us_icsa_jobless = DataReader(\"ICSA\", \"fred\", START, END)\n",
    "\n",
    "df_us_icsa_jobless.rename(columns={\"ICSA\": \"Weekly_Initial_Jobless_Claims\"}, inplace=True)\n",
    "\n",
    "df_us_icsa_jobless = (\n",
    "    df_us_icsa_jobless[\"Weekly_Initial_Jobless_Claims\"]\n",
    "      .resample(\"W-FRI\")  \n",
    "      .ffill()           \n",
    "      .to_frame()\n",
    ")\n",
    "\n",
    "df_us_icsa_jobless.to_csv('csv_files/idea_csv/df_us_icsa_jobless.csv')"
   ]
  },
  {
   "cell_type": "code",
   "execution_count": 60,
   "id": "bb3cc0dc",
   "metadata": {},
   "outputs": [
    {
     "data": {
      "application/vnd.microsoft.datawrangler.viewer.v0+json": {
       "columns": [
        {
         "name": "index",
         "rawType": "int64",
         "type": "integer"
        },
        {
         "name": "DATE",
         "rawType": "object",
         "type": "string"
        },
        {
         "name": "Weekly_Initial_Jobless_Claims",
         "rawType": "int64",
         "type": "integer"
        }
       ],
       "ref": "36465955-9ba7-4ef8-ae30-7489bc9df795",
       "rows": [
        [
         "0",
         "2009-01-09",
         "503000"
        ],
        [
         "1",
         "2009-01-16",
         "551000"
        ],
        [
         "2",
         "2009-01-23",
         "591000"
        ],
        [
         "3",
         "2009-01-30",
         "586000"
        ],
        [
         "4",
         "2009-02-06",
         "629000"
        ],
        [
         "5",
         "2009-02-13",
         "637000"
        ],
        [
         "6",
         "2009-02-20",
         "632000"
        ],
        [
         "7",
         "2009-02-27",
         "655000"
        ],
        [
         "8",
         "2009-03-06",
         "652000"
        ],
        [
         "9",
         "2009-03-13",
         "660000"
        ],
        [
         "10",
         "2009-03-20",
         "651000"
        ],
        [
         "11",
         "2009-03-27",
         "661000"
        ],
        [
         "12",
         "2009-04-03",
         "665000"
        ],
        [
         "13",
         "2009-04-10",
         "653000"
        ],
        [
         "14",
         "2009-04-17",
         "599000"
        ],
        [
         "15",
         "2009-04-24",
         "639000"
        ],
        [
         "16",
         "2009-05-01",
         "620000"
        ],
        [
         "17",
         "2009-05-08",
         "602000"
        ],
        [
         "18",
         "2009-05-15",
         "625000"
        ],
        [
         "19",
         "2009-05-22",
         "620000"
        ],
        [
         "20",
         "2009-05-29",
         "606000"
        ],
        [
         "21",
         "2009-06-05",
         "607000"
        ],
        [
         "22",
         "2009-06-12",
         "596000"
        ],
        [
         "23",
         "2009-06-19",
         "595000"
        ],
        [
         "24",
         "2009-06-26",
         "608000"
        ],
        [
         "25",
         "2009-07-03",
         "594000"
        ],
        [
         "26",
         "2009-07-10",
         "573000"
        ],
        [
         "27",
         "2009-07-17",
         "546000"
        ],
        [
         "28",
         "2009-07-24",
         "560000"
        ],
        [
         "29",
         "2009-07-31",
         "587000"
        ],
        [
         "30",
         "2009-08-07",
         "555000"
        ],
        [
         "31",
         "2009-08-14",
         "555000"
        ],
        [
         "32",
         "2009-08-21",
         "562000"
        ],
        [
         "33",
         "2009-08-28",
         "560000"
        ],
        [
         "34",
         "2009-09-04",
         "564000"
        ],
        [
         "35",
         "2009-09-11",
         "558000"
        ],
        [
         "36",
         "2009-09-18",
         "542000"
        ],
        [
         "37",
         "2009-09-25",
         "536000"
        ],
        [
         "38",
         "2009-10-02",
         "554000"
        ],
        [
         "39",
         "2009-10-09",
         "533000"
        ],
        [
         "40",
         "2009-10-16",
         "511000"
        ],
        [
         "41",
         "2009-10-23",
         "531000"
        ],
        [
         "42",
         "2009-10-30",
         "530000"
        ],
        [
         "43",
         "2009-11-06",
         "522000"
        ],
        [
         "44",
         "2009-11-13",
         "512000"
        ],
        [
         "45",
         "2009-11-20",
         "507000"
        ],
        [
         "46",
         "2009-11-27",
         "482000"
        ],
        [
         "47",
         "2009-12-04",
         "475000"
        ],
        [
         "48",
         "2009-12-11",
         "497000"
        ],
        [
         "49",
         "2009-12-18",
         "498000"
        ]
       ],
       "shape": {
        "columns": 2,
        "rows": 313
       }
      },
      "text/html": [
       "<div>\n",
       "<style scoped>\n",
       "    .dataframe tbody tr th:only-of-type {\n",
       "        vertical-align: middle;\n",
       "    }\n",
       "\n",
       "    .dataframe tbody tr th {\n",
       "        vertical-align: top;\n",
       "    }\n",
       "\n",
       "    .dataframe thead th {\n",
       "        text-align: right;\n",
       "    }\n",
       "</style>\n",
       "<table border=\"1\" class=\"dataframe\">\n",
       "  <thead>\n",
       "    <tr style=\"text-align: right;\">\n",
       "      <th></th>\n",
       "      <th>DATE</th>\n",
       "      <th>Weekly_Initial_Jobless_Claims</th>\n",
       "    </tr>\n",
       "  </thead>\n",
       "  <tbody>\n",
       "    <tr>\n",
       "      <th>0</th>\n",
       "      <td>2009-01-09</td>\n",
       "      <td>503000</td>\n",
       "    </tr>\n",
       "    <tr>\n",
       "      <th>1</th>\n",
       "      <td>2009-01-16</td>\n",
       "      <td>551000</td>\n",
       "    </tr>\n",
       "    <tr>\n",
       "      <th>2</th>\n",
       "      <td>2009-01-23</td>\n",
       "      <td>591000</td>\n",
       "    </tr>\n",
       "    <tr>\n",
       "      <th>3</th>\n",
       "      <td>2009-01-30</td>\n",
       "      <td>586000</td>\n",
       "    </tr>\n",
       "    <tr>\n",
       "      <th>4</th>\n",
       "      <td>2009-02-06</td>\n",
       "      <td>629000</td>\n",
       "    </tr>\n",
       "    <tr>\n",
       "      <th>...</th>\n",
       "      <td>...</td>\n",
       "      <td>...</td>\n",
       "    </tr>\n",
       "    <tr>\n",
       "      <th>308</th>\n",
       "      <td>2014-12-05</td>\n",
       "      <td>291000</td>\n",
       "    </tr>\n",
       "    <tr>\n",
       "      <th>309</th>\n",
       "      <td>2014-12-12</td>\n",
       "      <td>291000</td>\n",
       "    </tr>\n",
       "    <tr>\n",
       "      <th>310</th>\n",
       "      <td>2014-12-19</td>\n",
       "      <td>286000</td>\n",
       "    </tr>\n",
       "    <tr>\n",
       "      <th>311</th>\n",
       "      <td>2014-12-26</td>\n",
       "      <td>276000</td>\n",
       "    </tr>\n",
       "    <tr>\n",
       "      <th>312</th>\n",
       "      <td>2015-01-02</td>\n",
       "      <td>285000</td>\n",
       "    </tr>\n",
       "  </tbody>\n",
       "</table>\n",
       "<p>313 rows × 2 columns</p>\n",
       "</div>"
      ],
      "text/plain": [
       "           DATE  Weekly_Initial_Jobless_Claims\n",
       "0    2009-01-09                         503000\n",
       "1    2009-01-16                         551000\n",
       "2    2009-01-23                         591000\n",
       "3    2009-01-30                         586000\n",
       "4    2009-02-06                         629000\n",
       "..          ...                            ...\n",
       "308  2014-12-05                         291000\n",
       "309  2014-12-12                         291000\n",
       "310  2014-12-19                         286000\n",
       "311  2014-12-26                         276000\n",
       "312  2015-01-02                         285000\n",
       "\n",
       "[313 rows x 2 columns]"
      ]
     },
     "execution_count": 60,
     "metadata": {},
     "output_type": "execute_result"
    }
   ],
   "source": [
    "df_us_icsa_jobless = pd.read_csv('csv_files/idea_csv/df_us_icsa_jobless.csv')\n",
    "df_us_icsa_jobless"
   ]
  },
  {
   "cell_type": "markdown",
   "id": "5eaab7ab",
   "metadata": {},
   "source": [
    "#### US Rail , Freight & Carloads"
   ]
  },
  {
   "cell_type": "code",
   "execution_count": 61,
   "id": "1e18106c",
   "metadata": {},
   "outputs": [],
   "source": [
    "%%skip\n",
    "START, END = \"2009-01-01\", \"2014-12-31\"\n",
    "\n",
    "rail = DataReader(\"RAILFRTCARLOADS\", \"fred\", START, END)\n",
    "rail.rename(columns={\"RAILFRTCARLOADS\": \"Rail_Freight_Carloads\"}, inplace=True)\n",
    "\n",
    "rail_weekly = (\n",
    "    rail[\"Rail_Freight_Carloads\"]\n",
    "        .resample(\"W-FRI\")\n",
    "        .ffill()\n",
    "        .to_frame()\n",
    ")\n",
    "\n",
    "truck = DataReader(\"TRUCKD11\", \"fred\", START, END)\n",
    "truck.rename(columns={\"TRUCKD11\": \"Truck_Tonnage_Index\"}, inplace=True)\n",
    "\n",
    "truck_weekly = (\n",
    "    truck[\"Truck_Tonnage_Index\"]\n",
    "         .resample(\"W-FRI\")\n",
    "         .ffill()\n",
    "         .to_frame()\n",
    ")\n",
    "\n",
    "df_us_rail_freight_carloads = rail_weekly.join(truck_weekly, how=\"outer\")\n",
    "\n",
    "df_us_rail_freight_carloads.to_csv('csv_files/idea_csv/df_us_rail_freight_carloads.csv')\n"
   ]
  },
  {
   "cell_type": "code",
   "execution_count": 62,
   "id": "db603ad4",
   "metadata": {},
   "outputs": [
    {
     "data": {
      "application/vnd.microsoft.datawrangler.viewer.v0+json": {
       "columns": [
        {
         "name": "index",
         "rawType": "int64",
         "type": "integer"
        },
        {
         "name": "DATE",
         "rawType": "object",
         "type": "string"
        },
        {
         "name": "Rail_Freight_Carloads",
         "rawType": "int64",
         "type": "integer"
        },
        {
         "name": "Truck_Tonnage_Index",
         "rawType": "float64",
         "type": "float"
        }
       ],
       "ref": "8ad2df22-bf4b-4ab7-b8ab-3d5eb927259c",
       "rows": [
        [
         "0",
         "2009-01-02",
         "1131568",
         "77.4"
        ],
        [
         "1",
         "2009-01-09",
         "1131568",
         "77.4"
        ],
        [
         "2",
         "2009-01-16",
         "1131568",
         "77.4"
        ],
        [
         "3",
         "2009-01-23",
         "1131568",
         "77.4"
        ],
        [
         "4",
         "2009-01-30",
         "1131568",
         "77.4"
        ],
        [
         "5",
         "2009-02-06",
         "1077273",
         "79.3"
        ],
        [
         "6",
         "2009-02-13",
         "1077273",
         "79.3"
        ],
        [
         "7",
         "2009-02-20",
         "1077273",
         "79.3"
        ],
        [
         "8",
         "2009-02-27",
         "1077273",
         "79.3"
        ],
        [
         "9",
         "2009-03-06",
         "1162171",
         "75.6"
        ],
        [
         "10",
         "2009-03-13",
         "1162171",
         "75.6"
        ],
        [
         "11",
         "2009-03-20",
         "1162171",
         "75.6"
        ],
        [
         "12",
         "2009-03-27",
         "1162171",
         "75.6"
        ],
        [
         "13",
         "2009-04-03",
         "1065507",
         "74.8"
        ],
        [
         "14",
         "2009-04-10",
         "1065507",
         "74.8"
        ],
        [
         "15",
         "2009-04-17",
         "1065507",
         "74.8"
        ],
        [
         "16",
         "2009-04-24",
         "1065507",
         "74.8"
        ],
        [
         "17",
         "2009-05-01",
         "1075381",
         "76.4"
        ],
        [
         "18",
         "2009-05-08",
         "1075381",
         "76.4"
        ],
        [
         "19",
         "2009-05-15",
         "1075381",
         "76.4"
        ],
        [
         "20",
         "2009-05-22",
         "1075381",
         "76.4"
        ],
        [
         "21",
         "2009-05-29",
         "1075381",
         "76.4"
        ],
        [
         "22",
         "2009-06-05",
         "1074935",
         "75.3"
        ],
        [
         "23",
         "2009-06-12",
         "1074935",
         "75.3"
        ],
        [
         "24",
         "2009-06-19",
         "1074935",
         "75.3"
        ],
        [
         "25",
         "2009-06-26",
         "1074935",
         "75.3"
        ],
        [
         "26",
         "2009-07-03",
         "1143030",
         "76.9"
        ],
        [
         "27",
         "2009-07-10",
         "1143030",
         "76.9"
        ],
        [
         "28",
         "2009-07-17",
         "1143030",
         "76.9"
        ],
        [
         "29",
         "2009-07-24",
         "1143030",
         "76.9"
        ],
        [
         "30",
         "2009-07-31",
         "1143030",
         "76.9"
        ],
        [
         "31",
         "2009-08-07",
         "1202053",
         "77.9"
        ],
        [
         "32",
         "2009-08-14",
         "1202053",
         "77.9"
        ],
        [
         "33",
         "2009-08-21",
         "1202053",
         "77.9"
        ],
        [
         "34",
         "2009-08-28",
         "1202053",
         "77.9"
        ],
        [
         "35",
         "2009-09-04",
         "1149431",
         "78.4"
        ],
        [
         "36",
         "2009-09-11",
         "1149431",
         "78.4"
        ],
        [
         "37",
         "2009-09-18",
         "1149431",
         "78.4"
        ],
        [
         "38",
         "2009-09-25",
         "1149431",
         "78.4"
        ],
        [
         "39",
         "2009-10-02",
         "1185330",
         "77.9"
        ],
        [
         "40",
         "2009-10-09",
         "1185330",
         "77.9"
        ],
        [
         "41",
         "2009-10-16",
         "1185330",
         "77.9"
        ],
        [
         "42",
         "2009-10-23",
         "1185330",
         "77.9"
        ],
        [
         "43",
         "2009-10-30",
         "1185330",
         "77.9"
        ],
        [
         "44",
         "2009-11-06",
         "1136834",
         "79.3"
        ],
        [
         "45",
         "2009-11-13",
         "1136834",
         "79.3"
        ],
        [
         "46",
         "2009-11-20",
         "1136834",
         "79.3"
        ],
        [
         "47",
         "2009-11-27",
         "1136834",
         "79.3"
        ],
        [
         "48",
         "2009-12-04",
         "1063803",
         "80.1"
        ],
        [
         "49",
         "2009-12-11",
         "1063803",
         "80.1"
        ]
       ],
       "shape": {
        "columns": 3,
        "rows": 310
       }
      },
      "text/html": [
       "<div>\n",
       "<style scoped>\n",
       "    .dataframe tbody tr th:only-of-type {\n",
       "        vertical-align: middle;\n",
       "    }\n",
       "\n",
       "    .dataframe tbody tr th {\n",
       "        vertical-align: top;\n",
       "    }\n",
       "\n",
       "    .dataframe thead th {\n",
       "        text-align: right;\n",
       "    }\n",
       "</style>\n",
       "<table border=\"1\" class=\"dataframe\">\n",
       "  <thead>\n",
       "    <tr style=\"text-align: right;\">\n",
       "      <th></th>\n",
       "      <th>DATE</th>\n",
       "      <th>Rail_Freight_Carloads</th>\n",
       "      <th>Truck_Tonnage_Index</th>\n",
       "    </tr>\n",
       "  </thead>\n",
       "  <tbody>\n",
       "    <tr>\n",
       "      <th>0</th>\n",
       "      <td>2009-01-02</td>\n",
       "      <td>1131568</td>\n",
       "      <td>77.4</td>\n",
       "    </tr>\n",
       "    <tr>\n",
       "      <th>1</th>\n",
       "      <td>2009-01-09</td>\n",
       "      <td>1131568</td>\n",
       "      <td>77.4</td>\n",
       "    </tr>\n",
       "    <tr>\n",
       "      <th>2</th>\n",
       "      <td>2009-01-16</td>\n",
       "      <td>1131568</td>\n",
       "      <td>77.4</td>\n",
       "    </tr>\n",
       "    <tr>\n",
       "      <th>3</th>\n",
       "      <td>2009-01-23</td>\n",
       "      <td>1131568</td>\n",
       "      <td>77.4</td>\n",
       "    </tr>\n",
       "    <tr>\n",
       "      <th>4</th>\n",
       "      <td>2009-01-30</td>\n",
       "      <td>1131568</td>\n",
       "      <td>77.4</td>\n",
       "    </tr>\n",
       "    <tr>\n",
       "      <th>...</th>\n",
       "      <td>...</td>\n",
       "      <td>...</td>\n",
       "      <td>...</td>\n",
       "    </tr>\n",
       "    <tr>\n",
       "      <th>305</th>\n",
       "      <td>2014-11-07</td>\n",
       "      <td>1213830</td>\n",
       "      <td>100.0</td>\n",
       "    </tr>\n",
       "    <tr>\n",
       "      <th>306</th>\n",
       "      <td>2014-11-14</td>\n",
       "      <td>1213830</td>\n",
       "      <td>100.0</td>\n",
       "    </tr>\n",
       "    <tr>\n",
       "      <th>307</th>\n",
       "      <td>2014-11-21</td>\n",
       "      <td>1213830</td>\n",
       "      <td>100.0</td>\n",
       "    </tr>\n",
       "    <tr>\n",
       "      <th>308</th>\n",
       "      <td>2014-11-28</td>\n",
       "      <td>1213830</td>\n",
       "      <td>100.0</td>\n",
       "    </tr>\n",
       "    <tr>\n",
       "      <th>309</th>\n",
       "      <td>2014-12-05</td>\n",
       "      <td>1253206</td>\n",
       "      <td>99.6</td>\n",
       "    </tr>\n",
       "  </tbody>\n",
       "</table>\n",
       "<p>310 rows × 3 columns</p>\n",
       "</div>"
      ],
      "text/plain": [
       "           DATE  Rail_Freight_Carloads  Truck_Tonnage_Index\n",
       "0    2009-01-02                1131568                 77.4\n",
       "1    2009-01-09                1131568                 77.4\n",
       "2    2009-01-16                1131568                 77.4\n",
       "3    2009-01-23                1131568                 77.4\n",
       "4    2009-01-30                1131568                 77.4\n",
       "..          ...                    ...                  ...\n",
       "305  2014-11-07                1213830                100.0\n",
       "306  2014-11-14                1213830                100.0\n",
       "307  2014-11-21                1213830                100.0\n",
       "308  2014-11-28                1213830                100.0\n",
       "309  2014-12-05                1253206                 99.6\n",
       "\n",
       "[310 rows x 3 columns]"
      ]
     },
     "execution_count": 62,
     "metadata": {},
     "output_type": "execute_result"
    }
   ],
   "source": [
    "df_us_rail_freight_carloads = pd.read_csv('csv_files/idea_csv/df_us_rail_freight_carloads.csv')\n",
    "df_us_rail_freight_carloads"
   ]
  },
  {
   "cell_type": "markdown",
   "id": "e0987caa",
   "metadata": {},
   "source": [
    "#### EU PMI"
   ]
  },
  {
   "cell_type": "code",
   "execution_count": 63,
   "id": "6433ffd1",
   "metadata": {},
   "outputs": [],
   "source": [
    "%%skip\n",
    "df_eu = ak.macro_euro_manufacturing_pmi()\n",
    "\n",
    "print(df_eu.columns.tolist())"
   ]
  },
  {
   "cell_type": "code",
   "execution_count": 64,
   "id": "92723d01",
   "metadata": {},
   "outputs": [],
   "source": [
    "%%skip\n",
    "START, END = \"2009-01-01\", \"2014-12-31\"\n",
    "\n",
    "df_eu_pmi = ak.macro_euro_manufacturing_pmi()\n",
    "\n",
    "df_eu_pmi = df_eu_pmi.rename(columns={\n",
    "    \"日期\": \"Date\",\n",
    "    \"今值\":  \"Euro_Manufacturing_PMI\"\n",
    "})\n",
    "df_eu_pmi[\"Date\"] = pd.to_datetime(df_eu_pmi[\"Date\"], format=\"%Y-%m\")\n",
    "\n",
    "df_eu_pmi = (\n",
    "    df_eu_pmi.set_index(\"Date\")[[\"Euro_Manufacturing_PMI\"]]\n",
    "              .sort_index()\n",
    "              .loc[START:END]\n",
    ")\n",
    "\n",
    "df_eu_pmi = (\n",
    "    df_eu_pmi[\"Euro_Manufacturing_PMI\"]\n",
    "      .resample(\"W-FRI\")\n",
    "      .ffill()\n",
    "      .to_frame()\n",
    ")\n",
    "df_eu_pmi.to_csv('csv_files/idea_csv/df_eu_pmi.csv')\n"
   ]
  },
  {
   "cell_type": "code",
   "execution_count": 65,
   "id": "0842da7a",
   "metadata": {},
   "outputs": [
    {
     "data": {
      "application/vnd.microsoft.datawrangler.viewer.v0+json": {
       "columns": [
        {
         "name": "index",
         "rawType": "int64",
         "type": "integer"
        },
        {
         "name": "Date",
         "rawType": "object",
         "type": "string"
        },
        {
         "name": "Euro_Manufacturing_PMI",
         "rawType": "float64",
         "type": "float"
        }
       ],
       "ref": "3e6765da-5244-4ea2-9ed8-26f2372b6d6c",
       "rows": [
        [
         "0",
         "2009-01-02",
         "33.9"
        ],
        [
         "1",
         "2009-01-09",
         "33.9"
        ],
        [
         "2",
         "2009-01-16",
         "33.9"
        ],
        [
         "3",
         "2009-01-23",
         "34.5"
        ],
        [
         "4",
         "2009-01-30",
         "34.5"
        ],
        [
         "5",
         "2009-02-06",
         "34.4"
        ],
        [
         "6",
         "2009-02-13",
         "34.4"
        ],
        [
         "7",
         "2009-02-20",
         "33.6"
        ],
        [
         "8",
         "2009-02-27",
         "33.6"
        ],
        [
         "9",
         "2009-03-06",
         "33.5"
        ],
        [
         "10",
         "2009-03-13",
         "33.5"
        ],
        [
         "11",
         "2009-03-20",
         "33.5"
        ],
        [
         "12",
         "2009-03-27",
         "34.0"
        ],
        [
         "13",
         "2009-04-03",
         "33.9"
        ],
        [
         "14",
         "2009-04-10",
         "33.9"
        ],
        [
         "15",
         "2009-04-17",
         "33.9"
        ],
        [
         "16",
         "2009-04-24",
         "36.7"
        ],
        [
         "17",
         "2009-05-01",
         "36.7"
        ],
        [
         "18",
         "2009-05-08",
         "36.8"
        ],
        [
         "19",
         "2009-05-15",
         "36.8"
        ],
        [
         "20",
         "2009-05-22",
         "40.5"
        ],
        [
         "21",
         "2009-05-29",
         "40.5"
        ],
        [
         "22",
         "2009-06-05",
         "40.7"
        ],
        [
         "23",
         "2009-06-12",
         "40.7"
        ],
        [
         "24",
         "2009-06-19",
         "40.7"
        ],
        [
         "25",
         "2009-06-26",
         "42.4"
        ],
        [
         "26",
         "2009-07-03",
         "42.6"
        ],
        [
         "27",
         "2009-07-10",
         "42.6"
        ],
        [
         "28",
         "2009-07-17",
         "42.6"
        ],
        [
         "29",
         "2009-07-24",
         "46.0"
        ],
        [
         "30",
         "2009-07-31",
         "46.0"
        ],
        [
         "31",
         "2009-08-07",
         "46.3"
        ],
        [
         "32",
         "2009-08-14",
         "46.3"
        ],
        [
         "33",
         "2009-08-21",
         "47.9"
        ],
        [
         "34",
         "2009-08-28",
         "47.9"
        ],
        [
         "35",
         "2009-09-04",
         "48.2"
        ],
        [
         "36",
         "2009-09-11",
         "48.2"
        ],
        [
         "37",
         "2009-09-18",
         "48.2"
        ],
        [
         "38",
         "2009-09-25",
         "49.0"
        ],
        [
         "39",
         "2009-10-02",
         "49.3"
        ],
        [
         "40",
         "2009-10-09",
         "49.3"
        ],
        [
         "41",
         "2009-10-16",
         "49.3"
        ],
        [
         "42",
         "2009-10-23",
         "50.7"
        ],
        [
         "43",
         "2009-10-30",
         "50.7"
        ],
        [
         "44",
         "2009-11-06",
         "50.7"
        ],
        [
         "45",
         "2009-11-13",
         "50.7"
        ],
        [
         "46",
         "2009-11-20",
         "50.7"
        ],
        [
         "47",
         "2009-11-27",
         "51.0"
        ],
        [
         "48",
         "2009-12-04",
         "51.2"
        ],
        [
         "49",
         "2009-12-11",
         "51.2"
        ]
       ],
       "shape": {
        "columns": 2,
        "rows": 312
       }
      },
      "text/html": [
       "<div>\n",
       "<style scoped>\n",
       "    .dataframe tbody tr th:only-of-type {\n",
       "        vertical-align: middle;\n",
       "    }\n",
       "\n",
       "    .dataframe tbody tr th {\n",
       "        vertical-align: top;\n",
       "    }\n",
       "\n",
       "    .dataframe thead th {\n",
       "        text-align: right;\n",
       "    }\n",
       "</style>\n",
       "<table border=\"1\" class=\"dataframe\">\n",
       "  <thead>\n",
       "    <tr style=\"text-align: right;\">\n",
       "      <th></th>\n",
       "      <th>Date</th>\n",
       "      <th>Euro_Manufacturing_PMI</th>\n",
       "    </tr>\n",
       "  </thead>\n",
       "  <tbody>\n",
       "    <tr>\n",
       "      <th>0</th>\n",
       "      <td>2009-01-02</td>\n",
       "      <td>33.9</td>\n",
       "    </tr>\n",
       "    <tr>\n",
       "      <th>1</th>\n",
       "      <td>2009-01-09</td>\n",
       "      <td>33.9</td>\n",
       "    </tr>\n",
       "    <tr>\n",
       "      <th>2</th>\n",
       "      <td>2009-01-16</td>\n",
       "      <td>33.9</td>\n",
       "    </tr>\n",
       "    <tr>\n",
       "      <th>3</th>\n",
       "      <td>2009-01-23</td>\n",
       "      <td>34.5</td>\n",
       "    </tr>\n",
       "    <tr>\n",
       "      <th>4</th>\n",
       "      <td>2009-01-30</td>\n",
       "      <td>34.5</td>\n",
       "    </tr>\n",
       "    <tr>\n",
       "      <th>...</th>\n",
       "      <td>...</td>\n",
       "      <td>...</td>\n",
       "    </tr>\n",
       "    <tr>\n",
       "      <th>307</th>\n",
       "      <td>2014-11-21</td>\n",
       "      <td>50.4</td>\n",
       "    </tr>\n",
       "    <tr>\n",
       "      <th>308</th>\n",
       "      <td>2014-11-28</td>\n",
       "      <td>50.4</td>\n",
       "    </tr>\n",
       "    <tr>\n",
       "      <th>309</th>\n",
       "      <td>2014-12-05</td>\n",
       "      <td>50.1</td>\n",
       "    </tr>\n",
       "    <tr>\n",
       "      <th>310</th>\n",
       "      <td>2014-12-12</td>\n",
       "      <td>50.1</td>\n",
       "    </tr>\n",
       "    <tr>\n",
       "      <th>311</th>\n",
       "      <td>2014-12-19</td>\n",
       "      <td>50.8</td>\n",
       "    </tr>\n",
       "  </tbody>\n",
       "</table>\n",
       "<p>312 rows × 2 columns</p>\n",
       "</div>"
      ],
      "text/plain": [
       "           Date  Euro_Manufacturing_PMI\n",
       "0    2009-01-02                    33.9\n",
       "1    2009-01-09                    33.9\n",
       "2    2009-01-16                    33.9\n",
       "3    2009-01-23                    34.5\n",
       "4    2009-01-30                    34.5\n",
       "..          ...                     ...\n",
       "307  2014-11-21                    50.4\n",
       "308  2014-11-28                    50.4\n",
       "309  2014-12-05                    50.1\n",
       "310  2014-12-12                    50.1\n",
       "311  2014-12-19                    50.8\n",
       "\n",
       "[312 rows x 2 columns]"
      ]
     },
     "execution_count": 65,
     "metadata": {},
     "output_type": "execute_result"
    }
   ],
   "source": [
    "df_eu_pmi = pd.read_csv('csv_files/idea_csv/df_eu_pmi.csv')\n",
    "df_eu_pmi"
   ]
  },
  {
   "cell_type": "markdown",
   "id": "f48f0bab",
   "metadata": {},
   "source": [
    "## Data Cleaning"
   ]
  },
  {
   "cell_type": "code",
   "execution_count": 66,
   "id": "d19ee0d3",
   "metadata": {},
   "outputs": [],
   "source": [
    "df_wm_train = df_walmart_train"
   ]
  },
  {
   "cell_type": "markdown",
   "id": "750503ef",
   "metadata": {},
   "source": [
    "### Data Cleaning - Train"
   ]
  },
  {
   "cell_type": "markdown",
   "id": "654597fd",
   "metadata": {},
   "source": [
    "#### SP 500"
   ]
  },
  {
   "cell_type": "code",
   "execution_count": 67,
   "id": "ba4bbd22",
   "metadata": {},
   "outputs": [
    {
     "data": {
      "application/vnd.microsoft.datawrangler.viewer.v0+json": {
       "columns": [
        {
         "name": "index",
         "rawType": "object",
         "type": "string"
        },
        {
         "name": "0",
         "rawType": "object",
         "type": "unknown"
        }
       ],
       "ref": "53807f43-c12e-43b6-b632-5d07f3569173",
       "rows": [
        [
         "Date",
         "object"
        ],
        [
         "SPX_Weekly_Mean_Close",
         "float64"
        ]
       ],
       "shape": {
        "columns": 1,
        "rows": 2
       }
      },
      "text/plain": [
       "Date                      object\n",
       "SPX_Weekly_Mean_Close    float64\n",
       "dtype: object"
      ]
     },
     "execution_count": 67,
     "metadata": {},
     "output_type": "execute_result"
    }
   ],
   "source": [
    "df_sp500.dtypes"
   ]
  },
  {
   "cell_type": "code",
   "execution_count": 68,
   "id": "0a154839",
   "metadata": {},
   "outputs": [],
   "source": [
    "df_sp500['Date'] = pd.to_datetime(df_sp500[\"Date\"], errors=\"raise\")"
   ]
  },
  {
   "cell_type": "code",
   "execution_count": 69,
   "id": "b0bce750",
   "metadata": {},
   "outputs": [
    {
     "data": {
      "application/vnd.microsoft.datawrangler.viewer.v0+json": {
       "columns": [
        {
         "name": "index",
         "rawType": "int64",
         "type": "integer"
        },
        {
         "name": "Date",
         "rawType": "datetime64[ns]",
         "type": "datetime"
        },
        {
         "name": "SPX_Weekly_Mean_Close",
         "rawType": "float64",
         "type": "float"
        }
       ],
       "ref": "1eebfd28-6243-4459-8ce7-b530ed21c2a0",
       "rows": [
        [
         "0",
         "2000-01-07 00:00:00",
         "1420.333984375"
        ],
        [
         "1",
         "2000-01-14 00:00:00",
         "1448.6480224609377"
        ],
        [
         "2",
         "2000-01-21 00:00:00",
         "1449.4924926757812"
        ],
        [
         "3",
         "2000-01-28 00:00:00",
         "1394.8740234375"
        ],
        [
         "4",
         "2000-02-04 00:00:00",
         "1412.439990234375"
        ],
        [
         "5",
         "2000-02-11 00:00:00",
         "1416.323974609375"
        ],
        [
         "6",
         "2000-02-18 00:00:00",
         "1382.802001953125"
        ],
        [
         "7",
         "2000-02-25 00:00:00",
         "1349.9125061035156"
        ],
        [
         "8",
         "2000-03-03 00:00:00",
         "1376.918017578125"
        ],
        [
         "9",
         "2000-03-10 00:00:00",
         "1382.07197265625"
        ],
        [
         "10",
         "2000-03-17 00:00:00",
         "1411.5699951171875"
        ],
        [
         "11",
         "2000-03-24 00:00:00",
         "1501.189990234375"
        ],
        [
         "12",
         "2000-03-31 00:00:00",
         "1505.3219970703126"
        ],
        [
         "13",
         "2000-04-07 00:00:00",
         "1501.1519775390625"
        ],
        [
         "14",
         "2000-04-14 00:00:00",
         "1453.8580078125"
        ],
        [
         "15",
         "2000-04-21 00:00:00",
         "1426.2649841308594"
        ],
        [
         "16",
         "2000-04-28 00:00:00",
         "1457.1280029296877"
        ],
        [
         "17",
         "2000-05-05 00:00:00",
         "1434.3679931640625"
        ],
        [
         "18",
         "2000-05-12 00:00:00",
         "1409.626025390625"
        ],
        [
         "19",
         "2000-05-19 00:00:00",
         "1442.0719970703126"
        ],
        [
         "20",
         "2000-05-26 00:00:00",
         "1386.6340087890626"
        ],
        [
         "21",
         "2000-06-02 00:00:00",
         "1442.2799987792969"
        ],
        [
         "22",
         "2000-06-09 00:00:00",
         "1463.089990234375"
        ],
        [
         "23",
         "2000-06-16 00:00:00",
         "1465.833984375"
        ],
        [
         "24",
         "2000-06-23 00:00:00",
         "1466.947998046875"
        ],
        [
         "25",
         "2000-06-30 00:00:00",
         "1451.5340087890625"
        ],
        [
         "26",
         "2000-07-07 00:00:00",
         "1462.8350219726562"
        ],
        [
         "27",
         "2000-07-14 00:00:00",
         "1491.047998046875"
        ],
        [
         "28",
         "2000-07-21 00:00:00",
         "1492.3899658203125"
        ],
        [
         "29",
         "2000-07-28 00:00:00",
         "1452.1380126953125"
        ],
        [
         "30",
         "2000-08-04 00:00:00",
         "1444.6239990234376"
        ],
        [
         "31",
         "2000-08-11 00:00:00",
         "1473.4159912109376"
        ],
        [
         "32",
         "2000-08-18 00:00:00",
         "1488.7260009765623"
        ],
        [
         "33",
         "2000-08-25 00:00:00",
         "1503.6679931640624"
        ],
        [
         "34",
         "2000-09-01 00:00:00",
         "1512.993994140625"
        ],
        [
         "35",
         "2000-09-08 00:00:00",
         "1499.084991455078"
        ],
        [
         "36",
         "2000-09-15 00:00:00",
         "1480.568017578125"
        ],
        [
         "37",
         "2000-09-22 00:00:00",
         "1450.70400390625"
        ],
        [
         "38",
         "2000-09-29 00:00:00",
         "1437.5219970703124"
        ],
        [
         "39",
         "2000-10-06 00:00:00",
         "1428.4559814453123"
        ],
        [
         "40",
         "2000-10-13 00:00:00",
         "1371.518017578125"
        ],
        [
         "41",
         "2000-10-20 00:00:00",
         "1370.4820068359377"
        ],
        [
         "42",
         "2000-10-27 00:00:00",
         "1380.5659912109377"
        ],
        [
         "43",
         "2000-11-03 00:00:00",
         "1420.8579833984377"
        ],
        [
         "44",
         "2000-11-10 00:00:00",
         "1407.8919921875"
        ],
        [
         "45",
         "2000-11-17 00:00:00",
         "1372.8119873046876"
        ],
        [
         "46",
         "2000-11-24 00:00:00",
         "1338.5249938964844"
        ],
        [
         "47",
         "2000-12-01 00:00:00",
         "1331.433984375"
        ],
        [
         "48",
         "2000-12-08 00:00:00",
         "1353.2820068359374"
        ],
        [
         "49",
         "2000-12-15 00:00:00",
         "1352.8900146484375"
        ]
       ],
       "shape": {
        "columns": 2,
        "rows": 1329
       }
      },
      "text/html": [
       "<div>\n",
       "<style scoped>\n",
       "    .dataframe tbody tr th:only-of-type {\n",
       "        vertical-align: middle;\n",
       "    }\n",
       "\n",
       "    .dataframe tbody tr th {\n",
       "        vertical-align: top;\n",
       "    }\n",
       "\n",
       "    .dataframe thead th {\n",
       "        text-align: right;\n",
       "    }\n",
       "</style>\n",
       "<table border=\"1\" class=\"dataframe\">\n",
       "  <thead>\n",
       "    <tr style=\"text-align: right;\">\n",
       "      <th></th>\n",
       "      <th>Date</th>\n",
       "      <th>SPX_Weekly_Mean_Close</th>\n",
       "    </tr>\n",
       "  </thead>\n",
       "  <tbody>\n",
       "    <tr>\n",
       "      <th>0</th>\n",
       "      <td>2000-01-07</td>\n",
       "      <td>1420.333984</td>\n",
       "    </tr>\n",
       "    <tr>\n",
       "      <th>1</th>\n",
       "      <td>2000-01-14</td>\n",
       "      <td>1448.648022</td>\n",
       "    </tr>\n",
       "    <tr>\n",
       "      <th>2</th>\n",
       "      <td>2000-01-21</td>\n",
       "      <td>1449.492493</td>\n",
       "    </tr>\n",
       "    <tr>\n",
       "      <th>3</th>\n",
       "      <td>2000-01-28</td>\n",
       "      <td>1394.874023</td>\n",
       "    </tr>\n",
       "    <tr>\n",
       "      <th>4</th>\n",
       "      <td>2000-02-04</td>\n",
       "      <td>1412.439990</td>\n",
       "    </tr>\n",
       "    <tr>\n",
       "      <th>...</th>\n",
       "      <td>...</td>\n",
       "      <td>...</td>\n",
       "    </tr>\n",
       "    <tr>\n",
       "      <th>1324</th>\n",
       "      <td>2025-05-23</td>\n",
       "      <td>5878.699902</td>\n",
       "    </tr>\n",
       "    <tr>\n",
       "      <th>1325</th>\n",
       "      <td>2025-05-30</td>\n",
       "      <td>5908.487427</td>\n",
       "    </tr>\n",
       "    <tr>\n",
       "      <th>1326</th>\n",
       "      <td>2025-06-06</td>\n",
       "      <td>5963.355957</td>\n",
       "    </tr>\n",
       "    <tr>\n",
       "      <th>1327</th>\n",
       "      <td>2025-06-13</td>\n",
       "      <td>6017.832031</td>\n",
       "    </tr>\n",
       "    <tr>\n",
       "      <th>1328</th>\n",
       "      <td>2025-06-20</td>\n",
       "      <td>6033.109863</td>\n",
       "    </tr>\n",
       "  </tbody>\n",
       "</table>\n",
       "<p>1329 rows × 2 columns</p>\n",
       "</div>"
      ],
      "text/plain": [
       "           Date  SPX_Weekly_Mean_Close\n",
       "0    2000-01-07            1420.333984\n",
       "1    2000-01-14            1448.648022\n",
       "2    2000-01-21            1449.492493\n",
       "3    2000-01-28            1394.874023\n",
       "4    2000-02-04            1412.439990\n",
       "...         ...                    ...\n",
       "1324 2025-05-23            5878.699902\n",
       "1325 2025-05-30            5908.487427\n",
       "1326 2025-06-06            5963.355957\n",
       "1327 2025-06-13            6017.832031\n",
       "1328 2025-06-20            6033.109863\n",
       "\n",
       "[1329 rows x 2 columns]"
      ]
     },
     "execution_count": 69,
     "metadata": {},
     "output_type": "execute_result"
    }
   ],
   "source": [
    "df_sp500"
   ]
  },
  {
   "cell_type": "code",
   "execution_count": 70,
   "id": "4adf2de3",
   "metadata": {},
   "outputs": [],
   "source": [
    "df_sp500.rename(columns={\n",
    "    'SPX_Weekly_Mean_Close': 'SP500_Weekly_Mean_Close'\n",
    "}, inplace=True)"
   ]
  },
  {
   "cell_type": "code",
   "execution_count": 71,
   "id": "048a5345",
   "metadata": {},
   "outputs": [],
   "source": [
    "df_merged = df_wm_train.merge(\n",
    "    df_sp500,\n",
    "    on=\"Date\",\n",
    "    how=\"left\",\n",
    "    validate=\"many_to_one\"\n",
    ")"
   ]
  },
  {
   "cell_type": "code",
   "execution_count": 72,
   "id": "18cd6175",
   "metadata": {},
   "outputs": [
    {
     "data": {
      "application/vnd.microsoft.datawrangler.viewer.v0+json": {
       "columns": [
        {
         "name": "index",
         "rawType": "int64",
         "type": "integer"
        },
        {
         "name": "Store",
         "rawType": "object",
         "type": "string"
        },
        {
         "name": "Dept",
         "rawType": "int64",
         "type": "integer"
        },
        {
         "name": "Date",
         "rawType": "datetime64[ns]",
         "type": "datetime"
        },
        {
         "name": "Weekly_Sales",
         "rawType": "float64",
         "type": "float"
        },
        {
         "name": "IsHoliday",
         "rawType": "bool",
         "type": "boolean"
        },
        {
         "name": "SP500_Weekly_Mean_Close",
         "rawType": "float64",
         "type": "float"
        }
       ],
       "ref": "e0e760ac-f757-4d05-954f-1e0554072e7c",
       "rows": [
        [
         "0",
         "1",
         "1",
         "2010-02-05 00:00:00",
         "24924.5",
         "False",
         "1083.81796875"
        ],
        [
         "1",
         "1",
         "1",
         "2010-02-12 00:00:00",
         "46039.49",
         "True",
         "1069.8739990234376"
        ],
        [
         "2",
         "1",
         "1",
         "2010-02-19 00:00:00",
         "41595.55",
         "False",
         "1102.5750122070312"
        ],
        [
         "3",
         "1",
         "1",
         "2010-02-26 00:00:00",
         "19403.54",
         "False",
         "1103.0559814453125"
        ],
        [
         "4",
         "1",
         "1",
         "2010-03-05 00:00:00",
         "21827.9",
         "False",
         "1122.89599609375"
        ],
        [
         "5",
         "1",
         "1",
         "2010-03-12 00:00:00",
         "21043.39",
         "False",
         "1144.9579833984376"
        ],
        [
         "6",
         "1",
         "1",
         "2010-03-19 00:00:00",
         "22136.64",
         "False",
         "1160.381982421875"
        ],
        [
         "7",
         "1",
         "1",
         "2010-03-26 00:00:00",
         "26229.21",
         "False",
         "1168.00400390625"
        ],
        [
         "8",
         "1",
         "1",
         "2010-04-02 00:00:00",
         "57258.43",
         "False",
         "1173.5050048828125"
        ],
        [
         "9",
         "1",
         "1",
         "2010-04-09 00:00:00",
         "42960.91",
         "False",
         "1188.0279541015625"
        ],
        [
         "10",
         "1",
         "1",
         "2010-04-16 00:00:00",
         "17596.96",
         "False",
         "1201.6460205078124"
        ],
        [
         "11",
         "1",
         "1",
         "2010-04-23 00:00:00",
         "16145.35",
         "False",
         "1207.316015625"
        ],
        [
         "12",
         "1",
         "1",
         "2010-04-30 00:00:00",
         "16555.11",
         "False",
         "1196.1179931640625"
        ],
        [
         "13",
         "1",
         "1",
         "2010-05-07 00:00:00",
         "17413.94",
         "False",
         "1156.152001953125"
        ],
        [
         "14",
         "1",
         "1",
         "2010-05-14 00:00:00",
         "18926.74",
         "False",
         "1156.06201171875"
        ],
        [
         "15",
         "1",
         "1",
         "2010-05-21 00:00:00",
         "14773.04",
         "False",
         "1106.4139892578123"
        ],
        [
         "16",
         "1",
         "1",
         "2010-05-28 00:00:00",
         "15580.43",
         "False",
         "1081.62001953125"
        ],
        [
         "17",
         "1",
         "1",
         "2010-06-04 00:00:00",
         "17558.09",
         "False",
         "1084.1999816894531"
        ],
        [
         "18",
         "1",
         "1",
         "2010-06-11 00:00:00",
         "16637.62",
         "False",
         "1069.319970703125"
        ],
        [
         "19",
         "1",
         "1",
         "2010-06-18 00:00:00",
         "16216.27",
         "False",
         "1110.60400390625"
        ],
        [
         "20",
         "1",
         "1",
         "2010-06-25 00:00:00",
         "16328.72",
         "False",
         "1090.2"
        ],
        [
         "21",
         "1",
         "1",
         "2010-07-02 00:00:00",
         "16333.14",
         "False",
         "1039.2939819335938"
        ],
        [
         "22",
         "1",
         "1",
         "2010-07-09 00:00:00",
         "17688.76",
         "False",
         "1059.135009765625"
        ],
        [
         "23",
         "1",
         "1",
         "2010-07-16 00:00:00",
         "17150.84",
         "False",
         "1086.1239990234376"
        ],
        [
         "24",
         "1",
         "1",
         "2010-07-23 00:00:00",
         "15360.45",
         "False",
         "1084.1300048828125"
        ],
        [
         "25",
         "1",
         "1",
         "2010-07-30 00:00:00",
         "15381.82",
         "False",
         "1107.6219970703123"
        ],
        [
         "26",
         "1",
         "1",
         "2010-08-06 00:00:00",
         "17508.41",
         "False",
         "1124.202001953125"
        ],
        [
         "27",
         "1",
         "1",
         "2010-08-13 00:00:00",
         "15536.4",
         "False",
         "1100.2360107421875"
        ],
        [
         "28",
         "1",
         "1",
         "2010-08-20 00:00:00",
         "15740.13",
         "False",
         "1082.6800048828125"
        ],
        [
         "29",
         "1",
         "1",
         "2010-08-27 00:00:00",
         "15793.87",
         "False",
         "1057.273974609375"
        ],
        [
         "30",
         "1",
         "1",
         "2010-09-03 00:00:00",
         "16241.78",
         "False",
         "1074.6300048828125"
        ],
        [
         "31",
         "1",
         "1",
         "2010-09-10 00:00:00",
         "18194.74",
         "True",
         "1101.1100158691406"
        ],
        [
         "32",
         "1",
         "1",
         "2010-09-17 00:00:00",
         "19354.23",
         "False",
         "1123.6639892578123"
        ],
        [
         "33",
         "1",
         "1",
         "2010-09-24 00:00:00",
         "18122.52",
         "False",
         "1138.05400390625"
        ],
        [
         "34",
         "1",
         "1",
         "2010-10-01 00:00:00",
         "20094.19",
         "False",
         "1144.4059814453126"
        ],
        [
         "35",
         "1",
         "1",
         "2010-10-08 00:00:00",
         "23388.03",
         "False",
         "1156.1920166015625"
        ],
        [
         "36",
         "1",
         "1",
         "2010-10-15 00:00:00",
         "26978.34",
         "False",
         "1172.63798828125"
        ],
        [
         "37",
         "1",
         "1",
         "2010-10-22 00:00:00",
         "25543.04",
         "False",
         "1178.4239990234375"
        ],
        [
         "38",
         "1",
         "1",
         "2010-10-29 00:00:00",
         "38640.93",
         "False",
         "1184.15"
        ],
        [
         "39",
         "1",
         "1",
         "2010-11-05 00:00:00",
         "34238.88",
         "False",
         "1204.5639892578124"
        ],
        [
         "40",
         "1",
         "1",
         "2010-11-12 00:00:00",
         "19549.39",
         "False",
         "1213.6219970703123"
        ],
        [
         "41",
         "1",
         "1",
         "2010-11-19 00:00:00",
         "19552.84",
         "False",
         "1190.219970703125"
        ],
        [
         "42",
         "1",
         "1",
         "2010-11-26 00:00:00",
         "18820.29",
         "True",
         "1191.5799865722656"
        ],
        [
         "43",
         "1",
         "1",
         "2010-12-03 00:00:00",
         "22517.56",
         "False",
         "1204.1239990234376"
        ],
        [
         "44",
         "1",
         "1",
         "2010-12-10 00:00:00",
         "31497.65",
         "False",
         "1229.710009765625"
        ],
        [
         "45",
         "1",
         "1",
         "2010-12-17 00:00:00",
         "44912.86",
         "False",
         "1240.8119873046876"
        ],
        [
         "46",
         "1",
         "1",
         "2010-12-24 00:00:00",
         "55931.23",
         "False",
         "1254.3224792480469"
        ],
        [
         "47",
         "1",
         "1",
         "2010-12-31 00:00:00",
         "19124.58",
         "True",
         "1258.27001953125"
        ],
        [
         "48",
         "1",
         "1",
         "2011-01-07 00:00:00",
         "15984.24",
         "False",
         "1272.79599609375"
        ],
        [
         "49",
         "1",
         "1",
         "2011-01-14 00:00:00",
         "17359.7",
         "False",
         "1281.43798828125"
        ]
       ],
       "shape": {
        "columns": 6,
        "rows": 421570
       }
      },
      "text/html": [
       "<div>\n",
       "<style scoped>\n",
       "    .dataframe tbody tr th:only-of-type {\n",
       "        vertical-align: middle;\n",
       "    }\n",
       "\n",
       "    .dataframe tbody tr th {\n",
       "        vertical-align: top;\n",
       "    }\n",
       "\n",
       "    .dataframe thead th {\n",
       "        text-align: right;\n",
       "    }\n",
       "</style>\n",
       "<table border=\"1\" class=\"dataframe\">\n",
       "  <thead>\n",
       "    <tr style=\"text-align: right;\">\n",
       "      <th></th>\n",
       "      <th>Store</th>\n",
       "      <th>Dept</th>\n",
       "      <th>Date</th>\n",
       "      <th>Weekly_Sales</th>\n",
       "      <th>IsHoliday</th>\n",
       "      <th>SP500_Weekly_Mean_Close</th>\n",
       "    </tr>\n",
       "  </thead>\n",
       "  <tbody>\n",
       "    <tr>\n",
       "      <th>0</th>\n",
       "      <td>1</td>\n",
       "      <td>1</td>\n",
       "      <td>2010-02-05</td>\n",
       "      <td>24924.50</td>\n",
       "      <td>False</td>\n",
       "      <td>1083.817969</td>\n",
       "    </tr>\n",
       "    <tr>\n",
       "      <th>1</th>\n",
       "      <td>1</td>\n",
       "      <td>1</td>\n",
       "      <td>2010-02-12</td>\n",
       "      <td>46039.49</td>\n",
       "      <td>True</td>\n",
       "      <td>1069.873999</td>\n",
       "    </tr>\n",
       "    <tr>\n",
       "      <th>2</th>\n",
       "      <td>1</td>\n",
       "      <td>1</td>\n",
       "      <td>2010-02-19</td>\n",
       "      <td>41595.55</td>\n",
       "      <td>False</td>\n",
       "      <td>1102.575012</td>\n",
       "    </tr>\n",
       "    <tr>\n",
       "      <th>3</th>\n",
       "      <td>1</td>\n",
       "      <td>1</td>\n",
       "      <td>2010-02-26</td>\n",
       "      <td>19403.54</td>\n",
       "      <td>False</td>\n",
       "      <td>1103.055981</td>\n",
       "    </tr>\n",
       "    <tr>\n",
       "      <th>4</th>\n",
       "      <td>1</td>\n",
       "      <td>1</td>\n",
       "      <td>2010-03-05</td>\n",
       "      <td>21827.90</td>\n",
       "      <td>False</td>\n",
       "      <td>1122.895996</td>\n",
       "    </tr>\n",
       "    <tr>\n",
       "      <th>...</th>\n",
       "      <td>...</td>\n",
       "      <td>...</td>\n",
       "      <td>...</td>\n",
       "      <td>...</td>\n",
       "      <td>...</td>\n",
       "      <td>...</td>\n",
       "    </tr>\n",
       "    <tr>\n",
       "      <th>421565</th>\n",
       "      <td>45</td>\n",
       "      <td>98</td>\n",
       "      <td>2012-09-28</td>\n",
       "      <td>508.37</td>\n",
       "      <td>False</td>\n",
       "      <td>1443.923999</td>\n",
       "    </tr>\n",
       "    <tr>\n",
       "      <th>421566</th>\n",
       "      <td>45</td>\n",
       "      <td>98</td>\n",
       "      <td>2012-10-05</td>\n",
       "      <td>628.10</td>\n",
       "      <td>False</td>\n",
       "      <td>1452.712012</td>\n",
       "    </tr>\n",
       "    <tr>\n",
       "      <th>421567</th>\n",
       "      <td>45</td>\n",
       "      <td>98</td>\n",
       "      <td>2012-10-12</td>\n",
       "      <td>1061.02</td>\n",
       "      <td>False</td>\n",
       "      <td>1438.269995</td>\n",
       "    </tr>\n",
       "    <tr>\n",
       "      <th>421568</th>\n",
       "      <td>45</td>\n",
       "      <td>98</td>\n",
       "      <td>2012-10-19</td>\n",
       "      <td>760.01</td>\n",
       "      <td>False</td>\n",
       "      <td>1449.297998</td>\n",
       "    </tr>\n",
       "    <tr>\n",
       "      <th>421569</th>\n",
       "      <td>45</td>\n",
       "      <td>98</td>\n",
       "      <td>2012-10-26</td>\n",
       "      <td>1076.80</td>\n",
       "      <td>False</td>\n",
       "      <td>1416.117969</td>\n",
       "    </tr>\n",
       "  </tbody>\n",
       "</table>\n",
       "<p>421570 rows × 6 columns</p>\n",
       "</div>"
      ],
      "text/plain": [
       "       Store  Dept       Date  Weekly_Sales  IsHoliday  \\\n",
       "0          1     1 2010-02-05      24924.50      False   \n",
       "1          1     1 2010-02-12      46039.49       True   \n",
       "2          1     1 2010-02-19      41595.55      False   \n",
       "3          1     1 2010-02-26      19403.54      False   \n",
       "4          1     1 2010-03-05      21827.90      False   \n",
       "...      ...   ...        ...           ...        ...   \n",
       "421565    45    98 2012-09-28        508.37      False   \n",
       "421566    45    98 2012-10-05        628.10      False   \n",
       "421567    45    98 2012-10-12       1061.02      False   \n",
       "421568    45    98 2012-10-19        760.01      False   \n",
       "421569    45    98 2012-10-26       1076.80      False   \n",
       "\n",
       "        SP500_Weekly_Mean_Close  \n",
       "0                   1083.817969  \n",
       "1                   1069.873999  \n",
       "2                   1102.575012  \n",
       "3                   1103.055981  \n",
       "4                   1122.895996  \n",
       "...                         ...  \n",
       "421565              1443.923999  \n",
       "421566              1452.712012  \n",
       "421567              1438.269995  \n",
       "421568              1449.297998  \n",
       "421569              1416.117969  \n",
       "\n",
       "[421570 rows x 6 columns]"
      ]
     },
     "execution_count": 72,
     "metadata": {},
     "output_type": "execute_result"
    }
   ],
   "source": [
    "df_merged"
   ]
  },
  {
   "cell_type": "code",
   "execution_count": 73,
   "id": "2f21dc64",
   "metadata": {},
   "outputs": [],
   "source": [
    "df_wm_train = df_merged"
   ]
  },
  {
   "cell_type": "markdown",
   "id": "7fd6d60b",
   "metadata": {},
   "source": [
    "#### Walmart Stock Price"
   ]
  },
  {
   "cell_type": "code",
   "execution_count": 74,
   "id": "1cc30299",
   "metadata": {},
   "outputs": [
    {
     "data": {
      "application/vnd.microsoft.datawrangler.viewer.v0+json": {
       "columns": [
        {
         "name": "index",
         "rawType": "object",
         "type": "string"
        },
        {
         "name": "0",
         "rawType": "object",
         "type": "unknown"
        }
       ],
       "ref": "7fb6630a-4385-45b7-a6dc-c3b77fe1ff74",
       "rows": [
        [
         "Date",
         "object"
        ],
        [
         "WMT_Weekly_Mean_Close",
         "float64"
        ]
       ],
       "shape": {
        "columns": 1,
        "rows": 2
       }
      },
      "text/plain": [
       "Date                      object\n",
       "WMT_Weekly_Mean_Close    float64\n",
       "dtype: object"
      ]
     },
     "execution_count": 74,
     "metadata": {},
     "output_type": "execute_result"
    }
   ],
   "source": [
    "df_walmart_stock.dtypes\n"
   ]
  },
  {
   "cell_type": "code",
   "execution_count": 75,
   "id": "f6f51118",
   "metadata": {},
   "outputs": [],
   "source": [
    "df_walmart_stock['Date'] = pd.to_datetime(df_walmart_stock[\"Date\"], errors=\"raise\")"
   ]
  },
  {
   "cell_type": "code",
   "execution_count": 76,
   "id": "e79b05d6",
   "metadata": {},
   "outputs": [],
   "source": [
    "df_merged = df_wm_train.merge(\n",
    "    df_walmart_stock,\n",
    "    on=\"Date\",\n",
    "    how=\"left\",\n",
    "    validate=\"many_to_one\"\n",
    ")"
   ]
  },
  {
   "cell_type": "code",
   "execution_count": 77,
   "id": "a8b85d47",
   "metadata": {},
   "outputs": [],
   "source": [
    "df_wm_train = df_merged"
   ]
  },
  {
   "cell_type": "markdown",
   "id": "7a8ce570",
   "metadata": {},
   "source": [
    "#### External Logistic companies Walmart"
   ]
  },
  {
   "cell_type": "code",
   "execution_count": 78,
   "id": "b8b6d042",
   "metadata": {},
   "outputs": [
    {
     "data": {
      "application/vnd.microsoft.datawrangler.viewer.v0+json": {
       "columns": [
        {
         "name": "index",
         "rawType": "int64",
         "type": "integer"
        },
        {
         "name": "Date",
         "rawType": "object",
         "type": "string"
        },
        {
         "name": "ARCB_df_logistics_Close",
         "rawType": "float64",
         "type": "float"
        },
        {
         "name": "AIT_df_logistics_Close",
         "rawType": "float64",
         "type": "float"
        },
        {
         "name": "CEVA_df_logistics_Close",
         "rawType": "float64",
         "type": "float"
        },
        {
         "name": "FDX_df_logistics_Close",
         "rawType": "float64",
         "type": "float"
        },
        {
         "name": "SAIA_df_logistics_Close",
         "rawType": "float64",
         "type": "float"
        },
        {
         "name": "TFII.TO_df_logistics_Close",
         "rawType": "float64",
         "type": "float"
        },
        {
         "name": "XPO_df_logistics_Close",
         "rawType": "float64",
         "type": "float"
        },
        {
         "name": "ODFL_df_logistics_Close",
         "rawType": "float64",
         "type": "float"
        },
        {
         "name": "UPS_df_logistics_Close",
         "rawType": "float64",
         "type": "float"
        },
        {
         "name": "JBHT_df_logistics_Close",
         "rawType": "float64",
         "type": "float"
        }
       ],
       "ref": "1ddb54b2-84ef-4842-b288-841739deef6f",
       "rows": [
        [
         "0",
         "2000-01-07",
         "10.2456",
         "4.2252",
         null,
         "36.133",
         null,
         null,
         null,
         "0.484",
         "33.4329",
         "2.6094"
        ],
        [
         "1",
         "2000-01-14",
         "10.2209",
         "4.05",
         null,
         "37.6513",
         null,
         null,
         null,
         "0.4914",
         "33.7016",
         "2.5821"
        ],
        [
         "2",
         "2000-01-21",
         "10.6344",
         "4.3393",
         null,
         "35.193",
         null,
         null,
         null,
         "0.5243",
         "34.1281",
         "2.5124"
        ],
        [
         "3",
         "2000-01-28",
         "9.9543",
         "4.288",
         null,
         "33.1066",
         null,
         null,
         null,
         "0.5354",
         "32.7017",
         "2.4714"
        ],
        [
         "4",
         "2000-02-04",
         "9.3568",
         "4.2649",
         null,
         "31.9144",
         null,
         null,
         null,
         "0.519",
         "29.3584",
         "2.5079"
        ],
        [
         "5",
         "2000-02-11",
         "8.8976",
         "4.307",
         null,
         "31.5883",
         null,
         null,
         null,
         "0.5311",
         "28.5273",
         "2.4425"
        ],
        [
         "6",
         "2000-02-18",
         "8.9272",
         "4.2289",
         null,
         "29.53",
         null,
         null,
         null,
         "0.519",
         "28.0211",
         "2.2851"
        ],
        [
         "7",
         "2000-02-25",
         "8.3076",
         "4.3205",
         null,
         "28.3404",
         null,
         null,
         null,
         "0.5236",
         "27.4762",
         "2.2211"
        ],
        [
         "8",
         "2000-03-03",
         "7.5546",
         "4.6052",
         null,
         "28.1646",
         null,
         null,
         null,
         "0.5195",
         "26.892",
         "2.2751"
        ],
        [
         "9",
         "2000-03-10",
         "7.8113",
         "4.6119",
         null,
         "26.7074",
         null,
         null,
         null,
         "0.5105",
         "26.4908",
         "2.3725"
        ],
        [
         "10",
         "2000-03-17",
         "8.6409",
         "4.502",
         null,
         "27.5226",
         null,
         null,
         null,
         "0.5116",
         "27.2806",
         "2.9457"
        ],
        [
         "11",
         "2000-03-24",
         "8.9717",
         "4.2456",
         null,
         "30.763",
         null,
         null,
         null,
         "0.5227",
         "29.5875",
         "3.0943"
        ],
        [
         "12",
         "2000-03-31",
         "8.9075",
         "4.179",
         null,
         "31.41",
         null,
         null,
         null,
         "0.5206",
         "30.4948",
         "2.9594"
        ],
        [
         "13",
         "2000-04-07",
         "9.4753",
         "4.2955",
         null,
         "31.6597",
         null,
         null,
         null,
         "0.4724",
         "29.7003",
         "2.8595"
        ],
        [
         "14",
         "2000-04-14",
         "10.1024",
         "4.0225",
         null,
         "32.7194",
         null,
         null,
         null,
         "0.4544",
         "30.4839",
         "2.8021"
        ],
        [
         "15",
         "2000-04-21",
         "10.7023",
         "4.0458",
         null,
         "30.5694",
         null,
         null,
         null,
         "0.4462",
         "30.2457",
         "3.1904"
        ],
        [
         "16",
         "2000-04-28",
         "10.2505",
         "4.482",
         null,
         "31.1196",
         null,
         null,
         null,
         "0.4491",
         "32.8659",
         "3.2991"
        ],
        [
         "17",
         "2000-05-05",
         "10.3196",
         "4.6019",
         null,
         "30.4369",
         null,
         null,
         null,
         "0.4597",
         "31.2173",
         "3.306"
        ],
        [
         "18",
         "2000-05-12",
         "9.6975",
         "4.5119",
         null,
         "32.0876",
         null,
         null,
         null,
         "0.4311",
         "30.8098",
         "3.2766"
        ],
        [
         "19",
         "2000-05-19",
         "9.1346",
         "4.5882",
         null,
         "29.6828",
         null,
         null,
         null,
         "0.4348",
         "31.2549",
         "3.2017"
        ],
        [
         "20",
         "2000-05-26",
         "9.1396",
         "4.7358",
         null,
         "28.9186",
         null,
         null,
         null,
         "0.4281",
         "30.0219",
         "3.1093"
        ],
        [
         "21",
         "2000-06-02",
         "9.0729",
         "4.6327",
         null,
         "29.2192",
         null,
         null,
         null,
         "0.4011",
         "30.3557",
         "3.2185"
        ],
        [
         "22",
         "2000-06-09",
         "9.3963",
         "4.5446",
         null,
         "29.9172",
         null,
         null,
         null,
         "0.4125",
         "30.6716",
         "3.1942"
        ],
        [
         "23",
         "2000-06-16",
         "9.7765",
         "4.6285",
         null,
         "29.6574",
         null,
         null,
         null,
         "0.3982",
         "30.7816",
         "3.1792"
        ],
        [
         "24",
         "2000-06-23",
         "9.7173",
         "4.6151",
         null,
         "28.3072",
         null,
         null,
         null,
         "0.4056",
         "31.1494",
         "3.1018"
        ],
        [
         "25",
         "2000-06-30",
         "9.3815",
         "4.5715",
         null,
         "30.4878",
         null,
         null,
         null,
         "0.4152",
         "30.1404",
         "2.922"
        ],
        [
         "26",
         "2000-07-07",
         "8.6285",
         "4.6327",
         null,
         "32.5946",
         null,
         null,
         null,
         "0.4038",
         "30.4814",
         "3.0031"
        ],
        [
         "27",
         "2000-07-14",
         "8.6902",
         "4.6486",
         null,
         "33.504",
         null,
         null,
         null,
         "0.3892",
         "30.5459",
         "3.0718"
        ],
        [
         "28",
         "2000-07-21",
         "8.9964",
         "4.4642",
         null,
         "32.8825",
         null,
         null,
         null,
         "0.385",
         "30.3259",
         "3.0843"
        ],
        [
         "29",
         "2000-07-28",
         "10.2999",
         "4.2931",
         null,
         "31.9756",
         null,
         null,
         null,
         "0.4056",
         "29.3012",
         "2.9694"
        ],
        [
         "30",
         "2000-08-04",
         "11.2726",
         "4.5614",
         null,
         "32.4035",
         null,
         null,
         null,
         "0.4242",
         "29.2572",
         "3.0269"
        ],
        [
         "31",
         "2000-08-11",
         "12.1071",
         "4.6884",
         null,
         "32.5258",
         null,
         null,
         null,
         "0.4628",
         "28.9177",
         "2.9345"
        ],
        [
         "32",
         "2000-08-18",
         "12.4971",
         "4.7302",
         null,
         "33.1576",
         null,
         null,
         null,
         "0.4517",
         "28.8423",
         "2.9151"
        ],
        [
         "33",
         "2000-08-25",
         "11.8997",
         "4.5074",
         null,
         "32.7805",
         null,
         null,
         null,
         "0.4305",
         "28.387",
         "2.8396"
        ],
        [
         "34",
         "2000-09-01",
         "11.8997",
         "4.5445",
         null,
         "32.7345",
         null,
         null,
         null,
         "0.4072",
         "28.1927",
         "2.7397"
        ],
        [
         "35",
         "2000-09-08",
         "11.73",
         "4.5749",
         null,
         "32.3628",
         null,
         null,
         null,
         "0.3992",
         "27.6504",
         "2.5911"
        ],
        [
         "36",
         "2000-09-15",
         "11.08",
         "4.7539",
         null,
         "32.3399",
         null,
         null,
         null,
         "0.3908",
         "27.4171",
         "2.5854"
        ],
        [
         "37",
         "2000-09-22",
         "11.0405",
         "4.71",
         null,
         "32.247",
         null,
         null,
         null,
         "0.4025",
         "27.3162",
         "2.5374"
        ],
        [
         "38",
         "2000-09-29",
         "11.5442",
         "4.629",
         null,
         "35.0757",
         null,
         null,
         null,
         "0.4215",
         "28.653",
         "2.4649"
        ],
        [
         "39",
         "2000-10-06",
         "11.6824",
         "4.5716",
         null,
         "35.7702",
         null,
         null,
         null,
         "0.4124",
         "29.1196",
         "2.4949"
        ],
        [
         "40",
         "2000-10-13",
         "11.1985",
         "4.3994",
         null,
         "34.0518",
         null,
         null,
         null,
         "0.3797",
         "28.7161",
         "2.2552"
        ],
        [
         "41",
         "2000-10-20",
         "11.7911",
         "4.3757",
         null,
         "33.5317",
         null,
         null,
         null,
         "0.3874",
         "28.8674",
         "2.5873"
        ],
        [
         "42",
         "2000-10-27",
         "12.5218",
         "4.6323",
         null,
         "34.4203",
         null,
         null,
         null,
         "0.3916",
         "30.1916",
         "2.5873"
        ],
        [
         "43",
         "2000-11-03",
         "12.8971",
         "4.5918",
         null,
         "38.0854",
         null,
         null,
         null,
         "0.3908",
         "30.6141",
         "2.6273"
        ],
        [
         "44",
         "2000-11-10",
         "13.3316",
         "4.656",
         null,
         "37.5653",
         null,
         null,
         null,
         "0.4199",
         "29.9268",
         "2.5199"
        ],
        [
         "45",
         "2000-11-17",
         "14.2673",
         "4.6653",
         null,
         "38.0299",
         null,
         null,
         null,
         "0.4279",
         "29.8069",
         "2.5823"
        ],
        [
         "46",
         "2000-11-24",
         "13.9612",
         "4.6797",
         null,
         "39.84",
         null,
         null,
         null,
         "0.4342",
         "30.3971",
         "2.6285"
        ],
        [
         "47",
         "2000-12-01",
         "13.7365",
         "4.8251",
         null,
         "39.5087",
         null,
         null,
         null,
         "0.4316",
         "30.7702",
         "2.6473"
        ],
        [
         "48",
         "2000-12-08",
         "14.6549",
         "4.9849",
         null,
         "38.356",
         null,
         null,
         null,
         "0.4242",
         "31.2634",
         "2.8171"
        ],
        [
         "49",
         "2000-12-15",
         "14.9511",
         "5.3555",
         null,
         "36.2121",
         null,
         null,
         null,
         "0.4364",
         "30.9915",
         "3.1667"
        ]
       ],
       "shape": {
        "columns": 11,
        "rows": 1329
       }
      },
      "text/html": [
       "<div>\n",
       "<style scoped>\n",
       "    .dataframe tbody tr th:only-of-type {\n",
       "        vertical-align: middle;\n",
       "    }\n",
       "\n",
       "    .dataframe tbody tr th {\n",
       "        vertical-align: top;\n",
       "    }\n",
       "\n",
       "    .dataframe thead th {\n",
       "        text-align: right;\n",
       "    }\n",
       "</style>\n",
       "<table border=\"1\" class=\"dataframe\">\n",
       "  <thead>\n",
       "    <tr style=\"text-align: right;\">\n",
       "      <th></th>\n",
       "      <th>Date</th>\n",
       "      <th>ARCB_df_logistics_Close</th>\n",
       "      <th>AIT_df_logistics_Close</th>\n",
       "      <th>CEVA_df_logistics_Close</th>\n",
       "      <th>FDX_df_logistics_Close</th>\n",
       "      <th>SAIA_df_logistics_Close</th>\n",
       "      <th>TFII.TO_df_logistics_Close</th>\n",
       "      <th>XPO_df_logistics_Close</th>\n",
       "      <th>ODFL_df_logistics_Close</th>\n",
       "      <th>UPS_df_logistics_Close</th>\n",
       "      <th>JBHT_df_logistics_Close</th>\n",
       "    </tr>\n",
       "  </thead>\n",
       "  <tbody>\n",
       "    <tr>\n",
       "      <th>0</th>\n",
       "      <td>2000-01-07</td>\n",
       "      <td>10.2456</td>\n",
       "      <td>4.2252</td>\n",
       "      <td>NaN</td>\n",
       "      <td>36.1330</td>\n",
       "      <td>NaN</td>\n",
       "      <td>NaN</td>\n",
       "      <td>NaN</td>\n",
       "      <td>0.4840</td>\n",
       "      <td>33.4329</td>\n",
       "      <td>2.6094</td>\n",
       "    </tr>\n",
       "    <tr>\n",
       "      <th>1</th>\n",
       "      <td>2000-01-14</td>\n",
       "      <td>10.2209</td>\n",
       "      <td>4.0500</td>\n",
       "      <td>NaN</td>\n",
       "      <td>37.6513</td>\n",
       "      <td>NaN</td>\n",
       "      <td>NaN</td>\n",
       "      <td>NaN</td>\n",
       "      <td>0.4914</td>\n",
       "      <td>33.7016</td>\n",
       "      <td>2.5821</td>\n",
       "    </tr>\n",
       "    <tr>\n",
       "      <th>2</th>\n",
       "      <td>2000-01-21</td>\n",
       "      <td>10.6344</td>\n",
       "      <td>4.3393</td>\n",
       "      <td>NaN</td>\n",
       "      <td>35.1930</td>\n",
       "      <td>NaN</td>\n",
       "      <td>NaN</td>\n",
       "      <td>NaN</td>\n",
       "      <td>0.5243</td>\n",
       "      <td>34.1281</td>\n",
       "      <td>2.5124</td>\n",
       "    </tr>\n",
       "    <tr>\n",
       "      <th>3</th>\n",
       "      <td>2000-01-28</td>\n",
       "      <td>9.9543</td>\n",
       "      <td>4.2880</td>\n",
       "      <td>NaN</td>\n",
       "      <td>33.1066</td>\n",
       "      <td>NaN</td>\n",
       "      <td>NaN</td>\n",
       "      <td>NaN</td>\n",
       "      <td>0.5354</td>\n",
       "      <td>32.7017</td>\n",
       "      <td>2.4714</td>\n",
       "    </tr>\n",
       "    <tr>\n",
       "      <th>4</th>\n",
       "      <td>2000-02-04</td>\n",
       "      <td>9.3568</td>\n",
       "      <td>4.2649</td>\n",
       "      <td>NaN</td>\n",
       "      <td>31.9144</td>\n",
       "      <td>NaN</td>\n",
       "      <td>NaN</td>\n",
       "      <td>NaN</td>\n",
       "      <td>0.5190</td>\n",
       "      <td>29.3584</td>\n",
       "      <td>2.5079</td>\n",
       "    </tr>\n",
       "    <tr>\n",
       "      <th>...</th>\n",
       "      <td>...</td>\n",
       "      <td>...</td>\n",
       "      <td>...</td>\n",
       "      <td>...</td>\n",
       "      <td>...</td>\n",
       "      <td>...</td>\n",
       "      <td>...</td>\n",
       "      <td>...</td>\n",
       "      <td>...</td>\n",
       "      <td>...</td>\n",
       "      <td>...</td>\n",
       "    </tr>\n",
       "    <tr>\n",
       "      <th>1324</th>\n",
       "      <td>2025-05-23</td>\n",
       "      <td>63.7080</td>\n",
       "      <td>226.5780</td>\n",
       "      <td>20.1420</td>\n",
       "      <td>219.8980</td>\n",
       "      <td>272.0360</td>\n",
       "      <td>121.3875</td>\n",
       "      <td>121.308</td>\n",
       "      <td>165.8267</td>\n",
       "      <td>96.9700</td>\n",
       "      <td>141.4160</td>\n",
       "    </tr>\n",
       "    <tr>\n",
       "      <th>1325</th>\n",
       "      <td>2025-05-30</td>\n",
       "      <td>63.9625</td>\n",
       "      <td>227.6050</td>\n",
       "      <td>19.1925</td>\n",
       "      <td>218.8175</td>\n",
       "      <td>269.3875</td>\n",
       "      <td>119.2300</td>\n",
       "      <td>117.125</td>\n",
       "      <td>161.9264</td>\n",
       "      <td>97.4825</td>\n",
       "      <td>139.3725</td>\n",
       "    </tr>\n",
       "    <tr>\n",
       "      <th>1326</th>\n",
       "      <td>2025-06-06</td>\n",
       "      <td>63.4820</td>\n",
       "      <td>228.9500</td>\n",
       "      <td>19.8700</td>\n",
       "      <td>218.5800</td>\n",
       "      <td>260.4360</td>\n",
       "      <td>118.7120</td>\n",
       "      <td>115.588</td>\n",
       "      <td>160.7950</td>\n",
       "      <td>97.8220</td>\n",
       "      <td>139.3440</td>\n",
       "    </tr>\n",
       "    <tr>\n",
       "      <th>1327</th>\n",
       "      <td>2025-06-13</td>\n",
       "      <td>69.1700</td>\n",
       "      <td>230.5940</td>\n",
       "      <td>21.0920</td>\n",
       "      <td>224.7040</td>\n",
       "      <td>259.1800</td>\n",
       "      <td>123.1960</td>\n",
       "      <td>121.270</td>\n",
       "      <td>162.9600</td>\n",
       "      <td>100.7700</td>\n",
       "      <td>141.6980</td>\n",
       "    </tr>\n",
       "    <tr>\n",
       "      <th>1328</th>\n",
       "      <td>2025-06-20</td>\n",
       "      <td>69.2600</td>\n",
       "      <td>230.0600</td>\n",
       "      <td>20.4700</td>\n",
       "      <td>226.7700</td>\n",
       "      <td>265.6100</td>\n",
       "      <td>123.8700</td>\n",
       "      <td>122.560</td>\n",
       "      <td>159.4500</td>\n",
       "      <td>101.0900</td>\n",
       "      <td>142.4900</td>\n",
       "    </tr>\n",
       "  </tbody>\n",
       "</table>\n",
       "<p>1329 rows × 11 columns</p>\n",
       "</div>"
      ],
      "text/plain": [
       "            Date  ARCB_df_logistics_Close  AIT_df_logistics_Close  \\\n",
       "0     2000-01-07                  10.2456                  4.2252   \n",
       "1     2000-01-14                  10.2209                  4.0500   \n",
       "2     2000-01-21                  10.6344                  4.3393   \n",
       "3     2000-01-28                   9.9543                  4.2880   \n",
       "4     2000-02-04                   9.3568                  4.2649   \n",
       "...          ...                      ...                     ...   \n",
       "1324  2025-05-23                  63.7080                226.5780   \n",
       "1325  2025-05-30                  63.9625                227.6050   \n",
       "1326  2025-06-06                  63.4820                228.9500   \n",
       "1327  2025-06-13                  69.1700                230.5940   \n",
       "1328  2025-06-20                  69.2600                230.0600   \n",
       "\n",
       "      CEVA_df_logistics_Close  FDX_df_logistics_Close  \\\n",
       "0                         NaN                 36.1330   \n",
       "1                         NaN                 37.6513   \n",
       "2                         NaN                 35.1930   \n",
       "3                         NaN                 33.1066   \n",
       "4                         NaN                 31.9144   \n",
       "...                       ...                     ...   \n",
       "1324                  20.1420                219.8980   \n",
       "1325                  19.1925                218.8175   \n",
       "1326                  19.8700                218.5800   \n",
       "1327                  21.0920                224.7040   \n",
       "1328                  20.4700                226.7700   \n",
       "\n",
       "      SAIA_df_logistics_Close  TFII.TO_df_logistics_Close  \\\n",
       "0                         NaN                         NaN   \n",
       "1                         NaN                         NaN   \n",
       "2                         NaN                         NaN   \n",
       "3                         NaN                         NaN   \n",
       "4                         NaN                         NaN   \n",
       "...                       ...                         ...   \n",
       "1324                 272.0360                    121.3875   \n",
       "1325                 269.3875                    119.2300   \n",
       "1326                 260.4360                    118.7120   \n",
       "1327                 259.1800                    123.1960   \n",
       "1328                 265.6100                    123.8700   \n",
       "\n",
       "      XPO_df_logistics_Close  ODFL_df_logistics_Close  UPS_df_logistics_Close  \\\n",
       "0                        NaN                   0.4840                 33.4329   \n",
       "1                        NaN                   0.4914                 33.7016   \n",
       "2                        NaN                   0.5243                 34.1281   \n",
       "3                        NaN                   0.5354                 32.7017   \n",
       "4                        NaN                   0.5190                 29.3584   \n",
       "...                      ...                      ...                     ...   \n",
       "1324                 121.308                 165.8267                 96.9700   \n",
       "1325                 117.125                 161.9264                 97.4825   \n",
       "1326                 115.588                 160.7950                 97.8220   \n",
       "1327                 121.270                 162.9600                100.7700   \n",
       "1328                 122.560                 159.4500                101.0900   \n",
       "\n",
       "      JBHT_df_logistics_Close  \n",
       "0                      2.6094  \n",
       "1                      2.5821  \n",
       "2                      2.5124  \n",
       "3                      2.4714  \n",
       "4                      2.5079  \n",
       "...                       ...  \n",
       "1324                 141.4160  \n",
       "1325                 139.3725  \n",
       "1326                 139.3440  \n",
       "1327                 141.6980  \n",
       "1328                 142.4900  \n",
       "\n",
       "[1329 rows x 11 columns]"
      ]
     },
     "execution_count": 78,
     "metadata": {},
     "output_type": "execute_result"
    }
   ],
   "source": [
    "df_logistics"
   ]
  },
  {
   "cell_type": "code",
   "execution_count": 79,
   "id": "2b0fe864",
   "metadata": {},
   "outputs": [
    {
     "data": {
      "application/vnd.microsoft.datawrangler.viewer.v0+json": {
       "columns": [
        {
         "name": "index",
         "rawType": "object",
         "type": "string"
        },
        {
         "name": "0",
         "rawType": "object",
         "type": "unknown"
        }
       ],
       "ref": "20dc4a21-5c6b-4f2f-895a-cef217b22764",
       "rows": [
        [
         "Date",
         "object"
        ],
        [
         "ARCB_df_logistics_Close",
         "float64"
        ],
        [
         "AIT_df_logistics_Close",
         "float64"
        ],
        [
         "CEVA_df_logistics_Close",
         "float64"
        ],
        [
         "FDX_df_logistics_Close",
         "float64"
        ],
        [
         "SAIA_df_logistics_Close",
         "float64"
        ],
        [
         "TFII.TO_df_logistics_Close",
         "float64"
        ],
        [
         "XPO_df_logistics_Close",
         "float64"
        ],
        [
         "ODFL_df_logistics_Close",
         "float64"
        ],
        [
         "UPS_df_logistics_Close",
         "float64"
        ],
        [
         "JBHT_df_logistics_Close",
         "float64"
        ]
       ],
       "shape": {
        "columns": 1,
        "rows": 11
       }
      },
      "text/plain": [
       "Date                           object\n",
       "ARCB_df_logistics_Close       float64\n",
       "AIT_df_logistics_Close        float64\n",
       "CEVA_df_logistics_Close       float64\n",
       "FDX_df_logistics_Close        float64\n",
       "SAIA_df_logistics_Close       float64\n",
       "TFII.TO_df_logistics_Close    float64\n",
       "XPO_df_logistics_Close        float64\n",
       "ODFL_df_logistics_Close       float64\n",
       "UPS_df_logistics_Close        float64\n",
       "JBHT_df_logistics_Close       float64\n",
       "dtype: object"
      ]
     },
     "execution_count": 79,
     "metadata": {},
     "output_type": "execute_result"
    }
   ],
   "source": [
    "df_logistics.dtypes"
   ]
  },
  {
   "cell_type": "code",
   "execution_count": 80,
   "id": "09f2840c",
   "metadata": {},
   "outputs": [],
   "source": [
    "df_logistics['Date'] = pd.to_datetime(df_logistics[\"Date\"], errors=\"raise\")"
   ]
  },
  {
   "cell_type": "code",
   "execution_count": 81,
   "id": "8e79c62f",
   "metadata": {},
   "outputs": [],
   "source": [
    "df_merged = df_wm_train.merge(\n",
    "    df_logistics,\n",
    "    on=\"Date\",\n",
    "    how=\"left\",\n",
    "    validate=\"many_to_one\"\n",
    ")"
   ]
  },
  {
   "cell_type": "code",
   "execution_count": 82,
   "id": "43a70cb4",
   "metadata": {},
   "outputs": [],
   "source": [
    "df_wm_train = df_merged"
   ]
  },
  {
   "cell_type": "markdown",
   "id": "dc856701",
   "metadata": {},
   "source": [
    "#### Official China PMI (Caixin PMI only starts in 2014)"
   ]
  },
  {
   "cell_type": "code",
   "execution_count": 83,
   "id": "20a111a6",
   "metadata": {},
   "outputs": [
    {
     "data": {
      "application/vnd.microsoft.datawrangler.viewer.v0+json": {
       "columns": [
        {
         "name": "index",
         "rawType": "int64",
         "type": "integer"
        },
        {
         "name": "Date",
         "rawType": "object",
         "type": "string"
        },
        {
         "name": "Official_Manufacturing_PMI",
         "rawType": "float64",
         "type": "float"
        },
        {
         "name": "Official_Manufacturing_PMI_YoY",
         "rawType": "float64",
         "type": "float"
        },
        {
         "name": "Official_Services_PMI",
         "rawType": "float64",
         "type": "float"
        },
        {
         "name": "Official_Services_PMI_YoY",
         "rawType": "float64",
         "type": "float"
        }
       ],
       "ref": "2dc08dcd-7711-4245-b90c-1bb957d19619",
       "rows": [
        [
         "0",
         "2009-01-01",
         "45.3",
         "-14.52830189",
         "53.7",
         "-10.79734219"
        ],
        [
         "1",
         "2009-02-01",
         "49.0",
         "-8.23970037",
         "55.1",
         "-7.08263069"
        ],
        [
         "2",
         "2009-03-01",
         "52.4",
         "-10.2739726",
         "54.4",
         "-7.64006791"
        ],
        [
         "3",
         "2009-04-01",
         "53.5",
         "-9.62837838",
         "53.5",
         "-8.39041096"
        ],
        [
         "4",
         "2009-05-01",
         "53.1",
         "-0.37523452",
         "54.9",
         "-4.3554007"
        ],
        [
         "5",
         "2009-06-01",
         "53.2",
         "2.30769231",
         "55.4",
         "-3.48432056"
        ],
        [
         "6",
         "2009-07-01",
         "53.3",
         "10.12396694",
         "57.3",
         "2.87253142"
        ],
        [
         "7",
         "2009-08-01",
         "54.0",
         "11.57024793",
         "57.3",
         "8.31758034"
        ],
        [
         "8",
         "2009-09-01",
         "54.3",
         "6.0546875",
         "57.9",
         "5.27272727"
        ],
        [
         "9",
         "2009-10-01",
         "55.2",
         "23.76681614",
         "59.5",
         "12.0527307"
        ],
        [
         "10",
         "2009-11-01",
         "55.2",
         "42.26804124",
         "58.4",
         "14.0625"
        ],
        [
         "11",
         "2009-12-01",
         "56.6",
         "37.37864078",
         "58.8",
         "15.7480315"
        ],
        [
         "12",
         "2010-01-01",
         "55.8",
         "23.17880795",
         "58.1",
         "8.19366853"
        ],
        [
         "13",
         "2010-02-01",
         "52.0",
         "6.12244898",
         "57.0",
         "3.44827586"
        ],
        [
         "14",
         "2010-03-01",
         "55.1",
         "5.15267176",
         "57.3",
         "5.33088235"
        ],
        [
         "15",
         "2010-04-01",
         "55.7",
         "4.11214953",
         "57.8",
         "8.03738318"
        ],
        [
         "16",
         "2010-05-01",
         "53.9",
         "1.50659134",
         "58.1",
         "5.8287796"
        ],
        [
         "17",
         "2010-06-01",
         "52.1",
         "-2.06766917",
         "58.8",
         "6.13718412"
        ],
        [
         "18",
         "2010-07-01",
         "51.2",
         "-3.93996248",
         "57.1",
         "-0.34904014"
        ],
        [
         "19",
         "2010-08-01",
         "51.7",
         "-4.25925926",
         "58.0",
         "1.22164049"
        ],
        [
         "20",
         "2010-09-01",
         "53.8",
         "-0.92081031",
         "57.9",
         "0.0"
        ],
        [
         "21",
         "2010-10-01",
         "54.7",
         "-0.9057971",
         "57.4",
         "-3.52941176"
        ],
        [
         "22",
         "2010-11-01",
         "55.2",
         "0.0",
         "58.9",
         "0.85616438"
        ],
        [
         "23",
         "2010-12-01",
         "53.9",
         "-4.77031802",
         "58.8",
         "0.0"
        ],
        [
         "24",
         "2011-01-01",
         "52.9",
         "-5.19713262",
         "57.2",
         "-1.54905336"
        ],
        [
         "25",
         "2011-02-01",
         "52.2",
         "0.38461538",
         "57.0",
         "0.0"
        ],
        [
         "26",
         "2011-03-01",
         "53.4",
         "-3.08529946",
         "59.2",
         "3.31588133"
        ],
        [
         "27",
         "2011-04-01",
         "52.9",
         "-5.02692998",
         "58.2",
         "0.69204152"
        ],
        [
         "28",
         "2011-05-01",
         "52.0",
         "-3.52504638",
         "58.7",
         "1.03270224"
        ],
        [
         "29",
         "2011-06-01",
         "50.9",
         "-2.30326296",
         "56.6",
         "-3.7414966"
        ],
        [
         "30",
         "2011-07-01",
         "50.7",
         "-0.9765625",
         "57.3",
         "0.3502627"
        ],
        [
         "31",
         "2011-08-01",
         "50.9",
         "-1.54738878",
         "57.1",
         "-1.55172414"
        ],
        [
         "32",
         "2011-09-01",
         "51.2",
         "-4.83271375",
         "55.8",
         "-3.62694301"
        ],
        [
         "33",
         "2011-10-01",
         "50.4",
         "-7.86106033",
         "55.5",
         "-3.31010453"
        ],
        [
         "34",
         "2011-11-01",
         "49.0",
         "-11.23188406",
         "55.9",
         "-5.09337861"
        ],
        [
         "35",
         "2011-12-01",
         "50.3",
         "-6.67903525",
         "56.3",
         "-4.25170068"
        ],
        [
         "36",
         "2012-01-01",
         "50.5",
         "-4.536862",
         "55.7",
         "-2.62237762"
        ],
        [
         "37",
         "2012-02-01",
         "51.0",
         "-2.29885057",
         "57.3",
         "0.52631579"
        ],
        [
         "38",
         "2012-03-01",
         "53.1",
         "-0.56179775",
         "58.0",
         "-2.02702703"
        ],
        [
         "39",
         "2012-04-01",
         "53.3",
         "0.75614367",
         "56.1",
         "-3.60824742"
        ],
        [
         "40",
         "2012-05-01",
         "50.4",
         "-3.07692308",
         "55.2",
         "-5.96252129"
        ],
        [
         "41",
         "2012-06-01",
         "50.2",
         "-1.37524558",
         "56.7",
         "0.17667845"
        ],
        [
         "42",
         "2012-07-01",
         "50.1",
         "-1.18343195",
         "55.6",
         "-2.96684119"
        ],
        [
         "43",
         "2012-08-01",
         "49.2",
         "-3.33988212",
         "56.3",
         "-1.40105079"
        ],
        [
         "44",
         "2012-09-01",
         "49.8",
         "-2.734375",
         "53.7",
         "-3.76344086"
        ],
        [
         "45",
         "2012-10-01",
         "50.2",
         "-0.3968254",
         "55.5",
         "0.0"
        ],
        [
         "46",
         "2012-11-01",
         "50.6",
         "3.26530612",
         "55.6",
         "-0.53667263"
        ],
        [
         "47",
         "2012-12-01",
         "50.6",
         "0.59642147",
         "56.1",
         "-0.35523979"
        ],
        [
         "48",
         "2013-01-01",
         "50.4",
         "-0.1980198",
         "56.2",
         "0.89766607"
        ],
        [
         "49",
         "2013-02-01",
         "50.1",
         "-1.76470588",
         "54.5",
         "-4.88656195"
        ]
       ],
       "shape": {
        "columns": 5,
        "rows": 72
       }
      },
      "text/html": [
       "<div>\n",
       "<style scoped>\n",
       "    .dataframe tbody tr th:only-of-type {\n",
       "        vertical-align: middle;\n",
       "    }\n",
       "\n",
       "    .dataframe tbody tr th {\n",
       "        vertical-align: top;\n",
       "    }\n",
       "\n",
       "    .dataframe thead th {\n",
       "        text-align: right;\n",
       "    }\n",
       "</style>\n",
       "<table border=\"1\" class=\"dataframe\">\n",
       "  <thead>\n",
       "    <tr style=\"text-align: right;\">\n",
       "      <th></th>\n",
       "      <th>Date</th>\n",
       "      <th>Official_Manufacturing_PMI</th>\n",
       "      <th>Official_Manufacturing_PMI_YoY</th>\n",
       "      <th>Official_Services_PMI</th>\n",
       "      <th>Official_Services_PMI_YoY</th>\n",
       "    </tr>\n",
       "  </thead>\n",
       "  <tbody>\n",
       "    <tr>\n",
       "      <th>0</th>\n",
       "      <td>2009-01-01</td>\n",
       "      <td>45.3</td>\n",
       "      <td>-14.528302</td>\n",
       "      <td>53.7</td>\n",
       "      <td>-10.797342</td>\n",
       "    </tr>\n",
       "    <tr>\n",
       "      <th>1</th>\n",
       "      <td>2009-02-01</td>\n",
       "      <td>49.0</td>\n",
       "      <td>-8.239700</td>\n",
       "      <td>55.1</td>\n",
       "      <td>-7.082631</td>\n",
       "    </tr>\n",
       "    <tr>\n",
       "      <th>2</th>\n",
       "      <td>2009-03-01</td>\n",
       "      <td>52.4</td>\n",
       "      <td>-10.273973</td>\n",
       "      <td>54.4</td>\n",
       "      <td>-7.640068</td>\n",
       "    </tr>\n",
       "    <tr>\n",
       "      <th>3</th>\n",
       "      <td>2009-04-01</td>\n",
       "      <td>53.5</td>\n",
       "      <td>-9.628378</td>\n",
       "      <td>53.5</td>\n",
       "      <td>-8.390411</td>\n",
       "    </tr>\n",
       "    <tr>\n",
       "      <th>4</th>\n",
       "      <td>2009-05-01</td>\n",
       "      <td>53.1</td>\n",
       "      <td>-0.375235</td>\n",
       "      <td>54.9</td>\n",
       "      <td>-4.355401</td>\n",
       "    </tr>\n",
       "    <tr>\n",
       "      <th>...</th>\n",
       "      <td>...</td>\n",
       "      <td>...</td>\n",
       "      <td>...</td>\n",
       "      <td>...</td>\n",
       "      <td>...</td>\n",
       "    </tr>\n",
       "    <tr>\n",
       "      <th>67</th>\n",
       "      <td>2014-08-01</td>\n",
       "      <td>51.1</td>\n",
       "      <td>0.196078</td>\n",
       "      <td>54.4</td>\n",
       "      <td>0.927644</td>\n",
       "    </tr>\n",
       "    <tr>\n",
       "      <th>68</th>\n",
       "      <td>2014-09-01</td>\n",
       "      <td>51.1</td>\n",
       "      <td>0.000000</td>\n",
       "      <td>54.0</td>\n",
       "      <td>-2.527076</td>\n",
       "    </tr>\n",
       "    <tr>\n",
       "      <th>69</th>\n",
       "      <td>2014-10-01</td>\n",
       "      <td>50.8</td>\n",
       "      <td>-1.167315</td>\n",
       "      <td>53.8</td>\n",
       "      <td>-4.440497</td>\n",
       "    </tr>\n",
       "    <tr>\n",
       "      <th>70</th>\n",
       "      <td>2014-11-01</td>\n",
       "      <td>50.3</td>\n",
       "      <td>-2.140078</td>\n",
       "      <td>53.9</td>\n",
       "      <td>-3.750000</td>\n",
       "    </tr>\n",
       "    <tr>\n",
       "      <th>71</th>\n",
       "      <td>2014-12-01</td>\n",
       "      <td>50.1</td>\n",
       "      <td>-1.764706</td>\n",
       "      <td>54.1</td>\n",
       "      <td>-0.915751</td>\n",
       "    </tr>\n",
       "  </tbody>\n",
       "</table>\n",
       "<p>72 rows × 5 columns</p>\n",
       "</div>"
      ],
      "text/plain": [
       "          Date  Official_Manufacturing_PMI  Official_Manufacturing_PMI_YoY  \\\n",
       "0   2009-01-01                        45.3                      -14.528302   \n",
       "1   2009-02-01                        49.0                       -8.239700   \n",
       "2   2009-03-01                        52.4                      -10.273973   \n",
       "3   2009-04-01                        53.5                       -9.628378   \n",
       "4   2009-05-01                        53.1                       -0.375235   \n",
       "..         ...                         ...                             ...   \n",
       "67  2014-08-01                        51.1                        0.196078   \n",
       "68  2014-09-01                        51.1                        0.000000   \n",
       "69  2014-10-01                        50.8                       -1.167315   \n",
       "70  2014-11-01                        50.3                       -2.140078   \n",
       "71  2014-12-01                        50.1                       -1.764706   \n",
       "\n",
       "    Official_Services_PMI  Official_Services_PMI_YoY  \n",
       "0                    53.7                 -10.797342  \n",
       "1                    55.1                  -7.082631  \n",
       "2                    54.4                  -7.640068  \n",
       "3                    53.5                  -8.390411  \n",
       "4                    54.9                  -4.355401  \n",
       "..                    ...                        ...  \n",
       "67                   54.4                   0.927644  \n",
       "68                   54.0                  -2.527076  \n",
       "69                   53.8                  -4.440497  \n",
       "70                   53.9                  -3.750000  \n",
       "71                   54.1                  -0.915751  \n",
       "\n",
       "[72 rows x 5 columns]"
      ]
     },
     "execution_count": 83,
     "metadata": {},
     "output_type": "execute_result"
    }
   ],
   "source": [
    "df_pmi_china"
   ]
  },
  {
   "cell_type": "code",
   "execution_count": 84,
   "id": "5df2be3e",
   "metadata": {},
   "outputs": [
    {
     "data": {
      "application/vnd.microsoft.datawrangler.viewer.v0+json": {
       "columns": [
        {
         "name": "index",
         "rawType": "int64",
         "type": "integer"
        },
        {
         "name": "Store",
         "rawType": "object",
         "type": "string"
        },
        {
         "name": "Dept",
         "rawType": "int64",
         "type": "integer"
        },
        {
         "name": "Date",
         "rawType": "datetime64[ns]",
         "type": "datetime"
        },
        {
         "name": "Weekly_Sales",
         "rawType": "float64",
         "type": "float"
        },
        {
         "name": "IsHoliday",
         "rawType": "bool",
         "type": "boolean"
        },
        {
         "name": "SP500_Weekly_Mean_Close",
         "rawType": "float64",
         "type": "float"
        },
        {
         "name": "WMT_Weekly_Mean_Close",
         "rawType": "float64",
         "type": "float"
        },
        {
         "name": "ARCB_df_logistics_Close",
         "rawType": "float64",
         "type": "float"
        },
        {
         "name": "AIT_df_logistics_Close",
         "rawType": "float64",
         "type": "float"
        },
        {
         "name": "CEVA_df_logistics_Close",
         "rawType": "float64",
         "type": "float"
        },
        {
         "name": "FDX_df_logistics_Close",
         "rawType": "float64",
         "type": "float"
        },
        {
         "name": "SAIA_df_logistics_Close",
         "rawType": "float64",
         "type": "float"
        },
        {
         "name": "TFII.TO_df_logistics_Close",
         "rawType": "float64",
         "type": "float"
        },
        {
         "name": "XPO_df_logistics_Close",
         "rawType": "float64",
         "type": "float"
        },
        {
         "name": "ODFL_df_logistics_Close",
         "rawType": "float64",
         "type": "float"
        },
        {
         "name": "UPS_df_logistics_Close",
         "rawType": "float64",
         "type": "float"
        },
        {
         "name": "JBHT_df_logistics_Close",
         "rawType": "float64",
         "type": "float"
        }
       ],
       "ref": "ca01ea18-e7f2-494e-9280-804c8473ed7f",
       "rows": [
        [
         "0",
         "1",
         "1",
         "2010-02-05 00:00:00",
         "24924.5",
         "False",
         "1083.81796875",
         "12.849576950073242",
         "19.7749",
         "16.3716",
         "11.386",
         "67.5286",
         "8.1133",
         "5.9522",
         "1.732",
         "4.0012",
         "35.1546",
         "26.3251"
        ],
        [
         "1",
         "1",
         "1",
         "2010-02-12 00:00:00",
         "46039.49",
         "True",
         "1069.8739990234376",
         "12.74108009338379",
         "19.9706",
         "16.2364",
         "11.006",
         "66.1162",
         "8.14",
         "5.7845",
         "1.7154",
         "4.0306",
         "34.4932",
         "26.7885"
        ],
        [
         "2",
         "1",
         "1",
         "2010-02-19 00:00:00",
         "41595.55",
         "False",
         "1102.5750122070312",
         "12.876699209213257",
         "21.8988",
         "16.8577",
         "11.7",
         "67.7903",
         "7.66",
         "5.8391",
         "1.8538",
         "4.1189",
         "35.0687",
         "27.9924"
        ],
        [
         "3",
         "1",
         "1",
         "2010-02-26 00:00:00",
         "19403.54",
         "False",
         "1103.0559814453125",
         "12.942227554321288",
         "22.6758",
         "17.1335",
         "11.864",
         "69.9236",
         "8.0707",
         "6.2608",
         "1.9285",
         "4.3097",
         "35.6784",
         "29.4901"
        ],
        [
         "4",
         "1",
         "1",
         "2010-03-05 00:00:00",
         "21827.9",
         "False",
         "1122.89599609375",
         "12.925909423828124",
         "23.9654",
         "17.7752",
         "12.288",
         "72.5866",
         "8.424",
         "6.8441",
         "1.9368",
         "4.3818",
         "36.1191",
         "29.9464"
        ],
        [
         "5",
         "1",
         "1",
         "2010-03-12 00:00:00",
         "21043.39",
         "False",
         "1144.9579833984376",
         "12.991690254211424",
         "25.4786",
         "18.3684",
         "12.87",
         "73.1294",
         "9.3347",
         "7.0724",
         "1.9174",
         "4.7404",
         "37.3069",
         "30.6903"
        ],
        [
         "6",
         "1",
         "1",
         "2010-03-19 00:00:00",
         "22136.64",
         "False",
         "1160.381982421875",
         "13.450643730163574",
         "26.1065",
         "18.5289",
         "12.802",
         "75.9375",
         "9.3733",
         "7.0217",
         "2.0281",
         "4.8316",
         "38.6741",
         "31.0829"
        ],
        [
         "7",
         "1",
         "1",
         "2010-03-26 00:00:00",
         "26229.21",
         "False",
         "1168.00400390625",
         "13.431332397460938",
         "26.2467",
         "18.7317",
         "12.33",
         "76.5889",
         "9.392",
         "6.971",
         "2.1747",
         "4.7621",
         "39.0233",
         "31.0949"
        ],
        [
         "8",
         "1",
         "1",
         "2010-04-02 00:00:00",
         "57258.43",
         "False",
         "1173.5050048828125",
         "13.441711187362673",
         "26.5553",
         "18.8913",
         "11.8775",
         "78.1812",
         "9.38",
         "7.0737",
         "2.1028",
         "4.7513",
         "39.2497",
         "30.7411"
        ],
        [
         "9",
         "1",
         "1",
         "2010-04-09 00:00:00",
         "42960.91",
         "False",
         "1188.0279541015625",
         "13.36084804534912",
         "26.4684",
         "19.4354",
         "11.438",
         "77.2032",
         "9.6947",
         "7.2592",
         "2.0143",
         "4.932",
         "39.1588",
         "30.7712"
        ],
        [
         "10",
         "1",
         "1",
         "2010-04-16 00:00:00",
         "17596.96",
         "False",
         "1201.6460205078124",
         "13.161457824707032",
         "26.7114",
         "19.9197",
         "11.52",
         "78.479",
         "10.0213",
         "7.2236",
         "2.0779",
         "5.1359",
         "40.5516",
         "31.6769"
        ],
        [
         "11",
         "1",
         "1",
         "2010-04-23 00:00:00",
         "16145.35",
         "False",
         "1207.316015625",
         "13.150838661193848",
         "27.8769",
         "20.7279",
         "12.514",
         "77.7314",
         "10.0733",
         "7.2705",
         "2.053",
         "5.2534",
         "41.6991",
         "31.8061"
        ],
        [
         "12",
         "1",
         "1",
         "2010-04-30 00:00:00",
         "16555.11",
         "False",
         "1196.1179931640625",
         "12.988143157958984",
         "27.6072",
         "22.8709",
         "12.59",
         "76.8944",
         "10.7627",
         "7.4357",
         "2.0751",
         "5.2623",
         "41.7357",
         "31.9214"
        ],
        [
         "13",
         "1",
         "1",
         "2010-05-07 00:00:00",
         "17413.94",
         "False",
         "1156.152001953125",
         "12.946140480041503",
         "25.6541",
         "21.9174",
         "11.936",
         "74.174",
         "10.804",
         "7.5439",
         "2.0696",
         "5.1096",
         "40.9862",
         "30.8177"
        ],
        [
         "14",
         "1",
         "1",
         "2010-05-14 00:00:00",
         "18926.74",
         "False",
         "1156.06201171875",
         "12.694713973999024",
         "25.7038",
         "22.5138",
         "12.346",
         "74.1656",
         "11.0307",
         "7.5012",
         "2.1139",
         "5.3312",
         "41.0362",
         "30.5857"
        ],
        [
         "15",
         "1",
         "1",
         "2010-05-21 00:00:00",
         "14773.04",
         "False",
         "1106.4139892578123",
         "12.72951431274414",
         "24.2301",
         "21.403",
         "12.194",
         "70.5744",
         "10.3493",
         "7.0883",
         "2.0336",
         "5.2005",
         "39.5533",
         "29.9597"
        ],
        [
         "16",
         "1",
         "1",
         "2010-05-28 00:00:00",
         "15580.43",
         "False",
         "1081.62001953125",
         "12.263841819763185",
         "20.7321",
         "20.7124",
         "11.408",
         "69.4387",
         "9.6947",
         "6.9029",
         "1.9285",
         "5.0235",
         "38.3401",
         "29.4293"
        ],
        [
         "17",
         "1",
         "1",
         "2010-06-04 00:00:00",
         "17558.09",
         "False",
         "1084.1999816894531",
         "12.428454160690308",
         "20.1022",
         "20.7964",
         "11.4925",
         "69.1822",
         "9.695",
         "6.9915",
         "1.8918",
         "5.0776",
         "38.0024",
         "29.2885"
        ],
        [
         "18",
         "1",
         "1",
         "2010-06-11 00:00:00",
         "16637.62",
         "False",
         "1069.319970703125",
         "12.36241569519043",
         "19.0222",
         "19.859",
         "11.31",
         "66.4297",
         "9.5533",
         "6.795",
         "1.8427",
         "4.8808",
         "36.6401",
         "28.4307"
        ],
        [
         "19",
         "1",
         "1",
         "2010-06-18 00:00:00",
         "16216.27",
         "False",
         "1110.60400390625",
         "12.470700454711912",
         "19.3755",
         "20.8249",
         "11.986",
         "67.4742",
         "10.2787",
         "6.9573",
         "1.8759",
         "5.2643",
         "38.2098",
         "30.4175"
        ],
        [
         "20",
         "1",
         "1",
         "2010-06-25 00:00:00",
         "16328.72",
         "False",
         "1090.2",
         "12.204601097106934",
         "18.1379",
         "20.1769",
         "12.068",
         "64.7785",
         "9.7493",
         "6.9645",
         "1.9063",
         "5.0246",
         "37.2928",
         "29.0336"
        ],
        [
         "21",
         "1",
         "1",
         "2010-07-02 00:00:00",
         "16333.14",
         "False",
         "1039.2939819335938",
         "11.793799018859865",
         "18.1326",
         "19.3813",
         "12.472",
         "60.8694",
         "9.9267",
         "6.7502",
         "1.7514",
         "5.0198",
         "35.5018",
         "28.5412"
        ],
        [
         "22",
         "1",
         "1",
         "2010-07-09 00:00:00",
         "17688.76",
         "False",
         "1059.135009765625",
         "11.902813196182253",
         "18.2134",
         "19.0642",
         "12.56",
         "61.5796",
         "10.2967",
         "6.3867",
         "1.7604",
         "5.019",
         "36.3675",
         "28.9645"
        ],
        [
         "23",
         "1",
         "1",
         "2010-07-16 00:00:00",
         "17150.84",
         "False",
         "1086.1239990234376",
         "12.192463684082032",
         "19.3791",
         "19.5167",
         "12.61",
         "64.5622",
         "10.504",
         "6.7434",
         "1.9728",
         "5.1865",
         "37.3801",
         "30.1359"
        ],
        [
         "24",
         "1",
         "1",
         "2010-07-23 00:00:00",
         "15360.45",
         "False",
         "1084.1300048828125",
         "12.298804473876952",
         "19.1216",
         "20.65",
         "12.356",
         "64.6315",
         "10.0853",
         "6.8182",
         "1.9257",
         "5.2239",
         "37.8804",
         "30.3726"
        ],
        [
         "25",
         "1",
         "1",
         "2010-07-30 00:00:00",
         "15381.82",
         "False",
         "1107.6219970703123",
         "12.405147171020507",
         "20.3255",
         "21.4319",
         "12.924",
         "69.8369",
         "10.2107",
         "6.9835",
         "1.9589",
         "5.5977",
         "39.793",
         "30.8856"
        ],
        [
         "26",
         "1",
         "1",
         "2010-08-06 00:00:00",
         "17508.41",
         "False",
         "1124.202001953125",
         "12.51391887664795",
         "19.9329",
         "21.9171",
         "12.672",
         "71.8717",
         "9.2907",
         "7.25",
         "1.8953",
         "5.4493",
         "41.1414",
         "31.0418"
        ],
        [
         "27",
         "1",
         "1",
         "2010-08-13 00:00:00",
         "15536.4",
         "False",
         "1100.2360107421875",
         "12.480227851867676",
         "18.3809",
         "21.2284",
         "12.3",
         "71.0267",
         "8.2067",
         "7.1705",
         "1.9617",
         "5.2182",
         "40.5263",
         "29.6515"
        ],
        [
         "28",
         "1",
         "1",
         "2010-08-20 00:00:00",
         "15740.13",
         "False",
         "1082.6800048828125",
         "12.3359037399292",
         "17.7266",
         "20.8296",
         "11.63",
         "69.5614",
         "8.1867",
         "7.0425",
         "1.9534",
         "5.3086",
         "40.5313",
         "29.2164"
        ],
        [
         "29",
         "1",
         "1",
         "2010-08-27 00:00:00",
         "15793.87",
         "False",
         "1057.273974609375",
         "12.50147876739502",
         "18.036",
         "20.095",
         "11.842",
         "67.3491",
         "8.132",
         "7.0353",
         "1.8731",
         "5.2168",
         "39.6597",
         "28.6253"
        ],
        [
         "30",
         "1",
         "1",
         "2010-09-03 00:00:00",
         "16241.78",
         "False",
         "1074.6300048828125",
         "12.488291358947754",
         "18.8468",
         "21.4204",
         "12.498",
         "68.0538",
         "8.1587",
         "7.1619",
         "1.9063",
         "5.252",
         "40.696",
         "29.2806"
        ],
        [
         "31",
         "1",
         "1",
         "2010-09-10 00:00:00",
         "18194.74",
         "True",
         "1101.1100158691406",
         "12.672545433044434",
         "19.9758",
         "22.1456",
         "13.0025",
         "70.6869",
         "8.695",
         "7.3326",
         "2.1547",
         "5.3736",
         "41.7945",
         "29.6104"
        ],
        [
         "32",
         "1",
         "1",
         "2010-09-17 00:00:00",
         "19354.23",
         "False",
         "1123.6639892578123",
         "12.88879108428955",
         "21.0568",
         "22.7781",
         "13.534",
         "71.1968",
         "9.0613",
         "7.1878",
         "2.1969",
         "5.4776",
         "41.606",
         "30.3293"
        ],
        [
         "33",
         "1",
         "1",
         "2010-09-24 00:00:00",
         "18122.52",
         "False",
         "1138.05400390625",
         "13.121766471862792",
         "21.1013",
         "22.902",
         "13.596",
         "70.7026",
         "9.1547",
         "7.1604",
         "2.2218",
         "5.496",
         "41.4859",
         "30.6951"
        ],
        [
         "34",
         "1",
         "1",
         "2010-10-01 00:00:00",
         "20094.19",
         "False",
         "1144.4059814453126",
         "13.06657600402832",
         "21.4409",
         "23.5235",
         "14.242",
         "72.1514",
         "9.7507",
         "7.4488",
         "2.5621",
         "5.4892",
         "41.3695",
         "30.3449"
        ],
        [
         "35",
         "1",
         "1",
         "2010-10-08 00:00:00",
         "23388.03",
         "False",
         "1156.1920166015625",
         "13.231171798706054",
         "21.3342",
         "23.8342",
         "15.004",
         "73.8067",
         "9.6693",
         "7.7422",
         "3.0767",
         "5.3892",
         "41.689",
         "30.4316"
        ],
        [
         "36",
         "1",
         "1",
         "2010-10-15 00:00:00",
         "26978.34",
         "False",
         "1172.63798828125",
         "13.135930061340332",
         "21.8694",
         "24.3484",
         "15.908",
         "75.3418",
         "9.6813",
         "8.0582",
         "3.2483",
         "5.5033",
         "42.339",
         "31.0123"
        ],
        [
         "37",
         "1",
         "1",
         "2010-10-22 00:00:00",
         "25543.04",
         "False",
         "1178.4239990234375",
         "13.120789909362792",
         "22.529",
         "24.8061",
         "16.028",
         "74.9729",
         "9.436",
         "8.1199",
         "3.3451",
         "5.5788",
         "43.0014",
         "31.3365"
        ],
        [
         "38",
         "1",
         "1",
         "2010-10-29 00:00:00",
         "38640.93",
         "False",
         "1184.15",
         "13.217982864379882",
         "22.6286",
         "23.9352",
         "17.736",
         "75.1286",
         "9.3587",
         "8.5644",
         "3.4475",
         "5.8529",
         "42.3093",
         "31.4682"
        ],
        [
         "39",
         "1",
         "1",
         "2010-11-05 00:00:00",
         "34238.88",
         "False",
         "1204.5639892578124",
         "13.410420227050782",
         "23.1423",
         "23.401",
         "19.204",
         "74.4194",
         "9.8413",
         "8.5557",
         "3.6384",
         "6.0408",
         "42.521",
         "31.7959"
        ],
        [
         "40",
         "1",
         "1",
         "2010-11-12 00:00:00",
         "19549.39",
         "False",
         "1213.6219970703123",
         "13.330810356140136",
         "21.9286",
         "23.8797",
         "21.02",
         "74.8459",
         "9.8453",
         "8.3378",
         "3.5886",
         "5.9923",
         "42.634",
         "31.9911"
        ],
        [
         "41",
         "1",
         "1",
         "2010-11-19 00:00:00",
         "19552.84",
         "False",
         "1190.219970703125",
         "13.204309272766114",
         "21.553",
         "23.6863",
         "21.988",
         "73.1202",
         "9.9093",
         "8.2216",
         "3.6937",
         "5.9829",
         "42.3975",
         "31.8264"
        ],
        [
         "42",
         "1",
         "1",
         "2010-11-26 00:00:00",
         "18820.29",
         "True",
         "1191.5799865722656",
         "13.175003051757812",
         "21.9659",
         "23.7055",
         "22.4925",
         "74.0361",
         "10.1567",
         "8.2347",
         "3.2822",
         "6.2545",
         "42.9523",
         "32.2129"
        ],
        [
         "43",
         "1",
         "1",
         "2010-12-03 00:00:00",
         "22517.56",
         "False",
         "1204.1239990234376",
         "13.285385704040529",
         "23.3081",
         "23.4477",
         "22.834",
         "79.1374",
         "10.228",
         "8.4584",
         "3.157",
         "6.3642",
         "44.2687",
         "32.7899"
        ],
        [
         "44",
         "1",
         "1",
         "2010-12-10 00:00:00",
         "31497.65",
         "False",
         "1229.710009765625",
         "13.362656784057616",
         "25.1683",
         "23.8833",
         "23.39",
         "79.1238",
         "10.652",
         "8.8201",
         "3.0297",
         "6.6259",
         "45.0429",
         "34.8144"
        ],
        [
         "45",
         "1",
         "1",
         "2010-12-17 00:00:00",
         "44912.86",
         "False",
         "1240.8119873046876",
         "13.354933547973634",
         "24.6823",
         "24.365",
         "21.102",
         "79.2069",
         "10.624",
         "9.1818",
         "3.0989",
         "6.5478",
         "45.4318",
         "34.5657"
        ],
        [
         "46",
         "1",
         "1",
         "2010-12-24 00:00:00",
         "55931.23",
         "False",
         "1254.3224792480469",
         "13.15762734413147",
         "23.9307",
         "24.9387",
         "20.635",
         "79.159",
         "10.7883",
         "9.3779",
         "3.1853",
         "6.7376",
         "45.3785",
         "35.0674"
        ],
        [
         "47",
         "1",
         "1",
         "2010-12-31 00:00:00",
         "19124.58",
         "True",
         "1258.27001953125",
         "13.230185317993165",
         "24.1768",
         "25.2438",
         "20.494",
         "78.7832",
         "10.9973",
         "9.2736",
         "3.2815",
         "6.8223",
         "45.3221",
         "35.3501"
        ],
        [
         "48",
         "1",
         "1",
         "2011-01-07 00:00:00",
         "15984.24",
         "False",
         "1272.79599609375",
         "13.347564888000488",
         "24.1287",
         "24.9222",
         "22.176",
         "79.0561",
         "10.736",
         "9.5079",
         "3.619",
         "6.9819",
         "45.2872",
         "36.0927"
        ],
        [
         "49",
         "1",
         "1",
         "2011-01-14 00:00:00",
         "17359.7",
         "False",
         "1281.43798828125",
         "13.381450271606443",
         "23.082",
         "25.3947",
         "24.512",
         "80.3103",
         "10.3867",
         "9.7509",
         "3.6854",
         "7.0355",
         "44.9494",
         "36.4788"
        ]
       ],
       "shape": {
        "columns": 17,
        "rows": 421570
       }
      },
      "text/html": [
       "<div>\n",
       "<style scoped>\n",
       "    .dataframe tbody tr th:only-of-type {\n",
       "        vertical-align: middle;\n",
       "    }\n",
       "\n",
       "    .dataframe tbody tr th {\n",
       "        vertical-align: top;\n",
       "    }\n",
       "\n",
       "    .dataframe thead th {\n",
       "        text-align: right;\n",
       "    }\n",
       "</style>\n",
       "<table border=\"1\" class=\"dataframe\">\n",
       "  <thead>\n",
       "    <tr style=\"text-align: right;\">\n",
       "      <th></th>\n",
       "      <th>Store</th>\n",
       "      <th>Dept</th>\n",
       "      <th>Date</th>\n",
       "      <th>Weekly_Sales</th>\n",
       "      <th>IsHoliday</th>\n",
       "      <th>SP500_Weekly_Mean_Close</th>\n",
       "      <th>WMT_Weekly_Mean_Close</th>\n",
       "      <th>ARCB_df_logistics_Close</th>\n",
       "      <th>AIT_df_logistics_Close</th>\n",
       "      <th>CEVA_df_logistics_Close</th>\n",
       "      <th>FDX_df_logistics_Close</th>\n",
       "      <th>SAIA_df_logistics_Close</th>\n",
       "      <th>TFII.TO_df_logistics_Close</th>\n",
       "      <th>XPO_df_logistics_Close</th>\n",
       "      <th>ODFL_df_logistics_Close</th>\n",
       "      <th>UPS_df_logistics_Close</th>\n",
       "      <th>JBHT_df_logistics_Close</th>\n",
       "    </tr>\n",
       "  </thead>\n",
       "  <tbody>\n",
       "    <tr>\n",
       "      <th>0</th>\n",
       "      <td>1</td>\n",
       "      <td>1</td>\n",
       "      <td>2010-02-05</td>\n",
       "      <td>24924.50</td>\n",
       "      <td>False</td>\n",
       "      <td>1083.817969</td>\n",
       "      <td>12.849577</td>\n",
       "      <td>19.7749</td>\n",
       "      <td>16.3716</td>\n",
       "      <td>11.386</td>\n",
       "      <td>67.5286</td>\n",
       "      <td>8.1133</td>\n",
       "      <td>5.9522</td>\n",
       "      <td>1.7320</td>\n",
       "      <td>4.0012</td>\n",
       "      <td>35.1546</td>\n",
       "      <td>26.3251</td>\n",
       "    </tr>\n",
       "    <tr>\n",
       "      <th>1</th>\n",
       "      <td>1</td>\n",
       "      <td>1</td>\n",
       "      <td>2010-02-12</td>\n",
       "      <td>46039.49</td>\n",
       "      <td>True</td>\n",
       "      <td>1069.873999</td>\n",
       "      <td>12.741080</td>\n",
       "      <td>19.9706</td>\n",
       "      <td>16.2364</td>\n",
       "      <td>11.006</td>\n",
       "      <td>66.1162</td>\n",
       "      <td>8.1400</td>\n",
       "      <td>5.7845</td>\n",
       "      <td>1.7154</td>\n",
       "      <td>4.0306</td>\n",
       "      <td>34.4932</td>\n",
       "      <td>26.7885</td>\n",
       "    </tr>\n",
       "    <tr>\n",
       "      <th>2</th>\n",
       "      <td>1</td>\n",
       "      <td>1</td>\n",
       "      <td>2010-02-19</td>\n",
       "      <td>41595.55</td>\n",
       "      <td>False</td>\n",
       "      <td>1102.575012</td>\n",
       "      <td>12.876699</td>\n",
       "      <td>21.8988</td>\n",
       "      <td>16.8577</td>\n",
       "      <td>11.700</td>\n",
       "      <td>67.7903</td>\n",
       "      <td>7.6600</td>\n",
       "      <td>5.8391</td>\n",
       "      <td>1.8538</td>\n",
       "      <td>4.1189</td>\n",
       "      <td>35.0687</td>\n",
       "      <td>27.9924</td>\n",
       "    </tr>\n",
       "    <tr>\n",
       "      <th>3</th>\n",
       "      <td>1</td>\n",
       "      <td>1</td>\n",
       "      <td>2010-02-26</td>\n",
       "      <td>19403.54</td>\n",
       "      <td>False</td>\n",
       "      <td>1103.055981</td>\n",
       "      <td>12.942228</td>\n",
       "      <td>22.6758</td>\n",
       "      <td>17.1335</td>\n",
       "      <td>11.864</td>\n",
       "      <td>69.9236</td>\n",
       "      <td>8.0707</td>\n",
       "      <td>6.2608</td>\n",
       "      <td>1.9285</td>\n",
       "      <td>4.3097</td>\n",
       "      <td>35.6784</td>\n",
       "      <td>29.4901</td>\n",
       "    </tr>\n",
       "    <tr>\n",
       "      <th>4</th>\n",
       "      <td>1</td>\n",
       "      <td>1</td>\n",
       "      <td>2010-03-05</td>\n",
       "      <td>21827.90</td>\n",
       "      <td>False</td>\n",
       "      <td>1122.895996</td>\n",
       "      <td>12.925909</td>\n",
       "      <td>23.9654</td>\n",
       "      <td>17.7752</td>\n",
       "      <td>12.288</td>\n",
       "      <td>72.5866</td>\n",
       "      <td>8.4240</td>\n",
       "      <td>6.8441</td>\n",
       "      <td>1.9368</td>\n",
       "      <td>4.3818</td>\n",
       "      <td>36.1191</td>\n",
       "      <td>29.9464</td>\n",
       "    </tr>\n",
       "    <tr>\n",
       "      <th>...</th>\n",
       "      <td>...</td>\n",
       "      <td>...</td>\n",
       "      <td>...</td>\n",
       "      <td>...</td>\n",
       "      <td>...</td>\n",
       "      <td>...</td>\n",
       "      <td>...</td>\n",
       "      <td>...</td>\n",
       "      <td>...</td>\n",
       "      <td>...</td>\n",
       "      <td>...</td>\n",
       "      <td>...</td>\n",
       "      <td>...</td>\n",
       "      <td>...</td>\n",
       "      <td>...</td>\n",
       "      <td>...</td>\n",
       "      <td>...</td>\n",
       "    </tr>\n",
       "    <tr>\n",
       "      <th>421565</th>\n",
       "      <td>45</td>\n",
       "      <td>98</td>\n",
       "      <td>2012-09-28</td>\n",
       "      <td>508.37</td>\n",
       "      <td>False</td>\n",
       "      <td>1443.923999</td>\n",
       "      <td>19.073621</td>\n",
       "      <td>7.1706</td>\n",
       "      <td>33.7323</td>\n",
       "      <td>14.684</td>\n",
       "      <td>72.7305</td>\n",
       "      <td>13.5920</td>\n",
       "      <td>13.5184</td>\n",
       "      <td>4.2125</td>\n",
       "      <td>9.6705</td>\n",
       "      <td>47.1874</td>\n",
       "      <td>46.1906</td>\n",
       "    </tr>\n",
       "    <tr>\n",
       "      <th>421566</th>\n",
       "      <td>45</td>\n",
       "      <td>98</td>\n",
       "      <td>2012-10-05</td>\n",
       "      <td>628.10</td>\n",
       "      <td>False</td>\n",
       "      <td>1452.712012</td>\n",
       "      <td>19.118869</td>\n",
       "      <td>6.9492</td>\n",
       "      <td>33.4393</td>\n",
       "      <td>13.892</td>\n",
       "      <td>73.3577</td>\n",
       "      <td>13.8053</td>\n",
       "      <td>13.6795</td>\n",
       "      <td>4.2215</td>\n",
       "      <td>9.4961</td>\n",
       "      <td>47.7151</td>\n",
       "      <td>47.3806</td>\n",
       "    </tr>\n",
       "    <tr>\n",
       "      <th>421567</th>\n",
       "      <td>45</td>\n",
       "      <td>98</td>\n",
       "      <td>2012-10-12</td>\n",
       "      <td>1061.02</td>\n",
       "      <td>False</td>\n",
       "      <td>1438.269995</td>\n",
       "      <td>19.313219</td>\n",
       "      <td>7.3217</td>\n",
       "      <td>32.9701</td>\n",
       "      <td>13.610</td>\n",
       "      <td>75.7907</td>\n",
       "      <td>13.8760</td>\n",
       "      <td>13.5060</td>\n",
       "      <td>4.1440</td>\n",
       "      <td>9.4916</td>\n",
       "      <td>47.7099</td>\n",
       "      <td>49.2570</td>\n",
       "    </tr>\n",
       "    <tr>\n",
       "      <th>421568</th>\n",
       "      <td>45</td>\n",
       "      <td>98</td>\n",
       "      <td>2012-10-19</td>\n",
       "      <td>760.01</td>\n",
       "      <td>False</td>\n",
       "      <td>1449.297998</td>\n",
       "      <td>19.706032</td>\n",
       "      <td>7.2911</td>\n",
       "      <td>32.7124</td>\n",
       "      <td>14.746</td>\n",
       "      <td>79.0085</td>\n",
       "      <td>14.3053</td>\n",
       "      <td>13.6934</td>\n",
       "      <td>4.3412</td>\n",
       "      <td>9.8127</td>\n",
       "      <td>47.9002</td>\n",
       "      <td>51.6494</td>\n",
       "    </tr>\n",
       "    <tr>\n",
       "      <th>421569</th>\n",
       "      <td>45</td>\n",
       "      <td>98</td>\n",
       "      <td>2012-10-26</td>\n",
       "      <td>1076.80</td>\n",
       "      <td>False</td>\n",
       "      <td>1416.117969</td>\n",
       "      <td>19.314762</td>\n",
       "      <td>6.9204</td>\n",
       "      <td>31.1912</td>\n",
       "      <td>14.826</td>\n",
       "      <td>78.1158</td>\n",
       "      <td>14.3333</td>\n",
       "      <td>13.5230</td>\n",
       "      <td>4.3681</td>\n",
       "      <td>10.0276</td>\n",
       "      <td>47.8648</td>\n",
       "      <td>50.8053</td>\n",
       "    </tr>\n",
       "  </tbody>\n",
       "</table>\n",
       "<p>421570 rows × 17 columns</p>\n",
       "</div>"
      ],
      "text/plain": [
       "       Store  Dept       Date  Weekly_Sales  IsHoliday  \\\n",
       "0          1     1 2010-02-05      24924.50      False   \n",
       "1          1     1 2010-02-12      46039.49       True   \n",
       "2          1     1 2010-02-19      41595.55      False   \n",
       "3          1     1 2010-02-26      19403.54      False   \n",
       "4          1     1 2010-03-05      21827.90      False   \n",
       "...      ...   ...        ...           ...        ...   \n",
       "421565    45    98 2012-09-28        508.37      False   \n",
       "421566    45    98 2012-10-05        628.10      False   \n",
       "421567    45    98 2012-10-12       1061.02      False   \n",
       "421568    45    98 2012-10-19        760.01      False   \n",
       "421569    45    98 2012-10-26       1076.80      False   \n",
       "\n",
       "        SP500_Weekly_Mean_Close  WMT_Weekly_Mean_Close  \\\n",
       "0                   1083.817969              12.849577   \n",
       "1                   1069.873999              12.741080   \n",
       "2                   1102.575012              12.876699   \n",
       "3                   1103.055981              12.942228   \n",
       "4                   1122.895996              12.925909   \n",
       "...                         ...                    ...   \n",
       "421565              1443.923999              19.073621   \n",
       "421566              1452.712012              19.118869   \n",
       "421567              1438.269995              19.313219   \n",
       "421568              1449.297998              19.706032   \n",
       "421569              1416.117969              19.314762   \n",
       "\n",
       "        ARCB_df_logistics_Close  AIT_df_logistics_Close  \\\n",
       "0                       19.7749                 16.3716   \n",
       "1                       19.9706                 16.2364   \n",
       "2                       21.8988                 16.8577   \n",
       "3                       22.6758                 17.1335   \n",
       "4                       23.9654                 17.7752   \n",
       "...                         ...                     ...   \n",
       "421565                   7.1706                 33.7323   \n",
       "421566                   6.9492                 33.4393   \n",
       "421567                   7.3217                 32.9701   \n",
       "421568                   7.2911                 32.7124   \n",
       "421569                   6.9204                 31.1912   \n",
       "\n",
       "        CEVA_df_logistics_Close  FDX_df_logistics_Close  \\\n",
       "0                        11.386                 67.5286   \n",
       "1                        11.006                 66.1162   \n",
       "2                        11.700                 67.7903   \n",
       "3                        11.864                 69.9236   \n",
       "4                        12.288                 72.5866   \n",
       "...                         ...                     ...   \n",
       "421565                   14.684                 72.7305   \n",
       "421566                   13.892                 73.3577   \n",
       "421567                   13.610                 75.7907   \n",
       "421568                   14.746                 79.0085   \n",
       "421569                   14.826                 78.1158   \n",
       "\n",
       "        SAIA_df_logistics_Close  TFII.TO_df_logistics_Close  \\\n",
       "0                        8.1133                      5.9522   \n",
       "1                        8.1400                      5.7845   \n",
       "2                        7.6600                      5.8391   \n",
       "3                        8.0707                      6.2608   \n",
       "4                        8.4240                      6.8441   \n",
       "...                         ...                         ...   \n",
       "421565                  13.5920                     13.5184   \n",
       "421566                  13.8053                     13.6795   \n",
       "421567                  13.8760                     13.5060   \n",
       "421568                  14.3053                     13.6934   \n",
       "421569                  14.3333                     13.5230   \n",
       "\n",
       "        XPO_df_logistics_Close  ODFL_df_logistics_Close  \\\n",
       "0                       1.7320                   4.0012   \n",
       "1                       1.7154                   4.0306   \n",
       "2                       1.8538                   4.1189   \n",
       "3                       1.9285                   4.3097   \n",
       "4                       1.9368                   4.3818   \n",
       "...                        ...                      ...   \n",
       "421565                  4.2125                   9.6705   \n",
       "421566                  4.2215                   9.4961   \n",
       "421567                  4.1440                   9.4916   \n",
       "421568                  4.3412                   9.8127   \n",
       "421569                  4.3681                  10.0276   \n",
       "\n",
       "        UPS_df_logistics_Close  JBHT_df_logistics_Close  \n",
       "0                      35.1546                  26.3251  \n",
       "1                      34.4932                  26.7885  \n",
       "2                      35.0687                  27.9924  \n",
       "3                      35.6784                  29.4901  \n",
       "4                      36.1191                  29.9464  \n",
       "...                        ...                      ...  \n",
       "421565                 47.1874                  46.1906  \n",
       "421566                 47.7151                  47.3806  \n",
       "421567                 47.7099                  49.2570  \n",
       "421568                 47.9002                  51.6494  \n",
       "421569                 47.8648                  50.8053  \n",
       "\n",
       "[421570 rows x 17 columns]"
      ]
     },
     "execution_count": 84,
     "metadata": {},
     "output_type": "execute_result"
    }
   ],
   "source": [
    "df_wm_train"
   ]
  },
  {
   "cell_type": "code",
   "execution_count": 85,
   "id": "0a0aa189",
   "metadata": {},
   "outputs": [],
   "source": [
    "df_pmi_china.drop(columns=['Official_Manufacturing_PMI_YoY', 'Official_Services_PMI_YoY'], inplace=True)"
   ]
  },
  {
   "cell_type": "code",
   "execution_count": 86,
   "id": "511d53b8",
   "metadata": {},
   "outputs": [],
   "source": [
    "df_pmi_china.rename(columns={\n",
    "    'Official_Manufacturing_PMI': 'China_Official_Manufacturing_PMI',\n",
    "    'Official_Services_PMI': 'China_Official_Services_PMI'\n",
    "}, inplace=True)"
   ]
  },
  {
   "cell_type": "code",
   "execution_count": 87,
   "id": "85bfa335",
   "metadata": {},
   "outputs": [],
   "source": [
    "df_pmi_china['Date'] = pd.to_datetime(df_pmi_china[\"Date\"], errors=\"raise\")"
   ]
  },
  {
   "cell_type": "code",
   "execution_count": 88,
   "id": "9d829f1a",
   "metadata": {},
   "outputs": [],
   "source": [
    "df_wm_train['YM'] = df_wm_train['Date'].dt.to_period('M')\n",
    "df_pmi_china    ['YM'] = df_pmi_china    ['Date'].dt.to_period('M')\n",
    "\n",
    "df_merged = df_wm_train.merge(\n",
    "    df_pmi_china[['YM','China_Official_Manufacturing_PMI','China_Official_Services_PMI']],\n",
    "    on='YM',\n",
    "    how='left'\n",
    ").drop(columns='YM')\n"
   ]
  },
  {
   "cell_type": "code",
   "execution_count": 89,
   "id": "5035e219",
   "metadata": {},
   "outputs": [],
   "source": [
    "df_wm_train = df_merged"
   ]
  },
  {
   "cell_type": "markdown",
   "id": "f55872d6",
   "metadata": {},
   "source": [
    "#### PCE USA (Personal Consumption Expenditures)"
   ]
  },
  {
   "cell_type": "code",
   "execution_count": 90,
   "id": "c9509266",
   "metadata": {},
   "outputs": [
    {
     "data": {
      "application/vnd.microsoft.datawrangler.viewer.v0+json": {
       "columns": [
        {
         "name": "index",
         "rawType": "int64",
         "type": "integer"
        },
        {
         "name": "DATE",
         "rawType": "object",
         "type": "string"
        },
        {
         "name": "Personal_Consumption_Expenditures",
         "rawType": "float64",
         "type": "float"
        }
       ],
       "ref": "fca3efdd-e3c8-40f0-9184-782c50f4c5ea",
       "rows": [
        [
         "0",
         "2000-01-01",
         "6542.9"
        ],
        [
         "1",
         "2000-02-01",
         "6625.3"
        ],
        [
         "2",
         "2000-03-01",
         "6686.5"
        ],
        [
         "3",
         "2000-04-01",
         "6679.1"
        ],
        [
         "4",
         "2000-05-01",
         "6709.7"
        ],
        [
         "5",
         "2000-06-01",
         "6746.9"
        ],
        [
         "6",
         "2000-07-01",
         "6768.5"
        ],
        [
         "7",
         "2000-08-01",
         "6802.8"
        ],
        [
         "8",
         "2000-09-01",
         "6888.6"
        ],
        [
         "9",
         "2000-10-01",
         "6893.8"
        ],
        [
         "10",
         "2000-11-01",
         "6909.8"
        ],
        [
         "11",
         "2000-12-01",
         "6952.2"
        ],
        [
         "12",
         "2001-01-01",
         "6987.4"
        ],
        [
         "13",
         "2001-02-01",
         "7001.8"
        ],
        [
         "14",
         "2001-03-01",
         "6996.7"
        ],
        [
         "15",
         "2001-04-01",
         "7004.2"
        ],
        [
         "16",
         "2001-05-01",
         "7052.8"
        ],
        [
         "17",
         "2001-06-01",
         "7069.7"
        ],
        [
         "18",
         "2001-07-01",
         "7082.3"
        ],
        [
         "19",
         "2001-08-01",
         "7121.7"
        ],
        [
         "20",
         "2001-09-01",
         "7007.0"
        ],
        [
         "21",
         "2001-10-01",
         "7212.9"
        ],
        [
         "22",
         "2001-11-01",
         "7182.3"
        ],
        [
         "23",
         "2001-12-01",
         "7166.7"
        ],
        [
         "24",
         "2002-01-01",
         "7184.6"
        ],
        [
         "25",
         "2002-02-01",
         "7225.2"
        ],
        [
         "26",
         "2002-03-01",
         "7243.4"
        ],
        [
         "27",
         "2002-04-01",
         "7312.5"
        ],
        [
         "28",
         "2002-05-01",
         "7288.9"
        ],
        [
         "29",
         "2002-06-01",
         "7322.5"
        ],
        [
         "30",
         "2002-07-01",
         "7387.3"
        ],
        [
         "31",
         "2002-08-01",
         "7412.6"
        ],
        [
         "32",
         "2002-09-01",
         "7391.5"
        ],
        [
         "33",
         "2002-10-01",
         "7435.2"
        ],
        [
         "34",
         "2002-11-01",
         "7463.8"
        ],
        [
         "35",
         "2002-12-01",
         "7519.9"
        ],
        [
         "36",
         "2003-01-01",
         "7541.3"
        ],
        [
         "37",
         "2003-02-01",
         "7548.6"
        ],
        [
         "38",
         "2003-03-01",
         "7611.5"
        ],
        [
         "39",
         "2003-04-01",
         "7634.5"
        ],
        [
         "40",
         "2003-05-01",
         "7650.3"
        ],
        [
         "41",
         "2003-06-01",
         "7699.6"
        ],
        [
         "42",
         "2003-07-01",
         "7757.0"
        ],
        [
         "43",
         "2003-08-01",
         "7852.1"
        ],
        [
         "44",
         "2003-09-01",
         "7853.7"
        ],
        [
         "45",
         "2003-10-01",
         "7867.4"
        ],
        [
         "46",
         "2003-11-01",
         "7922.6"
        ],
        [
         "47",
         "2003-12-01",
         "7950.4"
        ],
        [
         "48",
         "2004-01-01",
         "8007.1"
        ],
        [
         "49",
         "2004-02-01",
         "8040.4"
        ]
       ],
       "shape": {
        "columns": 2,
        "rows": 304
       }
      },
      "text/html": [
       "<div>\n",
       "<style scoped>\n",
       "    .dataframe tbody tr th:only-of-type {\n",
       "        vertical-align: middle;\n",
       "    }\n",
       "\n",
       "    .dataframe tbody tr th {\n",
       "        vertical-align: top;\n",
       "    }\n",
       "\n",
       "    .dataframe thead th {\n",
       "        text-align: right;\n",
       "    }\n",
       "</style>\n",
       "<table border=\"1\" class=\"dataframe\">\n",
       "  <thead>\n",
       "    <tr style=\"text-align: right;\">\n",
       "      <th></th>\n",
       "      <th>DATE</th>\n",
       "      <th>Personal_Consumption_Expenditures</th>\n",
       "    </tr>\n",
       "  </thead>\n",
       "  <tbody>\n",
       "    <tr>\n",
       "      <th>0</th>\n",
       "      <td>2000-01-01</td>\n",
       "      <td>6542.9</td>\n",
       "    </tr>\n",
       "    <tr>\n",
       "      <th>1</th>\n",
       "      <td>2000-02-01</td>\n",
       "      <td>6625.3</td>\n",
       "    </tr>\n",
       "    <tr>\n",
       "      <th>2</th>\n",
       "      <td>2000-03-01</td>\n",
       "      <td>6686.5</td>\n",
       "    </tr>\n",
       "    <tr>\n",
       "      <th>3</th>\n",
       "      <td>2000-04-01</td>\n",
       "      <td>6679.1</td>\n",
       "    </tr>\n",
       "    <tr>\n",
       "      <th>4</th>\n",
       "      <td>2000-05-01</td>\n",
       "      <td>6709.7</td>\n",
       "    </tr>\n",
       "    <tr>\n",
       "      <th>...</th>\n",
       "      <td>...</td>\n",
       "      <td>...</td>\n",
       "    </tr>\n",
       "    <tr>\n",
       "      <th>299</th>\n",
       "      <td>2024-12-01</td>\n",
       "      <td>20408.1</td>\n",
       "    </tr>\n",
       "    <tr>\n",
       "      <th>300</th>\n",
       "      <td>2025-01-01</td>\n",
       "      <td>20389.0</td>\n",
       "    </tr>\n",
       "    <tr>\n",
       "      <th>301</th>\n",
       "      <td>2025-02-01</td>\n",
       "      <td>20469.3</td>\n",
       "    </tr>\n",
       "    <tr>\n",
       "      <th>302</th>\n",
       "      <td>2025-03-01</td>\n",
       "      <td>20621.8</td>\n",
       "    </tr>\n",
       "    <tr>\n",
       "      <th>303</th>\n",
       "      <td>2025-04-01</td>\n",
       "      <td>20669.5</td>\n",
       "    </tr>\n",
       "  </tbody>\n",
       "</table>\n",
       "<p>304 rows × 2 columns</p>\n",
       "</div>"
      ],
      "text/plain": [
       "           DATE  Personal_Consumption_Expenditures\n",
       "0    2000-01-01                             6542.9\n",
       "1    2000-02-01                             6625.3\n",
       "2    2000-03-01                             6686.5\n",
       "3    2000-04-01                             6679.1\n",
       "4    2000-05-01                             6709.7\n",
       "..          ...                                ...\n",
       "299  2024-12-01                            20408.1\n",
       "300  2025-01-01                            20389.0\n",
       "301  2025-02-01                            20469.3\n",
       "302  2025-03-01                            20621.8\n",
       "303  2025-04-01                            20669.5\n",
       "\n",
       "[304 rows x 2 columns]"
      ]
     },
     "execution_count": 90,
     "metadata": {},
     "output_type": "execute_result"
    }
   ],
   "source": [
    "df_pce"
   ]
  },
  {
   "cell_type": "code",
   "execution_count": 91,
   "id": "9a6b48f4",
   "metadata": {},
   "outputs": [],
   "source": [
    "df_pce.rename(columns={\n",
    "    'Personal_Consumption_Expenditures': 'US_Personal_Consumption_Expenditures'\n",
    "}, inplace=True)"
   ]
  },
  {
   "cell_type": "code",
   "execution_count": 92,
   "id": "cfa5fa96",
   "metadata": {},
   "outputs": [],
   "source": [
    "df_pce['DATE'] = pd.to_datetime(df_pce[\"DATE\"], errors=\"raise\")"
   ]
  },
  {
   "cell_type": "code",
   "execution_count": 93,
   "id": "e53bf8ed",
   "metadata": {},
   "outputs": [],
   "source": [
    "df_wm_train['YM'] = df_wm_train['Date'].dt.to_period('M')\n",
    "df_pce    ['YM'] = df_pce    ['DATE'].dt.to_period('M')\n",
    "\n",
    "df_merged = df_wm_train.merge(\n",
    "    df_pce[['YM','US_Personal_Consumption_Expenditures']],\n",
    "    on='YM',\n",
    "    how='left'\n",
    ").drop(columns='YM')"
   ]
  },
  {
   "cell_type": "code",
   "execution_count": 94,
   "id": "b654ea5b",
   "metadata": {},
   "outputs": [],
   "source": [
    "df_wm_train = df_merged"
   ]
  },
  {
   "cell_type": "markdown",
   "id": "e063e49c",
   "metadata": {},
   "source": [
    "#### Interest Rates USA (Fed Funds Rate & Tbill 3 Months Yield)"
   ]
  },
  {
   "cell_type": "code",
   "execution_count": 95,
   "id": "ba2c4afe",
   "metadata": {},
   "outputs": [
    {
     "name": "stdout",
     "output_type": "stream",
     "text": [
      "            DATE  Fed_Funds_Rate  TBill_3mo_Yield\n",
      "0     2001-06-01            3.97            3.670\n",
      "1     2001-06-08             NaN            3.640\n",
      "2     2001-06-15             NaN            3.558\n",
      "3     2001-06-22             NaN            3.496\n",
      "4     2001-06-29             NaN            3.546\n",
      "...          ...             ...              ...\n",
      "1250  2025-05-16             NaN            4.398\n",
      "1251  2025-05-23             NaN            4.372\n",
      "1252  2025-05-30             NaN            4.355\n",
      "1253  2025-06-06             NaN            4.436\n",
      "1254  2025-06-13             NaN            4.450\n",
      "\n",
      "[1255 rows x 3 columns]\n"
     ]
    }
   ],
   "source": [
    "print(df_interest_rates)"
   ]
  },
  {
   "cell_type": "code",
   "execution_count": 96,
   "id": "a49657aa",
   "metadata": {},
   "outputs": [],
   "source": [
    "df_interest_rates['DATE'] = pd.to_datetime(df_interest_rates[\"DATE\"], errors=\"raise\")"
   ]
  },
  {
   "cell_type": "code",
   "execution_count": 97,
   "id": "f88706b9",
   "metadata": {},
   "outputs": [],
   "source": [
    "df_interest_rates.rename(columns={\n",
    "    'Fed_Funds_Rate': 'US_Fed_Funds_Rate',\n",
    "    'TBill_3mo_Yield': 'US_TBill_3mo_Yield',\n",
    "    'DATE': 'Date'\n",
    "\n",
    "}, inplace=True)"
   ]
  },
  {
   "cell_type": "code",
   "execution_count": 98,
   "id": "d563b328",
   "metadata": {},
   "outputs": [],
   "source": [
    "df_wm_train = df_wm_train.sort_values('Date')\n",
    "df_interest_rates = df_interest_rates.sort_values('Date')\n",
    "\n",
    "df_merged = df_wm_train.merge(\n",
    "    df_interest_rates[['Date','US_TBill_3mo_Yield','US_Fed_Funds_Rate']],\n",
    "    on='Date',\n",
    "    how='left'\n",
    ")\n",
    "\n",
    "df_merged['US_Fed_Funds_Rate'] = df_merged['US_Fed_Funds_Rate'].ffill()"
   ]
  },
  {
   "cell_type": "code",
   "execution_count": 99,
   "id": "7f55aee9",
   "metadata": {},
   "outputs": [],
   "source": [
    "df_wm_train = df_merged"
   ]
  },
  {
   "cell_type": "markdown",
   "id": "66f574bc",
   "metadata": {},
   "source": [
    "#### CCI USA (Consumer Confidence Index) from University of Michigan"
   ]
  },
  {
   "cell_type": "code",
   "execution_count": 100,
   "id": "da7f95e8",
   "metadata": {},
   "outputs": [
    {
     "data": {
      "application/vnd.microsoft.datawrangler.viewer.v0+json": {
       "columns": [
        {
         "name": "index",
         "rawType": "int64",
         "type": "integer"
        },
        {
         "name": "DATE",
         "rawType": "object",
         "type": "string"
        },
        {
         "name": "Consumer_Sentiment_UMich",
         "rawType": "float64",
         "type": "float"
        }
       ],
       "ref": "d732efa4-e638-4434-a787-1eeae9ae3f88",
       "rows": [
        [
         "0",
         "2001-07-01",
         "92.4"
        ],
        [
         "1",
         "2001-08-01",
         "91.5"
        ],
        [
         "2",
         "2001-09-01",
         "81.8"
        ],
        [
         "3",
         "2001-10-01",
         "82.7"
        ],
        [
         "4",
         "2001-11-01",
         "83.9"
        ],
        [
         "5",
         "2001-12-01",
         "88.8"
        ],
        [
         "6",
         "2002-01-01",
         "93.0"
        ],
        [
         "7",
         "2002-02-01",
         "90.7"
        ],
        [
         "8",
         "2002-03-01",
         "95.7"
        ],
        [
         "9",
         "2002-04-01",
         "93.0"
        ],
        [
         "10",
         "2002-05-01",
         "96.9"
        ],
        [
         "11",
         "2002-06-01",
         "92.4"
        ],
        [
         "12",
         "2002-07-01",
         "88.1"
        ],
        [
         "13",
         "2002-08-01",
         "87.6"
        ],
        [
         "14",
         "2002-09-01",
         "86.1"
        ],
        [
         "15",
         "2002-10-01",
         "80.6"
        ],
        [
         "16",
         "2002-11-01",
         "84.2"
        ],
        [
         "17",
         "2002-12-01",
         "86.7"
        ],
        [
         "18",
         "2003-01-01",
         "82.4"
        ],
        [
         "19",
         "2003-02-01",
         "79.9"
        ],
        [
         "20",
         "2003-03-01",
         "77.6"
        ],
        [
         "21",
         "2003-04-01",
         "86.0"
        ],
        [
         "22",
         "2003-05-01",
         "92.1"
        ],
        [
         "23",
         "2003-06-01",
         "89.7"
        ],
        [
         "24",
         "2003-07-01",
         "90.9"
        ],
        [
         "25",
         "2003-08-01",
         "89.3"
        ],
        [
         "26",
         "2003-09-01",
         "87.7"
        ],
        [
         "27",
         "2003-10-01",
         "89.6"
        ],
        [
         "28",
         "2003-11-01",
         "93.7"
        ],
        [
         "29",
         "2003-12-01",
         "92.6"
        ],
        [
         "30",
         "2004-01-01",
         "103.8"
        ],
        [
         "31",
         "2004-02-01",
         "94.4"
        ],
        [
         "32",
         "2004-03-01",
         "95.8"
        ],
        [
         "33",
         "2004-04-01",
         "94.2"
        ],
        [
         "34",
         "2004-05-01",
         "90.2"
        ],
        [
         "35",
         "2004-06-01",
         "95.6"
        ],
        [
         "36",
         "2004-07-01",
         "96.7"
        ],
        [
         "37",
         "2004-08-01",
         "95.9"
        ],
        [
         "38",
         "2004-09-01",
         "94.2"
        ],
        [
         "39",
         "2004-10-01",
         "91.7"
        ],
        [
         "40",
         "2004-11-01",
         "92.8"
        ],
        [
         "41",
         "2004-12-01",
         "97.1"
        ],
        [
         "42",
         "2005-01-01",
         "95.5"
        ],
        [
         "43",
         "2005-02-01",
         "94.1"
        ],
        [
         "44",
         "2005-03-01",
         "92.6"
        ],
        [
         "45",
         "2005-04-01",
         "87.7"
        ],
        [
         "46",
         "2005-05-01",
         "86.9"
        ],
        [
         "47",
         "2005-06-01",
         "96.0"
        ],
        [
         "48",
         "2005-07-01",
         "96.5"
        ],
        [
         "49",
         "2005-08-01",
         "89.1"
        ]
       ],
       "shape": {
        "columns": 2,
        "rows": 286
       }
      },
      "text/html": [
       "<div>\n",
       "<style scoped>\n",
       "    .dataframe tbody tr th:only-of-type {\n",
       "        vertical-align: middle;\n",
       "    }\n",
       "\n",
       "    .dataframe tbody tr th {\n",
       "        vertical-align: top;\n",
       "    }\n",
       "\n",
       "    .dataframe thead th {\n",
       "        text-align: right;\n",
       "    }\n",
       "</style>\n",
       "<table border=\"1\" class=\"dataframe\">\n",
       "  <thead>\n",
       "    <tr style=\"text-align: right;\">\n",
       "      <th></th>\n",
       "      <th>DATE</th>\n",
       "      <th>Consumer_Sentiment_UMich</th>\n",
       "    </tr>\n",
       "  </thead>\n",
       "  <tbody>\n",
       "    <tr>\n",
       "      <th>0</th>\n",
       "      <td>2001-07-01</td>\n",
       "      <td>92.4</td>\n",
       "    </tr>\n",
       "    <tr>\n",
       "      <th>1</th>\n",
       "      <td>2001-08-01</td>\n",
       "      <td>91.5</td>\n",
       "    </tr>\n",
       "    <tr>\n",
       "      <th>2</th>\n",
       "      <td>2001-09-01</td>\n",
       "      <td>81.8</td>\n",
       "    </tr>\n",
       "    <tr>\n",
       "      <th>3</th>\n",
       "      <td>2001-10-01</td>\n",
       "      <td>82.7</td>\n",
       "    </tr>\n",
       "    <tr>\n",
       "      <th>4</th>\n",
       "      <td>2001-11-01</td>\n",
       "      <td>83.9</td>\n",
       "    </tr>\n",
       "    <tr>\n",
       "      <th>...</th>\n",
       "      <td>...</td>\n",
       "      <td>...</td>\n",
       "    </tr>\n",
       "    <tr>\n",
       "      <th>281</th>\n",
       "      <td>2024-12-01</td>\n",
       "      <td>74.0</td>\n",
       "    </tr>\n",
       "    <tr>\n",
       "      <th>282</th>\n",
       "      <td>2025-01-01</td>\n",
       "      <td>71.7</td>\n",
       "    </tr>\n",
       "    <tr>\n",
       "      <th>283</th>\n",
       "      <td>2025-02-01</td>\n",
       "      <td>64.7</td>\n",
       "    </tr>\n",
       "    <tr>\n",
       "      <th>284</th>\n",
       "      <td>2025-03-01</td>\n",
       "      <td>57.0</td>\n",
       "    </tr>\n",
       "    <tr>\n",
       "      <th>285</th>\n",
       "      <td>2025-04-01</td>\n",
       "      <td>52.2</td>\n",
       "    </tr>\n",
       "  </tbody>\n",
       "</table>\n",
       "<p>286 rows × 2 columns</p>\n",
       "</div>"
      ],
      "text/plain": [
       "           DATE  Consumer_Sentiment_UMich\n",
       "0    2001-07-01                      92.4\n",
       "1    2001-08-01                      91.5\n",
       "2    2001-09-01                      81.8\n",
       "3    2001-10-01                      82.7\n",
       "4    2001-11-01                      83.9\n",
       "..          ...                       ...\n",
       "281  2024-12-01                      74.0\n",
       "282  2025-01-01                      71.7\n",
       "283  2025-02-01                      64.7\n",
       "284  2025-03-01                      57.0\n",
       "285  2025-04-01                      52.2\n",
       "\n",
       "[286 rows x 2 columns]"
      ]
     },
     "execution_count": 100,
     "metadata": {},
     "output_type": "execute_result"
    }
   ],
   "source": [
    "df_us_cci\n"
   ]
  },
  {
   "cell_type": "code",
   "execution_count": 101,
   "id": "2f3db3d5",
   "metadata": {},
   "outputs": [],
   "source": [
    "df_us_cci['Date']   = pd.to_datetime(df_us_cci['DATE'])\n",
    "df_us_cci = df_us_cci.sort_values('Date')\n",
    "\n",
    "df_merged = pd.merge_asof(\n",
    "    df_wm_train.sort_values('Date'),\n",
    "    df_us_cci[['Date','Consumer_Sentiment_UMich']],\n",
    "    on='Date',\n",
    "    direction='backward'\n",
    ")"
   ]
  },
  {
   "cell_type": "code",
   "execution_count": 102,
   "id": "5444d26d",
   "metadata": {},
   "outputs": [],
   "source": [
    "df_wm_train = df_merged"
   ]
  },
  {
   "cell_type": "markdown",
   "id": "7cc5cbab",
   "metadata": {},
   "source": [
    "#### U.S.A Advance Retail Sales: Retail Trade and Food Services"
   ]
  },
  {
   "cell_type": "code",
   "execution_count": 103,
   "id": "a3bd1821",
   "metadata": {},
   "outputs": [
    {
     "data": {
      "application/vnd.microsoft.datawrangler.viewer.v0+json": {
       "columns": [
        {
         "name": "index",
         "rawType": "int64",
         "type": "integer"
        },
        {
         "name": "DATE",
         "rawType": "object",
         "type": "string"
        },
        {
         "name": "Retail_Sales_Retail_and_Food_Services_USA",
         "rawType": "int64",
         "type": "integer"
        }
       ],
       "ref": "37474aaf-34bb-4bae-82c2-04403cb189a9",
       "rows": [
        [
         "0",
         "2000-01-01",
         "261545"
        ],
        [
         "1",
         "2000-02-01",
         "265686"
        ],
        [
         "2",
         "2000-03-01",
         "269019"
        ],
        [
         "3",
         "2000-04-01",
         "264067"
        ],
        [
         "4",
         "2000-05-01",
         "265992"
        ],
        [
         "5",
         "2000-06-01",
         "267750"
        ],
        [
         "6",
         "2000-07-01",
         "265683"
        ],
        [
         "7",
         "2000-08-01",
         "266885"
        ],
        [
         "8",
         "2000-09-01",
         "270523"
        ],
        [
         "9",
         "2000-10-01",
         "270339"
        ],
        [
         "10",
         "2000-11-01",
         "268850"
        ],
        [
         "11",
         "2000-12-01",
         "268338"
        ],
        [
         "12",
         "2001-01-01",
         "272881"
        ],
        [
         "13",
         "2001-02-01",
         "272627"
        ],
        [
         "14",
         "2001-03-01",
         "269820"
        ],
        [
         "15",
         "2001-04-01",
         "274410"
        ],
        [
         "16",
         "2001-05-01",
         "275769"
        ],
        [
         "17",
         "2001-06-01",
         "274474"
        ],
        [
         "18",
         "2001-07-01",
         "273098"
        ],
        [
         "19",
         "2001-08-01",
         "275659"
        ],
        [
         "20",
         "2001-09-01",
         "268652"
        ],
        [
         "21",
         "2001-10-01",
         "288632"
        ],
        [
         "22",
         "2001-11-01",
         "280033"
        ],
        [
         "23",
         "2001-12-01",
         "276302"
        ],
        [
         "24",
         "2002-01-01",
         "277135"
        ],
        [
         "25",
         "2002-02-01",
         "278869"
        ],
        [
         "26",
         "2002-03-01",
         "278079"
        ],
        [
         "27",
         "2002-04-01",
         "281147"
        ],
        [
         "28",
         "2002-05-01",
         "278966"
        ],
        [
         "29",
         "2002-06-01",
         "280426"
        ],
        [
         "30",
         "2002-07-01",
         "284161"
        ],
        [
         "31",
         "2002-08-01",
         "285884"
        ],
        [
         "32",
         "2002-09-01",
         "281064"
        ],
        [
         "33",
         "2002-10-01",
         "282940"
        ],
        [
         "34",
         "2002-11-01",
         "283408"
        ],
        [
         "35",
         "2002-12-01",
         "286646"
        ],
        [
         "36",
         "2003-01-01",
         "288657"
        ],
        [
         "37",
         "2003-02-01",
         "284696"
        ],
        [
         "38",
         "2003-03-01",
         "288177"
        ],
        [
         "39",
         "2003-04-01",
         "289053"
        ],
        [
         "40",
         "2003-05-01",
         "289619"
        ],
        [
         "41",
         "2003-06-01",
         "293671"
        ],
        [
         "42",
         "2003-07-01",
         "296207"
        ],
        [
         "43",
         "2003-08-01",
         "299592"
        ],
        [
         "44",
         "2003-09-01",
         "298921"
        ],
        [
         "45",
         "2003-10-01",
         "298205"
        ],
        [
         "46",
         "2003-11-01",
         "299433"
        ],
        [
         "47",
         "2003-12-01",
         "300702"
        ],
        [
         "48",
         "2004-01-01",
         "301993"
        ],
        [
         "49",
         "2004-02-01",
         "303915"
        ]
       ],
       "shape": {
        "columns": 2,
        "rows": 305
       }
      },
      "text/html": [
       "<div>\n",
       "<style scoped>\n",
       "    .dataframe tbody tr th:only-of-type {\n",
       "        vertical-align: middle;\n",
       "    }\n",
       "\n",
       "    .dataframe tbody tr th {\n",
       "        vertical-align: top;\n",
       "    }\n",
       "\n",
       "    .dataframe thead th {\n",
       "        text-align: right;\n",
       "    }\n",
       "</style>\n",
       "<table border=\"1\" class=\"dataframe\">\n",
       "  <thead>\n",
       "    <tr style=\"text-align: right;\">\n",
       "      <th></th>\n",
       "      <th>DATE</th>\n",
       "      <th>Retail_Sales_Retail_and_Food_Services_USA</th>\n",
       "    </tr>\n",
       "  </thead>\n",
       "  <tbody>\n",
       "    <tr>\n",
       "      <th>0</th>\n",
       "      <td>2000-01-01</td>\n",
       "      <td>261545</td>\n",
       "    </tr>\n",
       "    <tr>\n",
       "      <th>1</th>\n",
       "      <td>2000-02-01</td>\n",
       "      <td>265686</td>\n",
       "    </tr>\n",
       "    <tr>\n",
       "      <th>2</th>\n",
       "      <td>2000-03-01</td>\n",
       "      <td>269019</td>\n",
       "    </tr>\n",
       "    <tr>\n",
       "      <th>3</th>\n",
       "      <td>2000-04-01</td>\n",
       "      <td>264067</td>\n",
       "    </tr>\n",
       "    <tr>\n",
       "      <th>4</th>\n",
       "      <td>2000-05-01</td>\n",
       "      <td>265992</td>\n",
       "    </tr>\n",
       "    <tr>\n",
       "      <th>...</th>\n",
       "      <td>...</td>\n",
       "      <td>...</td>\n",
       "    </tr>\n",
       "    <tr>\n",
       "      <th>300</th>\n",
       "      <td>2025-01-01</td>\n",
       "      <td>711461</td>\n",
       "    </tr>\n",
       "    <tr>\n",
       "      <th>301</th>\n",
       "      <td>2025-02-01</td>\n",
       "      <td>711757</td>\n",
       "    </tr>\n",
       "    <tr>\n",
       "      <th>302</th>\n",
       "      <td>2025-03-01</td>\n",
       "      <td>722572</td>\n",
       "    </tr>\n",
       "    <tr>\n",
       "      <th>303</th>\n",
       "      <td>2025-04-01</td>\n",
       "      <td>721983</td>\n",
       "    </tr>\n",
       "    <tr>\n",
       "      <th>304</th>\n",
       "      <td>2025-05-01</td>\n",
       "      <td>715417</td>\n",
       "    </tr>\n",
       "  </tbody>\n",
       "</table>\n",
       "<p>305 rows × 2 columns</p>\n",
       "</div>"
      ],
      "text/plain": [
       "           DATE  Retail_Sales_Retail_and_Food_Services_USA\n",
       "0    2000-01-01                                     261545\n",
       "1    2000-02-01                                     265686\n",
       "2    2000-03-01                                     269019\n",
       "3    2000-04-01                                     264067\n",
       "4    2000-05-01                                     265992\n",
       "..          ...                                        ...\n",
       "300  2025-01-01                                     711461\n",
       "301  2025-02-01                                     711757\n",
       "302  2025-03-01                                     722572\n",
       "303  2025-04-01                                     721983\n",
       "304  2025-05-01                                     715417\n",
       "\n",
       "[305 rows x 2 columns]"
      ]
     },
     "execution_count": 103,
     "metadata": {},
     "output_type": "execute_result"
    }
   ],
   "source": [
    "df_us_retail"
   ]
  },
  {
   "cell_type": "code",
   "execution_count": 104,
   "id": "98d07682",
   "metadata": {},
   "outputs": [],
   "source": [
    "df_us_retail['Date']   = pd.to_datetime(df_us_retail['DATE'])\n",
    "df_us_retail = df_us_retail.sort_values('Date')\n",
    "\n",
    "df_merged = pd.merge_asof(\n",
    "    df_wm_train.sort_values('Date'),\n",
    "    df_us_retail[['Date','Retail_Sales_Retail_and_Food_Services_USA']],\n",
    "    on='Date',\n",
    "    direction='backward'\n",
    ")"
   ]
  },
  {
   "cell_type": "code",
   "execution_count": 105,
   "id": "6bdfb761",
   "metadata": {},
   "outputs": [],
   "source": [
    "df_wm_train = df_merged"
   ]
  },
  {
   "cell_type": "markdown",
   "id": "4a8a9ac9",
   "metadata": {},
   "source": [
    "#### Exchange Rates (China, Mexico, Canada, India, Vietnam)"
   ]
  },
  {
   "cell_type": "code",
   "execution_count": 106,
   "id": "712c3f4f",
   "metadata": {},
   "outputs": [
    {
     "data": {
      "application/vnd.microsoft.datawrangler.viewer.v0+json": {
       "columns": [
        {
         "name": "index",
         "rawType": "int64",
         "type": "integer"
        },
        {
         "name": "Unnamed: 0",
         "rawType": "object",
         "type": "string"
        },
        {
         "name": "CNY_per_USD",
         "rawType": "float64",
         "type": "float"
        },
        {
         "name": "MXN_per_USD",
         "rawType": "float64",
         "type": "float"
        },
        {
         "name": "CAD_per_USD",
         "rawType": "float64",
         "type": "float"
        },
        {
         "name": "INR_per_USD",
         "rawType": "float64",
         "type": "float"
        },
        {
         "name": "('VND_per_USD', 'USDVND=X')",
         "rawType": "float64",
         "type": "float"
        }
       ],
       "ref": "c91312f5-a573-4373-8556-5f12ba7d8ccd",
       "rows": [
        [
         "0",
         "2001-06-22",
         "8.2771",
         "9.0712",
         "1.5308",
         "47.028",
         null
        ],
        [
         "1",
         "2001-06-29",
         "8.2768",
         "9.0695",
         "1.5184",
         "47.064",
         null
        ],
        [
         "2",
         "2001-07-06",
         "8.2768",
         "9.0672",
         "1.5146",
         "47.175",
         null
        ],
        [
         "3",
         "2001-07-13",
         "8.2768",
         "9.252",
         "1.527",
         "47.2",
         null
        ],
        [
         "4",
         "2001-07-20",
         "8.2768",
         "9.1962",
         "1.5404",
         "47.162",
         null
        ],
        [
         "5",
         "2001-07-27",
         "8.2771",
         "9.1434",
         "1.538",
         "47.172",
         null
        ],
        [
         "6",
         "2001-08-03",
         "8.2768",
         "9.1715",
         "1.5349",
         "47.162",
         null
        ],
        [
         "7",
         "2001-08-10",
         "8.2771",
         "9.1108",
         "1.535",
         "47.162",
         null
        ],
        [
         "8",
         "2001-08-17",
         "8.2771",
         "9.1019",
         "1.5367",
         "47.162",
         null
        ],
        [
         "9",
         "2001-08-24",
         "8.2769",
         "9.1289",
         "1.5445",
         "47.176",
         null
        ],
        [
         "10",
         "2001-08-31",
         "8.2769",
         "9.1608",
         "1.5445",
         "47.178",
         null
        ],
        [
         "11",
         "2001-09-07",
         "8.2768",
         "9.2665",
         "1.5602",
         "47.2275",
         null
        ],
        [
         "12",
         "2001-09-14",
         "8.2768",
         "9.4395",
         "1.5647",
         "47.5025",
         null
        ],
        [
         "13",
         "2001-09-21",
         "8.2767",
         "9.455",
         "1.5704",
         "47.978",
         null
        ],
        [
         "14",
         "2001-09-28",
         "8.277",
         "9.5112",
         "1.5743",
         "48.142",
         null
        ],
        [
         "15",
         "2001-10-05",
         "8.2768",
         "9.5372",
         "1.5697",
         "48.022",
         null
        ],
        [
         "16",
         "2001-10-12",
         "8.2767",
         "9.4089",
         "1.5664",
         "48.105",
         null
        ],
        [
         "17",
         "2001-10-19",
         "8.2768",
         "9.2404",
         "1.5682",
         "48.066",
         null
        ],
        [
         "18",
         "2001-10-26",
         "8.2769",
         "9.2341",
         "1.5756",
         "48.036",
         null
        ],
        [
         "19",
         "2001-11-02",
         "8.2769",
         "9.2656",
         "1.5856",
         "48.036",
         null
        ],
        [
         "20",
         "2001-11-09",
         "8.2767",
         "9.2196",
         "1.5967",
         "48.044",
         null
        ],
        [
         "21",
         "2001-11-16",
         "8.2768",
         "9.2272",
         "1.5911",
         "48.07",
         null
        ],
        [
         "22",
         "2001-11-23",
         "8.2769",
         "9.1664",
         "1.5945",
         "48.04",
         null
        ],
        [
         "23",
         "2001-11-30",
         "8.2772",
         "9.2529",
         "1.587",
         "48.022",
         null
        ],
        [
         "24",
         "2001-12-07",
         "8.2772",
         "9.2219",
         "1.574",
         "47.912",
         null
        ],
        [
         "25",
         "2001-12-14",
         "8.2768",
         "9.142",
         "1.5706",
         "47.852",
         null
        ],
        [
         "26",
         "2001-12-21",
         "8.2767",
         "9.1296",
         "1.575",
         "47.84",
         null
        ],
        [
         "27",
         "2001-12-28",
         "8.2744",
         "9.131",
         "1.5961",
         "48.1",
         null
        ],
        [
         "28",
         "2002-01-04",
         "8.2766",
         "9.127",
         "1.5962",
         "48.28",
         null
        ],
        [
         "29",
         "2002-01-11",
         "8.2767",
         "9.2079",
         "1.5976",
         "48.35",
         null
        ],
        [
         "30",
         "2002-01-18",
         "8.2787",
         "9.1599",
         "1.6011",
         "48.31",
         null
        ],
        [
         "31",
         "2002-01-25",
         "8.2766",
         "9.1425",
         "1.6057",
         "48.345",
         null
        ],
        [
         "32",
         "2002-02-01",
         "8.2766",
         "9.1665",
         "1.5952",
         "48.488",
         null
        ],
        [
         "33",
         "2002-02-08",
         "8.2766",
         "9.1426",
         "1.5991",
         "48.686",
         null
        ],
        [
         "34",
         "2002-02-15",
         "8.2768",
         "9.0752",
         "1.591",
         "48.752",
         null
        ],
        [
         "35",
         "2002-02-22",
         "8.2767",
         "9.0881",
         "1.5912",
         "48.6975",
         null
        ],
        [
         "36",
         "2002-03-01",
         "8.2766",
         "9.0981",
         "1.6042",
         "48.77",
         null
        ],
        [
         "37",
         "2002-03-08",
         "8.2769",
         "9.0784",
         "1.5864",
         "48.734",
         null
        ],
        [
         "38",
         "2002-03-15",
         "8.2778",
         "9.0918",
         "1.5888",
         "48.752",
         null
        ],
        [
         "39",
         "2002-03-22",
         "8.2773",
         "9.0635",
         "1.5818",
         "48.768",
         null
        ],
        [
         "40",
         "2002-03-29",
         "8.2772",
         "9.0162",
         "1.5924",
         "48.814",
         null
        ],
        [
         "41",
         "2002-04-05",
         "8.2773",
         "9.0265",
         "1.593",
         "48.874",
         null
        ],
        [
         "42",
         "2002-04-12",
         "8.2771",
         "9.053",
         "1.5919",
         "48.922",
         null
        ],
        [
         "43",
         "2002-04-19",
         "8.2772",
         "9.203",
         "1.5781",
         "48.946",
         null
        ],
        [
         "44",
         "2002-04-26",
         "8.2773",
         "9.2978",
         "1.5687",
         "48.99",
         null
        ],
        [
         "45",
         "2002-05-03",
         "8.2772",
         "9.4181",
         "1.5639",
         "48.99",
         null
        ],
        [
         "46",
         "2002-05-10",
         "8.2773",
         "9.4506",
         "1.5672",
         "48.988",
         null
        ],
        [
         "47",
         "2002-05-17",
         "8.2769",
         "9.4874",
         "1.5542",
         "49.036",
         null
        ],
        [
         "48",
         "2002-05-24",
         "8.277",
         "9.5255",
         "1.537",
         "49.034",
         null
        ],
        [
         "49",
         "2002-05-31",
         "8.2766",
         "9.634",
         "1.5316",
         "49.03",
         null
        ]
       ],
       "shape": {
        "columns": 6,
        "rows": 1253
       }
      },
      "text/html": [
       "<div>\n",
       "<style scoped>\n",
       "    .dataframe tbody tr th:only-of-type {\n",
       "        vertical-align: middle;\n",
       "    }\n",
       "\n",
       "    .dataframe tbody tr th {\n",
       "        vertical-align: top;\n",
       "    }\n",
       "\n",
       "    .dataframe thead th {\n",
       "        text-align: right;\n",
       "    }\n",
       "</style>\n",
       "<table border=\"1\" class=\"dataframe\">\n",
       "  <thead>\n",
       "    <tr style=\"text-align: right;\">\n",
       "      <th></th>\n",
       "      <th>Unnamed: 0</th>\n",
       "      <th>CNY_per_USD</th>\n",
       "      <th>MXN_per_USD</th>\n",
       "      <th>CAD_per_USD</th>\n",
       "      <th>INR_per_USD</th>\n",
       "      <th>('VND_per_USD', 'USDVND=X')</th>\n",
       "    </tr>\n",
       "  </thead>\n",
       "  <tbody>\n",
       "    <tr>\n",
       "      <th>0</th>\n",
       "      <td>2001-06-22</td>\n",
       "      <td>8.2771</td>\n",
       "      <td>9.0712</td>\n",
       "      <td>1.5308</td>\n",
       "      <td>47.028</td>\n",
       "      <td>NaN</td>\n",
       "    </tr>\n",
       "    <tr>\n",
       "      <th>1</th>\n",
       "      <td>2001-06-29</td>\n",
       "      <td>8.2768</td>\n",
       "      <td>9.0695</td>\n",
       "      <td>1.5184</td>\n",
       "      <td>47.064</td>\n",
       "      <td>NaN</td>\n",
       "    </tr>\n",
       "    <tr>\n",
       "      <th>2</th>\n",
       "      <td>2001-07-06</td>\n",
       "      <td>8.2768</td>\n",
       "      <td>9.0672</td>\n",
       "      <td>1.5146</td>\n",
       "      <td>47.175</td>\n",
       "      <td>NaN</td>\n",
       "    </tr>\n",
       "    <tr>\n",
       "      <th>3</th>\n",
       "      <td>2001-07-13</td>\n",
       "      <td>8.2768</td>\n",
       "      <td>9.2520</td>\n",
       "      <td>1.5270</td>\n",
       "      <td>47.200</td>\n",
       "      <td>NaN</td>\n",
       "    </tr>\n",
       "    <tr>\n",
       "      <th>4</th>\n",
       "      <td>2001-07-20</td>\n",
       "      <td>8.2768</td>\n",
       "      <td>9.1962</td>\n",
       "      <td>1.5404</td>\n",
       "      <td>47.162</td>\n",
       "      <td>NaN</td>\n",
       "    </tr>\n",
       "    <tr>\n",
       "      <th>...</th>\n",
       "      <td>...</td>\n",
       "      <td>...</td>\n",
       "      <td>...</td>\n",
       "      <td>...</td>\n",
       "      <td>...</td>\n",
       "      <td>...</td>\n",
       "    </tr>\n",
       "    <tr>\n",
       "      <th>1248</th>\n",
       "      <td>2025-05-23</td>\n",
       "      <td>7.2038</td>\n",
       "      <td>19.3119</td>\n",
       "      <td>1.3864</td>\n",
       "      <td>85.558</td>\n",
       "      <td>25944.4</td>\n",
       "    </tr>\n",
       "    <tr>\n",
       "      <th>1249</th>\n",
       "      <td>2025-05-30</td>\n",
       "      <td>7.1934</td>\n",
       "      <td>19.3442</td>\n",
       "      <td>1.3788</td>\n",
       "      <td>85.420</td>\n",
       "      <td>25938.4</td>\n",
       "    </tr>\n",
       "    <tr>\n",
       "      <th>1250</th>\n",
       "      <td>2025-06-06</td>\n",
       "      <td>7.1865</td>\n",
       "      <td>19.2013</td>\n",
       "      <td>1.3688</td>\n",
       "      <td>85.646</td>\n",
       "      <td>26041.2</td>\n",
       "    </tr>\n",
       "    <tr>\n",
       "      <th>1251</th>\n",
       "      <td>2025-06-13</td>\n",
       "      <td>7.1827</td>\n",
       "      <td>18.9487</td>\n",
       "      <td>1.3642</td>\n",
       "      <td>85.670</td>\n",
       "      <td>26018.4</td>\n",
       "    </tr>\n",
       "    <tr>\n",
       "      <th>1252</th>\n",
       "      <td>2025-06-20</td>\n",
       "      <td>NaN</td>\n",
       "      <td>NaN</td>\n",
       "      <td>NaN</td>\n",
       "      <td>NaN</td>\n",
       "      <td>26050.0</td>\n",
       "    </tr>\n",
       "  </tbody>\n",
       "</table>\n",
       "<p>1253 rows × 6 columns</p>\n",
       "</div>"
      ],
      "text/plain": [
       "      Unnamed: 0  CNY_per_USD  MXN_per_USD  CAD_per_USD  INR_per_USD  \\\n",
       "0     2001-06-22       8.2771       9.0712       1.5308       47.028   \n",
       "1     2001-06-29       8.2768       9.0695       1.5184       47.064   \n",
       "2     2001-07-06       8.2768       9.0672       1.5146       47.175   \n",
       "3     2001-07-13       8.2768       9.2520       1.5270       47.200   \n",
       "4     2001-07-20       8.2768       9.1962       1.5404       47.162   \n",
       "...          ...          ...          ...          ...          ...   \n",
       "1248  2025-05-23       7.2038      19.3119       1.3864       85.558   \n",
       "1249  2025-05-30       7.1934      19.3442       1.3788       85.420   \n",
       "1250  2025-06-06       7.1865      19.2013       1.3688       85.646   \n",
       "1251  2025-06-13       7.1827      18.9487       1.3642       85.670   \n",
       "1252  2025-06-20          NaN          NaN          NaN          NaN   \n",
       "\n",
       "      ('VND_per_USD', 'USDVND=X')  \n",
       "0                             NaN  \n",
       "1                             NaN  \n",
       "2                             NaN  \n",
       "3                             NaN  \n",
       "4                             NaN  \n",
       "...                           ...  \n",
       "1248                      25944.4  \n",
       "1249                      25938.4  \n",
       "1250                      26041.2  \n",
       "1251                      26018.4  \n",
       "1252                      26050.0  \n",
       "\n",
       "[1253 rows x 6 columns]"
      ]
     },
     "execution_count": 106,
     "metadata": {},
     "output_type": "execute_result"
    }
   ],
   "source": [
    "df_fx"
   ]
  },
  {
   "cell_type": "code",
   "execution_count": 107,
   "id": "7fed900a",
   "metadata": {},
   "outputs": [],
   "source": [
    "df_fx.rename(columns={\n",
    "    'Unnamed: 0': 'Date',\n",
    "    \"('VND_per_USD', 'USDVND=X')\": 'VND_per_USD'\n",
    "}, inplace=True)"
   ]
  },
  {
   "cell_type": "code",
   "execution_count": 108,
   "id": "7a19a385",
   "metadata": {},
   "outputs": [],
   "source": [
    "df_fx['Date']   = pd.to_datetime(df_fx['Date'])\n",
    "df_fx = df_fx.sort_values('Date')\n",
    "\n",
    "df_merged = pd.merge_asof(\n",
    "    df_wm_train.sort_values('Date'),\n",
    "    df_fx[['Date','CNY_per_USD', 'MXN_per_USD','CAD_per_USD','INR_per_USD','VND_per_USD']],\n",
    "    on='Date',\n",
    "    direction='backward'\n",
    ")"
   ]
  },
  {
   "cell_type": "code",
   "execution_count": 109,
   "id": "3893577f",
   "metadata": {},
   "outputs": [],
   "source": [
    "df_wm_train = df_merged"
   ]
  },
  {
   "cell_type": "markdown",
   "id": "7e5457db",
   "metadata": {},
   "source": [
    "#### US External Tax Rate"
   ]
  },
  {
   "cell_type": "code",
   "execution_count": 110,
   "id": "b77a0473",
   "metadata": {},
   "outputs": [
    {
     "data": {
      "application/vnd.microsoft.datawrangler.viewer.v0+json": {
       "columns": [
        {
         "name": "index",
         "rawType": "int64",
         "type": "integer"
        },
        {
         "name": "Year",
         "rawType": "int64",
         "type": "integer"
        },
        {
         "name": "Canada",
         "rawType": "float64",
         "type": "float"
        },
        {
         "name": "China",
         "rawType": "float64",
         "type": "float"
        },
        {
         "name": "India",
         "rawType": "float64",
         "type": "float"
        },
        {
         "name": "Mexico",
         "rawType": "float64",
         "type": "float"
        },
        {
         "name": "Viet Nam",
         "rawType": "float64",
         "type": "float"
        }
       ],
       "ref": "1eb2453a-756d-4db5-9338-ecfa14bfa2dc",
       "rows": [
        [
         "0",
         "2000",
         "1.31",
         "14.67",
         "23.36",
         "15.15",
         null
        ],
        [
         "1",
         "2001",
         "1.6",
         "14.11",
         "26.51",
         "15.24",
         "15.29"
        ],
        [
         "2",
         "2002",
         "1.49",
         "7.72",
         "23.08",
         "5.03",
         "14.73"
        ],
        [
         "3",
         "2003",
         "2.46",
         "6.48",
         "21.45",
         "15.44",
         "11.79"
        ],
        [
         "4",
         "2004",
         "1.51",
         "5.96",
         "22.96",
         "3.0",
         "11.69"
        ],
        [
         "5",
         "2005",
         "1.46",
         "4.87",
         "13.9",
         "3.0",
         "11.35"
        ],
        [
         "6",
         "2006",
         "1.45",
         "4.25",
         "8.99",
         "2.39",
         "10.21"
        ],
        [
         "7",
         "2007",
         "1.54",
         "5.07",
         "11.99",
         "2.41",
         "9.13"
        ],
        [
         "8",
         "2008",
         "1.54",
         "4.47",
         "5.98",
         "1.87",
         "5.03"
        ],
        [
         "9",
         "2009",
         "1.7",
         "3.94",
         "6.84",
         "1.61",
         "6.76"
        ],
        [
         "10",
         "2010",
         "1.46",
         "4.65",
         "6.1",
         "5.37",
         "5.02"
        ],
        [
         "11",
         "2011",
         "1.38",
         "5.99",
         "7.33",
         "5.37",
         null
        ],
        [
         "12",
         "2012",
         "1.4",
         null,
         "6.32",
         "5.17",
         "3.65"
        ],
        [
         "13",
         "2013",
         "1.45",
         null,
         "6.34",
         "4.87",
         "3.54"
        ],
        [
         "14",
         "2014",
         "1.43",
         "4.74",
         null,
         "1.02",
         "3.43"
        ],
        [
         "15",
         "2015",
         "1.65",
         "4.52",
         "7.32",
         "4.45",
         "3.14"
        ],
        [
         "16",
         "2016",
         "1.56",
         "3.54",
         "6.35",
         "4.35",
         "2.86"
        ],
        [
         "17",
         "2017",
         "1.52",
         "3.83",
         "5.78",
         "1.24",
         "2.69"
        ],
        [
         "18",
         "2018",
         "1.47",
         "3.39",
         "4.88",
         "1.21",
         "4.39"
        ],
        [
         "19",
         "2019",
         "1.51",
         "2.53",
         "6.59",
         null,
         "1.66"
        ],
        [
         "20",
         "2020",
         "1.49",
         "2.47",
         "6.19",
         null,
         "1.34"
        ],
        [
         "21",
         "2021",
         "2.35",
         "2.31",
         "5.87",
         null,
         "1.17"
        ],
        [
         "22",
         "2022",
         "1.37",
         "2.18",
         "4.59",
         "1.62",
         "1.07"
        ],
        [
         "23",
         "2023",
         null,
         null,
         null,
         null,
         null
        ],
        [
         "24",
         "2024",
         null,
         null,
         null,
         null,
         null
        ]
       ],
       "shape": {
        "columns": 6,
        "rows": 25
       }
      },
      "text/html": [
       "<div>\n",
       "<style scoped>\n",
       "    .dataframe tbody tr th:only-of-type {\n",
       "        vertical-align: middle;\n",
       "    }\n",
       "\n",
       "    .dataframe tbody tr th {\n",
       "        vertical-align: top;\n",
       "    }\n",
       "\n",
       "    .dataframe thead th {\n",
       "        text-align: right;\n",
       "    }\n",
       "</style>\n",
       "<table border=\"1\" class=\"dataframe\">\n",
       "  <thead>\n",
       "    <tr style=\"text-align: right;\">\n",
       "      <th></th>\n",
       "      <th>Year</th>\n",
       "      <th>Canada</th>\n",
       "      <th>China</th>\n",
       "      <th>India</th>\n",
       "      <th>Mexico</th>\n",
       "      <th>Viet Nam</th>\n",
       "    </tr>\n",
       "  </thead>\n",
       "  <tbody>\n",
       "    <tr>\n",
       "      <th>0</th>\n",
       "      <td>2000</td>\n",
       "      <td>1.31</td>\n",
       "      <td>14.67</td>\n",
       "      <td>23.36</td>\n",
       "      <td>15.15</td>\n",
       "      <td>NaN</td>\n",
       "    </tr>\n",
       "    <tr>\n",
       "      <th>1</th>\n",
       "      <td>2001</td>\n",
       "      <td>1.60</td>\n",
       "      <td>14.11</td>\n",
       "      <td>26.51</td>\n",
       "      <td>15.24</td>\n",
       "      <td>15.29</td>\n",
       "    </tr>\n",
       "    <tr>\n",
       "      <th>2</th>\n",
       "      <td>2002</td>\n",
       "      <td>1.49</td>\n",
       "      <td>7.72</td>\n",
       "      <td>23.08</td>\n",
       "      <td>5.03</td>\n",
       "      <td>14.73</td>\n",
       "    </tr>\n",
       "    <tr>\n",
       "      <th>3</th>\n",
       "      <td>2003</td>\n",
       "      <td>2.46</td>\n",
       "      <td>6.48</td>\n",
       "      <td>21.45</td>\n",
       "      <td>15.44</td>\n",
       "      <td>11.79</td>\n",
       "    </tr>\n",
       "    <tr>\n",
       "      <th>4</th>\n",
       "      <td>2004</td>\n",
       "      <td>1.51</td>\n",
       "      <td>5.96</td>\n",
       "      <td>22.96</td>\n",
       "      <td>3.00</td>\n",
       "      <td>11.69</td>\n",
       "    </tr>\n",
       "    <tr>\n",
       "      <th>5</th>\n",
       "      <td>2005</td>\n",
       "      <td>1.46</td>\n",
       "      <td>4.87</td>\n",
       "      <td>13.90</td>\n",
       "      <td>3.00</td>\n",
       "      <td>11.35</td>\n",
       "    </tr>\n",
       "    <tr>\n",
       "      <th>6</th>\n",
       "      <td>2006</td>\n",
       "      <td>1.45</td>\n",
       "      <td>4.25</td>\n",
       "      <td>8.99</td>\n",
       "      <td>2.39</td>\n",
       "      <td>10.21</td>\n",
       "    </tr>\n",
       "    <tr>\n",
       "      <th>7</th>\n",
       "      <td>2007</td>\n",
       "      <td>1.54</td>\n",
       "      <td>5.07</td>\n",
       "      <td>11.99</td>\n",
       "      <td>2.41</td>\n",
       "      <td>9.13</td>\n",
       "    </tr>\n",
       "    <tr>\n",
       "      <th>8</th>\n",
       "      <td>2008</td>\n",
       "      <td>1.54</td>\n",
       "      <td>4.47</td>\n",
       "      <td>5.98</td>\n",
       "      <td>1.87</td>\n",
       "      <td>5.03</td>\n",
       "    </tr>\n",
       "    <tr>\n",
       "      <th>9</th>\n",
       "      <td>2009</td>\n",
       "      <td>1.70</td>\n",
       "      <td>3.94</td>\n",
       "      <td>6.84</td>\n",
       "      <td>1.61</td>\n",
       "      <td>6.76</td>\n",
       "    </tr>\n",
       "    <tr>\n",
       "      <th>10</th>\n",
       "      <td>2010</td>\n",
       "      <td>1.46</td>\n",
       "      <td>4.65</td>\n",
       "      <td>6.10</td>\n",
       "      <td>5.37</td>\n",
       "      <td>5.02</td>\n",
       "    </tr>\n",
       "    <tr>\n",
       "      <th>11</th>\n",
       "      <td>2011</td>\n",
       "      <td>1.38</td>\n",
       "      <td>5.99</td>\n",
       "      <td>7.33</td>\n",
       "      <td>5.37</td>\n",
       "      <td>NaN</td>\n",
       "    </tr>\n",
       "    <tr>\n",
       "      <th>12</th>\n",
       "      <td>2012</td>\n",
       "      <td>1.40</td>\n",
       "      <td>NaN</td>\n",
       "      <td>6.32</td>\n",
       "      <td>5.17</td>\n",
       "      <td>3.65</td>\n",
       "    </tr>\n",
       "    <tr>\n",
       "      <th>13</th>\n",
       "      <td>2013</td>\n",
       "      <td>1.45</td>\n",
       "      <td>NaN</td>\n",
       "      <td>6.34</td>\n",
       "      <td>4.87</td>\n",
       "      <td>3.54</td>\n",
       "    </tr>\n",
       "    <tr>\n",
       "      <th>14</th>\n",
       "      <td>2014</td>\n",
       "      <td>1.43</td>\n",
       "      <td>4.74</td>\n",
       "      <td>NaN</td>\n",
       "      <td>1.02</td>\n",
       "      <td>3.43</td>\n",
       "    </tr>\n",
       "    <tr>\n",
       "      <th>15</th>\n",
       "      <td>2015</td>\n",
       "      <td>1.65</td>\n",
       "      <td>4.52</td>\n",
       "      <td>7.32</td>\n",
       "      <td>4.45</td>\n",
       "      <td>3.14</td>\n",
       "    </tr>\n",
       "    <tr>\n",
       "      <th>16</th>\n",
       "      <td>2016</td>\n",
       "      <td>1.56</td>\n",
       "      <td>3.54</td>\n",
       "      <td>6.35</td>\n",
       "      <td>4.35</td>\n",
       "      <td>2.86</td>\n",
       "    </tr>\n",
       "    <tr>\n",
       "      <th>17</th>\n",
       "      <td>2017</td>\n",
       "      <td>1.52</td>\n",
       "      <td>3.83</td>\n",
       "      <td>5.78</td>\n",
       "      <td>1.24</td>\n",
       "      <td>2.69</td>\n",
       "    </tr>\n",
       "    <tr>\n",
       "      <th>18</th>\n",
       "      <td>2018</td>\n",
       "      <td>1.47</td>\n",
       "      <td>3.39</td>\n",
       "      <td>4.88</td>\n",
       "      <td>1.21</td>\n",
       "      <td>4.39</td>\n",
       "    </tr>\n",
       "    <tr>\n",
       "      <th>19</th>\n",
       "      <td>2019</td>\n",
       "      <td>1.51</td>\n",
       "      <td>2.53</td>\n",
       "      <td>6.59</td>\n",
       "      <td>NaN</td>\n",
       "      <td>1.66</td>\n",
       "    </tr>\n",
       "    <tr>\n",
       "      <th>20</th>\n",
       "      <td>2020</td>\n",
       "      <td>1.49</td>\n",
       "      <td>2.47</td>\n",
       "      <td>6.19</td>\n",
       "      <td>NaN</td>\n",
       "      <td>1.34</td>\n",
       "    </tr>\n",
       "    <tr>\n",
       "      <th>21</th>\n",
       "      <td>2021</td>\n",
       "      <td>2.35</td>\n",
       "      <td>2.31</td>\n",
       "      <td>5.87</td>\n",
       "      <td>NaN</td>\n",
       "      <td>1.17</td>\n",
       "    </tr>\n",
       "    <tr>\n",
       "      <th>22</th>\n",
       "      <td>2022</td>\n",
       "      <td>1.37</td>\n",
       "      <td>2.18</td>\n",
       "      <td>4.59</td>\n",
       "      <td>1.62</td>\n",
       "      <td>1.07</td>\n",
       "    </tr>\n",
       "    <tr>\n",
       "      <th>23</th>\n",
       "      <td>2023</td>\n",
       "      <td>NaN</td>\n",
       "      <td>NaN</td>\n",
       "      <td>NaN</td>\n",
       "      <td>NaN</td>\n",
       "      <td>NaN</td>\n",
       "    </tr>\n",
       "    <tr>\n",
       "      <th>24</th>\n",
       "      <td>2024</td>\n",
       "      <td>NaN</td>\n",
       "      <td>NaN</td>\n",
       "      <td>NaN</td>\n",
       "      <td>NaN</td>\n",
       "      <td>NaN</td>\n",
       "    </tr>\n",
       "  </tbody>\n",
       "</table>\n",
       "</div>"
      ],
      "text/plain": [
       "    Year  Canada  China  India  Mexico  Viet Nam\n",
       "0   2000    1.31  14.67  23.36   15.15       NaN\n",
       "1   2001    1.60  14.11  26.51   15.24     15.29\n",
       "2   2002    1.49   7.72  23.08    5.03     14.73\n",
       "3   2003    2.46   6.48  21.45   15.44     11.79\n",
       "4   2004    1.51   5.96  22.96    3.00     11.69\n",
       "5   2005    1.46   4.87  13.90    3.00     11.35\n",
       "6   2006    1.45   4.25   8.99    2.39     10.21\n",
       "7   2007    1.54   5.07  11.99    2.41      9.13\n",
       "8   2008    1.54   4.47   5.98    1.87      5.03\n",
       "9   2009    1.70   3.94   6.84    1.61      6.76\n",
       "10  2010    1.46   4.65   6.10    5.37      5.02\n",
       "11  2011    1.38   5.99   7.33    5.37       NaN\n",
       "12  2012    1.40    NaN   6.32    5.17      3.65\n",
       "13  2013    1.45    NaN   6.34    4.87      3.54\n",
       "14  2014    1.43   4.74    NaN    1.02      3.43\n",
       "15  2015    1.65   4.52   7.32    4.45      3.14\n",
       "16  2016    1.56   3.54   6.35    4.35      2.86\n",
       "17  2017    1.52   3.83   5.78    1.24      2.69\n",
       "18  2018    1.47   3.39   4.88    1.21      4.39\n",
       "19  2019    1.51   2.53   6.59     NaN      1.66\n",
       "20  2020    1.49   2.47   6.19     NaN      1.34\n",
       "21  2021    2.35   2.31   5.87     NaN      1.17\n",
       "22  2022    1.37   2.18   4.59    1.62      1.07\n",
       "23  2023     NaN    NaN    NaN     NaN       NaN\n",
       "24  2024     NaN    NaN    NaN     NaN       NaN"
      ]
     },
     "execution_count": 110,
     "metadata": {},
     "output_type": "execute_result"
    }
   ],
   "source": [
    "df_us_tariff"
   ]
  },
  {
   "cell_type": "code",
   "execution_count": 111,
   "id": "7e02ca28",
   "metadata": {},
   "outputs": [],
   "source": [
    "df_us_tariff.rename(columns={\n",
    "    'Canada': 'US_TAX_Canada',\n",
    "    'China': 'US_TAX_China',\n",
    "    'India': 'US_TAX_India',\n",
    "    'Mexico': 'US_TAX_Mexico',\n",
    "    'Viet Nam': 'US_TAX_Vietnam'\n",
    "}, inplace=True)"
   ]
  },
  {
   "cell_type": "code",
   "execution_count": 112,
   "id": "316c820d",
   "metadata": {},
   "outputs": [],
   "source": [
    "import pandas as pd\n",
    "\n",
    "# list of tariff columns\n",
    "tariff_cols = [\n",
    "    'US_TAX_Canada',\n",
    "    'US_TAX_China',\n",
    "    'US_TAX_India',\n",
    "    'US_TAX_Mexico',\n",
    "    'US_TAX_Vietnam'\n",
    "]\n",
    "\n",
    "# 1) prepare the dates\n",
    "df_wm_train['Date']      = pd.to_datetime(df_wm_train['Date'])\n",
    "df_us_tariff['Date']     = pd.date_range(\n",
    "    '2001-01-01',\n",
    "    periods=len(df_us_tariff),\n",
    "    freq='YS'\n",
    ")\n",
    "\n",
    "# 2) sort & merge_asof, then forward-fill tariffs\n",
    "df_merged = (\n",
    "    pd.merge_asof(\n",
    "        df_wm_train.sort_values('Date'),\n",
    "        df_us_tariff[['Date'] + tariff_cols].sort_values('Date'),\n",
    "        on='Date',\n",
    "        direction='backward'\n",
    "    )\n",
    "    .assign(**{col: lambda d, col=col: d[col].ffill() for col in tariff_cols})\n",
    ")\n"
   ]
  },
  {
   "cell_type": "code",
   "execution_count": 113,
   "id": "67456ecb",
   "metadata": {},
   "outputs": [],
   "source": [
    "df_unique = df_merged.drop_duplicates(subset='Date', keep='first')"
   ]
  },
  {
   "cell_type": "code",
   "execution_count": 114,
   "id": "a7d9125c",
   "metadata": {},
   "outputs": [],
   "source": [
    "df_wm_train = df_merged"
   ]
  },
  {
   "cell_type": "markdown",
   "id": "00a784bf",
   "metadata": {},
   "source": [
    "#### Tax Return (Train)"
   ]
  },
  {
   "cell_type": "code",
   "execution_count": 115,
   "id": "b63a1513",
   "metadata": {},
   "outputs": [
    {
     "data": {
      "application/vnd.microsoft.datawrangler.viewer.v0+json": {
       "columns": [
        {
         "name": "index",
         "rawType": "int64",
         "type": "integer"
        },
        {
         "name": "Date",
         "rawType": "object",
         "type": "string"
        },
        {
         "name": "TaxReturnImpact",
         "rawType": "float64",
         "type": "float"
        }
       ],
       "ref": "44f9bc68-4ddb-447d-afe7-45b4be35efac",
       "rows": [
        [
         "0",
         "2010-02-05",
         "0.0"
        ],
        [
         "1",
         "2010-02-12",
         "0.0"
        ],
        [
         "2",
         "2010-02-19",
         "0.0"
        ],
        [
         "3",
         "2010-02-26",
         "0.0"
        ],
        [
         "4",
         "2010-03-05",
         "0.0"
        ],
        [
         "5",
         "2010-03-12",
         "0.0"
        ],
        [
         "6",
         "2010-03-19",
         "0.0"
        ],
        [
         "7",
         "2010-03-26",
         "0.0"
        ],
        [
         "8",
         "2010-04-02",
         "0.0125360439090881"
        ],
        [
         "9",
         "2010-04-09",
         "0.6112604669781572"
        ],
        [
         "10",
         "2010-04-16",
         "0.99860189859059"
        ],
        [
         "11",
         "2010-04-23",
         "0.9131193871579976"
        ],
        [
         "12",
         "2010-04-30",
         "0.716941869558779"
        ],
        [
         "13",
         "2010-05-07",
         "0.4626349532067879"
        ],
        [
         "14",
         "2010-05-14",
         "0.2183399709681889"
        ],
        [
         "15",
         "2010-05-21",
         "0.0495155660487904"
        ],
        [
         "16",
         "2010-05-28",
         "0.0"
        ],
        [
         "17",
         "2010-06-04",
         "0.0"
        ],
        [
         "18",
         "2010-06-11",
         "0.0"
        ],
        [
         "19",
         "2010-06-18",
         "0.0"
        ],
        [
         "20",
         "2010-06-25",
         "0.0"
        ],
        [
         "21",
         "2010-07-02",
         "0.0"
        ],
        [
         "22",
         "2010-07-09",
         "0.0"
        ],
        [
         "23",
         "2010-07-16",
         "0.0"
        ],
        [
         "24",
         "2010-07-23",
         "0.0"
        ],
        [
         "25",
         "2010-07-30",
         "0.0"
        ],
        [
         "26",
         "2010-08-06",
         "0.0"
        ],
        [
         "27",
         "2010-08-13",
         "0.0"
        ],
        [
         "28",
         "2010-08-20",
         "0.0"
        ],
        [
         "29",
         "2010-08-27",
         "0.0"
        ],
        [
         "30",
         "2010-09-03",
         "0.0"
        ],
        [
         "31",
         "2010-09-10",
         "0.0"
        ],
        [
         "32",
         "2010-09-17",
         "0.0"
        ],
        [
         "33",
         "2010-09-24",
         "0.0"
        ],
        [
         "34",
         "2010-10-01",
         "0.0"
        ],
        [
         "35",
         "2010-10-08",
         "0.0"
        ],
        [
         "36",
         "2010-10-15",
         "0.0"
        ],
        [
         "37",
         "2010-10-22",
         "0.0"
        ],
        [
         "38",
         "2010-10-29",
         "0.0"
        ],
        [
         "39",
         "2010-11-05",
         "0.0"
        ],
        [
         "40",
         "2010-11-12",
         "0.0"
        ],
        [
         "41",
         "2010-11-19",
         "0.0"
        ],
        [
         "42",
         "2010-11-26",
         "0.0"
        ],
        [
         "43",
         "2010-12-03",
         "0.0"
        ],
        [
         "44",
         "2010-12-10",
         "0.0"
        ],
        [
         "45",
         "2010-12-17",
         "0.0"
        ],
        [
         "46",
         "2010-12-24",
         "0.0"
        ],
        [
         "47",
         "2010-12-31",
         "0.0"
        ],
        [
         "48",
         "2011-01-07",
         "0.0"
        ],
        [
         "49",
         "2011-01-14",
         "0.0"
        ]
       ],
       "shape": {
        "columns": 2,
        "rows": 421570
       }
      },
      "text/html": [
       "<div>\n",
       "<style scoped>\n",
       "    .dataframe tbody tr th:only-of-type {\n",
       "        vertical-align: middle;\n",
       "    }\n",
       "\n",
       "    .dataframe tbody tr th {\n",
       "        vertical-align: top;\n",
       "    }\n",
       "\n",
       "    .dataframe thead th {\n",
       "        text-align: right;\n",
       "    }\n",
       "</style>\n",
       "<table border=\"1\" class=\"dataframe\">\n",
       "  <thead>\n",
       "    <tr style=\"text-align: right;\">\n",
       "      <th></th>\n",
       "      <th>Date</th>\n",
       "      <th>TaxReturnImpact</th>\n",
       "    </tr>\n",
       "  </thead>\n",
       "  <tbody>\n",
       "    <tr>\n",
       "      <th>0</th>\n",
       "      <td>2010-02-05</td>\n",
       "      <td>0.0</td>\n",
       "    </tr>\n",
       "    <tr>\n",
       "      <th>1</th>\n",
       "      <td>2010-02-12</td>\n",
       "      <td>0.0</td>\n",
       "    </tr>\n",
       "    <tr>\n",
       "      <th>2</th>\n",
       "      <td>2010-02-19</td>\n",
       "      <td>0.0</td>\n",
       "    </tr>\n",
       "    <tr>\n",
       "      <th>3</th>\n",
       "      <td>2010-02-26</td>\n",
       "      <td>0.0</td>\n",
       "    </tr>\n",
       "    <tr>\n",
       "      <th>4</th>\n",
       "      <td>2010-03-05</td>\n",
       "      <td>0.0</td>\n",
       "    </tr>\n",
       "    <tr>\n",
       "      <th>...</th>\n",
       "      <td>...</td>\n",
       "      <td>...</td>\n",
       "    </tr>\n",
       "    <tr>\n",
       "      <th>421565</th>\n",
       "      <td>2012-09-28</td>\n",
       "      <td>0.0</td>\n",
       "    </tr>\n",
       "    <tr>\n",
       "      <th>421566</th>\n",
       "      <td>2012-10-05</td>\n",
       "      <td>0.0</td>\n",
       "    </tr>\n",
       "    <tr>\n",
       "      <th>421567</th>\n",
       "      <td>2012-10-12</td>\n",
       "      <td>0.0</td>\n",
       "    </tr>\n",
       "    <tr>\n",
       "      <th>421568</th>\n",
       "      <td>2012-10-19</td>\n",
       "      <td>0.0</td>\n",
       "    </tr>\n",
       "    <tr>\n",
       "      <th>421569</th>\n",
       "      <td>2012-10-26</td>\n",
       "      <td>0.0</td>\n",
       "    </tr>\n",
       "  </tbody>\n",
       "</table>\n",
       "<p>421570 rows × 2 columns</p>\n",
       "</div>"
      ],
      "text/plain": [
       "              Date  TaxReturnImpact\n",
       "0       2010-02-05              0.0\n",
       "1       2010-02-12              0.0\n",
       "2       2010-02-19              0.0\n",
       "3       2010-02-26              0.0\n",
       "4       2010-03-05              0.0\n",
       "...            ...              ...\n",
       "421565  2012-09-28              0.0\n",
       "421566  2012-10-05              0.0\n",
       "421567  2012-10-12              0.0\n",
       "421568  2012-10-19              0.0\n",
       "421569  2012-10-26              0.0\n",
       "\n",
       "[421570 rows x 2 columns]"
      ]
     },
     "execution_count": 115,
     "metadata": {},
     "output_type": "execute_result"
    }
   ],
   "source": [
    "df_tax_return_train"
   ]
  },
  {
   "cell_type": "code",
   "execution_count": 116,
   "id": "e31b4d53",
   "metadata": {},
   "outputs": [],
   "source": [
    "df_tax_return_train.rename(columns={\n",
    "    'TaxReturnImpact': 'US_Tax_Return'\n",
    "}, inplace=True)"
   ]
  },
  {
   "cell_type": "code",
   "execution_count": 117,
   "id": "57759c75",
   "metadata": {},
   "outputs": [],
   "source": [
    "df_tax_return_train['Date']   = pd.to_datetime(df_tax_return_train['Date'])\n",
    "df_tax_return_train = df_tax_return_train.sort_values('Date')\n",
    "\n",
    "df_merged = pd.merge_asof(\n",
    "    df_wm_train.sort_values('Date'),\n",
    "    df_tax_return_train[['Date','US_Tax_Return']],\n",
    "    on='Date',\n",
    "    direction='backward'\n",
    ")"
   ]
  },
  {
   "cell_type": "code",
   "execution_count": 118,
   "id": "1ec11622",
   "metadata": {},
   "outputs": [],
   "source": [
    "df_unique = df_merged.drop_duplicates(subset='Date', keep='first')"
   ]
  },
  {
   "cell_type": "code",
   "execution_count": 119,
   "id": "d9f6580a",
   "metadata": {},
   "outputs": [],
   "source": [
    "df_wm_train = df_merged"
   ]
  },
  {
   "cell_type": "code",
   "execution_count": 120,
   "id": "3a305a55",
   "metadata": {},
   "outputs": [
    {
     "data": {
      "application/vnd.microsoft.datawrangler.viewer.v0+json": {
       "columns": [
        {
         "name": "index",
         "rawType": "int64",
         "type": "integer"
        },
        {
         "name": "Store",
         "rawType": "object",
         "type": "string"
        },
        {
         "name": "Dept",
         "rawType": "int64",
         "type": "integer"
        },
        {
         "name": "Date",
         "rawType": "datetime64[ns]",
         "type": "datetime"
        },
        {
         "name": "Weekly_Sales",
         "rawType": "float64",
         "type": "float"
        },
        {
         "name": "IsHoliday",
         "rawType": "bool",
         "type": "boolean"
        },
        {
         "name": "SP500_Weekly_Mean_Close",
         "rawType": "float64",
         "type": "float"
        },
        {
         "name": "WMT_Weekly_Mean_Close",
         "rawType": "float64",
         "type": "float"
        },
        {
         "name": "ARCB_df_logistics_Close",
         "rawType": "float64",
         "type": "float"
        },
        {
         "name": "AIT_df_logistics_Close",
         "rawType": "float64",
         "type": "float"
        },
        {
         "name": "CEVA_df_logistics_Close",
         "rawType": "float64",
         "type": "float"
        },
        {
         "name": "FDX_df_logistics_Close",
         "rawType": "float64",
         "type": "float"
        },
        {
         "name": "SAIA_df_logistics_Close",
         "rawType": "float64",
         "type": "float"
        },
        {
         "name": "TFII.TO_df_logistics_Close",
         "rawType": "float64",
         "type": "float"
        },
        {
         "name": "XPO_df_logistics_Close",
         "rawType": "float64",
         "type": "float"
        },
        {
         "name": "ODFL_df_logistics_Close",
         "rawType": "float64",
         "type": "float"
        },
        {
         "name": "UPS_df_logistics_Close",
         "rawType": "float64",
         "type": "float"
        },
        {
         "name": "JBHT_df_logistics_Close",
         "rawType": "float64",
         "type": "float"
        },
        {
         "name": "China_Official_Manufacturing_PMI",
         "rawType": "float64",
         "type": "float"
        },
        {
         "name": "China_Official_Services_PMI",
         "rawType": "float64",
         "type": "float"
        },
        {
         "name": "US_Personal_Consumption_Expenditures",
         "rawType": "float64",
         "type": "float"
        },
        {
         "name": "US_TBill_3mo_Yield",
         "rawType": "float64",
         "type": "float"
        },
        {
         "name": "US_Fed_Funds_Rate",
         "rawType": "float64",
         "type": "float"
        },
        {
         "name": "Consumer_Sentiment_UMich",
         "rawType": "float64",
         "type": "float"
        },
        {
         "name": "Retail_Sales_Retail_and_Food_Services_USA",
         "rawType": "int64",
         "type": "integer"
        },
        {
         "name": "CNY_per_USD",
         "rawType": "float64",
         "type": "float"
        },
        {
         "name": "MXN_per_USD",
         "rawType": "float64",
         "type": "float"
        },
        {
         "name": "CAD_per_USD",
         "rawType": "float64",
         "type": "float"
        },
        {
         "name": "INR_per_USD",
         "rawType": "float64",
         "type": "float"
        },
        {
         "name": "VND_per_USD",
         "rawType": "float64",
         "type": "float"
        },
        {
         "name": "US_TAX_Canada",
         "rawType": "float64",
         "type": "float"
        },
        {
         "name": "US_TAX_China",
         "rawType": "float64",
         "type": "float"
        },
        {
         "name": "US_TAX_India",
         "rawType": "float64",
         "type": "float"
        },
        {
         "name": "US_TAX_Mexico",
         "rawType": "float64",
         "type": "float"
        },
        {
         "name": "US_TAX_Vietnam",
         "rawType": "float64",
         "type": "float"
        },
        {
         "name": "US_Tax_Return",
         "rawType": "float64",
         "type": "float"
        }
       ],
       "ref": "11bed37f-a227-475c-a058-2b3264ccad8b",
       "rows": [
        [
         "0",
         "1",
         "1",
         "2010-02-05 00:00:00",
         "24924.5",
         "False",
         "1083.81796875",
         "12.849576950073242",
         "19.7749",
         "16.3716",
         "11.386",
         "67.5286",
         "8.1133",
         "5.9522",
         "1.732",
         "4.0012",
         "35.1546",
         "26.3251",
         "52.0",
         "57.0",
         "10093.4",
         "0.098",
         "0.13",
         "73.6",
         "339580",
         "6.8269",
         "13.011",
         "1.0666",
         "46.256",
         "18421.0",
         "1.7",
         "3.94",
         "6.84",
         "1.61",
         "6.76",
         "0.0"
        ],
        [
         "1",
         "9",
         "97",
         "2010-02-05 00:00:00",
         "668.48",
         "False",
         "1083.81796875",
         "12.849576950073242",
         "19.7749",
         "16.3716",
         "11.386",
         "67.5286",
         "8.1133",
         "5.9522",
         "1.732",
         "4.0012",
         "35.1546",
         "26.3251",
         "52.0",
         "57.0",
         "10093.4",
         "0.098",
         "0.13",
         "73.6",
         "339580",
         "6.8269",
         "13.011",
         "1.0666",
         "46.256",
         "18421.0",
         "1.7",
         "3.94",
         "6.84",
         "1.61",
         "6.76",
         "0.0"
        ],
        [
         "2",
         "9",
         "85",
         "2010-02-05 00:00:00",
         "693.87",
         "False",
         "1083.81796875",
         "12.849576950073242",
         "19.7749",
         "16.3716",
         "11.386",
         "67.5286",
         "8.1133",
         "5.9522",
         "1.732",
         "4.0012",
         "35.1546",
         "26.3251",
         "52.0",
         "57.0",
         "10093.4",
         "0.098",
         "0.13",
         "73.6",
         "339580",
         "6.8269",
         "13.011",
         "1.0666",
         "46.256",
         "18421.0",
         "1.7",
         "3.94",
         "6.84",
         "1.61",
         "6.76",
         "0.0"
        ],
        [
         "3",
         "8",
         "80",
         "2010-02-05 00:00:00",
         "8654.6",
         "False",
         "1083.81796875",
         "12.849576950073242",
         "19.7749",
         "16.3716",
         "11.386",
         "67.5286",
         "8.1133",
         "5.9522",
         "1.732",
         "4.0012",
         "35.1546",
         "26.3251",
         "52.0",
         "57.0",
         "10093.4",
         "0.098",
         "0.13",
         "73.6",
         "339580",
         "6.8269",
         "13.011",
         "1.0666",
         "46.256",
         "18421.0",
         "1.7",
         "3.94",
         "6.84",
         "1.61",
         "6.76",
         "0.0"
        ],
        [
         "4",
         "9",
         "55",
         "2010-02-05 00:00:00",
         "11123.56",
         "False",
         "1083.81796875",
         "12.849576950073242",
         "19.7749",
         "16.3716",
         "11.386",
         "67.5286",
         "8.1133",
         "5.9522",
         "1.732",
         "4.0012",
         "35.1546",
         "26.3251",
         "52.0",
         "57.0",
         "10093.4",
         "0.098",
         "0.13",
         "73.6",
         "339580",
         "6.8269",
         "13.011",
         "1.0666",
         "46.256",
         "18421.0",
         "1.7",
         "3.94",
         "6.84",
         "1.61",
         "6.76",
         "0.0"
        ],
        [
         "5",
         "9",
         "52",
         "2010-02-05 00:00:00",
         "1150.25",
         "False",
         "1083.81796875",
         "12.849576950073242",
         "19.7749",
         "16.3716",
         "11.386",
         "67.5286",
         "8.1133",
         "5.9522",
         "1.732",
         "4.0012",
         "35.1546",
         "26.3251",
         "52.0",
         "57.0",
         "10093.4",
         "0.098",
         "0.13",
         "73.6",
         "339580",
         "6.8269",
         "13.011",
         "1.0666",
         "46.256",
         "18421.0",
         "1.7",
         "3.94",
         "6.84",
         "1.61",
         "6.76",
         "0.0"
        ],
        [
         "6",
         "9",
         "28",
         "2010-02-05 00:00:00",
         "356.9",
         "False",
         "1083.81796875",
         "12.849576950073242",
         "19.7749",
         "16.3716",
         "11.386",
         "67.5286",
         "8.1133",
         "5.9522",
         "1.732",
         "4.0012",
         "35.1546",
         "26.3251",
         "52.0",
         "57.0",
         "10093.4",
         "0.098",
         "0.13",
         "73.6",
         "339580",
         "6.8269",
         "13.011",
         "1.0666",
         "46.256",
         "18421.0",
         "1.7",
         "3.94",
         "6.84",
         "1.61",
         "6.76",
         "0.0"
        ],
        [
         "7",
         "9",
         "29",
         "2010-02-05 00:00:00",
         "2604.7",
         "False",
         "1083.81796875",
         "12.849576950073242",
         "19.7749",
         "16.3716",
         "11.386",
         "67.5286",
         "8.1133",
         "5.9522",
         "1.732",
         "4.0012",
         "35.1546",
         "26.3251",
         "52.0",
         "57.0",
         "10093.4",
         "0.098",
         "0.13",
         "73.6",
         "339580",
         "6.8269",
         "13.011",
         "1.0666",
         "46.256",
         "18421.0",
         "1.7",
         "3.94",
         "6.84",
         "1.61",
         "6.76",
         "0.0"
        ],
        [
         "8",
         "9",
         "30",
         "2010-02-05 00:00:00",
         "2281.0",
         "False",
         "1083.81796875",
         "12.849576950073242",
         "19.7749",
         "16.3716",
         "11.386",
         "67.5286",
         "8.1133",
         "5.9522",
         "1.732",
         "4.0012",
         "35.1546",
         "26.3251",
         "52.0",
         "57.0",
         "10093.4",
         "0.098",
         "0.13",
         "73.6",
         "339580",
         "6.8269",
         "13.011",
         "1.0666",
         "46.256",
         "18421.0",
         "1.7",
         "3.94",
         "6.84",
         "1.61",
         "6.76",
         "0.0"
        ],
        [
         "9",
         "4",
         "96",
         "2010-02-05 00:00:00",
         "32581.21",
         "False",
         "1083.81796875",
         "12.849576950073242",
         "19.7749",
         "16.3716",
         "11.386",
         "67.5286",
         "8.1133",
         "5.9522",
         "1.732",
         "4.0012",
         "35.1546",
         "26.3251",
         "52.0",
         "57.0",
         "10093.4",
         "0.098",
         "0.13",
         "73.6",
         "339580",
         "6.8269",
         "13.011",
         "1.0666",
         "46.256",
         "18421.0",
         "1.7",
         "3.94",
         "6.84",
         "1.61",
         "6.76",
         "0.0"
        ],
        [
         "10",
         "9",
         "31",
         "2010-02-05 00:00:00",
         "1095.82",
         "False",
         "1083.81796875",
         "12.849576950073242",
         "19.7749",
         "16.3716",
         "11.386",
         "67.5286",
         "8.1133",
         "5.9522",
         "1.732",
         "4.0012",
         "35.1546",
         "26.3251",
         "52.0",
         "57.0",
         "10093.4",
         "0.098",
         "0.13",
         "73.6",
         "339580",
         "6.8269",
         "13.011",
         "1.0666",
         "46.256",
         "18421.0",
         "1.7",
         "3.94",
         "6.84",
         "1.61",
         "6.76",
         "0.0"
        ],
        [
         "11",
         "9",
         "32",
         "2010-02-05 00:00:00",
         "6251.72",
         "False",
         "1083.81796875",
         "12.849576950073242",
         "19.7749",
         "16.3716",
         "11.386",
         "67.5286",
         "8.1133",
         "5.9522",
         "1.732",
         "4.0012",
         "35.1546",
         "26.3251",
         "52.0",
         "57.0",
         "10093.4",
         "0.098",
         "0.13",
         "73.6",
         "339580",
         "6.8269",
         "13.011",
         "1.0666",
         "46.256",
         "18421.0",
         "1.7",
         "3.94",
         "6.84",
         "1.61",
         "6.76",
         "0.0"
        ],
        [
         "12",
         "9",
         "33",
         "2010-02-05 00:00:00",
         "2235.49",
         "False",
         "1083.81796875",
         "12.849576950073242",
         "19.7749",
         "16.3716",
         "11.386",
         "67.5286",
         "8.1133",
         "5.9522",
         "1.732",
         "4.0012",
         "35.1546",
         "26.3251",
         "52.0",
         "57.0",
         "10093.4",
         "0.098",
         "0.13",
         "73.6",
         "339580",
         "6.8269",
         "13.011",
         "1.0666",
         "46.256",
         "18421.0",
         "1.7",
         "3.94",
         "6.84",
         "1.61",
         "6.76",
         "0.0"
        ],
        [
         "13",
         "9",
         "34",
         "2010-02-05 00:00:00",
         "8620.13",
         "False",
         "1083.81796875",
         "12.849576950073242",
         "19.7749",
         "16.3716",
         "11.386",
         "67.5286",
         "8.1133",
         "5.9522",
         "1.732",
         "4.0012",
         "35.1546",
         "26.3251",
         "52.0",
         "57.0",
         "10093.4",
         "0.098",
         "0.13",
         "73.6",
         "339580",
         "6.8269",
         "13.011",
         "1.0666",
         "46.256",
         "18421.0",
         "1.7",
         "3.94",
         "6.84",
         "1.61",
         "6.76",
         "0.0"
        ],
        [
         "14",
         "9",
         "54",
         "2010-02-05 00:00:00",
         "178.0",
         "False",
         "1083.81796875",
         "12.849576950073242",
         "19.7749",
         "16.3716",
         "11.386",
         "67.5286",
         "8.1133",
         "5.9522",
         "1.732",
         "4.0012",
         "35.1546",
         "26.3251",
         "52.0",
         "57.0",
         "10093.4",
         "0.098",
         "0.13",
         "73.6",
         "339580",
         "6.8269",
         "13.011",
         "1.0666",
         "46.256",
         "18421.0",
         "1.7",
         "3.94",
         "6.84",
         "1.61",
         "6.76",
         "0.0"
        ],
        [
         "15",
         "9",
         "35",
         "2010-02-05 00:00:00",
         "1134.0",
         "False",
         "1083.81796875",
         "12.849576950073242",
         "19.7749",
         "16.3716",
         "11.386",
         "67.5286",
         "8.1133",
         "5.9522",
         "1.732",
         "4.0012",
         "35.1546",
         "26.3251",
         "52.0",
         "57.0",
         "10093.4",
         "0.098",
         "0.13",
         "73.6",
         "339580",
         "6.8269",
         "13.011",
         "1.0666",
         "46.256",
         "18421.0",
         "1.7",
         "3.94",
         "6.84",
         "1.61",
         "6.76",
         "0.0"
        ],
        [
         "16",
         "9",
         "38",
         "2010-02-05 00:00:00",
         "83916.56",
         "False",
         "1083.81796875",
         "12.849576950073242",
         "19.7749",
         "16.3716",
         "11.386",
         "67.5286",
         "8.1133",
         "5.9522",
         "1.732",
         "4.0012",
         "35.1546",
         "26.3251",
         "52.0",
         "57.0",
         "10093.4",
         "0.098",
         "0.13",
         "73.6",
         "339580",
         "6.8269",
         "13.011",
         "1.0666",
         "46.256",
         "18421.0",
         "1.7",
         "3.94",
         "6.84",
         "1.61",
         "6.76",
         "0.0"
        ],
        [
         "17",
         "9",
         "40",
         "2010-02-05 00:00:00",
         "32427.39",
         "False",
         "1083.81796875",
         "12.849576950073242",
         "19.7749",
         "16.3716",
         "11.386",
         "67.5286",
         "8.1133",
         "5.9522",
         "1.732",
         "4.0012",
         "35.1546",
         "26.3251",
         "52.0",
         "57.0",
         "10093.4",
         "0.098",
         "0.13",
         "73.6",
         "339580",
         "6.8269",
         "13.011",
         "1.0666",
         "46.256",
         "18421.0",
         "1.7",
         "3.94",
         "6.84",
         "1.61",
         "6.76",
         "0.0"
        ],
        [
         "18",
         "9",
         "41",
         "2010-02-05 00:00:00",
         "714.0",
         "False",
         "1083.81796875",
         "12.849576950073242",
         "19.7749",
         "16.3716",
         "11.386",
         "67.5286",
         "8.1133",
         "5.9522",
         "1.732",
         "4.0012",
         "35.1546",
         "26.3251",
         "52.0",
         "57.0",
         "10093.4",
         "0.098",
         "0.13",
         "73.6",
         "339580",
         "6.8269",
         "13.011",
         "1.0666",
         "46.256",
         "18421.0",
         "1.7",
         "3.94",
         "6.84",
         "1.61",
         "6.76",
         "0.0"
        ],
        [
         "19",
         "19",
         "55",
         "2010-02-05 00:00:00",
         "18746.93",
         "False",
         "1083.81796875",
         "12.849576950073242",
         "19.7749",
         "16.3716",
         "11.386",
         "67.5286",
         "8.1133",
         "5.9522",
         "1.732",
         "4.0012",
         "35.1546",
         "26.3251",
         "52.0",
         "57.0",
         "10093.4",
         "0.098",
         "0.13",
         "73.6",
         "339580",
         "6.8269",
         "13.011",
         "1.0666",
         "46.256",
         "18421.0",
         "1.7",
         "3.94",
         "6.84",
         "1.61",
         "6.76",
         "0.0"
        ],
        [
         "20",
         "19",
         "74",
         "2010-02-05 00:00:00",
         "16702.26",
         "False",
         "1083.81796875",
         "12.849576950073242",
         "19.7749",
         "16.3716",
         "11.386",
         "67.5286",
         "8.1133",
         "5.9522",
         "1.732",
         "4.0012",
         "35.1546",
         "26.3251",
         "52.0",
         "57.0",
         "10093.4",
         "0.098",
         "0.13",
         "73.6",
         "339580",
         "6.8269",
         "13.011",
         "1.0666",
         "46.256",
         "18421.0",
         "1.7",
         "3.94",
         "6.84",
         "1.61",
         "6.76",
         "0.0"
        ],
        [
         "21",
         "9",
         "42",
         "2010-02-05 00:00:00",
         "2504.68",
         "False",
         "1083.81796875",
         "12.849576950073242",
         "19.7749",
         "16.3716",
         "11.386",
         "67.5286",
         "8.1133",
         "5.9522",
         "1.732",
         "4.0012",
         "35.1546",
         "26.3251",
         "52.0",
         "57.0",
         "10093.4",
         "0.098",
         "0.13",
         "73.6",
         "339580",
         "6.8269",
         "13.011",
         "1.0666",
         "46.256",
         "18421.0",
         "1.7",
         "3.94",
         "6.84",
         "1.61",
         "6.76",
         "0.0"
        ],
        [
         "22",
         "9",
         "96",
         "2010-02-05 00:00:00",
         "2438.08",
         "False",
         "1083.81796875",
         "12.849576950073242",
         "19.7749",
         "16.3716",
         "11.386",
         "67.5286",
         "8.1133",
         "5.9522",
         "1.732",
         "4.0012",
         "35.1546",
         "26.3251",
         "52.0",
         "57.0",
         "10093.4",
         "0.098",
         "0.13",
         "73.6",
         "339580",
         "6.8269",
         "13.011",
         "1.0666",
         "46.256",
         "18421.0",
         "1.7",
         "3.94",
         "6.84",
         "1.61",
         "6.76",
         "0.0"
        ],
        [
         "23",
         "9",
         "95",
         "2010-02-05 00:00:00",
         "23292.1",
         "False",
         "1083.81796875",
         "12.849576950073242",
         "19.7749",
         "16.3716",
         "11.386",
         "67.5286",
         "8.1133",
         "5.9522",
         "1.732",
         "4.0012",
         "35.1546",
         "26.3251",
         "52.0",
         "57.0",
         "10093.4",
         "0.098",
         "0.13",
         "73.6",
         "339580",
         "6.8269",
         "13.011",
         "1.0666",
         "46.256",
         "18421.0",
         "1.7",
         "3.94",
         "6.84",
         "1.61",
         "6.76",
         "0.0"
        ],
        [
         "24",
         "9",
         "2",
         "2010-02-05 00:00:00",
         "24917.84",
         "False",
         "1083.81796875",
         "12.849576950073242",
         "19.7749",
         "16.3716",
         "11.386",
         "67.5286",
         "8.1133",
         "5.9522",
         "1.732",
         "4.0012",
         "35.1546",
         "26.3251",
         "52.0",
         "57.0",
         "10093.4",
         "0.098",
         "0.13",
         "73.6",
         "339580",
         "6.8269",
         "13.011",
         "1.0666",
         "46.256",
         "18421.0",
         "1.7",
         "3.94",
         "6.84",
         "1.61",
         "6.76",
         "0.0"
        ],
        [
         "25",
         "9",
         "3",
         "2010-02-05 00:00:00",
         "6733.37",
         "False",
         "1083.81796875",
         "12.849576950073242",
         "19.7749",
         "16.3716",
         "11.386",
         "67.5286",
         "8.1133",
         "5.9522",
         "1.732",
         "4.0012",
         "35.1546",
         "26.3251",
         "52.0",
         "57.0",
         "10093.4",
         "0.098",
         "0.13",
         "73.6",
         "339580",
         "6.8269",
         "13.011",
         "1.0666",
         "46.256",
         "18421.0",
         "1.7",
         "3.94",
         "6.84",
         "1.61",
         "6.76",
         "0.0"
        ],
        [
         "26",
         "8",
         "93",
         "2010-02-05 00:00:00",
         "23348.83",
         "False",
         "1083.81796875",
         "12.849576950073242",
         "19.7749",
         "16.3716",
         "11.386",
         "67.5286",
         "8.1133",
         "5.9522",
         "1.732",
         "4.0012",
         "35.1546",
         "26.3251",
         "52.0",
         "57.0",
         "10093.4",
         "0.098",
         "0.13",
         "73.6",
         "339580",
         "6.8269",
         "13.011",
         "1.0666",
         "46.256",
         "18421.0",
         "1.7",
         "3.94",
         "6.84",
         "1.61",
         "6.76",
         "0.0"
        ],
        [
         "27",
         "9",
         "25",
         "2010-02-05 00:00:00",
         "6014.75",
         "False",
         "1083.81796875",
         "12.849576950073242",
         "19.7749",
         "16.3716",
         "11.386",
         "67.5286",
         "8.1133",
         "5.9522",
         "1.732",
         "4.0012",
         "35.1546",
         "26.3251",
         "52.0",
         "57.0",
         "10093.4",
         "0.098",
         "0.13",
         "73.6",
         "339580",
         "6.8269",
         "13.011",
         "1.0666",
         "46.256",
         "18421.0",
         "1.7",
         "3.94",
         "6.84",
         "1.61",
         "6.76",
         "0.0"
        ],
        [
         "28",
         "9",
         "26",
         "2010-02-05 00:00:00",
         "6076.44",
         "False",
         "1083.81796875",
         "12.849576950073242",
         "19.7749",
         "16.3716",
         "11.386",
         "67.5286",
         "8.1133",
         "5.9522",
         "1.732",
         "4.0012",
         "35.1546",
         "26.3251",
         "52.0",
         "57.0",
         "10093.4",
         "0.098",
         "0.13",
         "73.6",
         "339580",
         "6.8269",
         "13.011",
         "1.0666",
         "46.256",
         "18421.0",
         "1.7",
         "3.94",
         "6.84",
         "1.61",
         "6.76",
         "0.0"
        ],
        [
         "29",
         "9",
         "27",
         "2010-02-05 00:00:00",
         "1181.5",
         "False",
         "1083.81796875",
         "12.849576950073242",
         "19.7749",
         "16.3716",
         "11.386",
         "67.5286",
         "8.1133",
         "5.9522",
         "1.732",
         "4.0012",
         "35.1546",
         "26.3251",
         "52.0",
         "57.0",
         "10093.4",
         "0.098",
         "0.13",
         "73.6",
         "339580",
         "6.8269",
         "13.011",
         "1.0666",
         "46.256",
         "18421.0",
         "1.7",
         "3.94",
         "6.84",
         "1.61",
         "6.76",
         "0.0"
        ],
        [
         "30",
         "9",
         "59",
         "2010-02-05 00:00:00",
         "241.86",
         "False",
         "1083.81796875",
         "12.849576950073242",
         "19.7749",
         "16.3716",
         "11.386",
         "67.5286",
         "8.1133",
         "5.9522",
         "1.732",
         "4.0012",
         "35.1546",
         "26.3251",
         "52.0",
         "57.0",
         "10093.4",
         "0.098",
         "0.13",
         "73.6",
         "339580",
         "6.8269",
         "13.011",
         "1.0666",
         "46.256",
         "18421.0",
         "1.7",
         "3.94",
         "6.84",
         "1.61",
         "6.76",
         "0.0"
        ],
        [
         "31",
         "4",
         "94",
         "2010-02-05 00:00:00",
         "57647.52",
         "False",
         "1083.81796875",
         "12.849576950073242",
         "19.7749",
         "16.3716",
         "11.386",
         "67.5286",
         "8.1133",
         "5.9522",
         "1.732",
         "4.0012",
         "35.1546",
         "26.3251",
         "52.0",
         "57.0",
         "10093.4",
         "0.098",
         "0.13",
         "73.6",
         "339580",
         "6.8269",
         "13.011",
         "1.0666",
         "46.256",
         "18421.0",
         "1.7",
         "3.94",
         "6.84",
         "1.61",
         "6.76",
         "0.0"
        ],
        [
         "32",
         "9",
         "67",
         "2010-02-05 00:00:00",
         "3596.09",
         "False",
         "1083.81796875",
         "12.849576950073242",
         "19.7749",
         "16.3716",
         "11.386",
         "67.5286",
         "8.1133",
         "5.9522",
         "1.732",
         "4.0012",
         "35.1546",
         "26.3251",
         "52.0",
         "57.0",
         "10093.4",
         "0.098",
         "0.13",
         "73.6",
         "339580",
         "6.8269",
         "13.011",
         "1.0666",
         "46.256",
         "18421.0",
         "1.7",
         "3.94",
         "6.84",
         "1.61",
         "6.76",
         "0.0"
        ],
        [
         "33",
         "9",
         "71",
         "2010-02-05 00:00:00",
         "2479.26",
         "False",
         "1083.81796875",
         "12.849576950073242",
         "19.7749",
         "16.3716",
         "11.386",
         "67.5286",
         "8.1133",
         "5.9522",
         "1.732",
         "4.0012",
         "35.1546",
         "26.3251",
         "52.0",
         "57.0",
         "10093.4",
         "0.098",
         "0.13",
         "73.6",
         "339580",
         "6.8269",
         "13.011",
         "1.0666",
         "46.256",
         "18421.0",
         "1.7",
         "3.94",
         "6.84",
         "1.61",
         "6.76",
         "0.0"
        ],
        [
         "34",
         "9",
         "72",
         "2010-02-05 00:00:00",
         "51530.74",
         "False",
         "1083.81796875",
         "12.849576950073242",
         "19.7749",
         "16.3716",
         "11.386",
         "67.5286",
         "8.1133",
         "5.9522",
         "1.732",
         "4.0012",
         "35.1546",
         "26.3251",
         "52.0",
         "57.0",
         "10093.4",
         "0.098",
         "0.13",
         "73.6",
         "339580",
         "6.8269",
         "13.011",
         "1.0666",
         "46.256",
         "18421.0",
         "1.7",
         "3.94",
         "6.84",
         "1.61",
         "6.76",
         "0.0"
        ],
        [
         "35",
         "9",
         "74",
         "2010-02-05 00:00:00",
         "8076.88",
         "False",
         "1083.81796875",
         "12.849576950073242",
         "19.7749",
         "16.3716",
         "11.386",
         "67.5286",
         "8.1133",
         "5.9522",
         "1.732",
         "4.0012",
         "35.1546",
         "26.3251",
         "52.0",
         "57.0",
         "10093.4",
         "0.098",
         "0.13",
         "73.6",
         "339580",
         "6.8269",
         "13.011",
         "1.0666",
         "46.256",
         "18421.0",
         "1.7",
         "3.94",
         "6.84",
         "1.61",
         "6.76",
         "0.0"
        ],
        [
         "36",
         "9",
         "79",
         "2010-02-05 00:00:00",
         "14562.38",
         "False",
         "1083.81796875",
         "12.849576950073242",
         "19.7749",
         "16.3716",
         "11.386",
         "67.5286",
         "8.1133",
         "5.9522",
         "1.732",
         "4.0012",
         "35.1546",
         "26.3251",
         "52.0",
         "57.0",
         "10093.4",
         "0.098",
         "0.13",
         "73.6",
         "339580",
         "6.8269",
         "13.011",
         "1.0666",
         "46.256",
         "18421.0",
         "1.7",
         "3.94",
         "6.84",
         "1.61",
         "6.76",
         "0.0"
        ],
        [
         "37",
         "9",
         "81",
         "2010-02-05 00:00:00",
         "2056.57",
         "False",
         "1083.81796875",
         "12.849576950073242",
         "19.7749",
         "16.3716",
         "11.386",
         "67.5286",
         "8.1133",
         "5.9522",
         "1.732",
         "4.0012",
         "35.1546",
         "26.3251",
         "52.0",
         "57.0",
         "10093.4",
         "0.098",
         "0.13",
         "73.6",
         "339580",
         "6.8269",
         "13.011",
         "1.0666",
         "46.256",
         "18421.0",
         "1.7",
         "3.94",
         "6.84",
         "1.61",
         "6.76",
         "0.0"
        ],
        [
         "38",
         "9",
         "56",
         "2010-02-05 00:00:00",
         "769.32",
         "False",
         "1083.81796875",
         "12.849576950073242",
         "19.7749",
         "16.3716",
         "11.386",
         "67.5286",
         "8.1133",
         "5.9522",
         "1.732",
         "4.0012",
         "35.1546",
         "26.3251",
         "52.0",
         "57.0",
         "10093.4",
         "0.098",
         "0.13",
         "73.6",
         "339580",
         "6.8269",
         "13.011",
         "1.0666",
         "46.256",
         "18421.0",
         "1.7",
         "3.94",
         "6.84",
         "1.61",
         "6.76",
         "0.0"
        ],
        [
         "39",
         "9",
         "82",
         "2010-02-05 00:00:00",
         "8658.41",
         "False",
         "1083.81796875",
         "12.849576950073242",
         "19.7749",
         "16.3716",
         "11.386",
         "67.5286",
         "8.1133",
         "5.9522",
         "1.732",
         "4.0012",
         "35.1546",
         "26.3251",
         "52.0",
         "57.0",
         "10093.4",
         "0.098",
         "0.13",
         "73.6",
         "339580",
         "6.8269",
         "13.011",
         "1.0666",
         "46.256",
         "18421.0",
         "1.7",
         "3.94",
         "6.84",
         "1.61",
         "6.76",
         "0.0"
        ],
        [
         "40",
         "4",
         "93",
         "2010-02-05 00:00:00",
         "60623.33",
         "False",
         "1083.81796875",
         "12.849576950073242",
         "19.7749",
         "16.3716",
         "11.386",
         "67.5286",
         "8.1133",
         "5.9522",
         "1.732",
         "4.0012",
         "35.1546",
         "26.3251",
         "52.0",
         "57.0",
         "10093.4",
         "0.098",
         "0.13",
         "73.6",
         "339580",
         "6.8269",
         "13.011",
         "1.0666",
         "46.256",
         "18421.0",
         "1.7",
         "3.94",
         "6.84",
         "1.61",
         "6.76",
         "0.0"
        ],
        [
         "41",
         "9",
         "87",
         "2010-02-05 00:00:00",
         "11680.93",
         "False",
         "1083.81796875",
         "12.849576950073242",
         "19.7749",
         "16.3716",
         "11.386",
         "67.5286",
         "8.1133",
         "5.9522",
         "1.732",
         "4.0012",
         "35.1546",
         "26.3251",
         "52.0",
         "57.0",
         "10093.4",
         "0.098",
         "0.13",
         "73.6",
         "339580",
         "6.8269",
         "13.011",
         "1.0666",
         "46.256",
         "18421.0",
         "1.7",
         "3.94",
         "6.84",
         "1.61",
         "6.76",
         "0.0"
        ],
        [
         "42",
         "4",
         "95",
         "2010-02-05 00:00:00",
         "130722.18",
         "False",
         "1083.81796875",
         "12.849576950073242",
         "19.7749",
         "16.3716",
         "11.386",
         "67.5286",
         "8.1133",
         "5.9522",
         "1.732",
         "4.0012",
         "35.1546",
         "26.3251",
         "52.0",
         "57.0",
         "10093.4",
         "0.098",
         "0.13",
         "73.6",
         "339580",
         "6.8269",
         "13.011",
         "1.0666",
         "46.256",
         "18421.0",
         "1.7",
         "3.94",
         "6.84",
         "1.61",
         "6.76",
         "0.0"
        ],
        [
         "43",
         "9",
         "92",
         "2010-02-05 00:00:00",
         "11620.09",
         "False",
         "1083.81796875",
         "12.849576950073242",
         "19.7749",
         "16.3716",
         "11.386",
         "67.5286",
         "8.1133",
         "5.9522",
         "1.732",
         "4.0012",
         "35.1546",
         "26.3251",
         "52.0",
         "57.0",
         "10093.4",
         "0.098",
         "0.13",
         "73.6",
         "339580",
         "6.8269",
         "13.011",
         "1.0666",
         "46.256",
         "18421.0",
         "1.7",
         "3.94",
         "6.84",
         "1.61",
         "6.76",
         "0.0"
        ],
        [
         "44",
         "9",
         "90",
         "2010-02-05 00:00:00",
         "2335.92",
         "False",
         "1083.81796875",
         "12.849576950073242",
         "19.7749",
         "16.3716",
         "11.386",
         "67.5286",
         "8.1133",
         "5.9522",
         "1.732",
         "4.0012",
         "35.1546",
         "26.3251",
         "52.0",
         "57.0",
         "10093.4",
         "0.098",
         "0.13",
         "73.6",
         "339580",
         "6.8269",
         "13.011",
         "1.0666",
         "46.256",
         "18421.0",
         "1.7",
         "3.94",
         "6.84",
         "1.61",
         "6.76",
         "0.0"
        ],
        [
         "45",
         "9",
         "91",
         "2010-02-05 00:00:00",
         "292.64",
         "False",
         "1083.81796875",
         "12.849576950073242",
         "19.7749",
         "16.3716",
         "11.386",
         "67.5286",
         "8.1133",
         "5.9522",
         "1.732",
         "4.0012",
         "35.1546",
         "26.3251",
         "52.0",
         "57.0",
         "10093.4",
         "0.098",
         "0.13",
         "73.6",
         "339580",
         "6.8269",
         "13.011",
         "1.0666",
         "46.256",
         "18421.0",
         "1.7",
         "3.94",
         "6.84",
         "1.61",
         "6.76",
         "0.0"
        ],
        [
         "46",
         "14",
         "19",
         "2010-02-05 00:00:00",
         "74.91",
         "False",
         "1083.81796875",
         "12.849576950073242",
         "19.7749",
         "16.3716",
         "11.386",
         "67.5286",
         "8.1133",
         "5.9522",
         "1.732",
         "4.0012",
         "35.1546",
         "26.3251",
         "52.0",
         "57.0",
         "10093.4",
         "0.098",
         "0.13",
         "73.6",
         "339580",
         "6.8269",
         "13.011",
         "1.0666",
         "46.256",
         "18421.0",
         "1.7",
         "3.94",
         "6.84",
         "1.61",
         "6.76",
         "0.0"
        ],
        [
         "47",
         "7",
         "94",
         "2010-02-05 00:00:00",
         "4.22",
         "False",
         "1083.81796875",
         "12.849576950073242",
         "19.7749",
         "16.3716",
         "11.386",
         "67.5286",
         "8.1133",
         "5.9522",
         "1.732",
         "4.0012",
         "35.1546",
         "26.3251",
         "52.0",
         "57.0",
         "10093.4",
         "0.098",
         "0.13",
         "73.6",
         "339580",
         "6.8269",
         "13.011",
         "1.0666",
         "46.256",
         "18421.0",
         "1.7",
         "3.94",
         "6.84",
         "1.61",
         "6.76",
         "0.0"
        ],
        [
         "48",
         "7",
         "93",
         "2010-02-05 00:00:00",
         "524.27",
         "False",
         "1083.81796875",
         "12.849576950073242",
         "19.7749",
         "16.3716",
         "11.386",
         "67.5286",
         "8.1133",
         "5.9522",
         "1.732",
         "4.0012",
         "35.1546",
         "26.3251",
         "52.0",
         "57.0",
         "10093.4",
         "0.098",
         "0.13",
         "73.6",
         "339580",
         "6.8269",
         "13.011",
         "1.0666",
         "46.256",
         "18421.0",
         "1.7",
         "3.94",
         "6.84",
         "1.61",
         "6.76",
         "0.0"
        ],
        [
         "49",
         "7",
         "59",
         "2010-02-05 00:00:00",
         "196.88",
         "False",
         "1083.81796875",
         "12.849576950073242",
         "19.7749",
         "16.3716",
         "11.386",
         "67.5286",
         "8.1133",
         "5.9522",
         "1.732",
         "4.0012",
         "35.1546",
         "26.3251",
         "52.0",
         "57.0",
         "10093.4",
         "0.098",
         "0.13",
         "73.6",
         "339580",
         "6.8269",
         "13.011",
         "1.0666",
         "46.256",
         "18421.0",
         "1.7",
         "3.94",
         "6.84",
         "1.61",
         "6.76",
         "0.0"
        ]
       ],
       "shape": {
        "columns": 35,
        "rows": 421570
       }
      },
      "text/html": [
       "<div>\n",
       "<style scoped>\n",
       "    .dataframe tbody tr th:only-of-type {\n",
       "        vertical-align: middle;\n",
       "    }\n",
       "\n",
       "    .dataframe tbody tr th {\n",
       "        vertical-align: top;\n",
       "    }\n",
       "\n",
       "    .dataframe thead th {\n",
       "        text-align: right;\n",
       "    }\n",
       "</style>\n",
       "<table border=\"1\" class=\"dataframe\">\n",
       "  <thead>\n",
       "    <tr style=\"text-align: right;\">\n",
       "      <th></th>\n",
       "      <th>Store</th>\n",
       "      <th>Dept</th>\n",
       "      <th>Date</th>\n",
       "      <th>Weekly_Sales</th>\n",
       "      <th>IsHoliday</th>\n",
       "      <th>SP500_Weekly_Mean_Close</th>\n",
       "      <th>WMT_Weekly_Mean_Close</th>\n",
       "      <th>ARCB_df_logistics_Close</th>\n",
       "      <th>AIT_df_logistics_Close</th>\n",
       "      <th>CEVA_df_logistics_Close</th>\n",
       "      <th>...</th>\n",
       "      <th>MXN_per_USD</th>\n",
       "      <th>CAD_per_USD</th>\n",
       "      <th>INR_per_USD</th>\n",
       "      <th>VND_per_USD</th>\n",
       "      <th>US_TAX_Canada</th>\n",
       "      <th>US_TAX_China</th>\n",
       "      <th>US_TAX_India</th>\n",
       "      <th>US_TAX_Mexico</th>\n",
       "      <th>US_TAX_Vietnam</th>\n",
       "      <th>US_Tax_Return</th>\n",
       "    </tr>\n",
       "  </thead>\n",
       "  <tbody>\n",
       "    <tr>\n",
       "      <th>0</th>\n",
       "      <td>1</td>\n",
       "      <td>1</td>\n",
       "      <td>2010-02-05</td>\n",
       "      <td>24924.50</td>\n",
       "      <td>False</td>\n",
       "      <td>1083.817969</td>\n",
       "      <td>12.849577</td>\n",
       "      <td>19.7749</td>\n",
       "      <td>16.3716</td>\n",
       "      <td>11.386</td>\n",
       "      <td>...</td>\n",
       "      <td>13.0110</td>\n",
       "      <td>1.0666</td>\n",
       "      <td>46.256</td>\n",
       "      <td>18421.0</td>\n",
       "      <td>1.70</td>\n",
       "      <td>3.94</td>\n",
       "      <td>6.84</td>\n",
       "      <td>1.61</td>\n",
       "      <td>6.76</td>\n",
       "      <td>0.0</td>\n",
       "    </tr>\n",
       "    <tr>\n",
       "      <th>1</th>\n",
       "      <td>9</td>\n",
       "      <td>97</td>\n",
       "      <td>2010-02-05</td>\n",
       "      <td>668.48</td>\n",
       "      <td>False</td>\n",
       "      <td>1083.817969</td>\n",
       "      <td>12.849577</td>\n",
       "      <td>19.7749</td>\n",
       "      <td>16.3716</td>\n",
       "      <td>11.386</td>\n",
       "      <td>...</td>\n",
       "      <td>13.0110</td>\n",
       "      <td>1.0666</td>\n",
       "      <td>46.256</td>\n",
       "      <td>18421.0</td>\n",
       "      <td>1.70</td>\n",
       "      <td>3.94</td>\n",
       "      <td>6.84</td>\n",
       "      <td>1.61</td>\n",
       "      <td>6.76</td>\n",
       "      <td>0.0</td>\n",
       "    </tr>\n",
       "    <tr>\n",
       "      <th>2</th>\n",
       "      <td>9</td>\n",
       "      <td>85</td>\n",
       "      <td>2010-02-05</td>\n",
       "      <td>693.87</td>\n",
       "      <td>False</td>\n",
       "      <td>1083.817969</td>\n",
       "      <td>12.849577</td>\n",
       "      <td>19.7749</td>\n",
       "      <td>16.3716</td>\n",
       "      <td>11.386</td>\n",
       "      <td>...</td>\n",
       "      <td>13.0110</td>\n",
       "      <td>1.0666</td>\n",
       "      <td>46.256</td>\n",
       "      <td>18421.0</td>\n",
       "      <td>1.70</td>\n",
       "      <td>3.94</td>\n",
       "      <td>6.84</td>\n",
       "      <td>1.61</td>\n",
       "      <td>6.76</td>\n",
       "      <td>0.0</td>\n",
       "    </tr>\n",
       "    <tr>\n",
       "      <th>3</th>\n",
       "      <td>8</td>\n",
       "      <td>80</td>\n",
       "      <td>2010-02-05</td>\n",
       "      <td>8654.60</td>\n",
       "      <td>False</td>\n",
       "      <td>1083.817969</td>\n",
       "      <td>12.849577</td>\n",
       "      <td>19.7749</td>\n",
       "      <td>16.3716</td>\n",
       "      <td>11.386</td>\n",
       "      <td>...</td>\n",
       "      <td>13.0110</td>\n",
       "      <td>1.0666</td>\n",
       "      <td>46.256</td>\n",
       "      <td>18421.0</td>\n",
       "      <td>1.70</td>\n",
       "      <td>3.94</td>\n",
       "      <td>6.84</td>\n",
       "      <td>1.61</td>\n",
       "      <td>6.76</td>\n",
       "      <td>0.0</td>\n",
       "    </tr>\n",
       "    <tr>\n",
       "      <th>4</th>\n",
       "      <td>9</td>\n",
       "      <td>55</td>\n",
       "      <td>2010-02-05</td>\n",
       "      <td>11123.56</td>\n",
       "      <td>False</td>\n",
       "      <td>1083.817969</td>\n",
       "      <td>12.849577</td>\n",
       "      <td>19.7749</td>\n",
       "      <td>16.3716</td>\n",
       "      <td>11.386</td>\n",
       "      <td>...</td>\n",
       "      <td>13.0110</td>\n",
       "      <td>1.0666</td>\n",
       "      <td>46.256</td>\n",
       "      <td>18421.0</td>\n",
       "      <td>1.70</td>\n",
       "      <td>3.94</td>\n",
       "      <td>6.84</td>\n",
       "      <td>1.61</td>\n",
       "      <td>6.76</td>\n",
       "      <td>0.0</td>\n",
       "    </tr>\n",
       "    <tr>\n",
       "      <th>...</th>\n",
       "      <td>...</td>\n",
       "      <td>...</td>\n",
       "      <td>...</td>\n",
       "      <td>...</td>\n",
       "      <td>...</td>\n",
       "      <td>...</td>\n",
       "      <td>...</td>\n",
       "      <td>...</td>\n",
       "      <td>...</td>\n",
       "      <td>...</td>\n",
       "      <td>...</td>\n",
       "      <td>...</td>\n",
       "      <td>...</td>\n",
       "      <td>...</td>\n",
       "      <td>...</td>\n",
       "      <td>...</td>\n",
       "      <td>...</td>\n",
       "      <td>...</td>\n",
       "      <td>...</td>\n",
       "      <td>...</td>\n",
       "      <td>...</td>\n",
       "    </tr>\n",
       "    <tr>\n",
       "      <th>421565</th>\n",
       "      <td>36</td>\n",
       "      <td>42</td>\n",
       "      <td>2012-10-26</td>\n",
       "      <td>149.64</td>\n",
       "      <td>False</td>\n",
       "      <td>1416.117969</td>\n",
       "      <td>19.314762</td>\n",
       "      <td>6.9204</td>\n",
       "      <td>31.1912</td>\n",
       "      <td>14.826</td>\n",
       "      <td>...</td>\n",
       "      <td>12.9683</td>\n",
       "      <td>0.9950</td>\n",
       "      <td>53.612</td>\n",
       "      <td>20652.0</td>\n",
       "      <td>1.38</td>\n",
       "      <td>5.99</td>\n",
       "      <td>7.33</td>\n",
       "      <td>5.37</td>\n",
       "      <td>5.02</td>\n",
       "      <td>0.0</td>\n",
       "    </tr>\n",
       "    <tr>\n",
       "      <th>421566</th>\n",
       "      <td>27</td>\n",
       "      <td>3</td>\n",
       "      <td>2012-10-26</td>\n",
       "      <td>12431.35</td>\n",
       "      <td>False</td>\n",
       "      <td>1416.117969</td>\n",
       "      <td>19.314762</td>\n",
       "      <td>6.9204</td>\n",
       "      <td>31.1912</td>\n",
       "      <td>14.826</td>\n",
       "      <td>...</td>\n",
       "      <td>12.9683</td>\n",
       "      <td>0.9950</td>\n",
       "      <td>53.612</td>\n",
       "      <td>20652.0</td>\n",
       "      <td>1.38</td>\n",
       "      <td>5.99</td>\n",
       "      <td>7.33</td>\n",
       "      <td>5.37</td>\n",
       "      <td>5.02</td>\n",
       "      <td>0.0</td>\n",
       "    </tr>\n",
       "    <tr>\n",
       "      <th>421567</th>\n",
       "      <td>2</td>\n",
       "      <td>59</td>\n",
       "      <td>2012-10-26</td>\n",
       "      <td>287.25</td>\n",
       "      <td>False</td>\n",
       "      <td>1416.117969</td>\n",
       "      <td>19.314762</td>\n",
       "      <td>6.9204</td>\n",
       "      <td>31.1912</td>\n",
       "      <td>14.826</td>\n",
       "      <td>...</td>\n",
       "      <td>12.9683</td>\n",
       "      <td>0.9950</td>\n",
       "      <td>53.612</td>\n",
       "      <td>20652.0</td>\n",
       "      <td>1.38</td>\n",
       "      <td>5.99</td>\n",
       "      <td>7.33</td>\n",
       "      <td>5.37</td>\n",
       "      <td>5.02</td>\n",
       "      <td>0.0</td>\n",
       "    </tr>\n",
       "    <tr>\n",
       "      <th>421568</th>\n",
       "      <td>32</td>\n",
       "      <td>67</td>\n",
       "      <td>2012-10-26</td>\n",
       "      <td>8464.65</td>\n",
       "      <td>False</td>\n",
       "      <td>1416.117969</td>\n",
       "      <td>19.314762</td>\n",
       "      <td>6.9204</td>\n",
       "      <td>31.1912</td>\n",
       "      <td>14.826</td>\n",
       "      <td>...</td>\n",
       "      <td>12.9683</td>\n",
       "      <td>0.9950</td>\n",
       "      <td>53.612</td>\n",
       "      <td>20652.0</td>\n",
       "      <td>1.38</td>\n",
       "      <td>5.99</td>\n",
       "      <td>7.33</td>\n",
       "      <td>5.37</td>\n",
       "      <td>5.02</td>\n",
       "      <td>0.0</td>\n",
       "    </tr>\n",
       "    <tr>\n",
       "      <th>421569</th>\n",
       "      <td>45</td>\n",
       "      <td>98</td>\n",
       "      <td>2012-10-26</td>\n",
       "      <td>1076.80</td>\n",
       "      <td>False</td>\n",
       "      <td>1416.117969</td>\n",
       "      <td>19.314762</td>\n",
       "      <td>6.9204</td>\n",
       "      <td>31.1912</td>\n",
       "      <td>14.826</td>\n",
       "      <td>...</td>\n",
       "      <td>12.9683</td>\n",
       "      <td>0.9950</td>\n",
       "      <td>53.612</td>\n",
       "      <td>20652.0</td>\n",
       "      <td>1.38</td>\n",
       "      <td>5.99</td>\n",
       "      <td>7.33</td>\n",
       "      <td>5.37</td>\n",
       "      <td>5.02</td>\n",
       "      <td>0.0</td>\n",
       "    </tr>\n",
       "  </tbody>\n",
       "</table>\n",
       "<p>421570 rows × 35 columns</p>\n",
       "</div>"
      ],
      "text/plain": [
       "       Store  Dept       Date  Weekly_Sales  IsHoliday  \\\n",
       "0          1     1 2010-02-05      24924.50      False   \n",
       "1          9    97 2010-02-05        668.48      False   \n",
       "2          9    85 2010-02-05        693.87      False   \n",
       "3          8    80 2010-02-05       8654.60      False   \n",
       "4          9    55 2010-02-05      11123.56      False   \n",
       "...      ...   ...        ...           ...        ...   \n",
       "421565    36    42 2012-10-26        149.64      False   \n",
       "421566    27     3 2012-10-26      12431.35      False   \n",
       "421567     2    59 2012-10-26        287.25      False   \n",
       "421568    32    67 2012-10-26       8464.65      False   \n",
       "421569    45    98 2012-10-26       1076.80      False   \n",
       "\n",
       "        SP500_Weekly_Mean_Close  WMT_Weekly_Mean_Close  \\\n",
       "0                   1083.817969              12.849577   \n",
       "1                   1083.817969              12.849577   \n",
       "2                   1083.817969              12.849577   \n",
       "3                   1083.817969              12.849577   \n",
       "4                   1083.817969              12.849577   \n",
       "...                         ...                    ...   \n",
       "421565              1416.117969              19.314762   \n",
       "421566              1416.117969              19.314762   \n",
       "421567              1416.117969              19.314762   \n",
       "421568              1416.117969              19.314762   \n",
       "421569              1416.117969              19.314762   \n",
       "\n",
       "        ARCB_df_logistics_Close  AIT_df_logistics_Close  \\\n",
       "0                       19.7749                 16.3716   \n",
       "1                       19.7749                 16.3716   \n",
       "2                       19.7749                 16.3716   \n",
       "3                       19.7749                 16.3716   \n",
       "4                       19.7749                 16.3716   \n",
       "...                         ...                     ...   \n",
       "421565                   6.9204                 31.1912   \n",
       "421566                   6.9204                 31.1912   \n",
       "421567                   6.9204                 31.1912   \n",
       "421568                   6.9204                 31.1912   \n",
       "421569                   6.9204                 31.1912   \n",
       "\n",
       "        CEVA_df_logistics_Close  ...  MXN_per_USD  CAD_per_USD  INR_per_USD  \\\n",
       "0                        11.386  ...      13.0110       1.0666       46.256   \n",
       "1                        11.386  ...      13.0110       1.0666       46.256   \n",
       "2                        11.386  ...      13.0110       1.0666       46.256   \n",
       "3                        11.386  ...      13.0110       1.0666       46.256   \n",
       "4                        11.386  ...      13.0110       1.0666       46.256   \n",
       "...                         ...  ...          ...          ...          ...   \n",
       "421565                   14.826  ...      12.9683       0.9950       53.612   \n",
       "421566                   14.826  ...      12.9683       0.9950       53.612   \n",
       "421567                   14.826  ...      12.9683       0.9950       53.612   \n",
       "421568                   14.826  ...      12.9683       0.9950       53.612   \n",
       "421569                   14.826  ...      12.9683       0.9950       53.612   \n",
       "\n",
       "        VND_per_USD  US_TAX_Canada  US_TAX_China  US_TAX_India  US_TAX_Mexico  \\\n",
       "0           18421.0           1.70          3.94          6.84           1.61   \n",
       "1           18421.0           1.70          3.94          6.84           1.61   \n",
       "2           18421.0           1.70          3.94          6.84           1.61   \n",
       "3           18421.0           1.70          3.94          6.84           1.61   \n",
       "4           18421.0           1.70          3.94          6.84           1.61   \n",
       "...             ...            ...           ...           ...            ...   \n",
       "421565      20652.0           1.38          5.99          7.33           5.37   \n",
       "421566      20652.0           1.38          5.99          7.33           5.37   \n",
       "421567      20652.0           1.38          5.99          7.33           5.37   \n",
       "421568      20652.0           1.38          5.99          7.33           5.37   \n",
       "421569      20652.0           1.38          5.99          7.33           5.37   \n",
       "\n",
       "        US_TAX_Vietnam  US_Tax_Return  \n",
       "0                 6.76            0.0  \n",
       "1                 6.76            0.0  \n",
       "2                 6.76            0.0  \n",
       "3                 6.76            0.0  \n",
       "4                 6.76            0.0  \n",
       "...                ...            ...  \n",
       "421565            5.02            0.0  \n",
       "421566            5.02            0.0  \n",
       "421567            5.02            0.0  \n",
       "421568            5.02            0.0  \n",
       "421569            5.02            0.0  \n",
       "\n",
       "[421570 rows x 35 columns]"
      ]
     },
     "execution_count": 120,
     "metadata": {},
     "output_type": "execute_result"
    }
   ],
   "source": [
    "df_wm_train"
   ]
  },
  {
   "cell_type": "markdown",
   "id": "9998a599",
   "metadata": {},
   "source": [
    "## Data Transformation"
   ]
  },
  {
   "cell_type": "code",
   "execution_count": null,
   "id": "5d33fc7e",
   "metadata": {},
   "outputs": [],
   "source": []
  }
 ],
 "metadata": {
  "kernelspec": {
   "display_name": "base",
   "language": "python",
   "name": "python3"
  },
  "language_info": {
   "codemirror_mode": {
    "name": "ipython",
    "version": 3
   },
   "file_extension": ".py",
   "mimetype": "text/x-python",
   "name": "python",
   "nbconvert_exporter": "python",
   "pygments_lexer": "ipython3",
   "version": "3.12.3"
  }
 },
 "nbformat": 4,
 "nbformat_minor": 5
}
